{
 "cells": [
  {
   "cell_type": "markdown",
   "metadata": {},
   "source": [
    "# Word Generation In $G=\\mathbb{Z}_d^{*m},\\ d>2$\n",
    "\n",
    "### Define, for all $i\\in\\mathbb{Z}_{>0}$, $x_i$, with the relation $x_i^d=1$. Write $G=*_{i=1}^m\\langle x_i|x_i^d=1\\rangle$, with generating set $S=\\bigcup_{i=1}^m S_i$, with $S_i=\\{x_i\\}$.\n",
    "\n",
    "Our interest is to generate all the **excursions** on the Cayley Graph of $G$ wrt $S$. These are words that end up back at one (Eg. $x_1x_2x_3x_3x_3x_2x_2x_1^{-1}$ for $d=3$ ). To avoid redundancy, we can generate **simple excursions**, those that don't go back to 1 \"too early\".\n",
    "\n",
    "Let $Z_{g,X}$ be the set of words ($\\in S^*$) that evaluates to $g\\in G$ and contains no proper prefix in $X\\subseteq G$.\n",
    "Let $Z_{g,X}^{(n)}$ be such words of length $n$. In most cases, we only need $X\\subseteq S\\cup\\{1\\}$.\n",
    "\n",
    "Our Goal is to find $Z_{1,\\emptyset}^{(n)}$ for some small $n$. Contenations of such words of varied $n$ gives another such word. To avoid redundency, We could compute $Z_{1,\\{1\\}}^{(n)}$, and notice that \n",
    "\n",
    "$$Z_{1,\\emptyset}^{(n)}=\\left(\\cup_{\\lambda}[\\times_{i}Z_{1,\\{1\\}}^{(\\lambda_i)}]\\right)\\cup Z_{1,\\{1\\}}^{(n)}$$\n",
    "\n",
    "where $\\lambda=(\\lambda_i)$ ranges over the $2^{n-1}-1$ nontrivial compositions of $n$. Furthermore, the $2^{n-1}$ sets involved in the union expression are pairwise disjoint. \n",
    "\n",
    "In fact, there is an even simpler way. For each $1\\le r \\le n$, Compute, ___assuming___ $m=r$, the elements $w$ of $Z_{1,\\{1\\}}^{(n)}$ such that, for each $i=1,2,...,r$, we can write $w=ux_iv$, where $u\\in \\{x_1,..., x_{i-1}\\}^*$. Equivalently, for $1\\le i<j \\le r$, the first occurence of $x_i$ is to the left of the first occurence of $x_j$. Call these **canonical simple excursions**. Let $\\bar{P}_{n,r}$ denote the number of such elements. Let $\\bar{P}_{n}(m)=|Z_{1,\\{1\\}}^{(n)}|$, and $P_{n}(m)=|Z_{1,\\emptyset}^{(n)}|$ for any given $m$. We are interested in obtaining $P_n(m)$.\n",
    "\n",
    "We have the amazing identity  $$\\bar{P}_n(m)=\\sum_{r=1}^n \\bar{P}_{n,r}\\cdot (m)_r,$$ where $(t)_r=t(t-1)(t-2)...(t-r+1)\\in \\mathbb{Z}[t]$ is the falling factorial polynomial of degree $r$. [Jonah: Prove this identity]\n",
    "\n",
    "\n",
    "Notice that $\\bar{P}_{n,r}>0$ if $d|n$ and either $r=n=0$ or $1\\le r\\le \\frac{n}{d}$,<br>\n",
    "(Why is this? **Hint:** What do simple excursions that start and end with $x_1$ look like in general?) \n",
    "and $\\bar{P}_{n,r}=0$ otherwise.\n",
    "\n",
    "Thus, $\\bar{P}_{n}(m)$ is 0 for odd $n$, and a degree $\\frac{n}{d}$ polynomial in $m$ for even $n$. Same can be said for $P_n(m)$ (Explain why).\n"
   ]
  },
  {
   "cell_type": "markdown",
   "metadata": {},
   "source": [
    "Here, we use the integer $i$, to denote $x_i$. Words will be represented as tuples of integers."
   ]
  },
  {
   "cell_type": "code",
   "execution_count": 65,
   "metadata": {},
   "outputs": [],
   "source": [
    "var('m')\n",
    "d=4"
   ]
  },
  {
   "cell_type": "code",
   "execution_count": 66,
   "metadata": {},
   "outputs": [],
   "source": [
    "def char_inv(c):\n",
    "    '''\n",
    "    Returns the word that maps to the inverse element of c\n",
    "    This is c^(d-1) in a tuple representation\n",
    "    '''\n",
    "    return (c,)*(d-1)\n",
    "    \n",
    "\n",
    "\n",
    "class Word_Zdm(object):\n",
    "    def __init__(self,w=[]):\n",
    "        self.w = []\n",
    "        self.wred = [] # reduced word of w\n",
    "        for c in w:\n",
    "            self.add_char(c)\n",
    "    \n",
    "    def add_char(self,c):\n",
    "        w = self.w\n",
    "        wred = self.wred\n",
    "        w.append(c)\n",
    "        for i in (1..d-1):\n",
    "            if i>len(wred) or wred[-i]!=c:\n",
    "                wred.append(c)\n",
    "                break\n",
    "        else:\n",
    "            wred[-d+1:]=[]\n",
    "    \n",
    "    def del_last(self):\n",
    "        # assume w is nonempty\n",
    "        w = self.w\n",
    "        wred = self.wred\n",
    "        c = w.pop()\n",
    "        if wred[-1:]==[c]:\n",
    "            wred.pop()\n",
    "        else:\n",
    "            wred.extend(char_inv(c))\n",
    "        return c\n",
    "        \n",
    "    def last(self):\n",
    "        return self.w[-1]\n",
    "        \n",
    "    def word(self):\n",
    "        return tuple(self.w)\n",
    "    \n",
    "    def reduced_word(self):\n",
    "        return tuple(self.wred)\n",
    "    \n",
    "    def __len__(self):\n",
    "        return len(self.w)\n",
    "    \n",
    "    def reduced_length(self):\n",
    "        return len(self.wred)\n",
    "        \n",
    "    def __str__(self):\n",
    "        return str(self.word())\n",
    "    \n",
    "    def __iter__(self):\n",
    "        return iter(self.w)\n",
    "    \n",
    "    def clone(self):\n",
    "        # bit more efficient than calling Word_Z2Z(self)\n",
    "        other = Word_Z2Z()\n",
    "        other.w = list(self.w)\n",
    "        other.wred = list(self.wred)\n",
    "        return other\n",
    "    \n",
    "    def clear(self):\n",
    "        self.w = []\n",
    "        self.wred = []"
   ]
  },
  {
   "cell_type": "code",
   "execution_count": 67,
   "metadata": {},
   "outputs": [],
   "source": [
    "wgen = Word_Zdm()"
   ]
  },
  {
   "cell_type": "code",
   "execution_count": 68,
   "metadata": {},
   "outputs": [],
   "source": [
    "from collections import defaultdict\n",
    "import time\n",
    "from datetime import timedelta"
   ]
  },
  {
   "cell_type": "code",
   "execution_count": 69,
   "metadata": {},
   "outputs": [],
   "source": [
    "KEY = 16\n",
    "def hash_word(w):\n",
    "    h = 0\n",
    "    for c in w:\n",
    "        h *= KEY\n",
    "        h += c\n",
    "    return h\n",
    "\n",
    "def unhash_word(h):\n",
    "    w = []\n",
    "    while h:\n",
    "        w.insert(0,h%KEY)\n",
    "        h//=KEY\n",
    "    return tuple(w)\n",
    "\n"
   ]
  },
  {
   "cell_type": "code",
   "execution_count": 70,
   "metadata": {},
   "outputs": [],
   "source": [
    "def gen_canonical_simple_excursions_up_to_length(n, wgen, wlist, maxindex=1, cont_mi=False):\n",
    "    '''\n",
    "        Populates wlist, assumed to be defaultdict(list) object with (k,r) missing key for each 0<=k<=n, 0<=r<=n/d.\n",
    "        Upon termination, wlist[(k,r)] is a sorted list canonical simple excursions of G when m=r.\n",
    "        Parameters:\n",
    "            n: maximum length of all words to be considered\n",
    "            wgen: A Word_Zdm instance, assumed empty\n",
    "            maxindex: maximum possible i, so that x_i can be appended to the current word\n",
    "            wlist: defaultdict(list) object\n",
    "            cont_mi: bool type, True iff currect word contains the maximum index allowed\n",
    "        Return:\n",
    "            None\n",
    "    '''\n",
    "    if not wgen.reduced_length():\n",
    "        wlist[(ZZ(len(wgen)), ZZ(maxindex-int(not cont_mi)))].append((wgen.word()))\n",
    "        if len(wgen):\n",
    "            return\n",
    "    if len(wgen)<n and wgen.reduced_length()+len(wgen)*(d-1)<=n*(d-1):\n",
    "        for i in range(1,maxindex+1):\n",
    "            # standard backtracking approach\n",
    "            wgen.add_char(i)\n",
    "            # assume i=maxindex, so that nxt_mi=i+1 is not yet visited\n",
    "            flag = False\n",
    "            nxt_mi = i+1\n",
    "            if nxt_mi<=maxindex:\n",
    "                # assumption wrong. i is still too small. \n",
    "                # If maxindex has not appeared up to now, it will not appear with the additional character.\n",
    "                nxt_mi=maxindex\n",
    "                flag = cont_mi\n",
    "            if nxt_mi>n//d:\n",
    "                # Gone too far, cannot come back in time\n",
    "                # Can cut the next index by the pigeonhole principle.\n",
    "                nxt_mi = maxindex\n",
    "                flag = True\n",
    "            gen_canonical_simple_excursions_up_to_length(n,wgen,wlist,nxt_mi, flag)\n",
    "            wgen.del_last()\n",
    "        \n",
    "        "
   ]
  },
  {
   "cell_type": "code",
   "execution_count": 82,
   "metadata": {},
   "outputs": [],
   "source": [
    "maxlen =(15//d)*d\n",
    "cse_by_len = defaultdict(list)\n",
    "gen_canonical_simple_excursions_up_to_length(maxlen,wgen,cse_by_len)\n",
    "wgen.clear()"
   ]
  },
  {
   "cell_type": "code",
   "execution_count": 83,
   "metadata": {},
   "outputs": [
    {
     "name": "stdout",
     "output_type": "stream",
     "text": [
      "0 0 1\n",
      "4 1 1\n",
      "8 2 3\n",
      "12 2 15\n",
      "12 3 15\n",
      "defaultdict(<class 'list'>, {(0, 0): [()], (4, 1): [(1, 1, 1, 1)], (12, 2): [(1, 1, 1, 2, 1, 1, 1, 1, 2, 2, 2, 1), (1, 1, 1, 2, 2, 1, 1, 1, 1, 2, 2, 1), (1, 1, 1, 2, 2, 2, 1, 1, 1, 1, 2, 1), (1, 1, 1, 2, 2, 2, 2, 2, 2, 2, 2, 1), (1, 1, 2, 1, 1, 1, 1, 2, 2, 2, 1, 1), (1, 1, 2, 2, 1, 1, 1, 1, 2, 2, 1, 1), (1, 1, 2, 2, 2, 1, 1, 1, 1, 2, 1, 1), (1, 1, 2, 2, 2, 2, 1, 2, 2, 2, 2, 1), (1, 1, 2, 2, 2, 2, 2, 2, 2, 2, 1, 1), (1, 2, 1, 1, 1, 1, 2, 2, 2, 1, 1, 1), (1, 2, 2, 1, 1, 1, 1, 2, 2, 1, 1, 1), (1, 2, 2, 2, 1, 1, 1, 1, 2, 1, 1, 1), (1, 2, 2, 2, 2, 1, 1, 2, 2, 2, 2, 1), (1, 2, 2, 2, 2, 1, 2, 2, 2, 2, 1, 1), (1, 2, 2, 2, 2, 2, 2, 2, 2, 1, 1, 1)], (8, 2): [(1, 1, 1, 2, 2, 2, 2, 1), (1, 1, 2, 2, 2, 2, 1, 1), (1, 2, 2, 2, 2, 1, 1, 1)], (12, 3): [(1, 1, 1, 2, 2, 2, 2, 3, 3, 3, 3, 1), (1, 1, 1, 2, 2, 2, 3, 3, 3, 3, 2, 1), (1, 1, 1, 2, 2, 3, 3, 3, 3, 2, 2, 1), (1, 1, 1, 2, 3, 3, 3, 3, 2, 2, 2, 1), (1, 1, 2, 2, 2, 2, 1, 3, 3, 3, 3, 1), (1, 1, 2, 2, 2, 2, 3, 3, 3, 3, 1, 1), (1, 1, 2, 2, 2, 3, 3, 3, 3, 2, 1, 1), (1, 1, 2, 2, 3, 3, 3, 3, 2, 2, 1, 1), (1, 1, 2, 3, 3, 3, 3, 2, 2, 2, 1, 1), (1, 2, 2, 2, 2, 1, 1, 3, 3, 3, 3, 1), (1, 2, 2, 2, 2, 1, 3, 3, 3, 3, 1, 1), (1, 2, 2, 2, 2, 3, 3, 3, 3, 1, 1, 1), (1, 2, 2, 2, 3, 3, 3, 3, 2, 1, 1, 1), (1, 2, 2, 3, 3, 3, 3, 2, 2, 1, 1, 1), (1, 2, 3, 3, 3, 3, 2, 2, 2, 1, 1, 1)]})\n",
      "35\n"
     ]
    }
   ],
   "source": [
    "for (n,r) in sorted(cse_by_len):\n",
    "    print(n,r,len(cse_by_len[(n,r)]))\n",
    "print(cse_by_len)\n",
    "print(sum(map(len, cse_by_len.values())))"
   ]
  },
  {
   "cell_type": "code",
   "execution_count": 84,
   "metadata": {},
   "outputs": [],
   "source": [
    "\n",
    "\n",
    "def time_test(func, params):\n",
    "    runtimes = []\n",
    "    for p in params:\n",
    "        start = time.time()\n",
    "        func(p)\n",
    "        end = time.time()\n",
    "        runtimes.append((p, end-start))\n",
    "    return runtimes\n",
    "    "
   ]
  },
  {
   "cell_type": "code",
   "execution_count": 85,
   "metadata": {},
   "outputs": [
    {
     "ename": "KeyboardInterrupt",
     "evalue": "",
     "output_type": "error",
     "traceback": [
      "\u001b[0;31m---------------------------------------------------------------------------\u001b[0m",
      "\u001b[0;31mKeyboardInterrupt\u001b[0m                         Traceback (most recent call last)",
      "\u001b[0;32m<ipython-input-85-e07939b14554>\u001b[0m in \u001b[0;36m<module>\u001b[0;34m()\u001b[0m\n\u001b[1;32m      1\u001b[0m \u001b[0mwgen\u001b[0m\u001b[0;34m.\u001b[0m\u001b[0mclear\u001b[0m\u001b[0;34m(\u001b[0m\u001b[0;34m)\u001b[0m\u001b[0;34m\u001b[0m\u001b[0;34m\u001b[0m\u001b[0m\n\u001b[0;32m----> 2\u001b[0;31m \u001b[0mruntimes\u001b[0m \u001b[0;34m=\u001b[0m \u001b[0mtime_test\u001b[0m\u001b[0;34m(\u001b[0m\u001b[0;32mlambda\u001b[0m \u001b[0mn\u001b[0m\u001b[0;34m:\u001b[0m \u001b[0mgen_canonical_simple_excursions_up_to_length\u001b[0m\u001b[0;34m(\u001b[0m\u001b[0mn\u001b[0m\u001b[0;34m,\u001b[0m\u001b[0mwgen\u001b[0m\u001b[0;34m,\u001b[0m\u001b[0mdefaultdict\u001b[0m\u001b[0;34m(\u001b[0m\u001b[0mlist\u001b[0m\u001b[0;34m)\u001b[0m\u001b[0;34m)\u001b[0m\u001b[0;34m,\u001b[0m \u001b[0mrange\u001b[0m\u001b[0;34m(\u001b[0m\u001b[0md\u001b[0m\u001b[0;34m,\u001b[0m\u001b[0mInteger\u001b[0m\u001b[0;34m(\u001b[0m\u001b[0;36m5\u001b[0m\u001b[0;34m)\u001b[0m\u001b[0;34m*\u001b[0m\u001b[0md\u001b[0m\u001b[0;34m+\u001b[0m\u001b[0mInteger\u001b[0m\u001b[0;34m(\u001b[0m\u001b[0;36m1\u001b[0m\u001b[0;34m)\u001b[0m\u001b[0;34m,\u001b[0m\u001b[0md\u001b[0m\u001b[0;34m)\u001b[0m\u001b[0;34m)\u001b[0m\u001b[0;34m\u001b[0m\u001b[0;34m\u001b[0m\u001b[0m\n\u001b[0m\u001b[1;32m      3\u001b[0m \u001b[0mruntimes\u001b[0m\u001b[0;34m\u001b[0m\u001b[0;34m\u001b[0m\u001b[0m\n",
      "\u001b[0;32m<ipython-input-84-552c9f88ee53>\u001b[0m in \u001b[0;36mtime_test\u001b[0;34m(func, params)\u001b[0m\n\u001b[1;32m      5\u001b[0m     \u001b[0;32mfor\u001b[0m \u001b[0mp\u001b[0m \u001b[0;32min\u001b[0m \u001b[0mparams\u001b[0m\u001b[0;34m:\u001b[0m\u001b[0;34m\u001b[0m\u001b[0;34m\u001b[0m\u001b[0m\n\u001b[1;32m      6\u001b[0m         \u001b[0mstart\u001b[0m \u001b[0;34m=\u001b[0m \u001b[0mtime\u001b[0m\u001b[0;34m.\u001b[0m\u001b[0mtime\u001b[0m\u001b[0;34m(\u001b[0m\u001b[0;34m)\u001b[0m\u001b[0;34m\u001b[0m\u001b[0;34m\u001b[0m\u001b[0m\n\u001b[0;32m----> 7\u001b[0;31m         \u001b[0mfunc\u001b[0m\u001b[0;34m(\u001b[0m\u001b[0mp\u001b[0m\u001b[0;34m)\u001b[0m\u001b[0;34m\u001b[0m\u001b[0;34m\u001b[0m\u001b[0m\n\u001b[0m\u001b[1;32m      8\u001b[0m         \u001b[0mend\u001b[0m \u001b[0;34m=\u001b[0m \u001b[0mtime\u001b[0m\u001b[0;34m.\u001b[0m\u001b[0mtime\u001b[0m\u001b[0;34m(\u001b[0m\u001b[0;34m)\u001b[0m\u001b[0;34m\u001b[0m\u001b[0;34m\u001b[0m\u001b[0m\n\u001b[1;32m      9\u001b[0m         \u001b[0mruntimes\u001b[0m\u001b[0;34m.\u001b[0m\u001b[0mappend\u001b[0m\u001b[0;34m(\u001b[0m\u001b[0;34m(\u001b[0m\u001b[0mp\u001b[0m\u001b[0;34m,\u001b[0m \u001b[0mend\u001b[0m\u001b[0;34m-\u001b[0m\u001b[0mstart\u001b[0m\u001b[0;34m)\u001b[0m\u001b[0;34m)\u001b[0m\u001b[0;34m\u001b[0m\u001b[0;34m\u001b[0m\u001b[0m\n",
      "\u001b[0;32m<ipython-input-85-e07939b14554>\u001b[0m in \u001b[0;36m<lambda>\u001b[0;34m(n)\u001b[0m\n\u001b[1;32m      1\u001b[0m \u001b[0mwgen\u001b[0m\u001b[0;34m.\u001b[0m\u001b[0mclear\u001b[0m\u001b[0;34m(\u001b[0m\u001b[0;34m)\u001b[0m\u001b[0;34m\u001b[0m\u001b[0;34m\u001b[0m\u001b[0m\n\u001b[0;32m----> 2\u001b[0;31m \u001b[0mruntimes\u001b[0m \u001b[0;34m=\u001b[0m \u001b[0mtime_test\u001b[0m\u001b[0;34m(\u001b[0m\u001b[0;32mlambda\u001b[0m \u001b[0mn\u001b[0m\u001b[0;34m:\u001b[0m \u001b[0mgen_canonical_simple_excursions_up_to_length\u001b[0m\u001b[0;34m(\u001b[0m\u001b[0mn\u001b[0m\u001b[0;34m,\u001b[0m\u001b[0mwgen\u001b[0m\u001b[0;34m,\u001b[0m\u001b[0mdefaultdict\u001b[0m\u001b[0;34m(\u001b[0m\u001b[0mlist\u001b[0m\u001b[0;34m)\u001b[0m\u001b[0;34m)\u001b[0m\u001b[0;34m,\u001b[0m \u001b[0mrange\u001b[0m\u001b[0;34m(\u001b[0m\u001b[0md\u001b[0m\u001b[0;34m,\u001b[0m\u001b[0mInteger\u001b[0m\u001b[0;34m(\u001b[0m\u001b[0;36m5\u001b[0m\u001b[0;34m)\u001b[0m\u001b[0;34m*\u001b[0m\u001b[0md\u001b[0m\u001b[0;34m+\u001b[0m\u001b[0mInteger\u001b[0m\u001b[0;34m(\u001b[0m\u001b[0;36m1\u001b[0m\u001b[0;34m)\u001b[0m\u001b[0;34m,\u001b[0m\u001b[0md\u001b[0m\u001b[0;34m)\u001b[0m\u001b[0;34m)\u001b[0m\u001b[0;34m\u001b[0m\u001b[0;34m\u001b[0m\u001b[0m\n\u001b[0m\u001b[1;32m      3\u001b[0m \u001b[0mruntimes\u001b[0m\u001b[0;34m\u001b[0m\u001b[0;34m\u001b[0m\u001b[0m\n",
      "\u001b[0;32m<ipython-input-70-260258021b05>\u001b[0m in \u001b[0;36mgen_canonical_simple_excursions_up_to_length\u001b[0;34m(n, wgen, wlist, maxindex, cont_mi)\u001b[0m\n\u001b[1;32m     33\u001b[0m                 \u001b[0mnxt_mi\u001b[0m \u001b[0;34m=\u001b[0m \u001b[0mmaxindex\u001b[0m\u001b[0;34m\u001b[0m\u001b[0;34m\u001b[0m\u001b[0m\n\u001b[1;32m     34\u001b[0m                 \u001b[0mflag\u001b[0m \u001b[0;34m=\u001b[0m \u001b[0;32mTrue\u001b[0m\u001b[0;34m\u001b[0m\u001b[0;34m\u001b[0m\u001b[0m\n\u001b[0;32m---> 35\u001b[0;31m             \u001b[0mgen_canonical_simple_excursions_up_to_length\u001b[0m\u001b[0;34m(\u001b[0m\u001b[0mn\u001b[0m\u001b[0;34m,\u001b[0m\u001b[0mwgen\u001b[0m\u001b[0;34m,\u001b[0m\u001b[0mwlist\u001b[0m\u001b[0;34m,\u001b[0m\u001b[0mnxt_mi\u001b[0m\u001b[0;34m,\u001b[0m \u001b[0mflag\u001b[0m\u001b[0;34m)\u001b[0m\u001b[0;34m\u001b[0m\u001b[0;34m\u001b[0m\u001b[0m\n\u001b[0m\u001b[1;32m     36\u001b[0m             \u001b[0mwgen\u001b[0m\u001b[0;34m.\u001b[0m\u001b[0mdel_last\u001b[0m\u001b[0;34m(\u001b[0m\u001b[0;34m)\u001b[0m\u001b[0;34m\u001b[0m\u001b[0;34m\u001b[0m\u001b[0m\n\u001b[1;32m     37\u001b[0m \u001b[0;34m\u001b[0m\u001b[0m\n",
      "\u001b[0;32m<ipython-input-70-260258021b05>\u001b[0m in \u001b[0;36mgen_canonical_simple_excursions_up_to_length\u001b[0;34m(n, wgen, wlist, maxindex, cont_mi)\u001b[0m\n\u001b[1;32m     33\u001b[0m                 \u001b[0mnxt_mi\u001b[0m \u001b[0;34m=\u001b[0m \u001b[0mmaxindex\u001b[0m\u001b[0;34m\u001b[0m\u001b[0;34m\u001b[0m\u001b[0m\n\u001b[1;32m     34\u001b[0m                 \u001b[0mflag\u001b[0m \u001b[0;34m=\u001b[0m \u001b[0;32mTrue\u001b[0m\u001b[0;34m\u001b[0m\u001b[0;34m\u001b[0m\u001b[0m\n\u001b[0;32m---> 35\u001b[0;31m             \u001b[0mgen_canonical_simple_excursions_up_to_length\u001b[0m\u001b[0;34m(\u001b[0m\u001b[0mn\u001b[0m\u001b[0;34m,\u001b[0m\u001b[0mwgen\u001b[0m\u001b[0;34m,\u001b[0m\u001b[0mwlist\u001b[0m\u001b[0;34m,\u001b[0m\u001b[0mnxt_mi\u001b[0m\u001b[0;34m,\u001b[0m \u001b[0mflag\u001b[0m\u001b[0;34m)\u001b[0m\u001b[0;34m\u001b[0m\u001b[0;34m\u001b[0m\u001b[0m\n\u001b[0m\u001b[1;32m     36\u001b[0m             \u001b[0mwgen\u001b[0m\u001b[0;34m.\u001b[0m\u001b[0mdel_last\u001b[0m\u001b[0;34m(\u001b[0m\u001b[0;34m)\u001b[0m\u001b[0;34m\u001b[0m\u001b[0;34m\u001b[0m\u001b[0m\n\u001b[1;32m     37\u001b[0m \u001b[0;34m\u001b[0m\u001b[0m\n",
      "\u001b[0;32m<ipython-input-70-260258021b05>\u001b[0m in \u001b[0;36mgen_canonical_simple_excursions_up_to_length\u001b[0;34m(n, wgen, wlist, maxindex, cont_mi)\u001b[0m\n\u001b[1;32m     33\u001b[0m                 \u001b[0mnxt_mi\u001b[0m \u001b[0;34m=\u001b[0m \u001b[0mmaxindex\u001b[0m\u001b[0;34m\u001b[0m\u001b[0;34m\u001b[0m\u001b[0m\n\u001b[1;32m     34\u001b[0m                 \u001b[0mflag\u001b[0m \u001b[0;34m=\u001b[0m \u001b[0;32mTrue\u001b[0m\u001b[0;34m\u001b[0m\u001b[0;34m\u001b[0m\u001b[0m\n\u001b[0;32m---> 35\u001b[0;31m             \u001b[0mgen_canonical_simple_excursions_up_to_length\u001b[0m\u001b[0;34m(\u001b[0m\u001b[0mn\u001b[0m\u001b[0;34m,\u001b[0m\u001b[0mwgen\u001b[0m\u001b[0;34m,\u001b[0m\u001b[0mwlist\u001b[0m\u001b[0;34m,\u001b[0m\u001b[0mnxt_mi\u001b[0m\u001b[0;34m,\u001b[0m \u001b[0mflag\u001b[0m\u001b[0;34m)\u001b[0m\u001b[0;34m\u001b[0m\u001b[0;34m\u001b[0m\u001b[0m\n\u001b[0m\u001b[1;32m     36\u001b[0m             \u001b[0mwgen\u001b[0m\u001b[0;34m.\u001b[0m\u001b[0mdel_last\u001b[0m\u001b[0;34m(\u001b[0m\u001b[0;34m)\u001b[0m\u001b[0;34m\u001b[0m\u001b[0;34m\u001b[0m\u001b[0m\n\u001b[1;32m     37\u001b[0m \u001b[0;34m\u001b[0m\u001b[0m\n",
      "\u001b[0;32m<ipython-input-70-260258021b05>\u001b[0m in \u001b[0;36mgen_canonical_simple_excursions_up_to_length\u001b[0;34m(n, wgen, wlist, maxindex, cont_mi)\u001b[0m\n\u001b[1;32m     33\u001b[0m                 \u001b[0mnxt_mi\u001b[0m \u001b[0;34m=\u001b[0m \u001b[0mmaxindex\u001b[0m\u001b[0;34m\u001b[0m\u001b[0;34m\u001b[0m\u001b[0m\n\u001b[1;32m     34\u001b[0m                 \u001b[0mflag\u001b[0m \u001b[0;34m=\u001b[0m \u001b[0;32mTrue\u001b[0m\u001b[0;34m\u001b[0m\u001b[0;34m\u001b[0m\u001b[0m\n\u001b[0;32m---> 35\u001b[0;31m             \u001b[0mgen_canonical_simple_excursions_up_to_length\u001b[0m\u001b[0;34m(\u001b[0m\u001b[0mn\u001b[0m\u001b[0;34m,\u001b[0m\u001b[0mwgen\u001b[0m\u001b[0;34m,\u001b[0m\u001b[0mwlist\u001b[0m\u001b[0;34m,\u001b[0m\u001b[0mnxt_mi\u001b[0m\u001b[0;34m,\u001b[0m \u001b[0mflag\u001b[0m\u001b[0;34m)\u001b[0m\u001b[0;34m\u001b[0m\u001b[0;34m\u001b[0m\u001b[0m\n\u001b[0m\u001b[1;32m     36\u001b[0m             \u001b[0mwgen\u001b[0m\u001b[0;34m.\u001b[0m\u001b[0mdel_last\u001b[0m\u001b[0;34m(\u001b[0m\u001b[0;34m)\u001b[0m\u001b[0;34m\u001b[0m\u001b[0;34m\u001b[0m\u001b[0m\n\u001b[1;32m     37\u001b[0m \u001b[0;34m\u001b[0m\u001b[0m\n",
      "\u001b[0;32m<ipython-input-70-260258021b05>\u001b[0m in \u001b[0;36mgen_canonical_simple_excursions_up_to_length\u001b[0;34m(n, wgen, wlist, maxindex, cont_mi)\u001b[0m\n\u001b[1;32m     33\u001b[0m                 \u001b[0mnxt_mi\u001b[0m \u001b[0;34m=\u001b[0m \u001b[0mmaxindex\u001b[0m\u001b[0;34m\u001b[0m\u001b[0;34m\u001b[0m\u001b[0m\n\u001b[1;32m     34\u001b[0m                 \u001b[0mflag\u001b[0m \u001b[0;34m=\u001b[0m \u001b[0;32mTrue\u001b[0m\u001b[0;34m\u001b[0m\u001b[0;34m\u001b[0m\u001b[0m\n\u001b[0;32m---> 35\u001b[0;31m             \u001b[0mgen_canonical_simple_excursions_up_to_length\u001b[0m\u001b[0;34m(\u001b[0m\u001b[0mn\u001b[0m\u001b[0;34m,\u001b[0m\u001b[0mwgen\u001b[0m\u001b[0;34m,\u001b[0m\u001b[0mwlist\u001b[0m\u001b[0;34m,\u001b[0m\u001b[0mnxt_mi\u001b[0m\u001b[0;34m,\u001b[0m \u001b[0mflag\u001b[0m\u001b[0;34m)\u001b[0m\u001b[0;34m\u001b[0m\u001b[0;34m\u001b[0m\u001b[0m\n\u001b[0m\u001b[1;32m     36\u001b[0m             \u001b[0mwgen\u001b[0m\u001b[0;34m.\u001b[0m\u001b[0mdel_last\u001b[0m\u001b[0;34m(\u001b[0m\u001b[0;34m)\u001b[0m\u001b[0;34m\u001b[0m\u001b[0;34m\u001b[0m\u001b[0m\n\u001b[1;32m     37\u001b[0m \u001b[0;34m\u001b[0m\u001b[0m\n",
      "\u001b[0;32m<ipython-input-70-260258021b05>\u001b[0m in \u001b[0;36mgen_canonical_simple_excursions_up_to_length\u001b[0;34m(n, wgen, wlist, maxindex, cont_mi)\u001b[0m\n\u001b[1;32m     33\u001b[0m                 \u001b[0mnxt_mi\u001b[0m \u001b[0;34m=\u001b[0m \u001b[0mmaxindex\u001b[0m\u001b[0;34m\u001b[0m\u001b[0;34m\u001b[0m\u001b[0m\n\u001b[1;32m     34\u001b[0m                 \u001b[0mflag\u001b[0m \u001b[0;34m=\u001b[0m \u001b[0;32mTrue\u001b[0m\u001b[0;34m\u001b[0m\u001b[0;34m\u001b[0m\u001b[0m\n\u001b[0;32m---> 35\u001b[0;31m             \u001b[0mgen_canonical_simple_excursions_up_to_length\u001b[0m\u001b[0;34m(\u001b[0m\u001b[0mn\u001b[0m\u001b[0;34m,\u001b[0m\u001b[0mwgen\u001b[0m\u001b[0;34m,\u001b[0m\u001b[0mwlist\u001b[0m\u001b[0;34m,\u001b[0m\u001b[0mnxt_mi\u001b[0m\u001b[0;34m,\u001b[0m \u001b[0mflag\u001b[0m\u001b[0;34m)\u001b[0m\u001b[0;34m\u001b[0m\u001b[0;34m\u001b[0m\u001b[0m\n\u001b[0m\u001b[1;32m     36\u001b[0m             \u001b[0mwgen\u001b[0m\u001b[0;34m.\u001b[0m\u001b[0mdel_last\u001b[0m\u001b[0;34m(\u001b[0m\u001b[0;34m)\u001b[0m\u001b[0;34m\u001b[0m\u001b[0;34m\u001b[0m\u001b[0m\n\u001b[1;32m     37\u001b[0m \u001b[0;34m\u001b[0m\u001b[0m\n",
      "\u001b[0;32m<ipython-input-70-260258021b05>\u001b[0m in \u001b[0;36mgen_canonical_simple_excursions_up_to_length\u001b[0;34m(n, wgen, wlist, maxindex, cont_mi)\u001b[0m\n\u001b[1;32m     33\u001b[0m                 \u001b[0mnxt_mi\u001b[0m \u001b[0;34m=\u001b[0m \u001b[0mmaxindex\u001b[0m\u001b[0;34m\u001b[0m\u001b[0;34m\u001b[0m\u001b[0m\n\u001b[1;32m     34\u001b[0m                 \u001b[0mflag\u001b[0m \u001b[0;34m=\u001b[0m \u001b[0;32mTrue\u001b[0m\u001b[0;34m\u001b[0m\u001b[0;34m\u001b[0m\u001b[0m\n\u001b[0;32m---> 35\u001b[0;31m             \u001b[0mgen_canonical_simple_excursions_up_to_length\u001b[0m\u001b[0;34m(\u001b[0m\u001b[0mn\u001b[0m\u001b[0;34m,\u001b[0m\u001b[0mwgen\u001b[0m\u001b[0;34m,\u001b[0m\u001b[0mwlist\u001b[0m\u001b[0;34m,\u001b[0m\u001b[0mnxt_mi\u001b[0m\u001b[0;34m,\u001b[0m \u001b[0mflag\u001b[0m\u001b[0;34m)\u001b[0m\u001b[0;34m\u001b[0m\u001b[0;34m\u001b[0m\u001b[0m\n\u001b[0m\u001b[1;32m     36\u001b[0m             \u001b[0mwgen\u001b[0m\u001b[0;34m.\u001b[0m\u001b[0mdel_last\u001b[0m\u001b[0;34m(\u001b[0m\u001b[0;34m)\u001b[0m\u001b[0;34m\u001b[0m\u001b[0;34m\u001b[0m\u001b[0m\n\u001b[1;32m     37\u001b[0m \u001b[0;34m\u001b[0m\u001b[0m\n",
      "\u001b[0;32m<ipython-input-70-260258021b05>\u001b[0m in \u001b[0;36mgen_canonical_simple_excursions_up_to_length\u001b[0;34m(n, wgen, wlist, maxindex, cont_mi)\u001b[0m\n\u001b[1;32m     33\u001b[0m                 \u001b[0mnxt_mi\u001b[0m \u001b[0;34m=\u001b[0m \u001b[0mmaxindex\u001b[0m\u001b[0;34m\u001b[0m\u001b[0;34m\u001b[0m\u001b[0m\n\u001b[1;32m     34\u001b[0m                 \u001b[0mflag\u001b[0m \u001b[0;34m=\u001b[0m \u001b[0;32mTrue\u001b[0m\u001b[0;34m\u001b[0m\u001b[0;34m\u001b[0m\u001b[0m\n\u001b[0;32m---> 35\u001b[0;31m             \u001b[0mgen_canonical_simple_excursions_up_to_length\u001b[0m\u001b[0;34m(\u001b[0m\u001b[0mn\u001b[0m\u001b[0;34m,\u001b[0m\u001b[0mwgen\u001b[0m\u001b[0;34m,\u001b[0m\u001b[0mwlist\u001b[0m\u001b[0;34m,\u001b[0m\u001b[0mnxt_mi\u001b[0m\u001b[0;34m,\u001b[0m \u001b[0mflag\u001b[0m\u001b[0;34m)\u001b[0m\u001b[0;34m\u001b[0m\u001b[0;34m\u001b[0m\u001b[0m\n\u001b[0m\u001b[1;32m     36\u001b[0m             \u001b[0mwgen\u001b[0m\u001b[0;34m.\u001b[0m\u001b[0mdel_last\u001b[0m\u001b[0;34m(\u001b[0m\u001b[0;34m)\u001b[0m\u001b[0;34m\u001b[0m\u001b[0;34m\u001b[0m\u001b[0m\n\u001b[1;32m     37\u001b[0m \u001b[0;34m\u001b[0m\u001b[0m\n",
      "\u001b[0;32m<ipython-input-70-260258021b05>\u001b[0m in \u001b[0;36mgen_canonical_simple_excursions_up_to_length\u001b[0;34m(n, wgen, wlist, maxindex, cont_mi)\u001b[0m\n\u001b[1;32m     33\u001b[0m                 \u001b[0mnxt_mi\u001b[0m \u001b[0;34m=\u001b[0m \u001b[0mmaxindex\u001b[0m\u001b[0;34m\u001b[0m\u001b[0;34m\u001b[0m\u001b[0m\n\u001b[1;32m     34\u001b[0m                 \u001b[0mflag\u001b[0m \u001b[0;34m=\u001b[0m \u001b[0;32mTrue\u001b[0m\u001b[0;34m\u001b[0m\u001b[0;34m\u001b[0m\u001b[0m\n\u001b[0;32m---> 35\u001b[0;31m             \u001b[0mgen_canonical_simple_excursions_up_to_length\u001b[0m\u001b[0;34m(\u001b[0m\u001b[0mn\u001b[0m\u001b[0;34m,\u001b[0m\u001b[0mwgen\u001b[0m\u001b[0;34m,\u001b[0m\u001b[0mwlist\u001b[0m\u001b[0;34m,\u001b[0m\u001b[0mnxt_mi\u001b[0m\u001b[0;34m,\u001b[0m \u001b[0mflag\u001b[0m\u001b[0;34m)\u001b[0m\u001b[0;34m\u001b[0m\u001b[0;34m\u001b[0m\u001b[0m\n\u001b[0m\u001b[1;32m     36\u001b[0m             \u001b[0mwgen\u001b[0m\u001b[0;34m.\u001b[0m\u001b[0mdel_last\u001b[0m\u001b[0;34m(\u001b[0m\u001b[0;34m)\u001b[0m\u001b[0;34m\u001b[0m\u001b[0;34m\u001b[0m\u001b[0m\n\u001b[1;32m     37\u001b[0m \u001b[0;34m\u001b[0m\u001b[0m\n",
      "\u001b[0;32m<ipython-input-70-260258021b05>\u001b[0m in \u001b[0;36mgen_canonical_simple_excursions_up_to_length\u001b[0;34m(n, wgen, wlist, maxindex, cont_mi)\u001b[0m\n\u001b[1;32m     33\u001b[0m                 \u001b[0mnxt_mi\u001b[0m \u001b[0;34m=\u001b[0m \u001b[0mmaxindex\u001b[0m\u001b[0;34m\u001b[0m\u001b[0;34m\u001b[0m\u001b[0m\n\u001b[1;32m     34\u001b[0m                 \u001b[0mflag\u001b[0m \u001b[0;34m=\u001b[0m \u001b[0;32mTrue\u001b[0m\u001b[0;34m\u001b[0m\u001b[0;34m\u001b[0m\u001b[0m\n\u001b[0;32m---> 35\u001b[0;31m             \u001b[0mgen_canonical_simple_excursions_up_to_length\u001b[0m\u001b[0;34m(\u001b[0m\u001b[0mn\u001b[0m\u001b[0;34m,\u001b[0m\u001b[0mwgen\u001b[0m\u001b[0;34m,\u001b[0m\u001b[0mwlist\u001b[0m\u001b[0;34m,\u001b[0m\u001b[0mnxt_mi\u001b[0m\u001b[0;34m,\u001b[0m \u001b[0mflag\u001b[0m\u001b[0;34m)\u001b[0m\u001b[0;34m\u001b[0m\u001b[0;34m\u001b[0m\u001b[0m\n\u001b[0m\u001b[1;32m     36\u001b[0m             \u001b[0mwgen\u001b[0m\u001b[0;34m.\u001b[0m\u001b[0mdel_last\u001b[0m\u001b[0;34m(\u001b[0m\u001b[0;34m)\u001b[0m\u001b[0;34m\u001b[0m\u001b[0;34m\u001b[0m\u001b[0m\n\u001b[1;32m     37\u001b[0m \u001b[0;34m\u001b[0m\u001b[0m\n",
      "\u001b[0;32m<ipython-input-70-260258021b05>\u001b[0m in \u001b[0;36mgen_canonical_simple_excursions_up_to_length\u001b[0;34m(n, wgen, wlist, maxindex, cont_mi)\u001b[0m\n\u001b[1;32m     33\u001b[0m                 \u001b[0mnxt_mi\u001b[0m \u001b[0;34m=\u001b[0m \u001b[0mmaxindex\u001b[0m\u001b[0;34m\u001b[0m\u001b[0;34m\u001b[0m\u001b[0m\n\u001b[1;32m     34\u001b[0m                 \u001b[0mflag\u001b[0m \u001b[0;34m=\u001b[0m \u001b[0;32mTrue\u001b[0m\u001b[0;34m\u001b[0m\u001b[0;34m\u001b[0m\u001b[0m\n\u001b[0;32m---> 35\u001b[0;31m             \u001b[0mgen_canonical_simple_excursions_up_to_length\u001b[0m\u001b[0;34m(\u001b[0m\u001b[0mn\u001b[0m\u001b[0;34m,\u001b[0m\u001b[0mwgen\u001b[0m\u001b[0;34m,\u001b[0m\u001b[0mwlist\u001b[0m\u001b[0;34m,\u001b[0m\u001b[0mnxt_mi\u001b[0m\u001b[0;34m,\u001b[0m \u001b[0mflag\u001b[0m\u001b[0;34m)\u001b[0m\u001b[0;34m\u001b[0m\u001b[0;34m\u001b[0m\u001b[0m\n\u001b[0m\u001b[1;32m     36\u001b[0m             \u001b[0mwgen\u001b[0m\u001b[0;34m.\u001b[0m\u001b[0mdel_last\u001b[0m\u001b[0;34m(\u001b[0m\u001b[0;34m)\u001b[0m\u001b[0;34m\u001b[0m\u001b[0;34m\u001b[0m\u001b[0m\n\u001b[1;32m     37\u001b[0m \u001b[0;34m\u001b[0m\u001b[0m\n",
      "\u001b[0;32m<ipython-input-70-260258021b05>\u001b[0m in \u001b[0;36mgen_canonical_simple_excursions_up_to_length\u001b[0;34m(n, wgen, wlist, maxindex, cont_mi)\u001b[0m\n\u001b[1;32m     33\u001b[0m                 \u001b[0mnxt_mi\u001b[0m \u001b[0;34m=\u001b[0m \u001b[0mmaxindex\u001b[0m\u001b[0;34m\u001b[0m\u001b[0;34m\u001b[0m\u001b[0m\n\u001b[1;32m     34\u001b[0m                 \u001b[0mflag\u001b[0m \u001b[0;34m=\u001b[0m \u001b[0;32mTrue\u001b[0m\u001b[0;34m\u001b[0m\u001b[0;34m\u001b[0m\u001b[0m\n\u001b[0;32m---> 35\u001b[0;31m             \u001b[0mgen_canonical_simple_excursions_up_to_length\u001b[0m\u001b[0;34m(\u001b[0m\u001b[0mn\u001b[0m\u001b[0;34m,\u001b[0m\u001b[0mwgen\u001b[0m\u001b[0;34m,\u001b[0m\u001b[0mwlist\u001b[0m\u001b[0;34m,\u001b[0m\u001b[0mnxt_mi\u001b[0m\u001b[0;34m,\u001b[0m \u001b[0mflag\u001b[0m\u001b[0;34m)\u001b[0m\u001b[0;34m\u001b[0m\u001b[0;34m\u001b[0m\u001b[0m\n\u001b[0m\u001b[1;32m     36\u001b[0m             \u001b[0mwgen\u001b[0m\u001b[0;34m.\u001b[0m\u001b[0mdel_last\u001b[0m\u001b[0;34m(\u001b[0m\u001b[0;34m)\u001b[0m\u001b[0;34m\u001b[0m\u001b[0;34m\u001b[0m\u001b[0m\n\u001b[1;32m     37\u001b[0m \u001b[0;34m\u001b[0m\u001b[0m\n",
      "\u001b[0;32m<ipython-input-70-260258021b05>\u001b[0m in \u001b[0;36mgen_canonical_simple_excursions_up_to_length\u001b[0;34m(n, wgen, wlist, maxindex, cont_mi)\u001b[0m\n\u001b[1;32m     33\u001b[0m                 \u001b[0mnxt_mi\u001b[0m \u001b[0;34m=\u001b[0m \u001b[0mmaxindex\u001b[0m\u001b[0;34m\u001b[0m\u001b[0;34m\u001b[0m\u001b[0m\n\u001b[1;32m     34\u001b[0m                 \u001b[0mflag\u001b[0m \u001b[0;34m=\u001b[0m \u001b[0;32mTrue\u001b[0m\u001b[0;34m\u001b[0m\u001b[0;34m\u001b[0m\u001b[0m\n\u001b[0;32m---> 35\u001b[0;31m             \u001b[0mgen_canonical_simple_excursions_up_to_length\u001b[0m\u001b[0;34m(\u001b[0m\u001b[0mn\u001b[0m\u001b[0;34m,\u001b[0m\u001b[0mwgen\u001b[0m\u001b[0;34m,\u001b[0m\u001b[0mwlist\u001b[0m\u001b[0;34m,\u001b[0m\u001b[0mnxt_mi\u001b[0m\u001b[0;34m,\u001b[0m \u001b[0mflag\u001b[0m\u001b[0;34m)\u001b[0m\u001b[0;34m\u001b[0m\u001b[0;34m\u001b[0m\u001b[0m\n\u001b[0m\u001b[1;32m     36\u001b[0m             \u001b[0mwgen\u001b[0m\u001b[0;34m.\u001b[0m\u001b[0mdel_last\u001b[0m\u001b[0;34m(\u001b[0m\u001b[0;34m)\u001b[0m\u001b[0;34m\u001b[0m\u001b[0;34m\u001b[0m\u001b[0m\n\u001b[1;32m     37\u001b[0m \u001b[0;34m\u001b[0m\u001b[0m\n",
      "\u001b[0;32m<ipython-input-70-260258021b05>\u001b[0m in \u001b[0;36mgen_canonical_simple_excursions_up_to_length\u001b[0;34m(n, wgen, wlist, maxindex, cont_mi)\u001b[0m\n\u001b[1;32m     19\u001b[0m         \u001b[0;32mfor\u001b[0m \u001b[0mi\u001b[0m \u001b[0;32min\u001b[0m \u001b[0mrange\u001b[0m\u001b[0;34m(\u001b[0m\u001b[0mInteger\u001b[0m\u001b[0;34m(\u001b[0m\u001b[0;36m1\u001b[0m\u001b[0;34m)\u001b[0m\u001b[0;34m,\u001b[0m\u001b[0mmaxindex\u001b[0m\u001b[0;34m+\u001b[0m\u001b[0mInteger\u001b[0m\u001b[0;34m(\u001b[0m\u001b[0;36m1\u001b[0m\u001b[0;34m)\u001b[0m\u001b[0;34m)\u001b[0m\u001b[0;34m:\u001b[0m\u001b[0;34m\u001b[0m\u001b[0;34m\u001b[0m\u001b[0m\n\u001b[1;32m     20\u001b[0m             \u001b[0;31m# standard backtracking approach\u001b[0m\u001b[0;34m\u001b[0m\u001b[0;34m\u001b[0m\u001b[0;34m\u001b[0m\u001b[0m\n\u001b[0;32m---> 21\u001b[0;31m             \u001b[0mwgen\u001b[0m\u001b[0;34m.\u001b[0m\u001b[0madd_char\u001b[0m\u001b[0;34m(\u001b[0m\u001b[0mi\u001b[0m\u001b[0;34m)\u001b[0m\u001b[0;34m\u001b[0m\u001b[0;34m\u001b[0m\u001b[0m\n\u001b[0m\u001b[1;32m     22\u001b[0m             \u001b[0;31m# assume i=maxindex, so that nxt_mi=i+1 is not yet visited\u001b[0m\u001b[0;34m\u001b[0m\u001b[0;34m\u001b[0m\u001b[0;34m\u001b[0m\u001b[0m\n\u001b[1;32m     23\u001b[0m             \u001b[0mflag\u001b[0m \u001b[0;34m=\u001b[0m \u001b[0;32mFalse\u001b[0m\u001b[0;34m\u001b[0m\u001b[0;34m\u001b[0m\u001b[0m\n",
      "\u001b[0;32m<ipython-input-66-b039f431d0d4>\u001b[0m in \u001b[0;36madd_char\u001b[0;34m(self, c)\u001b[0m\n\u001b[1;32m     19\u001b[0m         \u001b[0mwred\u001b[0m \u001b[0;34m=\u001b[0m \u001b[0mself\u001b[0m\u001b[0;34m.\u001b[0m\u001b[0mwred\u001b[0m\u001b[0;34m\u001b[0m\u001b[0;34m\u001b[0m\u001b[0m\n\u001b[1;32m     20\u001b[0m         \u001b[0mw\u001b[0m\u001b[0;34m.\u001b[0m\u001b[0mappend\u001b[0m\u001b[0;34m(\u001b[0m\u001b[0mc\u001b[0m\u001b[0;34m)\u001b[0m\u001b[0;34m\u001b[0m\u001b[0;34m\u001b[0m\u001b[0m\n\u001b[0;32m---> 21\u001b[0;31m         \u001b[0;32mfor\u001b[0m \u001b[0mi\u001b[0m \u001b[0;32min\u001b[0m \u001b[0;34m(\u001b[0m\u001b[0mellipsis_iter\u001b[0m\u001b[0;34m(\u001b[0m\u001b[0mInteger\u001b[0m\u001b[0;34m(\u001b[0m\u001b[0;36m1\u001b[0m\u001b[0;34m)\u001b[0m\u001b[0;34m,\u001b[0m\u001b[0mEllipsis\u001b[0m\u001b[0;34m,\u001b[0m\u001b[0md\u001b[0m\u001b[0;34m-\u001b[0m\u001b[0mInteger\u001b[0m\u001b[0;34m(\u001b[0m\u001b[0;36m1\u001b[0m\u001b[0;34m)\u001b[0m\u001b[0;34m)\u001b[0m\u001b[0;34m)\u001b[0m\u001b[0;34m:\u001b[0m\u001b[0;34m\u001b[0m\u001b[0;34m\u001b[0m\u001b[0m\n\u001b[0m\u001b[1;32m     22\u001b[0m             \u001b[0;32mif\u001b[0m \u001b[0mi\u001b[0m\u001b[0;34m>\u001b[0m\u001b[0mlen\u001b[0m\u001b[0;34m(\u001b[0m\u001b[0mwred\u001b[0m\u001b[0;34m)\u001b[0m \u001b[0;32mor\u001b[0m \u001b[0mwred\u001b[0m\u001b[0;34m[\u001b[0m\u001b[0;34m-\u001b[0m\u001b[0mi\u001b[0m\u001b[0;34m]\u001b[0m\u001b[0;34m!=\u001b[0m\u001b[0mc\u001b[0m\u001b[0;34m:\u001b[0m\u001b[0;34m\u001b[0m\u001b[0;34m\u001b[0m\u001b[0m\n\u001b[1;32m     23\u001b[0m                 \u001b[0mwred\u001b[0m\u001b[0;34m.\u001b[0m\u001b[0mappend\u001b[0m\u001b[0;34m(\u001b[0m\u001b[0mc\u001b[0m\u001b[0;34m)\u001b[0m\u001b[0;34m\u001b[0m\u001b[0;34m\u001b[0m\u001b[0m\n",
      "\u001b[0;32msrc/cysignals/signals.pyx\u001b[0m in \u001b[0;36mcysignals.signals.python_check_interrupt\u001b[0;34m()\u001b[0m\n",
      "\u001b[0;31mKeyboardInterrupt\u001b[0m: "
     ]
    }
   ],
   "source": [
    "wgen.clear()\n",
    "runtimes = time_test(lambda n: gen_canonical_simple_excursions_up_to_length(n,wgen,defaultdict(list)), range(d,5*d+1,d))\n",
    "runtimes"
   ]
  },
  {
   "cell_type": "code",
   "execution_count": 55,
   "metadata": {},
   "outputs": [
    {
     "name": "stdout",
     "output_type": "stream",
     "text": [
      " 3\t0:00:00.000478\n",
      " 6\t0:00:00.001374\n",
      " 9\t0:00:00.031894\n",
      "12\t0:00:01.048270\n",
      "15\t0:00:51.016460\n"
     ]
    }
   ],
   "source": [
    "for n, dur in runtimes:\n",
    "    print('%2d\\t%7s'%(n, timedelta(seconds=dur)))"
   ]
  },
  {
   "cell_type": "code",
   "execution_count": null,
   "metadata": {},
   "outputs": [],
   "source": []
  },
  {
   "cell_type": "code",
   "execution_count": 86,
   "metadata": {},
   "outputs": [],
   "source": [
    "# save and load routines\n",
    "\n",
    "def _preconvert(save_mode, hashfn):\n",
    "    def _preconvert_word(w):\n",
    "        w = hashfn(w)\n",
    "        if save_mode:\n",
    "            return 'e' if not str(w) else str(w)\n",
    "        return '' if w=='e' else w\n",
    "    return _preconvert_word\n",
    "\n",
    "def save_gen(fname, wlist, hashfn=lambda x: x, maxlen=None):\n",
    "    if maxlen is None:\n",
    "        maxlen = max([n for n,r in wlist if wlist[(n,r)]])\n",
    "    with open(fname,'w') as handle:\n",
    "        for n in range(maxlen+1):\n",
    "            for r in range(n//2+1):\n",
    "                if (n,r) in wlist:\n",
    "                    handle.write('%d %d %s\\n'%(n,r,' '.join(map(_preconvert(1,hashfn),wlist[(n,r)]))) )\n",
    "\n",
    "def load_gen(fname, unhashfn = lambda x: x, skip_empty = 0,maxlen = None):\n",
    "    wlist = {}\n",
    "    with open(fname) as handle:\n",
    "        for line in handle:\n",
    "            line = line.strip()\n",
    "            if line:\n",
    "                wn = line.split()\n",
    "                n = ZZ(wn.pop(0))\n",
    "                r = ZZ(wn.pop(0))\n",
    "                if skip_empty and not wn:\n",
    "                    continue\n",
    "                if maxlen is not None and n>maxlen:\n",
    "                    continue\n",
    "                wlist[(n,r)] = list(map(_preconvert(0,unhashfn), map(ZZ,wn)))\n",
    "    return defaultdict(list, wlist)\n"
   ]
  },
  {
   "cell_type": "code",
   "execution_count": null,
   "metadata": {},
   "outputs": [],
   "source": []
  },
  {
   "cell_type": "code",
   "execution_count": 89,
   "metadata": {},
   "outputs": [],
   "source": [
    "save_gen('cseZ%dstar_m.txt'%d, cse_by_len, hash_word)"
   ]
  },
  {
   "cell_type": "code",
   "execution_count": 90,
   "metadata": {},
   "outputs": [],
   "source": [
    "# loaded_cse_by_len = load_gen('cseZ2star_m.txt', unhash_word, 1)\n",
    "# for (n,r) in sorted(cse_by_len):\n",
    "#     print(n,r,len(loaded_cse_by_len[(n,r)]))\n",
    "#     if  loaded_cse_by_len[(n,r)] != cse_by_len[(n,r)]:\n",
    "#         print('\\t', loaded_cse_by_len[(n,r)][:5], cse_by_len[(n,r)][:5])\n",
    "# print(set(cse_by_len)==set(loaded_cse_by_len))\n",
    "# print({(type(n),type(r)) for n,r in cse_by_len})\n",
    "\n",
    "cse_by_len = load_gen('cseZ%dstar_m.txt'%d, unhash_word, 1)\n"
   ]
  },
  {
   "cell_type": "markdown",
   "metadata": {},
   "source": [
    "Now we compute $P_n(m)$ for $n=0,1,...,maxlen$. Obesrve that \n",
    "$$P_n(m)=\\sum_{\\sum{\\lambda_i}=n,\\ \\lambda_i>0}\\prod_{i}\\bar{P}_{\\lambda_i}^*(m)=\\sum_{\\sum{\\mu_i}=\\frac{n}{d},\\ \\mu_i>0}\\prod_{i}\\bar{P}_{d\\mu_i}^*(m)$$ for $n$ a multiple of $d$. Of course, we first need to compute $\\bar{P}_n(m)$."
   ]
  },
  {
   "cell_type": "code",
   "execution_count": 91,
   "metadata": {},
   "outputs": [],
   "source": [
    "def print_counts(ctlist,title=''):\n",
    "    if title:\n",
    "        pretty_print(LatexExpr('\\\\textbf{%s}'%title))\n",
    "    for n, ct in enumerate(ctlist):\n",
    "        pretty_print(LatexExpr('n=%d:'%n),ct)\n"
   ]
  },
  {
   "cell_type": "code",
   "execution_count": 93,
   "metadata": {},
   "outputs": [],
   "source": [
    "se_counts_by_length = [1,0]\n",
    "\n",
    "while len(se_counts_by_length)<=maxlen:\n",
    "    ct = 0\n",
    "    n = len(se_counts_by_length)\n",
    "    n = ZZ(n)\n",
    "    if n%d:\n",
    "        se_counts_by_length.append(ct)\n",
    "        continue\n",
    "    for r in (0..n/d):\n",
    "        if (n,r) in cse_by_len:\n",
    "            ct += ZZ(len(cse_by_len[(n,r)]))*falling_factorial(m,r)\n",
    "    ct = ct.expand().simplify_full()\n",
    "    se_counts_by_length.append(ct)"
   ]
  },
  {
   "cell_type": "code",
   "execution_count": 94,
   "metadata": {},
   "outputs": [
    {
     "data": {
      "text/html": [
       "<html><script type=\"math/tex; mode=display\">\\newcommand{\\Bold}[1]{\\mathbf{#1}}\\textbf{Simple Excursion Count}</script></html>"
      ],
      "text/plain": [
       "\\textbf{Simple Excursion Count}"
      ]
     },
     "metadata": {},
     "output_type": "display_data"
    },
    {
     "data": {
      "text/html": [
       "<html><script type=\"math/tex; mode=display\">\\newcommand{\\Bold}[1]{\\mathbf{#1}}n=0: 1</script></html>"
      ],
      "text/plain": [
       "n=0: 1"
      ]
     },
     "metadata": {},
     "output_type": "display_data"
    },
    {
     "data": {
      "text/html": [
       "<html><script type=\"math/tex; mode=display\">\\newcommand{\\Bold}[1]{\\mathbf{#1}}n=1: 0</script></html>"
      ],
      "text/plain": [
       "n=1: 0"
      ]
     },
     "metadata": {},
     "output_type": "display_data"
    },
    {
     "data": {
      "text/html": [
       "<html><script type=\"math/tex; mode=display\">\\newcommand{\\Bold}[1]{\\mathbf{#1}}n=2: 0</script></html>"
      ],
      "text/plain": [
       "n=2: 0"
      ]
     },
     "metadata": {},
     "output_type": "display_data"
    },
    {
     "data": {
      "text/html": [
       "<html><script type=\"math/tex; mode=display\">\\newcommand{\\Bold}[1]{\\mathbf{#1}}n=3: 0</script></html>"
      ],
      "text/plain": [
       "n=3: 0"
      ]
     },
     "metadata": {},
     "output_type": "display_data"
    },
    {
     "data": {
      "text/html": [
       "<html><script type=\"math/tex; mode=display\">\\newcommand{\\Bold}[1]{\\mathbf{#1}}n=4: m</script></html>"
      ],
      "text/plain": [
       "n=4: m"
      ]
     },
     "metadata": {},
     "output_type": "display_data"
    },
    {
     "data": {
      "text/html": [
       "<html><script type=\"math/tex; mode=display\">\\newcommand{\\Bold}[1]{\\mathbf{#1}}n=5: 0</script></html>"
      ],
      "text/plain": [
       "n=5: 0"
      ]
     },
     "metadata": {},
     "output_type": "display_data"
    },
    {
     "data": {
      "text/html": [
       "<html><script type=\"math/tex; mode=display\">\\newcommand{\\Bold}[1]{\\mathbf{#1}}n=6: 0</script></html>"
      ],
      "text/plain": [
       "n=6: 0"
      ]
     },
     "metadata": {},
     "output_type": "display_data"
    },
    {
     "data": {
      "text/html": [
       "<html><script type=\"math/tex; mode=display\">\\newcommand{\\Bold}[1]{\\mathbf{#1}}n=7: 0</script></html>"
      ],
      "text/plain": [
       "n=7: 0"
      ]
     },
     "metadata": {},
     "output_type": "display_data"
    },
    {
     "data": {
      "text/html": [
       "<html><script type=\"math/tex; mode=display\">\\newcommand{\\Bold}[1]{\\mathbf{#1}}n=8: 3 \\, m^{2} - 3 \\, m</script></html>"
      ],
      "text/plain": [
       "n=8: 3*m^2 - 3*m"
      ]
     },
     "metadata": {},
     "output_type": "display_data"
    },
    {
     "data": {
      "text/html": [
       "<html><script type=\"math/tex; mode=display\">\\newcommand{\\Bold}[1]{\\mathbf{#1}}n=9: 0</script></html>"
      ],
      "text/plain": [
       "n=9: 0"
      ]
     },
     "metadata": {},
     "output_type": "display_data"
    },
    {
     "data": {
      "text/html": [
       "<html><script type=\"math/tex; mode=display\">\\newcommand{\\Bold}[1]{\\mathbf{#1}}n=10: 0</script></html>"
      ],
      "text/plain": [
       "n=10: 0"
      ]
     },
     "metadata": {},
     "output_type": "display_data"
    },
    {
     "data": {
      "text/html": [
       "<html><script type=\"math/tex; mode=display\">\\newcommand{\\Bold}[1]{\\mathbf{#1}}n=11: 0</script></html>"
      ],
      "text/plain": [
       "n=11: 0"
      ]
     },
     "metadata": {},
     "output_type": "display_data"
    },
    {
     "data": {
      "text/html": [
       "<html><script type=\"math/tex; mode=display\">\\newcommand{\\Bold}[1]{\\mathbf{#1}}n=12: 15 \\, m^{3} - 30 \\, m^{2} + 15 \\, m</script></html>"
      ],
      "text/plain": [
       "n=12: 15*m^3 - 30*m^2 + 15*m"
      ]
     },
     "metadata": {},
     "output_type": "display_data"
    }
   ],
   "source": [
    "print_counts(se_counts_by_length, 'Simple Excursion Count')"
   ]
  },
  {
   "cell_type": "code",
   "execution_count": 95,
   "metadata": {},
   "outputs": [],
   "source": [
    "exc_counts_by_length = [1,0]\n",
    "while len(exc_counts_by_length)<=maxlen:\n",
    "    ct = 0\n",
    "    n = len(exc_counts_by_length)\n",
    "    n = ZZ(n)\n",
    "    if n%d:\n",
    "        exc_counts_by_length.append(ct)\n",
    "        continue\n",
    "    \n",
    "    for miu in Compositions(ZZ(n/d)):\n",
    "        term = 1\n",
    "        for el in miu:\n",
    "            term *= se_counts_by_length[el*d]\n",
    "        ct+= term\n",
    "    ct= ct.expand()\n",
    "    exc_counts_by_length.append(ct)"
   ]
  },
  {
   "cell_type": "code",
   "execution_count": 96,
   "metadata": {},
   "outputs": [
    {
     "data": {
      "text/html": [
       "<html><script type=\"math/tex; mode=display\">\\newcommand{\\Bold}[1]{\\mathbf{#1}}\\textbf{Excursion Count}</script></html>"
      ],
      "text/plain": [
       "\\textbf{Excursion Count}"
      ]
     },
     "metadata": {},
     "output_type": "display_data"
    },
    {
     "data": {
      "text/html": [
       "<html><script type=\"math/tex; mode=display\">\\newcommand{\\Bold}[1]{\\mathbf{#1}}n=0: 1</script></html>"
      ],
      "text/plain": [
       "n=0: 1"
      ]
     },
     "metadata": {},
     "output_type": "display_data"
    },
    {
     "data": {
      "text/html": [
       "<html><script type=\"math/tex; mode=display\">\\newcommand{\\Bold}[1]{\\mathbf{#1}}n=1: 0</script></html>"
      ],
      "text/plain": [
       "n=1: 0"
      ]
     },
     "metadata": {},
     "output_type": "display_data"
    },
    {
     "data": {
      "text/html": [
       "<html><script type=\"math/tex; mode=display\">\\newcommand{\\Bold}[1]{\\mathbf{#1}}n=2: 0</script></html>"
      ],
      "text/plain": [
       "n=2: 0"
      ]
     },
     "metadata": {},
     "output_type": "display_data"
    },
    {
     "data": {
      "text/html": [
       "<html><script type=\"math/tex; mode=display\">\\newcommand{\\Bold}[1]{\\mathbf{#1}}n=3: 0</script></html>"
      ],
      "text/plain": [
       "n=3: 0"
      ]
     },
     "metadata": {},
     "output_type": "display_data"
    },
    {
     "data": {
      "text/html": [
       "<html><script type=\"math/tex; mode=display\">\\newcommand{\\Bold}[1]{\\mathbf{#1}}n=4: m</script></html>"
      ],
      "text/plain": [
       "n=4: m"
      ]
     },
     "metadata": {},
     "output_type": "display_data"
    },
    {
     "data": {
      "text/html": [
       "<html><script type=\"math/tex; mode=display\">\\newcommand{\\Bold}[1]{\\mathbf{#1}}n=5: 0</script></html>"
      ],
      "text/plain": [
       "n=5: 0"
      ]
     },
     "metadata": {},
     "output_type": "display_data"
    },
    {
     "data": {
      "text/html": [
       "<html><script type=\"math/tex; mode=display\">\\newcommand{\\Bold}[1]{\\mathbf{#1}}n=6: 0</script></html>"
      ],
      "text/plain": [
       "n=6: 0"
      ]
     },
     "metadata": {},
     "output_type": "display_data"
    },
    {
     "data": {
      "text/html": [
       "<html><script type=\"math/tex; mode=display\">\\newcommand{\\Bold}[1]{\\mathbf{#1}}n=7: 0</script></html>"
      ],
      "text/plain": [
       "n=7: 0"
      ]
     },
     "metadata": {},
     "output_type": "display_data"
    },
    {
     "data": {
      "text/html": [
       "<html><script type=\"math/tex; mode=display\">\\newcommand{\\Bold}[1]{\\mathbf{#1}}n=8: 4 \\, m^{2} - 3 \\, m</script></html>"
      ],
      "text/plain": [
       "n=8: 4*m^2 - 3*m"
      ]
     },
     "metadata": {},
     "output_type": "display_data"
    },
    {
     "data": {
      "text/html": [
       "<html><script type=\"math/tex; mode=display\">\\newcommand{\\Bold}[1]{\\mathbf{#1}}n=9: 0</script></html>"
      ],
      "text/plain": [
       "n=9: 0"
      ]
     },
     "metadata": {},
     "output_type": "display_data"
    },
    {
     "data": {
      "text/html": [
       "<html><script type=\"math/tex; mode=display\">\\newcommand{\\Bold}[1]{\\mathbf{#1}}n=10: 0</script></html>"
      ],
      "text/plain": [
       "n=10: 0"
      ]
     },
     "metadata": {},
     "output_type": "display_data"
    },
    {
     "data": {
      "text/html": [
       "<html><script type=\"math/tex; mode=display\">\\newcommand{\\Bold}[1]{\\mathbf{#1}}n=11: 0</script></html>"
      ],
      "text/plain": [
       "n=11: 0"
      ]
     },
     "metadata": {},
     "output_type": "display_data"
    },
    {
     "data": {
      "text/html": [
       "<html><script type=\"math/tex; mode=display\">\\newcommand{\\Bold}[1]{\\mathbf{#1}}n=12: 22 \\, m^{3} - 36 \\, m^{2} + 15 \\, m</script></html>"
      ],
      "text/plain": [
       "n=12: 22*m^3 - 36*m^2 + 15*m"
      ]
     },
     "metadata": {},
     "output_type": "display_data"
    }
   ],
   "source": [
    "print_counts(exc_counts_by_length, 'Excursion Count')"
   ]
  },
  {
   "cell_type": "code",
   "execution_count": null,
   "metadata": {},
   "outputs": [],
   "source": []
  }
 ],
 "metadata": {
  "kernelspec": {
   "display_name": "SageMath 9.0",
   "language": "sage",
   "name": "sagemath"
  },
  "language_info": {
   "codemirror_mode": {
    "name": "ipython",
    "version": 3
   },
   "file_extension": ".py",
   "mimetype": "text/x-python",
   "name": "python",
   "nbconvert_exporter": "python",
   "pygments_lexer": "ipython3",
   "version": "3.7.3"
  }
 },
 "nbformat": 4,
 "nbformat_minor": 2
}
