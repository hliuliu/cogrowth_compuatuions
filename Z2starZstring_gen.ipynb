{
 "cells": [
  {
   "cell_type": "markdown",
   "metadata": {},
   "source": [
    "# Word Generation In $G=\\mathbb{Z}_2*\\mathbb{Z}$\n",
    "\n",
    "### Write $G=\\langle x|x^2=1\\rangle*\\langle y \\rangle$, with generating set $S=\\{x,y,y^{-1}\\}$.\n",
    "\n",
    "Our interest is to generate all the **excursions** on the Cayley Graph of $G$ wrt $S$. These are words that end up back at one (Eg. $xx$ or $yy^{-1}$ or $yxxy^{-1}$). To avoid redundancy, we can generate **simple excursions**, those that don't go back to 1 \"too early\".\n",
    "\n",
    "Let $Z_{g,X}$ be the set of words ($\\in S^*$) that evaluates to $g\\in G$ and contains no proper prefix in $X\\subseteq G$.\n",
    "Let $Z_{g,X}^{(n)}$ be such words of length $n$. In most cases, we only need $X\\subseteq S\\cup\\{1\\}$.\n",
    "\n",
    "Our Goal is to find $Z_{1,\\emptyset}^{(n)}$ for some small $n$. Contenations of such words of varied $n$ gives another such word. To avoid redundency, We shall compute $Z_{1,\\{1\\}}^{(n)}$, and notice that \n",
    "\n",
    "$$Z_{1,\\emptyset}^{(n)}=\\left(\\cup_{\\lambda}[\\times_{i}Z_{1,\\{1\\}}^{(\\lambda_i)}]\\right)\\cup Z_{1,\\{1\\}}^{(n)}$$\n",
    "\n",
    "where $\\lambda=(\\lambda_i)$ ranges over the $2^{n-1}-1$ nontrivial compositions of $n$. Furthermore, the $2^{n-1}$ sets involved in the union expression are pairwise disjoint (Proof: Exercise for Jonah).\n"
   ]
  },
  {
   "cell_type": "code",
   "execution_count": 4,
   "metadata": {},
   "outputs": [
    {
     "data": {
      "text/plain": [
       "{'0': '1', '1': '2', '2': None}"
      ]
     },
     "execution_count": 4,
     "metadata": {},
     "output_type": "execute_result"
    }
   ],
   "source": [
    "# Let 0,1,2 denote x,y,y^-1 respectively. Use e for the identity of G and the empty word\n",
    "\n",
    "alph = [0,1,2] # Edit ONLY this line if you want to use different symbols\n",
    "\n",
    "alph = list(map(str,alph))\n",
    "nxt_alph_char = {alph[i]:alph[(i+1)] for i in range(len(alph)-1)}\n",
    "nxt_alph_char[alph[-1]] = None\n",
    "nxt_alph_char"
   ]
  },
  {
   "cell_type": "code",
   "execution_count": 5,
   "metadata": {},
   "outputs": [],
   "source": [
    "def char_inv(c):\n",
    "    '''\n",
    "    Recall: c in [0,1,2]\n",
    "    Returns the inverse element of c\n",
    "    '''\n",
    "    return alph[(3-alph.index(c))%3]\n",
    "    \n",
    "\n",
    "\n",
    "class Word_Z2Z(object):\n",
    "    def __init__(self,w=[]):\n",
    "        self.w = []\n",
    "        self.wred = [] # reduced word of w\n",
    "        for c in w:\n",
    "            self.add_char(c)\n",
    "    \n",
    "    def add_char(self,c):\n",
    "        w = self.w\n",
    "        wred = self.wred\n",
    "        w.append(c)\n",
    "        if self.wred[-1:]==[char_inv(c)]:\n",
    "            wred.pop()\n",
    "        else:\n",
    "            wred.append(c)\n",
    "    \n",
    "    def del_last(self):\n",
    "        # assume w is nonempty\n",
    "        w = self.w\n",
    "        c = w[-1]\n",
    "        self.add_char(char_inv(c))\n",
    "        w.pop()\n",
    "        w.pop()\n",
    "        return c\n",
    "        \n",
    "    def last(self):\n",
    "        return self.w[-1]\n",
    "        \n",
    "    def word(self):\n",
    "        return ''.join(map(str, self.w))\n",
    "    \n",
    "    def reduced_word(self):\n",
    "        return ''.join(map(str, self.wred))\n",
    "    \n",
    "    def __len__(self):\n",
    "        return len(self.w)\n",
    "    \n",
    "    def reduced_length(self):\n",
    "        return len(self.wred)\n",
    "        \n",
    "    def __str__(self):\n",
    "        return self.word()\n",
    "    \n",
    "    def __iter__(self):\n",
    "        return iter(self.w)\n",
    "    \n",
    "    def clone(self):\n",
    "        # bit more efficient than calling Word_Z2Z(self)\n",
    "        other = Word_Z2Z()\n",
    "        other.w = list(self.w)\n",
    "        other.wred = list(self.wred)\n",
    "        return other\n",
    "    \n",
    "    def clear(self):\n",
    "        self.w = []\n",
    "        self.wred = []\n",
    "    "
   ]
  },
  {
   "cell_type": "code",
   "execution_count": 6,
   "metadata": {},
   "outputs": [],
   "source": [
    "# initialize a new word generator\n",
    "wgen = Word_Z2Z()"
   ]
  },
  {
   "cell_type": "code",
   "execution_count": 7,
   "metadata": {},
   "outputs": [
    {
     "data": {
      "text/plain": [
       "True"
      ]
     },
     "execution_count": 7,
     "metadata": {},
     "output_type": "execute_result"
    }
   ],
   "source": [
    "str(wgen)=='' and len(wgen)==0"
   ]
  },
  {
   "cell_type": "code",
   "execution_count": 8,
   "metadata": {},
   "outputs": [],
   "source": [
    "from collections import defaultdict\n",
    "# start simple. generate all words up to a given max length\n",
    "maxlen = 5\n",
    "wlist_by_len = defaultdict(list)\n",
    "wd_reduction = {}\n",
    "\n",
    "# depth first approach\n",
    "#nit = 8\n",
    "\n",
    "start = 1\n",
    "\n",
    "while start or len(wgen):\n",
    "    start = 0\n",
    "    #print(wgen)\n",
    "    wlist_by_len[len(wgen)].append(str(wgen))\n",
    "    wd_reduction[str(wgen)] = wgen.reduced_word()\n",
    "    if len(wgen)<maxlen:\n",
    "        wgen.add_char(alph[0])\n",
    "    else:\n",
    "        while len(wgen) and nxt_alph_char[wgen.last()] is None:\n",
    "            wgen.del_last()\n",
    "        if len(wgen):\n",
    "            wgen.add_char(nxt_alph_char[wgen.del_last()])\n",
    "#     nit -=1\n",
    "#     if not nit:\n",
    "#         break"
   ]
  },
  {
   "cell_type": "code",
   "execution_count": 9,
   "metadata": {},
   "outputs": [
    {
     "name": "stdout",
     "output_type": "stream",
     "text": [
      "defaultdict(<class 'list'>, {0: [''], 1: ['0', '1', '2'], 2: ['00', '01', '02', '10', '11', '12', '20', '21', '22'], 3: ['000', '001', '002', '010', '011', '012', '020', '021', '022', '100', '101', '102', '110', '111', '112', '120', '121', '122', '200', '201', '202', '210', '211', '212', '220', '221', '222'], 4: ['0000', '0001', '0002', '0010', '0011', '0012', '0020', '0021', '0022', '0100', '0101', '0102', '0110', '0111', '0112', '0120', '0121', '0122', '0200', '0201', '0202', '0210', '0211', '0212', '0220', '0221', '0222', '1000', '1001', '1002', '1010', '1011', '1012', '1020', '1021', '1022', '1100', '1101', '1102', '1110', '1111', '1112', '1120', '1121', '1122', '1200', '1201', '1202', '1210', '1211', '1212', '1220', '1221', '1222', '2000', '2001', '2002', '2010', '2011', '2012', '2020', '2021', '2022', '2100', '2101', '2102', '2110', '2111', '2112', '2120', '2121', '2122', '2200', '2201', '2202', '2210', '2211', '2212', '2220', '2221', '2222'], 5: ['00000', '00001', '00002', '00010', '00011', '00012', '00020', '00021', '00022', '00100', '00101', '00102', '00110', '00111', '00112', '00120', '00121', '00122', '00200', '00201', '00202', '00210', '00211', '00212', '00220', '00221', '00222', '01000', '01001', '01002', '01010', '01011', '01012', '01020', '01021', '01022', '01100', '01101', '01102', '01110', '01111', '01112', '01120', '01121', '01122', '01200', '01201', '01202', '01210', '01211', '01212', '01220', '01221', '01222', '02000', '02001', '02002', '02010', '02011', '02012', '02020', '02021', '02022', '02100', '02101', '02102', '02110', '02111', '02112', '02120', '02121', '02122', '02200', '02201', '02202', '02210', '02211', '02212', '02220', '02221', '02222', '10000', '10001', '10002', '10010', '10011', '10012', '10020', '10021', '10022', '10100', '10101', '10102', '10110', '10111', '10112', '10120', '10121', '10122', '10200', '10201', '10202', '10210', '10211', '10212', '10220', '10221', '10222', '11000', '11001', '11002', '11010', '11011', '11012', '11020', '11021', '11022', '11100', '11101', '11102', '11110', '11111', '11112', '11120', '11121', '11122', '11200', '11201', '11202', '11210', '11211', '11212', '11220', '11221', '11222', '12000', '12001', '12002', '12010', '12011', '12012', '12020', '12021', '12022', '12100', '12101', '12102', '12110', '12111', '12112', '12120', '12121', '12122', '12200', '12201', '12202', '12210', '12211', '12212', '12220', '12221', '12222', '20000', '20001', '20002', '20010', '20011', '20012', '20020', '20021', '20022', '20100', '20101', '20102', '20110', '20111', '20112', '20120', '20121', '20122', '20200', '20201', '20202', '20210', '20211', '20212', '20220', '20221', '20222', '21000', '21001', '21002', '21010', '21011', '21012', '21020', '21021', '21022', '21100', '21101', '21102', '21110', '21111', '21112', '21120', '21121', '21122', '21200', '21201', '21202', '21210', '21211', '21212', '21220', '21221', '21222', '22000', '22001', '22002', '22010', '22011', '22012', '22020', '22021', '22022', '22100', '22101', '22102', '22110', '22111', '22112', '22120', '22121', '22122', '22200', '22201', '22202', '22210', '22211', '22212', '22220', '22221', '22222']})\n",
      "{'': '', '0': '0', '00': '', '000': '0', '0000': '', '00000': '0', '00001': '1', '00002': '2', '0001': '01', '00010': '010', '00011': '011', '00012': '0', '0002': '02', '00020': '020', '00021': '0', '00022': '022', '001': '1', '0010': '10', '00100': '1', '00101': '101', '00102': '102', '0011': '11', '00110': '110', '00111': '111', '00112': '1', '0012': '', '00120': '0', '00121': '1', '00122': '2', '002': '2', '0020': '20', '00200': '2', '00201': '201', '00202': '202', '0021': '', '00210': '0', '00211': '1', '00212': '2', '0022': '22', '00220': '220', '00221': '2', '00222': '222', '01': '01', '010': '010', '0100': '01', '01000': '010', '01001': '011', '01002': '0', '0101': '0101', '01010': '01010', '01011': '01011', '01012': '010', '0102': '0102', '01020': '01020', '01021': '010', '01022': '01022', '011': '011', '0110': '0110', '01100': '011', '01101': '01101', '01102': '01102', '0111': '0111', '01110': '01110', '01111': '01111', '01112': '011', '0112': '01', '01120': '010', '01121': '011', '01122': '0', '012': '0', '0120': '', '01200': '0', '01201': '1', '01202': '2', '0121': '01', '01210': '010', '01211': '011', '01212': '0', '0122': '02', '01220': '020', '01221': '0', '01222': '022', '02': '02', '020': '020', '0200': '02', '02000': '020', '02001': '0', '02002': '022', '0201': '0201', '02010': '02010', '02011': '02011', '02012': '020', '0202': '0202', '02020': '02020', '02021': '020', '02022': '02022', '021': '0', '0210': '', '02100': '0', '02101': '1', '02102': '2', '0211': '01', '02110': '010', '02111': '011', '02112': '0', '0212': '02', '02120': '020', '02121': '0', '02122': '022', '022': '022', '0220': '0220', '02200': '022', '02201': '02201', '02202': '02202', '0221': '02', '02210': '020', '02211': '0', '02212': '022', '0222': '0222', '02220': '02220', '02221': '022', '02222': '02222', '1': '1', '10': '10', '100': '1', '1000': '10', '10000': '1', '10001': '101', '10002': '102', '1001': '11', '10010': '110', '10011': '111', '10012': '1', '1002': '', '10020': '0', '10021': '1', '10022': '2', '101': '101', '1010': '1010', '10100': '101', '10101': '10101', '10102': '10102', '1011': '1011', '10110': '10110', '10111': '10111', '10112': '101', '1012': '10', '10120': '1', '10121': '101', '10122': '102', '102': '102', '1020': '1020', '10200': '102', '10201': '10201', '10202': '10202', '1021': '10', '10210': '1', '10211': '101', '10212': '102', '1022': '1022', '10220': '10220', '10221': '102', '10222': '10222', '11': '11', '110': '110', '1100': '11', '11000': '110', '11001': '111', '11002': '1', '1101': '1101', '11010': '11010', '11011': '11011', '11012': '110', '1102': '1102', '11020': '11020', '11021': '110', '11022': '11022', '111': '111', '1110': '1110', '11100': '111', '11101': '11101', '11102': '11102', '1111': '1111', '11110': '11110', '11111': '11111', '11112': '111', '1112': '11', '11120': '110', '11121': '111', '11122': '1', '112': '1', '1120': '10', '11200': '1', '11201': '101', '11202': '102', '1121': '11', '11210': '110', '11211': '111', '11212': '1', '1122': '', '11220': '0', '11221': '1', '11222': '2', '12': '', '120': '0', '1200': '', '12000': '0', '12001': '1', '12002': '2', '1201': '01', '12010': '010', '12011': '011', '12012': '0', '1202': '02', '12020': '020', '12021': '0', '12022': '022', '121': '1', '1210': '10', '12100': '1', '12101': '101', '12102': '102', '1211': '11', '12110': '110', '12111': '111', '12112': '1', '1212': '', '12120': '0', '12121': '1', '12122': '2', '122': '2', '1220': '20', '12200': '2', '12201': '201', '12202': '202', '1221': '', '12210': '0', '12211': '1', '12212': '2', '1222': '22', '12220': '220', '12221': '2', '12222': '222', '2': '2', '20': '20', '200': '2', '2000': '20', '20000': '2', '20001': '201', '20002': '202', '2001': '', '20010': '0', '20011': '1', '20012': '2', '2002': '22', '20020': '220', '20021': '2', '20022': '222', '201': '201', '2010': '2010', '20100': '201', '20101': '20101', '20102': '20102', '2011': '2011', '20110': '20110', '20111': '20111', '20112': '201', '2012': '20', '20120': '2', '20121': '201', '20122': '202', '202': '202', '2020': '2020', '20200': '202', '20201': '20201', '20202': '20202', '2021': '20', '20210': '2', '20211': '201', '20212': '202', '2022': '2022', '20220': '20220', '20221': '202', '20222': '20222', '21': '', '210': '0', '2100': '', '21000': '0', '21001': '1', '21002': '2', '2101': '01', '21010': '010', '21011': '011', '21012': '0', '2102': '02', '21020': '020', '21021': '0', '21022': '022', '211': '1', '2110': '10', '21100': '1', '21101': '101', '21102': '102', '2111': '11', '21110': '110', '21111': '111', '21112': '1', '2112': '', '21120': '0', '21121': '1', '21122': '2', '212': '2', '2120': '20', '21200': '2', '21201': '201', '21202': '202', '2121': '', '21210': '0', '21211': '1', '21212': '2', '2122': '22', '21220': '220', '21221': '2', '21222': '222', '22': '22', '220': '220', '2200': '22', '22000': '220', '22001': '2', '22002': '222', '2201': '2201', '22010': '22010', '22011': '22011', '22012': '220', '2202': '2202', '22020': '22020', '22021': '220', '22022': '22022', '221': '2', '2210': '20', '22100': '2', '22101': '201', '22102': '202', '2211': '', '22110': '0', '22111': '1', '22112': '2', '2212': '22', '22120': '220', '22121': '2', '22122': '222', '222': '222', '2220': '2220', '22200': '222', '22201': '22201', '22202': '22202', '2221': '22', '22210': '220', '22211': '2', '22212': '222', '2222': '2222', '22220': '22220', '22221': '222', '22222': '22222'}\n"
     ]
    },
    {
     "data": {
      "text/plain": [
       "True"
      ]
     },
     "execution_count": 9,
     "metadata": {},
     "output_type": "execute_result"
    }
   ],
   "source": [
    "            \n",
    "print(wlist_by_len)\n",
    "print(wd_reduction)\n",
    "len(wgen)==0        "
   ]
  },
  {
   "cell_type": "code",
   "execution_count": 10,
   "metadata": {},
   "outputs": [],
   "source": [
    "def is_reduced(w):\n",
    "    for c1,c2 in zip(w[:-1],w[1:]):\n",
    "        if c2==char_inv(c1):\n",
    "            return False\n",
    "    return True\n",
    "\n",
    "# all the reduction should indeed be reduced\n",
    "assert(all(map(is_reduced, wd_reduction.values())))"
   ]
  },
  {
   "cell_type": "code",
   "execution_count": 11,
   "metadata": {},
   "outputs": [],
   "source": [
    "def gen_simple_excursions_up_to_length(n):\n",
    "    wgen.clear()\n",
    "    start = 1\n",
    "    se_by_length = defaultdict(list)\n",
    "    while start or len(wgen):\n",
    "        if wgen.reduced_length()==0:\n",
    "            # everything cancels. reduced word is the empty word, so we have an excursion\n",
    "            se_by_length[len(wgen)].append(str(wgen))\n",
    "            # for only simple excursions, must SKIP all the superstrings (Those with the current word as a proper prefix)\n",
    "            # Note, in this case, the if statement below is not satisfied, so else block is entered.\n",
    "            ## Thus, wgen becomes the next string in lex order that is at most the current length.\n",
    "        if (start or wgen.reduced_length()) and len(wgen)<n and 2*wgen.reduced_length()<=n:\n",
    "            # we don't count the empty word as a violating substring for simpleness.\n",
    "            # The start variable helps make this exception.\n",
    "            # if the reduced length is too long, we cannot \"walk back in time\" to form an excursion.\n",
    "            wgen.add_char(alph[0])\n",
    "        else:\n",
    "            while len(wgen) and nxt_alph_char[wgen.last()] is None:\n",
    "                wgen.del_last()\n",
    "            if len(wgen):\n",
    "                wgen.add_char(nxt_alph_char[wgen.del_last()])\n",
    "        start = 0\n",
    "    return se_by_length"
   ]
  },
  {
   "cell_type": "code",
   "execution_count": 267,
   "metadata": {},
   "outputs": [],
   "source": [
    "import time\n",
    "\n",
    "def time_test(func, params):\n",
    "    runtimes = []\n",
    "    for p in params:\n",
    "        start = time.time()\n",
    "        func(p)\n",
    "        end = time.time()\n",
    "        runtimes.append((p, end-start))\n",
    "    return runtimes\n",
    "    \n",
    "    "
   ]
  },
  {
   "cell_type": "code",
   "execution_count": 13,
   "metadata": {
    "scrolled": true
   },
   "outputs": [
    {
     "data": {
      "text/plain": [
       "[(2, 0.0001578330993652344),\n",
       " (4, 0.0004637241363525391),\n",
       " (6, 0.003324508666992188),\n",
       " (8, 0.02486205101013184),\n",
       " (10, 0.2606596946716309),\n",
       " (12, 1.80329990386963),\n",
       " (14, 17.71326923370361),\n",
       " (16, 155.9225111007690),\n",
       " (18, 1505.366448163986)]"
      ]
     },
     "execution_count": 13,
     "metadata": {},
     "output_type": "execute_result"
    }
   ],
   "source": [
    "runtimes = time_test(gen_simple_excursions_up_to_length, range(2,20,2))\n",
    "runtimes"
   ]
  },
  {
   "cell_type": "code",
   "execution_count": 15,
   "metadata": {},
   "outputs": [
    {
     "name": "stdout",
     "output_type": "stream",
     "text": [
      " 2\t0:00:00.000158\n",
      " 4\t0:00:00.000464\n",
      " 6\t0:00:00.003325\n",
      " 8\t0:00:00.024862\n",
      "10\t0:00:00.260660\n",
      "12\t0:00:01.803300\n",
      "14\t0:00:17.713269\n",
      "16\t0:02:35.922511\n",
      "18\t0:25:05.366448\n"
     ]
    }
   ],
   "source": [
    "from datetime import timedelta\n",
    "for n, dur in runtimes:\n",
    "    print('%2d\\t%7s'%(n, timedelta(seconds=float(dur))))"
   ]
  },
  {
   "cell_type": "code",
   "execution_count": 21,
   "metadata": {},
   "outputs": [],
   "source": [
    "maxlen = 20"
   ]
  },
  {
   "cell_type": "code",
   "execution_count": 269,
   "metadata": {},
   "outputs": [],
   "source": [
    "se_by_length = gen_simple_excursions_up_to_length(maxlen)"
   ]
  },
  {
   "cell_type": "code",
   "execution_count": 22,
   "metadata": {},
   "outputs": [
    {
     "name": "stdout",
     "output_type": "stream",
     "text": [
      "0 1\n",
      "1 0\n",
      "2 3\n",
      "3 0\n",
      "4 6\n",
      "5 0\n",
      "6 24\n",
      "7 0\n",
      "8 120\n",
      "9 0\n",
      "10 672\n",
      "11 0\n",
      "12 4032\n",
      "13 0\n",
      "14 25344\n",
      "15 0\n",
      "16 164736\n",
      "17 0\n",
      "18 1098240\n",
      "19 0\n",
      "20 7468032\n",
      "[1, 3, 6, 24, 120, 672, 4032, 25344, 164736, 1098240, 7468032]\n"
     ]
    }
   ],
   "source": [
    "for n, ws in sorted(se_by_length.items()):\n",
    "    print (n, len(ws))\n",
    "print(list([len(se_by_length[n]) for n in range(0,maxlen+1,2)]))"
   ]
  },
  {
   "cell_type": "code",
   "execution_count": 271,
   "metadata": {
    "scrolled": false
   },
   "outputs": [],
   "source": [
    "# make sure these excursions are really simple.\n",
    "\n",
    "se_sets = {n:set(se_by_length[n]) for n in range(maxlen+1)}\n",
    "\n",
    "for n, sn in sorted(se_sets.items()):\n",
    "    for s in sn:\n",
    "        pref = ''\n",
    "        for x in s[:-1]:\n",
    "            pref+=x\n",
    "            assert(pref not in se_sets[len(pref)])\n",
    "\n",
    "\n",
    "\n"
   ]
  },
  {
   "cell_type": "code",
   "execution_count": 17,
   "metadata": {},
   "outputs": [],
   "source": [
    "# save and load routines\n",
    "\n",
    "def _preconvert(save_mode):\n",
    "    def _preconvert_word(w):\n",
    "        if save_mode:\n",
    "            return 'e' if not w else w\n",
    "        return '' if w=='e' else w\n",
    "    return _preconvert_word\n",
    "\n",
    "def save_gen(fname, wlist, maxlen=None):\n",
    "    if maxlen is None:\n",
    "        maxlen = max([n for n in wlist if wlist[n]])\n",
    "    with open(fname,'w') as handle:\n",
    "        for n in range(maxlen+1):\n",
    "            handle.write(' '.join(map(_preconvert(1),[str(n)]+wlist[n]))+'\\n')\n",
    "\n",
    "def load_gen(fname, skip_empty = 0):\n",
    "    wlist = {}\n",
    "    with open(fname) as handle:\n",
    "        for line in handle:\n",
    "            line = line.strip()\n",
    "            if line:\n",
    "                wn = line.split()\n",
    "                n = ZZ(wn.pop(0))\n",
    "                if skip_empty and not wn:\n",
    "                    continue\n",
    "                wlist[n] = list(map(_preconvert(0), wn))\n",
    "    return defaultdict(list, wlist)\n",
    "            "
   ]
  },
  {
   "cell_type": "code",
   "execution_count": 273,
   "metadata": {},
   "outputs": [],
   "source": [
    "save_gen('se.txt',se_by_length)"
   ]
  },
  {
   "cell_type": "code",
   "execution_count": 274,
   "metadata": {},
   "outputs": [
    {
     "data": {
      "text/plain": [
       "True"
      ]
     },
     "execution_count": 274,
     "metadata": {},
     "output_type": "execute_result"
    }
   ],
   "source": [
    "test = load_gen('se.txt')\n",
    "test == se_by_length\n"
   ]
  },
  {
   "cell_type": "code",
   "execution_count": 18,
   "metadata": {},
   "outputs": [],
   "source": [
    "se_by_length = load_gen('se.txt')"
   ]
  },
  {
   "cell_type": "code",
   "execution_count": 276,
   "metadata": {},
   "outputs": [
    {
     "data": {
      "text/plain": [
       "(y, z, t)"
      ]
     },
     "execution_count": 276,
     "metadata": {},
     "output_type": "execute_result"
    }
   ],
   "source": [
    "var('y z t')"
   ]
  },
  {
   "cell_type": "markdown",
   "metadata": {},
   "source": [
    "Let $E(t),S(t)$ be the series for $Z_{1,\\emptyset},Z_{1,\\{1\\}}$, respectively. \n",
    "It is already determined that $$E(t)=-\\frac{3 \\, \\sqrt{-8 \\, t^{2} + 1} - 1}{2 \\, {\\left(9 \\, t^{2} - 1\\right)}}.$$\n",
    "\n",
    "Clearly, $Z_{1,\\emptyset}=\\text{SEQ}(Z_{1,\\{1\\}}\\setminus \\{\\epsilon\\})$. Thus, $$E(t)=\\frac{1}{1-(S(t)-1)}.$$\n",
    "\n",
    "Rearranging, we get $S(t)=2-E(t)^{-1}$. We check the coefficients of Taylor series expansion for $S(t)$ at $0$."
   ]
  },
  {
   "cell_type": "code",
   "execution_count": 277,
   "metadata": {},
   "outputs": [
    {
     "data": {
      "text/html": [
       "<html><script type=\"math/tex; mode=display\">\\newcommand{\\Bold}[1]{\\mathbf{#1}}-\\frac{3 \\, \\sqrt{-8 \\, t^{2} + 1} - 1}{2 \\, {\\left(9 \\, t^{2} - 1\\right)}}</script></html>"
      ],
      "text/plain": [
       "-1/2*(3*sqrt(-8*t^2 + 1) - 1)/(9*t^2 - 1)"
      ]
     },
     "metadata": {},
     "output_type": "display_data"
    },
    {
     "data": {
      "text/plain": [
       "-\\frac{3 \\, \\sqrt{-8 \\, t^{2} + 1} - 1}{2 \\, {\\left(9 \\, t^{2} - 1\\right)}}"
      ]
     },
     "execution_count": 277,
     "metadata": {},
     "output_type": "execute_result"
    }
   ],
   "source": [
    "E = -1/2*(1-3*sqrt(1-8*t^2))/(1-9*t^2)\n",
    "pretty_print(E)\n",
    "latex(E)"
   ]
  },
  {
   "cell_type": "code",
   "execution_count": 278,
   "metadata": {},
   "outputs": [
    {
     "data": {
      "text/html": [
       "<html><script type=\"math/tex; mode=display\">\\newcommand{\\Bold}[1]{\\mathbf{#1}}\\frac{2 \\, {\\left(9 \\, t^{2} - 1\\right)}}{3 \\, \\sqrt{-8 \\, t^{2} + 1} - 1} + 2</script></html>"
      ],
      "text/plain": [
       "2*(9*t^2 - 1)/(3*sqrt(-8*t^2 + 1) - 1) + 2"
      ]
     },
     "metadata": {},
     "output_type": "display_data"
    }
   ],
   "source": [
    "S = 2-1/E\n",
    "pretty_print(S)"
   ]
  },
  {
   "cell_type": "code",
   "execution_count": 279,
   "metadata": {},
   "outputs": [
    {
     "data": {
      "text/html": [
       "<html><script type=\"math/tex; mode=display\">\\newcommand{\\Bold}[1]{\\mathbf{#1}}8099511 \\, t^{18} + 1143999 \\, t^{16} + 163719 \\, t^{14} + 23823 \\, t^{12} + 3543 \\, t^{10} + 543 \\, t^{8} + 87 \\, t^{6} + 15 \\, t^{4} + 3 \\, t^{2} + 1</script></html>"
      ],
      "text/plain": [
       "8099511*t^18 + 1143999*t^16 + 163719*t^14 + 23823*t^12 + 3543*t^10 + 543*t^8 + 87*t^6 + 15*t^4 + 3*t^2 + 1"
      ]
     },
     "metadata": {},
     "output_type": "display_data"
    }
   ],
   "source": [
    "\n",
    "pretty_print(E.taylor(t, 0, maxlen))"
   ]
  },
  {
   "cell_type": "code",
   "execution_count": 280,
   "metadata": {},
   "outputs": [
    {
     "data": {
      "text/html": [
       "<html><script type=\"math/tex; mode=display\">\\newcommand{\\Bold}[1]{\\mathbf{#1}}1098240 \\, t^{18} + 164736 \\, t^{16} + 25344 \\, t^{14} + 4032 \\, t^{12} + 672 \\, t^{10} + 120 \\, t^{8} + 24 \\, t^{6} + 6 \\, t^{4} + 3 \\, t^{2} + 1</script></html>"
      ],
      "text/plain": [
       "1098240*t^18 + 164736*t^16 + 25344*t^14 + 4032*t^12 + 672*t^10 + 120*t^8 + 24*t^6 + 6*t^4 + 3*t^2 + 1"
      ]
     },
     "metadata": {},
     "output_type": "display_data"
    }
   ],
   "source": [
    "\n",
    "pretty_print(S.taylor(t, 0, maxlen))"
   ]
  },
  {
   "cell_type": "code",
   "execution_count": null,
   "metadata": {},
   "outputs": [],
   "source": []
  },
  {
   "cell_type": "code",
   "execution_count": null,
   "metadata": {},
   "outputs": [],
   "source": []
  },
  {
   "cell_type": "code",
   "execution_count": 220,
   "metadata": {},
   "outputs": [],
   "source": []
  },
  {
   "cell_type": "code",
   "execution_count": null,
   "metadata": {},
   "outputs": [],
   "source": []
  }
 ],
 "metadata": {
  "kernelspec": {
   "display_name": "SageMath 9.0",
   "language": "sage",
   "name": "sagemath"
  },
  "language_info": {
   "codemirror_mode": {
    "name": "ipython",
    "version": 3
   },
   "file_extension": ".py",
   "mimetype": "text/x-python",
   "name": "python",
   "nbconvert_exporter": "python",
   "pygments_lexer": "ipython3",
   "version": "3.7.3"
  }
 },
 "nbformat": 4,
 "nbformat_minor": 2
}
