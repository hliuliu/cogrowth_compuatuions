{
 "cells": [
  {
   "cell_type": "markdown",
   "metadata": {},
   "source": [
    "# Word Generation In $G=\\mathbb{Z}_2*\\mathbb{Z}$\n",
    "\n",
    "### Write $G=\\langle x|x^2=1\\rangle*\\langle y \\rangle$, with generating set $S=\\{x,y,y^{-1}\\}$.\n",
    "\n",
    "Our interest is to generate all the **excursions** on the Cayley Graph of $G$ wrt $S$. These are words that end up back at one (Eg. $xx$ or $yy^{-1}$ or $yxxy^{-1}$). To avoid redundancy, we can generate **simple excursions**, those that don't go back to 1 \"too early\".\n",
    "\n",
    "Let $Z_{g,X}$ be the set of words ($\\in S^*$) that evaluates to $g\\in G$ and contains no proper prefix in $X\\subseteq S$.\n",
    "Let $Z_{g,X}^{(n)}$ be such words of length $n$.\n",
    "\n",
    "Our Goal is to find $Z_{1,\\emptyset}^{(n)}$ for some small $n$. Contenations of such words of varied $n$ gives another such word. To avoid redundency, We shall compute $Z_{1,\\{1\\}}^{(n)}$, and notice that \n",
    "\n",
    "$$Z_{1,\\emptyset}^{(n)}=\\left(\\cup_{\\lambda}[\\times_{i}Z_{1,\\{1\\}}^{(\\lambda_i)}]\\right)\\cup Z_{1,\\{1\\}}^{(n)}$$\n",
    "\n",
    "where $\\lambda=(\\lambda_i)$ ranges over the $2^{n-1}-1$ nontrivial compostions of $n$. Furthermore, the $2^{n-1}$ sets involved in the union expression are pairwise disjoint.\n"
   ]
  },
  {
   "cell_type": "code",
   "execution_count": 26,
   "metadata": {},
   "outputs": [
    {
     "data": {
      "text/plain": [
       "{0: 1, 1: 2, 2: None}"
      ]
     },
     "execution_count": 26,
     "metadata": {},
     "output_type": "execute_result"
    }
   ],
   "source": [
    "# Let 0,1,2 denote x,y,y^-1 respectively. Use e for the identity of G and the empty word\n",
    "alph = [0,1,2]\n",
    "nxt_alph_char = {alph[i]:alph[(i+1)] for i in range(len(alph)-1)}\n",
    "nxt_alph_char[alph[-1]] = None\n",
    "nxt_alph_char"
   ]
  },
  {
   "cell_type": "code",
   "execution_count": 27,
   "metadata": {},
   "outputs": [],
   "source": [
    "def char_inv(c):\n",
    "    '''\n",
    "    Recall: c in [0,1,2]\n",
    "    Returns the inverse element of c\n",
    "    '''\n",
    "    return (3-c)%3\n",
    "    \n",
    "\n",
    "\n",
    "class Word_Z2Z(object):\n",
    "    def __init__(self,w=[]):\n",
    "        self.w = []\n",
    "        self.wred = [] # reduced word of w\n",
    "        for c in w:\n",
    "            self.add_char(c)\n",
    "    \n",
    "    def add_char(self,c):\n",
    "        w = self.w\n",
    "        wred = self.wred\n",
    "        w.append(c)\n",
    "        if self.wred[-1:]==[char_inv(c)]:\n",
    "            wred.pop()\n",
    "        else:\n",
    "            wred.append(c)\n",
    "    \n",
    "    def del_last(self):\n",
    "        # assume w is nonempty\n",
    "        w = self.w\n",
    "        c = w[-1]\n",
    "        self.add_char(char_inv(c))\n",
    "        w.pop()\n",
    "        w.pop()\n",
    "        return c\n",
    "        \n",
    "    def last(self):\n",
    "        return self.w[-1]\n",
    "        \n",
    "    def word(self):\n",
    "        return ''.join(map(str, self.w))\n",
    "    \n",
    "    def reduced_word(self):\n",
    "        return ''.join(map(str, self.wred))\n",
    "    \n",
    "    def __len__(self):\n",
    "        return len(self.w)\n",
    "    \n",
    "    def reduced_length(self):\n",
    "        return len(self.wred)\n",
    "        \n",
    "    def __str__(self):\n",
    "        return self.word()\n",
    "    \n",
    "    def __iter__(self):\n",
    "        return iter(self.w)\n",
    "    \n",
    "    def clone(self):\n",
    "        # more efficient than calling Word_Z2Z(self)\n",
    "        other = Word_Z2Z()\n",
    "        other.w = self.w\n",
    "        other.wred = self.wred\n",
    "        return other\n",
    "    \n",
    "    def clear(self):\n",
    "        self.w = []\n",
    "        self.wred = []\n",
    "    "
   ]
  },
  {
   "cell_type": "code",
   "execution_count": 45,
   "metadata": {},
   "outputs": [],
   "source": [
    "# initialize a new word generator\n",
    "wgen = Word_Z2Z()"
   ]
  },
  {
   "cell_type": "code",
   "execution_count": 46,
   "metadata": {},
   "outputs": [
    {
     "data": {
      "text/plain": [
       "True"
      ]
     },
     "execution_count": 46,
     "metadata": {},
     "output_type": "execute_result"
    }
   ],
   "source": [
    "str(wgen)=='' and len(wgen)==0"
   ]
  },
  {
   "cell_type": "code",
   "execution_count": 47,
   "metadata": {},
   "outputs": [],
   "source": [
    "from collections import defaultdict\n",
    "# start simple. generate all words up to a given max length\n",
    "maxlen = 2\n",
    "wlist_by_len = defaultdict(list)\n",
    "\n",
    "# depth first approach\n",
    "\n",
    "start = 1\n",
    "#nit = 8\n",
    "while start or len(wgen):\n",
    "    start = 0\n",
    "    #print(wgen)\n",
    "    wlist_by_len[len(wgen)].append(str(wgen))\n",
    "    if len(wgen)<maxlen:\n",
    "        wgen.add_char(alph[0])\n",
    "    else:\n",
    "        while len(wgen) and nxt_alph_char[wgen.last()] is None:\n",
    "            wgen.del_last()\n",
    "        if len(wgen):\n",
    "            wgen.add_char(nxt_alph_char[wgen.del_last()])\n",
    "#     nit -=1\n",
    "#     if not nit:\n",
    "#         break"
   ]
  },
  {
   "cell_type": "code",
   "execution_count": 48,
   "metadata": {},
   "outputs": [
    {
     "name": "stdout",
     "output_type": "stream",
     "text": [
      "defaultdict(<class 'list'>, {0: [''], 1: ['0', '1', '2'], 2: ['00', '01', '02', '10', '11', '12', '20', '21', '22']})\n"
     ]
    }
   ],
   "source": [
    "            \n",
    "print(wlist_by_len)\n",
    "        "
   ]
  },
  {
   "cell_type": "code",
   "execution_count": 12,
   "metadata": {},
   "outputs": [],
   "source": []
  },
  {
   "cell_type": "code",
   "execution_count": null,
   "metadata": {},
   "outputs": [],
   "source": []
  },
  {
   "cell_type": "code",
   "execution_count": null,
   "metadata": {},
   "outputs": [],
   "source": []
  },
  {
   "cell_type": "code",
   "execution_count": null,
   "metadata": {},
   "outputs": [],
   "source": []
  }
 ],
 "metadata": {
  "kernelspec": {
   "display_name": "SageMath 9.0",
   "language": "sage",
   "name": "sagemath"
  },
  "language_info": {
   "codemirror_mode": {
    "name": "ipython",
    "version": 3
   },
   "file_extension": ".py",
   "mimetype": "text/x-python",
   "name": "python",
   "nbconvert_exporter": "python",
   "pygments_lexer": "ipython3",
   "version": "3.7.3"
  }
 },
 "nbformat": 4,
 "nbformat_minor": 2
}
