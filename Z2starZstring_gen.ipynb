{
 "cells": [
  {
   "cell_type": "markdown",
   "metadata": {},
   "source": [
    "# Word Generation In $G=\\mathbb{Z}_2*\\mathbb{Z}$\n",
    "\n",
    "### Write $G=\\langle x|x^2=1\\rangle*\\langle y \\rangle$, with generating set $S=\\{x,y,y^{-1}\\}$.\n",
    "\n",
    "Our interest is to generate all the **excursions** on the Cayley Graph of $G$ wrt $S$. These are words that end up back at one (Eg. $xx$ or $yy^{-1}$ or $yxxy^{-1}$). To avoid redundancy, we can generate **simple excursions**, those that don't go back to 1 \"too early\".\n",
    "\n",
    "Let $Z_{g,X}$ be the set of words ($\\in S^*$) that evaluates to $g\\in G$ and contains no proper prefix in $X\\subseteq G$.\n",
    "Let $Z_{g,X}^{(n)}$ be such words of length $n$. \n",
    "\n",
    "Our Goal is to find $Z_{1,\\emptyset}^{(n)}$ for some small $n$. Contenations of such words of varied $n$ gives another such word. To avoid redundency, We shall compute $Z_{1,\\{1\\}}^{(n)}$, and notice that \n",
    "\n",
    "$$Z_{1,\\emptyset}^{(n)}=\\left(\\cup_{\\lambda}[\\times_{i}Z_{1,\\{1\\}}^{(\\lambda_i)}]\\right)\\cup Z_{1,\\{1\\}}^{(n)}$$\n",
    "\n",
    "where $\\lambda=(\\lambda_i)$ ranges over the $2^{n-1}-1$ nontrivial compositions of $n$. Furthermore, the $2^{n-1}$ sets involved in the union expression are pairwise disjoint.\n"
   ]
  },
  {
   "cell_type": "code",
   "execution_count": 26,
   "metadata": {},
   "outputs": [
    {
     "data": {
      "text/plain": [
       "{0: 1, 1: 2, 2: None}"
      ]
     },
     "execution_count": 26,
     "metadata": {},
     "output_type": "execute_result"
    }
   ],
   "source": [
    "# Let 0,1,2 denote x,y,y^-1 respectively. Use e for the identity of G and the empty word\n",
    "\n",
    "alph = [0,1,2] # Edit ONLY this line if you want to use different symbols\n",
    "\n",
    "nxt_alph_char = {alph[i]:alph[(i+1)] for i in range(len(alph)-1)}\n",
    "nxt_alph_char[alph[-1]] = None\n",
    "nxt_alph_char"
   ]
  },
  {
   "cell_type": "code",
   "execution_count": 27,
   "metadata": {},
   "outputs": [],
   "source": [
    "def char_inv(c):\n",
    "    '''\n",
    "    Recall: c in [0,1,2]\n",
    "    Returns the inverse element of c\n",
    "    '''\n",
    "    return alph[(3-c)%3]\n",
    "    \n",
    "\n",
    "\n",
    "class Word_Z2Z(object):\n",
    "    def __init__(self,w=[]):\n",
    "        self.w = []\n",
    "        self.wred = [] # reduced word of w\n",
    "        for c in w:\n",
    "            self.add_char(c)\n",
    "    \n",
    "    def add_char(self,c):\n",
    "        w = self.w\n",
    "        wred = self.wred\n",
    "        w.append(c)\n",
    "        if self.wred[-1:]==[char_inv(c)]:\n",
    "            wred.pop()\n",
    "        else:\n",
    "            wred.append(c)\n",
    "    \n",
    "    def del_last(self):\n",
    "        # assume w is nonempty\n",
    "        w = self.w\n",
    "        c = w[-1]\n",
    "        self.add_char(char_inv(c))\n",
    "        w.pop()\n",
    "        w.pop()\n",
    "        return c\n",
    "        \n",
    "    def last(self):\n",
    "        return self.w[-1]\n",
    "        \n",
    "    def word(self):\n",
    "        return ''.join(map(str, self.w))\n",
    "    \n",
    "    def reduced_word(self):\n",
    "        return ''.join(map(str, self.wred))\n",
    "    \n",
    "    def __len__(self):\n",
    "        return len(self.w)\n",
    "    \n",
    "    def reduced_length(self):\n",
    "        return len(self.wred)\n",
    "        \n",
    "    def __str__(self):\n",
    "        return self.word()\n",
    "    \n",
    "    def __iter__(self):\n",
    "        return iter(self.w)\n",
    "    \n",
    "    def clone(self):\n",
    "        # more efficient than calling Word_Z2Z(self)\n",
    "        other = Word_Z2Z()\n",
    "        other.w = self.w\n",
    "        other.wred = self.wred\n",
    "        return other\n",
    "    \n",
    "    def clear(self):\n",
    "        self.w = []\n",
    "        self.wred = []\n",
    "    "
   ]
  },
  {
   "cell_type": "code",
   "execution_count": 49,
   "metadata": {},
   "outputs": [],
   "source": [
    "# initialize a new word generator\n",
    "wgen = Word_Z2Z()"
   ]
  },
  {
   "cell_type": "code",
   "execution_count": 55,
   "metadata": {},
   "outputs": [
    {
     "data": {
      "text/plain": [
       "True"
      ]
     },
     "execution_count": 55,
     "metadata": {},
     "output_type": "execute_result"
    }
   ],
   "source": [
    "str(wgen)=='' and len(wgen)==0"
   ]
  },
  {
   "cell_type": "code",
   "execution_count": 56,
   "metadata": {},
   "outputs": [],
   "source": [
    "from collections import defaultdict\n",
    "# start simple. generate all words up to a given max length\n",
    "maxlen = 5\n",
    "wlist_by_len = defaultdict(list)\n",
    "\n",
    "# depth first approach\n",
    "\n",
    "start = 1\n",
    "#nit = 8\n",
    "while start or len(wgen):\n",
    "    start = 0\n",
    "    #print(wgen)\n",
    "    wlist_by_len[len(wgen)].append(str(wgen))\n",
    "    if len(wgen)<maxlen:\n",
    "        wgen.add_char(alph[0])\n",
    "    else:\n",
    "        while len(wgen) and nxt_alph_char[wgen.last()] is None:\n",
    "            wgen.del_last()\n",
    "        if len(wgen):\n",
    "            wgen.add_char(nxt_alph_char[wgen.del_last()])\n",
    "#     nit -=1\n",
    "#     if not nit:\n",
    "#         break"
   ]
  },
  {
   "cell_type": "code",
   "execution_count": 57,
   "metadata": {},
   "outputs": [
    {
     "name": "stdout",
     "output_type": "stream",
     "text": [
      "defaultdict(<class 'list'>, {0: [''], 1: ['0', '1', '2'], 2: ['00', '01', '02', '10', '11', '12', '20', '21', '22'], 3: ['000', '001', '002', '010', '011', '012', '020', '021', '022', '100', '101', '102', '110', '111', '112', '120', '121', '122', '200', '201', '202', '210', '211', '212', '220', '221', '222'], 4: ['0000', '0001', '0002', '0010', '0011', '0012', '0020', '0021', '0022', '0100', '0101', '0102', '0110', '0111', '0112', '0120', '0121', '0122', '0200', '0201', '0202', '0210', '0211', '0212', '0220', '0221', '0222', '1000', '1001', '1002', '1010', '1011', '1012', '1020', '1021', '1022', '1100', '1101', '1102', '1110', '1111', '1112', '1120', '1121', '1122', '1200', '1201', '1202', '1210', '1211', '1212', '1220', '1221', '1222', '2000', '2001', '2002', '2010', '2011', '2012', '2020', '2021', '2022', '2100', '2101', '2102', '2110', '2111', '2112', '2120', '2121', '2122', '2200', '2201', '2202', '2210', '2211', '2212', '2220', '2221', '2222'], 5: ['00000', '00001', '00002', '00010', '00011', '00012', '00020', '00021', '00022', '00100', '00101', '00102', '00110', '00111', '00112', '00120', '00121', '00122', '00200', '00201', '00202', '00210', '00211', '00212', '00220', '00221', '00222', '01000', '01001', '01002', '01010', '01011', '01012', '01020', '01021', '01022', '01100', '01101', '01102', '01110', '01111', '01112', '01120', '01121', '01122', '01200', '01201', '01202', '01210', '01211', '01212', '01220', '01221', '01222', '02000', '02001', '02002', '02010', '02011', '02012', '02020', '02021', '02022', '02100', '02101', '02102', '02110', '02111', '02112', '02120', '02121', '02122', '02200', '02201', '02202', '02210', '02211', '02212', '02220', '02221', '02222', '10000', '10001', '10002', '10010', '10011', '10012', '10020', '10021', '10022', '10100', '10101', '10102', '10110', '10111', '10112', '10120', '10121', '10122', '10200', '10201', '10202', '10210', '10211', '10212', '10220', '10221', '10222', '11000', '11001', '11002', '11010', '11011', '11012', '11020', '11021', '11022', '11100', '11101', '11102', '11110', '11111', '11112', '11120', '11121', '11122', '11200', '11201', '11202', '11210', '11211', '11212', '11220', '11221', '11222', '12000', '12001', '12002', '12010', '12011', '12012', '12020', '12021', '12022', '12100', '12101', '12102', '12110', '12111', '12112', '12120', '12121', '12122', '12200', '12201', '12202', '12210', '12211', '12212', '12220', '12221', '12222', '20000', '20001', '20002', '20010', '20011', '20012', '20020', '20021', '20022', '20100', '20101', '20102', '20110', '20111', '20112', '20120', '20121', '20122', '20200', '20201', '20202', '20210', '20211', '20212', '20220', '20221', '20222', '21000', '21001', '21002', '21010', '21011', '21012', '21020', '21021', '21022', '21100', '21101', '21102', '21110', '21111', '21112', '21120', '21121', '21122', '21200', '21201', '21202', '21210', '21211', '21212', '21220', '21221', '21222', '22000', '22001', '22002', '22010', '22011', '22012', '22020', '22021', '22022', '22100', '22101', '22102', '22110', '22111', '22112', '22120', '22121', '22122', '22200', '22201', '22202', '22210', '22211', '22212', '22220', '22221', '22222']})\n"
     ]
    }
   ],
   "source": [
    "            \n",
    "print(wlist_by_len)\n",
    "        "
   ]
  },
  {
   "cell_type": "code",
   "execution_count": 12,
   "metadata": {},
   "outputs": [],
   "source": []
  },
  {
   "cell_type": "code",
   "execution_count": null,
   "metadata": {},
   "outputs": [],
   "source": []
  },
  {
   "cell_type": "code",
   "execution_count": null,
   "metadata": {},
   "outputs": [],
   "source": []
  },
  {
   "cell_type": "code",
   "execution_count": null,
   "metadata": {},
   "outputs": [],
   "source": []
  }
 ],
 "metadata": {
  "kernelspec": {
   "display_name": "SageMath 9.0",
   "language": "sage",
   "name": "sagemath"
  },
  "language_info": {
   "codemirror_mode": {
    "name": "ipython",
    "version": 3
   },
   "file_extension": ".py",
   "mimetype": "text/x-python",
   "name": "python",
   "nbconvert_exporter": "python",
   "pygments_lexer": "ipython3",
   "version": "3.7.3"
  }
 },
 "nbformat": 4,
 "nbformat_minor": 2
}
