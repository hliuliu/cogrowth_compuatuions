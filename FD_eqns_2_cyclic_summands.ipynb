{
 "cells": [
  {
   "cell_type": "markdown",
   "metadata": {},
   "source": [
    "# Function Dependency Equation for Free Product of 2 Cyclic Groups.\n",
    "\n",
    "Consider $G=\\langle x| x^m=1 \\rangle * \\langle y| y^n=1 \\rangle$, where $m,n \\in \\mathbb{Z}_{\\ge0}\\setminus \\{1\\}$. Note that $|G|<\\infty \\iff mn>0$. \n",
    "Take the generating set $S=S_x\\cup S_y$ for $G$, where \n",
    "$$S_x=\\{x\\}\\cup \\iota(m=0)\\cdot\\{x^{-1}\\}, S_y=\\{y\\}\\cup \\iota(n=0)\\cdot\\{y^{-1}\\},$$ \n",
    "and $$\\iota(\\mathcal{P})=\\begin{cases}\\{1\\},&\\mathcal{P}\\\\ \\emptyset,& \\lnot \\mathcal{P}\\end{cases}$$ with $\\cdot$ denoting elementwise group multiplication on sets [$A\\cdot B = \\{ab: a\\in A,\\ b\\in B\\}$]. \n",
    "\n",
    "For $g\\in G$ and $X\\subseteq G$, let $F_{g,X}(t)$ be series for the set of all words in $S^*$ equivalent to $g\\in G$, with proper nonempty prefixes avoiding $X$, characterized by the word length. We set up functional equations involving $F_{g,X}$, for which $\\{g\\}\\cup X\\subseteq \\{v^k: k\\in \\mathbb{Z}\\}$, and $v\\in \\{x,y\\}$. Finally, we solve for $F(t):=F_{1,\\emptyset}(t)$."
   ]
  },
  {
   "cell_type": "code",
   "execution_count": 313,
   "metadata": {},
   "outputs": [],
   "source": [
    "# choose your desired values for m,n\n",
    "# for now, only work for finite G, (mn>0)\n",
    "m = 3\n",
    "n = 3\n",
    "\n",
    "# Do we want word concatenation to reduce to group multiplication?\n",
    "AUTO_REDUCE = True\n",
    "DEFAULT_RS = None # a rewiting system in order to make group element reduction possible, will be set later\n"
   ]
  },
  {
   "cell_type": "code",
   "execution_count": 314,
   "metadata": {},
   "outputs": [],
   "source": [
    "# need to define set-set, set-element multiplication\n",
    "def set_mult(A,B):\n",
    "    # turn any non-set object into a singleton set containing that object\n",
    "    A,B = map(lambda S: S if S in Sets else Set([S]),[A,B])\n",
    "    C= Set([a*b for a,b in cartesian_product([A,B])]) # assuming element multiplication is well defined\n",
    "    if AUTO_REDUCE and DEFAULT_RS is not None:\n",
    "        C = Set([DEFAULT_RS.reduce(c) for c in C])\n",
    "    return C\n",
    "\n",
    "# Let's overload the '*' operator for Set objects\n",
    "# Set is a function, but returns an instance of some spectifed kind of Set class, which is accessible via .parent()\n",
    "reverse_if = lambda seq, cond: list(seq) if not cond else list(reversed(seq))\n",
    "Set().parent()._mul_ =  lambda self, other, switch_sides=False: set_mult(*(reverse_if([self,other], switch_sides)))"
   ]
  },
  {
   "cell_type": "code",
   "execution_count": 315,
   "metadata": {},
   "outputs": [],
   "source": [
    "# compute the free product\n",
    "F2.<x,y> = FreeGroup()\n",
    "G = F2/ (x^m,y^n)\n",
    "x,y = G.gens()\n",
    "\n",
    "# need to write words in reduced form\n",
    "Grs = G.rewriting_system()\n",
    "DEFAULT_RS = Grs"
   ]
  },
  {
   "cell_type": "code",
   "execution_count": 316,
   "metadata": {},
   "outputs": [
    {
     "name": "stdout",
     "output_type": "stream",
     "text": [
      "{x*y, x^2, x}\n",
      "{x*y, x^2, x}\n",
      "{x*y, x^2, x}\n"
     ]
    }
   ],
   "source": [
    "# test it out\n",
    "A = Set([x,y,G.one()])\n",
    "\n",
    "print(x*A) # with reduction\n",
    "\n",
    "# very simple to supress/invoke group reduction\n",
    "AUTO_REDUCE = False\n",
    "print(x*A) # without reduction\n",
    "AUTO_REDUCE = True\n",
    "print(x*A) # with reduction"
   ]
  },
  {
   "cell_type": "code",
   "execution_count": 317,
   "metadata": {},
   "outputs": [],
   "source": [
    "# latex expression for sets\n",
    "def set_to_latex(A):\n",
    "    if A == Set():\n",
    "        return r'\\emptyset'\n",
    "    return latex(A)"
   ]
  },
  {
   "cell_type": "code",
   "execution_count": 318,
   "metadata": {},
   "outputs": [
    {
     "data": {
      "text/plain": [
       "True"
      ]
     },
     "execution_count": 318,
     "metadata": {},
     "output_type": "execute_result"
    }
   ],
   "source": [
    "# define a space of variables indexed by the (g,X) pairs\n",
    "# start with what we wish to solve, (1,\\emptyset).\n",
    "def series_expression(g,X):\n",
    "    return 'F_{%s,%s}(t)'%(latex(g),set_to_latex(X))\n",
    "var_space = {}\n",
    "goal_pair = (G.one(), Set())\n",
    "VAR_COUNTER = 0 # increment every time a new series variable is defined\n",
    "\n",
    "def add_series_var(pair):\n",
    "    if pair in var_space:\n",
    "        return False\n",
    "    global VAR_COUNTER\n",
    "    g,X = pair\n",
    "    var_space[pair] = var('v%d'%VAR_COUNTER, latex_name = series_expression(g,X))\n",
    "    VAR_COUNTER += 1\n",
    "    return True\n",
    "\n",
    "add_series_var(goal_pair)\n",
    "    "
   ]
  },
  {
   "cell_type": "code",
   "execution_count": 319,
   "metadata": {},
   "outputs": [
    {
     "data": {
      "text/html": [
       "<html><script type=\"math/tex; mode=display\">\\newcommand{\\Bold}[1]{\\mathbf{#1}}\\left\\{\\left(1, \\left\\{\\right\\}\\right) : {F_{1,\\emptyset}(t)}\\right\\}</script></html>"
      ],
      "text/plain": [
       "{(1, {}): v0}"
      ]
     },
     "metadata": {},
     "output_type": "display_data"
    }
   ],
   "source": [
    "pretty_print(var_space)"
   ]
  },
  {
   "cell_type": "code",
   "execution_count": 320,
   "metadata": {},
   "outputs": [],
   "source": [
    "# Now get the cyclic factors\n",
    "\n",
    "# Sage is not good with subgroups\n",
    "# Gx = G.subgroup((x,))\n",
    "# Gy = G.subgroup((y,))\n",
    "# xx,yy = Gx.gens()+Gy.gens()\n",
    "\n",
    "def in_cyclic_factor(el, v):\n",
    "    '''\n",
    "        returns if the group element is in the given cyclic factor\n",
    "        el: the element in G to check\n",
    "        v: either x or y, the generator of the factor \n",
    "    '''\n",
    "    expr = el.syllables()\n",
    "    if not expr:\n",
    "        return True\n",
    "    return len(expr)==1 and expr[0][0] == v\n",
    "    \n",
    "def subset_of_cyclic_factor(A,v):\n",
    "    # assume finite sets only\n",
    "    return all((in_cyclic_factor(el,v) for el in A))"
   ]
  },
  {
   "cell_type": "code",
   "execution_count": 321,
   "metadata": {},
   "outputs": [],
   "source": [
    "# for finite cyclic factors, we don't want negative exponents. We redefine the __pow__ method.\n",
    "if AUTO_REDUCE and DEFAULT_RS is not None:\n",
    "    if '_old_pow' not in vars():\n",
    "        _old_pow = type(x).__pow__\n",
    "    def _new_pow(a, k):\n",
    "        if k not in ZZ or k>=0:\n",
    "            # case isn't broken, don't change it\n",
    "            return _old_pow(a,k)\n",
    "\n",
    "        # k is a negative integer\n",
    "        ans = _old_pow(a,k)\n",
    "    #     if AUTO_REDUCE:\n",
    "    #         ans = DEFAULT_RS.reduce(ans)\n",
    "        nans = G.one()\n",
    "        for v,ep in ans.syllables():\n",
    "            modval = m if v==x else n\n",
    "            nans*= _old_pow(v, ep if modval==0 else ep%modval)\n",
    "        return nans\n",
    "    type(x).__pow__ = _new_pow"
   ]
  },
  {
   "cell_type": "code",
   "execution_count": 322,
   "metadata": {},
   "outputs": [],
   "source": [
    "# For multiplication, want auto reduation to be available\n",
    "# if AUTO_REDUCE and DEFAULT_RS is not None:\n",
    "#     if '_old_mul' not in vars():\n",
    "#         _old_mul = type(x).__mul__\n",
    "#     def _new_mul(a, b):\n",
    "#         return DEFAULT_RS.reduce(_old_mul(a,b))\n",
    "#     type(x).__mul__ = _new_mul\n"
   ]
  },
  {
   "cell_type": "code",
   "execution_count": 323,
   "metadata": {},
   "outputs": [
    {
     "data": {
      "text/plain": [
       "(x, x^2, x^4, x^2, y^2*x^2, x, 1, x^2, True)"
      ]
     },
     "execution_count": 323,
     "metadata": {},
     "output_type": "execute_result"
    }
   ],
   "source": [
    "x,x^2,x^3*x,x^-1,(x*y)^-1, x^-2,y^-3,(x*y^3)^-1, '_old_pow' in vars()"
   ]
  },
  {
   "cell_type": "code",
   "execution_count": 324,
   "metadata": {},
   "outputs": [
    {
     "data": {
      "text/plain": [
       "t"
      ]
     },
     "execution_count": 324,
     "metadata": {},
     "output_type": "execute_result"
    }
   ],
   "source": [
    "var('t')"
   ]
  },
  {
   "cell_type": "code",
   "execution_count": 325,
   "metadata": {},
   "outputs": [],
   "source": [
    "# construct the functional equation given the desired (g,X) pair\n",
    "# assume {g}\\cup X is completely in one of the cyclic factors\n",
    "# CURRENTLY FINITE CASE ONLY\n",
    "\n",
    "def get_FD_equation(pair, ret_new_pairs = True):\n",
    "    '''\n",
    "        returns a functional depency equation\n",
    "        if ret_new_pairs is set to True, return a (equation, set of (g,X) pairs) pair instead\n",
    "    '''\n",
    "    if ret_new_pairs:\n",
    "        newpairs = set()\n",
    "    g,X = pair\n",
    "    eqn = None\n",
    "    one = G.one()\n",
    "    oneset = Set([one])\n",
    "    if one not in X:\n",
    "        XU1 = X.union(oneset)\n",
    "        if add_series_var((one,X)) and ret_new_pairs:\n",
    "            newpairs.add((one,X))\n",
    "        if add_series_var((g,XU1)) and ret_new_pairs:\n",
    "            newpairs.add((g,XU1))\n",
    "        if g==one:\n",
    "            eqn = 1+var_space[(one,X)]*(var_space[(one,XU1)]-1)\n",
    "        else:\n",
    "            eqn = var_space[(one,X)]*var_space[(g,XU1)]\n",
    "    elif subset_of_cyclic_factor(X,x):\n",
    "        if g!=one:\n",
    "            eqn = t*ZZ(g==x)\n",
    "            if x not in X:\n",
    "                [g] = x^-1*Set([g]) # use set so auto reduction is implemented\n",
    "                X = x^-1*X\n",
    "                if add_series_var((g,X)) and ret_new_pairs:\n",
    "                    newpairs.add((g,X))\n",
    "                eqn += t*var_space[(g,X)]\n",
    "        else:\n",
    "            set_yinv = Set([y^-1]) \n",
    "            if add_series_var((y^-1,set_yinv)) and ret_new_pairs:\n",
    "                newpairs.add((y^-1,set_yinv))\n",
    "            eqn = 1+t*var_space[(y^-1,set_yinv)]\n",
    "            if x not in X:\n",
    "                g = x^-1\n",
    "                X = x^-1*X\n",
    "                if add_series_var((g,X)) and ret_new_pairs:\n",
    "                    newpairs.add((g,X))\n",
    "                eqn += t*var_space[(g,X)]\n",
    "    else:\n",
    "        # the y factor case\n",
    "        if g!=one:\n",
    "            eqn = t*ZZ(g==y)\n",
    "            if y not in X:\n",
    "                [g] = y^-1*Set([g])\n",
    "                X = y^-1*X\n",
    "                if add_series_var((g,X)) and ret_new_pairs:\n",
    "                    newpairs.add((g,X))\n",
    "                eqn += t*var_space[(g,X)]\n",
    "        else:\n",
    "            set_xinv = Set([x^-1]) \n",
    "            if add_series_var((x^-1,set_xinv)) and ret_new_pairs:\n",
    "                newpairs.add((x^-1,set_xinv))\n",
    "            eqn = 1+t*var_space[(x^-1,set_xinv)]\n",
    "            if y not in X:\n",
    "                g = y^-1\n",
    "                X = y^-1*X\n",
    "                if add_series_var((g,X)) and ret_new_pairs:\n",
    "                    newpairs.add((g,X))\n",
    "                eqn += t*var_space[(g,X)]\n",
    "    eqn = var_space[pair]==eqn\n",
    "    return (eqn,newpairs) if ret_new_pairs else eqn\n",
    "    \n"
   ]
  },
  {
   "cell_type": "code",
   "execution_count": 326,
   "metadata": {},
   "outputs": [],
   "source": [
    "# Let us build the system of equations\n",
    "system = []\n",
    "queue = [goal_pair]\n",
    "\n",
    "# use BFS\n",
    "while queue:\n",
    "    pair = queue.pop(0)\n",
    "    eqn, newp = get_FD_equation(pair)\n",
    "    queue.extend(newp)\n",
    "    system.append(eqn)\n"
   ]
  },
  {
   "cell_type": "code",
   "execution_count": 327,
   "metadata": {},
   "outputs": [
    {
     "name": "stdout",
     "output_type": "stream",
     "text": [
      "{F_{1,\\emptyset}(t)} = {F_{1,\\emptyset}(t)} {\\left({F_{1,\\left\\{1\\right\\}}(t)} - 1\\right)} + 1 \\\\\n",
      "{F_{1,\\left\\{1\\right\\}}(t)} = t {F_{y^{2},\\left\\{y^{2}\\right\\}}(t)} + t {F_{x^{2},\\left\\{x^{2}\\right\\}}(t)} + 1 \\\\\n",
      "{F_{y^{2},\\left\\{y^{2}\\right\\}}(t)} = {F_{1,\\left\\{y^{2}\\right\\}}(t)} {F_{y^{2},\\left\\{1, y^{2}\\right\\}}(t)} \\\\\n",
      "{F_{x^{2},\\left\\{x^{2}\\right\\}}(t)} = {F_{1,\\left\\{x^{2}\\right\\}}(t)} {F_{x^{2},\\left\\{1, x^{2}\\right\\}}(t)} \\\\\n",
      "{F_{1,\\left\\{y^{2}\\right\\}}(t)} = {F_{1,\\left\\{y^{2}\\right\\}}(t)} {\\left({F_{1,\\left\\{1, y^{2}\\right\\}}(t)} - 1\\right)} + 1 \\\\\n",
      "{F_{y^{2},\\left\\{1, y^{2}\\right\\}}(t)} = t {F_{y,\\left\\{y, y^{2}\\right\\}}(t)} \\\\\n",
      "{F_{x^{2},\\left\\{1, x^{2}\\right\\}}(t)} = t {F_{x,\\left\\{x^{2}, x\\right\\}}(t)} \\\\\n",
      "{F_{1,\\left\\{x^{2}\\right\\}}(t)} = {\\left({F_{1,\\left\\{1, x^{2}\\right\\}}(t)} - 1\\right)} {F_{1,\\left\\{x^{2}\\right\\}}(t)} + 1 \\\\\n",
      "{F_{1,\\left\\{1, y^{2}\\right\\}}(t)} = t {F_{y^{2},\\left\\{y, y^{2}\\right\\}}(t)} + t {F_{x^{2},\\left\\{x^{2}\\right\\}}(t)} + 1 \\\\\n",
      "{F_{y,\\left\\{y, y^{2}\\right\\}}(t)} = {F_{1,\\left\\{y, y^{2}\\right\\}}(t)} {F_{y,\\left\\{y, 1, y^{2}\\right\\}}(t)} \\\\\n",
      "{F_{x,\\left\\{x^{2}, x\\right\\}}(t)} = {F_{1,\\left\\{x^{2}, x\\right\\}}(t)} {F_{x,\\left\\{1, x^{2}, x\\right\\}}(t)} \\\\\n",
      "{F_{1,\\left\\{1, x^{2}\\right\\}}(t)} = t {F_{x^{2},\\left\\{x^{2}, x\\right\\}}(t)} + t {F_{y^{2},\\left\\{y^{2}\\right\\}}(t)} + 1 \\\\\n",
      "{F_{y^{2},\\left\\{y, y^{2}\\right\\}}(t)} = {F_{1,\\left\\{y, y^{2}\\right\\}}(t)} {F_{y^{2},\\left\\{y, 1, y^{2}\\right\\}}(t)} \\\\\n",
      "{F_{y,\\left\\{y, 1, y^{2}\\right\\}}(t)} = t \\\\\n",
      "{F_{1,\\left\\{y, y^{2}\\right\\}}(t)} = {F_{1,\\left\\{y, y^{2}\\right\\}}(t)} {\\left({F_{1,\\left\\{y, 1, y^{2}\\right\\}}(t)} - 1\\right)} + 1 \\\\\n",
      "{F_{1,\\left\\{x^{2}, x\\right\\}}(t)} = {F_{1,\\left\\{x^{2}, x\\right\\}}(t)} {\\left({F_{1,\\left\\{1, x^{2}, x\\right\\}}(t)} - 1\\right)} + 1 \\\\\n",
      "{F_{x,\\left\\{1, x^{2}, x\\right\\}}(t)} = t \\\\\n",
      "{F_{x^{2},\\left\\{x^{2}, x\\right\\}}(t)} = {F_{1,\\left\\{x^{2}, x\\right\\}}(t)} {F_{x^{2},\\left\\{1, x^{2}, x\\right\\}}(t)} \\\\\n",
      "{F_{y^{2},\\left\\{y, 1, y^{2}\\right\\}}(t)} = 0 \\\\\n",
      "{F_{1,\\left\\{y, 1, y^{2}\\right\\}}(t)} = t {F_{x^{2},\\left\\{x^{2}\\right\\}}(t)} + 1 \\\\\n",
      "{F_{1,\\left\\{1, x^{2}, x\\right\\}}(t)} = t {F_{y^{2},\\left\\{y^{2}\\right\\}}(t)} + 1 \\\\\n",
      "{F_{x^{2},\\left\\{1, x^{2}, x\\right\\}}(t)} = 0 \\\\\n",
      "\n",
      "\n"
     ]
    },
    {
     "data": {
      "text/html": [
       "<html><script type=\"math/tex; mode=display\">\\newcommand{\\Bold}[1]{\\mathbf{#1}}{F_{1,\\emptyset}(t)} = {F_{1,\\emptyset}(t)} {\\left({F_{1,\\left\\{1\\right\\}}(t)} - 1\\right)} + 1</script></html>"
      ],
      "text/plain": [
       "v0 == v0*(v1 - 1) + 1"
      ]
     },
     "metadata": {},
     "output_type": "display_data"
    },
    {
     "data": {
      "text/html": [
       "<html><script type=\"math/tex; mode=display\">\\newcommand{\\Bold}[1]{\\mathbf{#1}}{F_{1,\\left\\{1\\right\\}}(t)} = t {F_{y^{2},\\left\\{y^{2}\\right\\}}(t)} + t {F_{x^{2},\\left\\{x^{2}\\right\\}}(t)} + 1</script></html>"
      ],
      "text/plain": [
       "v1 == t*v2 + t*v3 + 1"
      ]
     },
     "metadata": {},
     "output_type": "display_data"
    },
    {
     "data": {
      "text/html": [
       "<html><script type=\"math/tex; mode=display\">\\newcommand{\\Bold}[1]{\\mathbf{#1}}{F_{y^{2},\\left\\{y^{2}\\right\\}}(t)} = {F_{1,\\left\\{y^{2}\\right\\}}(t)} {F_{y^{2},\\left\\{1, y^{2}\\right\\}}(t)}</script></html>"
      ],
      "text/plain": [
       "v2 == v4*v5"
      ]
     },
     "metadata": {},
     "output_type": "display_data"
    },
    {
     "data": {
      "text/html": [
       "<html><script type=\"math/tex; mode=display\">\\newcommand{\\Bold}[1]{\\mathbf{#1}}{F_{x^{2},\\left\\{x^{2}\\right\\}}(t)} = {F_{1,\\left\\{x^{2}\\right\\}}(t)} {F_{x^{2},\\left\\{1, x^{2}\\right\\}}(t)}</script></html>"
      ],
      "text/plain": [
       "v3 == v6*v7"
      ]
     },
     "metadata": {},
     "output_type": "display_data"
    },
    {
     "data": {
      "text/html": [
       "<html><script type=\"math/tex; mode=display\">\\newcommand{\\Bold}[1]{\\mathbf{#1}}{F_{1,\\left\\{y^{2}\\right\\}}(t)} = {F_{1,\\left\\{y^{2}\\right\\}}(t)} {\\left({F_{1,\\left\\{1, y^{2}\\right\\}}(t)} - 1\\right)} + 1</script></html>"
      ],
      "text/plain": [
       "v4 == v4*(v8 - 1) + 1"
      ]
     },
     "metadata": {},
     "output_type": "display_data"
    },
    {
     "data": {
      "text/html": [
       "<html><script type=\"math/tex; mode=display\">\\newcommand{\\Bold}[1]{\\mathbf{#1}}{F_{y^{2},\\left\\{1, y^{2}\\right\\}}(t)} = t {F_{y,\\left\\{y, y^{2}\\right\\}}(t)}</script></html>"
      ],
      "text/plain": [
       "v5 == t*v9"
      ]
     },
     "metadata": {},
     "output_type": "display_data"
    },
    {
     "data": {
      "text/html": [
       "<html><script type=\"math/tex; mode=display\">\\newcommand{\\Bold}[1]{\\mathbf{#1}}{F_{x^{2},\\left\\{1, x^{2}\\right\\}}(t)} = t {F_{x,\\left\\{x^{2}, x\\right\\}}(t)}</script></html>"
      ],
      "text/plain": [
       "v7 == t*v10"
      ]
     },
     "metadata": {},
     "output_type": "display_data"
    },
    {
     "data": {
      "text/html": [
       "<html><script type=\"math/tex; mode=display\">\\newcommand{\\Bold}[1]{\\mathbf{#1}}{F_{1,\\left\\{x^{2}\\right\\}}(t)} = {\\left({F_{1,\\left\\{1, x^{2}\\right\\}}(t)} - 1\\right)} {F_{1,\\left\\{x^{2}\\right\\}}(t)} + 1</script></html>"
      ],
      "text/plain": [
       "v6 == (v11 - 1)*v6 + 1"
      ]
     },
     "metadata": {},
     "output_type": "display_data"
    },
    {
     "data": {
      "text/html": [
       "<html><script type=\"math/tex; mode=display\">\\newcommand{\\Bold}[1]{\\mathbf{#1}}{F_{1,\\left\\{1, y^{2}\\right\\}}(t)} = t {F_{y^{2},\\left\\{y, y^{2}\\right\\}}(t)} + t {F_{x^{2},\\left\\{x^{2}\\right\\}}(t)} + 1</script></html>"
      ],
      "text/plain": [
       "v8 == t*v12 + t*v3 + 1"
      ]
     },
     "metadata": {},
     "output_type": "display_data"
    },
    {
     "data": {
      "text/html": [
       "<html><script type=\"math/tex; mode=display\">\\newcommand{\\Bold}[1]{\\mathbf{#1}}{F_{y,\\left\\{y, y^{2}\\right\\}}(t)} = {F_{1,\\left\\{y, y^{2}\\right\\}}(t)} {F_{y,\\left\\{y, 1, y^{2}\\right\\}}(t)}</script></html>"
      ],
      "text/plain": [
       "v9 == v13*v14"
      ]
     },
     "metadata": {},
     "output_type": "display_data"
    },
    {
     "data": {
      "text/html": [
       "<html><script type=\"math/tex; mode=display\">\\newcommand{\\Bold}[1]{\\mathbf{#1}}{F_{x,\\left\\{x^{2}, x\\right\\}}(t)} = {F_{1,\\left\\{x^{2}, x\\right\\}}(t)} {F_{x,\\left\\{1, x^{2}, x\\right\\}}(t)}</script></html>"
      ],
      "text/plain": [
       "v10 == v15*v16"
      ]
     },
     "metadata": {},
     "output_type": "display_data"
    },
    {
     "data": {
      "text/html": [
       "<html><script type=\"math/tex; mode=display\">\\newcommand{\\Bold}[1]{\\mathbf{#1}}{F_{1,\\left\\{1, x^{2}\\right\\}}(t)} = t {F_{x^{2},\\left\\{x^{2}, x\\right\\}}(t)} + t {F_{y^{2},\\left\\{y^{2}\\right\\}}(t)} + 1</script></html>"
      ],
      "text/plain": [
       "v11 == t*v17 + t*v2 + 1"
      ]
     },
     "metadata": {},
     "output_type": "display_data"
    },
    {
     "data": {
      "text/html": [
       "<html><script type=\"math/tex; mode=display\">\\newcommand{\\Bold}[1]{\\mathbf{#1}}{F_{y^{2},\\left\\{y, y^{2}\\right\\}}(t)} = {F_{1,\\left\\{y, y^{2}\\right\\}}(t)} {F_{y^{2},\\left\\{y, 1, y^{2}\\right\\}}(t)}</script></html>"
      ],
      "text/plain": [
       "v12 == v13*v18"
      ]
     },
     "metadata": {},
     "output_type": "display_data"
    },
    {
     "data": {
      "text/html": [
       "<html><script type=\"math/tex; mode=display\">\\newcommand{\\Bold}[1]{\\mathbf{#1}}{F_{y,\\left\\{y, 1, y^{2}\\right\\}}(t)} = t</script></html>"
      ],
      "text/plain": [
       "v14 == t"
      ]
     },
     "metadata": {},
     "output_type": "display_data"
    },
    {
     "data": {
      "text/html": [
       "<html><script type=\"math/tex; mode=display\">\\newcommand{\\Bold}[1]{\\mathbf{#1}}{F_{1,\\left\\{y, y^{2}\\right\\}}(t)} = {F_{1,\\left\\{y, y^{2}\\right\\}}(t)} {\\left({F_{1,\\left\\{y, 1, y^{2}\\right\\}}(t)} - 1\\right)} + 1</script></html>"
      ],
      "text/plain": [
       "v13 == v13*(v19 - 1) + 1"
      ]
     },
     "metadata": {},
     "output_type": "display_data"
    },
    {
     "data": {
      "text/html": [
       "<html><script type=\"math/tex; mode=display\">\\newcommand{\\Bold}[1]{\\mathbf{#1}}{F_{1,\\left\\{x^{2}, x\\right\\}}(t)} = {F_{1,\\left\\{x^{2}, x\\right\\}}(t)} {\\left({F_{1,\\left\\{1, x^{2}, x\\right\\}}(t)} - 1\\right)} + 1</script></html>"
      ],
      "text/plain": [
       "v15 == v15*(v20 - 1) + 1"
      ]
     },
     "metadata": {},
     "output_type": "display_data"
    },
    {
     "data": {
      "text/html": [
       "<html><script type=\"math/tex; mode=display\">\\newcommand{\\Bold}[1]{\\mathbf{#1}}{F_{x,\\left\\{1, x^{2}, x\\right\\}}(t)} = t</script></html>"
      ],
      "text/plain": [
       "v16 == t"
      ]
     },
     "metadata": {},
     "output_type": "display_data"
    },
    {
     "data": {
      "text/html": [
       "<html><script type=\"math/tex; mode=display\">\\newcommand{\\Bold}[1]{\\mathbf{#1}}{F_{x^{2},\\left\\{x^{2}, x\\right\\}}(t)} = {F_{1,\\left\\{x^{2}, x\\right\\}}(t)} {F_{x^{2},\\left\\{1, x^{2}, x\\right\\}}(t)}</script></html>"
      ],
      "text/plain": [
       "v17 == v15*v21"
      ]
     },
     "metadata": {},
     "output_type": "display_data"
    },
    {
     "data": {
      "text/html": [
       "<html><script type=\"math/tex; mode=display\">\\newcommand{\\Bold}[1]{\\mathbf{#1}}{F_{y^{2},\\left\\{y, 1, y^{2}\\right\\}}(t)} = 0</script></html>"
      ],
      "text/plain": [
       "v18 == 0"
      ]
     },
     "metadata": {},
     "output_type": "display_data"
    },
    {
     "data": {
      "text/html": [
       "<html><script type=\"math/tex; mode=display\">\\newcommand{\\Bold}[1]{\\mathbf{#1}}{F_{1,\\left\\{y, 1, y^{2}\\right\\}}(t)} = t {F_{x^{2},\\left\\{x^{2}\\right\\}}(t)} + 1</script></html>"
      ],
      "text/plain": [
       "v19 == t*v3 + 1"
      ]
     },
     "metadata": {},
     "output_type": "display_data"
    },
    {
     "data": {
      "text/html": [
       "<html><script type=\"math/tex; mode=display\">\\newcommand{\\Bold}[1]{\\mathbf{#1}}{F_{1,\\left\\{1, x^{2}, x\\right\\}}(t)} = t {F_{y^{2},\\left\\{y^{2}\\right\\}}(t)} + 1</script></html>"
      ],
      "text/plain": [
       "v20 == t*v2 + 1"
      ]
     },
     "metadata": {},
     "output_type": "display_data"
    },
    {
     "data": {
      "text/html": [
       "<html><script type=\"math/tex; mode=display\">\\newcommand{\\Bold}[1]{\\mathbf{#1}}{F_{x^{2},\\left\\{1, x^{2}, x\\right\\}}(t)} = 0</script></html>"
      ],
      "text/plain": [
       "v21 == 0"
      ]
     },
     "metadata": {},
     "output_type": "display_data"
    }
   ],
   "source": [
    "# Here are the equations\n",
    "for eqn in system:\n",
    "    print(latex(eqn),r'\\\\')\n",
    "print()\n",
    "print()\n",
    "for eqn in system:\n",
    "    #print(eqn)\n",
    "    pretty_print(eqn)"
   ]
  },
  {
   "cell_type": "code",
   "execution_count": 328,
   "metadata": {},
   "outputs": [],
   "source": [
    "# Finally solve the system\n",
    "\n",
    "# reports an empty list\n",
    "# solve(system, *var_space.values(), solution_dict=True)\n",
    "# X=Set([G.one(),y])\n",
    "# pretty_print(get_FD_equation((G.one(),X),False))\n",
    "# subset_of_cyclic_factor(X,y)"
   ]
  },
  {
   "cell_type": "code",
   "execution_count": 329,
   "metadata": {},
   "outputs": [],
   "source": [
    "# first, isolate variables on the LHS\n",
    "\n",
    "for i, eqn in enumerate(system):\n",
    "    system[i] = solve(eqn,eqn.lhs())[0]\n",
    "    "
   ]
  },
  {
   "cell_type": "code",
   "execution_count": 330,
   "metadata": {},
   "outputs": [
    {
     "data": {
      "text/html": [
       "<html><script type=\"math/tex; mode=display\">\\newcommand{\\Bold}[1]{\\mathbf{#1}}{F_{1,\\emptyset}(t)} = -\\frac{1}{{F_{1,\\left\\{1\\right\\}}(t)} - 2}</script></html>"
      ],
      "text/plain": [
       "v0 == -1/(v1 - 2)"
      ]
     },
     "metadata": {},
     "output_type": "display_data"
    },
    {
     "data": {
      "text/html": [
       "<html><script type=\"math/tex; mode=display\">\\newcommand{\\Bold}[1]{\\mathbf{#1}}{F_{1,\\left\\{1\\right\\}}(t)} = t {F_{y^{2},\\left\\{y^{2}\\right\\}}(t)} + t {F_{x^{2},\\left\\{x^{2}\\right\\}}(t)} + 1</script></html>"
      ],
      "text/plain": [
       "v1 == t*v2 + t*v3 + 1"
      ]
     },
     "metadata": {},
     "output_type": "display_data"
    },
    {
     "data": {
      "text/html": [
       "<html><script type=\"math/tex; mode=display\">\\newcommand{\\Bold}[1]{\\mathbf{#1}}{F_{y^{2},\\left\\{y^{2}\\right\\}}(t)} = {F_{1,\\left\\{y^{2}\\right\\}}(t)} {F_{y^{2},\\left\\{1, y^{2}\\right\\}}(t)}</script></html>"
      ],
      "text/plain": [
       "v2 == v4*v5"
      ]
     },
     "metadata": {},
     "output_type": "display_data"
    },
    {
     "data": {
      "text/html": [
       "<html><script type=\"math/tex; mode=display\">\\newcommand{\\Bold}[1]{\\mathbf{#1}}{F_{x^{2},\\left\\{x^{2}\\right\\}}(t)} = {F_{1,\\left\\{x^{2}\\right\\}}(t)} {F_{x^{2},\\left\\{1, x^{2}\\right\\}}(t)}</script></html>"
      ],
      "text/plain": [
       "v3 == v6*v7"
      ]
     },
     "metadata": {},
     "output_type": "display_data"
    },
    {
     "data": {
      "text/html": [
       "<html><script type=\"math/tex; mode=display\">\\newcommand{\\Bold}[1]{\\mathbf{#1}}{F_{1,\\left\\{y^{2}\\right\\}}(t)} = -\\frac{1}{{F_{1,\\left\\{1, y^{2}\\right\\}}(t)} - 2}</script></html>"
      ],
      "text/plain": [
       "v4 == -1/(v8 - 2)"
      ]
     },
     "metadata": {},
     "output_type": "display_data"
    },
    {
     "data": {
      "text/html": [
       "<html><script type=\"math/tex; mode=display\">\\newcommand{\\Bold}[1]{\\mathbf{#1}}{F_{y^{2},\\left\\{1, y^{2}\\right\\}}(t)} = t {F_{y,\\left\\{y, y^{2}\\right\\}}(t)}</script></html>"
      ],
      "text/plain": [
       "v5 == t*v9"
      ]
     },
     "metadata": {},
     "output_type": "display_data"
    },
    {
     "data": {
      "text/html": [
       "<html><script type=\"math/tex; mode=display\">\\newcommand{\\Bold}[1]{\\mathbf{#1}}{F_{x^{2},\\left\\{1, x^{2}\\right\\}}(t)} = t {F_{x,\\left\\{x^{2}, x\\right\\}}(t)}</script></html>"
      ],
      "text/plain": [
       "v7 == t*v10"
      ]
     },
     "metadata": {},
     "output_type": "display_data"
    },
    {
     "data": {
      "text/html": [
       "<html><script type=\"math/tex; mode=display\">\\newcommand{\\Bold}[1]{\\mathbf{#1}}{F_{1,\\left\\{x^{2}\\right\\}}(t)} = -\\frac{1}{{F_{1,\\left\\{1, x^{2}\\right\\}}(t)} - 2}</script></html>"
      ],
      "text/plain": [
       "v6 == -1/(v11 - 2)"
      ]
     },
     "metadata": {},
     "output_type": "display_data"
    },
    {
     "data": {
      "text/html": [
       "<html><script type=\"math/tex; mode=display\">\\newcommand{\\Bold}[1]{\\mathbf{#1}}{F_{1,\\left\\{1, y^{2}\\right\\}}(t)} = t {F_{y^{2},\\left\\{y, y^{2}\\right\\}}(t)} + t {F_{x^{2},\\left\\{x^{2}\\right\\}}(t)} + 1</script></html>"
      ],
      "text/plain": [
       "v8 == t*v12 + t*v3 + 1"
      ]
     },
     "metadata": {},
     "output_type": "display_data"
    },
    {
     "data": {
      "text/html": [
       "<html><script type=\"math/tex; mode=display\">\\newcommand{\\Bold}[1]{\\mathbf{#1}}{F_{y,\\left\\{y, y^{2}\\right\\}}(t)} = {F_{1,\\left\\{y, y^{2}\\right\\}}(t)} {F_{y,\\left\\{y, 1, y^{2}\\right\\}}(t)}</script></html>"
      ],
      "text/plain": [
       "v9 == v13*v14"
      ]
     },
     "metadata": {},
     "output_type": "display_data"
    },
    {
     "data": {
      "text/html": [
       "<html><script type=\"math/tex; mode=display\">\\newcommand{\\Bold}[1]{\\mathbf{#1}}{F_{x,\\left\\{x^{2}, x\\right\\}}(t)} = {F_{1,\\left\\{x^{2}, x\\right\\}}(t)} {F_{x,\\left\\{1, x^{2}, x\\right\\}}(t)}</script></html>"
      ],
      "text/plain": [
       "v10 == v15*v16"
      ]
     },
     "metadata": {},
     "output_type": "display_data"
    },
    {
     "data": {
      "text/html": [
       "<html><script type=\"math/tex; mode=display\">\\newcommand{\\Bold}[1]{\\mathbf{#1}}{F_{1,\\left\\{1, x^{2}\\right\\}}(t)} = t {F_{x^{2},\\left\\{x^{2}, x\\right\\}}(t)} + t {F_{y^{2},\\left\\{y^{2}\\right\\}}(t)} + 1</script></html>"
      ],
      "text/plain": [
       "v11 == t*v17 + t*v2 + 1"
      ]
     },
     "metadata": {},
     "output_type": "display_data"
    },
    {
     "data": {
      "text/html": [
       "<html><script type=\"math/tex; mode=display\">\\newcommand{\\Bold}[1]{\\mathbf{#1}}{F_{y^{2},\\left\\{y, y^{2}\\right\\}}(t)} = {F_{1,\\left\\{y, y^{2}\\right\\}}(t)} {F_{y^{2},\\left\\{y, 1, y^{2}\\right\\}}(t)}</script></html>"
      ],
      "text/plain": [
       "v12 == v13*v18"
      ]
     },
     "metadata": {},
     "output_type": "display_data"
    },
    {
     "data": {
      "text/html": [
       "<html><script type=\"math/tex; mode=display\">\\newcommand{\\Bold}[1]{\\mathbf{#1}}{F_{y,\\left\\{y, 1, y^{2}\\right\\}}(t)} = t</script></html>"
      ],
      "text/plain": [
       "v14 == t"
      ]
     },
     "metadata": {},
     "output_type": "display_data"
    },
    {
     "data": {
      "text/html": [
       "<html><script type=\"math/tex; mode=display\">\\newcommand{\\Bold}[1]{\\mathbf{#1}}{F_{1,\\left\\{y, y^{2}\\right\\}}(t)} = -\\frac{1}{{F_{1,\\left\\{y, 1, y^{2}\\right\\}}(t)} - 2}</script></html>"
      ],
      "text/plain": [
       "v13 == -1/(v19 - 2)"
      ]
     },
     "metadata": {},
     "output_type": "display_data"
    },
    {
     "data": {
      "text/html": [
       "<html><script type=\"math/tex; mode=display\">\\newcommand{\\Bold}[1]{\\mathbf{#1}}{F_{1,\\left\\{x^{2}, x\\right\\}}(t)} = -\\frac{1}{{F_{1,\\left\\{1, x^{2}, x\\right\\}}(t)} - 2}</script></html>"
      ],
      "text/plain": [
       "v15 == -1/(v20 - 2)"
      ]
     },
     "metadata": {},
     "output_type": "display_data"
    },
    {
     "data": {
      "text/html": [
       "<html><script type=\"math/tex; mode=display\">\\newcommand{\\Bold}[1]{\\mathbf{#1}}{F_{x,\\left\\{1, x^{2}, x\\right\\}}(t)} = t</script></html>"
      ],
      "text/plain": [
       "v16 == t"
      ]
     },
     "metadata": {},
     "output_type": "display_data"
    },
    {
     "data": {
      "text/html": [
       "<html><script type=\"math/tex; mode=display\">\\newcommand{\\Bold}[1]{\\mathbf{#1}}{F_{x^{2},\\left\\{x^{2}, x\\right\\}}(t)} = {F_{1,\\left\\{x^{2}, x\\right\\}}(t)} {F_{x^{2},\\left\\{1, x^{2}, x\\right\\}}(t)}</script></html>"
      ],
      "text/plain": [
       "v17 == v15*v21"
      ]
     },
     "metadata": {},
     "output_type": "display_data"
    },
    {
     "data": {
      "text/html": [
       "<html><script type=\"math/tex; mode=display\">\\newcommand{\\Bold}[1]{\\mathbf{#1}}{F_{y^{2},\\left\\{y, 1, y^{2}\\right\\}}(t)} = 0</script></html>"
      ],
      "text/plain": [
       "v18 == 0"
      ]
     },
     "metadata": {},
     "output_type": "display_data"
    },
    {
     "data": {
      "text/html": [
       "<html><script type=\"math/tex; mode=display\">\\newcommand{\\Bold}[1]{\\mathbf{#1}}{F_{1,\\left\\{y, 1, y^{2}\\right\\}}(t)} = t {F_{x^{2},\\left\\{x^{2}\\right\\}}(t)} + 1</script></html>"
      ],
      "text/plain": [
       "v19 == t*v3 + 1"
      ]
     },
     "metadata": {},
     "output_type": "display_data"
    },
    {
     "data": {
      "text/html": [
       "<html><script type=\"math/tex; mode=display\">\\newcommand{\\Bold}[1]{\\mathbf{#1}}{F_{1,\\left\\{1, x^{2}, x\\right\\}}(t)} = t {F_{y^{2},\\left\\{y^{2}\\right\\}}(t)} + 1</script></html>"
      ],
      "text/plain": [
       "v20 == t*v2 + 1"
      ]
     },
     "metadata": {},
     "output_type": "display_data"
    },
    {
     "data": {
      "text/html": [
       "<html><script type=\"math/tex; mode=display\">\\newcommand{\\Bold}[1]{\\mathbf{#1}}{F_{x^{2},\\left\\{1, x^{2}, x\\right\\}}(t)} = 0</script></html>"
      ],
      "text/plain": [
       "v21 == 0"
      ]
     },
     "metadata": {},
     "output_type": "display_data"
    }
   ],
   "source": [
    "for eqn in system:\n",
    "    pretty_print(eqn)"
   ]
  },
  {
   "cell_type": "code",
   "execution_count": 331,
   "metadata": {},
   "outputs": [
    {
     "name": "stdout",
     "output_type": "stream",
     "text": [
      "Number of iteration taken to substitute 2\n"
     ]
    }
   ],
   "source": [
    "# now make some substitutions\n",
    "\n",
    "change = 1\n",
    "numit = 0\n",
    "\n",
    "while change:\n",
    "    change = 0\n",
    "    # build a dependency graph\n",
    "    eq_by_lhs = {eq.lhs():eq for eq in system}\n",
    "    dep_gr = {eq.lhs():set(eq.rhs().args())-{t} for eq in system}\n",
    "    vars_det = [v for v,args in dep_gr.items() if not args] # the completely solved vars\n",
    "\n",
    "    rev_dep_gr = {v:set() for v in eq_by_lhs} # diagraph by reversing the arcs of dep_gr\n",
    "    for v,ag in dep_gr.items():\n",
    "        for w in ag:\n",
    "            rev_dep_gr[w].add(v)\n",
    "\n",
    "    # apply BFS to make the substitutions possible\n",
    "    vis = set(vars_det)\n",
    "    queue = list(vis)\n",
    "    done = set()\n",
    "    while queue:\n",
    "        nxtvar = queue.pop(0)\n",
    "        # check if all RHS variables are visited before\n",
    "        sub_dict = {}\n",
    "        for dps in dep_gr[nxtvar]:\n",
    "            if dps not in done:\n",
    "                continue # can't substitute, a RHS varible is not yet reduced\n",
    "            sub_dict[dps] = eq_by_lhs[dps].rhs()\n",
    "            change = 1\n",
    "        eq_by_lhs[nxtvar] = eq_by_lhs[nxtvar].subs(sub_dict)\n",
    "        eq_by_lhs[nxtvar].expand()\n",
    "        for pt in rev_dep_gr[nxtvar]:\n",
    "            if pt not in vis:\n",
    "                queue.append(pt)\n",
    "                vis.add(pt)\n",
    "        done.add(nxtvar)\n",
    "    \n",
    "    for i, eq in enumerate(system):\n",
    "        system[i] = eq_by_lhs[eq.lhs()]\n",
    "    numit+=1\n",
    "\n",
    "print('Number of iteration taken to substitute',numit)\n",
    "        \n"
   ]
  },
  {
   "cell_type": "code",
   "execution_count": 332,
   "metadata": {},
   "outputs": [
    {
     "data": {
      "text/html": [
       "<html><script type=\"math/tex; mode=display\">\\newcommand{\\Bold}[1]{\\mathbf{#1}}{F_{1,\\emptyset}(t)} = -\\frac{1}{t^{3} {F_{1,\\left\\{x^{2}, x\\right\\}}(t)} {F_{1,\\left\\{x^{2}\\right\\}}(t)} - \\frac{t^{3} {F_{1,\\left\\{y, y^{2}\\right\\}}(t)}}{t {F_{x^{2},\\left\\{x^{2}\\right\\}}(t)} - 1} - 1}</script></html>"
      ],
      "text/plain": [
       "v0 == -1/(t^3*v15*v6 - t^3*v13/(t*v3 - 1) - 1)"
      ]
     },
     "metadata": {},
     "output_type": "display_data"
    },
    {
     "data": {
      "text/html": [
       "<html><script type=\"math/tex; mode=display\">\\newcommand{\\Bold}[1]{\\mathbf{#1}}{F_{1,\\left\\{1\\right\\}}(t)} = t^{3} {F_{1,\\left\\{x^{2}, x\\right\\}}(t)} {F_{1,\\left\\{x^{2}\\right\\}}(t)} - \\frac{t^{3} {F_{1,\\left\\{y, y^{2}\\right\\}}(t)}}{t {F_{x^{2},\\left\\{x^{2}\\right\\}}(t)} - 1} + 1</script></html>"
      ],
      "text/plain": [
       "v1 == t^3*v15*v6 - t^3*v13/(t*v3 - 1) + 1"
      ]
     },
     "metadata": {},
     "output_type": "display_data"
    },
    {
     "data": {
      "text/html": [
       "<html><script type=\"math/tex; mode=display\">\\newcommand{\\Bold}[1]{\\mathbf{#1}}{F_{y^{2},\\left\\{y^{2}\\right\\}}(t)} = -\\frac{t^{2} {F_{1,\\left\\{y, y^{2}\\right\\}}(t)}}{t {F_{x^{2},\\left\\{x^{2}\\right\\}}(t)} - 1}</script></html>"
      ],
      "text/plain": [
       "v2 == -t^2*v13/(t*v3 - 1)"
      ]
     },
     "metadata": {},
     "output_type": "display_data"
    },
    {
     "data": {
      "text/html": [
       "<html><script type=\"math/tex; mode=display\">\\newcommand{\\Bold}[1]{\\mathbf{#1}}{F_{x^{2},\\left\\{x^{2}\\right\\}}(t)} = t^{2} {F_{1,\\left\\{x^{2}, x\\right\\}}(t)} {F_{1,\\left\\{x^{2}\\right\\}}(t)}</script></html>"
      ],
      "text/plain": [
       "v3 == t^2*v15*v6"
      ]
     },
     "metadata": {},
     "output_type": "display_data"
    },
    {
     "data": {
      "text/html": [
       "<html><script type=\"math/tex; mode=display\">\\newcommand{\\Bold}[1]{\\mathbf{#1}}{F_{1,\\left\\{y^{2}\\right\\}}(t)} = -\\frac{1}{t {F_{x^{2},\\left\\{x^{2}\\right\\}}(t)} - 1}</script></html>"
      ],
      "text/plain": [
       "v4 == -1/(t*v3 - 1)"
      ]
     },
     "metadata": {},
     "output_type": "display_data"
    },
    {
     "data": {
      "text/html": [
       "<html><script type=\"math/tex; mode=display\">\\newcommand{\\Bold}[1]{\\mathbf{#1}}{F_{y^{2},\\left\\{1, y^{2}\\right\\}}(t)} = t^{2} {F_{1,\\left\\{y, y^{2}\\right\\}}(t)}</script></html>"
      ],
      "text/plain": [
       "v5 == t^2*v13"
      ]
     },
     "metadata": {},
     "output_type": "display_data"
    },
    {
     "data": {
      "text/html": [
       "<html><script type=\"math/tex; mode=display\">\\newcommand{\\Bold}[1]{\\mathbf{#1}}{F_{x^{2},\\left\\{1, x^{2}\\right\\}}(t)} = t^{2} {F_{1,\\left\\{x^{2}, x\\right\\}}(t)}</script></html>"
      ],
      "text/plain": [
       "v7 == t^2*v15"
      ]
     },
     "metadata": {},
     "output_type": "display_data"
    },
    {
     "data": {
      "text/html": [
       "<html><script type=\"math/tex; mode=display\">\\newcommand{\\Bold}[1]{\\mathbf{#1}}{F_{1,\\left\\{x^{2}\\right\\}}(t)} = -\\frac{1}{t {F_{y^{2},\\left\\{y^{2}\\right\\}}(t)} - 1}</script></html>"
      ],
      "text/plain": [
       "v6 == -1/(t*v2 - 1)"
      ]
     },
     "metadata": {},
     "output_type": "display_data"
    },
    {
     "data": {
      "text/html": [
       "<html><script type=\"math/tex; mode=display\">\\newcommand{\\Bold}[1]{\\mathbf{#1}}{F_{1,\\left\\{1, y^{2}\\right\\}}(t)} = t {F_{x^{2},\\left\\{x^{2}\\right\\}}(t)} + 1</script></html>"
      ],
      "text/plain": [
       "v8 == t*v3 + 1"
      ]
     },
     "metadata": {},
     "output_type": "display_data"
    },
    {
     "data": {
      "text/html": [
       "<html><script type=\"math/tex; mode=display\">\\newcommand{\\Bold}[1]{\\mathbf{#1}}{F_{y,\\left\\{y, y^{2}\\right\\}}(t)} = t {F_{1,\\left\\{y, y^{2}\\right\\}}(t)}</script></html>"
      ],
      "text/plain": [
       "v9 == t*v13"
      ]
     },
     "metadata": {},
     "output_type": "display_data"
    },
    {
     "data": {
      "text/html": [
       "<html><script type=\"math/tex; mode=display\">\\newcommand{\\Bold}[1]{\\mathbf{#1}}{F_{x,\\left\\{x^{2}, x\\right\\}}(t)} = t {F_{1,\\left\\{x^{2}, x\\right\\}}(t)}</script></html>"
      ],
      "text/plain": [
       "v10 == t*v15"
      ]
     },
     "metadata": {},
     "output_type": "display_data"
    },
    {
     "data": {
      "text/html": [
       "<html><script type=\"math/tex; mode=display\">\\newcommand{\\Bold}[1]{\\mathbf{#1}}{F_{1,\\left\\{1, x^{2}\\right\\}}(t)} = t {F_{y^{2},\\left\\{y^{2}\\right\\}}(t)} + 1</script></html>"
      ],
      "text/plain": [
       "v11 == t*v2 + 1"
      ]
     },
     "metadata": {},
     "output_type": "display_data"
    },
    {
     "data": {
      "text/html": [
       "<html><script type=\"math/tex; mode=display\">\\newcommand{\\Bold}[1]{\\mathbf{#1}}{F_{y^{2},\\left\\{y, y^{2}\\right\\}}(t)} = 0</script></html>"
      ],
      "text/plain": [
       "v12 == 0"
      ]
     },
     "metadata": {},
     "output_type": "display_data"
    },
    {
     "data": {
      "text/html": [
       "<html><script type=\"math/tex; mode=display\">\\newcommand{\\Bold}[1]{\\mathbf{#1}}{F_{y,\\left\\{y, 1, y^{2}\\right\\}}(t)} = t</script></html>"
      ],
      "text/plain": [
       "v14 == t"
      ]
     },
     "metadata": {},
     "output_type": "display_data"
    },
    {
     "data": {
      "text/html": [
       "<html><script type=\"math/tex; mode=display\">\\newcommand{\\Bold}[1]{\\mathbf{#1}}{F_{1,\\left\\{y, y^{2}\\right\\}}(t)} = -\\frac{1}{t^{3} {F_{1,\\left\\{x^{2}, x\\right\\}}(t)} {F_{1,\\left\\{x^{2}\\right\\}}(t)} - 1}</script></html>"
      ],
      "text/plain": [
       "v13 == -1/(t^3*v15*v6 - 1)"
      ]
     },
     "metadata": {},
     "output_type": "display_data"
    },
    {
     "data": {
      "text/html": [
       "<html><script type=\"math/tex; mode=display\">\\newcommand{\\Bold}[1]{\\mathbf{#1}}{F_{1,\\left\\{x^{2}, x\\right\\}}(t)} = \\frac{1}{\\frac{t^{3} {F_{1,\\left\\{y, y^{2}\\right\\}}(t)}}{t {F_{x^{2},\\left\\{x^{2}\\right\\}}(t)} - 1} + 1}</script></html>"
      ],
      "text/plain": [
       "v15 == (1/(t^3*v13/(t*v3 - 1) + 1))"
      ]
     },
     "metadata": {},
     "output_type": "display_data"
    },
    {
     "data": {
      "text/html": [
       "<html><script type=\"math/tex; mode=display\">\\newcommand{\\Bold}[1]{\\mathbf{#1}}{F_{x,\\left\\{1, x^{2}, x\\right\\}}(t)} = t</script></html>"
      ],
      "text/plain": [
       "v16 == t"
      ]
     },
     "metadata": {},
     "output_type": "display_data"
    },
    {
     "data": {
      "text/html": [
       "<html><script type=\"math/tex; mode=display\">\\newcommand{\\Bold}[1]{\\mathbf{#1}}{F_{x^{2},\\left\\{x^{2}, x\\right\\}}(t)} = 0</script></html>"
      ],
      "text/plain": [
       "v17 == 0"
      ]
     },
     "metadata": {},
     "output_type": "display_data"
    },
    {
     "data": {
      "text/html": [
       "<html><script type=\"math/tex; mode=display\">\\newcommand{\\Bold}[1]{\\mathbf{#1}}{F_{y^{2},\\left\\{y, 1, y^{2}\\right\\}}(t)} = 0</script></html>"
      ],
      "text/plain": [
       "v18 == 0"
      ]
     },
     "metadata": {},
     "output_type": "display_data"
    },
    {
     "data": {
      "text/html": [
       "<html><script type=\"math/tex; mode=display\">\\newcommand{\\Bold}[1]{\\mathbf{#1}}{F_{1,\\left\\{y, 1, y^{2}\\right\\}}(t)} = t^{3} {F_{1,\\left\\{x^{2}, x\\right\\}}(t)} {F_{1,\\left\\{x^{2}\\right\\}}(t)} + 1</script></html>"
      ],
      "text/plain": [
       "v19 == t^3*v15*v6 + 1"
      ]
     },
     "metadata": {},
     "output_type": "display_data"
    },
    {
     "data": {
      "text/html": [
       "<html><script type=\"math/tex; mode=display\">\\newcommand{\\Bold}[1]{\\mathbf{#1}}{F_{1,\\left\\{1, x^{2}, x\\right\\}}(t)} = -\\frac{t^{3} {F_{1,\\left\\{y, y^{2}\\right\\}}(t)}}{t {F_{x^{2},\\left\\{x^{2}\\right\\}}(t)} - 1} + 1</script></html>"
      ],
      "text/plain": [
       "v20 == -t^3*v13/(t*v3 - 1) + 1"
      ]
     },
     "metadata": {},
     "output_type": "display_data"
    },
    {
     "data": {
      "text/html": [
       "<html><script type=\"math/tex; mode=display\">\\newcommand{\\Bold}[1]{\\mathbf{#1}}{F_{x^{2},\\left\\{1, x^{2}, x\\right\\}}(t)} = 0</script></html>"
      ],
      "text/plain": [
       "v21 == 0"
      ]
     },
     "metadata": {},
     "output_type": "display_data"
    }
   ],
   "source": [
    "for eq in eq_by_lhs.values():\n",
    "    pretty_print(eq)"
   ]
  },
  {
   "cell_type": "code",
   "execution_count": 333,
   "metadata": {},
   "outputs": [],
   "source": [
    "# get rid of every irrelevant variable\n",
    "start = var_space[goal_pair]\n",
    "eq_by_lhs = {eq.lhs():eq for eq in system}\n",
    "dep_gr = {eq.lhs():set(eq.rhs().args())-{t} for eq in system}\n",
    "\n",
    "comp_set = {start}\n",
    "comp = [start]\n",
    "ind = 0\n",
    "while ind<len(comp):\n",
    "    for v in dep_gr[comp[ind]]:\n",
    "        if v not in comp_set:\n",
    "            comp.append(v)\n",
    "            comp_set.add(v)\n",
    "    ind += 1\n",
    "\n",
    "system = [eq for eq in system if eq.lhs() in comp_set]"
   ]
  },
  {
   "cell_type": "code",
   "execution_count": 334,
   "metadata": {},
   "outputs": [
    {
     "data": {
      "text/html": [
       "<html><script type=\"math/tex; mode=display\">\\newcommand{\\Bold}[1]{\\mathbf{#1}}\\left[{F_{1,\\emptyset}(t)}, {F_{1,\\left\\{x^{2}\\right\\}}(t)}, {F_{x^{2},\\left\\{x^{2}\\right\\}}(t)}, {F_{1,\\left\\{x^{2}, x\\right\\}}(t)}, {F_{1,\\left\\{y, y^{2}\\right\\}}(t)}, {F_{y^{2},\\left\\{y^{2}\\right\\}}(t)}\\right]</script></html>"
      ],
      "text/plain": [
       "[v0, v6, v3, v15, v13, v2]"
      ]
     },
     "metadata": {},
     "output_type": "display_data"
    },
    {
     "name": "stdout",
     "output_type": "stream",
     "text": [
      "v0 == -1/(t^3*v15*v6 - t^3*v13/(t*v3 - 1) - 1)\n"
     ]
    },
    {
     "data": {
      "text/html": [
       "<html><script type=\"math/tex; mode=display\">\\newcommand{\\Bold}[1]{\\mathbf{#1}}{F_{1,\\emptyset}(t)} = -\\frac{1}{t^{3} {F_{1,\\left\\{x^{2}, x\\right\\}}(t)} {F_{1,\\left\\{x^{2}\\right\\}}(t)} - \\frac{t^{3} {F_{1,\\left\\{y, y^{2}\\right\\}}(t)}}{t {F_{x^{2},\\left\\{x^{2}\\right\\}}(t)} - 1} - 1}</script></html>"
      ],
      "text/plain": [
       "v0 == -1/(t^3*v15*v6 - t^3*v13/(t*v3 - 1) - 1)"
      ]
     },
     "metadata": {},
     "output_type": "display_data"
    },
    {
     "name": "stdout",
     "output_type": "stream",
     "text": [
      "v2 == -t^2*v13/(t*v3 - 1)\n"
     ]
    },
    {
     "data": {
      "text/html": [
       "<html><script type=\"math/tex; mode=display\">\\newcommand{\\Bold}[1]{\\mathbf{#1}}{F_{y^{2},\\left\\{y^{2}\\right\\}}(t)} = -\\frac{t^{2} {F_{1,\\left\\{y, y^{2}\\right\\}}(t)}}{t {F_{x^{2},\\left\\{x^{2}\\right\\}}(t)} - 1}</script></html>"
      ],
      "text/plain": [
       "v2 == -t^2*v13/(t*v3 - 1)"
      ]
     },
     "metadata": {},
     "output_type": "display_data"
    },
    {
     "name": "stdout",
     "output_type": "stream",
     "text": [
      "v3 == t^2*v15*v6\n"
     ]
    },
    {
     "data": {
      "text/html": [
       "<html><script type=\"math/tex; mode=display\">\\newcommand{\\Bold}[1]{\\mathbf{#1}}{F_{x^{2},\\left\\{x^{2}\\right\\}}(t)} = t^{2} {F_{1,\\left\\{x^{2}, x\\right\\}}(t)} {F_{1,\\left\\{x^{2}\\right\\}}(t)}</script></html>"
      ],
      "text/plain": [
       "v3 == t^2*v15*v6"
      ]
     },
     "metadata": {},
     "output_type": "display_data"
    },
    {
     "name": "stdout",
     "output_type": "stream",
     "text": [
      "v6 == -1/(t*v2 - 1)\n"
     ]
    },
    {
     "data": {
      "text/html": [
       "<html><script type=\"math/tex; mode=display\">\\newcommand{\\Bold}[1]{\\mathbf{#1}}{F_{1,\\left\\{x^{2}\\right\\}}(t)} = -\\frac{1}{t {F_{y^{2},\\left\\{y^{2}\\right\\}}(t)} - 1}</script></html>"
      ],
      "text/plain": [
       "v6 == -1/(t*v2 - 1)"
      ]
     },
     "metadata": {},
     "output_type": "display_data"
    },
    {
     "name": "stdout",
     "output_type": "stream",
     "text": [
      "v13 == -1/(t^3*v15*v6 - 1)\n"
     ]
    },
    {
     "data": {
      "text/html": [
       "<html><script type=\"math/tex; mode=display\">\\newcommand{\\Bold}[1]{\\mathbf{#1}}{F_{1,\\left\\{y, y^{2}\\right\\}}(t)} = -\\frac{1}{t^{3} {F_{1,\\left\\{x^{2}, x\\right\\}}(t)} {F_{1,\\left\\{x^{2}\\right\\}}(t)} - 1}</script></html>"
      ],
      "text/plain": [
       "v13 == -1/(t^3*v15*v6 - 1)"
      ]
     },
     "metadata": {},
     "output_type": "display_data"
    },
    {
     "name": "stdout",
     "output_type": "stream",
     "text": [
      "v15 == (1/(t^3*v13/(t*v3 - 1) + 1))\n"
     ]
    },
    {
     "data": {
      "text/html": [
       "<html><script type=\"math/tex; mode=display\">\\newcommand{\\Bold}[1]{\\mathbf{#1}}{F_{1,\\left\\{x^{2}, x\\right\\}}(t)} = \\frac{1}{\\frac{t^{3} {F_{1,\\left\\{y, y^{2}\\right\\}}(t)}}{t {F_{x^{2},\\left\\{x^{2}\\right\\}}(t)} - 1} + 1}</script></html>"
      ],
      "text/plain": [
       "v15 == (1/(t^3*v13/(t*v3 - 1) + 1))"
      ]
     },
     "metadata": {},
     "output_type": "display_data"
    }
   ],
   "source": [
    "pretty_print(comp)\n",
    "for eq in system:\n",
    "    print(eq)\n",
    "    pretty_print(eq)"
   ]
  },
  {
   "cell_type": "code",
   "execution_count": 335,
   "metadata": {},
   "outputs": [],
   "source": [
    "# make every equation eplicit. delete loops\n",
    "# maybe not a good idea due to the posssible interference of radicals\n",
    "\n",
    "# for i, eqn in enumerate(system):\n",
    "#     system[i] = solve(eqn,eqn.lhs())[0]"
   ]
  },
  {
   "cell_type": "code",
   "execution_count": 336,
   "metadata": {},
   "outputs": [
    {
     "name": "stdout",
     "output_type": "stream",
     "text": [
      "v0 == -1/(t^3*v15*v6 - t^3*v13/(t*v3 - 1) - 1)\n"
     ]
    },
    {
     "data": {
      "text/html": [
       "<html><script type=\"math/tex; mode=display\">\\newcommand{\\Bold}[1]{\\mathbf{#1}}{F_{1,\\emptyset}(t)} = -\\frac{1}{t^{3} {F_{1,\\left\\{x^{2}, x\\right\\}}(t)} {F_{1,\\left\\{x^{2}\\right\\}}(t)} - \\frac{t^{3} {F_{1,\\left\\{y, y^{2}\\right\\}}(t)}}{t {F_{x^{2},\\left\\{x^{2}\\right\\}}(t)} - 1} - 1}</script></html>"
      ],
      "text/plain": [
       "v0 == -1/(t^3*v15*v6 - t^3*v13/(t*v3 - 1) - 1)"
      ]
     },
     "metadata": {},
     "output_type": "display_data"
    },
    {
     "name": "stdout",
     "output_type": "stream",
     "text": [
      "v2 == -t^2*v13/(t*v3 - 1)\n"
     ]
    },
    {
     "data": {
      "text/html": [
       "<html><script type=\"math/tex; mode=display\">\\newcommand{\\Bold}[1]{\\mathbf{#1}}{F_{y^{2},\\left\\{y^{2}\\right\\}}(t)} = -\\frac{t^{2} {F_{1,\\left\\{y, y^{2}\\right\\}}(t)}}{t {F_{x^{2},\\left\\{x^{2}\\right\\}}(t)} - 1}</script></html>"
      ],
      "text/plain": [
       "v2 == -t^2*v13/(t*v3 - 1)"
      ]
     },
     "metadata": {},
     "output_type": "display_data"
    },
    {
     "name": "stdout",
     "output_type": "stream",
     "text": [
      "v3 == t^2*v15*v6\n"
     ]
    },
    {
     "data": {
      "text/html": [
       "<html><script type=\"math/tex; mode=display\">\\newcommand{\\Bold}[1]{\\mathbf{#1}}{F_{x^{2},\\left\\{x^{2}\\right\\}}(t)} = t^{2} {F_{1,\\left\\{x^{2}, x\\right\\}}(t)} {F_{1,\\left\\{x^{2}\\right\\}}(t)}</script></html>"
      ],
      "text/plain": [
       "v3 == t^2*v15*v6"
      ]
     },
     "metadata": {},
     "output_type": "display_data"
    },
    {
     "name": "stdout",
     "output_type": "stream",
     "text": [
      "v6 == -1/(t*v2 - 1)\n"
     ]
    },
    {
     "data": {
      "text/html": [
       "<html><script type=\"math/tex; mode=display\">\\newcommand{\\Bold}[1]{\\mathbf{#1}}{F_{1,\\left\\{x^{2}\\right\\}}(t)} = -\\frac{1}{t {F_{y^{2},\\left\\{y^{2}\\right\\}}(t)} - 1}</script></html>"
      ],
      "text/plain": [
       "v6 == -1/(t*v2 - 1)"
      ]
     },
     "metadata": {},
     "output_type": "display_data"
    },
    {
     "name": "stdout",
     "output_type": "stream",
     "text": [
      "v13 == -1/(t^3*v15*v6 - 1)\n"
     ]
    },
    {
     "data": {
      "text/html": [
       "<html><script type=\"math/tex; mode=display\">\\newcommand{\\Bold}[1]{\\mathbf{#1}}{F_{1,\\left\\{y, y^{2}\\right\\}}(t)} = -\\frac{1}{t^{3} {F_{1,\\left\\{x^{2}, x\\right\\}}(t)} {F_{1,\\left\\{x^{2}\\right\\}}(t)} - 1}</script></html>"
      ],
      "text/plain": [
       "v13 == -1/(t^3*v15*v6 - 1)"
      ]
     },
     "metadata": {},
     "output_type": "display_data"
    },
    {
     "name": "stdout",
     "output_type": "stream",
     "text": [
      "v15 == (1/(t^3*v13/(t*v3 - 1) + 1))\n"
     ]
    },
    {
     "data": {
      "text/html": [
       "<html><script type=\"math/tex; mode=display\">\\newcommand{\\Bold}[1]{\\mathbf{#1}}{F_{1,\\left\\{x^{2}, x\\right\\}}(t)} = \\frac{1}{\\frac{t^{3} {F_{1,\\left\\{y, y^{2}\\right\\}}(t)}}{t {F_{x^{2},\\left\\{x^{2}\\right\\}}(t)} - 1} + 1}</script></html>"
      ],
      "text/plain": [
       "v15 == (1/(t^3*v13/(t*v3 - 1) + 1))"
      ]
     },
     "metadata": {},
     "output_type": "display_data"
    }
   ],
   "source": [
    "for eq in system:\n",
    "    print(eq)\n",
    "    pretty_print(eq)"
   ]
  },
  {
   "cell_type": "code",
   "execution_count": 337,
   "metadata": {},
   "outputs": [
    {
     "data": {
      "text/plain": [
       "[v2, v13, v15, v3, v6]"
      ]
     },
     "execution_count": 337,
     "metadata": {},
     "output_type": "execute_result"
    }
   ],
   "source": [
    "# order the component based on the shortest distance from the start in decreasing order\n",
    "# BFS already put them in increasing order\n",
    "comp.reverse()\n",
    "comp.pop(); # get rid of start; the only variable we don't want to eliminate\n",
    "comp"
   ]
  },
  {
   "cell_type": "code",
   "execution_count": 338,
   "metadata": {},
   "outputs": [
    {
     "name": "stdout",
     "output_type": "stream",
     "text": [
      "[v2, v13, v15, v3, v6] <class 'list'>\n"
     ]
    },
    {
     "data": {
      "text/html": [
       "<html><script type=\"math/tex; mode=display\">\\newcommand{\\Bold}[1]{\\mathbf{#1}}0</script></html>"
      ],
      "text/plain": [
       "0"
      ]
     },
     "metadata": {},
     "output_type": "display_data"
    },
    {
     "data": {
      "text/html": [
       "<html><script type=\"math/tex; mode=display\">\\newcommand{\\Bold}[1]{\\mathbf{#1}}0</script></html>"
      ],
      "text/plain": [
       "0"
      ]
     },
     "metadata": {},
     "output_type": "display_data"
    },
    {
     "name": "stdout",
     "output_type": "stream",
     "text": [
      "[v2, v13, v15, v6, v3] <class 'list'>\n"
     ]
    },
    {
     "data": {
      "text/html": [
       "<html><script type=\"math/tex; mode=display\">\\newcommand{\\Bold}[1]{\\mathbf{#1}}0</script></html>"
      ],
      "text/plain": [
       "0"
      ]
     },
     "metadata": {},
     "output_type": "display_data"
    },
    {
     "name": "stdout",
     "output_type": "stream",
     "text": [
      "[v2, v13, v3, v15, v6] <class 'list'>\n"
     ]
    },
    {
     "data": {
      "text/html": [
       "<html><script type=\"math/tex; mode=display\">\\newcommand{\\Bold}[1]{\\mathbf{#1}}0</script></html>"
      ],
      "text/plain": [
       "0"
      ]
     },
     "metadata": {},
     "output_type": "display_data"
    },
    {
     "data": {
      "text/html": [
       "<html><script type=\"math/tex; mode=display\">\\newcommand{\\Bold}[1]{\\mathbf{#1}}0</script></html>"
      ],
      "text/plain": [
       "0"
      ]
     },
     "metadata": {},
     "output_type": "display_data"
    },
    {
     "name": "stdout",
     "output_type": "stream",
     "text": [
      "[v2, v13, v3, v6, v15] <class 'list'>\n"
     ]
    },
    {
     "data": {
      "text/html": [
       "<html><script type=\"math/tex; mode=display\">\\newcommand{\\Bold}[1]{\\mathbf{#1}}0</script></html>"
      ],
      "text/plain": [
       "0"
      ]
     },
     "metadata": {},
     "output_type": "display_data"
    },
    {
     "data": {
      "text/html": [
       "<html><script type=\"math/tex; mode=display\">\\newcommand{\\Bold}[1]{\\mathbf{#1}}0</script></html>"
      ],
      "text/plain": [
       "0"
      ]
     },
     "metadata": {},
     "output_type": "display_data"
    },
    {
     "name": "stdout",
     "output_type": "stream",
     "text": [
      "[v2, v13, v6, v15, v3] <class 'list'>\n"
     ]
    },
    {
     "data": {
      "text/html": [
       "<html><script type=\"math/tex; mode=display\">\\newcommand{\\Bold}[1]{\\mathbf{#1}}0</script></html>"
      ],
      "text/plain": [
       "0"
      ]
     },
     "metadata": {},
     "output_type": "display_data"
    },
    {
     "name": "stdout",
     "output_type": "stream",
     "text": [
      "[v2, v13, v6, v3, v15] <class 'list'>\n"
     ]
    },
    {
     "data": {
      "text/html": [
       "<html><script type=\"math/tex; mode=display\">\\newcommand{\\Bold}[1]{\\mathbf{#1}}0</script></html>"
      ],
      "text/plain": [
       "0"
      ]
     },
     "metadata": {},
     "output_type": "display_data"
    },
    {
     "data": {
      "text/html": [
       "<html><script type=\"math/tex; mode=display\">\\newcommand{\\Bold}[1]{\\mathbf{#1}}0</script></html>"
      ],
      "text/plain": [
       "0"
      ]
     },
     "metadata": {},
     "output_type": "display_data"
    },
    {
     "name": "stdout",
     "output_type": "stream",
     "text": [
      "[v2, v15, v13, v3, v6] <class 'list'>\n"
     ]
    },
    {
     "data": {
      "text/html": [
       "<html><script type=\"math/tex; mode=display\">\\newcommand{\\Bold}[1]{\\mathbf{#1}}0</script></html>"
      ],
      "text/plain": [
       "0"
      ]
     },
     "metadata": {},
     "output_type": "display_data"
    },
    {
     "data": {
      "text/html": [
       "<html><script type=\"math/tex; mode=display\">\\newcommand{\\Bold}[1]{\\mathbf{#1}}0</script></html>"
      ],
      "text/plain": [
       "0"
      ]
     },
     "metadata": {},
     "output_type": "display_data"
    },
    {
     "name": "stdout",
     "output_type": "stream",
     "text": [
      "[v2, v15, v13, v6, v3] <class 'list'>\n"
     ]
    },
    {
     "data": {
      "text/html": [
       "<html><script type=\"math/tex; mode=display\">\\newcommand{\\Bold}[1]{\\mathbf{#1}}0</script></html>"
      ],
      "text/plain": [
       "0"
      ]
     },
     "metadata": {},
     "output_type": "display_data"
    },
    {
     "name": "stdout",
     "output_type": "stream",
     "text": [
      "[v2, v15, v3, v13, v6] <class 'list'>\n"
     ]
    },
    {
     "data": {
      "text/html": [
       "<html><script type=\"math/tex; mode=display\">\\newcommand{\\Bold}[1]{\\mathbf{#1}}0</script></html>"
      ],
      "text/plain": [
       "0"
      ]
     },
     "metadata": {},
     "output_type": "display_data"
    },
    {
     "data": {
      "text/html": [
       "<html><script type=\"math/tex; mode=display\">\\newcommand{\\Bold}[1]{\\mathbf{#1}}0</script></html>"
      ],
      "text/plain": [
       "0"
      ]
     },
     "metadata": {},
     "output_type": "display_data"
    },
    {
     "name": "stdout",
     "output_type": "stream",
     "text": [
      "[v2, v15, v3, v6, v13] <class 'list'>\n"
     ]
    },
    {
     "data": {
      "text/html": [
       "<html><script type=\"math/tex; mode=display\">\\newcommand{\\Bold}[1]{\\mathbf{#1}}0</script></html>"
      ],
      "text/plain": [
       "0"
      ]
     },
     "metadata": {},
     "output_type": "display_data"
    },
    {
     "name": "stdout",
     "output_type": "stream",
     "text": [
      "[v2, v15, v6, v13, v3] <class 'list'>\n"
     ]
    },
    {
     "data": {
      "text/html": [
       "<html><script type=\"math/tex; mode=display\">\\newcommand{\\Bold}[1]{\\mathbf{#1}}0</script></html>"
      ],
      "text/plain": [
       "0"
      ]
     },
     "metadata": {},
     "output_type": "display_data"
    },
    {
     "name": "stdout",
     "output_type": "stream",
     "text": [
      "[v2, v15, v6, v3, v13] <class 'list'>\n"
     ]
    },
    {
     "data": {
      "text/html": [
       "<html><script type=\"math/tex; mode=display\">\\newcommand{\\Bold}[1]{\\mathbf{#1}}0</script></html>"
      ],
      "text/plain": [
       "0"
      ]
     },
     "metadata": {},
     "output_type": "display_data"
    },
    {
     "name": "stdout",
     "output_type": "stream",
     "text": [
      "[v2, v3, v13, v15, v6] <class 'list'>\n"
     ]
    },
    {
     "data": {
      "text/html": [
       "<html><script type=\"math/tex; mode=display\">\\newcommand{\\Bold}[1]{\\mathbf{#1}}0</script></html>"
      ],
      "text/plain": [
       "0"
      ]
     },
     "metadata": {},
     "output_type": "display_data"
    },
    {
     "data": {
      "text/html": [
       "<html><script type=\"math/tex; mode=display\">\\newcommand{\\Bold}[1]{\\mathbf{#1}}0</script></html>"
      ],
      "text/plain": [
       "0"
      ]
     },
     "metadata": {},
     "output_type": "display_data"
    },
    {
     "name": "stdout",
     "output_type": "stream",
     "text": [
      "[v2, v3, v13, v6, v15] <class 'list'>\n"
     ]
    },
    {
     "data": {
      "text/html": [
       "<html><script type=\"math/tex; mode=display\">\\newcommand{\\Bold}[1]{\\mathbf{#1}}0</script></html>"
      ],
      "text/plain": [
       "0"
      ]
     },
     "metadata": {},
     "output_type": "display_data"
    },
    {
     "data": {
      "text/html": [
       "<html><script type=\"math/tex; mode=display\">\\newcommand{\\Bold}[1]{\\mathbf{#1}}0</script></html>"
      ],
      "text/plain": [
       "0"
      ]
     },
     "metadata": {},
     "output_type": "display_data"
    },
    {
     "name": "stdout",
     "output_type": "stream",
     "text": [
      "[v2, v3, v15, v13, v6] <class 'list'>\n"
     ]
    },
    {
     "data": {
      "text/html": [
       "<html><script type=\"math/tex; mode=display\">\\newcommand{\\Bold}[1]{\\mathbf{#1}}0</script></html>"
      ],
      "text/plain": [
       "0"
      ]
     },
     "metadata": {},
     "output_type": "display_data"
    },
    {
     "data": {
      "text/html": [
       "<html><script type=\"math/tex; mode=display\">\\newcommand{\\Bold}[1]{\\mathbf{#1}}0</script></html>"
      ],
      "text/plain": [
       "0"
      ]
     },
     "metadata": {},
     "output_type": "display_data"
    },
    {
     "name": "stdout",
     "output_type": "stream",
     "text": [
      "[v2, v3, v15, v6, v13] <class 'list'>\n"
     ]
    },
    {
     "data": {
      "text/html": [
       "<html><script type=\"math/tex; mode=display\">\\newcommand{\\Bold}[1]{\\mathbf{#1}}0</script></html>"
      ],
      "text/plain": [
       "0"
      ]
     },
     "metadata": {},
     "output_type": "display_data"
    },
    {
     "name": "stdout",
     "output_type": "stream",
     "text": [
      "[v2, v3, v6, v13, v15] <class 'list'>\n"
     ]
    },
    {
     "data": {
      "text/html": [
       "<html><script type=\"math/tex; mode=display\">\\newcommand{\\Bold}[1]{\\mathbf{#1}}0</script></html>"
      ],
      "text/plain": [
       "0"
      ]
     },
     "metadata": {},
     "output_type": "display_data"
    },
    {
     "data": {
      "text/html": [
       "<html><script type=\"math/tex; mode=display\">\\newcommand{\\Bold}[1]{\\mathbf{#1}}0</script></html>"
      ],
      "text/plain": [
       "0"
      ]
     },
     "metadata": {},
     "output_type": "display_data"
    },
    {
     "name": "stdout",
     "output_type": "stream",
     "text": [
      "[v2, v3, v6, v15, v13] <class 'list'>\n"
     ]
    },
    {
     "data": {
      "text/html": [
       "<html><script type=\"math/tex; mode=display\">\\newcommand{\\Bold}[1]{\\mathbf{#1}}0</script></html>"
      ],
      "text/plain": [
       "0"
      ]
     },
     "metadata": {},
     "output_type": "display_data"
    },
    {
     "name": "stdout",
     "output_type": "stream",
     "text": [
      "[v2, v6, v13, v15, v3] <class 'list'>\n"
     ]
    },
    {
     "data": {
      "text/html": [
       "<html><script type=\"math/tex; mode=display\">\\newcommand{\\Bold}[1]{\\mathbf{#1}}0</script></html>"
      ],
      "text/plain": [
       "0"
      ]
     },
     "metadata": {},
     "output_type": "display_data"
    },
    {
     "data": {
      "text/html": [
       "<html><script type=\"math/tex; mode=display\">\\newcommand{\\Bold}[1]{\\mathbf{#1}}0</script></html>"
      ],
      "text/plain": [
       "0"
      ]
     },
     "metadata": {},
     "output_type": "display_data"
    },
    {
     "name": "stdout",
     "output_type": "stream",
     "text": [
      "[v2, v6, v13, v3, v15] <class 'list'>\n"
     ]
    },
    {
     "data": {
      "text/html": [
       "<html><script type=\"math/tex; mode=display\">\\newcommand{\\Bold}[1]{\\mathbf{#1}}0</script></html>"
      ],
      "text/plain": [
       "0"
      ]
     },
     "metadata": {},
     "output_type": "display_data"
    },
    {
     "name": "stdout",
     "output_type": "stream",
     "text": [
      "[v2, v6, v15, v13, v3] <class 'list'>\n"
     ]
    },
    {
     "data": {
      "text/html": [
       "<html><script type=\"math/tex; mode=display\">\\newcommand{\\Bold}[1]{\\mathbf{#1}}0</script></html>"
      ],
      "text/plain": [
       "0"
      ]
     },
     "metadata": {},
     "output_type": "display_data"
    },
    {
     "data": {
      "text/html": [
       "<html><script type=\"math/tex; mode=display\">\\newcommand{\\Bold}[1]{\\mathbf{#1}}0</script></html>"
      ],
      "text/plain": [
       "0"
      ]
     },
     "metadata": {},
     "output_type": "display_data"
    },
    {
     "name": "stdout",
     "output_type": "stream",
     "text": [
      "[v2, v6, v15, v3, v13] <class 'list'>\n"
     ]
    },
    {
     "data": {
      "text/html": [
       "<html><script type=\"math/tex; mode=display\">\\newcommand{\\Bold}[1]{\\mathbf{#1}}0</script></html>"
      ],
      "text/plain": [
       "0"
      ]
     },
     "metadata": {},
     "output_type": "display_data"
    },
    {
     "data": {
      "text/html": [
       "<html><script type=\"math/tex; mode=display\">\\newcommand{\\Bold}[1]{\\mathbf{#1}}0</script></html>"
      ],
      "text/plain": [
       "0"
      ]
     },
     "metadata": {},
     "output_type": "display_data"
    },
    {
     "name": "stdout",
     "output_type": "stream",
     "text": [
      "[v2, v6, v3, v13, v15] <class 'list'>\n"
     ]
    },
    {
     "data": {
      "text/html": [
       "<html><script type=\"math/tex; mode=display\">\\newcommand{\\Bold}[1]{\\mathbf{#1}}0</script></html>"
      ],
      "text/plain": [
       "0"
      ]
     },
     "metadata": {},
     "output_type": "display_data"
    },
    {
     "name": "stdout",
     "output_type": "stream",
     "text": [
      "[v2, v6, v3, v15, v13] <class 'list'>\n"
     ]
    },
    {
     "data": {
      "text/html": [
       "<html><script type=\"math/tex; mode=display\">\\newcommand{\\Bold}[1]{\\mathbf{#1}}0</script></html>"
      ],
      "text/plain": [
       "0"
      ]
     },
     "metadata": {},
     "output_type": "display_data"
    },
    {
     "data": {
      "text/html": [
       "<html><script type=\"math/tex; mode=display\">\\newcommand{\\Bold}[1]{\\mathbf{#1}}0</script></html>"
      ],
      "text/plain": [
       "0"
      ]
     },
     "metadata": {},
     "output_type": "display_data"
    },
    {
     "name": "stdout",
     "output_type": "stream",
     "text": [
      "[v13, v2, v15, v3, v6] <class 'list'>\n"
     ]
    },
    {
     "data": {
      "text/html": [
       "<html><script type=\"math/tex; mode=display\">\\newcommand{\\Bold}[1]{\\mathbf{#1}}0</script></html>"
      ],
      "text/plain": [
       "0"
      ]
     },
     "metadata": {},
     "output_type": "display_data"
    },
    {
     "data": {
      "text/html": [
       "<html><script type=\"math/tex; mode=display\">\\newcommand{\\Bold}[1]{\\mathbf{#1}}0</script></html>"
      ],
      "text/plain": [
       "0"
      ]
     },
     "metadata": {},
     "output_type": "display_data"
    },
    {
     "name": "stdout",
     "output_type": "stream",
     "text": [
      "[v13, v2, v15, v6, v3] <class 'list'>\n"
     ]
    },
    {
     "data": {
      "text/html": [
       "<html><script type=\"math/tex; mode=display\">\\newcommand{\\Bold}[1]{\\mathbf{#1}}0</script></html>"
      ],
      "text/plain": [
       "0"
      ]
     },
     "metadata": {},
     "output_type": "display_data"
    },
    {
     "data": {
      "text/html": [
       "<html><script type=\"math/tex; mode=display\">\\newcommand{\\Bold}[1]{\\mathbf{#1}}0</script></html>"
      ],
      "text/plain": [
       "0"
      ]
     },
     "metadata": {},
     "output_type": "display_data"
    },
    {
     "name": "stdout",
     "output_type": "stream",
     "text": [
      "[v13, v2, v3, v15, v6] <class 'list'>\n"
     ]
    },
    {
     "data": {
      "text/html": [
       "<html><script type=\"math/tex; mode=display\">\\newcommand{\\Bold}[1]{\\mathbf{#1}}0</script></html>"
      ],
      "text/plain": [
       "0"
      ]
     },
     "metadata": {},
     "output_type": "display_data"
    },
    {
     "data": {
      "text/html": [
       "<html><script type=\"math/tex; mode=display\">\\newcommand{\\Bold}[1]{\\mathbf{#1}}0</script></html>"
      ],
      "text/plain": [
       "0"
      ]
     },
     "metadata": {},
     "output_type": "display_data"
    },
    {
     "name": "stdout",
     "output_type": "stream",
     "text": [
      "[v13, v2, v3, v6, v15] <class 'list'>\n"
     ]
    },
    {
     "data": {
      "text/html": [
       "<html><script type=\"math/tex; mode=display\">\\newcommand{\\Bold}[1]{\\mathbf{#1}}0</script></html>"
      ],
      "text/plain": [
       "0"
      ]
     },
     "metadata": {},
     "output_type": "display_data"
    },
    {
     "data": {
      "text/html": [
       "<html><script type=\"math/tex; mode=display\">\\newcommand{\\Bold}[1]{\\mathbf{#1}}0</script></html>"
      ],
      "text/plain": [
       "0"
      ]
     },
     "metadata": {},
     "output_type": "display_data"
    },
    {
     "name": "stdout",
     "output_type": "stream",
     "text": [
      "[v13, v2, v6, v15, v3] <class 'list'>\n"
     ]
    },
    {
     "data": {
      "text/html": [
       "<html><script type=\"math/tex; mode=display\">\\newcommand{\\Bold}[1]{\\mathbf{#1}}0</script></html>"
      ],
      "text/plain": [
       "0"
      ]
     },
     "metadata": {},
     "output_type": "display_data"
    },
    {
     "data": {
      "text/html": [
       "<html><script type=\"math/tex; mode=display\">\\newcommand{\\Bold}[1]{\\mathbf{#1}}0</script></html>"
      ],
      "text/plain": [
       "0"
      ]
     },
     "metadata": {},
     "output_type": "display_data"
    },
    {
     "name": "stdout",
     "output_type": "stream",
     "text": [
      "[v13, v2, v6, v3, v15] <class 'list'>\n"
     ]
    },
    {
     "data": {
      "text/html": [
       "<html><script type=\"math/tex; mode=display\">\\newcommand{\\Bold}[1]{\\mathbf{#1}}0</script></html>"
      ],
      "text/plain": [
       "0"
      ]
     },
     "metadata": {},
     "output_type": "display_data"
    },
    {
     "data": {
      "text/html": [
       "<html><script type=\"math/tex; mode=display\">\\newcommand{\\Bold}[1]{\\mathbf{#1}}0</script></html>"
      ],
      "text/plain": [
       "0"
      ]
     },
     "metadata": {},
     "output_type": "display_data"
    },
    {
     "name": "stdout",
     "output_type": "stream",
     "text": [
      "[v13, v15, v2, v3, v6] <class 'list'>\n"
     ]
    },
    {
     "data": {
      "text/html": [
       "<html><script type=\"math/tex; mode=display\">\\newcommand{\\Bold}[1]{\\mathbf{#1}}0</script></html>"
      ],
      "text/plain": [
       "0"
      ]
     },
     "metadata": {},
     "output_type": "display_data"
    },
    {
     "data": {
      "text/html": [
       "<html><script type=\"math/tex; mode=display\">\\newcommand{\\Bold}[1]{\\mathbf{#1}}0</script></html>"
      ],
      "text/plain": [
       "0"
      ]
     },
     "metadata": {},
     "output_type": "display_data"
    },
    {
     "name": "stdout",
     "output_type": "stream",
     "text": [
      "[v13, v15, v2, v6, v3] <class 'list'>\n"
     ]
    },
    {
     "data": {
      "text/html": [
       "<html><script type=\"math/tex; mode=display\">\\newcommand{\\Bold}[1]{\\mathbf{#1}}0</script></html>"
      ],
      "text/plain": [
       "0"
      ]
     },
     "metadata": {},
     "output_type": "display_data"
    },
    {
     "data": {
      "text/html": [
       "<html><script type=\"math/tex; mode=display\">\\newcommand{\\Bold}[1]{\\mathbf{#1}}0</script></html>"
      ],
      "text/plain": [
       "0"
      ]
     },
     "metadata": {},
     "output_type": "display_data"
    },
    {
     "name": "stdout",
     "output_type": "stream",
     "text": [
      "[v13, v15, v3, v2, v6] <class 'list'>\n"
     ]
    },
    {
     "data": {
      "text/html": [
       "<html><script type=\"math/tex; mode=display\">\\newcommand{\\Bold}[1]{\\mathbf{#1}}0</script></html>"
      ],
      "text/plain": [
       "0"
      ]
     },
     "metadata": {},
     "output_type": "display_data"
    },
    {
     "data": {
      "text/html": [
       "<html><script type=\"math/tex; mode=display\">\\newcommand{\\Bold}[1]{\\mathbf{#1}}0</script></html>"
      ],
      "text/plain": [
       "0"
      ]
     },
     "metadata": {},
     "output_type": "display_data"
    },
    {
     "name": "stdout",
     "output_type": "stream",
     "text": [
      "[v13, v15, v3, v6, v2] <class 'list'>\n"
     ]
    },
    {
     "data": {
      "text/html": [
       "<html><script type=\"math/tex; mode=display\">\\newcommand{\\Bold}[1]{\\mathbf{#1}}0</script></html>"
      ],
      "text/plain": [
       "0"
      ]
     },
     "metadata": {},
     "output_type": "display_data"
    },
    {
     "data": {
      "text/html": [
       "<html><script type=\"math/tex; mode=display\">\\newcommand{\\Bold}[1]{\\mathbf{#1}}0</script></html>"
      ],
      "text/plain": [
       "0"
      ]
     },
     "metadata": {},
     "output_type": "display_data"
    },
    {
     "name": "stdout",
     "output_type": "stream",
     "text": [
      "[v13, v15, v6, v2, v3] <class 'list'>\n"
     ]
    },
    {
     "data": {
      "text/html": [
       "<html><script type=\"math/tex; mode=display\">\\newcommand{\\Bold}[1]{\\mathbf{#1}}0</script></html>"
      ],
      "text/plain": [
       "0"
      ]
     },
     "metadata": {},
     "output_type": "display_data"
    },
    {
     "data": {
      "text/html": [
       "<html><script type=\"math/tex; mode=display\">\\newcommand{\\Bold}[1]{\\mathbf{#1}}0</script></html>"
      ],
      "text/plain": [
       "0"
      ]
     },
     "metadata": {},
     "output_type": "display_data"
    },
    {
     "name": "stdout",
     "output_type": "stream",
     "text": [
      "[v13, v15, v6, v3, v2] <class 'list'>\n"
     ]
    },
    {
     "data": {
      "text/html": [
       "<html><script type=\"math/tex; mode=display\">\\newcommand{\\Bold}[1]{\\mathbf{#1}}0</script></html>"
      ],
      "text/plain": [
       "0"
      ]
     },
     "metadata": {},
     "output_type": "display_data"
    },
    {
     "data": {
      "text/html": [
       "<html><script type=\"math/tex; mode=display\">\\newcommand{\\Bold}[1]{\\mathbf{#1}}0</script></html>"
      ],
      "text/plain": [
       "0"
      ]
     },
     "metadata": {},
     "output_type": "display_data"
    },
    {
     "name": "stdout",
     "output_type": "stream",
     "text": [
      "[v13, v3, v2, v15, v6] <class 'list'>\n"
     ]
    },
    {
     "data": {
      "text/html": [
       "<html><script type=\"math/tex; mode=display\">\\newcommand{\\Bold}[1]{\\mathbf{#1}}0</script></html>"
      ],
      "text/plain": [
       "0"
      ]
     },
     "metadata": {},
     "output_type": "display_data"
    },
    {
     "data": {
      "text/html": [
       "<html><script type=\"math/tex; mode=display\">\\newcommand{\\Bold}[1]{\\mathbf{#1}}0</script></html>"
      ],
      "text/plain": [
       "0"
      ]
     },
     "metadata": {},
     "output_type": "display_data"
    },
    {
     "name": "stdout",
     "output_type": "stream",
     "text": [
      "[v13, v3, v2, v6, v15] <class 'list'>\n"
     ]
    },
    {
     "data": {
      "text/html": [
       "<html><script type=\"math/tex; mode=display\">\\newcommand{\\Bold}[1]{\\mathbf{#1}}0</script></html>"
      ],
      "text/plain": [
       "0"
      ]
     },
     "metadata": {},
     "output_type": "display_data"
    },
    {
     "data": {
      "text/html": [
       "<html><script type=\"math/tex; mode=display\">\\newcommand{\\Bold}[1]{\\mathbf{#1}}0</script></html>"
      ],
      "text/plain": [
       "0"
      ]
     },
     "metadata": {},
     "output_type": "display_data"
    },
    {
     "name": "stdout",
     "output_type": "stream",
     "text": [
      "[v13, v3, v15, v2, v6] <class 'list'>\n"
     ]
    },
    {
     "data": {
      "text/html": [
       "<html><script type=\"math/tex; mode=display\">\\newcommand{\\Bold}[1]{\\mathbf{#1}}0</script></html>"
      ],
      "text/plain": [
       "0"
      ]
     },
     "metadata": {},
     "output_type": "display_data"
    },
    {
     "data": {
      "text/html": [
       "<html><script type=\"math/tex; mode=display\">\\newcommand{\\Bold}[1]{\\mathbf{#1}}0</script></html>"
      ],
      "text/plain": [
       "0"
      ]
     },
     "metadata": {},
     "output_type": "display_data"
    },
    {
     "name": "stdout",
     "output_type": "stream",
     "text": [
      "[v13, v3, v15, v6, v2] <class 'list'>\n"
     ]
    },
    {
     "data": {
      "text/html": [
       "<html><script type=\"math/tex; mode=display\">\\newcommand{\\Bold}[1]{\\mathbf{#1}}0</script></html>"
      ],
      "text/plain": [
       "0"
      ]
     },
     "metadata": {},
     "output_type": "display_data"
    },
    {
     "data": {
      "text/html": [
       "<html><script type=\"math/tex; mode=display\">\\newcommand{\\Bold}[1]{\\mathbf{#1}}0</script></html>"
      ],
      "text/plain": [
       "0"
      ]
     },
     "metadata": {},
     "output_type": "display_data"
    },
    {
     "name": "stdout",
     "output_type": "stream",
     "text": [
      "[v13, v3, v6, v2, v15] <class 'list'>\n"
     ]
    },
    {
     "data": {
      "text/html": [
       "<html><script type=\"math/tex; mode=display\">\\newcommand{\\Bold}[1]{\\mathbf{#1}}0</script></html>"
      ],
      "text/plain": [
       "0"
      ]
     },
     "metadata": {},
     "output_type": "display_data"
    },
    {
     "data": {
      "text/html": [
       "<html><script type=\"math/tex; mode=display\">\\newcommand{\\Bold}[1]{\\mathbf{#1}}0</script></html>"
      ],
      "text/plain": [
       "0"
      ]
     },
     "metadata": {},
     "output_type": "display_data"
    },
    {
     "name": "stdout",
     "output_type": "stream",
     "text": [
      "[v13, v3, v6, v15, v2] <class 'list'>\n"
     ]
    },
    {
     "data": {
      "text/html": [
       "<html><script type=\"math/tex; mode=display\">\\newcommand{\\Bold}[1]{\\mathbf{#1}}0</script></html>"
      ],
      "text/plain": [
       "0"
      ]
     },
     "metadata": {},
     "output_type": "display_data"
    },
    {
     "data": {
      "text/html": [
       "<html><script type=\"math/tex; mode=display\">\\newcommand{\\Bold}[1]{\\mathbf{#1}}0</script></html>"
      ],
      "text/plain": [
       "0"
      ]
     },
     "metadata": {},
     "output_type": "display_data"
    },
    {
     "name": "stdout",
     "output_type": "stream",
     "text": [
      "[v13, v6, v2, v15, v3] <class 'list'>\n"
     ]
    },
    {
     "data": {
      "text/html": [
       "<html><script type=\"math/tex; mode=display\">\\newcommand{\\Bold}[1]{\\mathbf{#1}}0</script></html>"
      ],
      "text/plain": [
       "0"
      ]
     },
     "metadata": {},
     "output_type": "display_data"
    },
    {
     "data": {
      "text/html": [
       "<html><script type=\"math/tex; mode=display\">\\newcommand{\\Bold}[1]{\\mathbf{#1}}0</script></html>"
      ],
      "text/plain": [
       "0"
      ]
     },
     "metadata": {},
     "output_type": "display_data"
    },
    {
     "name": "stdout",
     "output_type": "stream",
     "text": [
      "[v13, v6, v2, v3, v15] <class 'list'>\n"
     ]
    },
    {
     "data": {
      "text/html": [
       "<html><script type=\"math/tex; mode=display\">\\newcommand{\\Bold}[1]{\\mathbf{#1}}0</script></html>"
      ],
      "text/plain": [
       "0"
      ]
     },
     "metadata": {},
     "output_type": "display_data"
    },
    {
     "data": {
      "text/html": [
       "<html><script type=\"math/tex; mode=display\">\\newcommand{\\Bold}[1]{\\mathbf{#1}}0</script></html>"
      ],
      "text/plain": [
       "0"
      ]
     },
     "metadata": {},
     "output_type": "display_data"
    },
    {
     "name": "stdout",
     "output_type": "stream",
     "text": [
      "[v13, v6, v15, v2, v3] <class 'list'>\n"
     ]
    },
    {
     "data": {
      "text/html": [
       "<html><script type=\"math/tex; mode=display\">\\newcommand{\\Bold}[1]{\\mathbf{#1}}0</script></html>"
      ],
      "text/plain": [
       "0"
      ]
     },
     "metadata": {},
     "output_type": "display_data"
    },
    {
     "data": {
      "text/html": [
       "<html><script type=\"math/tex; mode=display\">\\newcommand{\\Bold}[1]{\\mathbf{#1}}0</script></html>"
      ],
      "text/plain": [
       "0"
      ]
     },
     "metadata": {},
     "output_type": "display_data"
    },
    {
     "name": "stdout",
     "output_type": "stream",
     "text": [
      "[v13, v6, v15, v3, v2] <class 'list'>\n"
     ]
    },
    {
     "data": {
      "text/html": [
       "<html><script type=\"math/tex; mode=display\">\\newcommand{\\Bold}[1]{\\mathbf{#1}}0</script></html>"
      ],
      "text/plain": [
       "0"
      ]
     },
     "metadata": {},
     "output_type": "display_data"
    },
    {
     "data": {
      "text/html": [
       "<html><script type=\"math/tex; mode=display\">\\newcommand{\\Bold}[1]{\\mathbf{#1}}0</script></html>"
      ],
      "text/plain": [
       "0"
      ]
     },
     "metadata": {},
     "output_type": "display_data"
    },
    {
     "name": "stdout",
     "output_type": "stream",
     "text": [
      "[v13, v6, v3, v2, v15] <class 'list'>\n"
     ]
    },
    {
     "data": {
      "text/html": [
       "<html><script type=\"math/tex; mode=display\">\\newcommand{\\Bold}[1]{\\mathbf{#1}}0</script></html>"
      ],
      "text/plain": [
       "0"
      ]
     },
     "metadata": {},
     "output_type": "display_data"
    },
    {
     "data": {
      "text/html": [
       "<html><script type=\"math/tex; mode=display\">\\newcommand{\\Bold}[1]{\\mathbf{#1}}0</script></html>"
      ],
      "text/plain": [
       "0"
      ]
     },
     "metadata": {},
     "output_type": "display_data"
    },
    {
     "data": {
      "text/html": [
       "<html><script type=\"math/tex; mode=display\">\\newcommand{\\Bold}[1]{\\mathbf{#1}}0</script></html>"
      ],
      "text/plain": [
       "0"
      ]
     },
     "metadata": {},
     "output_type": "display_data"
    },
    {
     "name": "stdout",
     "output_type": "stream",
     "text": [
      "[v13, v6, v3, v15, v2] <class 'list'>\n"
     ]
    },
    {
     "data": {
      "text/html": [
       "<html><script type=\"math/tex; mode=display\">\\newcommand{\\Bold}[1]{\\mathbf{#1}}0</script></html>"
      ],
      "text/plain": [
       "0"
      ]
     },
     "metadata": {},
     "output_type": "display_data"
    },
    {
     "data": {
      "text/html": [
       "<html><script type=\"math/tex; mode=display\">\\newcommand{\\Bold}[1]{\\mathbf{#1}}0</script></html>"
      ],
      "text/plain": [
       "0"
      ]
     },
     "metadata": {},
     "output_type": "display_data"
    },
    {
     "data": {
      "text/html": [
       "<html><script type=\"math/tex; mode=display\">\\newcommand{\\Bold}[1]{\\mathbf{#1}}0</script></html>"
      ],
      "text/plain": [
       "0"
      ]
     },
     "metadata": {},
     "output_type": "display_data"
    },
    {
     "name": "stdout",
     "output_type": "stream",
     "text": [
      "[v15, v2, v13, v3, v6] <class 'list'>\n"
     ]
    },
    {
     "data": {
      "text/html": [
       "<html><script type=\"math/tex; mode=display\">\\newcommand{\\Bold}[1]{\\mathbf{#1}}0</script></html>"
      ],
      "text/plain": [
       "0"
      ]
     },
     "metadata": {},
     "output_type": "display_data"
    },
    {
     "data": {
      "text/html": [
       "<html><script type=\"math/tex; mode=display\">\\newcommand{\\Bold}[1]{\\mathbf{#1}}0</script></html>"
      ],
      "text/plain": [
       "0"
      ]
     },
     "metadata": {},
     "output_type": "display_data"
    },
    {
     "name": "stdout",
     "output_type": "stream",
     "text": [
      "[v15, v2, v13, v6, v3] <class 'list'>\n"
     ]
    },
    {
     "data": {
      "text/html": [
       "<html><script type=\"math/tex; mode=display\">\\newcommand{\\Bold}[1]{\\mathbf{#1}}0</script></html>"
      ],
      "text/plain": [
       "0"
      ]
     },
     "metadata": {},
     "output_type": "display_data"
    },
    {
     "name": "stdout",
     "output_type": "stream",
     "text": [
      "[v15, v2, v3, v13, v6] <class 'list'>\n"
     ]
    },
    {
     "data": {
      "text/html": [
       "<html><script type=\"math/tex; mode=display\">\\newcommand{\\Bold}[1]{\\mathbf{#1}}0</script></html>"
      ],
      "text/plain": [
       "0"
      ]
     },
     "metadata": {},
     "output_type": "display_data"
    },
    {
     "data": {
      "text/html": [
       "<html><script type=\"math/tex; mode=display\">\\newcommand{\\Bold}[1]{\\mathbf{#1}}0</script></html>"
      ],
      "text/plain": [
       "0"
      ]
     },
     "metadata": {},
     "output_type": "display_data"
    },
    {
     "name": "stdout",
     "output_type": "stream",
     "text": [
      "[v15, v2, v3, v6, v13] <class 'list'>\n"
     ]
    },
    {
     "data": {
      "text/html": [
       "<html><script type=\"math/tex; mode=display\">\\newcommand{\\Bold}[1]{\\mathbf{#1}}0</script></html>"
      ],
      "text/plain": [
       "0"
      ]
     },
     "metadata": {},
     "output_type": "display_data"
    },
    {
     "name": "stdout",
     "output_type": "stream",
     "text": [
      "[v15, v2, v6, v13, v3] <class 'list'>\n"
     ]
    },
    {
     "data": {
      "text/html": [
       "<html><script type=\"math/tex; mode=display\">\\newcommand{\\Bold}[1]{\\mathbf{#1}}0</script></html>"
      ],
      "text/plain": [
       "0"
      ]
     },
     "metadata": {},
     "output_type": "display_data"
    },
    {
     "name": "stdout",
     "output_type": "stream",
     "text": [
      "[v15, v2, v6, v3, v13] <class 'list'>\n"
     ]
    },
    {
     "data": {
      "text/html": [
       "<html><script type=\"math/tex; mode=display\">\\newcommand{\\Bold}[1]{\\mathbf{#1}}0</script></html>"
      ],
      "text/plain": [
       "0"
      ]
     },
     "metadata": {},
     "output_type": "display_data"
    },
    {
     "name": "stdout",
     "output_type": "stream",
     "text": [
      "[v15, v13, v2, v3, v6] <class 'list'>\n"
     ]
    },
    {
     "data": {
      "text/html": [
       "<html><script type=\"math/tex; mode=display\">\\newcommand{\\Bold}[1]{\\mathbf{#1}}0</script></html>"
      ],
      "text/plain": [
       "0"
      ]
     },
     "metadata": {},
     "output_type": "display_data"
    },
    {
     "data": {
      "text/html": [
       "<html><script type=\"math/tex; mode=display\">\\newcommand{\\Bold}[1]{\\mathbf{#1}}0</script></html>"
      ],
      "text/plain": [
       "0"
      ]
     },
     "metadata": {},
     "output_type": "display_data"
    },
    {
     "name": "stdout",
     "output_type": "stream",
     "text": [
      "[v15, v13, v2, v6, v3] <class 'list'>\n"
     ]
    },
    {
     "data": {
      "text/html": [
       "<html><script type=\"math/tex; mode=display\">\\newcommand{\\Bold}[1]{\\mathbf{#1}}0</script></html>"
      ],
      "text/plain": [
       "0"
      ]
     },
     "metadata": {},
     "output_type": "display_data"
    },
    {
     "name": "stdout",
     "output_type": "stream",
     "text": [
      "[v15, v13, v3, v2, v6] <class 'list'>\n"
     ]
    },
    {
     "data": {
      "text/html": [
       "<html><script type=\"math/tex; mode=display\">\\newcommand{\\Bold}[1]{\\mathbf{#1}}0</script></html>"
      ],
      "text/plain": [
       "0"
      ]
     },
     "metadata": {},
     "output_type": "display_data"
    },
    {
     "data": {
      "text/html": [
       "<html><script type=\"math/tex; mode=display\">\\newcommand{\\Bold}[1]{\\mathbf{#1}}0</script></html>"
      ],
      "text/plain": [
       "0"
      ]
     },
     "metadata": {},
     "output_type": "display_data"
    },
    {
     "name": "stdout",
     "output_type": "stream",
     "text": [
      "[v15, v13, v3, v6, v2] <class 'list'>\n"
     ]
    },
    {
     "data": {
      "text/html": [
       "<html><script type=\"math/tex; mode=display\">\\newcommand{\\Bold}[1]{\\mathbf{#1}}0</script></html>"
      ],
      "text/plain": [
       "0"
      ]
     },
     "metadata": {},
     "output_type": "display_data"
    },
    {
     "data": {
      "text/html": [
       "<html><script type=\"math/tex; mode=display\">\\newcommand{\\Bold}[1]{\\mathbf{#1}}0</script></html>"
      ],
      "text/plain": [
       "0"
      ]
     },
     "metadata": {},
     "output_type": "display_data"
    },
    {
     "name": "stdout",
     "output_type": "stream",
     "text": [
      "[v15, v13, v6, v2, v3] <class 'list'>\n"
     ]
    },
    {
     "data": {
      "text/html": [
       "<html><script type=\"math/tex; mode=display\">\\newcommand{\\Bold}[1]{\\mathbf{#1}}0</script></html>"
      ],
      "text/plain": [
       "0"
      ]
     },
     "metadata": {},
     "output_type": "display_data"
    },
    {
     "name": "stdout",
     "output_type": "stream",
     "text": [
      "[v15, v13, v6, v3, v2] <class 'list'>\n"
     ]
    },
    {
     "data": {
      "text/html": [
       "<html><script type=\"math/tex; mode=display\">\\newcommand{\\Bold}[1]{\\mathbf{#1}}0</script></html>"
      ],
      "text/plain": [
       "0"
      ]
     },
     "metadata": {},
     "output_type": "display_data"
    },
    {
     "data": {
      "text/html": [
       "<html><script type=\"math/tex; mode=display\">\\newcommand{\\Bold}[1]{\\mathbf{#1}}0</script></html>"
      ],
      "text/plain": [
       "0"
      ]
     },
     "metadata": {},
     "output_type": "display_data"
    },
    {
     "name": "stdout",
     "output_type": "stream",
     "text": [
      "[v15, v3, v2, v13, v6] <class 'list'>\n"
     ]
    },
    {
     "data": {
      "text/html": [
       "<html><script type=\"math/tex; mode=display\">\\newcommand{\\Bold}[1]{\\mathbf{#1}}0</script></html>"
      ],
      "text/plain": [
       "0"
      ]
     },
     "metadata": {},
     "output_type": "display_data"
    },
    {
     "data": {
      "text/html": [
       "<html><script type=\"math/tex; mode=display\">\\newcommand{\\Bold}[1]{\\mathbf{#1}}0</script></html>"
      ],
      "text/plain": [
       "0"
      ]
     },
     "metadata": {},
     "output_type": "display_data"
    },
    {
     "name": "stdout",
     "output_type": "stream",
     "text": [
      "[v15, v3, v2, v6, v13] <class 'list'>\n"
     ]
    },
    {
     "data": {
      "text/html": [
       "<html><script type=\"math/tex; mode=display\">\\newcommand{\\Bold}[1]{\\mathbf{#1}}0</script></html>"
      ],
      "text/plain": [
       "0"
      ]
     },
     "metadata": {},
     "output_type": "display_data"
    },
    {
     "name": "stdout",
     "output_type": "stream",
     "text": [
      "[v15, v3, v13, v2, v6] <class 'list'>\n"
     ]
    },
    {
     "data": {
      "text/html": [
       "<html><script type=\"math/tex; mode=display\">\\newcommand{\\Bold}[1]{\\mathbf{#1}}0</script></html>"
      ],
      "text/plain": [
       "0"
      ]
     },
     "metadata": {},
     "output_type": "display_data"
    },
    {
     "data": {
      "text/html": [
       "<html><script type=\"math/tex; mode=display\">\\newcommand{\\Bold}[1]{\\mathbf{#1}}0</script></html>"
      ],
      "text/plain": [
       "0"
      ]
     },
     "metadata": {},
     "output_type": "display_data"
    },
    {
     "name": "stdout",
     "output_type": "stream",
     "text": [
      "[v15, v3, v13, v6, v2] <class 'list'>\n"
     ]
    },
    {
     "data": {
      "text/html": [
       "<html><script type=\"math/tex; mode=display\">\\newcommand{\\Bold}[1]{\\mathbf{#1}}0</script></html>"
      ],
      "text/plain": [
       "0"
      ]
     },
     "metadata": {},
     "output_type": "display_data"
    },
    {
     "data": {
      "text/html": [
       "<html><script type=\"math/tex; mode=display\">\\newcommand{\\Bold}[1]{\\mathbf{#1}}0</script></html>"
      ],
      "text/plain": [
       "0"
      ]
     },
     "metadata": {},
     "output_type": "display_data"
    },
    {
     "name": "stdout",
     "output_type": "stream",
     "text": [
      "[v15, v3, v6, v2, v13] <class 'list'>\n"
     ]
    },
    {
     "data": {
      "text/html": [
       "<html><script type=\"math/tex; mode=display\">\\newcommand{\\Bold}[1]{\\mathbf{#1}}0</script></html>"
      ],
      "text/plain": [
       "0"
      ]
     },
     "metadata": {},
     "output_type": "display_data"
    },
    {
     "name": "stdout",
     "output_type": "stream",
     "text": [
      "[v15, v3, v6, v13, v2] <class 'list'>\n"
     ]
    },
    {
     "data": {
      "text/html": [
       "<html><script type=\"math/tex; mode=display\">\\newcommand{\\Bold}[1]{\\mathbf{#1}}0</script></html>"
      ],
      "text/plain": [
       "0"
      ]
     },
     "metadata": {},
     "output_type": "display_data"
    },
    {
     "data": {
      "text/html": [
       "<html><script type=\"math/tex; mode=display\">\\newcommand{\\Bold}[1]{\\mathbf{#1}}0</script></html>"
      ],
      "text/plain": [
       "0"
      ]
     },
     "metadata": {},
     "output_type": "display_data"
    },
    {
     "name": "stdout",
     "output_type": "stream",
     "text": [
      "[v15, v6, v2, v13, v3] <class 'list'>\n"
     ]
    },
    {
     "data": {
      "text/html": [
       "<html><script type=\"math/tex; mode=display\">\\newcommand{\\Bold}[1]{\\mathbf{#1}}0</script></html>"
      ],
      "text/plain": [
       "0"
      ]
     },
     "metadata": {},
     "output_type": "display_data"
    },
    {
     "name": "stdout",
     "output_type": "stream",
     "text": [
      "[v15, v6, v2, v3, v13] <class 'list'>\n"
     ]
    },
    {
     "data": {
      "text/html": [
       "<html><script type=\"math/tex; mode=display\">\\newcommand{\\Bold}[1]{\\mathbf{#1}}0</script></html>"
      ],
      "text/plain": [
       "0"
      ]
     },
     "metadata": {},
     "output_type": "display_data"
    },
    {
     "name": "stdout",
     "output_type": "stream",
     "text": [
      "[v15, v6, v13, v2, v3] <class 'list'>\n"
     ]
    },
    {
     "data": {
      "text/html": [
       "<html><script type=\"math/tex; mode=display\">\\newcommand{\\Bold}[1]{\\mathbf{#1}}0</script></html>"
      ],
      "text/plain": [
       "0"
      ]
     },
     "metadata": {},
     "output_type": "display_data"
    },
    {
     "name": "stdout",
     "output_type": "stream",
     "text": [
      "[v15, v6, v13, v3, v2] <class 'list'>\n"
     ]
    },
    {
     "data": {
      "text/html": [
       "<html><script type=\"math/tex; mode=display\">\\newcommand{\\Bold}[1]{\\mathbf{#1}}0</script></html>"
      ],
      "text/plain": [
       "0"
      ]
     },
     "metadata": {},
     "output_type": "display_data"
    },
    {
     "data": {
      "text/html": [
       "<html><script type=\"math/tex; mode=display\">\\newcommand{\\Bold}[1]{\\mathbf{#1}}0</script></html>"
      ],
      "text/plain": [
       "0"
      ]
     },
     "metadata": {},
     "output_type": "display_data"
    },
    {
     "name": "stdout",
     "output_type": "stream",
     "text": [
      "[v15, v6, v3, v2, v13] <class 'list'>\n"
     ]
    },
    {
     "data": {
      "text/html": [
       "<html><script type=\"math/tex; mode=display\">\\newcommand{\\Bold}[1]{\\mathbf{#1}}0</script></html>"
      ],
      "text/plain": [
       "0"
      ]
     },
     "metadata": {},
     "output_type": "display_data"
    },
    {
     "name": "stdout",
     "output_type": "stream",
     "text": [
      "[v15, v6, v3, v13, v2] <class 'list'>\n"
     ]
    },
    {
     "data": {
      "text/html": [
       "<html><script type=\"math/tex; mode=display\">\\newcommand{\\Bold}[1]{\\mathbf{#1}}0</script></html>"
      ],
      "text/plain": [
       "0"
      ]
     },
     "metadata": {},
     "output_type": "display_data"
    },
    {
     "data": {
      "text/html": [
       "<html><script type=\"math/tex; mode=display\">\\newcommand{\\Bold}[1]{\\mathbf{#1}}0</script></html>"
      ],
      "text/plain": [
       "0"
      ]
     },
     "metadata": {},
     "output_type": "display_data"
    },
    {
     "name": "stdout",
     "output_type": "stream",
     "text": [
      "[v3, v2, v13, v15, v6] <class 'list'>\n"
     ]
    },
    {
     "data": {
      "text/html": [
       "<html><script type=\"math/tex; mode=display\">\\newcommand{\\Bold}[1]{\\mathbf{#1}}0</script></html>"
      ],
      "text/plain": [
       "0"
      ]
     },
     "metadata": {},
     "output_type": "display_data"
    },
    {
     "data": {
      "text/html": [
       "<html><script type=\"math/tex; mode=display\">\\newcommand{\\Bold}[1]{\\mathbf{#1}}0</script></html>"
      ],
      "text/plain": [
       "0"
      ]
     },
     "metadata": {},
     "output_type": "display_data"
    },
    {
     "name": "stdout",
     "output_type": "stream",
     "text": [
      "[v3, v2, v13, v6, v15] <class 'list'>\n"
     ]
    },
    {
     "data": {
      "text/html": [
       "<html><script type=\"math/tex; mode=display\">\\newcommand{\\Bold}[1]{\\mathbf{#1}}0</script></html>"
      ],
      "text/plain": [
       "0"
      ]
     },
     "metadata": {},
     "output_type": "display_data"
    },
    {
     "data": {
      "text/html": [
       "<html><script type=\"math/tex; mode=display\">\\newcommand{\\Bold}[1]{\\mathbf{#1}}0</script></html>"
      ],
      "text/plain": [
       "0"
      ]
     },
     "metadata": {},
     "output_type": "display_data"
    },
    {
     "name": "stdout",
     "output_type": "stream",
     "text": [
      "[v3, v2, v15, v13, v6] <class 'list'>\n"
     ]
    },
    {
     "data": {
      "text/html": [
       "<html><script type=\"math/tex; mode=display\">\\newcommand{\\Bold}[1]{\\mathbf{#1}}0</script></html>"
      ],
      "text/plain": [
       "0"
      ]
     },
     "metadata": {},
     "output_type": "display_data"
    },
    {
     "data": {
      "text/html": [
       "<html><script type=\"math/tex; mode=display\">\\newcommand{\\Bold}[1]{\\mathbf{#1}}0</script></html>"
      ],
      "text/plain": [
       "0"
      ]
     },
     "metadata": {},
     "output_type": "display_data"
    },
    {
     "name": "stdout",
     "output_type": "stream",
     "text": [
      "[v3, v2, v15, v6, v13] <class 'list'>\n"
     ]
    },
    {
     "data": {
      "text/html": [
       "<html><script type=\"math/tex; mode=display\">\\newcommand{\\Bold}[1]{\\mathbf{#1}}0</script></html>"
      ],
      "text/plain": [
       "0"
      ]
     },
     "metadata": {},
     "output_type": "display_data"
    },
    {
     "data": {
      "text/html": [
       "<html><script type=\"math/tex; mode=display\">\\newcommand{\\Bold}[1]{\\mathbf{#1}}0</script></html>"
      ],
      "text/plain": [
       "0"
      ]
     },
     "metadata": {},
     "output_type": "display_data"
    },
    {
     "name": "stdout",
     "output_type": "stream",
     "text": [
      "[v3, v2, v6, v13, v15] <class 'list'>\n"
     ]
    },
    {
     "data": {
      "text/html": [
       "<html><script type=\"math/tex; mode=display\">\\newcommand{\\Bold}[1]{\\mathbf{#1}}0</script></html>"
      ],
      "text/plain": [
       "0"
      ]
     },
     "metadata": {},
     "output_type": "display_data"
    },
    {
     "data": {
      "text/html": [
       "<html><script type=\"math/tex; mode=display\">\\newcommand{\\Bold}[1]{\\mathbf{#1}}0</script></html>"
      ],
      "text/plain": [
       "0"
      ]
     },
     "metadata": {},
     "output_type": "display_data"
    },
    {
     "name": "stdout",
     "output_type": "stream",
     "text": [
      "[v3, v2, v6, v15, v13] <class 'list'>\n"
     ]
    },
    {
     "data": {
      "text/html": [
       "<html><script type=\"math/tex; mode=display\">\\newcommand{\\Bold}[1]{\\mathbf{#1}}0</script></html>"
      ],
      "text/plain": [
       "0"
      ]
     },
     "metadata": {},
     "output_type": "display_data"
    },
    {
     "data": {
      "text/html": [
       "<html><script type=\"math/tex; mode=display\">\\newcommand{\\Bold}[1]{\\mathbf{#1}}0</script></html>"
      ],
      "text/plain": [
       "0"
      ]
     },
     "metadata": {},
     "output_type": "display_data"
    },
    {
     "name": "stdout",
     "output_type": "stream",
     "text": [
      "[v3, v13, v2, v15, v6] <class 'list'>\n"
     ]
    },
    {
     "data": {
      "text/html": [
       "<html><script type=\"math/tex; mode=display\">\\newcommand{\\Bold}[1]{\\mathbf{#1}}0</script></html>"
      ],
      "text/plain": [
       "0"
      ]
     },
     "metadata": {},
     "output_type": "display_data"
    },
    {
     "data": {
      "text/html": [
       "<html><script type=\"math/tex; mode=display\">\\newcommand{\\Bold}[1]{\\mathbf{#1}}0</script></html>"
      ],
      "text/plain": [
       "0"
      ]
     },
     "metadata": {},
     "output_type": "display_data"
    },
    {
     "name": "stdout",
     "output_type": "stream",
     "text": [
      "[v3, v13, v2, v6, v15] <class 'list'>\n"
     ]
    },
    {
     "data": {
      "text/html": [
       "<html><script type=\"math/tex; mode=display\">\\newcommand{\\Bold}[1]{\\mathbf{#1}}0</script></html>"
      ],
      "text/plain": [
       "0"
      ]
     },
     "metadata": {},
     "output_type": "display_data"
    },
    {
     "data": {
      "text/html": [
       "<html><script type=\"math/tex; mode=display\">\\newcommand{\\Bold}[1]{\\mathbf{#1}}0</script></html>"
      ],
      "text/plain": [
       "0"
      ]
     },
     "metadata": {},
     "output_type": "display_data"
    },
    {
     "name": "stdout",
     "output_type": "stream",
     "text": [
      "[v3, v13, v15, v2, v6] <class 'list'>\n"
     ]
    },
    {
     "data": {
      "text/html": [
       "<html><script type=\"math/tex; mode=display\">\\newcommand{\\Bold}[1]{\\mathbf{#1}}0</script></html>"
      ],
      "text/plain": [
       "0"
      ]
     },
     "metadata": {},
     "output_type": "display_data"
    },
    {
     "data": {
      "text/html": [
       "<html><script type=\"math/tex; mode=display\">\\newcommand{\\Bold}[1]{\\mathbf{#1}}0</script></html>"
      ],
      "text/plain": [
       "0"
      ]
     },
     "metadata": {},
     "output_type": "display_data"
    },
    {
     "name": "stdout",
     "output_type": "stream",
     "text": [
      "[v3, v13, v15, v6, v2] <class 'list'>\n"
     ]
    },
    {
     "data": {
      "text/html": [
       "<html><script type=\"math/tex; mode=display\">\\newcommand{\\Bold}[1]{\\mathbf{#1}}0</script></html>"
      ],
      "text/plain": [
       "0"
      ]
     },
     "metadata": {},
     "output_type": "display_data"
    },
    {
     "data": {
      "text/html": [
       "<html><script type=\"math/tex; mode=display\">\\newcommand{\\Bold}[1]{\\mathbf{#1}}0</script></html>"
      ],
      "text/plain": [
       "0"
      ]
     },
     "metadata": {},
     "output_type": "display_data"
    },
    {
     "name": "stdout",
     "output_type": "stream",
     "text": [
      "[v3, v13, v6, v2, v15] <class 'list'>\n"
     ]
    },
    {
     "data": {
      "text/html": [
       "<html><script type=\"math/tex; mode=display\">\\newcommand{\\Bold}[1]{\\mathbf{#1}}0</script></html>"
      ],
      "text/plain": [
       "0"
      ]
     },
     "metadata": {},
     "output_type": "display_data"
    },
    {
     "data": {
      "text/html": [
       "<html><script type=\"math/tex; mode=display\">\\newcommand{\\Bold}[1]{\\mathbf{#1}}0</script></html>"
      ],
      "text/plain": [
       "0"
      ]
     },
     "metadata": {},
     "output_type": "display_data"
    },
    {
     "name": "stdout",
     "output_type": "stream",
     "text": [
      "[v3, v13, v6, v15, v2] <class 'list'>\n"
     ]
    },
    {
     "data": {
      "text/html": [
       "<html><script type=\"math/tex; mode=display\">\\newcommand{\\Bold}[1]{\\mathbf{#1}}0</script></html>"
      ],
      "text/plain": [
       "0"
      ]
     },
     "metadata": {},
     "output_type": "display_data"
    },
    {
     "data": {
      "text/html": [
       "<html><script type=\"math/tex; mode=display\">\\newcommand{\\Bold}[1]{\\mathbf{#1}}0</script></html>"
      ],
      "text/plain": [
       "0"
      ]
     },
     "metadata": {},
     "output_type": "display_data"
    },
    {
     "name": "stdout",
     "output_type": "stream",
     "text": [
      "[v3, v15, v2, v13, v6] <class 'list'>\n"
     ]
    },
    {
     "data": {
      "text/html": [
       "<html><script type=\"math/tex; mode=display\">\\newcommand{\\Bold}[1]{\\mathbf{#1}}0</script></html>"
      ],
      "text/plain": [
       "0"
      ]
     },
     "metadata": {},
     "output_type": "display_data"
    },
    {
     "data": {
      "text/html": [
       "<html><script type=\"math/tex; mode=display\">\\newcommand{\\Bold}[1]{\\mathbf{#1}}0</script></html>"
      ],
      "text/plain": [
       "0"
      ]
     },
     "metadata": {},
     "output_type": "display_data"
    },
    {
     "name": "stdout",
     "output_type": "stream",
     "text": [
      "[v3, v15, v2, v6, v13] <class 'list'>\n"
     ]
    },
    {
     "data": {
      "text/html": [
       "<html><script type=\"math/tex; mode=display\">\\newcommand{\\Bold}[1]{\\mathbf{#1}}0</script></html>"
      ],
      "text/plain": [
       "0"
      ]
     },
     "metadata": {},
     "output_type": "display_data"
    },
    {
     "data": {
      "text/html": [
       "<html><script type=\"math/tex; mode=display\">\\newcommand{\\Bold}[1]{\\mathbf{#1}}0</script></html>"
      ],
      "text/plain": [
       "0"
      ]
     },
     "metadata": {},
     "output_type": "display_data"
    },
    {
     "name": "stdout",
     "output_type": "stream",
     "text": [
      "[v3, v15, v13, v2, v6] <class 'list'>\n"
     ]
    },
    {
     "data": {
      "text/html": [
       "<html><script type=\"math/tex; mode=display\">\\newcommand{\\Bold}[1]{\\mathbf{#1}}0</script></html>"
      ],
      "text/plain": [
       "0"
      ]
     },
     "metadata": {},
     "output_type": "display_data"
    },
    {
     "data": {
      "text/html": [
       "<html><script type=\"math/tex; mode=display\">\\newcommand{\\Bold}[1]{\\mathbf{#1}}0</script></html>"
      ],
      "text/plain": [
       "0"
      ]
     },
     "metadata": {},
     "output_type": "display_data"
    },
    {
     "name": "stdout",
     "output_type": "stream",
     "text": [
      "[v3, v15, v13, v6, v2] <class 'list'>\n"
     ]
    },
    {
     "data": {
      "text/html": [
       "<html><script type=\"math/tex; mode=display\">\\newcommand{\\Bold}[1]{\\mathbf{#1}}0</script></html>"
      ],
      "text/plain": [
       "0"
      ]
     },
     "metadata": {},
     "output_type": "display_data"
    },
    {
     "data": {
      "text/html": [
       "<html><script type=\"math/tex; mode=display\">\\newcommand{\\Bold}[1]{\\mathbf{#1}}0</script></html>"
      ],
      "text/plain": [
       "0"
      ]
     },
     "metadata": {},
     "output_type": "display_data"
    },
    {
     "name": "stdout",
     "output_type": "stream",
     "text": [
      "[v3, v15, v6, v2, v13] <class 'list'>\n"
     ]
    },
    {
     "data": {
      "text/html": [
       "<html><script type=\"math/tex; mode=display\">\\newcommand{\\Bold}[1]{\\mathbf{#1}}0</script></html>"
      ],
      "text/plain": [
       "0"
      ]
     },
     "metadata": {},
     "output_type": "display_data"
    },
    {
     "data": {
      "text/html": [
       "<html><script type=\"math/tex; mode=display\">\\newcommand{\\Bold}[1]{\\mathbf{#1}}0</script></html>"
      ],
      "text/plain": [
       "0"
      ]
     },
     "metadata": {},
     "output_type": "display_data"
    },
    {
     "name": "stdout",
     "output_type": "stream",
     "text": [
      "[v3, v15, v6, v13, v2] <class 'list'>\n"
     ]
    },
    {
     "data": {
      "text/html": [
       "<html><script type=\"math/tex; mode=display\">\\newcommand{\\Bold}[1]{\\mathbf{#1}}0</script></html>"
      ],
      "text/plain": [
       "0"
      ]
     },
     "metadata": {},
     "output_type": "display_data"
    },
    {
     "data": {
      "text/html": [
       "<html><script type=\"math/tex; mode=display\">\\newcommand{\\Bold}[1]{\\mathbf{#1}}0</script></html>"
      ],
      "text/plain": [
       "0"
      ]
     },
     "metadata": {},
     "output_type": "display_data"
    },
    {
     "name": "stdout",
     "output_type": "stream",
     "text": [
      "[v3, v6, v2, v13, v15] <class 'list'>\n"
     ]
    },
    {
     "data": {
      "text/html": [
       "<html><script type=\"math/tex; mode=display\">\\newcommand{\\Bold}[1]{\\mathbf{#1}}0</script></html>"
      ],
      "text/plain": [
       "0"
      ]
     },
     "metadata": {},
     "output_type": "display_data"
    },
    {
     "data": {
      "text/html": [
       "<html><script type=\"math/tex; mode=display\">\\newcommand{\\Bold}[1]{\\mathbf{#1}}0</script></html>"
      ],
      "text/plain": [
       "0"
      ]
     },
     "metadata": {},
     "output_type": "display_data"
    },
    {
     "name": "stdout",
     "output_type": "stream",
     "text": [
      "[v3, v6, v2, v15, v13] <class 'list'>\n"
     ]
    },
    {
     "data": {
      "text/html": [
       "<html><script type=\"math/tex; mode=display\">\\newcommand{\\Bold}[1]{\\mathbf{#1}}0</script></html>"
      ],
      "text/plain": [
       "0"
      ]
     },
     "metadata": {},
     "output_type": "display_data"
    },
    {
     "data": {
      "text/html": [
       "<html><script type=\"math/tex; mode=display\">\\newcommand{\\Bold}[1]{\\mathbf{#1}}0</script></html>"
      ],
      "text/plain": [
       "0"
      ]
     },
     "metadata": {},
     "output_type": "display_data"
    },
    {
     "name": "stdout",
     "output_type": "stream",
     "text": [
      "[v3, v6, v13, v2, v15] <class 'list'>\n"
     ]
    },
    {
     "data": {
      "text/html": [
       "<html><script type=\"math/tex; mode=display\">\\newcommand{\\Bold}[1]{\\mathbf{#1}}0</script></html>"
      ],
      "text/plain": [
       "0"
      ]
     },
     "metadata": {},
     "output_type": "display_data"
    },
    {
     "data": {
      "text/html": [
       "<html><script type=\"math/tex; mode=display\">\\newcommand{\\Bold}[1]{\\mathbf{#1}}0</script></html>"
      ],
      "text/plain": [
       "0"
      ]
     },
     "metadata": {},
     "output_type": "display_data"
    },
    {
     "data": {
      "text/html": [
       "<html><script type=\"math/tex; mode=display\">\\newcommand{\\Bold}[1]{\\mathbf{#1}}0</script></html>"
      ],
      "text/plain": [
       "0"
      ]
     },
     "metadata": {},
     "output_type": "display_data"
    },
    {
     "name": "stdout",
     "output_type": "stream",
     "text": [
      "[v3, v6, v13, v15, v2] <class 'list'>\n"
     ]
    },
    {
     "data": {
      "text/html": [
       "<html><script type=\"math/tex; mode=display\">\\newcommand{\\Bold}[1]{\\mathbf{#1}}0</script></html>"
      ],
      "text/plain": [
       "0"
      ]
     },
     "metadata": {},
     "output_type": "display_data"
    },
    {
     "data": {
      "text/html": [
       "<html><script type=\"math/tex; mode=display\">\\newcommand{\\Bold}[1]{\\mathbf{#1}}0</script></html>"
      ],
      "text/plain": [
       "0"
      ]
     },
     "metadata": {},
     "output_type": "display_data"
    },
    {
     "data": {
      "text/html": [
       "<html><script type=\"math/tex; mode=display\">\\newcommand{\\Bold}[1]{\\mathbf{#1}}0</script></html>"
      ],
      "text/plain": [
       "0"
      ]
     },
     "metadata": {},
     "output_type": "display_data"
    },
    {
     "name": "stdout",
     "output_type": "stream",
     "text": [
      "[v3, v6, v15, v2, v13] <class 'list'>\n"
     ]
    },
    {
     "data": {
      "text/html": [
       "<html><script type=\"math/tex; mode=display\">\\newcommand{\\Bold}[1]{\\mathbf{#1}}0</script></html>"
      ],
      "text/plain": [
       "0"
      ]
     },
     "metadata": {},
     "output_type": "display_data"
    },
    {
     "data": {
      "text/html": [
       "<html><script type=\"math/tex; mode=display\">\\newcommand{\\Bold}[1]{\\mathbf{#1}}0</script></html>"
      ],
      "text/plain": [
       "0"
      ]
     },
     "metadata": {},
     "output_type": "display_data"
    },
    {
     "name": "stdout",
     "output_type": "stream",
     "text": [
      "[v3, v6, v15, v13, v2] <class 'list'>\n"
     ]
    },
    {
     "data": {
      "text/html": [
       "<html><script type=\"math/tex; mode=display\">\\newcommand{\\Bold}[1]{\\mathbf{#1}}0</script></html>"
      ],
      "text/plain": [
       "0"
      ]
     },
     "metadata": {},
     "output_type": "display_data"
    },
    {
     "data": {
      "text/html": [
       "<html><script type=\"math/tex; mode=display\">\\newcommand{\\Bold}[1]{\\mathbf{#1}}0</script></html>"
      ],
      "text/plain": [
       "0"
      ]
     },
     "metadata": {},
     "output_type": "display_data"
    },
    {
     "name": "stdout",
     "output_type": "stream",
     "text": [
      "[v6, v2, v13, v15, v3] <class 'list'>\n"
     ]
    },
    {
     "data": {
      "text/html": [
       "<html><script type=\"math/tex; mode=display\">\\newcommand{\\Bold}[1]{\\mathbf{#1}}0</script></html>"
      ],
      "text/plain": [
       "0"
      ]
     },
     "metadata": {},
     "output_type": "display_data"
    },
    {
     "name": "stdout",
     "output_type": "stream",
     "text": [
      "[v6, v2, v13, v3, v15] <class 'list'>\n"
     ]
    },
    {
     "data": {
      "text/html": [
       "<html><script type=\"math/tex; mode=display\">\\newcommand{\\Bold}[1]{\\mathbf{#1}}0</script></html>"
      ],
      "text/plain": [
       "0"
      ]
     },
     "metadata": {},
     "output_type": "display_data"
    },
    {
     "data": {
      "text/html": [
       "<html><script type=\"math/tex; mode=display\">\\newcommand{\\Bold}[1]{\\mathbf{#1}}0</script></html>"
      ],
      "text/plain": [
       "0"
      ]
     },
     "metadata": {},
     "output_type": "display_data"
    },
    {
     "name": "stdout",
     "output_type": "stream",
     "text": [
      "[v6, v2, v15, v13, v3] <class 'list'>\n"
     ]
    },
    {
     "data": {
      "text/html": [
       "<html><script type=\"math/tex; mode=display\">\\newcommand{\\Bold}[1]{\\mathbf{#1}}0</script></html>"
      ],
      "text/plain": [
       "0"
      ]
     },
     "metadata": {},
     "output_type": "display_data"
    },
    {
     "name": "stdout",
     "output_type": "stream",
     "text": [
      "[v6, v2, v15, v3, v13] <class 'list'>\n"
     ]
    },
    {
     "data": {
      "text/html": [
       "<html><script type=\"math/tex; mode=display\">\\newcommand{\\Bold}[1]{\\mathbf{#1}}0</script></html>"
      ],
      "text/plain": [
       "0"
      ]
     },
     "metadata": {},
     "output_type": "display_data"
    },
    {
     "name": "stdout",
     "output_type": "stream",
     "text": [
      "[v6, v2, v3, v13, v15] <class 'list'>\n"
     ]
    },
    {
     "data": {
      "text/html": [
       "<html><script type=\"math/tex; mode=display\">\\newcommand{\\Bold}[1]{\\mathbf{#1}}0</script></html>"
      ],
      "text/plain": [
       "0"
      ]
     },
     "metadata": {},
     "output_type": "display_data"
    },
    {
     "data": {
      "text/html": [
       "<html><script type=\"math/tex; mode=display\">\\newcommand{\\Bold}[1]{\\mathbf{#1}}0</script></html>"
      ],
      "text/plain": [
       "0"
      ]
     },
     "metadata": {},
     "output_type": "display_data"
    },
    {
     "name": "stdout",
     "output_type": "stream",
     "text": [
      "[v6, v2, v3, v15, v13] <class 'list'>\n"
     ]
    },
    {
     "data": {
      "text/html": [
       "<html><script type=\"math/tex; mode=display\">\\newcommand{\\Bold}[1]{\\mathbf{#1}}0</script></html>"
      ],
      "text/plain": [
       "0"
      ]
     },
     "metadata": {},
     "output_type": "display_data"
    },
    {
     "name": "stdout",
     "output_type": "stream",
     "text": [
      "[v6, v13, v2, v15, v3] <class 'list'>\n"
     ]
    },
    {
     "data": {
      "text/html": [
       "<html><script type=\"math/tex; mode=display\">\\newcommand{\\Bold}[1]{\\mathbf{#1}}0</script></html>"
      ],
      "text/plain": [
       "0"
      ]
     },
     "metadata": {},
     "output_type": "display_data"
    },
    {
     "name": "stdout",
     "output_type": "stream",
     "text": [
      "[v6, v13, v2, v3, v15] <class 'list'>\n"
     ]
    },
    {
     "data": {
      "text/html": [
       "<html><script type=\"math/tex; mode=display\">\\newcommand{\\Bold}[1]{\\mathbf{#1}}0</script></html>"
      ],
      "text/plain": [
       "0"
      ]
     },
     "metadata": {},
     "output_type": "display_data"
    },
    {
     "data": {
      "text/html": [
       "<html><script type=\"math/tex; mode=display\">\\newcommand{\\Bold}[1]{\\mathbf{#1}}0</script></html>"
      ],
      "text/plain": [
       "0"
      ]
     },
     "metadata": {},
     "output_type": "display_data"
    },
    {
     "name": "stdout",
     "output_type": "stream",
     "text": [
      "[v6, v13, v15, v2, v3] <class 'list'>\n"
     ]
    },
    {
     "data": {
      "text/html": [
       "<html><script type=\"math/tex; mode=display\">\\newcommand{\\Bold}[1]{\\mathbf{#1}}0</script></html>"
      ],
      "text/plain": [
       "0"
      ]
     },
     "metadata": {},
     "output_type": "display_data"
    },
    {
     "name": "stdout",
     "output_type": "stream",
     "text": [
      "[v6, v13, v15, v3, v2] <class 'list'>\n"
     ]
    },
    {
     "data": {
      "text/html": [
       "<html><script type=\"math/tex; mode=display\">\\newcommand{\\Bold}[1]{\\mathbf{#1}}0</script></html>"
      ],
      "text/plain": [
       "0"
      ]
     },
     "metadata": {},
     "output_type": "display_data"
    },
    {
     "data": {
      "text/html": [
       "<html><script type=\"math/tex; mode=display\">\\newcommand{\\Bold}[1]{\\mathbf{#1}}0</script></html>"
      ],
      "text/plain": [
       "0"
      ]
     },
     "metadata": {},
     "output_type": "display_data"
    },
    {
     "name": "stdout",
     "output_type": "stream",
     "text": [
      "[v6, v13, v3, v2, v15] <class 'list'>\n"
     ]
    },
    {
     "data": {
      "text/html": [
       "<html><script type=\"math/tex; mode=display\">\\newcommand{\\Bold}[1]{\\mathbf{#1}}0</script></html>"
      ],
      "text/plain": [
       "0"
      ]
     },
     "metadata": {},
     "output_type": "display_data"
    },
    {
     "data": {
      "text/html": [
       "<html><script type=\"math/tex; mode=display\">\\newcommand{\\Bold}[1]{\\mathbf{#1}}0</script></html>"
      ],
      "text/plain": [
       "0"
      ]
     },
     "metadata": {},
     "output_type": "display_data"
    },
    {
     "data": {
      "text/html": [
       "<html><script type=\"math/tex; mode=display\">\\newcommand{\\Bold}[1]{\\mathbf{#1}}0</script></html>"
      ],
      "text/plain": [
       "0"
      ]
     },
     "metadata": {},
     "output_type": "display_data"
    },
    {
     "name": "stdout",
     "output_type": "stream",
     "text": [
      "[v6, v13, v3, v15, v2] <class 'list'>\n"
     ]
    },
    {
     "data": {
      "text/html": [
       "<html><script type=\"math/tex; mode=display\">\\newcommand{\\Bold}[1]{\\mathbf{#1}}0</script></html>"
      ],
      "text/plain": [
       "0"
      ]
     },
     "metadata": {},
     "output_type": "display_data"
    },
    {
     "data": {
      "text/html": [
       "<html><script type=\"math/tex; mode=display\">\\newcommand{\\Bold}[1]{\\mathbf{#1}}0</script></html>"
      ],
      "text/plain": [
       "0"
      ]
     },
     "metadata": {},
     "output_type": "display_data"
    },
    {
     "data": {
      "text/html": [
       "<html><script type=\"math/tex; mode=display\">\\newcommand{\\Bold}[1]{\\mathbf{#1}}0</script></html>"
      ],
      "text/plain": [
       "0"
      ]
     },
     "metadata": {},
     "output_type": "display_data"
    },
    {
     "name": "stdout",
     "output_type": "stream",
     "text": [
      "[v6, v15, v2, v13, v3] <class 'list'>\n"
     ]
    },
    {
     "data": {
      "text/html": [
       "<html><script type=\"math/tex; mode=display\">\\newcommand{\\Bold}[1]{\\mathbf{#1}}0</script></html>"
      ],
      "text/plain": [
       "0"
      ]
     },
     "metadata": {},
     "output_type": "display_data"
    },
    {
     "name": "stdout",
     "output_type": "stream",
     "text": [
      "[v6, v15, v2, v3, v13] <class 'list'>\n"
     ]
    },
    {
     "data": {
      "text/html": [
       "<html><script type=\"math/tex; mode=display\">\\newcommand{\\Bold}[1]{\\mathbf{#1}}0</script></html>"
      ],
      "text/plain": [
       "0"
      ]
     },
     "metadata": {},
     "output_type": "display_data"
    },
    {
     "name": "stdout",
     "output_type": "stream",
     "text": [
      "[v6, v15, v13, v2, v3] <class 'list'>\n"
     ]
    },
    {
     "data": {
      "text/html": [
       "<html><script type=\"math/tex; mode=display\">\\newcommand{\\Bold}[1]{\\mathbf{#1}}0</script></html>"
      ],
      "text/plain": [
       "0"
      ]
     },
     "metadata": {},
     "output_type": "display_data"
    },
    {
     "name": "stdout",
     "output_type": "stream",
     "text": [
      "[v6, v15, v13, v3, v2] <class 'list'>\n"
     ]
    },
    {
     "data": {
      "text/html": [
       "<html><script type=\"math/tex; mode=display\">\\newcommand{\\Bold}[1]{\\mathbf{#1}}0</script></html>"
      ],
      "text/plain": [
       "0"
      ]
     },
     "metadata": {},
     "output_type": "display_data"
    },
    {
     "data": {
      "text/html": [
       "<html><script type=\"math/tex; mode=display\">\\newcommand{\\Bold}[1]{\\mathbf{#1}}0</script></html>"
      ],
      "text/plain": [
       "0"
      ]
     },
     "metadata": {},
     "output_type": "display_data"
    },
    {
     "name": "stdout",
     "output_type": "stream",
     "text": [
      "[v6, v15, v3, v2, v13] <class 'list'>\n"
     ]
    },
    {
     "data": {
      "text/html": [
       "<html><script type=\"math/tex; mode=display\">\\newcommand{\\Bold}[1]{\\mathbf{#1}}0</script></html>"
      ],
      "text/plain": [
       "0"
      ]
     },
     "metadata": {},
     "output_type": "display_data"
    },
    {
     "name": "stdout",
     "output_type": "stream",
     "text": [
      "[v6, v15, v3, v13, v2] <class 'list'>\n"
     ]
    },
    {
     "data": {
      "text/html": [
       "<html><script type=\"math/tex; mode=display\">\\newcommand{\\Bold}[1]{\\mathbf{#1}}0</script></html>"
      ],
      "text/plain": [
       "0"
      ]
     },
     "metadata": {},
     "output_type": "display_data"
    },
    {
     "data": {
      "text/html": [
       "<html><script type=\"math/tex; mode=display\">\\newcommand{\\Bold}[1]{\\mathbf{#1}}0</script></html>"
      ],
      "text/plain": [
       "0"
      ]
     },
     "metadata": {},
     "output_type": "display_data"
    },
    {
     "name": "stdout",
     "output_type": "stream",
     "text": [
      "[v6, v3, v2, v13, v15] <class 'list'>\n"
     ]
    },
    {
     "data": {
      "text/html": [
       "<html><script type=\"math/tex; mode=display\">\\newcommand{\\Bold}[1]{\\mathbf{#1}}0</script></html>"
      ],
      "text/plain": [
       "0"
      ]
     },
     "metadata": {},
     "output_type": "display_data"
    },
    {
     "data": {
      "text/html": [
       "<html><script type=\"math/tex; mode=display\">\\newcommand{\\Bold}[1]{\\mathbf{#1}}0</script></html>"
      ],
      "text/plain": [
       "0"
      ]
     },
     "metadata": {},
     "output_type": "display_data"
    },
    {
     "name": "stdout",
     "output_type": "stream",
     "text": [
      "[v6, v3, v2, v15, v13] <class 'list'>\n"
     ]
    },
    {
     "data": {
      "text/html": [
       "<html><script type=\"math/tex; mode=display\">\\newcommand{\\Bold}[1]{\\mathbf{#1}}0</script></html>"
      ],
      "text/plain": [
       "0"
      ]
     },
     "metadata": {},
     "output_type": "display_data"
    },
    {
     "name": "stdout",
     "output_type": "stream",
     "text": [
      "[v6, v3, v13, v2, v15] <class 'list'>\n"
     ]
    },
    {
     "data": {
      "text/html": [
       "<html><script type=\"math/tex; mode=display\">\\newcommand{\\Bold}[1]{\\mathbf{#1}}0</script></html>"
      ],
      "text/plain": [
       "0"
      ]
     },
     "metadata": {},
     "output_type": "display_data"
    },
    {
     "data": {
      "text/html": [
       "<html><script type=\"math/tex; mode=display\">\\newcommand{\\Bold}[1]{\\mathbf{#1}}0</script></html>"
      ],
      "text/plain": [
       "0"
      ]
     },
     "metadata": {},
     "output_type": "display_data"
    },
    {
     "data": {
      "text/html": [
       "<html><script type=\"math/tex; mode=display\">\\newcommand{\\Bold}[1]{\\mathbf{#1}}0</script></html>"
      ],
      "text/plain": [
       "0"
      ]
     },
     "metadata": {},
     "output_type": "display_data"
    },
    {
     "name": "stdout",
     "output_type": "stream",
     "text": [
      "[v6, v3, v13, v15, v2] <class 'list'>\n"
     ]
    },
    {
     "data": {
      "text/html": [
       "<html><script type=\"math/tex; mode=display\">\\newcommand{\\Bold}[1]{\\mathbf{#1}}0</script></html>"
      ],
      "text/plain": [
       "0"
      ]
     },
     "metadata": {},
     "output_type": "display_data"
    },
    {
     "data": {
      "text/html": [
       "<html><script type=\"math/tex; mode=display\">\\newcommand{\\Bold}[1]{\\mathbf{#1}}0</script></html>"
      ],
      "text/plain": [
       "0"
      ]
     },
     "metadata": {},
     "output_type": "display_data"
    },
    {
     "data": {
      "text/html": [
       "<html><script type=\"math/tex; mode=display\">\\newcommand{\\Bold}[1]{\\mathbf{#1}}0</script></html>"
      ],
      "text/plain": [
       "0"
      ]
     },
     "metadata": {},
     "output_type": "display_data"
    },
    {
     "name": "stdout",
     "output_type": "stream",
     "text": [
      "[v6, v3, v15, v2, v13] <class 'list'>\n"
     ]
    },
    {
     "data": {
      "text/html": [
       "<html><script type=\"math/tex; mode=display\">\\newcommand{\\Bold}[1]{\\mathbf{#1}}0</script></html>"
      ],
      "text/plain": [
       "0"
      ]
     },
     "metadata": {},
     "output_type": "display_data"
    },
    {
     "name": "stdout",
     "output_type": "stream",
     "text": [
      "[v6, v3, v15, v13, v2] <class 'list'>\n"
     ]
    },
    {
     "data": {
      "text/html": [
       "<html><script type=\"math/tex; mode=display\">\\newcommand{\\Bold}[1]{\\mathbf{#1}}0</script></html>"
      ],
      "text/plain": [
       "0"
      ]
     },
     "metadata": {},
     "output_type": "display_data"
    },
    {
     "data": {
      "text/html": [
       "<html><script type=\"math/tex; mode=display\">\\newcommand{\\Bold}[1]{\\mathbf{#1}}0</script></html>"
      ],
      "text/plain": [
       "0"
      ]
     },
     "metadata": {},
     "output_type": "display_data"
    }
   ],
   "source": [
    "# Expression involving t and F(t) to set = 0\n",
    "possible_impl_solns = []\n",
    "\n",
    "for comp_perm in Permutations(comp):\n",
    "    comp_perm = list(comp_perm)\n",
    "    print(comp_perm,type(comp_perm))\n",
    "    possible_impl_solns_perm = maxima.eliminate(system, comp_perm)\n",
    "    possible_impl_solns_perm = ([sln.sage() for sln in possible_impl_solns_perm])\n",
    "    possible_impl_solns.extend(possible_impl_solns_perm)\n",
    "    for impl_soln in possible_impl_solns_perm:\n",
    "        pretty_print(impl_soln)\n",
    "        if impl_soln!=0:\n",
    "            break # found an actual solution\n",
    "    else:\n",
    "        continue\n",
    "    break\n",
    "    \n",
    "#solve(system, comp, algorithm='sympy')\n",
    "#impl_soln(v0=sqrt(1/(1-4*t^2))).simplify_full()"
   ]
  },
  {
   "cell_type": "code",
   "execution_count": 312,
   "metadata": {},
   "outputs": [
    {
     "data": {
      "text/html": [
       "<html><script type=\"math/tex; mode=display\">\\newcommand{\\Bold}[1]{\\mathbf{#1}}\\lim_{t\\to 0}{F_{1,\\emptyset}(t)}=-1</script></html>"
      ],
      "text/plain": [
       "\\lim_{t\\to 0}{F_{1,\\emptyset}(t)}=-1"
      ]
     },
     "metadata": {},
     "output_type": "display_data"
    },
    {
     "name": "stdout",
     "output_type": "stream",
     "text": [
      "limit at t=0 is different from 1, discard!\n"
     ]
    },
    {
     "data": {
      "text/html": [
       "<html><script type=\"math/tex; mode=display\">\\newcommand{\\Bold}[1]{\\mathbf{#1}}\\lim_{t\\to 0}{F_{1,\\emptyset}(t)}=1</script></html>"
      ],
      "text/plain": [
       "\\lim_{t\\to 0}{F_{1,\\emptyset}(t)}=1"
      ]
     },
     "metadata": {},
     "output_type": "display_data"
    },
    {
     "name": "stdout",
     "output_type": "stream",
     "text": [
      "possible desired series solutions!\n"
     ]
    },
    {
     "data": {
      "text/html": [
       "<html><script type=\"math/tex; mode=display\">\\newcommand{\\Bold}[1]{\\mathbf{#1}}\\verb|Series|\\phantom{\\verb!x!}\\verb|Expansion|\\phantom{\\verb!x!}\\verb|around|\\phantom{\\verb!x!}\\verb|t=0|\\phantom{\\verb!x!}\\verb|of|\\phantom{\\verb!x!}\\verb|degree|\\phantom{\\verb!x!}\\verb|up|\\phantom{\\verb!x!}\\verb|to|\\phantom{\\verb!x!}\\verb|70:|</script></html>"
      ],
      "text/plain": [
       "'Series Expansion around t=0 of degree up to 70: '"
      ]
     },
     "metadata": {},
     "output_type": "display_data"
    },
    {
     "data": {
      "text/html": [
       "<html><script type=\"math/tex; mode=display\">\\newcommand{\\Bold}[1]{\\mathbf{#1}}112186277816662845432 \\, t^{70} + 28453041475240576740 \\, t^{68} + 7219428434016265740 \\, t^{66} + 1832624140942590534 \\, t^{64} + 465428353255261088 \\, t^{62} + 118264581564861424 \\, t^{60} + 30067266499541040 \\, t^{58} + 7648690600760440 \\, t^{56} + 1946939425648112 \\, t^{54} + 495918532948104 \\, t^{52} + 126410606437752 \\, t^{50} + 32247603683100 \\, t^{48} + 8233430727600 \\, t^{46} + 2104098963720 \\, t^{44} + 538257874440 \\, t^{42} + 137846528820 \\, t^{40} + 35345263800 \\, t^{38} + 9075135300 \\, t^{36} + 2333606220 \\, t^{34} + 601080390 \\, t^{32} + 155117520 \\, t^{30} + 40116600 \\, t^{28} + 10400600 \\, t^{26} + 2704156 \\, t^{24} + 705432 \\, t^{22} + 184756 \\, t^{20} + 48620 \\, t^{18} + 12870 \\, t^{16} + 3432 \\, t^{14} + 924 \\, t^{12} + 252 \\, t^{10} + 70 \\, t^{8} + 20 \\, t^{6} + 6 \\, t^{4} + 2 \\, t^{2} + 1</script></html>"
      ],
      "text/plain": [
       "112186277816662845432*t^70 + 28453041475240576740*t^68 + 7219428434016265740*t^66 + 1832624140942590534*t^64 + 465428353255261088*t^62 + 118264581564861424*t^60 + 30067266499541040*t^58 + 7648690600760440*t^56 + 1946939425648112*t^54 + 495918532948104*t^52 + 126410606437752*t^50 + 32247603683100*t^48 + 8233430727600*t^46 + 2104098963720*t^44 + 538257874440*t^42 + 137846528820*t^40 + 35345263800*t^38 + 9075135300*t^36 + 2333606220*t^34 + 601080390*t^32 + 155117520*t^30 + 40116600*t^28 + 10400600*t^26 + 2704156*t^24 + 705432*t^22 + 184756*t^20 + 48620*t^18 + 12870*t^16 + 3432*t^14 + 924*t^12 + 252*t^10 + 70*t^8 + 20*t^6 + 6*t^4 + 2*t^2 + 1"
      ]
     },
     "metadata": {},
     "output_type": "display_data"
    },
    {
     "data": {
      "text/html": [
       "<html><script type=\"math/tex; mode=display\">\\newcommand{\\Bold}[1]{\\mathbf{#1}}\\lim_{t\\to 0}{F_{1,\\emptyset}(t)}=0</script></html>"
      ],
      "text/plain": [
       "\\lim_{t\\to 0}{F_{1,\\emptyset}(t)}=0"
      ]
     },
     "metadata": {},
     "output_type": "display_data"
    },
    {
     "name": "stdout",
     "output_type": "stream",
     "text": [
      "limit at t=0 is different from 1, discard!\n"
     ]
    }
   ],
   "source": [
    "# Solve if we can\n",
    "expl_slns = solve(impl_soln, start, solution_dict=True)\n",
    "\n",
    "for sol in expl_slns:\n",
    "    F = sol[start]\n",
    "    L = F.limit(t=0)\n",
    "    pretty_print(LatexExpr(r'\\lim_{t\\to 0}%s=%d'%(latex(start),L)))\n",
    "    if L!=1:\n",
    "        print('limit at t=0 is different from 1, discard!')\n",
    "    else:\n",
    "        print('possible desired series solutions!')\n",
    "        #pretty_print(F)\n",
    "        prec = 70\n",
    "        pretty_print('Series Expansion around %s of degree up to %d: '%(LatexExpr('t=0'),prec))\n",
    "        pretty_print(F.taylor(t, 0, prec))\n"
   ]
  },
  {
   "cell_type": "code",
   "execution_count": null,
   "metadata": {},
   "outputs": [],
   "source": []
  },
  {
   "cell_type": "code",
   "execution_count": null,
   "metadata": {},
   "outputs": [],
   "source": []
  },
  {
   "cell_type": "code",
   "execution_count": null,
   "metadata": {},
   "outputs": [],
   "source": []
  }
 ],
 "metadata": {
  "kernelspec": {
   "display_name": "SageMath 9.0",
   "language": "sage",
   "name": "sagemath"
  },
  "language_info": {
   "codemirror_mode": {
    "name": "ipython",
    "version": 3
   },
   "file_extension": ".py",
   "mimetype": "text/x-python",
   "name": "python",
   "nbconvert_exporter": "python",
   "pygments_lexer": "ipython3",
   "version": "3.7.3"
  }
 },
 "nbformat": 4,
 "nbformat_minor": 2
}
