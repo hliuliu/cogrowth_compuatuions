{
 "cells": [
  {
   "cell_type": "markdown",
   "metadata": {},
   "source": [
    "# Function Dependency Equation for Free Product of 2 Cyclic Groups.\n",
    "\n",
    "Consider $G=\\langle x| x^m=1 \\rangle * \\langle y| y^n=1 \\rangle$, where $m,n \\in \\mathbb{Z}_{\\ge0}\\setminus \\{1\\}$. Note that $|G|<\\infty \\iff mn>0$. \n",
    "Take the generating set $S=S_x\\cup S_y$ for $G$, where \n",
    "$$S_x=\\{x\\}\\cup \\iota(m=0)\\cdot\\{x^{-1}\\}, S_y=\\{y\\}\\cup \\iota(n=0)\\cdot\\{y^{-1}\\},$$ \n",
    "and $$\\iota(\\mathcal{P})=\\begin{cases}\\{1\\},&\\mathcal{P}\\\\ \\emptyset,& \\lnot \\mathcal{P}\\end{cases}$$ with $\\cdot$ denoting elementwise group multiplication on sets [$A\\cdot B = \\{ab: a\\in A,\\ b\\in B\\}$]. \n",
    "\n",
    "For $g\\in G$ and $X\\subseteq G$, let $F_{g,X}(t)$ be series for the set of all words in $S^*$ equivalent to $g\\in G$, with proper nonempty prefixes avoiding $X$, characterized by the word length. We set up functional equations involving $F_{g,X}$, for which $\\{g\\}\\cup X\\subseteq \\{v^k: k\\in \\mathbb{Z}\\}$, and $v\\in \\{x,y\\}$. Finally, we solve for $F(t):=F_{1,\\emptyset}(t)$."
   ]
  },
  {
   "cell_type": "code",
   "execution_count": 1,
   "metadata": {},
   "outputs": [],
   "source": [
    "# choose your desired values for m,n\n",
    "# for now, only work for finite G, (mn>0)\n",
    "m = 2\n",
    "n = 4\n",
    "\n",
    "# Do we want word concatenation to reduce to group multiplication?\n",
    "AUTO_REDUCE = True\n",
    "DEFAULT_RS = None # a rewiting system in order to make group element reduction possible, will be set later\n"
   ]
  },
  {
   "cell_type": "code",
   "execution_count": 2,
   "metadata": {},
   "outputs": [],
   "source": [
    "# need to define set-set, set-element multiplication\n",
    "def set_mult(A,B):\n",
    "    # turn any non-set object into a singleton set containing that object\n",
    "    A,B = map(lambda S: S if S in Sets else Set([S]),[A,B])\n",
    "    C= Set([a*b for a,b in cartesian_product([A,B])]) # assuming element multiplication is well defined\n",
    "    if AUTO_REDUCE and DEFAULT_RS is not None:\n",
    "        C = Set([DEFAULT_RS.reduce(c) for c in C])\n",
    "    return C\n",
    "\n",
    "# Let's overload the '*' operator for Set objects\n",
    "# Set is a function, but returns an instance of some spectifed kind of Set class, which is accessible via .parent()\n",
    "reverse_if = lambda seq, cond: list(seq) if not cond else list(reversed(seq))\n",
    "Set().parent()._mul_ =  lambda self, other, switch_sides=False: set_mult(*(reverse_if([self,other], switch_sides)))"
   ]
  },
  {
   "cell_type": "code",
   "execution_count": 3,
   "metadata": {},
   "outputs": [],
   "source": [
    "# compute the free product\n",
    "F2.<x,y> = FreeGroup()\n",
    "G = F2/ (x^m,y^n)\n",
    "x,y = G.gens()\n",
    "\n",
    "# need to write words in reduced form\n",
    "Grs = G.rewriting_system()\n",
    "DEFAULT_RS = Grs"
   ]
  },
  {
   "cell_type": "code",
   "execution_count": 4,
   "metadata": {},
   "outputs": [
    {
     "name": "stdout",
     "output_type": "stream",
     "text": [
      "{x*y, 1, x}\n",
      "{x*y, x^2, x}\n",
      "{x*y, 1, x}\n"
     ]
    }
   ],
   "source": [
    "# test it out\n",
    "A = Set([x,y,G.one()])\n",
    "\n",
    "print(x*A) # with reduction\n",
    "\n",
    "# very simple to supress/invoke group reduction\n",
    "AUTO_REDUCE = False\n",
    "print(x*A) # without reduction\n",
    "AUTO_REDUCE = True\n",
    "print(x*A) # with reduction"
   ]
  },
  {
   "cell_type": "code",
   "execution_count": 5,
   "metadata": {},
   "outputs": [],
   "source": [
    "# latex expression for sets\n",
    "def set_to_latex(A):\n",
    "    if A == Set():\n",
    "        return r'\\emptyset'\n",
    "    return latex(A)"
   ]
  },
  {
   "cell_type": "code",
   "execution_count": 6,
   "metadata": {},
   "outputs": [
    {
     "data": {
      "text/plain": [
       "True"
      ]
     },
     "execution_count": 6,
     "metadata": {},
     "output_type": "execute_result"
    }
   ],
   "source": [
    "# define a space of variables indexed by the (g,X) pairs\n",
    "# start with what we wish to solve, (1,\\emptyset).\n",
    "def series_expression(g,X):\n",
    "    return 'F_{%s,%s}(t)'%(latex(g),set_to_latex(X))\n",
    "var_space = {}\n",
    "goal_pair = (G.one(), Set())\n",
    "VAR_COUNTER = 0 # increment every time a new series variable is defined\n",
    "\n",
    "def add_series_var(pair):\n",
    "    if pair in var_space:\n",
    "        return False\n",
    "    global VAR_COUNTER\n",
    "    g,X = pair\n",
    "    var_space[pair] = var('v%d'%VAR_COUNTER, latex_name = series_expression(g,X))\n",
    "    VAR_COUNTER += 1\n",
    "    return True\n",
    "\n",
    "add_series_var(goal_pair)\n",
    "    "
   ]
  },
  {
   "cell_type": "code",
   "execution_count": 7,
   "metadata": {},
   "outputs": [
    {
     "data": {
      "text/html": [
       "<html><script type=\"math/tex; mode=display\">\\newcommand{\\Bold}[1]{\\mathbf{#1}}\\left\\{\\left(1, \\left\\{\\right\\}\\right) : {F_{1,\\emptyset}(t)}\\right\\}</script></html>"
      ],
      "text/plain": [
       "{(1, {}): v0}"
      ]
     },
     "metadata": {},
     "output_type": "display_data"
    }
   ],
   "source": [
    "pretty_print(var_space)"
   ]
  },
  {
   "cell_type": "code",
   "execution_count": 8,
   "metadata": {},
   "outputs": [],
   "source": [
    "# Now get the cyclic factors\n",
    "\n",
    "# Sage is not good with subgroups\n",
    "# Gx = G.subgroup((x,))\n",
    "# Gy = G.subgroup((y,))\n",
    "# xx,yy = Gx.gens()+Gy.gens()\n",
    "\n",
    "def in_cyclic_factor(el, v):\n",
    "    '''\n",
    "        returns if the group element is in the given cyclic factor\n",
    "        el: the element in G to check\n",
    "        v: either x or y, the generator of the factor \n",
    "    '''\n",
    "    expr = el.syllables()\n",
    "    if not expr:\n",
    "        return True\n",
    "    return len(expr)==1 and expr[0][0] == v\n",
    "    \n",
    "def subset_of_cyclic_factor(A,v):\n",
    "    # assume finite sets only\n",
    "    return all((in_cyclic_factor(el,v) for el in A))"
   ]
  },
  {
   "cell_type": "code",
   "execution_count": 9,
   "metadata": {},
   "outputs": [],
   "source": [
    "# for finite cyclic factors, we don't want negative exponents. We redefine the __pow__ method.\n",
    "if AUTO_REDUCE and DEFAULT_RS is not None:\n",
    "    if '_old_pow' not in vars():\n",
    "        _old_pow = type(x).__pow__\n",
    "    def _new_pow(a, k):\n",
    "        if k not in ZZ or k>=0:\n",
    "            # case isn't broken, don't change it\n",
    "            return _old_pow(a,k)\n",
    "\n",
    "        # k is a negative integer\n",
    "        ans = _old_pow(a,k)\n",
    "    #     if AUTO_REDUCE:\n",
    "    #         ans = DEFAULT_RS.reduce(ans)\n",
    "        nans = G.one()\n",
    "        for v,ep in ans.syllables():\n",
    "            modval = m if v==x else n\n",
    "            nans*= _old_pow(v, ep if modval==0 else ep%modval)\n",
    "        return nans\n",
    "    type(x).__pow__ = _new_pow"
   ]
  },
  {
   "cell_type": "code",
   "execution_count": 10,
   "metadata": {},
   "outputs": [],
   "source": [
    "# For multiplication, want auto reduation to be available\n",
    "# if AUTO_REDUCE and DEFAULT_RS is not None:\n",
    "#     if '_old_mul' not in vars():\n",
    "#         _old_mul = type(x).__mul__\n",
    "#     def _new_mul(a, b):\n",
    "#         return DEFAULT_RS.reduce(_old_mul(a,b))\n",
    "#     type(x).__mul__ = _new_mul\n"
   ]
  },
  {
   "cell_type": "code",
   "execution_count": 11,
   "metadata": {},
   "outputs": [
    {
     "data": {
      "text/plain": [
       "(x, x^2, x^4, x, y^3*x, 1, y, y*x, True)"
      ]
     },
     "execution_count": 11,
     "metadata": {},
     "output_type": "execute_result"
    }
   ],
   "source": [
    "x,x^2,x^3*x,x^-1,(x*y)^-1, x^-2,y^-3,(x*y^3)^-1, '_old_pow' in vars()"
   ]
  },
  {
   "cell_type": "code",
   "execution_count": 12,
   "metadata": {},
   "outputs": [
    {
     "data": {
      "text/plain": [
       "t"
      ]
     },
     "execution_count": 12,
     "metadata": {},
     "output_type": "execute_result"
    }
   ],
   "source": [
    "var('t')"
   ]
  },
  {
   "cell_type": "code",
   "execution_count": 13,
   "metadata": {},
   "outputs": [],
   "source": [
    "# construct the functional equation given the desired (g,X) pair\n",
    "# assume {g}\\cup X is completely in one of the cyclic factors\n",
    "# CURRENTLY FINITE CASE ONLY\n",
    "\n",
    "def get_FD_equation(pair, ret_new_pairs = True):\n",
    "    '''\n",
    "        returns a functional depency equation\n",
    "        if ret_new_pairs is set to True, return a (equation, set of (g,X) pairs) pair instead\n",
    "    '''\n",
    "    if ret_new_pairs:\n",
    "        newpairs = set()\n",
    "    g,X = pair\n",
    "    eqn = None\n",
    "    one = G.one()\n",
    "    oneset = Set([one])\n",
    "    if one not in X:\n",
    "        XU1 = X.union(oneset)\n",
    "        if add_series_var((one,X)) and ret_new_pairs:\n",
    "            newpairs.add((one,X))\n",
    "        if add_series_var((g,XU1)) and ret_new_pairs:\n",
    "            newpairs.add((g,XU1))\n",
    "        if g==one:\n",
    "            eqn = 1+var_space[(one,X)]*(var_space[(one,XU1)]-1)\n",
    "        else:\n",
    "            eqn = var_space[(one,X)]*var_space[(g,XU1)]\n",
    "    elif subset_of_cyclic_factor(X,x):\n",
    "        if g!=one:\n",
    "            eqn = t*ZZ(g==x)\n",
    "            if x not in X:\n",
    "                [g] = x^-1*Set([g]) # use set so auto reduction is implemented\n",
    "                X = x^-1*X\n",
    "                if add_series_var((g,X)) and ret_new_pairs:\n",
    "                    newpairs.add((g,X))\n",
    "                eqn += t*var_space[(g,X)]\n",
    "        else:\n",
    "            set_yinv = Set([y^-1]) \n",
    "            if add_series_var((y^-1,set_yinv)) and ret_new_pairs:\n",
    "                newpairs.add((y^-1,set_yinv))\n",
    "            eqn = 1+t*var_space[(y^-1,set_yinv)]\n",
    "            if x not in X:\n",
    "                g = x^-1\n",
    "                X = x^-1*X\n",
    "                if add_series_var((g,X)) and ret_new_pairs:\n",
    "                    newpairs.add((g,X))\n",
    "                eqn += t*var_space[(g,X)]\n",
    "    else:\n",
    "        # the y factor case\n",
    "        if g!=one:\n",
    "            eqn = t*ZZ(g==y)\n",
    "            if y not in X:\n",
    "                [g] = y^-1*Set([g])\n",
    "                X = y^-1*X\n",
    "                if add_series_var((g,X)) and ret_new_pairs:\n",
    "                    newpairs.add((g,X))\n",
    "                eqn += t*var_space[(g,X)]\n",
    "        else:\n",
    "            set_xinv = Set([x^-1]) \n",
    "            if add_series_var((x^-1,set_xinv)) and ret_new_pairs:\n",
    "                newpairs.add((x^-1,set_xinv))\n",
    "            eqn = 1+t*var_space[(x^-1,set_xinv)]\n",
    "            if y not in X:\n",
    "                g = y^-1\n",
    "                X = y^-1*X\n",
    "                if add_series_var((g,X)) and ret_new_pairs:\n",
    "                    newpairs.add((g,X))\n",
    "                eqn += t*var_space[(g,X)]\n",
    "    eqn = var_space[pair]==eqn\n",
    "    return (eqn,newpairs) if ret_new_pairs else eqn\n",
    "    \n"
   ]
  },
  {
   "cell_type": "code",
   "execution_count": 14,
   "metadata": {},
   "outputs": [],
   "source": [
    "# Let us build the system of equations\n",
    "system = []\n",
    "queue = [goal_pair]\n",
    "\n",
    "# use BFS\n",
    "while queue:\n",
    "    pair = queue.pop(0)\n",
    "    eqn, newp = get_FD_equation(pair)\n",
    "    queue.extend(newp)\n",
    "    system.append(eqn)\n"
   ]
  },
  {
   "cell_type": "code",
   "execution_count": 15,
   "metadata": {},
   "outputs": [
    {
     "name": "stdout",
     "output_type": "stream",
     "text": [
      "{F_{1,\\emptyset}(t)} = {F_{1,\\emptyset}(t)} {\\left({F_{1,\\left\\{1\\right\\}}(t)} - 1\\right)} + 1 \\\\\n",
      "{F_{1,\\left\\{1\\right\\}}(t)} = t {F_{y^{3},\\left\\{y^{3}\\right\\}}(t)} + t {F_{x,\\left\\{x\\right\\}}(t)} + 1 \\\\\n",
      "{F_{y^{3},\\left\\{y^{3}\\right\\}}(t)} = {F_{1,\\left\\{y^{3}\\right\\}}(t)} {F_{y^{3},\\left\\{y^{3}, 1\\right\\}}(t)} \\\\\n",
      "{F_{x,\\left\\{x\\right\\}}(t)} = {F_{1,\\left\\{x\\right\\}}(t)} {F_{x,\\left\\{1, x\\right\\}}(t)} \\\\\n",
      "{F_{1,\\left\\{y^{3}\\right\\}}(t)} = {F_{1,\\left\\{y^{3}\\right\\}}(t)} {\\left({F_{1,\\left\\{y^{3}, 1\\right\\}}(t)} - 1\\right)} + 1 \\\\\n",
      "{F_{y^{3},\\left\\{y^{3}, 1\\right\\}}(t)} = t {F_{y^{2},\\left\\{y^{3}, y^{2}\\right\\}}(t)} \\\\\n",
      "{F_{1,\\left\\{x\\right\\}}(t)} = {\\left({F_{1,\\left\\{1, x\\right\\}}(t)} - 1\\right)} {F_{1,\\left\\{x\\right\\}}(t)} + 1 \\\\\n",
      "{F_{x,\\left\\{1, x\\right\\}}(t)} = t \\\\\n",
      "{F_{1,\\left\\{y^{3}, 1\\right\\}}(t)} = t {F_{y^{3},\\left\\{y^{3}, y^{2}\\right\\}}(t)} + t {F_{x,\\left\\{x\\right\\}}(t)} + 1 \\\\\n",
      "{F_{y^{2},\\left\\{y^{3}, y^{2}\\right\\}}(t)} = {F_{1,\\left\\{y^{3}, y^{2}\\right\\}}(t)} {F_{y^{2},\\left\\{y^{3}, 1, y^{2}\\right\\}}(t)} \\\\\n",
      "{F_{1,\\left\\{1, x\\right\\}}(t)} = t {F_{y^{3},\\left\\{y^{3}\\right\\}}(t)} + 1 \\\\\n",
      "{F_{y^{3},\\left\\{y^{3}, y^{2}\\right\\}}(t)} = {F_{1,\\left\\{y^{3}, y^{2}\\right\\}}(t)} {F_{y^{3},\\left\\{y^{3}, 1, y^{2}\\right\\}}(t)} \\\\\n",
      "{F_{y^{2},\\left\\{y^{3}, 1, y^{2}\\right\\}}(t)} = t {F_{y,\\left\\{y^{3}, y, y^{2}\\right\\}}(t)} \\\\\n",
      "{F_{1,\\left\\{y^{3}, y^{2}\\right\\}}(t)} = {F_{1,\\left\\{y^{3}, y^{2}\\right\\}}(t)} {\\left({F_{1,\\left\\{y^{3}, 1, y^{2}\\right\\}}(t)} - 1\\right)} + 1 \\\\\n",
      "{F_{y^{3},\\left\\{y^{3}, 1, y^{2}\\right\\}}(t)} = t {F_{y^{2},\\left\\{y^{3}, y, y^{2}\\right\\}}(t)} \\\\\n",
      "{F_{y,\\left\\{y^{3}, y, y^{2}\\right\\}}(t)} = {F_{1,\\left\\{y^{3}, y, y^{2}\\right\\}}(t)} {F_{y,\\left\\{y^{3}, 1, y, y^{2}\\right\\}}(t)} \\\\\n",
      "{F_{1,\\left\\{y^{3}, 1, y^{2}\\right\\}}(t)} = t {F_{y^{3},\\left\\{y^{3}, y, y^{2}\\right\\}}(t)} + t {F_{x,\\left\\{x\\right\\}}(t)} + 1 \\\\\n",
      "{F_{y^{2},\\left\\{y^{3}, y, y^{2}\\right\\}}(t)} = {F_{1,\\left\\{y^{3}, y, y^{2}\\right\\}}(t)} {F_{y^{2},\\left\\{y^{3}, 1, y, y^{2}\\right\\}}(t)} \\\\\n",
      "{F_{1,\\left\\{y^{3}, y, y^{2}\\right\\}}(t)} = {F_{1,\\left\\{y^{3}, y, y^{2}\\right\\}}(t)} {\\left({F_{1,\\left\\{y^{3}, 1, y, y^{2}\\right\\}}(t)} - 1\\right)} + 1 \\\\\n",
      "{F_{y,\\left\\{y^{3}, 1, y, y^{2}\\right\\}}(t)} = t \\\\\n",
      "{F_{y^{3},\\left\\{y^{3}, y, y^{2}\\right\\}}(t)} = {F_{1,\\left\\{y^{3}, y, y^{2}\\right\\}}(t)} {F_{y^{3},\\left\\{y^{3}, 1, y, y^{2}\\right\\}}(t)} \\\\\n",
      "{F_{y^{2},\\left\\{y^{3}, 1, y, y^{2}\\right\\}}(t)} = 0 \\\\\n",
      "{F_{1,\\left\\{y^{3}, 1, y, y^{2}\\right\\}}(t)} = t {F_{x,\\left\\{x\\right\\}}(t)} + 1 \\\\\n",
      "{F_{y^{3},\\left\\{y^{3}, 1, y, y^{2}\\right\\}}(t)} = 0 \\\\\n",
      "\n",
      "\n"
     ]
    },
    {
     "data": {
      "text/html": [
       "<html><script type=\"math/tex; mode=display\">\\newcommand{\\Bold}[1]{\\mathbf{#1}}{F_{1,\\emptyset}(t)} = {F_{1,\\emptyset}(t)} {\\left({F_{1,\\left\\{1\\right\\}}(t)} - 1\\right)} + 1</script></html>"
      ],
      "text/plain": [
       "v0 == v0*(v1 - 1) + 1"
      ]
     },
     "metadata": {},
     "output_type": "display_data"
    },
    {
     "data": {
      "text/html": [
       "<html><script type=\"math/tex; mode=display\">\\newcommand{\\Bold}[1]{\\mathbf{#1}}{F_{1,\\left\\{1\\right\\}}(t)} = t {F_{y^{3},\\left\\{y^{3}\\right\\}}(t)} + t {F_{x,\\left\\{x\\right\\}}(t)} + 1</script></html>"
      ],
      "text/plain": [
       "v1 == t*v2 + t*v3 + 1"
      ]
     },
     "metadata": {},
     "output_type": "display_data"
    },
    {
     "data": {
      "text/html": [
       "<html><script type=\"math/tex; mode=display\">\\newcommand{\\Bold}[1]{\\mathbf{#1}}{F_{y^{3},\\left\\{y^{3}\\right\\}}(t)} = {F_{1,\\left\\{y^{3}\\right\\}}(t)} {F_{y^{3},\\left\\{y^{3}, 1\\right\\}}(t)}</script></html>"
      ],
      "text/plain": [
       "v2 == v4*v5"
      ]
     },
     "metadata": {},
     "output_type": "display_data"
    },
    {
     "data": {
      "text/html": [
       "<html><script type=\"math/tex; mode=display\">\\newcommand{\\Bold}[1]{\\mathbf{#1}}{F_{x,\\left\\{x\\right\\}}(t)} = {F_{1,\\left\\{x\\right\\}}(t)} {F_{x,\\left\\{1, x\\right\\}}(t)}</script></html>"
      ],
      "text/plain": [
       "v3 == v6*v7"
      ]
     },
     "metadata": {},
     "output_type": "display_data"
    },
    {
     "data": {
      "text/html": [
       "<html><script type=\"math/tex; mode=display\">\\newcommand{\\Bold}[1]{\\mathbf{#1}}{F_{1,\\left\\{y^{3}\\right\\}}(t)} = {F_{1,\\left\\{y^{3}\\right\\}}(t)} {\\left({F_{1,\\left\\{y^{3}, 1\\right\\}}(t)} - 1\\right)} + 1</script></html>"
      ],
      "text/plain": [
       "v4 == v4*(v8 - 1) + 1"
      ]
     },
     "metadata": {},
     "output_type": "display_data"
    },
    {
     "data": {
      "text/html": [
       "<html><script type=\"math/tex; mode=display\">\\newcommand{\\Bold}[1]{\\mathbf{#1}}{F_{y^{3},\\left\\{y^{3}, 1\\right\\}}(t)} = t {F_{y^{2},\\left\\{y^{3}, y^{2}\\right\\}}(t)}</script></html>"
      ],
      "text/plain": [
       "v5 == t*v9"
      ]
     },
     "metadata": {},
     "output_type": "display_data"
    },
    {
     "data": {
      "text/html": [
       "<html><script type=\"math/tex; mode=display\">\\newcommand{\\Bold}[1]{\\mathbf{#1}}{F_{1,\\left\\{x\\right\\}}(t)} = {\\left({F_{1,\\left\\{1, x\\right\\}}(t)} - 1\\right)} {F_{1,\\left\\{x\\right\\}}(t)} + 1</script></html>"
      ],
      "text/plain": [
       "v6 == (v10 - 1)*v6 + 1"
      ]
     },
     "metadata": {},
     "output_type": "display_data"
    },
    {
     "data": {
      "text/html": [
       "<html><script type=\"math/tex; mode=display\">\\newcommand{\\Bold}[1]{\\mathbf{#1}}{F_{x,\\left\\{1, x\\right\\}}(t)} = t</script></html>"
      ],
      "text/plain": [
       "v7 == t"
      ]
     },
     "metadata": {},
     "output_type": "display_data"
    },
    {
     "data": {
      "text/html": [
       "<html><script type=\"math/tex; mode=display\">\\newcommand{\\Bold}[1]{\\mathbf{#1}}{F_{1,\\left\\{y^{3}, 1\\right\\}}(t)} = t {F_{y^{3},\\left\\{y^{3}, y^{2}\\right\\}}(t)} + t {F_{x,\\left\\{x\\right\\}}(t)} + 1</script></html>"
      ],
      "text/plain": [
       "v8 == t*v11 + t*v3 + 1"
      ]
     },
     "metadata": {},
     "output_type": "display_data"
    },
    {
     "data": {
      "text/html": [
       "<html><script type=\"math/tex; mode=display\">\\newcommand{\\Bold}[1]{\\mathbf{#1}}{F_{y^{2},\\left\\{y^{3}, y^{2}\\right\\}}(t)} = {F_{1,\\left\\{y^{3}, y^{2}\\right\\}}(t)} {F_{y^{2},\\left\\{y^{3}, 1, y^{2}\\right\\}}(t)}</script></html>"
      ],
      "text/plain": [
       "v9 == v12*v13"
      ]
     },
     "metadata": {},
     "output_type": "display_data"
    },
    {
     "data": {
      "text/html": [
       "<html><script type=\"math/tex; mode=display\">\\newcommand{\\Bold}[1]{\\mathbf{#1}}{F_{1,\\left\\{1, x\\right\\}}(t)} = t {F_{y^{3},\\left\\{y^{3}\\right\\}}(t)} + 1</script></html>"
      ],
      "text/plain": [
       "v10 == t*v2 + 1"
      ]
     },
     "metadata": {},
     "output_type": "display_data"
    },
    {
     "data": {
      "text/html": [
       "<html><script type=\"math/tex; mode=display\">\\newcommand{\\Bold}[1]{\\mathbf{#1}}{F_{y^{3},\\left\\{y^{3}, y^{2}\\right\\}}(t)} = {F_{1,\\left\\{y^{3}, y^{2}\\right\\}}(t)} {F_{y^{3},\\left\\{y^{3}, 1, y^{2}\\right\\}}(t)}</script></html>"
      ],
      "text/plain": [
       "v11 == v12*v14"
      ]
     },
     "metadata": {},
     "output_type": "display_data"
    },
    {
     "data": {
      "text/html": [
       "<html><script type=\"math/tex; mode=display\">\\newcommand{\\Bold}[1]{\\mathbf{#1}}{F_{y^{2},\\left\\{y^{3}, 1, y^{2}\\right\\}}(t)} = t {F_{y,\\left\\{y^{3}, y, y^{2}\\right\\}}(t)}</script></html>"
      ],
      "text/plain": [
       "v13 == t*v15"
      ]
     },
     "metadata": {},
     "output_type": "display_data"
    },
    {
     "data": {
      "text/html": [
       "<html><script type=\"math/tex; mode=display\">\\newcommand{\\Bold}[1]{\\mathbf{#1}}{F_{1,\\left\\{y^{3}, y^{2}\\right\\}}(t)} = {F_{1,\\left\\{y^{3}, y^{2}\\right\\}}(t)} {\\left({F_{1,\\left\\{y^{3}, 1, y^{2}\\right\\}}(t)} - 1\\right)} + 1</script></html>"
      ],
      "text/plain": [
       "v12 == v12*(v16 - 1) + 1"
      ]
     },
     "metadata": {},
     "output_type": "display_data"
    },
    {
     "data": {
      "text/html": [
       "<html><script type=\"math/tex; mode=display\">\\newcommand{\\Bold}[1]{\\mathbf{#1}}{F_{y^{3},\\left\\{y^{3}, 1, y^{2}\\right\\}}(t)} = t {F_{y^{2},\\left\\{y^{3}, y, y^{2}\\right\\}}(t)}</script></html>"
      ],
      "text/plain": [
       "v14 == t*v17"
      ]
     },
     "metadata": {},
     "output_type": "display_data"
    },
    {
     "data": {
      "text/html": [
       "<html><script type=\"math/tex; mode=display\">\\newcommand{\\Bold}[1]{\\mathbf{#1}}{F_{y,\\left\\{y^{3}, y, y^{2}\\right\\}}(t)} = {F_{1,\\left\\{y^{3}, y, y^{2}\\right\\}}(t)} {F_{y,\\left\\{y^{3}, 1, y, y^{2}\\right\\}}(t)}</script></html>"
      ],
      "text/plain": [
       "v15 == v18*v19"
      ]
     },
     "metadata": {},
     "output_type": "display_data"
    },
    {
     "data": {
      "text/html": [
       "<html><script type=\"math/tex; mode=display\">\\newcommand{\\Bold}[1]{\\mathbf{#1}}{F_{1,\\left\\{y^{3}, 1, y^{2}\\right\\}}(t)} = t {F_{y^{3},\\left\\{y^{3}, y, y^{2}\\right\\}}(t)} + t {F_{x,\\left\\{x\\right\\}}(t)} + 1</script></html>"
      ],
      "text/plain": [
       "v16 == t*v20 + t*v3 + 1"
      ]
     },
     "metadata": {},
     "output_type": "display_data"
    },
    {
     "data": {
      "text/html": [
       "<html><script type=\"math/tex; mode=display\">\\newcommand{\\Bold}[1]{\\mathbf{#1}}{F_{y^{2},\\left\\{y^{3}, y, y^{2}\\right\\}}(t)} = {F_{1,\\left\\{y^{3}, y, y^{2}\\right\\}}(t)} {F_{y^{2},\\left\\{y^{3}, 1, y, y^{2}\\right\\}}(t)}</script></html>"
      ],
      "text/plain": [
       "v17 == v18*v21"
      ]
     },
     "metadata": {},
     "output_type": "display_data"
    },
    {
     "data": {
      "text/html": [
       "<html><script type=\"math/tex; mode=display\">\\newcommand{\\Bold}[1]{\\mathbf{#1}}{F_{1,\\left\\{y^{3}, y, y^{2}\\right\\}}(t)} = {F_{1,\\left\\{y^{3}, y, y^{2}\\right\\}}(t)} {\\left({F_{1,\\left\\{y^{3}, 1, y, y^{2}\\right\\}}(t)} - 1\\right)} + 1</script></html>"
      ],
      "text/plain": [
       "v18 == v18*(v22 - 1) + 1"
      ]
     },
     "metadata": {},
     "output_type": "display_data"
    },
    {
     "data": {
      "text/html": [
       "<html><script type=\"math/tex; mode=display\">\\newcommand{\\Bold}[1]{\\mathbf{#1}}{F_{y,\\left\\{y^{3}, 1, y, y^{2}\\right\\}}(t)} = t</script></html>"
      ],
      "text/plain": [
       "v19 == t"
      ]
     },
     "metadata": {},
     "output_type": "display_data"
    },
    {
     "data": {
      "text/html": [
       "<html><script type=\"math/tex; mode=display\">\\newcommand{\\Bold}[1]{\\mathbf{#1}}{F_{y^{3},\\left\\{y^{3}, y, y^{2}\\right\\}}(t)} = {F_{1,\\left\\{y^{3}, y, y^{2}\\right\\}}(t)} {F_{y^{3},\\left\\{y^{3}, 1, y, y^{2}\\right\\}}(t)}</script></html>"
      ],
      "text/plain": [
       "v20 == v18*v23"
      ]
     },
     "metadata": {},
     "output_type": "display_data"
    },
    {
     "data": {
      "text/html": [
       "<html><script type=\"math/tex; mode=display\">\\newcommand{\\Bold}[1]{\\mathbf{#1}}{F_{y^{2},\\left\\{y^{3}, 1, y, y^{2}\\right\\}}(t)} = 0</script></html>"
      ],
      "text/plain": [
       "v21 == 0"
      ]
     },
     "metadata": {},
     "output_type": "display_data"
    },
    {
     "data": {
      "text/html": [
       "<html><script type=\"math/tex; mode=display\">\\newcommand{\\Bold}[1]{\\mathbf{#1}}{F_{1,\\left\\{y^{3}, 1, y, y^{2}\\right\\}}(t)} = t {F_{x,\\left\\{x\\right\\}}(t)} + 1</script></html>"
      ],
      "text/plain": [
       "v22 == t*v3 + 1"
      ]
     },
     "metadata": {},
     "output_type": "display_data"
    },
    {
     "data": {
      "text/html": [
       "<html><script type=\"math/tex; mode=display\">\\newcommand{\\Bold}[1]{\\mathbf{#1}}{F_{y^{3},\\left\\{y^{3}, 1, y, y^{2}\\right\\}}(t)} = 0</script></html>"
      ],
      "text/plain": [
       "v23 == 0"
      ]
     },
     "metadata": {},
     "output_type": "display_data"
    }
   ],
   "source": [
    "# Here are the equations\n",
    "for eqn in system:\n",
    "    print(latex(eqn),r'\\\\')\n",
    "print()\n",
    "print()\n",
    "for eqn in system:\n",
    "    #print(eqn)\n",
    "    pretty_print(eqn)"
   ]
  },
  {
   "cell_type": "code",
   "execution_count": 17,
   "metadata": {},
   "outputs": [],
   "source": [
    "# Finally solve the system\n",
    "\n",
    "# reports an empty list\n",
    "\n",
    "# save so we dont lose it\n",
    "orig_system = system"
   ]
  },
  {
   "cell_type": "code",
   "execution_count": 18,
   "metadata": {},
   "outputs": [],
   "source": [
    "# first, isolate variables on the LHS\n",
    "\n",
    "for i, eqn in enumerate(system):\n",
    "    system[i] = solve(eqn,eqn.lhs())[0]\n",
    "    "
   ]
  },
  {
   "cell_type": "code",
   "execution_count": 19,
   "metadata": {},
   "outputs": [
    {
     "data": {
      "text/html": [
       "<html><script type=\"math/tex; mode=display\">\\newcommand{\\Bold}[1]{\\mathbf{#1}}{F_{1,\\emptyset}(t)} = -\\frac{1}{{F_{1,\\left\\{1\\right\\}}(t)} - 2}</script></html>"
      ],
      "text/plain": [
       "v0 == -1/(v1 - 2)"
      ]
     },
     "metadata": {},
     "output_type": "display_data"
    },
    {
     "data": {
      "text/html": [
       "<html><script type=\"math/tex; mode=display\">\\newcommand{\\Bold}[1]{\\mathbf{#1}}{F_{1,\\left\\{1\\right\\}}(t)} = t {F_{y^{3},\\left\\{y^{3}\\right\\}}(t)} + t {F_{x,\\left\\{x\\right\\}}(t)} + 1</script></html>"
      ],
      "text/plain": [
       "v1 == t*v2 + t*v3 + 1"
      ]
     },
     "metadata": {},
     "output_type": "display_data"
    },
    {
     "data": {
      "text/html": [
       "<html><script type=\"math/tex; mode=display\">\\newcommand{\\Bold}[1]{\\mathbf{#1}}{F_{y^{3},\\left\\{y^{3}\\right\\}}(t)} = {F_{1,\\left\\{y^{3}\\right\\}}(t)} {F_{y^{3},\\left\\{y^{3}, 1\\right\\}}(t)}</script></html>"
      ],
      "text/plain": [
       "v2 == v4*v5"
      ]
     },
     "metadata": {},
     "output_type": "display_data"
    },
    {
     "data": {
      "text/html": [
       "<html><script type=\"math/tex; mode=display\">\\newcommand{\\Bold}[1]{\\mathbf{#1}}{F_{x,\\left\\{x\\right\\}}(t)} = {F_{1,\\left\\{x\\right\\}}(t)} {F_{x,\\left\\{1, x\\right\\}}(t)}</script></html>"
      ],
      "text/plain": [
       "v3 == v6*v7"
      ]
     },
     "metadata": {},
     "output_type": "display_data"
    },
    {
     "data": {
      "text/html": [
       "<html><script type=\"math/tex; mode=display\">\\newcommand{\\Bold}[1]{\\mathbf{#1}}{F_{1,\\left\\{y^{3}\\right\\}}(t)} = -\\frac{1}{{F_{1,\\left\\{y^{3}, 1\\right\\}}(t)} - 2}</script></html>"
      ],
      "text/plain": [
       "v4 == -1/(v8 - 2)"
      ]
     },
     "metadata": {},
     "output_type": "display_data"
    },
    {
     "data": {
      "text/html": [
       "<html><script type=\"math/tex; mode=display\">\\newcommand{\\Bold}[1]{\\mathbf{#1}}{F_{y^{3},\\left\\{y^{3}, 1\\right\\}}(t)} = t {F_{y^{2},\\left\\{y^{3}, y^{2}\\right\\}}(t)}</script></html>"
      ],
      "text/plain": [
       "v5 == t*v9"
      ]
     },
     "metadata": {},
     "output_type": "display_data"
    },
    {
     "data": {
      "text/html": [
       "<html><script type=\"math/tex; mode=display\">\\newcommand{\\Bold}[1]{\\mathbf{#1}}{F_{1,\\left\\{x\\right\\}}(t)} = -\\frac{1}{{F_{1,\\left\\{1, x\\right\\}}(t)} - 2}</script></html>"
      ],
      "text/plain": [
       "v6 == -1/(v10 - 2)"
      ]
     },
     "metadata": {},
     "output_type": "display_data"
    },
    {
     "data": {
      "text/html": [
       "<html><script type=\"math/tex; mode=display\">\\newcommand{\\Bold}[1]{\\mathbf{#1}}{F_{x,\\left\\{1, x\\right\\}}(t)} = t</script></html>"
      ],
      "text/plain": [
       "v7 == t"
      ]
     },
     "metadata": {},
     "output_type": "display_data"
    },
    {
     "data": {
      "text/html": [
       "<html><script type=\"math/tex; mode=display\">\\newcommand{\\Bold}[1]{\\mathbf{#1}}{F_{1,\\left\\{y^{3}, 1\\right\\}}(t)} = t {F_{y^{3},\\left\\{y^{3}, y^{2}\\right\\}}(t)} + t {F_{x,\\left\\{x\\right\\}}(t)} + 1</script></html>"
      ],
      "text/plain": [
       "v8 == t*v11 + t*v3 + 1"
      ]
     },
     "metadata": {},
     "output_type": "display_data"
    },
    {
     "data": {
      "text/html": [
       "<html><script type=\"math/tex; mode=display\">\\newcommand{\\Bold}[1]{\\mathbf{#1}}{F_{y^{2},\\left\\{y^{3}, y^{2}\\right\\}}(t)} = {F_{1,\\left\\{y^{3}, y^{2}\\right\\}}(t)} {F_{y^{2},\\left\\{y^{3}, 1, y^{2}\\right\\}}(t)}</script></html>"
      ],
      "text/plain": [
       "v9 == v12*v13"
      ]
     },
     "metadata": {},
     "output_type": "display_data"
    },
    {
     "data": {
      "text/html": [
       "<html><script type=\"math/tex; mode=display\">\\newcommand{\\Bold}[1]{\\mathbf{#1}}{F_{1,\\left\\{1, x\\right\\}}(t)} = t {F_{y^{3},\\left\\{y^{3}\\right\\}}(t)} + 1</script></html>"
      ],
      "text/plain": [
       "v10 == t*v2 + 1"
      ]
     },
     "metadata": {},
     "output_type": "display_data"
    },
    {
     "data": {
      "text/html": [
       "<html><script type=\"math/tex; mode=display\">\\newcommand{\\Bold}[1]{\\mathbf{#1}}{F_{y^{3},\\left\\{y^{3}, y^{2}\\right\\}}(t)} = {F_{1,\\left\\{y^{3}, y^{2}\\right\\}}(t)} {F_{y^{3},\\left\\{y^{3}, 1, y^{2}\\right\\}}(t)}</script></html>"
      ],
      "text/plain": [
       "v11 == v12*v14"
      ]
     },
     "metadata": {},
     "output_type": "display_data"
    },
    {
     "data": {
      "text/html": [
       "<html><script type=\"math/tex; mode=display\">\\newcommand{\\Bold}[1]{\\mathbf{#1}}{F_{y^{2},\\left\\{y^{3}, 1, y^{2}\\right\\}}(t)} = t {F_{y,\\left\\{y^{3}, y, y^{2}\\right\\}}(t)}</script></html>"
      ],
      "text/plain": [
       "v13 == t*v15"
      ]
     },
     "metadata": {},
     "output_type": "display_data"
    },
    {
     "data": {
      "text/html": [
       "<html><script type=\"math/tex; mode=display\">\\newcommand{\\Bold}[1]{\\mathbf{#1}}{F_{1,\\left\\{y^{3}, y^{2}\\right\\}}(t)} = -\\frac{1}{{F_{1,\\left\\{y^{3}, 1, y^{2}\\right\\}}(t)} - 2}</script></html>"
      ],
      "text/plain": [
       "v12 == -1/(v16 - 2)"
      ]
     },
     "metadata": {},
     "output_type": "display_data"
    },
    {
     "data": {
      "text/html": [
       "<html><script type=\"math/tex; mode=display\">\\newcommand{\\Bold}[1]{\\mathbf{#1}}{F_{y^{3},\\left\\{y^{3}, 1, y^{2}\\right\\}}(t)} = t {F_{y^{2},\\left\\{y^{3}, y, y^{2}\\right\\}}(t)}</script></html>"
      ],
      "text/plain": [
       "v14 == t*v17"
      ]
     },
     "metadata": {},
     "output_type": "display_data"
    },
    {
     "data": {
      "text/html": [
       "<html><script type=\"math/tex; mode=display\">\\newcommand{\\Bold}[1]{\\mathbf{#1}}{F_{y,\\left\\{y^{3}, y, y^{2}\\right\\}}(t)} = {F_{1,\\left\\{y^{3}, y, y^{2}\\right\\}}(t)} {F_{y,\\left\\{y^{3}, 1, y, y^{2}\\right\\}}(t)}</script></html>"
      ],
      "text/plain": [
       "v15 == v18*v19"
      ]
     },
     "metadata": {},
     "output_type": "display_data"
    },
    {
     "data": {
      "text/html": [
       "<html><script type=\"math/tex; mode=display\">\\newcommand{\\Bold}[1]{\\mathbf{#1}}{F_{1,\\left\\{y^{3}, 1, y^{2}\\right\\}}(t)} = t {F_{y^{3},\\left\\{y^{3}, y, y^{2}\\right\\}}(t)} + t {F_{x,\\left\\{x\\right\\}}(t)} + 1</script></html>"
      ],
      "text/plain": [
       "v16 == t*v20 + t*v3 + 1"
      ]
     },
     "metadata": {},
     "output_type": "display_data"
    },
    {
     "data": {
      "text/html": [
       "<html><script type=\"math/tex; mode=display\">\\newcommand{\\Bold}[1]{\\mathbf{#1}}{F_{y^{2},\\left\\{y^{3}, y, y^{2}\\right\\}}(t)} = {F_{1,\\left\\{y^{3}, y, y^{2}\\right\\}}(t)} {F_{y^{2},\\left\\{y^{3}, 1, y, y^{2}\\right\\}}(t)}</script></html>"
      ],
      "text/plain": [
       "v17 == v18*v21"
      ]
     },
     "metadata": {},
     "output_type": "display_data"
    },
    {
     "data": {
      "text/html": [
       "<html><script type=\"math/tex; mode=display\">\\newcommand{\\Bold}[1]{\\mathbf{#1}}{F_{1,\\left\\{y^{3}, y, y^{2}\\right\\}}(t)} = -\\frac{1}{{F_{1,\\left\\{y^{3}, 1, y, y^{2}\\right\\}}(t)} - 2}</script></html>"
      ],
      "text/plain": [
       "v18 == -1/(v22 - 2)"
      ]
     },
     "metadata": {},
     "output_type": "display_data"
    },
    {
     "data": {
      "text/html": [
       "<html><script type=\"math/tex; mode=display\">\\newcommand{\\Bold}[1]{\\mathbf{#1}}{F_{y,\\left\\{y^{3}, 1, y, y^{2}\\right\\}}(t)} = t</script></html>"
      ],
      "text/plain": [
       "v19 == t"
      ]
     },
     "metadata": {},
     "output_type": "display_data"
    },
    {
     "data": {
      "text/html": [
       "<html><script type=\"math/tex; mode=display\">\\newcommand{\\Bold}[1]{\\mathbf{#1}}{F_{y^{3},\\left\\{y^{3}, y, y^{2}\\right\\}}(t)} = {F_{1,\\left\\{y^{3}, y, y^{2}\\right\\}}(t)} {F_{y^{3},\\left\\{y^{3}, 1, y, y^{2}\\right\\}}(t)}</script></html>"
      ],
      "text/plain": [
       "v20 == v18*v23"
      ]
     },
     "metadata": {},
     "output_type": "display_data"
    },
    {
     "data": {
      "text/html": [
       "<html><script type=\"math/tex; mode=display\">\\newcommand{\\Bold}[1]{\\mathbf{#1}}{F_{y^{2},\\left\\{y^{3}, 1, y, y^{2}\\right\\}}(t)} = 0</script></html>"
      ],
      "text/plain": [
       "v21 == 0"
      ]
     },
     "metadata": {},
     "output_type": "display_data"
    },
    {
     "data": {
      "text/html": [
       "<html><script type=\"math/tex; mode=display\">\\newcommand{\\Bold}[1]{\\mathbf{#1}}{F_{1,\\left\\{y^{3}, 1, y, y^{2}\\right\\}}(t)} = t {F_{x,\\left\\{x\\right\\}}(t)} + 1</script></html>"
      ],
      "text/plain": [
       "v22 == t*v3 + 1"
      ]
     },
     "metadata": {},
     "output_type": "display_data"
    },
    {
     "data": {
      "text/html": [
       "<html><script type=\"math/tex; mode=display\">\\newcommand{\\Bold}[1]{\\mathbf{#1}}{F_{y^{3},\\left\\{y^{3}, 1, y, y^{2}\\right\\}}(t)} = 0</script></html>"
      ],
      "text/plain": [
       "v23 == 0"
      ]
     },
     "metadata": {},
     "output_type": "display_data"
    }
   ],
   "source": [
    "for eqn in system:\n",
    "    pretty_print(eqn)"
   ]
  },
  {
   "cell_type": "code",
   "execution_count": 20,
   "metadata": {},
   "outputs": [
    {
     "name": "stdout",
     "output_type": "stream",
     "text": [
      "Number of iteration taken to substitute 3\n"
     ]
    }
   ],
   "source": [
    "# now make some substitutions\n",
    "\n",
    "change = 1\n",
    "numit = 0\n",
    "\n",
    "while change:\n",
    "    change = 0\n",
    "    # build a dependency graph\n",
    "    eq_by_lhs = {eq.lhs():eq for eq in system}\n",
    "    dep_gr = {eq.lhs():set(eq.rhs().args())-{t} for eq in system}\n",
    "    vars_det = [v for v,args in dep_gr.items() if not args] # the completely solved vars\n",
    "\n",
    "    rev_dep_gr = {v:set() for v in eq_by_lhs} # diagraph by reversing the arcs of dep_gr\n",
    "    for v,ag in dep_gr.items():\n",
    "        for w in ag:\n",
    "            rev_dep_gr[w].add(v)\n",
    "\n",
    "    # apply BFS to make the substitutions possible\n",
    "    vis = set(vars_det)\n",
    "    queue = list(vis)\n",
    "    done = set()\n",
    "    while queue:\n",
    "        nxtvar = queue.pop(0)\n",
    "        # check if all RHS variables are visited before\n",
    "        sub_dict = {}\n",
    "        for dps in dep_gr[nxtvar]:\n",
    "            if dps not in done:\n",
    "                continue # can't substitute, a RHS varible is not yet reduced\n",
    "            sub_dict[dps] = eq_by_lhs[dps].rhs()\n",
    "            change = 1\n",
    "        eq_by_lhs[nxtvar] = eq_by_lhs[nxtvar].subs(sub_dict)\n",
    "        eq_by_lhs[nxtvar].expand()\n",
    "        for pt in rev_dep_gr[nxtvar]:\n",
    "            if pt not in vis:\n",
    "                queue.append(pt)\n",
    "                vis.add(pt)\n",
    "        done.add(nxtvar)\n",
    "    \n",
    "    for i, eq in enumerate(system):\n",
    "        system[i] = eq_by_lhs[eq.lhs()]\n",
    "    numit+=1\n",
    "\n",
    "print('Number of iteration taken to substitute',numit)\n",
    "        \n"
   ]
  },
  {
   "cell_type": "code",
   "execution_count": 21,
   "metadata": {},
   "outputs": [
    {
     "data": {
      "text/html": [
       "<html><script type=\"math/tex; mode=display\">\\newcommand{\\Bold}[1]{\\mathbf{#1}}{F_{1,\\emptyset}(t)} = \\frac{1}{\\frac{t^{4} {F_{1,\\left\\{y^{3}, y^{2}\\right\\}}(t)} {F_{1,\\left\\{y^{3}, y, y^{2}\\right\\}}(t)}}{\\frac{t^{2}}{\\frac{t^{4} {F_{1,\\left\\{y^{3}, y^{2}\\right\\}}(t)} {F_{1,\\left\\{y^{3}, y, y^{2}\\right\\}}(t)}}{t^{2} {F_{1,\\left\\{x\\right\\}}(t)} - 1} + 1} - 1} - \\frac{t^{2}}{\\frac{t^{4} {F_{1,\\left\\{y^{3}, y^{2}\\right\\}}(t)} {F_{1,\\left\\{y^{3}, y, y^{2}\\right\\}}(t)}}{t^{2} {F_{1,\\left\\{x\\right\\}}(t)} - 1} + 1} + 1}</script></html>"
      ],
      "text/plain": [
       "v0 == (1/(t^4*v12*v18/(t^2/(t^4*v12*v18/(t^2*v6 - 1) + 1) - 1) - t^2/(t^4*v12*v18/(t^2*v6 - 1) + 1) + 1))"
      ]
     },
     "metadata": {},
     "output_type": "display_data"
    },
    {
     "data": {
      "text/html": [
       "<html><script type=\"math/tex; mode=display\">\\newcommand{\\Bold}[1]{\\mathbf{#1}}{F_{1,\\left\\{1\\right\\}}(t)} = -\\frac{t^{4} {F_{1,\\left\\{y^{3}, y^{2}\\right\\}}(t)} {F_{1,\\left\\{y^{3}, y, y^{2}\\right\\}}(t)}}{\\frac{t^{2}}{\\frac{t^{4} {F_{1,\\left\\{y^{3}, y^{2}\\right\\}}(t)} {F_{1,\\left\\{y^{3}, y, y^{2}\\right\\}}(t)}}{t^{2} {F_{1,\\left\\{x\\right\\}}(t)} - 1} + 1} - 1} + \\frac{t^{2}}{\\frac{t^{4} {F_{1,\\left\\{y^{3}, y^{2}\\right\\}}(t)} {F_{1,\\left\\{y^{3}, y, y^{2}\\right\\}}(t)}}{t^{2} {F_{1,\\left\\{x\\right\\}}(t)} - 1} + 1} + 1</script></html>"
      ],
      "text/plain": [
       "v1 == -t^4*v12*v18/(t^2/(t^4*v12*v18/(t^2*v6 - 1) + 1) - 1) + t^2/(t^4*v12*v18/(t^2*v6 - 1) + 1) + 1"
      ]
     },
     "metadata": {},
     "output_type": "display_data"
    },
    {
     "data": {
      "text/html": [
       "<html><script type=\"math/tex; mode=display\">\\newcommand{\\Bold}[1]{\\mathbf{#1}}{F_{y^{3},\\left\\{y^{3}\\right\\}}(t)} = -\\frac{t^{3} {F_{1,\\left\\{y^{3}, y^{2}\\right\\}}(t)} {F_{1,\\left\\{y^{3}, y, y^{2}\\right\\}}(t)}}{\\frac{t^{2}}{\\frac{t^{4} {F_{1,\\left\\{y^{3}, y^{2}\\right\\}}(t)} {F_{1,\\left\\{y^{3}, y, y^{2}\\right\\}}(t)}}{t^{2} {F_{1,\\left\\{x\\right\\}}(t)} - 1} + 1} - 1}</script></html>"
      ],
      "text/plain": [
       "v2 == -t^3*v12*v18/(t^2/(t^4*v12*v18/(t^2*v6 - 1) + 1) - 1)"
      ]
     },
     "metadata": {},
     "output_type": "display_data"
    },
    {
     "data": {
      "text/html": [
       "<html><script type=\"math/tex; mode=display\">\\newcommand{\\Bold}[1]{\\mathbf{#1}}{F_{x,\\left\\{x\\right\\}}(t)} = \\frac{t}{\\frac{t^{4} {F_{1,\\left\\{y^{3}, y^{2}\\right\\}}(t)} {F_{1,\\left\\{y^{3}, y, y^{2}\\right\\}}(t)}}{t^{2} {F_{1,\\left\\{x\\right\\}}(t)} - 1} + 1}</script></html>"
      ],
      "text/plain": [
       "v3 == t/(t^4*v12*v18/(t^2*v6 - 1) + 1)"
      ]
     },
     "metadata": {},
     "output_type": "display_data"
    },
    {
     "data": {
      "text/html": [
       "<html><script type=\"math/tex; mode=display\">\\newcommand{\\Bold}[1]{\\mathbf{#1}}{F_{1,\\left\\{y^{3}\\right\\}}(t)} = -\\frac{1}{\\frac{t^{2}}{\\frac{t^{4} {F_{1,\\left\\{y^{3}, y^{2}\\right\\}}(t)} {F_{1,\\left\\{y^{3}, y, y^{2}\\right\\}}(t)}}{t^{2} {F_{1,\\left\\{x\\right\\}}(t)} - 1} + 1} - 1}</script></html>"
      ],
      "text/plain": [
       "v4 == -1/(t^2/(t^4*v12*v18/(t^2*v6 - 1) + 1) - 1)"
      ]
     },
     "metadata": {},
     "output_type": "display_data"
    },
    {
     "data": {
      "text/html": [
       "<html><script type=\"math/tex; mode=display\">\\newcommand{\\Bold}[1]{\\mathbf{#1}}{F_{y^{3},\\left\\{y^{3}, 1\\right\\}}(t)} = \\frac{t^{3}}{{\\left(\\frac{t^{2}}{\\frac{t^{4} {F_{1,\\left\\{y^{3}, y^{2}\\right\\}}(t)} {F_{1,\\left\\{y^{3}, y, y^{2}\\right\\}}(t)}}{t^{2} {F_{1,\\left\\{x\\right\\}}(t)} - 1} + 1} - 1\\right)}^{2}}</script></html>"
      ],
      "text/plain": [
       "v5 == t^3/(t^2/(t^4*v12*v18/(t^2*v6 - 1) + 1) - 1)^2"
      ]
     },
     "metadata": {},
     "output_type": "display_data"
    },
    {
     "data": {
      "text/html": [
       "<html><script type=\"math/tex; mode=display\">\\newcommand{\\Bold}[1]{\\mathbf{#1}}{F_{1,\\left\\{x\\right\\}}(t)} = \\frac{1}{\\frac{t^{4} {F_{1,\\left\\{y^{3}, y^{2}\\right\\}}(t)} {F_{1,\\left\\{y^{3}, y, y^{2}\\right\\}}(t)}}{t^{2} {F_{1,\\left\\{x\\right\\}}(t)} - 1} + 1}</script></html>"
      ],
      "text/plain": [
       "v6 == (1/(t^4*v12*v18/(t^2*v6 - 1) + 1))"
      ]
     },
     "metadata": {},
     "output_type": "display_data"
    },
    {
     "data": {
      "text/html": [
       "<html><script type=\"math/tex; mode=display\">\\newcommand{\\Bold}[1]{\\mathbf{#1}}{F_{x,\\left\\{1, x\\right\\}}(t)} = t</script></html>"
      ],
      "text/plain": [
       "v7 == t"
      ]
     },
     "metadata": {},
     "output_type": "display_data"
    },
    {
     "data": {
      "text/html": [
       "<html><script type=\"math/tex; mode=display\">\\newcommand{\\Bold}[1]{\\mathbf{#1}}{F_{1,\\left\\{y^{3}, 1\\right\\}}(t)} = \\frac{t^{2}}{\\frac{t^{4} {F_{1,\\left\\{y^{3}, y^{2}\\right\\}}(t)} {F_{1,\\left\\{y^{3}, y, y^{2}\\right\\}}(t)}}{t^{2} {F_{1,\\left\\{x\\right\\}}(t)} - 1} + 1} + 1</script></html>"
      ],
      "text/plain": [
       "v8 == t^2/(t^4*v12*v18/(t^2*v6 - 1) + 1) + 1"
      ]
     },
     "metadata": {},
     "output_type": "display_data"
    },
    {
     "data": {
      "text/html": [
       "<html><script type=\"math/tex; mode=display\">\\newcommand{\\Bold}[1]{\\mathbf{#1}}{F_{y^{2},\\left\\{y^{3}, y^{2}\\right\\}}(t)} = \\frac{t^{2}}{{\\left(\\frac{t^{2}}{\\frac{t^{4} {F_{1,\\left\\{y^{3}, y^{2}\\right\\}}(t)} {F_{1,\\left\\{y^{3}, y, y^{2}\\right\\}}(t)}}{t^{2} {F_{1,\\left\\{x\\right\\}}(t)} - 1} + 1} - 1\\right)}^{2}}</script></html>"
      ],
      "text/plain": [
       "v9 == t^2/(t^2/(t^4*v12*v18/(t^2*v6 - 1) + 1) - 1)^2"
      ]
     },
     "metadata": {},
     "output_type": "display_data"
    },
    {
     "data": {
      "text/html": [
       "<html><script type=\"math/tex; mode=display\">\\newcommand{\\Bold}[1]{\\mathbf{#1}}{F_{1,\\left\\{1, x\\right\\}}(t)} = -\\frac{t^{4} {F_{1,\\left\\{y^{3}, y^{2}\\right\\}}(t)} {F_{1,\\left\\{y^{3}, y, y^{2}\\right\\}}(t)}}{\\frac{t^{2}}{\\frac{t^{4} {F_{1,\\left\\{y^{3}, y^{2}\\right\\}}(t)} {F_{1,\\left\\{y^{3}, y, y^{2}\\right\\}}(t)}}{t^{2} {F_{1,\\left\\{x\\right\\}}(t)} - 1} + 1} - 1} + 1</script></html>"
      ],
      "text/plain": [
       "v10 == -t^4*v12*v18/(t^2/(t^4*v12*v18/(t^2*v6 - 1) + 1) - 1) + 1"
      ]
     },
     "metadata": {},
     "output_type": "display_data"
    },
    {
     "data": {
      "text/html": [
       "<html><script type=\"math/tex; mode=display\">\\newcommand{\\Bold}[1]{\\mathbf{#1}}{F_{y^{3},\\left\\{y^{3}, y^{2}\\right\\}}(t)} = 0</script></html>"
      ],
      "text/plain": [
       "v11 == 0"
      ]
     },
     "metadata": {},
     "output_type": "display_data"
    },
    {
     "data": {
      "text/html": [
       "<html><script type=\"math/tex; mode=display\">\\newcommand{\\Bold}[1]{\\mathbf{#1}}{F_{y^{2},\\left\\{y^{3}, 1, y^{2}\\right\\}}(t)} = -\\frac{t^{2}}{\\frac{t^{2}}{\\frac{t^{4} {F_{1,\\left\\{y^{3}, y^{2}\\right\\}}(t)} {F_{1,\\left\\{y^{3}, y, y^{2}\\right\\}}(t)}}{t^{2} {F_{1,\\left\\{x\\right\\}}(t)} - 1} + 1} - 1}</script></html>"
      ],
      "text/plain": [
       "v13 == -t^2/(t^2/(t^4*v12*v18/(t^2*v6 - 1) + 1) - 1)"
      ]
     },
     "metadata": {},
     "output_type": "display_data"
    },
    {
     "data": {
      "text/html": [
       "<html><script type=\"math/tex; mode=display\">\\newcommand{\\Bold}[1]{\\mathbf{#1}}{F_{1,\\left\\{y^{3}, y^{2}\\right\\}}(t)} = -\\frac{1}{\\frac{t^{2}}{\\frac{t^{4} {F_{1,\\left\\{y^{3}, y^{2}\\right\\}}(t)} {F_{1,\\left\\{y^{3}, y, y^{2}\\right\\}}(t)}}{t^{2} {F_{1,\\left\\{x\\right\\}}(t)} - 1} + 1} - 1}</script></html>"
      ],
      "text/plain": [
       "v12 == -1/(t^2/(t^4*v12*v18/(t^2*v6 - 1) + 1) - 1)"
      ]
     },
     "metadata": {},
     "output_type": "display_data"
    },
    {
     "data": {
      "text/html": [
       "<html><script type=\"math/tex; mode=display\">\\newcommand{\\Bold}[1]{\\mathbf{#1}}{F_{y^{3},\\left\\{y^{3}, 1, y^{2}\\right\\}}(t)} = 0</script></html>"
      ],
      "text/plain": [
       "v14 == 0"
      ]
     },
     "metadata": {},
     "output_type": "display_data"
    },
    {
     "data": {
      "text/html": [
       "<html><script type=\"math/tex; mode=display\">\\newcommand{\\Bold}[1]{\\mathbf{#1}}{F_{y,\\left\\{y^{3}, y, y^{2}\\right\\}}(t)} = -\\frac{t}{\\frac{t^{2}}{\\frac{t^{4} {F_{1,\\left\\{y^{3}, y^{2}\\right\\}}(t)} {F_{1,\\left\\{y^{3}, y, y^{2}\\right\\}}(t)}}{t^{2} {F_{1,\\left\\{x\\right\\}}(t)} - 1} + 1} - 1}</script></html>"
      ],
      "text/plain": [
       "v15 == -t/(t^2/(t^4*v12*v18/(t^2*v6 - 1) + 1) - 1)"
      ]
     },
     "metadata": {},
     "output_type": "display_data"
    },
    {
     "data": {
      "text/html": [
       "<html><script type=\"math/tex; mode=display\">\\newcommand{\\Bold}[1]{\\mathbf{#1}}{F_{1,\\left\\{y^{3}, 1, y^{2}\\right\\}}(t)} = \\frac{t^{2}}{\\frac{t^{4} {F_{1,\\left\\{y^{3}, y^{2}\\right\\}}(t)} {F_{1,\\left\\{y^{3}, y, y^{2}\\right\\}}(t)}}{t^{2} {F_{1,\\left\\{x\\right\\}}(t)} - 1} + 1} + 1</script></html>"
      ],
      "text/plain": [
       "v16 == t^2/(t^4*v12*v18/(t^2*v6 - 1) + 1) + 1"
      ]
     },
     "metadata": {},
     "output_type": "display_data"
    },
    {
     "data": {
      "text/html": [
       "<html><script type=\"math/tex; mode=display\">\\newcommand{\\Bold}[1]{\\mathbf{#1}}{F_{y^{2},\\left\\{y^{3}, y, y^{2}\\right\\}}(t)} = 0</script></html>"
      ],
      "text/plain": [
       "v17 == 0"
      ]
     },
     "metadata": {},
     "output_type": "display_data"
    },
    {
     "data": {
      "text/html": [
       "<html><script type=\"math/tex; mode=display\">\\newcommand{\\Bold}[1]{\\mathbf{#1}}{F_{1,\\left\\{y^{3}, y, y^{2}\\right\\}}(t)} = -\\frac{1}{\\frac{t^{2}}{\\frac{t^{4} {F_{1,\\left\\{y^{3}, y^{2}\\right\\}}(t)} {F_{1,\\left\\{y^{3}, y, y^{2}\\right\\}}(t)}}{t^{2} {F_{1,\\left\\{x\\right\\}}(t)} - 1} + 1} - 1}</script></html>"
      ],
      "text/plain": [
       "v18 == -1/(t^2/(t^4*v12*v18/(t^2*v6 - 1) + 1) - 1)"
      ]
     },
     "metadata": {},
     "output_type": "display_data"
    },
    {
     "data": {
      "text/html": [
       "<html><script type=\"math/tex; mode=display\">\\newcommand{\\Bold}[1]{\\mathbf{#1}}{F_{y,\\left\\{y^{3}, 1, y, y^{2}\\right\\}}(t)} = t</script></html>"
      ],
      "text/plain": [
       "v19 == t"
      ]
     },
     "metadata": {},
     "output_type": "display_data"
    },
    {
     "data": {
      "text/html": [
       "<html><script type=\"math/tex; mode=display\">\\newcommand{\\Bold}[1]{\\mathbf{#1}}{F_{y^{3},\\left\\{y^{3}, y, y^{2}\\right\\}}(t)} = 0</script></html>"
      ],
      "text/plain": [
       "v20 == 0"
      ]
     },
     "metadata": {},
     "output_type": "display_data"
    },
    {
     "data": {
      "text/html": [
       "<html><script type=\"math/tex; mode=display\">\\newcommand{\\Bold}[1]{\\mathbf{#1}}{F_{y^{2},\\left\\{y^{3}, 1, y, y^{2}\\right\\}}(t)} = 0</script></html>"
      ],
      "text/plain": [
       "v21 == 0"
      ]
     },
     "metadata": {},
     "output_type": "display_data"
    },
    {
     "data": {
      "text/html": [
       "<html><script type=\"math/tex; mode=display\">\\newcommand{\\Bold}[1]{\\mathbf{#1}}{F_{1,\\left\\{y^{3}, 1, y, y^{2}\\right\\}}(t)} = \\frac{t^{2}}{\\frac{t^{4} {F_{1,\\left\\{y^{3}, y^{2}\\right\\}}(t)} {F_{1,\\left\\{y^{3}, y, y^{2}\\right\\}}(t)}}{t^{2} {F_{1,\\left\\{x\\right\\}}(t)} - 1} + 1} + 1</script></html>"
      ],
      "text/plain": [
       "v22 == t^2/(t^4*v12*v18/(t^2*v6 - 1) + 1) + 1"
      ]
     },
     "metadata": {},
     "output_type": "display_data"
    },
    {
     "data": {
      "text/html": [
       "<html><script type=\"math/tex; mode=display\">\\newcommand{\\Bold}[1]{\\mathbf{#1}}{F_{y^{3},\\left\\{y^{3}, 1, y, y^{2}\\right\\}}(t)} = 0</script></html>"
      ],
      "text/plain": [
       "v23 == 0"
      ]
     },
     "metadata": {},
     "output_type": "display_data"
    }
   ],
   "source": [
    "for eq in eq_by_lhs.values():\n",
    "    pretty_print(eq)"
   ]
  },
  {
   "cell_type": "code",
   "execution_count": 22,
   "metadata": {},
   "outputs": [],
   "source": [
    "# get rid of every irrelevant variable\n",
    "start = var_space[goal_pair]\n",
    "eq_by_lhs = {eq.lhs():eq for eq in system}\n",
    "dep_gr = {eq.lhs():set(eq.rhs().args())-{t} for eq in system}\n",
    "\n",
    "comp_set = {start}\n",
    "comp = [start]\n",
    "ind = 0\n",
    "while ind<len(comp):\n",
    "    for v in dep_gr[comp[ind]]:\n",
    "        if v not in comp_set:\n",
    "            comp.append(v)\n",
    "            comp_set.add(v)\n",
    "    ind += 1\n",
    "\n",
    "system = [eq for eq in system if eq.lhs() in comp_set]"
   ]
  },
  {
   "cell_type": "code",
   "execution_count": 23,
   "metadata": {},
   "outputs": [
    {
     "data": {
      "text/html": [
       "<html><script type=\"math/tex; mode=display\">\\newcommand{\\Bold}[1]{\\mathbf{#1}}\\left[{F_{1,\\emptyset}(t)}, {F_{1,\\left\\{x\\right\\}}(t)}, {F_{1,\\left\\{y^{3}, y^{2}\\right\\}}(t)}, {F_{1,\\left\\{y^{3}, y, y^{2}\\right\\}}(t)}\\right]</script></html>"
      ],
      "text/plain": [
       "[v0, v6, v12, v18]"
      ]
     },
     "metadata": {},
     "output_type": "display_data"
    },
    {
     "name": "stdout",
     "output_type": "stream",
     "text": [
      "v0 == (1/(t^4*v12*v18/(t^2/(t^4*v12*v18/(t^2*v6 - 1) + 1) - 1) - t^2/(t^4*v12*v18/(t^2*v6 - 1) + 1) + 1))\n"
     ]
    },
    {
     "data": {
      "text/html": [
       "<html><script type=\"math/tex; mode=display\">\\newcommand{\\Bold}[1]{\\mathbf{#1}}{F_{1,\\emptyset}(t)} = \\frac{1}{\\frac{t^{4} {F_{1,\\left\\{y^{3}, y^{2}\\right\\}}(t)} {F_{1,\\left\\{y^{3}, y, y^{2}\\right\\}}(t)}}{\\frac{t^{2}}{\\frac{t^{4} {F_{1,\\left\\{y^{3}, y^{2}\\right\\}}(t)} {F_{1,\\left\\{y^{3}, y, y^{2}\\right\\}}(t)}}{t^{2} {F_{1,\\left\\{x\\right\\}}(t)} - 1} + 1} - 1} - \\frac{t^{2}}{\\frac{t^{4} {F_{1,\\left\\{y^{3}, y^{2}\\right\\}}(t)} {F_{1,\\left\\{y^{3}, y, y^{2}\\right\\}}(t)}}{t^{2} {F_{1,\\left\\{x\\right\\}}(t)} - 1} + 1} + 1}</script></html>"
      ],
      "text/plain": [
       "v0 == (1/(t^4*v12*v18/(t^2/(t^4*v12*v18/(t^2*v6 - 1) + 1) - 1) - t^2/(t^4*v12*v18/(t^2*v6 - 1) + 1) + 1))"
      ]
     },
     "metadata": {},
     "output_type": "display_data"
    },
    {
     "name": "stdout",
     "output_type": "stream",
     "text": [
      "v6 == (1/(t^4*v12*v18/(t^2*v6 - 1) + 1))\n"
     ]
    },
    {
     "data": {
      "text/html": [
       "<html><script type=\"math/tex; mode=display\">\\newcommand{\\Bold}[1]{\\mathbf{#1}}{F_{1,\\left\\{x\\right\\}}(t)} = \\frac{1}{\\frac{t^{4} {F_{1,\\left\\{y^{3}, y^{2}\\right\\}}(t)} {F_{1,\\left\\{y^{3}, y, y^{2}\\right\\}}(t)}}{t^{2} {F_{1,\\left\\{x\\right\\}}(t)} - 1} + 1}</script></html>"
      ],
      "text/plain": [
       "v6 == (1/(t^4*v12*v18/(t^2*v6 - 1) + 1))"
      ]
     },
     "metadata": {},
     "output_type": "display_data"
    },
    {
     "name": "stdout",
     "output_type": "stream",
     "text": [
      "v12 == -1/(t^2/(t^4*v12*v18/(t^2*v6 - 1) + 1) - 1)\n"
     ]
    },
    {
     "data": {
      "text/html": [
       "<html><script type=\"math/tex; mode=display\">\\newcommand{\\Bold}[1]{\\mathbf{#1}}{F_{1,\\left\\{y^{3}, y^{2}\\right\\}}(t)} = -\\frac{1}{\\frac{t^{2}}{\\frac{t^{4} {F_{1,\\left\\{y^{3}, y^{2}\\right\\}}(t)} {F_{1,\\left\\{y^{3}, y, y^{2}\\right\\}}(t)}}{t^{2} {F_{1,\\left\\{x\\right\\}}(t)} - 1} + 1} - 1}</script></html>"
      ],
      "text/plain": [
       "v12 == -1/(t^2/(t^4*v12*v18/(t^2*v6 - 1) + 1) - 1)"
      ]
     },
     "metadata": {},
     "output_type": "display_data"
    },
    {
     "name": "stdout",
     "output_type": "stream",
     "text": [
      "v18 == -1/(t^2/(t^4*v12*v18/(t^2*v6 - 1) + 1) - 1)\n"
     ]
    },
    {
     "data": {
      "text/html": [
       "<html><script type=\"math/tex; mode=display\">\\newcommand{\\Bold}[1]{\\mathbf{#1}}{F_{1,\\left\\{y^{3}, y, y^{2}\\right\\}}(t)} = -\\frac{1}{\\frac{t^{2}}{\\frac{t^{4} {F_{1,\\left\\{y^{3}, y^{2}\\right\\}}(t)} {F_{1,\\left\\{y^{3}, y, y^{2}\\right\\}}(t)}}{t^{2} {F_{1,\\left\\{x\\right\\}}(t)} - 1} + 1} - 1}</script></html>"
      ],
      "text/plain": [
       "v18 == -1/(t^2/(t^4*v12*v18/(t^2*v6 - 1) + 1) - 1)"
      ]
     },
     "metadata": {},
     "output_type": "display_data"
    }
   ],
   "source": [
    "pretty_print(comp)\n",
    "for eq in system:\n",
    "    print(eq)\n",
    "    pretty_print(eq)"
   ]
  },
  {
   "cell_type": "code",
   "execution_count": null,
   "metadata": {},
   "outputs": [],
   "source": [
    "# make every equation eplicit. delete loops\n",
    "# maybe not a good idea due to the posssible interference of radicals\n",
    "\n",
    "# for i, eqn in enumerate(system):\n",
    "#     system[i] = solve(eqn,eqn.lhs())[0]"
   ]
  },
  {
   "cell_type": "code",
   "execution_count": 24,
   "metadata": {},
   "outputs": [
    {
     "name": "stdout",
     "output_type": "stream",
     "text": [
      "v0 == (1/(t^4*v12*v18/(t^2/(t^4*v12*v18/(t^2*v6 - 1) + 1) - 1) - t^2/(t^4*v12*v18/(t^2*v6 - 1) + 1) + 1))\n"
     ]
    },
    {
     "data": {
      "text/html": [
       "<html><script type=\"math/tex; mode=display\">\\newcommand{\\Bold}[1]{\\mathbf{#1}}{F_{1,\\emptyset}(t)} = \\frac{1}{\\frac{t^{4} {F_{1,\\left\\{y^{3}, y^{2}\\right\\}}(t)} {F_{1,\\left\\{y^{3}, y, y^{2}\\right\\}}(t)}}{\\frac{t^{2}}{\\frac{t^{4} {F_{1,\\left\\{y^{3}, y^{2}\\right\\}}(t)} {F_{1,\\left\\{y^{3}, y, y^{2}\\right\\}}(t)}}{t^{2} {F_{1,\\left\\{x\\right\\}}(t)} - 1} + 1} - 1} - \\frac{t^{2}}{\\frac{t^{4} {F_{1,\\left\\{y^{3}, y^{2}\\right\\}}(t)} {F_{1,\\left\\{y^{3}, y, y^{2}\\right\\}}(t)}}{t^{2} {F_{1,\\left\\{x\\right\\}}(t)} - 1} + 1} + 1}</script></html>"
      ],
      "text/plain": [
       "v0 == (1/(t^4*v12*v18/(t^2/(t^4*v12*v18/(t^2*v6 - 1) + 1) - 1) - t^2/(t^4*v12*v18/(t^2*v6 - 1) + 1) + 1))"
      ]
     },
     "metadata": {},
     "output_type": "display_data"
    },
    {
     "name": "stdout",
     "output_type": "stream",
     "text": [
      "v6 == (1/(t^4*v12*v18/(t^2*v6 - 1) + 1))\n"
     ]
    },
    {
     "data": {
      "text/html": [
       "<html><script type=\"math/tex; mode=display\">\\newcommand{\\Bold}[1]{\\mathbf{#1}}{F_{1,\\left\\{x\\right\\}}(t)} = \\frac{1}{\\frac{t^{4} {F_{1,\\left\\{y^{3}, y^{2}\\right\\}}(t)} {F_{1,\\left\\{y^{3}, y, y^{2}\\right\\}}(t)}}{t^{2} {F_{1,\\left\\{x\\right\\}}(t)} - 1} + 1}</script></html>"
      ],
      "text/plain": [
       "v6 == (1/(t^4*v12*v18/(t^2*v6 - 1) + 1))"
      ]
     },
     "metadata": {},
     "output_type": "display_data"
    },
    {
     "name": "stdout",
     "output_type": "stream",
     "text": [
      "v12 == -1/(t^2/(t^4*v12*v18/(t^2*v6 - 1) + 1) - 1)\n"
     ]
    },
    {
     "data": {
      "text/html": [
       "<html><script type=\"math/tex; mode=display\">\\newcommand{\\Bold}[1]{\\mathbf{#1}}{F_{1,\\left\\{y^{3}, y^{2}\\right\\}}(t)} = -\\frac{1}{\\frac{t^{2}}{\\frac{t^{4} {F_{1,\\left\\{y^{3}, y^{2}\\right\\}}(t)} {F_{1,\\left\\{y^{3}, y, y^{2}\\right\\}}(t)}}{t^{2} {F_{1,\\left\\{x\\right\\}}(t)} - 1} + 1} - 1}</script></html>"
      ],
      "text/plain": [
       "v12 == -1/(t^2/(t^4*v12*v18/(t^2*v6 - 1) + 1) - 1)"
      ]
     },
     "metadata": {},
     "output_type": "display_data"
    },
    {
     "name": "stdout",
     "output_type": "stream",
     "text": [
      "v18 == -1/(t^2/(t^4*v12*v18/(t^2*v6 - 1) + 1) - 1)\n"
     ]
    },
    {
     "data": {
      "text/html": [
       "<html><script type=\"math/tex; mode=display\">\\newcommand{\\Bold}[1]{\\mathbf{#1}}{F_{1,\\left\\{y^{3}, y, y^{2}\\right\\}}(t)} = -\\frac{1}{\\frac{t^{2}}{\\frac{t^{4} {F_{1,\\left\\{y^{3}, y^{2}\\right\\}}(t)} {F_{1,\\left\\{y^{3}, y, y^{2}\\right\\}}(t)}}{t^{2} {F_{1,\\left\\{x\\right\\}}(t)} - 1} + 1} - 1}</script></html>"
      ],
      "text/plain": [
       "v18 == -1/(t^2/(t^4*v12*v18/(t^2*v6 - 1) + 1) - 1)"
      ]
     },
     "metadata": {},
     "output_type": "display_data"
    }
   ],
   "source": [
    "for eq in system:\n",
    "    print(eq)\n",
    "    pretty_print(eq)"
   ]
  },
  {
   "cell_type": "code",
   "execution_count": 25,
   "metadata": {},
   "outputs": [
    {
     "data": {
      "text/plain": [
       "[v18, v12, v6]"
      ]
     },
     "execution_count": 25,
     "metadata": {},
     "output_type": "execute_result"
    }
   ],
   "source": [
    "# order the component based on the shortest distance from the start in decreasing order\n",
    "# BFS already put them in increasing order\n",
    "comp.reverse()\n",
    "comp.pop(); # get rid of start; the only variable we don't want to eliminate\n",
    "comp"
   ]
  },
  {
   "cell_type": "code",
   "execution_count": 26,
   "metadata": {},
   "outputs": [],
   "source": [
    "def eliminate(system,xs, show_steps = False, fully_simplify=False, quit_at_zero= False):\n",
    "    if show_steps:\n",
    "        sols = []\n",
    "        for x in xs:\n",
    "            sols.append((x, eliminate(system,[x], fully_simplify=fully_simplify)))\n",
    "            system = sols[-1][1]\n",
    "            if quit_at_zero and system == [0]*len(system):\n",
    "                return sols\n",
    "        return sols\n",
    "    sols = maxima.eliminate(system,xs)\n",
    "    func = lambda ex: ex.simplify_full() if fully_simplify else ex\n",
    "    return [func(expr.sage()) for expr in sols]"
   ]
  },
  {
   "cell_type": "code",
   "execution_count": 27,
   "metadata": {},
   "outputs": [],
   "source": [
    "# Expression involving t and F(t) to set = 0\n",
    "\n",
    "impl_solset = []\n",
    "steps = eliminate(system, comp, True, quit_at_zero=True)\n",
    "if steps and steps[-1][-1]==[0]*len(steps[-1][-1]):\n",
    "    steps.pop()\n",
    "if steps:\n",
    "    impl_solset = steps[-1][-1]\n",
    "\n",
    "\n",
    "'''\n",
    "possible_impl_solns = []\n",
    "for comp_perm in Permutations(comp):\n",
    "    comp_perm = list(comp_perm)\n",
    "    print(comp_perm,type(comp_perm))\n",
    "    possible_impl_solns_perm = eliminate(system, comp_perm)\n",
    "    possible_impl_solns.extend(possible_impl_solns_perm)\n",
    "    for impl_soln in possible_impl_solns_perm:\n",
    "        pretty_print(impl_soln)\n",
    "        if impl_soln!=0:\n",
    "            break # found an actual solution\n",
    "    else:\n",
    "        continue\n",
    "    break\n",
    "''';"
   ]
  },
  {
   "cell_type": "code",
   "execution_count": 28,
   "metadata": {},
   "outputs": [
    {
     "name": "stdout",
     "output_type": "stream",
     "text": [
      "3\n"
     ]
    },
    {
     "data": {
      "text/html": [
       "<html><script type=\"math/tex; mode=display\">\\newcommand{\\Bold}[1]{\\mathbf{#1}}-{\\left(t^{12} {F_{1,\\emptyset}(t)}^{2} {F_{1,\\left\\{y^{3}, y^{2}\\right\\}}(t)}^{3} + {\\left(t^{14} {F_{1,\\emptyset}(t)}^{2} {F_{1,\\left\\{y^{3}, y^{2}\\right\\}}(t)} + {\\left(t^{16} - 3 \\, t^{14} + 3 \\, t^{12} - t^{10}\\right)} {F_{1,\\emptyset}(t)}^{2} + {\\left(t^{14} - 2 \\, t^{12} + t^{10}\\right)} {F_{1,\\emptyset}(t)}\\right)} {F_{1,\\left\\{x\\right\\}}(t)}^{5} - {\\left(3 \\, t^{10} + t^{8}\\right)} {F_{1,\\emptyset}(t)}^{2} {F_{1,\\left\\{y^{3}, y^{2}\\right\\}}(t)}^{2} - {\\left(5 \\, {\\left(t^{14} - 3 \\, t^{12} + 3 \\, t^{10} - t^{8}\\right)} {F_{1,\\emptyset}(t)}^{2} + 5 \\, {\\left(t^{12} - 2 \\, t^{10} + t^{8}\\right)} {F_{1,\\emptyset}(t)} - {\\left(2 \\, t^{14} {F_{1,\\emptyset}(t)} + {\\left(3 \\, t^{16} - 3 \\, t^{14} - 5 \\, t^{12}\\right)} {F_{1,\\emptyset}(t)}^{2}\\right)} {F_{1,\\left\\{y^{3}, y^{2}\\right\\}}(t)}\\right)} {F_{1,\\left\\{x\\right\\}}(t)}^{4} + {\\left(10 \\, {\\left(t^{12} - 3 \\, t^{10} + 3 \\, t^{8} - t^{6}\\right)} {F_{1,\\emptyset}(t)}^{2} + {\\left(3 \\, t^{16} {F_{1,\\emptyset}(t)}^{2} + t^{14} {F_{1,\\emptyset}(t)}\\right)} {F_{1,\\left\\{y^{3}, y^{2}\\right\\}}(t)}^{2} + 10 \\, {\\left(t^{10} - 2 \\, t^{8} + t^{6}\\right)} {F_{1,\\emptyset}(t)} + {\\left(t^{10} - 2 \\, {\\left(6 \\, t^{14} - 6 \\, t^{12} - 5 \\, t^{10}\\right)} {F_{1,\\emptyset}(t)}^{2} - {\\left(7 \\, t^{12} + t^{10}\\right)} {F_{1,\\emptyset}(t)}\\right)} {F_{1,\\left\\{y^{3}, y^{2}\\right\\}}(t)}\\right)} {F_{1,\\left\\{x\\right\\}}(t)}^{3} - {\\left(t^{6} - 3 \\, t^{4} + 3 \\, t^{2} - 1\\right)} {F_{1,\\emptyset}(t)}^{2} + {\\left(t^{16} {F_{1,\\emptyset}(t)}^{2} {F_{1,\\left\\{y^{3}, y^{2}\\right\\}}(t)}^{3} - 10 \\, {\\left(t^{10} - 3 \\, t^{8} + 3 \\, t^{6} - t^{4}\\right)} {F_{1,\\emptyset}(t)}^{2} - {\\left(2 \\, t^{12} {F_{1,\\emptyset}(t)} + {\\left(9 \\, t^{14} + t^{12}\\right)} {F_{1,\\emptyset}(t)}^{2}\\right)} {F_{1,\\left\\{y^{3}, y^{2}\\right\\}}(t)}^{2} - 10 \\, {\\left(t^{8} - 2 \\, t^{6} + t^{4}\\right)} {F_{1,\\emptyset}(t)} - {\\left(3 \\, t^{8} - 2 \\, {\\left(9 \\, t^{12} - 9 \\, t^{10} - 5 \\, t^{8}\\right)} {F_{1,\\emptyset}(t)}^{2} - 3 \\, {\\left(3 \\, t^{10} + t^{8}\\right)} {F_{1,\\emptyset}(t)}\\right)} {F_{1,\\left\\{y^{3}, y^{2}\\right\\}}(t)}\\right)} {F_{1,\\left\\{x\\right\\}}(t)}^{2} - {\\left(t^{4} - 2 \\, t^{2} + 1\\right)} {F_{1,\\emptyset}(t)} - {\\left(t^{4} - {\\left(3 \\, t^{8} - 3 \\, t^{6} - t^{4}\\right)} {F_{1,\\emptyset}(t)}^{2} - {\\left(t^{6} + t^{4}\\right)} {F_{1,\\emptyset}(t)}\\right)} {F_{1,\\left\\{y^{3}, y^{2}\\right\\}}(t)} - {\\left(2 \\, t^{14} {F_{1,\\emptyset}(t)}^{2} {F_{1,\\left\\{y^{3}, y^{2}\\right\\}}(t)}^{3} - 5 \\, {\\left(t^{8} - 3 \\, t^{6} + 3 \\, t^{4} - t^{2}\\right)} {F_{1,\\emptyset}(t)}^{2} - {\\left(t^{10} {F_{1,\\emptyset}(t)} + {\\left(9 \\, t^{12} + 2 \\, t^{10}\\right)} {F_{1,\\emptyset}(t)}^{2}\\right)} {F_{1,\\left\\{y^{3}, y^{2}\\right\\}}(t)}^{2} - 5 \\, {\\left(t^{6} - 2 \\, t^{4} + t^{2}\\right)} {F_{1,\\emptyset}(t)} - {\\left(3 \\, t^{6} - {\\left(12 \\, t^{10} - 12 \\, t^{8} - 5 \\, t^{6}\\right)} {F_{1,\\emptyset}(t)}^{2} - {\\left(5 \\, t^{8} + 3 \\, t^{6}\\right)} {F_{1,\\emptyset}(t)}\\right)} {F_{1,\\left\\{y^{3}, y^{2}\\right\\}}(t)}\\right)} {F_{1,\\left\\{x\\right\\}}(t)}\\right)} t^{16} {F_{1,\\left\\{y^{3}, y^{2}\\right\\}}(t)}^{3}</script></html>"
      ],
      "text/plain": [
       "-(t^12*v0^2*v12^3 + (t^14*v0^2*v12 + (t^16 - 3*t^14 + 3*t^12 - t^10)*v0^2 + (t^14 - 2*t^12 + t^10)*v0)*v6^5 - (3*t^10 + t^8)*v0^2*v12^2 - (5*(t^14 - 3*t^12 + 3*t^10 - t^8)*v0^2 + 5*(t^12 - 2*t^10 + t^8)*v0 - (2*t^14*v0 + (3*t^16 - 3*t^14 - 5*t^12)*v0^2)*v12)*v6^4 + (10*(t^12 - 3*t^10 + 3*t^8 - t^6)*v0^2 + (3*t^16*v0^2 + t^14*v0)*v12^2 + 10*(t^10 - 2*t^8 + t^6)*v0 + (t^10 - 2*(6*t^14 - 6*t^12 - 5*t^10)*v0^2 - (7*t^12 + t^10)*v0)*v12)*v6^3 - (t^6 - 3*t^4 + 3*t^2 - 1)*v0^2 + (t^16*v0^2*v12^3 - 10*(t^10 - 3*t^8 + 3*t^6 - t^4)*v0^2 - (2*t^12*v0 + (9*t^14 + t^12)*v0^2)*v12^2 - 10*(t^8 - 2*t^6 + t^4)*v0 - (3*t^8 - 2*(9*t^12 - 9*t^10 - 5*t^8)*v0^2 - 3*(3*t^10 + t^8)*v0)*v12)*v6^2 - (t^4 - 2*t^2 + 1)*v0 - (t^4 - (3*t^8 - 3*t^6 - t^4)*v0^2 - (t^6 + t^4)*v0)*v12 - (2*t^14*v0^2*v12^3 - 5*(t^8 - 3*t^6 + 3*t^4 - t^2)*v0^2 - (t^10*v0 + (9*t^12 + 2*t^10)*v0^2)*v12^2 - 5*(t^6 - 2*t^4 + t^2)*v0 - (3*t^6 - (12*t^10 - 12*t^8 - 5*t^6)*v0^2 - (5*t^8 + 3*t^6)*v0)*v12)*v6)*t^16*v12^3"
      ]
     },
     "metadata": {},
     "output_type": "display_data"
    },
    {
     "name": "stdout",
     "output_type": "stream",
     "text": [
      "(t, v0, v12, v6)\n"
     ]
    },
    {
     "data": {
      "text/html": [
       "<html><script type=\"math/tex; mode=display\">\\newcommand{\\Bold}[1]{\\mathbf{#1}}{\\left({\\left(t^{2} - 1\\right)} {F_{1,\\emptyset}(t)} {F_{1,\\left\\{y^{3}, y^{2}\\right\\}}(t)}^{3} - {\\left(t^{6} {F_{1,\\emptyset}(t)} {F_{1,\\left\\{y^{3}, y^{2}\\right\\}}(t)}^{2} + {\\left(t^{8} - t^{6}\\right)} {F_{1,\\emptyset}(t)} {F_{1,\\left\\{y^{3}, y^{2}\\right\\}}(t)}^{3}\\right)} {F_{1,\\left\\{x\\right\\}}(t)}^{3} + {\\left({F_{1,\\emptyset}(t)} - 1\\right)} {F_{1,\\left\\{y^{3}, y^{2}\\right\\}}(t)}^{2} - {\\left(t^{4} {F_{1,\\emptyset}(t)} - 3 \\, {\\left(t^{6} - t^{4}\\right)} {F_{1,\\emptyset}(t)} {F_{1,\\left\\{y^{3}, y^{2}\\right\\}}(t)}^{3} - {\\left(3 \\, t^{4} {F_{1,\\emptyset}(t)} - t^{4}\\right)} {F_{1,\\left\\{y^{3}, y^{2}\\right\\}}(t)}^{2} - {\\left(t^{4} {F_{1,\\emptyset}(t)} + t^{4}\\right)} {F_{1,\\left\\{y^{3}, y^{2}\\right\\}}(t)}\\right)} {F_{1,\\left\\{x\\right\\}}(t)}^{2} + {\\left({F_{1,\\emptyset}(t)} + 1\\right)} {F_{1,\\left\\{y^{3}, y^{2}\\right\\}}(t)} - {\\left(3 \\, {\\left(t^{4} - t^{2}\\right)} {F_{1,\\emptyset}(t)} {F_{1,\\left\\{y^{3}, y^{2}\\right\\}}(t)}^{3} - 2 \\, t^{2} {F_{1,\\emptyset}(t)} + {\\left(3 \\, t^{2} {F_{1,\\emptyset}(t)} - 2 \\, t^{2}\\right)} {F_{1,\\left\\{y^{3}, y^{2}\\right\\}}(t)}^{2} + 2 \\, {\\left(t^{2} {F_{1,\\emptyset}(t)} + t^{2}\\right)} {F_{1,\\left\\{y^{3}, y^{2}\\right\\}}(t)}\\right)} {F_{1,\\left\\{x\\right\\}}(t)} - {F_{1,\\emptyset}(t)}\\right)} t^{16} {F_{1,\\left\\{y^{3}, y^{2}\\right\\}}(t)}^{3}</script></html>"
      ],
      "text/plain": [
       "((t^2 - 1)*v0*v12^3 - (t^6*v0*v12^2 + (t^8 - t^6)*v0*v12^3)*v6^3 + (v0 - 1)*v12^2 - (t^4*v0 - 3*(t^6 - t^4)*v0*v12^3 - (3*t^4*v0 - t^4)*v12^2 - (t^4*v0 + t^4)*v12)*v6^2 + (v0 + 1)*v12 - (3*(t^4 - t^2)*v0*v12^3 - 2*t^2*v0 + (3*t^2*v0 - 2*t^2)*v12^2 + 2*(t^2*v0 + t^2)*v12)*v6 - v0)*t^16*v12^3"
      ]
     },
     "metadata": {},
     "output_type": "display_data"
    },
    {
     "name": "stdout",
     "output_type": "stream",
     "text": [
      "(t, v0, v12, v6)\n"
     ]
    },
    {
     "data": {
      "text/html": [
       "<html><script type=\"math/tex; mode=display\">\\newcommand{\\Bold}[1]{\\mathbf{#1}}{\\left(t^{8} {F_{1,\\emptyset}(t)} {F_{1,\\left\\{x\\right\\}}(t)}^{5} - {\\left(3 \\, t^{6} {F_{1,\\emptyset}(t)} - t^{6}\\right)} {F_{1,\\left\\{x\\right\\}}(t)}^{4} - {\\left(3 \\, t^{4} + {\\left(t^{6} - 3 \\, t^{4}\\right)} {F_{1,\\emptyset}(t)}\\right)} {F_{1,\\left\\{x\\right\\}}(t)}^{3} + {\\left(3 \\, t^{2} + {\\left(3 \\, t^{4} - t^{2}\\right)} {F_{1,\\emptyset}(t)}\\right)} {F_{1,\\left\\{x\\right\\}}(t)}^{2} - {\\left(3 \\, t^{2} {F_{1,\\emptyset}(t)} + 1\\right)} {F_{1,\\left\\{x\\right\\}}(t)} + {F_{1,\\emptyset}(t)}\\right)} t^{12} {F_{1,\\left\\{y^{3}, y^{2}\\right\\}}(t)}^{3}</script></html>"
      ],
      "text/plain": [
       "(t^8*v0*v6^5 - (3*t^6*v0 - t^6)*v6^4 - (3*t^4 + (t^6 - 3*t^4)*v0)*v6^3 + (3*t^2 + (3*t^4 - t^2)*v0)*v6^2 - (3*t^2*v0 + 1)*v6 + v0)*t^12*v12^3"
      ]
     },
     "metadata": {},
     "output_type": "display_data"
    },
    {
     "name": "stdout",
     "output_type": "stream",
     "text": [
      "(t, v0, v12, v6)\n"
     ]
    }
   ],
   "source": [
    "print(len(impl_solset))\n",
    "for sol in impl_solset:\n",
    "    pretty_print(sol)\n",
    "    print(sol.args())\n",
    "\n",
    "    \n",
    "#solve(system, comp, algorithm='sympy')\n",
    "#impl_soln(v0=sqrt(1/(1-4*t^2))).simplify_full()"
   ]
  },
  {
   "cell_type": "code",
   "execution_count": 29,
   "metadata": {},
   "outputs": [
    {
     "name": "stdout",
     "output_type": "stream",
     "text": [
      "[v12, v6, v0]\n"
     ]
    },
    {
     "data": {
      "text/html": [
       "<html><script type=\"math/tex; mode=display\">\\newcommand{\\Bold}[1]{\\mathbf{#1}}{\\left({\\left(t^{2} - 1\\right)} {F_{1,\\emptyset}(t)} {F_{1,\\left\\{y^{3}, y^{2}\\right\\}}(t)}^{3} - {\\left(t^{6} {F_{1,\\emptyset}(t)} {F_{1,\\left\\{y^{3}, y^{2}\\right\\}}(t)}^{2} + {\\left(t^{8} - t^{6}\\right)} {F_{1,\\emptyset}(t)} {F_{1,\\left\\{y^{3}, y^{2}\\right\\}}(t)}^{3}\\right)} {F_{1,\\left\\{x\\right\\}}(t)}^{3} + {\\left({F_{1,\\emptyset}(t)} - 1\\right)} {F_{1,\\left\\{y^{3}, y^{2}\\right\\}}(t)}^{2} - {\\left(t^{4} {F_{1,\\emptyset}(t)} - 3 \\, {\\left(t^{6} - t^{4}\\right)} {F_{1,\\emptyset}(t)} {F_{1,\\left\\{y^{3}, y^{2}\\right\\}}(t)}^{3} - {\\left(3 \\, t^{4} {F_{1,\\emptyset}(t)} - t^{4}\\right)} {F_{1,\\left\\{y^{3}, y^{2}\\right\\}}(t)}^{2} - {\\left(t^{4} {F_{1,\\emptyset}(t)} + t^{4}\\right)} {F_{1,\\left\\{y^{3}, y^{2}\\right\\}}(t)}\\right)} {F_{1,\\left\\{x\\right\\}}(t)}^{2} + {\\left({F_{1,\\emptyset}(t)} + 1\\right)} {F_{1,\\left\\{y^{3}, y^{2}\\right\\}}(t)} - {\\left(3 \\, {\\left(t^{4} - t^{2}\\right)} {F_{1,\\emptyset}(t)} {F_{1,\\left\\{y^{3}, y^{2}\\right\\}}(t)}^{3} - 2 \\, t^{2} {F_{1,\\emptyset}(t)} + {\\left(3 \\, t^{2} {F_{1,\\emptyset}(t)} - 2 \\, t^{2}\\right)} {F_{1,\\left\\{y^{3}, y^{2}\\right\\}}(t)}^{2} + 2 \\, {\\left(t^{2} {F_{1,\\emptyset}(t)} + t^{2}\\right)} {F_{1,\\left\\{y^{3}, y^{2}\\right\\}}(t)}\\right)} {F_{1,\\left\\{x\\right\\}}(t)} - {F_{1,\\emptyset}(t)}\\right)} t^{16} {F_{1,\\left\\{y^{3}, y^{2}\\right\\}}(t)}^{3}</script></html>"
      ],
      "text/plain": [
       "((t^2 - 1)*v0*v12^3 - (t^6*v0*v12^2 + (t^8 - t^6)*v0*v12^3)*v6^3 + (v0 - 1)*v12^2 - (t^4*v0 - 3*(t^6 - t^4)*v0*v12^3 - (3*t^4*v0 - t^4)*v12^2 - (t^4*v0 + t^4)*v12)*v6^2 + (v0 + 1)*v12 - (3*(t^4 - t^2)*v0*v12^3 - 2*t^2*v0 + (3*t^2*v0 - 2*t^2)*v12^2 + 2*(t^2*v0 + t^2)*v12)*v6 - v0)*t^16*v12^3"
      ]
     },
     "metadata": {},
     "output_type": "display_data"
    },
    {
     "data": {
      "text/html": [
       "<html><script type=\"math/tex; mode=display\">\\newcommand{\\Bold}[1]{\\mathbf{#1}}{\\left(t^{8} {F_{1,\\emptyset}(t)} {F_{1,\\left\\{x\\right\\}}(t)}^{5} - {\\left(3 \\, t^{6} {F_{1,\\emptyset}(t)} - t^{6}\\right)} {F_{1,\\left\\{x\\right\\}}(t)}^{4} - {\\left(3 \\, t^{4} + {\\left(t^{6} - 3 \\, t^{4}\\right)} {F_{1,\\emptyset}(t)}\\right)} {F_{1,\\left\\{x\\right\\}}(t)}^{3} + {\\left(3 \\, t^{2} + {\\left(3 \\, t^{4} - t^{2}\\right)} {F_{1,\\emptyset}(t)}\\right)} {F_{1,\\left\\{x\\right\\}}(t)}^{2} - {\\left(3 \\, t^{2} {F_{1,\\emptyset}(t)} + 1\\right)} {F_{1,\\left\\{x\\right\\}}(t)} + {F_{1,\\emptyset}(t)}\\right)} t^{12} {F_{1,\\left\\{y^{3}, y^{2}\\right\\}}(t)}^{3}</script></html>"
      ],
      "text/plain": [
       "(t^8*v0*v6^5 - (3*t^6*v0 - t^6)*v6^4 - (3*t^4 + (t^6 - 3*t^4)*v0)*v6^3 + (3*t^2 + (3*t^4 - t^2)*v0)*v6^2 - (3*t^2*v0 + 1)*v6 + v0)*t^12*v12^3"
      ]
     },
     "metadata": {},
     "output_type": "display_data"
    },
    {
     "data": {
      "text/html": [
       "<html><script type=\"math/tex; mode=display\">\\newcommand{\\Bold}[1]{\\mathbf{#1}}-{\\left(t^{12} {F_{1,\\emptyset}(t)}^{2} {F_{1,\\left\\{y^{3}, y^{2}\\right\\}}(t)}^{3} + {\\left(t^{14} {F_{1,\\emptyset}(t)}^{2} {F_{1,\\left\\{y^{3}, y^{2}\\right\\}}(t)} + {\\left(t^{16} - 3 \\, t^{14} + 3 \\, t^{12} - t^{10}\\right)} {F_{1,\\emptyset}(t)}^{2} + {\\left(t^{14} - 2 \\, t^{12} + t^{10}\\right)} {F_{1,\\emptyset}(t)}\\right)} {F_{1,\\left\\{x\\right\\}}(t)}^{5} - {\\left(3 \\, t^{10} + t^{8}\\right)} {F_{1,\\emptyset}(t)}^{2} {F_{1,\\left\\{y^{3}, y^{2}\\right\\}}(t)}^{2} - {\\left(5 \\, {\\left(t^{14} - 3 \\, t^{12} + 3 \\, t^{10} - t^{8}\\right)} {F_{1,\\emptyset}(t)}^{2} + 5 \\, {\\left(t^{12} - 2 \\, t^{10} + t^{8}\\right)} {F_{1,\\emptyset}(t)} - {\\left(2 \\, t^{14} {F_{1,\\emptyset}(t)} + {\\left(3 \\, t^{16} - 3 \\, t^{14} - 5 \\, t^{12}\\right)} {F_{1,\\emptyset}(t)}^{2}\\right)} {F_{1,\\left\\{y^{3}, y^{2}\\right\\}}(t)}\\right)} {F_{1,\\left\\{x\\right\\}}(t)}^{4} + {\\left(10 \\, {\\left(t^{12} - 3 \\, t^{10} + 3 \\, t^{8} - t^{6}\\right)} {F_{1,\\emptyset}(t)}^{2} + {\\left(3 \\, t^{16} {F_{1,\\emptyset}(t)}^{2} + t^{14} {F_{1,\\emptyset}(t)}\\right)} {F_{1,\\left\\{y^{3}, y^{2}\\right\\}}(t)}^{2} + 10 \\, {\\left(t^{10} - 2 \\, t^{8} + t^{6}\\right)} {F_{1,\\emptyset}(t)} + {\\left(t^{10} - 2 \\, {\\left(6 \\, t^{14} - 6 \\, t^{12} - 5 \\, t^{10}\\right)} {F_{1,\\emptyset}(t)}^{2} - {\\left(7 \\, t^{12} + t^{10}\\right)} {F_{1,\\emptyset}(t)}\\right)} {F_{1,\\left\\{y^{3}, y^{2}\\right\\}}(t)}\\right)} {F_{1,\\left\\{x\\right\\}}(t)}^{3} - {\\left(t^{6} - 3 \\, t^{4} + 3 \\, t^{2} - 1\\right)} {F_{1,\\emptyset}(t)}^{2} + {\\left(t^{16} {F_{1,\\emptyset}(t)}^{2} {F_{1,\\left\\{y^{3}, y^{2}\\right\\}}(t)}^{3} - 10 \\, {\\left(t^{10} - 3 \\, t^{8} + 3 \\, t^{6} - t^{4}\\right)} {F_{1,\\emptyset}(t)}^{2} - {\\left(2 \\, t^{12} {F_{1,\\emptyset}(t)} + {\\left(9 \\, t^{14} + t^{12}\\right)} {F_{1,\\emptyset}(t)}^{2}\\right)} {F_{1,\\left\\{y^{3}, y^{2}\\right\\}}(t)}^{2} - 10 \\, {\\left(t^{8} - 2 \\, t^{6} + t^{4}\\right)} {F_{1,\\emptyset}(t)} - {\\left(3 \\, t^{8} - 2 \\, {\\left(9 \\, t^{12} - 9 \\, t^{10} - 5 \\, t^{8}\\right)} {F_{1,\\emptyset}(t)}^{2} - 3 \\, {\\left(3 \\, t^{10} + t^{8}\\right)} {F_{1,\\emptyset}(t)}\\right)} {F_{1,\\left\\{y^{3}, y^{2}\\right\\}}(t)}\\right)} {F_{1,\\left\\{x\\right\\}}(t)}^{2} - {\\left(t^{4} - 2 \\, t^{2} + 1\\right)} {F_{1,\\emptyset}(t)} - {\\left(t^{4} - {\\left(3 \\, t^{8} - 3 \\, t^{6} - t^{4}\\right)} {F_{1,\\emptyset}(t)}^{2} - {\\left(t^{6} + t^{4}\\right)} {F_{1,\\emptyset}(t)}\\right)} {F_{1,\\left\\{y^{3}, y^{2}\\right\\}}(t)} - {\\left(2 \\, t^{14} {F_{1,\\emptyset}(t)}^{2} {F_{1,\\left\\{y^{3}, y^{2}\\right\\}}(t)}^{3} - 5 \\, {\\left(t^{8} - 3 \\, t^{6} + 3 \\, t^{4} - t^{2}\\right)} {F_{1,\\emptyset}(t)}^{2} - {\\left(t^{10} {F_{1,\\emptyset}(t)} + {\\left(9 \\, t^{12} + 2 \\, t^{10}\\right)} {F_{1,\\emptyset}(t)}^{2}\\right)} {F_{1,\\left\\{y^{3}, y^{2}\\right\\}}(t)}^{2} - 5 \\, {\\left(t^{6} - 2 \\, t^{4} + t^{2}\\right)} {F_{1,\\emptyset}(t)} - {\\left(3 \\, t^{6} - {\\left(12 \\, t^{10} - 12 \\, t^{8} - 5 \\, t^{6}\\right)} {F_{1,\\emptyset}(t)}^{2} - {\\left(5 \\, t^{8} + 3 \\, t^{6}\\right)} {F_{1,\\emptyset}(t)}\\right)} {F_{1,\\left\\{y^{3}, y^{2}\\right\\}}(t)}\\right)} {F_{1,\\left\\{x\\right\\}}(t)}\\right)} t^{16} {F_{1,\\left\\{y^{3}, y^{2}\\right\\}}(t)}^{3}</script></html>"
      ],
      "text/plain": [
       "-(t^12*v0^2*v12^3 + (t^14*v0^2*v12 + (t^16 - 3*t^14 + 3*t^12 - t^10)*v0^2 + (t^14 - 2*t^12 + t^10)*v0)*v6^5 - (3*t^10 + t^8)*v0^2*v12^2 - (5*(t^14 - 3*t^12 + 3*t^10 - t^8)*v0^2 + 5*(t^12 - 2*t^10 + t^8)*v0 - (2*t^14*v0 + (3*t^16 - 3*t^14 - 5*t^12)*v0^2)*v12)*v6^4 + (10*(t^12 - 3*t^10 + 3*t^8 - t^6)*v0^2 + (3*t^16*v0^2 + t^14*v0)*v12^2 + 10*(t^10 - 2*t^8 + t^6)*v0 + (t^10 - 2*(6*t^14 - 6*t^12 - 5*t^10)*v0^2 - (7*t^12 + t^10)*v0)*v12)*v6^3 - (t^6 - 3*t^4 + 3*t^2 - 1)*v0^2 + (t^16*v0^2*v12^3 - 10*(t^10 - 3*t^8 + 3*t^6 - t^4)*v0^2 - (2*t^12*v0 + (9*t^14 + t^12)*v0^2)*v12^2 - 10*(t^8 - 2*t^6 + t^4)*v0 - (3*t^8 - 2*(9*t^12 - 9*t^10 - 5*t^8)*v0^2 - 3*(3*t^10 + t^8)*v0)*v12)*v6^2 - (t^4 - 2*t^2 + 1)*v0 - (t^4 - (3*t^8 - 3*t^6 - t^4)*v0^2 - (t^6 + t^4)*v0)*v12 - (2*t^14*v0^2*v12^3 - 5*(t^8 - 3*t^6 + 3*t^4 - t^2)*v0^2 - (t^10*v0 + (9*t^12 + 2*t^10)*v0^2)*v12^2 - 5*(t^6 - 2*t^4 + t^2)*v0 - (3*t^6 - (12*t^10 - 12*t^8 - 5*t^6)*v0^2 - (5*t^8 + 3*t^6)*v0)*v12)*v6)*t^16*v12^3"
      ]
     },
     "metadata": {},
     "output_type": "display_data"
    }
   ],
   "source": [
    "# Solve if we can\n",
    "var_rem = comp[-len(impl_solset)+1:]+[start]\n",
    "print(var_rem)\n",
    "\n",
    "have_expl = 1\n",
    "try:\n",
    "    expl_slns = solve(impl_solset, var_rem, solution_dict=True) # can we get explicit solutions?\n",
    "    print(expl_slns)\n",
    "except: \n",
    "    # can't get explicit solutions. try for implicit ones. perhaps reduced a bit?\n",
    "    impl_solset = solve(impl_solset, var_rem)\n",
    "    have_expl = 0\n",
    "    for sol in impl_solset:\n",
    "        pretty_print(sol)\n",
    "    "
   ]
  },
  {
   "cell_type": "code",
   "execution_count": 30,
   "metadata": {},
   "outputs": [],
   "source": [
    "if have_expl:\n",
    "    for sol in expl_slns:\n",
    "        F = sol[start]\n",
    "        L = limit(F,t=0)\n",
    "        pretty_print(LatexExpr(r'\\lim_{t\\to 0}%s=%s'%(latex(start),L)))\n",
    "        if L!=1:\n",
    "            print('limit at t=0 is different from 1, discard!')\n",
    "        else:\n",
    "            print('possible desired series solutions!')\n",
    "            #pretty_print(F)\n",
    "            prec = 70\n",
    "            pretty_print('Series Expansion around %s of degree up to %d: '%(LatexExpr('t=0'),prec))\n",
    "            pretty_print(F.taylor(t, 0, prec))"
   ]
  },
  {
   "cell_type": "markdown",
   "metadata": {},
   "source": [
    "# Solving a system iteratively\n",
    "\n",
    "Suppose we are given a system of the form\n",
    "$$\\begin{align*}\n",
    "\\Phi_1 (v_1,...v_q) &= 0\\\\\n",
    "\\Phi_2 (v_1,...v_q) &= 0\\\\\n",
    "\\vdots\\\\\n",
    "\\Phi_r (v_1,...v_q) &= 0\n",
    "\\end{align*}$$ where $q\\ge r$. We want to solve for $v_1,...,v_r$ in terms of the remaining $q-r$ variables.\n",
    "We can do this approximately using a fixed point iterative method, assumming convergence.\n",
    "\n",
    "First, rewrite the $i$-th equation above as $$\\Phi_i (v_1,...,v_q)+v_i = v_i.$$\n",
    "Generate iterates $v_i^{(k)}$ with $v_i^{(0)}$ determined, with the update formula as $$\\Phi_i (v_1^{(k)},...,v_q^{(k)})+v_i^{(k)} = v_i^{(k+1)}.$$ For large $k$, the iterates make an approximate solution.\n",
    "\n",
    "In the case where $r=q-1$ and $v_q=t$, and the system is algebraic, we can expect approximations to the power series solution of $v_i$ to be increasingly accurate. If we take $v_i^{(0)}=0$ for each $i$, then we should get increasing higher oder terms each iteration, with $v_i^{(k)}$ converging to the series as $k\\to \\infty$."
   ]
  },
  {
   "cell_type": "code",
   "execution_count": 31,
   "metadata": {},
   "outputs": [],
   "source": [
    "def homogenize(eqn):\n",
    "    '''\n",
    "    eqn: an equation or expression (to set = 0)\n",
    "    returns an expression, to set = 0, that is equivalent to applying eqn\n",
    "    '''\n",
    "    if eqn.is_relational():\n",
    "        return eqn.rhs()-eqn.lhs()\n",
    "    return eqn\n",
    "\n",
    "\n",
    "def iter_solve(system, vrs, vinit=None, maxiter=5, fully_simplify=False):\n",
    "    if len(system)<len(vrs):\n",
    "        raise Exception('number of variables must be at least the number of equations')\n",
    "    if not system:\n",
    "        return [] # no system to solve\n",
    "    if vinit is None:\n",
    "        vinit = {v:0*t for v in vrs}\n",
    "    system = list(map(homogenize, system))\n",
    "    it_sols = [vinit]\n",
    "    k = 1\n",
    "    while k<=maxiter:\n",
    "        vrs_k = {}\n",
    "        for vi,eqi in zip(vrs,system):\n",
    "            vrs_k[vi] = it_sols[-1][vi]+eqi.subs(it_sols[-1])\n",
    "            if fully_simplify:\n",
    "                vrs_k[vi] = vrs_k[vi].simplify_full()\n",
    "        it_sols.append(vrs_k)\n",
    "        k+=1\n",
    "    return it_sols\n",
    "    "
   ]
  },
  {
   "cell_type": "code",
   "execution_count": 35,
   "metadata": {},
   "outputs": [
    {
     "data": {
      "text/html": [
       "<html><script type=\"math/tex; mode=display\">\\newcommand{\\Bold}[1]{\\mathbf{#1}}0</script></html>"
      ],
      "text/plain": [
       "0"
      ]
     },
     "metadata": {},
     "output_type": "display_data"
    },
    {
     "data": {
      "text/html": [
       "<html><script type=\"math/tex; mode=display\">\\newcommand{\\Bold}[1]{\\mathbf{#1}}t^{4} + t^{2} + 1</script></html>"
      ],
      "text/plain": [
       "t^4 + t^2 + 1"
      ]
     },
     "metadata": {},
     "output_type": "display_data"
    },
    {
     "data": {
      "text/html": [
       "<html><script type=\"math/tex; mode=display\">\\newcommand{\\Bold}[1]{\\mathbf{#1}}t^{4} + t^{2} + 1</script></html>"
      ],
      "text/plain": [
       "t^4 + t^2 + 1"
      ]
     },
     "metadata": {},
     "output_type": "display_data"
    },
    {
     "data": {
      "text/html": [
       "<html><script type=\"math/tex; mode=display\">\\newcommand{\\Bold}[1]{\\mathbf{#1}}t^{2} + 1</script></html>"
      ],
      "text/plain": [
       "t^2 + 1"
      ]
     },
     "metadata": {},
     "output_type": "display_data"
    },
    {
     "data": {
      "text/html": [
       "<html><script type=\"math/tex; mode=display\">\\newcommand{\\Bold}[1]{\\mathbf{#1}}-2 \\, t^{4} + t^{2} + 1</script></html>"
      ],
      "text/plain": [
       "-2*t^4 + t^2 + 1"
      ]
     },
     "metadata": {},
     "output_type": "display_data"
    },
    {
     "data": {
      "text/html": [
       "<html><script type=\"math/tex; mode=display\">\\newcommand{\\Bold}[1]{\\mathbf{#1}}-6 \\, t^{4} + t^{2} + 1</script></html>"
      ],
      "text/plain": [
       "-6*t^4 + t^2 + 1"
      ]
     },
     "metadata": {},
     "output_type": "display_data"
    },
    {
     "data": {
      "text/html": [
       "<html><script type=\"math/tex; mode=display\">\\newcommand{\\Bold}[1]{\\mathbf{#1}}-14 \\, t^{4} + t^{2} + 1</script></html>"
      ],
      "text/plain": [
       "-14*t^4 + t^2 + 1"
      ]
     },
     "metadata": {},
     "output_type": "display_data"
    },
    {
     "data": {
      "text/html": [
       "<html><script type=\"math/tex; mode=display\">\\newcommand{\\Bold}[1]{\\mathbf{#1}}-30 \\, t^{4} + t^{2} + 1</script></html>"
      ],
      "text/plain": [
       "-30*t^4 + t^2 + 1"
      ]
     },
     "metadata": {},
     "output_type": "display_data"
    },
    {
     "data": {
      "text/html": [
       "<html><script type=\"math/tex; mode=display\">\\newcommand{\\Bold}[1]{\\mathbf{#1}}-62 \\, t^{4} + t^{2} + 1</script></html>"
      ],
      "text/plain": [
       "-62*t^4 + t^2 + 1"
      ]
     },
     "metadata": {},
     "output_type": "display_data"
    },
    {
     "ename": "TypeError",
     "evalue": "ECL says: Console interrupt.",
     "output_type": "error",
     "traceback": [
      "\u001b[0;31m---------------------------------------------------------------------------\u001b[0m",
      "\u001b[0;31mRuntimeError\u001b[0m                              Traceback (most recent call last)",
      "\u001b[0;32m/opt/sagemath-9.0/local/lib/python3.7/site-packages/sage/interfaces/interface.py\u001b[0m in \u001b[0;36m__init__\u001b[0;34m(self, parent, value, is_name, name)\u001b[0m\n\u001b[1;32m    717\u001b[0m             \u001b[0;32mtry\u001b[0m\u001b[0;34m:\u001b[0m\u001b[0;34m\u001b[0m\u001b[0;34m\u001b[0m\u001b[0m\n\u001b[0;32m--> 718\u001b[0;31m                 \u001b[0mself\u001b[0m\u001b[0;34m.\u001b[0m\u001b[0m_name\u001b[0m \u001b[0;34m=\u001b[0m \u001b[0mparent\u001b[0m\u001b[0;34m.\u001b[0m\u001b[0m_create\u001b[0m\u001b[0;34m(\u001b[0m\u001b[0mvalue\u001b[0m\u001b[0;34m,\u001b[0m \u001b[0mname\u001b[0m\u001b[0;34m=\u001b[0m\u001b[0mname\u001b[0m\u001b[0;34m)\u001b[0m\u001b[0;34m\u001b[0m\u001b[0;34m\u001b[0m\u001b[0m\n\u001b[0m\u001b[1;32m    719\u001b[0m             \u001b[0;32mexcept\u001b[0m \u001b[0;34m(\u001b[0m\u001b[0mTypeError\u001b[0m\u001b[0;34m,\u001b[0m \u001b[0mRuntimeError\u001b[0m\u001b[0;34m,\u001b[0m \u001b[0mValueError\u001b[0m\u001b[0;34m)\u001b[0m \u001b[0;32mas\u001b[0m \u001b[0mx\u001b[0m\u001b[0;34m:\u001b[0m\u001b[0;34m\u001b[0m\u001b[0;34m\u001b[0m\u001b[0m\n",
      "\u001b[0;32m/opt/sagemath-9.0/local/lib/python3.7/site-packages/sage/interfaces/maxima_lib.py\u001b[0m in \u001b[0;36m_create\u001b[0;34m(self, value, name)\u001b[0m\n\u001b[1;32m    604\u001b[0m             \u001b[0;32melse\u001b[0m\u001b[0;34m:\u001b[0m\u001b[0;34m\u001b[0m\u001b[0;34m\u001b[0m\u001b[0m\n\u001b[0;32m--> 605\u001b[0;31m                 \u001b[0mself\u001b[0m\u001b[0;34m.\u001b[0m\u001b[0mset\u001b[0m\u001b[0;34m(\u001b[0m\u001b[0mname\u001b[0m\u001b[0;34m,\u001b[0m \u001b[0mvalue\u001b[0m\u001b[0;34m)\u001b[0m\u001b[0;34m\u001b[0m\u001b[0;34m\u001b[0m\u001b[0m\n\u001b[0m\u001b[1;32m    606\u001b[0m         \u001b[0;32mexcept\u001b[0m \u001b[0mRuntimeError\u001b[0m \u001b[0;32mas\u001b[0m \u001b[0merror\u001b[0m\u001b[0;34m:\u001b[0m\u001b[0;34m\u001b[0m\u001b[0;34m\u001b[0m\u001b[0m\n",
      "\u001b[0;32m/opt/sagemath-9.0/local/lib/python3.7/site-packages/sage/interfaces/maxima_lib.py\u001b[0m in \u001b[0;36mset\u001b[0;34m(self, var, value)\u001b[0m\n\u001b[1;32m    513\u001b[0m         \u001b[0mcmd\u001b[0m \u001b[0;34m=\u001b[0m \u001b[0;34m'%s : %s$'\u001b[0m\u001b[0;34m%\u001b[0m\u001b[0;34m(\u001b[0m\u001b[0mvar\u001b[0m\u001b[0;34m,\u001b[0m \u001b[0mvalue\u001b[0m\u001b[0;34m.\u001b[0m\u001b[0mrstrip\u001b[0m\u001b[0;34m(\u001b[0m\u001b[0;34m';'\u001b[0m\u001b[0;34m)\u001b[0m\u001b[0;34m)\u001b[0m\u001b[0;34m\u001b[0m\u001b[0;34m\u001b[0m\u001b[0m\n\u001b[0;32m--> 514\u001b[0;31m         \u001b[0mself\u001b[0m\u001b[0;34m.\u001b[0m\u001b[0meval\u001b[0m\u001b[0;34m(\u001b[0m\u001b[0mcmd\u001b[0m\u001b[0;34m)\u001b[0m\u001b[0;34m\u001b[0m\u001b[0;34m\u001b[0m\u001b[0m\n\u001b[0m\u001b[1;32m    515\u001b[0m \u001b[0;34m\u001b[0m\u001b[0m\n",
      "\u001b[0;32m/opt/sagemath-9.0/local/lib/python3.7/site-packages/sage/interfaces/maxima_lib.py\u001b[0m in \u001b[0;36m_eval_line\u001b[0;34m(self, line, locals, reformat, **kwds)\u001b[0m\n\u001b[1;32m    459\u001b[0m                 \u001b[0;32mif\u001b[0m \u001b[0mstatement\u001b[0m\u001b[0;34m:\u001b[0m\u001b[0;34m\u001b[0m\u001b[0;34m\u001b[0m\u001b[0m\n\u001b[0;32m--> 460\u001b[0;31m                     \u001b[0mmaxima_eval\u001b[0m\u001b[0;34m(\u001b[0m\u001b[0;34m\"#$%s$\"\u001b[0m \u001b[0;34m%\u001b[0m \u001b[0mstatement\u001b[0m\u001b[0;34m)\u001b[0m\u001b[0;34m\u001b[0m\u001b[0;34m\u001b[0m\u001b[0m\n\u001b[0m\u001b[1;32m    461\u001b[0m         \u001b[0;32mif\u001b[0m \u001b[0;32mnot\u001b[0m \u001b[0mreformat\u001b[0m\u001b[0;34m:\u001b[0m\u001b[0;34m\u001b[0m\u001b[0;34m\u001b[0m\u001b[0m\n",
      "\u001b[0;32m/opt/sagemath-9.0/local/lib/python3.7/site-packages/sage/libs/ecl.pyx\u001b[0m in \u001b[0;36msage.libs.ecl.EclObject.__call__ (build/cythonized/sage/libs/ecl.c:7794)\u001b[0;34m()\u001b[0m\n\u001b[1;32m    804\u001b[0m         \u001b[0mlispargs\u001b[0m \u001b[0;34m=\u001b[0m \u001b[0mEclObject\u001b[0m\u001b[0;34m(\u001b[0m\u001b[0mlist\u001b[0m\u001b[0;34m(\u001b[0m\u001b[0margs\u001b[0m\u001b[0;34m)\u001b[0m\u001b[0;34m)\u001b[0m\u001b[0;34m\u001b[0m\u001b[0;34m\u001b[0m\u001b[0m\n\u001b[0;32m--> 805\u001b[0;31m         \u001b[0;32mreturn\u001b[0m \u001b[0mecl_wrap\u001b[0m\u001b[0;34m(\u001b[0m\u001b[0mecl_safe_apply\u001b[0m\u001b[0;34m(\u001b[0m\u001b[0mself\u001b[0m\u001b[0;34m.\u001b[0m\u001b[0mobj\u001b[0m\u001b[0;34m,\u001b[0m\u001b[0;34m(\u001b[0m\u001b[0;34m<\u001b[0m\u001b[0mEclObject\u001b[0m\u001b[0;34m>\u001b[0m\u001b[0mlispargs\u001b[0m\u001b[0;34m)\u001b[0m\u001b[0;34m.\u001b[0m\u001b[0mobj\u001b[0m\u001b[0;34m)\u001b[0m\u001b[0;34m)\u001b[0m\u001b[0;34m\u001b[0m\u001b[0;34m\u001b[0m\u001b[0m\n\u001b[0m\u001b[1;32m    806\u001b[0m \u001b[0;34m\u001b[0m\u001b[0m\n",
      "\u001b[0;32m/opt/sagemath-9.0/local/lib/python3.7/site-packages/sage/libs/ecl.pyx\u001b[0m in \u001b[0;36msage.libs.ecl.ecl_safe_apply (build/cythonized/sage/libs/ecl.c:5456)\u001b[0;34m()\u001b[0m\n\u001b[1;32m    376\u001b[0m         \u001b[0ms\u001b[0m \u001b[0;34m=\u001b[0m \u001b[0msi_coerce_to_base_string\u001b[0m\u001b[0;34m(\u001b[0m\u001b[0mecl_values\u001b[0m\u001b[0;34m(\u001b[0m\u001b[0;36m1\u001b[0m\u001b[0;34m)\u001b[0m\u001b[0;34m)\u001b[0m\u001b[0;34m\u001b[0m\u001b[0;34m\u001b[0m\u001b[0m\n\u001b[0;32m--> 377\u001b[0;31m         raise RuntimeError(\"ECL says: {}\".format(\n\u001b[0m\u001b[1;32m    378\u001b[0m             char_to_str(ecl_base_string_pointer_safe(s))))\n",
      "\u001b[0;31mRuntimeError\u001b[0m: ECL says: Console interrupt.",
      "\nDuring handling of the above exception, another exception occurred:\n",
      "\u001b[0;31mTypeError\u001b[0m                                 Traceback (most recent call last)",
      "\u001b[0;32m<ipython-input-35-ad79ee6aed44>\u001b[0m in \u001b[0;36m<module>\u001b[0;34m()\u001b[0m\n\u001b[1;32m      1\u001b[0m \u001b[0;32mfor\u001b[0m \u001b[0mans\u001b[0m \u001b[0;32min\u001b[0m \u001b[0miter_solve\u001b[0m\u001b[0;34m(\u001b[0m\u001b[0morig_system\u001b[0m\u001b[0;34m,\u001b[0m\u001b[0mlist\u001b[0m\u001b[0;34m(\u001b[0m\u001b[0mvar_space\u001b[0m\u001b[0;34m.\u001b[0m\u001b[0mvalues\u001b[0m\u001b[0;34m(\u001b[0m\u001b[0;34m)\u001b[0m\u001b[0;34m)\u001b[0m\u001b[0;34m,\u001b[0m\u001b[0mfully_simplify\u001b[0m\u001b[0;34m=\u001b[0m\u001b[0;32mFalse\u001b[0m\u001b[0;34m,\u001b[0m\u001b[0mmaxiter\u001b[0m\u001b[0;34m=\u001b[0m\u001b[0mInteger\u001b[0m\u001b[0;34m(\u001b[0m\u001b[0;36m10\u001b[0m\u001b[0;34m)\u001b[0m\u001b[0;34m)\u001b[0m\u001b[0;34m:\u001b[0m\u001b[0;34m\u001b[0m\u001b[0;34m\u001b[0m\u001b[0m\n\u001b[0;32m----> 2\u001b[0;31m     \u001b[0mpretty_print\u001b[0m\u001b[0;34m(\u001b[0m\u001b[0mans\u001b[0m\u001b[0;34m[\u001b[0m\u001b[0mstart\u001b[0m\u001b[0;34m]\u001b[0m\u001b[0;34m.\u001b[0m\u001b[0mtaylor\u001b[0m\u001b[0;34m(\u001b[0m\u001b[0mt\u001b[0m\u001b[0;34m,\u001b[0m\u001b[0mInteger\u001b[0m\u001b[0;34m(\u001b[0m\u001b[0;36m0\u001b[0m\u001b[0;34m)\u001b[0m\u001b[0;34m,\u001b[0m\u001b[0mInteger\u001b[0m\u001b[0;34m(\u001b[0m\u001b[0;36m5\u001b[0m\u001b[0;34m)\u001b[0m\u001b[0;34m)\u001b[0m\u001b[0;34m)\u001b[0m\u001b[0;34m\u001b[0m\u001b[0;34m\u001b[0m\u001b[0m\n\u001b[0m",
      "\u001b[0;32m/opt/sagemath-9.0/local/lib/python3.7/site-packages/sage/symbolic/expression.pyx\u001b[0m in \u001b[0;36msage.symbolic.expression.Expression.taylor (build/cythonized/sage/symbolic/expression.cpp:28234)\u001b[0;34m()\u001b[0m\n\u001b[1;32m   4595\u001b[0m         \u001b[0;32mexcept\u001b[0m \u001b[0mException\u001b[0m\u001b[0;34m:\u001b[0m\u001b[0;34m\u001b[0m\u001b[0;34m\u001b[0m\u001b[0m\n\u001b[1;32m   4596\u001b[0m             \u001b[0;32mraise\u001b[0m \u001b[0mNotImplementedError\u001b[0m\u001b[0;34m(\u001b[0m\u001b[0;34m\"Wrong arguments passed to taylor. See taylor? for more details.\"\u001b[0m\u001b[0;34m)\u001b[0m\u001b[0;34m\u001b[0m\u001b[0;34m\u001b[0m\u001b[0m\n\u001b[0;32m-> 4597\u001b[0;31m         \u001b[0ml\u001b[0m \u001b[0;34m=\u001b[0m \u001b[0mself\u001b[0m\u001b[0;34m.\u001b[0m\u001b[0m_maxima_\u001b[0m\u001b[0;34m(\u001b[0m\u001b[0;34m)\u001b[0m\u001b[0;34m.\u001b[0m\u001b[0mtaylor\u001b[0m\u001b[0;34m(\u001b[0m\u001b[0mB\u001b[0m\u001b[0;34m)\u001b[0m\u001b[0;34m\u001b[0m\u001b[0;34m\u001b[0m\u001b[0m\n\u001b[0m\u001b[1;32m   4598\u001b[0m         \u001b[0;32mreturn\u001b[0m \u001b[0mself\u001b[0m\u001b[0;34m.\u001b[0m\u001b[0mparent\u001b[0m\u001b[0;34m(\u001b[0m\u001b[0;34m)\u001b[0m\u001b[0;34m(\u001b[0m\u001b[0ml\u001b[0m\u001b[0;34m)\u001b[0m\u001b[0;34m\u001b[0m\u001b[0;34m\u001b[0m\u001b[0m\n\u001b[1;32m   4599\u001b[0m \u001b[0;34m\u001b[0m\u001b[0m\n",
      "\u001b[0;32m/opt/sagemath-9.0/local/lib/python3.7/site-packages/sage/interfaces/interface.py\u001b[0m in \u001b[0;36m__call__\u001b[0;34m(self, *args, **kwds)\u001b[0m\n\u001b[1;32m    678\u001b[0m \u001b[0;34m\u001b[0m\u001b[0m\n\u001b[1;32m    679\u001b[0m     \u001b[0;32mdef\u001b[0m \u001b[0m__call__\u001b[0m\u001b[0;34m(\u001b[0m\u001b[0mself\u001b[0m\u001b[0;34m,\u001b[0m \u001b[0;34m*\u001b[0m\u001b[0margs\u001b[0m\u001b[0;34m,\u001b[0m \u001b[0;34m**\u001b[0m\u001b[0mkwds\u001b[0m\u001b[0;34m)\u001b[0m\u001b[0;34m:\u001b[0m\u001b[0;34m\u001b[0m\u001b[0;34m\u001b[0m\u001b[0m\n\u001b[0;32m--> 680\u001b[0;31m         \u001b[0;32mreturn\u001b[0m \u001b[0mself\u001b[0m\u001b[0;34m.\u001b[0m\u001b[0m_obj\u001b[0m\u001b[0;34m.\u001b[0m\u001b[0mparent\u001b[0m\u001b[0;34m(\u001b[0m\u001b[0;34m)\u001b[0m\u001b[0;34m.\u001b[0m\u001b[0mfunction_call\u001b[0m\u001b[0;34m(\u001b[0m\u001b[0mself\u001b[0m\u001b[0;34m.\u001b[0m\u001b[0m_name\u001b[0m\u001b[0;34m,\u001b[0m \u001b[0;34m[\u001b[0m\u001b[0mself\u001b[0m\u001b[0;34m.\u001b[0m\u001b[0m_obj\u001b[0m\u001b[0;34m]\u001b[0m \u001b[0;34m+\u001b[0m \u001b[0mlist\u001b[0m\u001b[0;34m(\u001b[0m\u001b[0margs\u001b[0m\u001b[0;34m)\u001b[0m\u001b[0;34m,\u001b[0m \u001b[0mkwds\u001b[0m\u001b[0;34m)\u001b[0m\u001b[0;34m\u001b[0m\u001b[0;34m\u001b[0m\u001b[0m\n\u001b[0m\u001b[1;32m    681\u001b[0m \u001b[0;34m\u001b[0m\u001b[0m\n\u001b[1;32m    682\u001b[0m     \u001b[0;32mdef\u001b[0m \u001b[0mhelp\u001b[0m\u001b[0;34m(\u001b[0m\u001b[0mself\u001b[0m\u001b[0;34m)\u001b[0m\u001b[0;34m:\u001b[0m\u001b[0;34m\u001b[0m\u001b[0;34m\u001b[0m\u001b[0m\n",
      "\u001b[0;32m/opt/sagemath-9.0/local/lib/python3.7/site-packages/sage/interfaces/interface.py\u001b[0m in \u001b[0;36mfunction_call\u001b[0;34m(self, function, args, kwds)\u001b[0m\n\u001b[1;32m    599\u001b[0m                                        \u001b[0;34m[\u001b[0m\u001b[0ms\u001b[0m\u001b[0;34m.\u001b[0m\u001b[0mname\u001b[0m\u001b[0;34m(\u001b[0m\u001b[0;34m)\u001b[0m \u001b[0;32mfor\u001b[0m \u001b[0ms\u001b[0m \u001b[0;32min\u001b[0m \u001b[0margs\u001b[0m\u001b[0;34m]\u001b[0m\u001b[0;34m,\u001b[0m\u001b[0;34m\u001b[0m\u001b[0;34m\u001b[0m\u001b[0m\n\u001b[1;32m    600\u001b[0m                                        ['%s=%s'%(key,value.name()) for key, value in kwds.items()])\n\u001b[0;32m--> 601\u001b[0;31m         \u001b[0;32mreturn\u001b[0m \u001b[0mself\u001b[0m\u001b[0;34m.\u001b[0m\u001b[0mnew\u001b[0m\u001b[0;34m(\u001b[0m\u001b[0ms\u001b[0m\u001b[0;34m)\u001b[0m\u001b[0;34m\u001b[0m\u001b[0;34m\u001b[0m\u001b[0m\n\u001b[0m\u001b[1;32m    602\u001b[0m \u001b[0;34m\u001b[0m\u001b[0m\n\u001b[1;32m    603\u001b[0m     \u001b[0;32mdef\u001b[0m \u001b[0m_function_call_string\u001b[0m\u001b[0;34m(\u001b[0m\u001b[0mself\u001b[0m\u001b[0;34m,\u001b[0m \u001b[0mfunction\u001b[0m\u001b[0;34m,\u001b[0m \u001b[0margs\u001b[0m\u001b[0;34m,\u001b[0m \u001b[0mkwds\u001b[0m\u001b[0;34m)\u001b[0m\u001b[0;34m:\u001b[0m\u001b[0;34m\u001b[0m\u001b[0;34m\u001b[0m\u001b[0m\n",
      "\u001b[0;32m/opt/sagemath-9.0/local/lib/python3.7/site-packages/sage/interfaces/interface.py\u001b[0m in \u001b[0;36mnew\u001b[0;34m(self, code)\u001b[0m\n\u001b[1;32m    368\u001b[0m \u001b[0;34m\u001b[0m\u001b[0m\n\u001b[1;32m    369\u001b[0m     \u001b[0;32mdef\u001b[0m \u001b[0mnew\u001b[0m\u001b[0;34m(\u001b[0m\u001b[0mself\u001b[0m\u001b[0;34m,\u001b[0m \u001b[0mcode\u001b[0m\u001b[0;34m)\u001b[0m\u001b[0;34m:\u001b[0m\u001b[0;34m\u001b[0m\u001b[0;34m\u001b[0m\u001b[0m\n\u001b[0;32m--> 370\u001b[0;31m         \u001b[0;32mreturn\u001b[0m \u001b[0mself\u001b[0m\u001b[0;34m(\u001b[0m\u001b[0mcode\u001b[0m\u001b[0;34m)\u001b[0m\u001b[0;34m\u001b[0m\u001b[0;34m\u001b[0m\u001b[0m\n\u001b[0m\u001b[1;32m    371\u001b[0m \u001b[0;34m\u001b[0m\u001b[0m\n\u001b[1;32m    372\u001b[0m     \u001b[0;31m###################################################################\u001b[0m\u001b[0;34m\u001b[0m\u001b[0;34m\u001b[0m\u001b[0;34m\u001b[0m\u001b[0m\n",
      "\u001b[0;32m/opt/sagemath-9.0/local/lib/python3.7/site-packages/sage/interfaces/interface.py\u001b[0m in \u001b[0;36m__call__\u001b[0;34m(self, x, name)\u001b[0m\n\u001b[1;32m    294\u001b[0m \u001b[0;34m\u001b[0m\u001b[0m\n\u001b[1;32m    295\u001b[0m         \u001b[0;32mif\u001b[0m \u001b[0misinstance\u001b[0m\u001b[0;34m(\u001b[0m\u001b[0mx\u001b[0m\u001b[0;34m,\u001b[0m \u001b[0mstring_types\u001b[0m\u001b[0;34m)\u001b[0m\u001b[0;34m:\u001b[0m\u001b[0;34m\u001b[0m\u001b[0;34m\u001b[0m\u001b[0m\n\u001b[0;32m--> 296\u001b[0;31m             \u001b[0;32mreturn\u001b[0m \u001b[0mcls\u001b[0m\u001b[0;34m(\u001b[0m\u001b[0mself\u001b[0m\u001b[0;34m,\u001b[0m \u001b[0mx\u001b[0m\u001b[0;34m,\u001b[0m \u001b[0mname\u001b[0m\u001b[0;34m=\u001b[0m\u001b[0mname\u001b[0m\u001b[0;34m)\u001b[0m\u001b[0;34m\u001b[0m\u001b[0;34m\u001b[0m\u001b[0m\n\u001b[0m\u001b[1;32m    297\u001b[0m         \u001b[0;32mtry\u001b[0m\u001b[0;34m:\u001b[0m\u001b[0;34m\u001b[0m\u001b[0;34m\u001b[0m\u001b[0m\n\u001b[1;32m    298\u001b[0m             \u001b[0;31m# Special methods do not and should not have an option to\u001b[0m\u001b[0;34m\u001b[0m\u001b[0;34m\u001b[0m\u001b[0;34m\u001b[0m\u001b[0m\n",
      "\u001b[0;32m/opt/sagemath-9.0/local/lib/python3.7/site-packages/sage/interfaces/interface.py\u001b[0m in \u001b[0;36m__init__\u001b[0;34m(self, parent, value, is_name, name)\u001b[0m\n\u001b[1;32m    718\u001b[0m                 \u001b[0mself\u001b[0m\u001b[0;34m.\u001b[0m\u001b[0m_name\u001b[0m \u001b[0;34m=\u001b[0m \u001b[0mparent\u001b[0m\u001b[0;34m.\u001b[0m\u001b[0m_create\u001b[0m\u001b[0;34m(\u001b[0m\u001b[0mvalue\u001b[0m\u001b[0;34m,\u001b[0m \u001b[0mname\u001b[0m\u001b[0;34m=\u001b[0m\u001b[0mname\u001b[0m\u001b[0;34m)\u001b[0m\u001b[0;34m\u001b[0m\u001b[0;34m\u001b[0m\u001b[0m\n\u001b[1;32m    719\u001b[0m             \u001b[0;32mexcept\u001b[0m \u001b[0;34m(\u001b[0m\u001b[0mTypeError\u001b[0m\u001b[0;34m,\u001b[0m \u001b[0mRuntimeError\u001b[0m\u001b[0;34m,\u001b[0m \u001b[0mValueError\u001b[0m\u001b[0;34m)\u001b[0m \u001b[0;32mas\u001b[0m \u001b[0mx\u001b[0m\u001b[0;34m:\u001b[0m\u001b[0;34m\u001b[0m\u001b[0;34m\u001b[0m\u001b[0m\n\u001b[0;32m--> 720\u001b[0;31m                 \u001b[0;32mraise\u001b[0m \u001b[0mTypeError\u001b[0m\u001b[0;34m(\u001b[0m\u001b[0mx\u001b[0m\u001b[0;34m)\u001b[0m\u001b[0;34m\u001b[0m\u001b[0;34m\u001b[0m\u001b[0m\n\u001b[0m\u001b[1;32m    721\u001b[0m \u001b[0;34m\u001b[0m\u001b[0m\n\u001b[1;32m    722\u001b[0m     \u001b[0;32mdef\u001b[0m \u001b[0m_latex_\u001b[0m\u001b[0;34m(\u001b[0m\u001b[0mself\u001b[0m\u001b[0;34m)\u001b[0m\u001b[0;34m:\u001b[0m\u001b[0;34m\u001b[0m\u001b[0;34m\u001b[0m\u001b[0m\n",
      "\u001b[0;31mTypeError\u001b[0m: ECL says: Console interrupt."
     ]
    }
   ],
   "source": [
    "for ans in iter_solve(orig_system,list(var_space.values()),fully_simplify=False,maxiter=10):\n",
    "    pretty_print(ans[start].taylor(t,0,5))"
   ]
  },
  {
   "cell_type": "code",
   "execution_count": null,
   "metadata": {
    "scrolled": false
   },
   "outputs": [],
   "source": [
    "print(ss,file=open('ss.txt','w'))"
   ]
  },
  {
   "cell_type": "code",
   "execution_count": null,
   "metadata": {},
   "outputs": [],
   "source": [
    "eg = [-((t^3*v0^2 - v0^2 - 2*v0 - 1)*v13^3 + (3*v0^2 + 4*v0 + 1)*v13^2 + v0^2 - (3*v0^2 + 2*v0)*v13)*t^24*v13^6, (t^6*v13^5 - t^6*v13^4 - 2*t^3*v13^3 + 2*t^3*v13^2 - (t^3 - 1)*v13 - 1)*t^18*v13^4]\n",
    "maxima.eliminate(eg, [v13])"
   ]
  },
  {
   "cell_type": "code",
   "execution_count": null,
   "metadata": {},
   "outputs": [],
   "source": [
    "for v,ss in eliminate(system, [v3,v15,v2,v4,v13], True):\n",
    "    print('+'*100)\n",
    "    pretty_print(v,':')\n",
    "    for s in ss:\n",
    "        print('|'*50)\n",
    "        print(bool(s==0))\n",
    "        pretty_print(s)\n",
    "    print (ss)\n",
    "    if len(ss)==1:\n",
    "        pretty_print(ss[0])"
   ]
  },
  {
   "cell_type": "code",
   "execution_count": null,
   "metadata": {},
   "outputs": [],
   "source": [
    "solve(impl_solset,[v0,v13])"
   ]
  },
  {
   "cell_type": "code",
   "execution_count": null,
   "metadata": {},
   "outputs": [],
   "source": [
    "type(expl_slns[0][v0])"
   ]
  },
  {
   "cell_type": "code",
   "execution_count": 38,
   "metadata": {},
   "outputs": [
    {
     "data": {
      "text/plain": [
       "v0"
      ]
     },
     "execution_count": 38,
     "metadata": {},
     "output_type": "execute_result"
    }
   ],
   "source": []
  },
  {
   "cell_type": "code",
   "execution_count": null,
   "metadata": {},
   "outputs": [],
   "source": []
  },
  {
   "cell_type": "code",
   "execution_count": null,
   "metadata": {},
   "outputs": [],
   "source": []
  }
 ],
 "metadata": {
  "kernelspec": {
   "display_name": "SageMath 9.0",
   "language": "sage",
   "name": "sagemath"
  },
  "language_info": {
   "codemirror_mode": {
    "name": "ipython",
    "version": 3
   },
   "file_extension": ".py",
   "mimetype": "text/x-python",
   "name": "python",
   "nbconvert_exporter": "python",
   "pygments_lexer": "ipython3",
   "version": "3.7.3"
  }
 },
 "nbformat": 4,
 "nbformat_minor": 2
}
