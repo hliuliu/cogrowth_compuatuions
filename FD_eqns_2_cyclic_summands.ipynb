{
 "cells": [
  {
   "cell_type": "markdown",
   "metadata": {},
   "source": [
    "# Function Dependency Equation for Free Product of 2 Cyclic Groups.\n",
    "\n",
    "Consider $G=\\langle x| x^m=1 \\rangle * \\langle y| y^n=1 \\rangle$, where $m,n \\in \\mathbb{Z}_{\\ge0}\\setminus \\{1\\}$. Note that $|G|<\\infty \\iff mn>0$. \n",
    "Take the generating set $S=S_x\\cup S_y$ for $G$, where \n",
    "$$S_x=\\{x\\}\\cup \\iota(m=0)\\cdot\\{x^{-1}\\}, S_y=\\{y\\}\\cup \\iota(n=0)\\cdot\\{y^{-1}\\},$$ \n",
    "and $$\\iota(\\mathcal{P})=\\begin{cases}\\{1\\},&\\mathcal{P}\\\\ \\emptyset,& \\lnot \\mathcal{P}\\end{cases}$$ with $\\cdot$ denoting elementwise group multiplication on sets [$A\\cdot B = \\{ab: a\\in A,\\ b\\in B\\}$]. \n",
    "\n",
    "For $g\\in G$ and $X\\subseteq G$, let $F_{g,X}(t)$ be series for the set of all words in $S^*$ equivalent to $g\\in G$, with proper nonempty prefixes avoiding $X$, characterized by the word length. We set up functional equations involving $F_{g,X}$, for which $\\{g\\}\\cup X\\subseteq \\{v^k: k\\in \\mathbb{Z}\\}$, and $v\\in \\{x,y\\}$. Finally, we solve for $F(t):=F_{1,\\emptyset}(t)$."
   ]
  },
  {
   "cell_type": "code",
   "execution_count": 1,
   "metadata": {},
   "outputs": [],
   "source": [
    "# choose your desired values for m,n\n",
    "# for now, only work for finite G, (mn>0)\n",
    "m = 2\n",
    "n = 2\n",
    "\n",
    "# Do we want word concatenation to reduce to group multiplication?\n",
    "AUTO_REDUCE = True\n",
    "DEFAULT_RS = None # a rewiting system in order to make group element reduction possible, will be set later\n"
   ]
  },
  {
   "cell_type": "code",
   "execution_count": 2,
   "metadata": {},
   "outputs": [],
   "source": [
    "# need to define set-set, set-element multiplication\n",
    "def set_mult(A,B):\n",
    "    # turn any non-set object into a singleton set containing that object\n",
    "    A,B = map(lambda S: S if S in Sets else Set([S]),[A,B])\n",
    "    C= Set([a*b for a,b in cartesian_product([A,B])]) # assuming element multiplication is well defined\n",
    "    if AUTO_REDUCE and DEFAULT_RS is not None:\n",
    "        C = Set([DEFAULT_RS.reduce(c) for c in C])\n",
    "    return C\n",
    "\n",
    "# Let's overload the '*' operator for Set objects\n",
    "# Set is a function, but returns an instance of some spectifed kind of Set class, which is accessible via .parent()\n",
    "reverse_if = lambda seq, cond: list(seq) if not cond else list(reversed(seq))\n",
    "Set().parent()._mul_ =  lambda self, other, switch_sides=False: set_mult(*(reverse_if([self,other], switch_sides)))"
   ]
  },
  {
   "cell_type": "code",
   "execution_count": 3,
   "metadata": {},
   "outputs": [],
   "source": [
    "# compute the free product\n",
    "F2.<x,y> = FreeGroup()\n",
    "G = F2/ (x^m,y^n)\n",
    "x,y = G.gens()\n",
    "\n",
    "# need to write words in reduced form\n",
    "Grs = G.rewriting_system()\n",
    "DEFAULT_RS = Grs"
   ]
  },
  {
   "cell_type": "code",
   "execution_count": 4,
   "metadata": {},
   "outputs": [
    {
     "name": "stdout",
     "output_type": "stream",
     "text": [
      "{x*y, 1, x}\n",
      "{x*y, x^2, x}\n",
      "{x*y, 1, x}\n"
     ]
    }
   ],
   "source": [
    "# test it out\n",
    "A = Set([x,y,G.one()])\n",
    "\n",
    "print(x*A) # with reduaction\n",
    "\n",
    "# very simple to supress/invoke group reduction\n",
    "AUTO_REDUCE = False\n",
    "print(x*A) # without reduction\n",
    "AUTO_REDUCE = True\n",
    "print(x*A) # with reduction"
   ]
  },
  {
   "cell_type": "code",
   "execution_count": 5,
   "metadata": {},
   "outputs": [],
   "source": [
    "# latex expression for sets\n",
    "def set_to_latex(A):\n",
    "    if A == Set():\n",
    "        return r'\\emptyset'\n",
    "    return latex(A)"
   ]
  },
  {
   "cell_type": "code",
   "execution_count": 6,
   "metadata": {},
   "outputs": [
    {
     "data": {
      "text/plain": [
       "True"
      ]
     },
     "execution_count": 6,
     "metadata": {},
     "output_type": "execute_result"
    }
   ],
   "source": [
    "# define a space of variables indexed by the (g,X) pairs\n",
    "# start with what we wish to solve, (1,\\emptyset).\n",
    "def series_expression(g,X):\n",
    "    return 'F_{%s,%s}(t)'%(latex(g),set_to_latex(X))\n",
    "var_space = {}\n",
    "goal_pair = (G.one(), Set())\n",
    "VAR_COUNTER = 0 # increment every time a new series variable is defined\n",
    "\n",
    "def add_series_var(pair):\n",
    "    if pair in var_space:\n",
    "        return False\n",
    "    global VAR_COUNTER\n",
    "    g,X = pair\n",
    "    var_space[pair] = var('v%d'%VAR_COUNTER, latex_name = series_expression(g,X))\n",
    "    VAR_COUNTER += 1\n",
    "    return True\n",
    "\n",
    "add_series_var(goal_pair)\n",
    "    "
   ]
  },
  {
   "cell_type": "code",
   "execution_count": 7,
   "metadata": {},
   "outputs": [
    {
     "data": {
      "text/html": [
       "<html><script type=\"math/tex; mode=display\">\\newcommand{\\Bold}[1]{\\mathbf{#1}}\\left\\{\\left(1, \\left\\{\\right\\}\\right) : {F_{1,\\emptyset}(t)}\\right\\}</script></html>"
      ],
      "text/plain": [
       "{(1, {}): v0}"
      ]
     },
     "metadata": {},
     "output_type": "display_data"
    }
   ],
   "source": [
    "pretty_print(var_space)"
   ]
  },
  {
   "cell_type": "code",
   "execution_count": 8,
   "metadata": {},
   "outputs": [],
   "source": [
    "# Now get the cyclic factors\n",
    "\n",
    "# Sage is not good with subgroups\n",
    "# Gx = G.subgroup((x,))\n",
    "# Gy = G.subgroup((y,))\n",
    "# xx,yy = Gx.gens()+Gy.gens()\n",
    "\n",
    "def in_cyclic_factor(el, v):\n",
    "    '''\n",
    "        returns if the group element is in the given cyclic factor\n",
    "        el: the element in G to check\n",
    "        v: either x or y, the generator of the factor \n",
    "    '''\n",
    "    expr = el.syllables()\n",
    "    if not expr:\n",
    "        return True\n",
    "    return len(expr)==1 and expr[0][0] == v\n",
    "    \n",
    "def subset_of_cyclic_factor(A,v):\n",
    "    # assume finite sets only\n",
    "    return all((in_cyclic_factor(el,v) for el in A))"
   ]
  },
  {
   "cell_type": "code",
   "execution_count": 12,
   "metadata": {},
   "outputs": [],
   "source": [
    "# for finite cyclic factors, we don't want negative exponents. We redefine the __pow__ method.\n",
    "_old_pow = type(x).__pow__\n",
    "def _new_pow(a, k):\n",
    "    if k not in ZZ or k>=0:\n",
    "        # case isn't broken, don't change it\n",
    "        return _old_pow(a,k)\n",
    "    \n",
    "    # k is a negative integer\n",
    "    ans = _old_pow(a,k)\n",
    "#     if AUTO_REDUCE:\n",
    "#         ans = DEFAULT_RS.reduce(ans)\n",
    "    nans = G.one()\n",
    "    for v,ep in ans.syllables():\n",
    "        modval = m if v==x else n\n",
    "        nans*= _old_pow(v, ep if modval==0 else ep%modval)\n",
    "    return nans\n",
    "type(x).__pow__ = _new_pow"
   ]
  },
  {
   "cell_type": "code",
   "execution_count": 20,
   "metadata": {},
   "outputs": [
    {
     "data": {
      "text/plain": [
       "(x, x^2, x^3, x, y*x, 1, y, y*x)"
      ]
     },
     "execution_count": 20,
     "metadata": {},
     "output_type": "execute_result"
    }
   ],
   "source": [
    "x,x^2,x^3,x^-1,(x*y)^-1, x^-2,y^-3,(x*y^3)^-1"
   ]
  },
  {
   "cell_type": "code",
   "execution_count": 194,
   "metadata": {},
   "outputs": [
    {
     "data": {
      "text/plain": [
       "t"
      ]
     },
     "execution_count": 194,
     "metadata": {},
     "output_type": "execute_result"
    }
   ],
   "source": [
    "var('t')"
   ]
  },
  {
   "cell_type": "code",
   "execution_count": 195,
   "metadata": {},
   "outputs": [],
   "source": [
    "# construct the functional equation given the desired (g,X) pair\n",
    "# assume {g}\\cup X is completely in one of the cyclic factors\n",
    "# CURRENTLY FINITE CASE ONLY\n",
    "\n",
    "def get_FD_equation(pair, ret_new_pairs = True):\n",
    "    '''\n",
    "        returns a functional depency equation\n",
    "        if ret_new_pairs is set to True, return a (equation, set of (g,X) pairs) pair instead\n",
    "    '''\n",
    "    if ret_new_pairs:\n",
    "        newpairs = set()\n",
    "    g,X = pair\n",
    "    eqn = None\n",
    "    one = G.one()\n",
    "    oneset = Set([one])\n",
    "    if one not in X:\n",
    "        XU1 = X.union(oneset)\n",
    "        if add_series_var((g,XU1)) and ret_new_pairs:\n",
    "            newpairs.add((g,XU1))\n",
    "        if g==one:\n",
    "            eqn = 1+var_space[(one,X)]*(var_space[(one,XU1)]-1)\n",
    "        else:\n",
    "            eqn = var_space[(one,X)]*var_space[(g,XU1)]\n",
    "    elif subset_of_cyclic_factor(X,x):\n",
    "        if g!=one:\n",
    "            eqn = t*ZZ(g==x)\n",
    "            if x not in X:\n",
    "                g = x^-1*g\n",
    "                X = x^-1*X\n",
    "                if add_series_var((g,X)) and ret_new_pairs:\n",
    "                    newpairs.add((g,X))\n",
    "                eqn += t*var_space[(g,X)]\n",
    "        else:\n",
    "            set_yinv = Set([y^-1]) \n",
    "            if add_series_var((y^-1,set_yinv)) and ret_new_pairs:\n",
    "                newpairs.add((y^-1,set_yinv))\n",
    "            eqn = 1+t*var_space[(y^-1,set_yinv)]\n",
    "            if x not in X:\n",
    "                g = x^-1\n",
    "                X = x^-1*X\n",
    "                if add_series_var((g,X)) and ret_new_pairs:\n",
    "                    newpairs.add((g,X))\n",
    "                eqn += t*var_space[(g,X)]\n",
    "    else:\n",
    "        # the y factor case\n",
    "        if g!=one:\n",
    "            eqn = t*ZZ(g==y)\n",
    "            if y not in X:\n",
    "                g = y^-1*g\n",
    "                X = y^-1*X\n",
    "                if add_series_var((g,X)) and ret_new_pairs:\n",
    "                    newpairs.add((g,X))\n",
    "                eqn += t*var_space[(g,X)]\n",
    "        else:\n",
    "            set_xinv = Set([x^-1]) \n",
    "            if add_series_var((x^-1,set_xinv)) and ret_new_pairs:\n",
    "                newpairs.add((x^-1,set_xinv))\n",
    "            eqn = 1+t*var_space[(x^-1,set_xinv)]\n",
    "            if x not in X:\n",
    "                g = y^-1\n",
    "                X = y^-1*X\n",
    "                if add_series_var((g,X)) and ret_new_pairs:\n",
    "                    newpairs.add((g,X))\n",
    "                eqn += t*var_space[(g,X)]\n",
    "    eqn = var_space[pair]==eqn\n",
    "    return (eqn,newpairs) if ret_new_pairs else eqn\n",
    "    \n"
   ]
  },
  {
   "cell_type": "code",
   "execution_count": 196,
   "metadata": {},
   "outputs": [
    {
     "data": {
      "text/html": [
       "<html><script type=\"math/tex; mode=display\">\\newcommand{\\Bold}[1]{\\mathbf{#1}}\\left({F_{1,\\emptyset}(t)} = {F_{1,\\emptyset}(t)} {\\left({F_{1,\\left\\{1\\right\\}}(t)} - 1\\right)} + 1, \\verb|{(1,|\\phantom{\\verb!x!}\\verb|{1})}|\\right)</script></html>"
      ],
      "text/plain": [
       "(v0 == v0*(v1 - 1) + 1, {(1, {1})})"
      ]
     },
     "metadata": {},
     "output_type": "display_data"
    }
   ],
   "source": [
    "pretty_print(get_FD_equation(goal_pair))"
   ]
  },
  {
   "cell_type": "code",
   "execution_count": 185,
   "metadata": {},
   "outputs": [
    {
     "data": {
      "text/plain": [
       "'x 2'"
      ]
     },
     "execution_count": 185,
     "metadata": {},
     "output_type": "execute_result"
    }
   ],
   "source": []
  },
  {
   "cell_type": "code",
   "execution_count": null,
   "metadata": {},
   "outputs": [],
   "source": []
  },
  {
   "cell_type": "code",
   "execution_count": null,
   "metadata": {},
   "outputs": [],
   "source": []
  }
 ],
 "metadata": {
  "kernelspec": {
   "display_name": "SageMath 9.0",
   "language": "sage",
   "name": "sagemath"
  },
  "language_info": {
   "codemirror_mode": {
    "name": "ipython",
    "version": 3
   },
   "file_extension": ".py",
   "mimetype": "text/x-python",
   "name": "python",
   "nbconvert_exporter": "python",
   "pygments_lexer": "ipython3",
   "version": "3.7.3"
  }
 },
 "nbformat": 4,
 "nbformat_minor": 2
}
