{
 "cells": [
  {
   "cell_type": "markdown",
   "metadata": {},
   "source": [
    "# Function Dependency Equation for Free Product of 2 Cyclic Groups.\n",
    "\n",
    "Consider $G=\\langle x| x^m=1 \\rangle * \\langle y| y^n=1 \\rangle$, where $m,n \\in \\mathbb{Z}_{\\ge0}\\setminus \\{1\\}$. \n",
    "Take the generating set $S=S_x\\cup S_y$ for $G$, where \n",
    "$$S_x=\\{x\\}\\cup \\iota(m=0)\\cdot\\{x^{-1}\\}, S_y=\\{y\\}\\cup \\iota(n=0)\\cdot\\{y^{-1}\\},$$ \n",
    "and $$\\iota(\\mathcal{P})=\\begin{cases}\\{1\\},&\\mathcal{P}\\\\ \\emptyset,& \\lnot \\mathcal{P}\\end{cases}$$ with $\\cdot$ denoting elementwise group multiplication on sets [$A\\cdot B = \\{ab: a\\in A,\\ b\\in B\\}$]. \n",
    "\n",
    "For $g\\in G$ and $X\\subseteq G$, let $F_{g,X}(t)$ be series for the set of all words in $S^*$ equivalent to $g\\in G$, with proper nonempty prefixes avoiding $X$, characterized by the word length. We set up functional equations involving $F_{g,X}$, for which $\\{g\\}\\cup X\\subseteq \\{v^k: k\\in \\mathbb{Z}\\}$, and $v\\in \\{x,y\\}$. Finally, we solve for $F(t):=F_{1,\\emptyset}(t)$."
   ]
  },
  {
   "cell_type": "code",
   "execution_count": 130,
   "metadata": {},
   "outputs": [],
   "source": [
    "# choose your desired values for m,n\n",
    "\n",
    "m = 2\n",
    "n = 3\n",
    "\n",
    "# Do we want word concatenation to reduce to group multiplication?\n",
    "AUTO_REDUCE = True\n",
    "DEFAULT_RS = None # a rewiting system in order to make group element reduction possible, will be set later\n"
   ]
  },
  {
   "cell_type": "code",
   "execution_count": 131,
   "metadata": {},
   "outputs": [],
   "source": [
    "# need to define set-set, set-element multiplication\n",
    "def set_mult(A,B):\n",
    "    # turn any non-set object into a singleton set containing that object\n",
    "    A,B = map(lambda S: S if S in Sets else Set([S]),[A,B])\n",
    "    C= Set([a*b for a,b in cartesian_product([A,B])]) # assuming element multiplication is well defined\n",
    "    if AUTO_REDUCE and DEFAULT_RS is not None:\n",
    "        C = Set([DEFAULT_RS.reduce(c) for c in C])\n",
    "    return C\n",
    "\n",
    "# Let's overload the '*' operator for Set objects\n",
    "# Set is a function, but returns an instance of some spectifed kind of Set class, which is accessible via .parent()\n",
    "reverse_if = lambda seq, cond: list(seq) if not cond else list(reversed(seq))\n",
    "Set().parent()._mul_ =  lambda self, other, switch_sides=False: set_mult(*(reverse_if([self,other], switch_sides)))"
   ]
  },
  {
   "cell_type": "code",
   "execution_count": 132,
   "metadata": {},
   "outputs": [],
   "source": [
    "# compute the free product\n",
    "F2.<x,y> = FreeGroup()\n",
    "G = F2/ (x^m,y^n)\n",
    "x,y = G.gens()\n",
    "\n",
    "# need to write words in reduced form\n",
    "Grs = G.rewriting_system()\n",
    "DEFAULT_RS = Grs"
   ]
  },
  {
   "cell_type": "code",
   "execution_count": 133,
   "metadata": {},
   "outputs": [],
   "source": [
    "# # test it out\n",
    "# A = Set([x,y,G.one()])\n",
    "\n",
    "# print(x*A) # with reduction\n",
    "\n",
    "# # very simple to supress/invoke group reduction\n",
    "# AUTO_REDUCE = False\n",
    "# print(x*A) # without reduction\n",
    "# AUTO_REDUCE = True\n",
    "# print(x*A) # with reduction\n",
    "\n"
   ]
  },
  {
   "cell_type": "code",
   "execution_count": 134,
   "metadata": {},
   "outputs": [],
   "source": [
    "# latex expression for sets\n",
    "def set_to_latex(A):\n",
    "    if A == Set():\n",
    "        return r'\\emptyset'\n",
    "    return latex(A)"
   ]
  },
  {
   "cell_type": "code",
   "execution_count": 135,
   "metadata": {},
   "outputs": [
    {
     "data": {
      "text/plain": [
       "True"
      ]
     },
     "execution_count": 135,
     "metadata": {},
     "output_type": "execute_result"
    }
   ],
   "source": [
    "# define a space of variables indexed by the (g,X) pairs\n",
    "# start with what we wish to solve, (1,\\emptyset).\n",
    "def series_expression(g,X):\n",
    "    return 'F_{%s,%s}(t)'%(latex(g),set_to_latex(X))\n",
    "var_space = {}\n",
    "goal_pair = (G.one(), Set())\n",
    "VAR_COUNTER = 0 # increment every time a new series variable is defined\n",
    "\n",
    "def add_series_var(pair):\n",
    "    if pair in var_space:\n",
    "        return False\n",
    "    global VAR_COUNTER\n",
    "    g,X = pair\n",
    "    var_space[pair] = var('v%d'%VAR_COUNTER, latex_name = series_expression(g,X))\n",
    "    VAR_COUNTER += 1\n",
    "    return True\n",
    "\n",
    "add_series_var(goal_pair)\n",
    "    "
   ]
  },
  {
   "cell_type": "code",
   "execution_count": 136,
   "metadata": {},
   "outputs": [
    {
     "data": {
      "text/html": [
       "<html><script type=\"math/tex; mode=display\">\\newcommand{\\Bold}[1]{\\mathbf{#1}}\\left\\{\\left(1, \\left\\{\\right\\}\\right) : {F_{1,\\emptyset}(t)}\\right\\}</script></html>"
      ],
      "text/plain": [
       "{(1, {}): v0}"
      ]
     },
     "metadata": {},
     "output_type": "display_data"
    }
   ],
   "source": [
    "pretty_print(var_space)"
   ]
  },
  {
   "cell_type": "code",
   "execution_count": 137,
   "metadata": {},
   "outputs": [],
   "source": [
    "# Now get the cyclic factors\n",
    "\n",
    "# Sage is not good with subgroups\n",
    "# Gx = G.subgroup((x,))\n",
    "# Gy = G.subgroup((y,))\n",
    "# xx,yy = Gx.gens()+Gy.gens()\n",
    "\n",
    "def in_cyclic_factor(el, v):\n",
    "    '''\n",
    "        returns if the group element is in the given cyclic factor\n",
    "        el: the element in G to check\n",
    "        v: either x or y, the generator of the factor \n",
    "    '''\n",
    "    expr = el.syllables()\n",
    "    if not expr:\n",
    "        return True\n",
    "    return len(expr)==1 and expr[0][0] == v\n",
    "    \n",
    "def subset_of_cyclic_factor(A,v):\n",
    "    # assume finite sets only\n",
    "    return all((in_cyclic_factor(el,v) for el in A))"
   ]
  },
  {
   "cell_type": "code",
   "execution_count": 138,
   "metadata": {},
   "outputs": [],
   "source": [
    "# for finite cyclic factors, we don't want negative exponents. We redefine the __pow__ method.\n",
    "if AUTO_REDUCE and DEFAULT_RS is not None:\n",
    "    if '_old_pow' not in vars():\n",
    "        _old_pow = type(x).__pow__\n",
    "    def _new_pow(a, k):\n",
    "        if k not in ZZ or k>=0:\n",
    "            # case isn't broken, don't change it\n",
    "            return _old_pow(a,k)\n",
    "\n",
    "        # k is a negative integer\n",
    "        ans = _old_pow(a,k)\n",
    "    #     if AUTO_REDUCE:\n",
    "    #         ans = DEFAULT_RS.reduce(ans)\n",
    "        nans = G.one()\n",
    "        for v,ep in ans.syllables():\n",
    "            modval = m if v==x else n # charateristic of the free factor\n",
    "            nans*= _old_pow(v, ep if modval==0 else ep%modval) # if infinite oder, keep same exponent\n",
    "        return nans\n",
    "    type(x).__pow__ = _new_pow"
   ]
  },
  {
   "cell_type": "code",
   "execution_count": 139,
   "metadata": {},
   "outputs": [
    {
     "data": {
      "text/plain": [
       "({x}, {y})"
      ]
     },
     "execution_count": 139,
     "metadata": {},
     "output_type": "execute_result"
    }
   ],
   "source": [
    "# For multiplication, want auto reduation to be available\n",
    "# if AUTO_REDUCE and DEFAULT_RS is not None:\n",
    "#     if '_old_mul' not in vars():\n",
    "#         _old_mul = type(x).__mul__\n",
    "#     def _new_mul(a, b):\n",
    "#         return DEFAULT_RS.reduce(_old_mul(a,b))\n",
    "#     type(x).__mul__ = _new_mul\n",
    "\n",
    "\n",
    "# set up the generating sets\n",
    "Sx = Set([x]+[x^-1]*int(m==0))\n",
    "Sy = Set([y]+[y^-1]*int(n==0))\n",
    "Sx,Sy"
   ]
  },
  {
   "cell_type": "code",
   "execution_count": 140,
   "metadata": {},
   "outputs": [
    {
     "data": {
      "text/plain": [
       "(x, x^2, x^4, x, y^2*x, 1, 1, True)"
      ]
     },
     "execution_count": 140,
     "metadata": {},
     "output_type": "execute_result"
    }
   ],
   "source": [
    "x,x^2,x^3*x,x^-1,(x*y)^-1, x^-2,y^-3, '_old_pow' in vars()"
   ]
  },
  {
   "cell_type": "code",
   "execution_count": 141,
   "metadata": {},
   "outputs": [
    {
     "data": {
      "text/plain": [
       "t"
      ]
     },
     "execution_count": 141,
     "metadata": {},
     "output_type": "execute_result"
    }
   ],
   "source": [
    "var('t')\n"
   ]
  },
  {
   "cell_type": "code",
   "execution_count": 142,
   "metadata": {},
   "outputs": [],
   "source": [
    "# We need to construct a reduced pair, in the case of an infinite cyclic factor\n",
    "# if v is a generator of \\Z and (g,X), with elements in <v>, is the original pair, \n",
    "#    then we write a procedure to reduce it to (g,X'),\n",
    "#    where X' is X, with all the nonzero powers of v removed \n",
    "#      EXCEPT ones with smallest positive, and largest negative, powers, if applicable.\n",
    "# Eg1. X={1,v,v^2,v^-1,v^-4, v^17} -> X'= {1,v,v^-1}\n",
    "# Eg2. X={v^2,v^5,v^7,v^-3,v^-100} -> X' = {v^2,v^-3}\n",
    "# Eg3. X={1,v^3,v^5,v^20} -> X'={1,v^3}\n",
    "# If g= v^i, i>0, and v^j in X' for some 0<j<i, then F_{g,X'}(t)=0\n",
    "\n",
    "def series_must_be_0(pair, v, cr):\n",
    "    # checks whether or not a pair satisfies the series=0 condition described above\n",
    "    if cr>0:\n",
    "        return False\n",
    "    g, X = pair\n",
    "    ep=0\n",
    "    for _,ep in g.syllables():\n",
    "        break\n",
    "    if ep<0:\n",
    "        v= v^-1\n",
    "        ep=-ep\n",
    "    return X.intersection(Set(v.powers(ep))-Set([G.one()]))!=Set()\n",
    "    \n",
    "\n",
    "def strip_redundant_powers(X, v, cr):\n",
    "    '''\n",
    "    v: either x or y, depending in which case, subset_of_cyclic_factor(X,v) would return True\n",
    "    X: a subset of <v>\n",
    "    cr: the characteristic of the factor generated by <v>, a number in 0,2,3,4,5,...\n",
    "    returns X' as described above.\n",
    "    '''\n",
    "    if cr>0:\n",
    "        # finite group, can't remove elements\n",
    "        return X\n",
    "    Xred = set()\n",
    "    pos,neg = oo,-oo\n",
    "    for a in X:\n",
    "        ep=0\n",
    "        for _,ep in a.syllables():\n",
    "            break\n",
    "        if ep>0:\n",
    "            pos = min(ep,pos)\n",
    "        if ep<0:\n",
    "            neg = max(ep,neg)\n",
    "    \n",
    "    if G.one() in X:\n",
    "        Xred.add(G.one())\n",
    "    if pos in ZZ:\n",
    "        Xred.add(v^pos)\n",
    "    if neg in ZZ:\n",
    "        Xred.add(v^neg)\n",
    "    return Set(Xred)\n",
    "\n",
    "#strip_redundant_powers(Set([y^2,y^5]), y, 0)\n",
    "#series_must_be_0((x^2,Set([G.one(),x^-1,x^-2,x])),x,0)"
   ]
  },
  {
   "cell_type": "code",
   "execution_count": 143,
   "metadata": {},
   "outputs": [],
   "source": [
    "# construct the functional equation given the desired (g,X) pair\n",
    "# assume {g}\\cup X is completely in one of the cyclic factors\n",
    "# CURRENTLY FINITE CASE ONLY\n",
    "\n",
    "def get_FD_equation(pair, ret_new_pairs = True):\n",
    "    '''\n",
    "        returns a functional depency equation\n",
    "        if ret_new_pairs is set to True, return a (equation, set of (g,X) pairs) pair instead\n",
    "        assume X is reduced in the inifnte cyclic case\n",
    "    '''\n",
    "    if ret_new_pairs:\n",
    "        newpairs = set()\n",
    "    g,X = pair\n",
    "    eqn = None\n",
    "    one = G.one()\n",
    "    oneset = Set([one])\n",
    "    if one not in X:\n",
    "        XU1 = X.union(oneset) # also reduced since X is\n",
    "        if add_series_var((one,X)) and ret_new_pairs:\n",
    "            newpairs.add((one,X))\n",
    "        if add_series_var((g,XU1)) and ret_new_pairs:\n",
    "            newpairs.add((g,XU1))\n",
    "        if g==one:\n",
    "            eqn = 1+var_space[(one,X)]*(var_space[(one,XU1)]-1)\n",
    "        else:\n",
    "            eqn = var_space[(one,X)]*var_space[(g,XU1)]\n",
    "    elif subset_of_cyclic_factor(X,x):\n",
    "        if g!=one:\n",
    "            eqn = t*ZZ(g in Sx)\n",
    "            for s in Sx-X:\n",
    "                [gs] = s^-1*Set([g]) # use set so auto reduction is implemented\n",
    "                Xs = s^-1*X\n",
    "                Xs = strip_redundant_powers(Xs, x, m)\n",
    "                if not series_must_be_0((gs,Xs),x,m):\n",
    "                    if add_series_var((gs,Xs)) and ret_new_pairs:\n",
    "                        newpairs.add((gs,Xs))\n",
    "                    eqn += t*var_space[(gs,Xs)]\n",
    "        else:\n",
    "            eqn = 1*t^0\n",
    "            for s in Sy:\n",
    "                set_sinv = Set([s^-1]) # already reduced\n",
    "                if add_series_var((s^-1,set_sinv)) and ret_new_pairs:\n",
    "                    newpairs.add((s^-1,set_sinv))\n",
    "                eqn += t*var_space[(s^-1,set_sinv)]\n",
    "            for s in Sx-X:\n",
    "                [gs] = s^-1*Set([g]) # use set so auto reduction is implemented\n",
    "                Xs = s^-1*X\n",
    "                Xs = strip_redundant_powers(Xs, x, m)\n",
    "                if not series_must_be_0((gs,Xs),x,m):\n",
    "                    if add_series_var((gs,Xs)) and ret_new_pairs:\n",
    "                        newpairs.add((gs,Xs))\n",
    "                    eqn += t*var_space[(gs,Xs)]\n",
    "    else:\n",
    "        # the y factor case\n",
    "        if g!=one:\n",
    "            eqn = t*ZZ(g in Sy)\n",
    "            for s in Sy-X:\n",
    "                [gs] = s^-1*Set([g]) # use set so auto reduction is implemented\n",
    "                Xs = s^-1*X\n",
    "                Xs = strip_redundant_powers(Xs, y, n)\n",
    "                if not series_must_be_0((gs,Xs),y,n):\n",
    "                    if add_series_var((gs,Xs)) and ret_new_pairs:\n",
    "                        newpairs.add((gs,Xs))\n",
    "                    eqn += t*var_space[(gs,Xs)]\n",
    "        else:\n",
    "            eqn = 1*t^0\n",
    "            for s in Sx:\n",
    "                set_sinv = Set([s^-1]) # already reduced\n",
    "                if add_series_var((s^-1,set_sinv)) and ret_new_pairs:\n",
    "                    newpairs.add((s^-1,set_sinv))\n",
    "                eqn += t*var_space[(s^-1,set_sinv)]\n",
    "            for s in Sy-X:\n",
    "                [gs] = s^-1*Set([g]) # use set so auto reduction is implemented\n",
    "                Xs = s^-1*X\n",
    "                Xs = strip_redundant_powers(Xs, y, n)\n",
    "                if not series_must_be_0((gs,Xs),y,n):\n",
    "                    if add_series_var((gs,Xs)) and ret_new_pairs:\n",
    "                        newpairs.add((gs,Xs))\n",
    "                    eqn += t*var_space[(gs,Xs)]\n",
    "    eqn = var_space[pair]==eqn\n",
    "    return (eqn,newpairs) if ret_new_pairs else eqn\n",
    "    "
   ]
  },
  {
   "cell_type": "code",
   "execution_count": 144,
   "metadata": {},
   "outputs": [],
   "source": [
    "# Let us build the system of equations\n",
    "from time import time\n",
    "\n",
    "system = []\n",
    "queue = [goal_pair]\n",
    "st_time = time()\n",
    "# use BFS\n",
    "while queue:\n",
    "    pair = queue.pop(0)\n",
    "    #pretty_print(pair)\n",
    "    eqn, newp = get_FD_equation(pair)\n",
    "    queue.extend(newp)\n",
    "    system.append(eqn)\n",
    "    end_time =  time()\n",
    "    if end_time-st_time>100:\n",
    "        break\n"
   ]
  },
  {
   "cell_type": "code",
   "execution_count": 145,
   "metadata": {},
   "outputs": [
    {
     "name": "stdout",
     "output_type": "stream",
     "text": [
      "{F_{1,\\emptyset}(t)} = {F_{1,\\emptyset}(t)} {\\left({F_{1,\\left\\{1\\right\\}}(t)} - 1\\right)} + 1 \\\\\n",
      "{F_{1,\\left\\{1\\right\\}}(t)} = t {F_{y^{2},\\left\\{y^{2}\\right\\}}(t)} + t {F_{x,\\left\\{x\\right\\}}(t)} + 1 \\\\\n",
      "{F_{x,\\left\\{x\\right\\}}(t)} = {F_{1,\\left\\{x\\right\\}}(t)} {F_{x,\\left\\{1, x\\right\\}}(t)} \\\\\n",
      "{F_{y^{2},\\left\\{y^{2}\\right\\}}(t)} = {F_{1,\\left\\{y^{2}\\right\\}}(t)} {F_{y^{2},\\left\\{1, y^{2}\\right\\}}(t)} \\\\\n",
      "{F_{1,\\left\\{x\\right\\}}(t)} = {F_{1,\\left\\{x\\right\\}}(t)} {\\left({F_{1,\\left\\{1, x\\right\\}}(t)} - 1\\right)} + 1 \\\\\n",
      "{F_{x,\\left\\{1, x\\right\\}}(t)} = t \\\\\n",
      "{F_{1,\\left\\{y^{2}\\right\\}}(t)} = {F_{1,\\left\\{y^{2}\\right\\}}(t)} {\\left({F_{1,\\left\\{1, y^{2}\\right\\}}(t)} - 1\\right)} + 1 \\\\\n",
      "{F_{y^{2},\\left\\{1, y^{2}\\right\\}}(t)} = t {F_{y,\\left\\{y, y^{2}\\right\\}}(t)} \\\\\n",
      "{F_{1,\\left\\{1, x\\right\\}}(t)} = t {F_{y^{2},\\left\\{y^{2}\\right\\}}(t)} + 1 \\\\\n",
      "{F_{1,\\left\\{1, y^{2}\\right\\}}(t)} = t {F_{y^{2},\\left\\{y, y^{2}\\right\\}}(t)} + t {F_{x,\\left\\{x\\right\\}}(t)} + 1 \\\\\n",
      "{F_{y,\\left\\{y, y^{2}\\right\\}}(t)} = {F_{1,\\left\\{y, y^{2}\\right\\}}(t)} {F_{y,\\left\\{y, 1, y^{2}\\right\\}}(t)} \\\\\n",
      "{F_{y^{2},\\left\\{y, y^{2}\\right\\}}(t)} = {F_{1,\\left\\{y, y^{2}\\right\\}}(t)} {F_{y^{2},\\left\\{y, 1, y^{2}\\right\\}}(t)} \\\\\n",
      "{F_{y,\\left\\{y, 1, y^{2}\\right\\}}(t)} = t \\\\\n",
      "{F_{1,\\left\\{y, y^{2}\\right\\}}(t)} = {F_{1,\\left\\{y, y^{2}\\right\\}}(t)} {\\left({F_{1,\\left\\{y, 1, y^{2}\\right\\}}(t)} - 1\\right)} + 1 \\\\\n",
      "{F_{y^{2},\\left\\{y, 1, y^{2}\\right\\}}(t)} = 0 \\\\\n",
      "{F_{1,\\left\\{y, 1, y^{2}\\right\\}}(t)} = t {F_{x,\\left\\{x\\right\\}}(t)} + 1 \\\\\n",
      "\n",
      "\n"
     ]
    },
    {
     "data": {
      "text/html": [
       "<html><script type=\"math/tex; mode=display\">\\newcommand{\\Bold}[1]{\\mathbf{#1}}{F_{1,\\emptyset}(t)} = {F_{1,\\emptyset}(t)} {\\left({F_{1,\\left\\{1\\right\\}}(t)} - 1\\right)} + 1</script></html>"
      ],
      "text/plain": [
       "v0 == v0*(v1 - 1) + 1"
      ]
     },
     "metadata": {},
     "output_type": "display_data"
    },
    {
     "data": {
      "text/html": [
       "<html><script type=\"math/tex; mode=display\">\\newcommand{\\Bold}[1]{\\mathbf{#1}}{F_{1,\\left\\{1\\right\\}}(t)} = t {F_{y^{2},\\left\\{y^{2}\\right\\}}(t)} + t {F_{x,\\left\\{x\\right\\}}(t)} + 1</script></html>"
      ],
      "text/plain": [
       "v1 == t*v2 + t*v3 + 1"
      ]
     },
     "metadata": {},
     "output_type": "display_data"
    },
    {
     "data": {
      "text/html": [
       "<html><script type=\"math/tex; mode=display\">\\newcommand{\\Bold}[1]{\\mathbf{#1}}{F_{x,\\left\\{x\\right\\}}(t)} = {F_{1,\\left\\{x\\right\\}}(t)} {F_{x,\\left\\{1, x\\right\\}}(t)}</script></html>"
      ],
      "text/plain": [
       "v3 == v4*v5"
      ]
     },
     "metadata": {},
     "output_type": "display_data"
    },
    {
     "data": {
      "text/html": [
       "<html><script type=\"math/tex; mode=display\">\\newcommand{\\Bold}[1]{\\mathbf{#1}}{F_{y^{2},\\left\\{y^{2}\\right\\}}(t)} = {F_{1,\\left\\{y^{2}\\right\\}}(t)} {F_{y^{2},\\left\\{1, y^{2}\\right\\}}(t)}</script></html>"
      ],
      "text/plain": [
       "v2 == v6*v7"
      ]
     },
     "metadata": {},
     "output_type": "display_data"
    },
    {
     "data": {
      "text/html": [
       "<html><script type=\"math/tex; mode=display\">\\newcommand{\\Bold}[1]{\\mathbf{#1}}{F_{1,\\left\\{x\\right\\}}(t)} = {F_{1,\\left\\{x\\right\\}}(t)} {\\left({F_{1,\\left\\{1, x\\right\\}}(t)} - 1\\right)} + 1</script></html>"
      ],
      "text/plain": [
       "v4 == v4*(v8 - 1) + 1"
      ]
     },
     "metadata": {},
     "output_type": "display_data"
    },
    {
     "data": {
      "text/html": [
       "<html><script type=\"math/tex; mode=display\">\\newcommand{\\Bold}[1]{\\mathbf{#1}}{F_{x,\\left\\{1, x\\right\\}}(t)} = t</script></html>"
      ],
      "text/plain": [
       "v5 == t"
      ]
     },
     "metadata": {},
     "output_type": "display_data"
    },
    {
     "data": {
      "text/html": [
       "<html><script type=\"math/tex; mode=display\">\\newcommand{\\Bold}[1]{\\mathbf{#1}}{F_{1,\\left\\{y^{2}\\right\\}}(t)} = {F_{1,\\left\\{y^{2}\\right\\}}(t)} {\\left({F_{1,\\left\\{1, y^{2}\\right\\}}(t)} - 1\\right)} + 1</script></html>"
      ],
      "text/plain": [
       "v6 == v6*(v9 - 1) + 1"
      ]
     },
     "metadata": {},
     "output_type": "display_data"
    },
    {
     "data": {
      "text/html": [
       "<html><script type=\"math/tex; mode=display\">\\newcommand{\\Bold}[1]{\\mathbf{#1}}{F_{y^{2},\\left\\{1, y^{2}\\right\\}}(t)} = t {F_{y,\\left\\{y, y^{2}\\right\\}}(t)}</script></html>"
      ],
      "text/plain": [
       "v7 == t*v10"
      ]
     },
     "metadata": {},
     "output_type": "display_data"
    },
    {
     "data": {
      "text/html": [
       "<html><script type=\"math/tex; mode=display\">\\newcommand{\\Bold}[1]{\\mathbf{#1}}{F_{1,\\left\\{1, x\\right\\}}(t)} = t {F_{y^{2},\\left\\{y^{2}\\right\\}}(t)} + 1</script></html>"
      ],
      "text/plain": [
       "v8 == t*v2 + 1"
      ]
     },
     "metadata": {},
     "output_type": "display_data"
    },
    {
     "data": {
      "text/html": [
       "<html><script type=\"math/tex; mode=display\">\\newcommand{\\Bold}[1]{\\mathbf{#1}}{F_{1,\\left\\{1, y^{2}\\right\\}}(t)} = t {F_{y^{2},\\left\\{y, y^{2}\\right\\}}(t)} + t {F_{x,\\left\\{x\\right\\}}(t)} + 1</script></html>"
      ],
      "text/plain": [
       "v9 == t*v11 + t*v3 + 1"
      ]
     },
     "metadata": {},
     "output_type": "display_data"
    },
    {
     "data": {
      "text/html": [
       "<html><script type=\"math/tex; mode=display\">\\newcommand{\\Bold}[1]{\\mathbf{#1}}{F_{y,\\left\\{y, y^{2}\\right\\}}(t)} = {F_{1,\\left\\{y, y^{2}\\right\\}}(t)} {F_{y,\\left\\{y, 1, y^{2}\\right\\}}(t)}</script></html>"
      ],
      "text/plain": [
       "v10 == v12*v13"
      ]
     },
     "metadata": {},
     "output_type": "display_data"
    },
    {
     "data": {
      "text/html": [
       "<html><script type=\"math/tex; mode=display\">\\newcommand{\\Bold}[1]{\\mathbf{#1}}{F_{y^{2},\\left\\{y, y^{2}\\right\\}}(t)} = {F_{1,\\left\\{y, y^{2}\\right\\}}(t)} {F_{y^{2},\\left\\{y, 1, y^{2}\\right\\}}(t)}</script></html>"
      ],
      "text/plain": [
       "v11 == v12*v14"
      ]
     },
     "metadata": {},
     "output_type": "display_data"
    },
    {
     "data": {
      "text/html": [
       "<html><script type=\"math/tex; mode=display\">\\newcommand{\\Bold}[1]{\\mathbf{#1}}{F_{y,\\left\\{y, 1, y^{2}\\right\\}}(t)} = t</script></html>"
      ],
      "text/plain": [
       "v13 == t"
      ]
     },
     "metadata": {},
     "output_type": "display_data"
    },
    {
     "data": {
      "text/html": [
       "<html><script type=\"math/tex; mode=display\">\\newcommand{\\Bold}[1]{\\mathbf{#1}}{F_{1,\\left\\{y, y^{2}\\right\\}}(t)} = {F_{1,\\left\\{y, y^{2}\\right\\}}(t)} {\\left({F_{1,\\left\\{y, 1, y^{2}\\right\\}}(t)} - 1\\right)} + 1</script></html>"
      ],
      "text/plain": [
       "v12 == v12*(v15 - 1) + 1"
      ]
     },
     "metadata": {},
     "output_type": "display_data"
    },
    {
     "data": {
      "text/html": [
       "<html><script type=\"math/tex; mode=display\">\\newcommand{\\Bold}[1]{\\mathbf{#1}}{F_{y^{2},\\left\\{y, 1, y^{2}\\right\\}}(t)} = 0</script></html>"
      ],
      "text/plain": [
       "v14 == 0"
      ]
     },
     "metadata": {},
     "output_type": "display_data"
    },
    {
     "data": {
      "text/html": [
       "<html><script type=\"math/tex; mode=display\">\\newcommand{\\Bold}[1]{\\mathbf{#1}}{F_{1,\\left\\{y, 1, y^{2}\\right\\}}(t)} = t {F_{x,\\left\\{x\\right\\}}(t)} + 1</script></html>"
      ],
      "text/plain": [
       "v15 == t*v3 + 1"
      ]
     },
     "metadata": {},
     "output_type": "display_data"
    }
   ],
   "source": [
    "# Here are the equations\n",
    "for eqn in system:\n",
    "    print(latex(eqn),r'\\\\')\n",
    "print()\n",
    "print()\n",
    "for eqn in system:\n",
    "    #print(eqn)\n",
    "    pretty_print(eqn)"
   ]
  },
  {
   "cell_type": "code",
   "execution_count": 146,
   "metadata": {},
   "outputs": [],
   "source": [
    "# Finally solve the system\n",
    "\n",
    "\n",
    "\n",
    "# save so we dont lose it\n",
    "orig_system = list(system)"
   ]
  },
  {
   "cell_type": "code",
   "execution_count": 147,
   "metadata": {},
   "outputs": [],
   "source": [
    "# first, isolate variables on the LHS\n",
    "\n",
    "for i, eqn in enumerate(system):\n",
    "    system[i] = solve(eqn,eqn.lhs())[0]\n",
    "    "
   ]
  },
  {
   "cell_type": "code",
   "execution_count": 148,
   "metadata": {},
   "outputs": [
    {
     "data": {
      "text/html": [
       "<html><script type=\"math/tex; mode=display\">\\newcommand{\\Bold}[1]{\\mathbf{#1}}{F_{1,\\emptyset}(t)} = -\\frac{1}{{F_{1,\\left\\{1\\right\\}}(t)} - 2}</script></html>"
      ],
      "text/plain": [
       "v0 == -1/(v1 - 2)"
      ]
     },
     "metadata": {},
     "output_type": "display_data"
    },
    {
     "data": {
      "text/html": [
       "<html><script type=\"math/tex; mode=display\">\\newcommand{\\Bold}[1]{\\mathbf{#1}}{F_{1,\\left\\{1\\right\\}}(t)} = t {F_{y^{2},\\left\\{y^{2}\\right\\}}(t)} + t {F_{x,\\left\\{x\\right\\}}(t)} + 1</script></html>"
      ],
      "text/plain": [
       "v1 == t*v2 + t*v3 + 1"
      ]
     },
     "metadata": {},
     "output_type": "display_data"
    },
    {
     "data": {
      "text/html": [
       "<html><script type=\"math/tex; mode=display\">\\newcommand{\\Bold}[1]{\\mathbf{#1}}{F_{x,\\left\\{x\\right\\}}(t)} = {F_{1,\\left\\{x\\right\\}}(t)} {F_{x,\\left\\{1, x\\right\\}}(t)}</script></html>"
      ],
      "text/plain": [
       "v3 == v4*v5"
      ]
     },
     "metadata": {},
     "output_type": "display_data"
    },
    {
     "data": {
      "text/html": [
       "<html><script type=\"math/tex; mode=display\">\\newcommand{\\Bold}[1]{\\mathbf{#1}}{F_{y^{2},\\left\\{y^{2}\\right\\}}(t)} = {F_{1,\\left\\{y^{2}\\right\\}}(t)} {F_{y^{2},\\left\\{1, y^{2}\\right\\}}(t)}</script></html>"
      ],
      "text/plain": [
       "v2 == v6*v7"
      ]
     },
     "metadata": {},
     "output_type": "display_data"
    },
    {
     "data": {
      "text/html": [
       "<html><script type=\"math/tex; mode=display\">\\newcommand{\\Bold}[1]{\\mathbf{#1}}{F_{1,\\left\\{x\\right\\}}(t)} = -\\frac{1}{{F_{1,\\left\\{1, x\\right\\}}(t)} - 2}</script></html>"
      ],
      "text/plain": [
       "v4 == -1/(v8 - 2)"
      ]
     },
     "metadata": {},
     "output_type": "display_data"
    },
    {
     "data": {
      "text/html": [
       "<html><script type=\"math/tex; mode=display\">\\newcommand{\\Bold}[1]{\\mathbf{#1}}{F_{x,\\left\\{1, x\\right\\}}(t)} = t</script></html>"
      ],
      "text/plain": [
       "v5 == t"
      ]
     },
     "metadata": {},
     "output_type": "display_data"
    },
    {
     "data": {
      "text/html": [
       "<html><script type=\"math/tex; mode=display\">\\newcommand{\\Bold}[1]{\\mathbf{#1}}{F_{1,\\left\\{y^{2}\\right\\}}(t)} = -\\frac{1}{{F_{1,\\left\\{1, y^{2}\\right\\}}(t)} - 2}</script></html>"
      ],
      "text/plain": [
       "v6 == -1/(v9 - 2)"
      ]
     },
     "metadata": {},
     "output_type": "display_data"
    },
    {
     "data": {
      "text/html": [
       "<html><script type=\"math/tex; mode=display\">\\newcommand{\\Bold}[1]{\\mathbf{#1}}{F_{y^{2},\\left\\{1, y^{2}\\right\\}}(t)} = t {F_{y,\\left\\{y, y^{2}\\right\\}}(t)}</script></html>"
      ],
      "text/plain": [
       "v7 == t*v10"
      ]
     },
     "metadata": {},
     "output_type": "display_data"
    },
    {
     "data": {
      "text/html": [
       "<html><script type=\"math/tex; mode=display\">\\newcommand{\\Bold}[1]{\\mathbf{#1}}{F_{1,\\left\\{1, x\\right\\}}(t)} = t {F_{y^{2},\\left\\{y^{2}\\right\\}}(t)} + 1</script></html>"
      ],
      "text/plain": [
       "v8 == t*v2 + 1"
      ]
     },
     "metadata": {},
     "output_type": "display_data"
    },
    {
     "data": {
      "text/html": [
       "<html><script type=\"math/tex; mode=display\">\\newcommand{\\Bold}[1]{\\mathbf{#1}}{F_{1,\\left\\{1, y^{2}\\right\\}}(t)} = t {F_{y^{2},\\left\\{y, y^{2}\\right\\}}(t)} + t {F_{x,\\left\\{x\\right\\}}(t)} + 1</script></html>"
      ],
      "text/plain": [
       "v9 == t*v11 + t*v3 + 1"
      ]
     },
     "metadata": {},
     "output_type": "display_data"
    },
    {
     "data": {
      "text/html": [
       "<html><script type=\"math/tex; mode=display\">\\newcommand{\\Bold}[1]{\\mathbf{#1}}{F_{y,\\left\\{y, y^{2}\\right\\}}(t)} = {F_{1,\\left\\{y, y^{2}\\right\\}}(t)} {F_{y,\\left\\{y, 1, y^{2}\\right\\}}(t)}</script></html>"
      ],
      "text/plain": [
       "v10 == v12*v13"
      ]
     },
     "metadata": {},
     "output_type": "display_data"
    },
    {
     "data": {
      "text/html": [
       "<html><script type=\"math/tex; mode=display\">\\newcommand{\\Bold}[1]{\\mathbf{#1}}{F_{y^{2},\\left\\{y, y^{2}\\right\\}}(t)} = {F_{1,\\left\\{y, y^{2}\\right\\}}(t)} {F_{y^{2},\\left\\{y, 1, y^{2}\\right\\}}(t)}</script></html>"
      ],
      "text/plain": [
       "v11 == v12*v14"
      ]
     },
     "metadata": {},
     "output_type": "display_data"
    },
    {
     "data": {
      "text/html": [
       "<html><script type=\"math/tex; mode=display\">\\newcommand{\\Bold}[1]{\\mathbf{#1}}{F_{y,\\left\\{y, 1, y^{2}\\right\\}}(t)} = t</script></html>"
      ],
      "text/plain": [
       "v13 == t"
      ]
     },
     "metadata": {},
     "output_type": "display_data"
    },
    {
     "data": {
      "text/html": [
       "<html><script type=\"math/tex; mode=display\">\\newcommand{\\Bold}[1]{\\mathbf{#1}}{F_{1,\\left\\{y, y^{2}\\right\\}}(t)} = -\\frac{1}{{F_{1,\\left\\{y, 1, y^{2}\\right\\}}(t)} - 2}</script></html>"
      ],
      "text/plain": [
       "v12 == -1/(v15 - 2)"
      ]
     },
     "metadata": {},
     "output_type": "display_data"
    },
    {
     "data": {
      "text/html": [
       "<html><script type=\"math/tex; mode=display\">\\newcommand{\\Bold}[1]{\\mathbf{#1}}{F_{y^{2},\\left\\{y, 1, y^{2}\\right\\}}(t)} = 0</script></html>"
      ],
      "text/plain": [
       "v14 == 0"
      ]
     },
     "metadata": {},
     "output_type": "display_data"
    },
    {
     "data": {
      "text/html": [
       "<html><script type=\"math/tex; mode=display\">\\newcommand{\\Bold}[1]{\\mathbf{#1}}{F_{1,\\left\\{y, 1, y^{2}\\right\\}}(t)} = t {F_{x,\\left\\{x\\right\\}}(t)} + 1</script></html>"
      ],
      "text/plain": [
       "v15 == t*v3 + 1"
      ]
     },
     "metadata": {},
     "output_type": "display_data"
    },
    {
     "name": "stdout",
     "output_type": "stream",
     "text": [
      "16\n"
     ]
    }
   ],
   "source": [
    "for eqn in system:\n",
    "    pretty_print(eqn)\n",
    "print(len(system))"
   ]
  },
  {
   "cell_type": "code",
   "execution_count": 149,
   "metadata": {},
   "outputs": [
    {
     "name": "stdout",
     "output_type": "stream",
     "text": [
      "Number of iteration taken to substitute 2\n"
     ]
    }
   ],
   "source": [
    "# now make some substitutions\n",
    "\n",
    "change = 1\n",
    "numit = 0\n",
    "\n",
    "while change:\n",
    "    change = 0\n",
    "    # build a dependency graph\n",
    "    eq_by_lhs = {eq.lhs():eq for eq in system}\n",
    "    dep_gr = {eq.lhs():set(eq.rhs().args())-{t} for eq in system}\n",
    "    vars_det = [v for v,args in dep_gr.items() if not args] # the completely solved vars\n",
    "\n",
    "    rev_dep_gr = {v:set() for v in eq_by_lhs} # diagraph by reversing the arcs of dep_gr\n",
    "    for v,ag in dep_gr.items():\n",
    "        for w in ag:\n",
    "            rev_dep_gr[w].add(v)\n",
    "\n",
    "    # apply BFS to make the substitutions possible\n",
    "    vis = set(vars_det)\n",
    "    queue = list(vis)\n",
    "    done = set()\n",
    "    while queue:\n",
    "        nxtvar = queue.pop(0)\n",
    "        # check if all RHS variables are visited before\n",
    "        sub_dict = {}\n",
    "        for dps in dep_gr[nxtvar]:\n",
    "            if dps not in done:\n",
    "                continue # can't substitute, a RHS varible is not yet reduced\n",
    "            sub_dict[dps] = eq_by_lhs[dps].rhs()\n",
    "            change = 1\n",
    "        eq_by_lhs[nxtvar] = eq_by_lhs[nxtvar].subs(sub_dict)\n",
    "        eq_by_lhs[nxtvar].expand()\n",
    "        for pt in rev_dep_gr[nxtvar]:\n",
    "            if pt not in vis:\n",
    "                queue.append(pt)\n",
    "                vis.add(pt)\n",
    "        done.add(nxtvar)\n",
    "    \n",
    "    for i, eq in enumerate(system):\n",
    "        system[i] = eq_by_lhs[eq.lhs()]\n",
    "    numit+=1\n",
    "\n",
    "print('Number of iteration taken to substitute',numit)\n",
    "        \n"
   ]
  },
  {
   "cell_type": "code",
   "execution_count": 150,
   "metadata": {},
   "outputs": [
    {
     "data": {
      "text/html": [
       "<html><script type=\"math/tex; mode=display\">\\newcommand{\\Bold}[1]{\\mathbf{#1}}{F_{1,\\emptyset}(t)} = -\\frac{1}{t^{2} {F_{1,\\left\\{x\\right\\}}(t)} + t {F_{y^{2},\\left\\{y^{2}\\right\\}}(t)} - 1}</script></html>"
      ],
      "text/plain": [
       "v0 == -1/(t^2*v4 + t*v2 - 1)"
      ]
     },
     "metadata": {},
     "output_type": "display_data"
    },
    {
     "data": {
      "text/html": [
       "<html><script type=\"math/tex; mode=display\">\\newcommand{\\Bold}[1]{\\mathbf{#1}}{F_{1,\\left\\{1\\right\\}}(t)} = t^{2} {F_{1,\\left\\{x\\right\\}}(t)} + t {F_{y^{2},\\left\\{y^{2}\\right\\}}(t)} + 1</script></html>"
      ],
      "text/plain": [
       "v1 == t^2*v4 + t*v2 + 1"
      ]
     },
     "metadata": {},
     "output_type": "display_data"
    },
    {
     "data": {
      "text/html": [
       "<html><script type=\"math/tex; mode=display\">\\newcommand{\\Bold}[1]{\\mathbf{#1}}{F_{x,\\left\\{x\\right\\}}(t)} = t {F_{1,\\left\\{x\\right\\}}(t)}</script></html>"
      ],
      "text/plain": [
       "v3 == t*v4"
      ]
     },
     "metadata": {},
     "output_type": "display_data"
    },
    {
     "data": {
      "text/html": [
       "<html><script type=\"math/tex; mode=display\">\\newcommand{\\Bold}[1]{\\mathbf{#1}}{F_{y^{2},\\left\\{y^{2}\\right\\}}(t)} = -\\frac{t^{2} {F_{1,\\left\\{y, y^{2}\\right\\}}(t)}}{t^{2} {F_{1,\\left\\{x\\right\\}}(t)} - 1}</script></html>"
      ],
      "text/plain": [
       "v2 == -t^2*v12/(t^2*v4 - 1)"
      ]
     },
     "metadata": {},
     "output_type": "display_data"
    },
    {
     "data": {
      "text/html": [
       "<html><script type=\"math/tex; mode=display\">\\newcommand{\\Bold}[1]{\\mathbf{#1}}{F_{1,\\left\\{x\\right\\}}(t)} = \\frac{1}{\\frac{t^{3} {F_{1,\\left\\{y, y^{2}\\right\\}}(t)}}{t^{2} {F_{1,\\left\\{x\\right\\}}(t)} - 1} + 1}</script></html>"
      ],
      "text/plain": [
       "v4 == (1/(t^3*v12/(t^2*v4 - 1) + 1))"
      ]
     },
     "metadata": {},
     "output_type": "display_data"
    },
    {
     "data": {
      "text/html": [
       "<html><script type=\"math/tex; mode=display\">\\newcommand{\\Bold}[1]{\\mathbf{#1}}{F_{x,\\left\\{1, x\\right\\}}(t)} = t</script></html>"
      ],
      "text/plain": [
       "v5 == t"
      ]
     },
     "metadata": {},
     "output_type": "display_data"
    },
    {
     "data": {
      "text/html": [
       "<html><script type=\"math/tex; mode=display\">\\newcommand{\\Bold}[1]{\\mathbf{#1}}{F_{1,\\left\\{y^{2}\\right\\}}(t)} = -\\frac{1}{t^{2} {F_{1,\\left\\{x\\right\\}}(t)} - 1}</script></html>"
      ],
      "text/plain": [
       "v6 == -1/(t^2*v4 - 1)"
      ]
     },
     "metadata": {},
     "output_type": "display_data"
    },
    {
     "data": {
      "text/html": [
       "<html><script type=\"math/tex; mode=display\">\\newcommand{\\Bold}[1]{\\mathbf{#1}}{F_{y^{2},\\left\\{1, y^{2}\\right\\}}(t)} = t^{2} {F_{1,\\left\\{y, y^{2}\\right\\}}(t)}</script></html>"
      ],
      "text/plain": [
       "v7 == t^2*v12"
      ]
     },
     "metadata": {},
     "output_type": "display_data"
    },
    {
     "data": {
      "text/html": [
       "<html><script type=\"math/tex; mode=display\">\\newcommand{\\Bold}[1]{\\mathbf{#1}}{F_{1,\\left\\{1, x\\right\\}}(t)} = -\\frac{t^{3} {F_{1,\\left\\{y, y^{2}\\right\\}}(t)}}{t^{2} {F_{1,\\left\\{x\\right\\}}(t)} - 1} + 1</script></html>"
      ],
      "text/plain": [
       "v8 == -t^3*v12/(t^2*v4 - 1) + 1"
      ]
     },
     "metadata": {},
     "output_type": "display_data"
    },
    {
     "data": {
      "text/html": [
       "<html><script type=\"math/tex; mode=display\">\\newcommand{\\Bold}[1]{\\mathbf{#1}}{F_{1,\\left\\{1, y^{2}\\right\\}}(t)} = t^{2} {F_{1,\\left\\{x\\right\\}}(t)} + 1</script></html>"
      ],
      "text/plain": [
       "v9 == t^2*v4 + 1"
      ]
     },
     "metadata": {},
     "output_type": "display_data"
    },
    {
     "data": {
      "text/html": [
       "<html><script type=\"math/tex; mode=display\">\\newcommand{\\Bold}[1]{\\mathbf{#1}}{F_{y,\\left\\{y, y^{2}\\right\\}}(t)} = t {F_{1,\\left\\{y, y^{2}\\right\\}}(t)}</script></html>"
      ],
      "text/plain": [
       "v10 == t*v12"
      ]
     },
     "metadata": {},
     "output_type": "display_data"
    },
    {
     "data": {
      "text/html": [
       "<html><script type=\"math/tex; mode=display\">\\newcommand{\\Bold}[1]{\\mathbf{#1}}{F_{y^{2},\\left\\{y, y^{2}\\right\\}}(t)} = 0</script></html>"
      ],
      "text/plain": [
       "v11 == 0"
      ]
     },
     "metadata": {},
     "output_type": "display_data"
    },
    {
     "data": {
      "text/html": [
       "<html><script type=\"math/tex; mode=display\">\\newcommand{\\Bold}[1]{\\mathbf{#1}}{F_{y,\\left\\{y, 1, y^{2}\\right\\}}(t)} = t</script></html>"
      ],
      "text/plain": [
       "v13 == t"
      ]
     },
     "metadata": {},
     "output_type": "display_data"
    },
    {
     "data": {
      "text/html": [
       "<html><script type=\"math/tex; mode=display\">\\newcommand{\\Bold}[1]{\\mathbf{#1}}{F_{1,\\left\\{y, y^{2}\\right\\}}(t)} = -\\frac{1}{t^{2} {F_{1,\\left\\{x\\right\\}}(t)} - 1}</script></html>"
      ],
      "text/plain": [
       "v12 == -1/(t^2*v4 - 1)"
      ]
     },
     "metadata": {},
     "output_type": "display_data"
    },
    {
     "data": {
      "text/html": [
       "<html><script type=\"math/tex; mode=display\">\\newcommand{\\Bold}[1]{\\mathbf{#1}}{F_{y^{2},\\left\\{y, 1, y^{2}\\right\\}}(t)} = 0</script></html>"
      ],
      "text/plain": [
       "v14 == 0"
      ]
     },
     "metadata": {},
     "output_type": "display_data"
    },
    {
     "data": {
      "text/html": [
       "<html><script type=\"math/tex; mode=display\">\\newcommand{\\Bold}[1]{\\mathbf{#1}}{F_{1,\\left\\{y, 1, y^{2}\\right\\}}(t)} = t^{2} {F_{1,\\left\\{x\\right\\}}(t)} + 1</script></html>"
      ],
      "text/plain": [
       "v15 == t^2*v4 + 1"
      ]
     },
     "metadata": {},
     "output_type": "display_data"
    }
   ],
   "source": [
    "for eq in eq_by_lhs.values():\n",
    "    pretty_print(eq)"
   ]
  },
  {
   "cell_type": "code",
   "execution_count": 151,
   "metadata": {},
   "outputs": [],
   "source": [
    "# get rid of every irrelevant variable\n",
    "start = var_space[goal_pair]\n",
    "eq_by_lhs = {eq.lhs():eq for eq in system}\n",
    "dep_gr = {eq.lhs():set(eq.rhs().args())-{t} for eq in system}\n",
    "\n",
    "comp_set = {start}\n",
    "comp = [start]\n",
    "ind = 0\n",
    "while ind<len(comp):\n",
    "    for v in dep_gr[comp[ind]]:\n",
    "        if v not in comp_set:\n",
    "            comp.append(v)\n",
    "            comp_set.add(v)\n",
    "    ind += 1\n",
    "\n",
    "system = [eq for eq in system if eq.lhs() in comp_set]"
   ]
  },
  {
   "cell_type": "code",
   "execution_count": 152,
   "metadata": {},
   "outputs": [
    {
     "data": {
      "text/html": [
       "<html><script type=\"math/tex; mode=display\">\\newcommand{\\Bold}[1]{\\mathbf{#1}}\\left[{F_{1,\\emptyset}(t)}, {F_{1,\\left\\{x\\right\\}}(t)}, {F_{y^{2},\\left\\{y^{2}\\right\\}}(t)}, {F_{1,\\left\\{y, y^{2}\\right\\}}(t)}\\right]</script></html>"
      ],
      "text/plain": [
       "[v0, v4, v2, v12]"
      ]
     },
     "metadata": {},
     "output_type": "display_data"
    },
    {
     "name": "stdout",
     "output_type": "stream",
     "text": [
      "v0 == -1/(t^2*v4 + t*v2 - 1)\n"
     ]
    },
    {
     "data": {
      "text/html": [
       "<html><script type=\"math/tex; mode=display\">\\newcommand{\\Bold}[1]{\\mathbf{#1}}{F_{1,\\emptyset}(t)} = -\\frac{1}{t^{2} {F_{1,\\left\\{x\\right\\}}(t)} + t {F_{y^{2},\\left\\{y^{2}\\right\\}}(t)} - 1}</script></html>"
      ],
      "text/plain": [
       "v0 == -1/(t^2*v4 + t*v2 - 1)"
      ]
     },
     "metadata": {},
     "output_type": "display_data"
    },
    {
     "name": "stdout",
     "output_type": "stream",
     "text": [
      "v2 == -t^2*v12/(t^2*v4 - 1)\n"
     ]
    },
    {
     "data": {
      "text/html": [
       "<html><script type=\"math/tex; mode=display\">\\newcommand{\\Bold}[1]{\\mathbf{#1}}{F_{y^{2},\\left\\{y^{2}\\right\\}}(t)} = -\\frac{t^{2} {F_{1,\\left\\{y, y^{2}\\right\\}}(t)}}{t^{2} {F_{1,\\left\\{x\\right\\}}(t)} - 1}</script></html>"
      ],
      "text/plain": [
       "v2 == -t^2*v12/(t^2*v4 - 1)"
      ]
     },
     "metadata": {},
     "output_type": "display_data"
    },
    {
     "name": "stdout",
     "output_type": "stream",
     "text": [
      "v4 == (1/(t^3*v12/(t^2*v4 - 1) + 1))\n"
     ]
    },
    {
     "data": {
      "text/html": [
       "<html><script type=\"math/tex; mode=display\">\\newcommand{\\Bold}[1]{\\mathbf{#1}}{F_{1,\\left\\{x\\right\\}}(t)} = \\frac{1}{\\frac{t^{3} {F_{1,\\left\\{y, y^{2}\\right\\}}(t)}}{t^{2} {F_{1,\\left\\{x\\right\\}}(t)} - 1} + 1}</script></html>"
      ],
      "text/plain": [
       "v4 == (1/(t^3*v12/(t^2*v4 - 1) + 1))"
      ]
     },
     "metadata": {},
     "output_type": "display_data"
    },
    {
     "name": "stdout",
     "output_type": "stream",
     "text": [
      "v12 == -1/(t^2*v4 - 1)\n"
     ]
    },
    {
     "data": {
      "text/html": [
       "<html><script type=\"math/tex; mode=display\">\\newcommand{\\Bold}[1]{\\mathbf{#1}}{F_{1,\\left\\{y, y^{2}\\right\\}}(t)} = -\\frac{1}{t^{2} {F_{1,\\left\\{x\\right\\}}(t)} - 1}</script></html>"
      ],
      "text/plain": [
       "v12 == -1/(t^2*v4 - 1)"
      ]
     },
     "metadata": {},
     "output_type": "display_data"
    }
   ],
   "source": [
    "pretty_print(comp)\n",
    "for eq in system:\n",
    "    print(eq)\n",
    "    pretty_print(eq)"
   ]
  },
  {
   "cell_type": "code",
   "execution_count": 153,
   "metadata": {},
   "outputs": [],
   "source": [
    "# make every equation eplicit. delete loops\n",
    "# maybe not a good idea due to the posssible interference of radicals\n",
    "\n",
    "# for i, eqn in enumerate(system):\n",
    "#     system[i] = solve(eqn,eqn.lhs())[0]"
   ]
  },
  {
   "cell_type": "code",
   "execution_count": 154,
   "metadata": {},
   "outputs": [
    {
     "name": "stdout",
     "output_type": "stream",
     "text": [
      "{F_{1,\\emptyset}(t)} = -\\frac{1}{t^{2} {F_{1,\\left\\{x\\right\\}}(t)} + t {F_{y^{2},\\left\\{y^{2}\\right\\}}(t)} - 1} \\\\\n",
      "{F_{y^{2},\\left\\{y^{2}\\right\\}}(t)} = -\\frac{t^{2} {F_{1,\\left\\{y, y^{2}\\right\\}}(t)}}{t^{2} {F_{1,\\left\\{x\\right\\}}(t)} - 1} \\\\\n",
      "{F_{1,\\left\\{x\\right\\}}(t)} = \\frac{1}{\\frac{t^{3} {F_{1,\\left\\{y, y^{2}\\right\\}}(t)}}{t^{2} {F_{1,\\left\\{x\\right\\}}(t)} - 1} + 1} \\\\\n",
      "{F_{1,\\left\\{y, y^{2}\\right\\}}(t)} = -\\frac{1}{t^{2} {F_{1,\\left\\{x\\right\\}}(t)} - 1} \\\\\n"
     ]
    }
   ],
   "source": [
    "for eq in system:\n",
    "    print(latex(eq)+r'\\\\')\n",
    "    #pretty_print(eq)"
   ]
  },
  {
   "cell_type": "code",
   "execution_count": 155,
   "metadata": {},
   "outputs": [
    {
     "data": {
      "text/plain": [
       "[v12, v2, v4]"
      ]
     },
     "execution_count": 155,
     "metadata": {},
     "output_type": "execute_result"
    }
   ],
   "source": [
    "# order the component based on the shortest distance from the start in decreasing order\n",
    "# BFS already put them in increasing order\n",
    "comp.reverse()\n",
    "comp.pop(); # get rid of start; the only variable we don't want to eliminate\n",
    "comp"
   ]
  },
  {
   "cell_type": "code",
   "execution_count": 156,
   "metadata": {},
   "outputs": [],
   "source": [
    "def eliminate(system,xs, show_steps = False, fully_simplify=False, quit_at_zero= False):\n",
    "    if show_steps:\n",
    "        sols = []\n",
    "        for x in xs:\n",
    "            sols.append((x, eliminate(system,[x], fully_simplify=fully_simplify)))\n",
    "            system = sols[-1][1]\n",
    "            if quit_at_zero and system == [0]*len(system):\n",
    "                return sols\n",
    "        return sols\n",
    "    sols = maxima.eliminate(system,xs)\n",
    "    func = lambda ex: ex.simplify_full() if fully_simplify else ex\n",
    "    return [func(expr.sage()) for expr in sols]"
   ]
  },
  {
   "cell_type": "code",
   "execution_count": 170,
   "metadata": {},
   "outputs": [],
   "source": [
    "impl_solset = list(orig_system)"
   ]
  },
  {
   "cell_type": "code",
   "execution_count": 158,
   "metadata": {},
   "outputs": [],
   "source": [
    "\n",
    "# Expression involving t and F(t) to set = 0\n",
    "\n",
    "impl_solset = []\n",
    "steps = eliminate(system, comp, True, quit_at_zero=True)\n",
    "while steps and 0 in steps[-1][-1]:\n",
    "    steps.pop()\n",
    "if steps:\n",
    "    impl_solset = steps[-1][-1]\n",
    "\n",
    "'''\n",
    "possible_impl_solns = []\n",
    "for comp_perm in Permutations(comp):\n",
    "    comp_perm = list(comp_perm)\n",
    "    print(comp_perm,type(comp_perm))\n",
    "    possible_impl_solns_perm = eliminate(system, comp_perm)\n",
    "    possible_impl_solns.extend(possible_impl_solns_perm)\n",
    "    for impl_soln in possible_impl_solns_perm:\n",
    "        pretty_print(impl_soln)\n",
    "        if impl_soln!=0:\n",
    "            break # found an actual solution\n",
    "    else:\n",
    "        continue\n",
    "    break\n",
    "''';"
   ]
  },
  {
   "cell_type": "code",
   "execution_count": 163,
   "metadata": {},
   "outputs": [
    {
     "name": "stdout",
     "output_type": "stream",
     "text": [
      "1\n"
     ]
    },
    {
     "data": {
      "text/html": [
       "<html><script type=\"math/tex; mode=display\">\\newcommand{\\Bold}[1]{\\mathbf{#1}}-{\\left({\\left(6 \\, t^{5} - 3 \\, t^{4} + 2 \\, t^{3} + 3 \\, t^{2} - 1\\right)} {F_{1,\\emptyset}(t)}^{3} + {\\left(t^{5} - t^{4} + t^{3} + 2 \\, t^{2} - 1\\right)} {F_{1,\\emptyset}(t)}^{2} + {\\left(t^{3} - t^{2} + 1\\right)} {F_{1,\\emptyset}(t)} + 1\\right)} t^{33} {F_{1,\\emptyset}(t)} = 0</script></html>"
      ],
      "text/plain": [
       "-((6*t^5 - 3*t^4 + 2*t^3 + 3*t^2 - 1)*v0^3 + (t^5 - t^4 + t^3 + 2*t^2 - 1)*v0^2 + (t^3 - t^2 + 1)*v0 + 1)*t^33*v0 == 0"
      ]
     },
     "metadata": {},
     "output_type": "display_data"
    },
    {
     "name": "stdout",
     "output_type": "stream",
     "text": [
      "(t, v0)\n",
      "-{\\left({\\left(6 \\, t^{5} - 3 \\, t^{4} + 2 \\, t^{3} + 3 \\, t^{2} - 1\\right)} {F_{1,\\emptyset}(t)}^{3} + {\\left(t^{5} - t^{4} + t^{3} + 2 \\, t^{2} - 1\\right)} {F_{1,\\emptyset}(t)}^{2} + {\\left(t^{3} - t^{2} + 1\\right)} {F_{1,\\emptyset}(t)} + 1\\right)} t^{33} {F_{1,\\emptyset}(t)} =0\\\\\n"
     ]
    }
   ],
   "source": [
    "\n",
    "print(len(impl_solset))\n",
    "for sol in impl_solset:\n",
    "    pretty_print(sol==0)\n",
    "    print(sol.args())\n",
    "\n",
    "for sol in impl_solset:\n",
    "    print(latex(sol)+r\"=0\\\\\")\n",
    "    \n",
    "#solve(system, comp, algorithm='sympy')\n",
    "#impl_soln(v0=sqrt(1/(1-4*t^2))).simplify_full()"
   ]
  },
  {
   "cell_type": "code",
   "execution_count": 171,
   "metadata": {},
   "outputs": [
    {
     "name": "stdout",
     "output_type": "stream",
     "text": [
      "[v0, v1, v2, v3, v4, v5, v6, v7, v8, v9, v10, v11, v12, v13, v14, v15]\n",
      "[{F_{1,\\emptyset}(t)}, {F_{1,\\left\\{1\\right\\}}(t)}, {F_{y^{2},\\left\\{y^{2}\\right\\}}(t)}, {F_{x,\\left\\{x\\right\\}}(t)}, {F_{1,\\left\\{x\\right\\}}(t)}, {F_{x,\\left\\{1, x\\right\\}}(t)}, {F_{1,\\left\\{y^{2}\\right\\}}(t)}, {F_{y^{2},\\left\\{1, y^{2}\\right\\}}(t)}, {F_{1,\\left\\{1, x\\right\\}}(t)}, {F_{1,\\left\\{1, y^{2}\\right\\}}(t)}, {F_{y,\\left\\{y, y^{2}\\right\\}}(t)}, {F_{y^{2},\\left\\{y, y^{2}\\right\\}}(t)}, {F_{1,\\left\\{y, y^{2}\\right\\}}(t)}, {F_{y,\\left\\{y, 1, y^{2}\\right\\}}(t)}, {F_{y^{2},\\left\\{y, 1, y^{2}\\right\\}}(t)}, {F_{1,\\left\\{y, 1, y^{2}\\right\\}}(t)}]\n"
     ]
    }
   ],
   "source": [
    "# the remaning variable, including the one we wish to solve for\n",
    "if len(impl_solset)==len(orig_system):\n",
    "    var_rem = list(var_space.values())\n",
    "else:\n",
    "    var_rem = comp[len(comp)-len(impl_solset)+1:]+[start]\n",
    "print(var_rem)\n",
    "print(list(map(latex,var_rem)))"
   ]
  },
  {
   "cell_type": "code",
   "execution_count": 167,
   "metadata": {},
   "outputs": [
    {
     "data": {
      "text/html": [
       "<html><script type=\"math/tex; mode=display\">\\newcommand{\\Bold}[1]{\\mathbf{#1}}{F_{1,\\emptyset}(t)} = -\\frac{\\left(\\frac{1}{2}\\right)^{\\frac{2}{3}} {\\left(-i \\, \\sqrt{3} + 1\\right)} {\\left(\\frac{{\\left(t^{5} - t^{4} + t^{3} + 2 \\, t^{2} - 1\\right)}^{2}}{{\\left(6 \\, t^{5} - 3 \\, t^{4} + 2 \\, t^{3} + 3 \\, t^{2} - 1\\right)}^{2}} - \\frac{3 \\, {\\left(t^{3} - t^{2} + 1\\right)}}{6 \\, t^{5} - 3 \\, t^{4} + 2 \\, t^{3} + 3 \\, t^{2} - 1}\\right)}}{3 \\, {\\left(\\frac{9 \\, \\sqrt{\\frac{1}{3}} {\\left(t^{3} - 4 \\, t^{2} - 4\\right)} \\sqrt{-{\\left(t^{7} - 20 \\, t^{5} + 12 \\, t^{4} - 8 \\, t^{3} - 12 \\, t^{2} + 4\\right)} t} t}{{\\left(6 \\, t^{5} - 3 \\, t^{4} + 2 \\, t^{3} + 3 \\, t^{2} - 1\\right)}^{2}} - \\frac{2 \\, {\\left(t^{5} - t^{4} + t^{3} + 2 \\, t^{2} - 1\\right)}^{3}}{{\\left(6 \\, t^{5} - 3 \\, t^{4} + 2 \\, t^{3} + 3 \\, t^{2} - 1\\right)}^{3}} + \\frac{9 \\, {\\left(t^{5} - t^{4} + t^{3} + 2 \\, t^{2} - 1\\right)} {\\left(t^{3} - t^{2} + 1\\right)}}{{\\left(6 \\, t^{5} - 3 \\, t^{4} + 2 \\, t^{3} + 3 \\, t^{2} - 1\\right)}^{2}} - \\frac{27}{6 \\, t^{5} - 3 \\, t^{4} + 2 \\, t^{3} + 3 \\, t^{2} - 1}\\right)}^{\\frac{1}{3}}} - \\frac{1}{6} \\, \\left(\\frac{1}{2}\\right)^{\\frac{1}{3}} {\\left(\\frac{9 \\, \\sqrt{\\frac{1}{3}} {\\left(t^{3} - 4 \\, t^{2} - 4\\right)} \\sqrt{-{\\left(t^{7} - 20 \\, t^{5} + 12 \\, t^{4} - 8 \\, t^{3} - 12 \\, t^{2} + 4\\right)} t} t}{{\\left(6 \\, t^{5} - 3 \\, t^{4} + 2 \\, t^{3} + 3 \\, t^{2} - 1\\right)}^{2}} - \\frac{2 \\, {\\left(t^{5} - t^{4} + t^{3} + 2 \\, t^{2} - 1\\right)}^{3}}{{\\left(6 \\, t^{5} - 3 \\, t^{4} + 2 \\, t^{3} + 3 \\, t^{2} - 1\\right)}^{3}} + \\frac{9 \\, {\\left(t^{5} - t^{4} + t^{3} + 2 \\, t^{2} - 1\\right)} {\\left(t^{3} - t^{2} + 1\\right)}}{{\\left(6 \\, t^{5} - 3 \\, t^{4} + 2 \\, t^{3} + 3 \\, t^{2} - 1\\right)}^{2}} - \\frac{27}{6 \\, t^{5} - 3 \\, t^{4} + 2 \\, t^{3} + 3 \\, t^{2} - 1}\\right)}^{\\frac{1}{3}} {\\left(i \\, \\sqrt{3} + 1\\right)} - \\frac{t^{5} - t^{4} + t^{3} + 2 \\, t^{2} - 1}{3 \\, {\\left(6 \\, t^{5} - 3 \\, t^{4} + 2 \\, t^{3} + 3 \\, t^{2} - 1\\right)}}</script></html>"
      ],
      "text/plain": [
       "v0 == -1/3*(1/2)^(2/3)*(-I*sqrt(3) + 1)*((t^5 - t^4 + t^3 + 2*t^2 - 1)^2/(6*t^5 - 3*t^4 + 2*t^3 + 3*t^2 - 1)^2 - 3*(t^3 - t^2 + 1)/(6*t^5 - 3*t^4 + 2*t^3 + 3*t^2 - 1))/(9*sqrt(1/3)*(t^3 - 4*t^2 - 4)*sqrt(-(t^7 - 20*t^5 + 12*t^4 - 8*t^3 - 12*t^2 + 4)*t)*t/(6*t^5 - 3*t^4 + 2*t^3 + 3*t^2 - 1)^2 - 2*(t^5 - t^4 + t^3 + 2*t^2 - 1)^3/(6*t^5 - 3*t^4 + 2*t^3 + 3*t^2 - 1)^3 + 9*(t^5 - t^4 + t^3 + 2*t^2 - 1)*(t^3 - t^2 + 1)/(6*t^5 - 3*t^4 + 2*t^3 + 3*t^2 - 1)^2 - 27/(6*t^5 - 3*t^4 + 2*t^3 + 3*t^2 - 1))^(1/3) - 1/6*(1/2)^(1/3)*(9*sqrt(1/3)*(t^3 - 4*t^2 - 4)*sqrt(-(t^7 - 20*t^5 + 12*t^4 - 8*t^3 - 12*t^2 + 4)*t)*t/(6*t^5 - 3*t^4 + 2*t^3 + 3*t^2 - 1)^2 - 2*(t^5 - t^4 + t^3 + 2*t^2 - 1)^3/(6*t^5 - 3*t^4 + 2*t^3 + 3*t^2 - 1)^3 + 9*(t^5 - t^4 + t^3 + 2*t^2 - 1)*(t^3 - t^2 + 1)/(6*t^5 - 3*t^4 + 2*t^3 + 3*t^2 - 1)^2 - 27/(6*t^5 - 3*t^4 + 2*t^3 + 3*t^2 - 1))^(1/3)*(I*sqrt(3) + 1) - 1/3*(t^5 - t^4 + t^3 + 2*t^2 - 1)/(6*t^5 - 3*t^4 + 2*t^3 + 3*t^2 - 1)"
      ]
     },
     "metadata": {},
     "output_type": "display_data"
    },
    {
     "data": {
      "text/html": [
       "<html><script type=\"math/tex; mode=display\">\\newcommand{\\Bold}[1]{\\mathbf{#1}}{F_{1,\\emptyset}(t)} = -\\frac{\\left(\\frac{1}{2}\\right)^{\\frac{2}{3}} {\\left(i \\, \\sqrt{3} + 1\\right)} {\\left(\\frac{{\\left(t^{5} - t^{4} + t^{3} + 2 \\, t^{2} - 1\\right)}^{2}}{{\\left(6 \\, t^{5} - 3 \\, t^{4} + 2 \\, t^{3} + 3 \\, t^{2} - 1\\right)}^{2}} - \\frac{3 \\, {\\left(t^{3} - t^{2} + 1\\right)}}{6 \\, t^{5} - 3 \\, t^{4} + 2 \\, t^{3} + 3 \\, t^{2} - 1}\\right)}}{3 \\, {\\left(\\frac{9 \\, \\sqrt{\\frac{1}{3}} {\\left(t^{3} - 4 \\, t^{2} - 4\\right)} \\sqrt{-{\\left(t^{7} - 20 \\, t^{5} + 12 \\, t^{4} - 8 \\, t^{3} - 12 \\, t^{2} + 4\\right)} t} t}{{\\left(6 \\, t^{5} - 3 \\, t^{4} + 2 \\, t^{3} + 3 \\, t^{2} - 1\\right)}^{2}} - \\frac{2 \\, {\\left(t^{5} - t^{4} + t^{3} + 2 \\, t^{2} - 1\\right)}^{3}}{{\\left(6 \\, t^{5} - 3 \\, t^{4} + 2 \\, t^{3} + 3 \\, t^{2} - 1\\right)}^{3}} + \\frac{9 \\, {\\left(t^{5} - t^{4} + t^{3} + 2 \\, t^{2} - 1\\right)} {\\left(t^{3} - t^{2} + 1\\right)}}{{\\left(6 \\, t^{5} - 3 \\, t^{4} + 2 \\, t^{3} + 3 \\, t^{2} - 1\\right)}^{2}} - \\frac{27}{6 \\, t^{5} - 3 \\, t^{4} + 2 \\, t^{3} + 3 \\, t^{2} - 1}\\right)}^{\\frac{1}{3}}} - \\frac{1}{6} \\, \\left(\\frac{1}{2}\\right)^{\\frac{1}{3}} {\\left(\\frac{9 \\, \\sqrt{\\frac{1}{3}} {\\left(t^{3} - 4 \\, t^{2} - 4\\right)} \\sqrt{-{\\left(t^{7} - 20 \\, t^{5} + 12 \\, t^{4} - 8 \\, t^{3} - 12 \\, t^{2} + 4\\right)} t} t}{{\\left(6 \\, t^{5} - 3 \\, t^{4} + 2 \\, t^{3} + 3 \\, t^{2} - 1\\right)}^{2}} - \\frac{2 \\, {\\left(t^{5} - t^{4} + t^{3} + 2 \\, t^{2} - 1\\right)}^{3}}{{\\left(6 \\, t^{5} - 3 \\, t^{4} + 2 \\, t^{3} + 3 \\, t^{2} - 1\\right)}^{3}} + \\frac{9 \\, {\\left(t^{5} - t^{4} + t^{3} + 2 \\, t^{2} - 1\\right)} {\\left(t^{3} - t^{2} + 1\\right)}}{{\\left(6 \\, t^{5} - 3 \\, t^{4} + 2 \\, t^{3} + 3 \\, t^{2} - 1\\right)}^{2}} - \\frac{27}{6 \\, t^{5} - 3 \\, t^{4} + 2 \\, t^{3} + 3 \\, t^{2} - 1}\\right)}^{\\frac{1}{3}} {\\left(-i \\, \\sqrt{3} + 1\\right)} - \\frac{t^{5} - t^{4} + t^{3} + 2 \\, t^{2} - 1}{3 \\, {\\left(6 \\, t^{5} - 3 \\, t^{4} + 2 \\, t^{3} + 3 \\, t^{2} - 1\\right)}}</script></html>"
      ],
      "text/plain": [
       "v0 == -1/3*(1/2)^(2/3)*(I*sqrt(3) + 1)*((t^5 - t^4 + t^3 + 2*t^2 - 1)^2/(6*t^5 - 3*t^4 + 2*t^3 + 3*t^2 - 1)^2 - 3*(t^3 - t^2 + 1)/(6*t^5 - 3*t^4 + 2*t^3 + 3*t^2 - 1))/(9*sqrt(1/3)*(t^3 - 4*t^2 - 4)*sqrt(-(t^7 - 20*t^5 + 12*t^4 - 8*t^3 - 12*t^2 + 4)*t)*t/(6*t^5 - 3*t^4 + 2*t^3 + 3*t^2 - 1)^2 - 2*(t^5 - t^4 + t^3 + 2*t^2 - 1)^3/(6*t^5 - 3*t^4 + 2*t^3 + 3*t^2 - 1)^3 + 9*(t^5 - t^4 + t^3 + 2*t^2 - 1)*(t^3 - t^2 + 1)/(6*t^5 - 3*t^4 + 2*t^3 + 3*t^2 - 1)^2 - 27/(6*t^5 - 3*t^4 + 2*t^3 + 3*t^2 - 1))^(1/3) - 1/6*(1/2)^(1/3)*(9*sqrt(1/3)*(t^3 - 4*t^2 - 4)*sqrt(-(t^7 - 20*t^5 + 12*t^4 - 8*t^3 - 12*t^2 + 4)*t)*t/(6*t^5 - 3*t^4 + 2*t^3 + 3*t^2 - 1)^2 - 2*(t^5 - t^4 + t^3 + 2*t^2 - 1)^3/(6*t^5 - 3*t^4 + 2*t^3 + 3*t^2 - 1)^3 + 9*(t^5 - t^4 + t^3 + 2*t^2 - 1)*(t^3 - t^2 + 1)/(6*t^5 - 3*t^4 + 2*t^3 + 3*t^2 - 1)^2 - 27/(6*t^5 - 3*t^4 + 2*t^3 + 3*t^2 - 1))^(1/3)*(-I*sqrt(3) + 1) - 1/3*(t^5 - t^4 + t^3 + 2*t^2 - 1)/(6*t^5 - 3*t^4 + 2*t^3 + 3*t^2 - 1)"
      ]
     },
     "metadata": {},
     "output_type": "display_data"
    },
    {
     "data": {
      "text/html": [
       "<html><script type=\"math/tex; mode=display\">\\newcommand{\\Bold}[1]{\\mathbf{#1}}{F_{1,\\emptyset}(t)} = \\frac{2 \\, \\left(\\frac{1}{2}\\right)^{\\frac{2}{3}} {\\left(\\frac{{\\left(t^{5} - t^{4} + t^{3} + 2 \\, t^{2} - 1\\right)}^{2}}{{\\left(6 \\, t^{5} - 3 \\, t^{4} + 2 \\, t^{3} + 3 \\, t^{2} - 1\\right)}^{2}} - \\frac{3 \\, {\\left(t^{3} - t^{2} + 1\\right)}}{6 \\, t^{5} - 3 \\, t^{4} + 2 \\, t^{3} + 3 \\, t^{2} - 1}\\right)}}{3 \\, {\\left(\\frac{9 \\, \\sqrt{\\frac{1}{3}} {\\left(t^{3} - 4 \\, t^{2} - 4\\right)} \\sqrt{-{\\left(t^{7} - 20 \\, t^{5} + 12 \\, t^{4} - 8 \\, t^{3} - 12 \\, t^{2} + 4\\right)} t} t}{{\\left(6 \\, t^{5} - 3 \\, t^{4} + 2 \\, t^{3} + 3 \\, t^{2} - 1\\right)}^{2}} - \\frac{2 \\, {\\left(t^{5} - t^{4} + t^{3} + 2 \\, t^{2} - 1\\right)}^{3}}{{\\left(6 \\, t^{5} - 3 \\, t^{4} + 2 \\, t^{3} + 3 \\, t^{2} - 1\\right)}^{3}} + \\frac{9 \\, {\\left(t^{5} - t^{4} + t^{3} + 2 \\, t^{2} - 1\\right)} {\\left(t^{3} - t^{2} + 1\\right)}}{{\\left(6 \\, t^{5} - 3 \\, t^{4} + 2 \\, t^{3} + 3 \\, t^{2} - 1\\right)}^{2}} - \\frac{27}{6 \\, t^{5} - 3 \\, t^{4} + 2 \\, t^{3} + 3 \\, t^{2} - 1}\\right)}^{\\frac{1}{3}}} + \\frac{1}{3} \\, \\left(\\frac{1}{2}\\right)^{\\frac{1}{3}} {\\left(\\frac{9 \\, \\sqrt{\\frac{1}{3}} {\\left(t^{3} - 4 \\, t^{2} - 4\\right)} \\sqrt{-{\\left(t^{7} - 20 \\, t^{5} + 12 \\, t^{4} - 8 \\, t^{3} - 12 \\, t^{2} + 4\\right)} t} t}{{\\left(6 \\, t^{5} - 3 \\, t^{4} + 2 \\, t^{3} + 3 \\, t^{2} - 1\\right)}^{2}} - \\frac{2 \\, {\\left(t^{5} - t^{4} + t^{3} + 2 \\, t^{2} - 1\\right)}^{3}}{{\\left(6 \\, t^{5} - 3 \\, t^{4} + 2 \\, t^{3} + 3 \\, t^{2} - 1\\right)}^{3}} + \\frac{9 \\, {\\left(t^{5} - t^{4} + t^{3} + 2 \\, t^{2} - 1\\right)} {\\left(t^{3} - t^{2} + 1\\right)}}{{\\left(6 \\, t^{5} - 3 \\, t^{4} + 2 \\, t^{3} + 3 \\, t^{2} - 1\\right)}^{2}} - \\frac{27}{6 \\, t^{5} - 3 \\, t^{4} + 2 \\, t^{3} + 3 \\, t^{2} - 1}\\right)}^{\\frac{1}{3}} - \\frac{t^{5} - t^{4} + t^{3} + 2 \\, t^{2} - 1}{3 \\, {\\left(6 \\, t^{5} - 3 \\, t^{4} + 2 \\, t^{3} + 3 \\, t^{2} - 1\\right)}}</script></html>"
      ],
      "text/plain": [
       "v0 == 2/3*(1/2)^(2/3)*((t^5 - t^4 + t^3 + 2*t^2 - 1)^2/(6*t^5 - 3*t^4 + 2*t^3 + 3*t^2 - 1)^2 - 3*(t^3 - t^2 + 1)/(6*t^5 - 3*t^4 + 2*t^3 + 3*t^2 - 1))/(9*sqrt(1/3)*(t^3 - 4*t^2 - 4)*sqrt(-(t^7 - 20*t^5 + 12*t^4 - 8*t^3 - 12*t^2 + 4)*t)*t/(6*t^5 - 3*t^4 + 2*t^3 + 3*t^2 - 1)^2 - 2*(t^5 - t^4 + t^3 + 2*t^2 - 1)^3/(6*t^5 - 3*t^4 + 2*t^3 + 3*t^2 - 1)^3 + 9*(t^5 - t^4 + t^3 + 2*t^2 - 1)*(t^3 - t^2 + 1)/(6*t^5 - 3*t^4 + 2*t^3 + 3*t^2 - 1)^2 - 27/(6*t^5 - 3*t^4 + 2*t^3 + 3*t^2 - 1))^(1/3) + 1/3*(1/2)^(1/3)*(9*sqrt(1/3)*(t^3 - 4*t^2 - 4)*sqrt(-(t^7 - 20*t^5 + 12*t^4 - 8*t^3 - 12*t^2 + 4)*t)*t/(6*t^5 - 3*t^4 + 2*t^3 + 3*t^2 - 1)^2 - 2*(t^5 - t^4 + t^3 + 2*t^2 - 1)^3/(6*t^5 - 3*t^4 + 2*t^3 + 3*t^2 - 1)^3 + 9*(t^5 - t^4 + t^3 + 2*t^2 - 1)*(t^3 - t^2 + 1)/(6*t^5 - 3*t^4 + 2*t^3 + 3*t^2 - 1)^2 - 27/(6*t^5 - 3*t^4 + 2*t^3 + 3*t^2 - 1))^(1/3) - 1/3*(t^5 - t^4 + t^3 + 2*t^2 - 1)/(6*t^5 - 3*t^4 + 2*t^3 + 3*t^2 - 1)"
      ]
     },
     "metadata": {},
     "output_type": "display_data"
    },
    {
     "data": {
      "text/html": [
       "<html><script type=\"math/tex; mode=display\">\\newcommand{\\Bold}[1]{\\mathbf{#1}}{F_{1,\\emptyset}(t)} = 0</script></html>"
      ],
      "text/plain": [
       "v0 == 0"
      ]
     },
     "metadata": {},
     "output_type": "display_data"
    }
   ],
   "source": [
    "have_expl = 1\n",
    "try:\n",
    "    expl_slns = solve(impl_solset, var_rem, solution_dict=True) # can we get explicit solutions?\n",
    "    print(expl_slns)\n",
    "except: \n",
    "    # can't get explicit solutions. try for implicit ones. perhaps reduced a bit?\n",
    "    impl_solset = solve(impl_solset, var_rem)\n",
    "    have_expl = 0\n",
    "    for sol in impl_solset:\n",
    "        pretty_print(sol)\n",
    "    "
   ]
  },
  {
   "cell_type": "code",
   "execution_count": 169,
   "metadata": {},
   "outputs": [],
   "source": [
    "\n",
    "if have_expl:\n",
    "    # if the solutions are explicit, then test them out too see if we have the desired one\n",
    "    oldt = t\n",
    "    R.<t>= PolynomialRing(ZZ,1,order='negdegrevlex')\n",
    "    tt= t\n",
    "    t = oldt\n",
    "    for sol in expl_slns:\n",
    "        F = sol[start]\n",
    "        pretty_print(F)\n",
    "        L = limit(F,t=0)\n",
    "        pretty_print(LatexExpr(r'\\lim_{t\\to 0}%s=%s'%(latex(start),L)))\n",
    "        if L!=1:\n",
    "            print('limit at t=0 is different from 1, discard!')\n",
    "            #print(F.taylor(t,0,20))\n",
    "        else:\n",
    "            print('possible desired series solutions!')\n",
    "            pretty_print(F)\n",
    "            prec = 16\n",
    "            pretty_print('Series Expansion around %s of degree up to %d: '%(LatexExpr('t=0'),prec))\n",
    "            P = F.taylor(t, 0, prec)\n",
    "            P = R(P(tt))\n",
    "            pretty_print(P)\n",
    "            print(latex(F)+\" = \"+latex(P)+r\"+ O(t^{%d})\"%(prec+1))\n",
    "\n",
    "            "
   ]
  },
  {
   "cell_type": "code",
   "execution_count": 173,
   "metadata": {},
   "outputs": [
    {
     "name": "stdout",
     "output_type": "stream",
     "text": [
      "/home/sage/OneDrive - sfu.ca/Research/Msc_math_sfu/Marni/cogrowth_computations\n"
     ]
    }
   ],
   "source": [
    "# Take the reduced implicit system of equations, with the list of variables to eliminate,\n",
    "#  and dump them to a maple data file\n",
    "import os\n",
    "print(os.getcwd())\n",
    "fdir = 'maple_data_files'\n",
    "if not os.path.isdir(fdir):\n",
    "    os.mkdir(fdir)\n",
    "fname = 'Z%dZ%d-dat.maple'%(m,n)\n",
    "fname = os.path.join(fdir,fname)\n",
    "if not os.path.exists(fname):\n",
    "    fd = open(fname, 'w')\n",
    "    fd.write('syst:='+str(impl_solset).replace('==','=')+';')\n",
    "    fd.write('\\n')\n",
    "    fd.write('varlist:='+str((sorted(var_rem, key = lambda vv: int(str(vv)[1:]))))+';')\n",
    "    fd.write('\\n')\n",
    "    fd.close()"
   ]
  },
  {
   "cell_type": "markdown",
   "metadata": {},
   "source": [
    "# Solving a system iteratively\n",
    "\n",
    "Suppose we are given a system of the form\n",
    "$$\\begin{align*}\n",
    "\\Phi_1 (v_1,...v_q) &= 0\\\\\n",
    "\\Phi_2 (v_1,...v_q) &= 0\\\\\n",
    "\\vdots\\\\\n",
    "\\Phi_r (v_1,...v_q) &= 0\n",
    "\\end{align*}$$ where $q\\ge r$. We want to solve for $v_1,...,v_r$ in terms of the remaining $q-r$ variables.\n",
    "We can do this approximately using a fixed point iterative method, assumming convergence.\n",
    "\n",
    "First, rewrite the $i$-th equation above as $$\\Phi_i (v_1,...,v_q)+v_i = v_i.$$\n",
    "Generate iterates $v_i^{(k)}$ with $v_i^{(0)}$ determined, with the update formula as $$\\Phi_i (v_1^{(k)},...,v_q^{(k)})+v_i^{(k)} = v_i^{(k+1)}.$$ For large $k$, the iterates make an approximate solution.\n",
    "\n",
    "In the case where $r=q-1$ and $v_q=t$, and the system is algebraic, we can expect approximations to the power series solution of $v_i$ to be increasingly accurate. If we take $v_i^{(0)}=0$ for each $i$, then we should get increasing higher oder terms each iteration, with $v_i^{(k)}$ converging to the series as $k\\to \\infty$."
   ]
  },
  {
   "cell_type": "code",
   "execution_count": null,
   "metadata": {},
   "outputs": [],
   "source": [
    "def homogenize(eqn):\n",
    "    '''\n",
    "    eqn: an equation or expression (to set = 0)\n",
    "    returns an expression, to set = 0, that is equivalent to applying eqn\n",
    "    '''\n",
    "    if eqn.is_relational():\n",
    "        return eqn.rhs()-eqn.lhs()\n",
    "    return eqn\n",
    "\n",
    "\n",
    "def iter_solve(system, vrs, vinit=None, maxiter=5, fully_simplify=False, taylor_poly=True):\n",
    "    if len(system)<len(vrs):\n",
    "        raise Exception('number of variables must be at least the number of equations')\n",
    "    if not system:\n",
    "        return [] # no system to solve\n",
    "    if vinit is None:\n",
    "        vinit = {v:0*t for v in vrs}\n",
    "    system = list(map(homogenize, system))\n",
    "    it_sols = [vinit]\n",
    "    k = 1\n",
    "    while k<=maxiter:\n",
    "        vrs_k = {}\n",
    "        for vi,eqi in zip(vrs,system):\n",
    "            vrs_k[vi] = it_sols[-1][vi]+eqi.subs(it_sols[-1])\n",
    "            if fully_simplify:\n",
    "                vrs_k[vi] = vrs_k[vi].simplify_full()\n",
    "            if taylor_poly:\n",
    "                vrs_k[vi] = vrs_k[vi].taylor(t,0,k)\n",
    "        it_sols.append(vrs_k)\n",
    "        k+=1\n",
    "    return it_sols\n",
    "    "
   ]
  },
  {
   "cell_type": "code",
   "execution_count": null,
   "metadata": {},
   "outputs": [],
   "source": [
    "for ans in iter_solve(orig_system,list(var_space.values()),fully_simplify=False,maxiter=20,taylor_poly=True):\n",
    "    pretty_print(ans[start])"
   ]
  },
  {
   "cell_type": "code",
   "execution_count": null,
   "metadata": {},
   "outputs": [],
   "source": [
    "# STOP HERE"
   ]
  },
  {
   "cell_type": "code",
   "execution_count": null,
   "metadata": {
    "scrolled": false
   },
   "outputs": [],
   "source": [
    "print(ss,file=open('ss.txt','w'))"
   ]
  },
  {
   "cell_type": "code",
   "execution_count": null,
   "metadata": {},
   "outputs": [],
   "source": [
    "eg = [-((t^3*v0^2 - v0^2 - 2*v0 - 1)*v13^3 + (3*v0^2 + 4*v0 + 1)*v13^2 + v0^2 - (3*v0^2 + 2*v0)*v13)*t^24*v13^6, (t^6*v13^5 - t^6*v13^4 - 2*t^3*v13^3 + 2*t^3*v13^2 - (t^3 - 1)*v13 - 1)*t^18*v13^4]\n",
    "maxima.eliminate(eg, [v13])"
   ]
  },
  {
   "cell_type": "code",
   "execution_count": null,
   "metadata": {},
   "outputs": [],
   "source": [
    "for v,ss in eliminate(system, [v3,v15,v2,v4,v13], True):\n",
    "    print('+'*100)\n",
    "    pretty_print(v,':')\n",
    "    for s in ss:\n",
    "        print('|'*50)\n",
    "        print(bool(s==0))\n",
    "        pretty_print(s)\n",
    "    print (ss)\n",
    "    if len(ss)==1:\n",
    "        pretty_print(ss[0])"
   ]
  },
  {
   "cell_type": "code",
   "execution_count": null,
   "metadata": {},
   "outputs": [],
   "source": [
    "solve(impl_solset,[v0,v13])"
   ]
  },
  {
   "cell_type": "code",
   "execution_count": null,
   "metadata": {},
   "outputs": [],
   "source": [
    "type(expl_slns[0][v0])"
   ]
  },
  {
   "cell_type": "code",
   "execution_count": null,
   "metadata": {},
   "outputs": [],
   "source": [
    "F = -1/(4*t^2+2*t+1)\n",
    "((8*t^3-1)*F^3-F^2+F+1).simplify_full()"
   ]
  },
  {
   "cell_type": "code",
   "execution_count": null,
   "metadata": {},
   "outputs": [],
   "source": [
    "var('F')\n",
    "ans=(solve(((8*t^3-1)*F^3-F^2+F+1), F))[-1]"
   ]
  },
  {
   "cell_type": "code",
   "execution_count": null,
   "metadata": {},
   "outputs": [],
   "source": [
    "len(expl_slns)"
   ]
  },
  {
   "cell_type": "code",
   "execution_count": null,
   "metadata": {},
   "outputs": [],
   "source": [
    "\n",
    "    \n",
    "for soldict in solve(orig_system, [v for v in var_space.values()],solution_dict=True):\n",
    "    pretty_print(soldict[v0])\n",
    "    for eqn in orig_system:\n",
    "        print(bool(eqn.subs(soldict)))\n",
    "    print('-'*20)\n",
    "    print(bool(soldict[v0]==ans.rhs()))\n",
    "    \n"
   ]
  },
  {
   "cell_type": "code",
   "execution_count": null,
   "metadata": {},
   "outputs": [],
   "source": [
    "system = orig_system"
   ]
  },
  {
   "cell_type": "code",
   "execution_count": null,
   "metadata": {},
   "outputs": [],
   "source": [
    "print(str(impl_solset).replace('==','='))\n",
    "print(sorted(var_space.values(), key = lambda vv: int(str(vv)[1:])))"
   ]
  },
  {
   "cell_type": "code",
   "execution_count": null,
   "metadata": {},
   "outputs": [],
   "source": [
    "str(system).replace('==','=')\n"
   ]
  },
  {
   "cell_type": "code",
   "execution_count": null,
   "metadata": {},
   "outputs": [],
   "source": []
  }
 ],
 "metadata": {
  "kernelspec": {
   "display_name": "SageMath 9.0",
   "language": "sage",
   "name": "sagemath"
  },
  "language_info": {
   "codemirror_mode": {
    "name": "ipython",
    "version": 3
   },
   "file_extension": ".py",
   "mimetype": "text/x-python",
   "name": "python",
   "nbconvert_exporter": "python",
   "pygments_lexer": "ipython3",
   "version": "3.7.3"
  }
 },
 "nbformat": 4,
 "nbformat_minor": 2
}
