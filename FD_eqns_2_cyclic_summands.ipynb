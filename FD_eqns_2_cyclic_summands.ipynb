{
 "cells": [
  {
   "cell_type": "markdown",
   "metadata": {},
   "source": [
    "# Function Dependency Equation for Free Product of 2 Cyclic Groups.\n",
    "\n",
    "Consider $G=\\langle x| x^m=1 \\rangle * \\langle y| y^n=1 \\rangle$, where $m,n \\in \\mathbb{Z}_{\\ge0}\\setminus \\{1\\}$. Note that $|G|<\\infty \\iff mn>0$. \n",
    "Take the generating set $S=S_x\\cup S_y$ for $G$, where \n",
    "$$S_x=\\{x\\}\\cup \\iota(m=0)\\cdot\\{x^{-1}\\}, S_y=\\{y\\}\\cup \\iota(n=0)\\cdot\\{y^{-1}\\},$$ \n",
    "and $$\\iota(\\mathcal{P})=\\begin{cases}\\{1\\},&\\mathcal{P}\\\\ \\emptyset,& \\lnot \\mathcal{P}\\end{cases}$$ with $\\cdot$ denoting elementwise group multiplication on sets [$A\\cdot B = \\{ab: a\\in A,\\ b\\in B\\}$]. \n",
    "\n",
    "For $g\\in G$ and $X\\subseteq G$, let $F_{g,X}(t)$ be series for the set of all words in $S^*$ equivalent to $g\\in G$, with proper nonempty prefixes avoiding $X$, characterized by the word length. We set up functional equations involving $F_{g,X}$, for which $\\{g\\}\\cup X\\subseteq \\{v^k: k\\in \\mathbb{Z}\\}$, and $v\\in \\{x,y\\}$. Finally, we solve for $F(t):=F_{1,\\emptyset}(t)$."
   ]
  },
  {
   "cell_type": "code",
   "execution_count": 241,
   "metadata": {},
   "outputs": [],
   "source": [
    "# choose your desired values for m,n\n",
    "\n",
    "m = 3\n",
    "n = 0\n",
    "\n",
    "# Do we want word concatenation to reduce to group multiplication?\n",
    "AUTO_REDUCE = True\n",
    "DEFAULT_RS = None # a rewiting system in order to make group element reduction possible, will be set later\n"
   ]
  },
  {
   "cell_type": "code",
   "execution_count": 242,
   "metadata": {},
   "outputs": [],
   "source": [
    "# need to define set-set, set-element multiplication\n",
    "def set_mult(A,B):\n",
    "    # turn any non-set object into a singleton set containing that object\n",
    "    A,B = map(lambda S: S if S in Sets else Set([S]),[A,B])\n",
    "    C= Set([a*b for a,b in cartesian_product([A,B])]) # assuming element multiplication is well defined\n",
    "    if AUTO_REDUCE and DEFAULT_RS is not None:\n",
    "        C = Set([DEFAULT_RS.reduce(c) for c in C])\n",
    "    return C\n",
    "\n",
    "# Let's overload the '*' operator for Set objects\n",
    "# Set is a function, but returns an instance of some spectifed kind of Set class, which is accessible via .parent()\n",
    "reverse_if = lambda seq, cond: list(seq) if not cond else list(reversed(seq))\n",
    "Set().parent()._mul_ =  lambda self, other, switch_sides=False: set_mult(*(reverse_if([self,other], switch_sides)))"
   ]
  },
  {
   "cell_type": "code",
   "execution_count": 243,
   "metadata": {},
   "outputs": [],
   "source": [
    "# compute the free product\n",
    "F2.<x,y> = FreeGroup()\n",
    "G = F2/ (x^m,y^n)\n",
    "x,y = G.gens()\n",
    "\n",
    "# need to write words in reduced form\n",
    "Grs = G.rewriting_system()\n",
    "DEFAULT_RS = Grs"
   ]
  },
  {
   "cell_type": "code",
   "execution_count": 244,
   "metadata": {},
   "outputs": [],
   "source": [
    "# # test it out\n",
    "# A = Set([x,y,G.one()])\n",
    "\n",
    "# print(x*A) # with reduction\n",
    "\n",
    "# # very simple to supress/invoke group reduction\n",
    "# AUTO_REDUCE = False\n",
    "# print(x*A) # without reduction\n",
    "# AUTO_REDUCE = True\n",
    "# print(x*A) # with reduction\n",
    "\n"
   ]
  },
  {
   "cell_type": "code",
   "execution_count": 245,
   "metadata": {},
   "outputs": [],
   "source": [
    "# latex expression for sets\n",
    "def set_to_latex(A):\n",
    "    if A == Set():\n",
    "        return r'\\emptyset'\n",
    "    return latex(A)"
   ]
  },
  {
   "cell_type": "code",
   "execution_count": 246,
   "metadata": {},
   "outputs": [
    {
     "data": {
      "text/plain": [
       "True"
      ]
     },
     "execution_count": 246,
     "metadata": {},
     "output_type": "execute_result"
    }
   ],
   "source": [
    "# define a space of variables indexed by the (g,X) pairs\n",
    "# start with what we wish to solve, (1,\\emptyset).\n",
    "def series_expression(g,X):\n",
    "    return 'F_{%s,%s}(t)'%(latex(g),set_to_latex(X))\n",
    "var_space = {}\n",
    "goal_pair = (G.one(), Set())\n",
    "VAR_COUNTER = 0 # increment every time a new series variable is defined\n",
    "\n",
    "def add_series_var(pair):\n",
    "    if pair in var_space:\n",
    "        return False\n",
    "    global VAR_COUNTER\n",
    "    g,X = pair\n",
    "    var_space[pair] = var('v%d'%VAR_COUNTER, latex_name = series_expression(g,X))\n",
    "    VAR_COUNTER += 1\n",
    "    return True\n",
    "\n",
    "add_series_var(goal_pair)\n",
    "    "
   ]
  },
  {
   "cell_type": "code",
   "execution_count": 247,
   "metadata": {},
   "outputs": [
    {
     "data": {
      "text/html": [
       "<html><script type=\"math/tex; mode=display\">\\newcommand{\\Bold}[1]{\\mathbf{#1}}\\left\\{\\left(1, \\left\\{\\right\\}\\right) : {F_{1,\\emptyset}(t)}\\right\\}</script></html>"
      ],
      "text/plain": [
       "{(1, {}): v0}"
      ]
     },
     "metadata": {},
     "output_type": "display_data"
    }
   ],
   "source": [
    "pretty_print(var_space)"
   ]
  },
  {
   "cell_type": "code",
   "execution_count": 248,
   "metadata": {},
   "outputs": [],
   "source": [
    "# Now get the cyclic factors\n",
    "\n",
    "# Sage is not good with subgroups\n",
    "# Gx = G.subgroup((x,))\n",
    "# Gy = G.subgroup((y,))\n",
    "# xx,yy = Gx.gens()+Gy.gens()\n",
    "\n",
    "def in_cyclic_factor(el, v):\n",
    "    '''\n",
    "        returns if the group element is in the given cyclic factor\n",
    "        el: the element in G to check\n",
    "        v: either x or y, the generator of the factor \n",
    "    '''\n",
    "    expr = el.syllables()\n",
    "    if not expr:\n",
    "        return True\n",
    "    return len(expr)==1 and expr[0][0] == v\n",
    "    \n",
    "def subset_of_cyclic_factor(A,v):\n",
    "    # assume finite sets only\n",
    "    return all((in_cyclic_factor(el,v) for el in A))"
   ]
  },
  {
   "cell_type": "code",
   "execution_count": 249,
   "metadata": {},
   "outputs": [],
   "source": [
    "# for finite cyclic factors, we don't want negative exponents. We redefine the __pow__ method.\n",
    "if AUTO_REDUCE and DEFAULT_RS is not None:\n",
    "    if '_old_pow' not in vars():\n",
    "        _old_pow = type(x).__pow__\n",
    "    def _new_pow(a, k):\n",
    "        if k not in ZZ or k>=0:\n",
    "            # case isn't broken, don't change it\n",
    "            return _old_pow(a,k)\n",
    "\n",
    "        # k is a negative integer\n",
    "        ans = _old_pow(a,k)\n",
    "    #     if AUTO_REDUCE:\n",
    "    #         ans = DEFAULT_RS.reduce(ans)\n",
    "        nans = G.one()\n",
    "        for v,ep in ans.syllables():\n",
    "            modval = m if v==x else n # charateristic of the free factor\n",
    "            nans*= _old_pow(v, ep if modval==0 else ep%modval) # if infinite oder, keep same exponent\n",
    "        return nans\n",
    "    type(x).__pow__ = _new_pow"
   ]
  },
  {
   "cell_type": "code",
   "execution_count": 250,
   "metadata": {},
   "outputs": [
    {
     "data": {
      "text/plain": [
       "({x}, {y, y^-1})"
      ]
     },
     "execution_count": 250,
     "metadata": {},
     "output_type": "execute_result"
    }
   ],
   "source": [
    "# For multiplication, want auto reduation to be available\n",
    "# if AUTO_REDUCE and DEFAULT_RS is not None:\n",
    "#     if '_old_mul' not in vars():\n",
    "#         _old_mul = type(x).__mul__\n",
    "#     def _new_mul(a, b):\n",
    "#         return DEFAULT_RS.reduce(_old_mul(a,b))\n",
    "#     type(x).__mul__ = _new_mul\n",
    "\n",
    "\n",
    "# set up the generating sets\n",
    "Sx = Set([x]+[x^-1]*int(m==0))\n",
    "Sy = Set([y]+[y^-1]*int(n==0))\n",
    "Sx,Sy"
   ]
  },
  {
   "cell_type": "code",
   "execution_count": 251,
   "metadata": {},
   "outputs": [
    {
     "data": {
      "text/plain": [
       "(x, x^2, x^4, x^2, y^-1*x^2, x, y^-3, True)"
      ]
     },
     "execution_count": 251,
     "metadata": {},
     "output_type": "execute_result"
    }
   ],
   "source": [
    "x,x^2,x^3*x,x^-1,(x*y)^-1, x^-2,y^-3, '_old_pow' in vars()"
   ]
  },
  {
   "cell_type": "code",
   "execution_count": 252,
   "metadata": {},
   "outputs": [
    {
     "data": {
      "text/plain": [
       "t"
      ]
     },
     "execution_count": 252,
     "metadata": {},
     "output_type": "execute_result"
    }
   ],
   "source": [
    "var('t')\n"
   ]
  },
  {
   "cell_type": "code",
   "execution_count": 253,
   "metadata": {},
   "outputs": [],
   "source": [
    "# We need to construct a reduced pair, in the case of an infinite cyclic factor\n",
    "# if v is a generator of \\Z and (g,X), with elements in <v>, is the original pair, \n",
    "#    then we write a procedure to reduce it to (g,X'),\n",
    "#    where X' is X, with all the nonzero powers of v removed \n",
    "#      EXCEPT ones with smallest positive, and largest negative, powers, if applicable.\n",
    "# Eg1. X={1,v,v^2,v^-1,v^-4, v^17} -> X'= {1,v,v^-1}\n",
    "# Eg2. X={v^2,v^5,v^7,v^-3,v^-100} -> X' = {v^2,v^-3}\n",
    "# Eg3. X={1,v^3,v^5,v^20} -> X'={1,v^3}\n",
    "# If g= v^i, i>0, and v^j in X' for some 0<j<i, then F_{g,X'}(t)=0\n",
    "\n",
    "def series_must_be_0(pair, v, cr):\n",
    "    # checks whether or not a pair satisfies the series=0 condition described above\n",
    "    if cr>0:\n",
    "        return False\n",
    "    g, X = pair\n",
    "    ep=0\n",
    "    for _,ep in g.syllables():\n",
    "        break\n",
    "    if ep<0:\n",
    "        v= v^-1\n",
    "        ep=-ep\n",
    "    return X.intersection(Set(v.powers(ep))-Set([G.one()]))!=Set()\n",
    "    \n",
    "\n",
    "def strip_redundant_powers(X, v, cr):\n",
    "    '''\n",
    "    v: either x or y, depending in which case, subset_of_cyclic_factor(X,v) would return True\n",
    "    X: a subset of <v>\n",
    "    cr: the characteristic of the factor generated by <v>, a number in 0,2,3,4,5,...\n",
    "    returns X' as described above.\n",
    "    '''\n",
    "    if cr>0:\n",
    "        # finite group, can't remove elements\n",
    "        return X\n",
    "    Xred = set()\n",
    "    pos,neg = oo,-oo\n",
    "    for a in X:\n",
    "        ep=0\n",
    "        for _,ep in a.syllables():\n",
    "            break\n",
    "        if ep>0:\n",
    "            pos = min(ep,pos)\n",
    "        if ep<0:\n",
    "            neg = max(ep,neg)\n",
    "    \n",
    "    if G.one() in X:\n",
    "        Xred.add(G.one())\n",
    "    if pos in ZZ:\n",
    "        Xred.add(v^pos)\n",
    "    if neg in ZZ:\n",
    "        Xred.add(v^neg)\n",
    "    return Set(Xred)\n",
    "\n",
    "#strip_redundant_powers(Set([y^2,y^5]), y, 0)\n",
    "#series_must_be_0((x^2,Set([G.one(),x^-1,x^-2,x])),x,0)"
   ]
  },
  {
   "cell_type": "code",
   "execution_count": 254,
   "metadata": {},
   "outputs": [],
   "source": [
    "# construct the functional equation given the desired (g,X) pair\n",
    "# assume {g}\\cup X is completely in one of the cyclic factors\n",
    "# CURRENTLY FINITE CASE ONLY\n",
    "\n",
    "def get_FD_equation(pair, ret_new_pairs = True):\n",
    "    '''\n",
    "        returns a functional depency equation\n",
    "        if ret_new_pairs is set to True, return a (equation, set of (g,X) pairs) pair instead\n",
    "        assume X is reduced in the inifnte cyclic case\n",
    "    '''\n",
    "    if ret_new_pairs:\n",
    "        newpairs = set()\n",
    "    g,X = pair\n",
    "    eqn = None\n",
    "    one = G.one()\n",
    "    oneset = Set([one])\n",
    "    if one not in X:\n",
    "        XU1 = X.union(oneset) # also reduced since X is\n",
    "        if add_series_var((one,X)) and ret_new_pairs:\n",
    "            newpairs.add((one,X))\n",
    "        if add_series_var((g,XU1)) and ret_new_pairs:\n",
    "            newpairs.add((g,XU1))\n",
    "        if g==one:\n",
    "            eqn = 1+var_space[(one,X)]*(var_space[(one,XU1)]-1)\n",
    "        else:\n",
    "            eqn = var_space[(one,X)]*var_space[(g,XU1)]\n",
    "    elif subset_of_cyclic_factor(X,x):\n",
    "        if g!=one:\n",
    "            eqn = t*ZZ(g in Sx)\n",
    "            for s in Sx-X:\n",
    "                [gs] = s^-1*Set([g]) # use set so auto reduction is implemented\n",
    "                Xs = s^-1*X\n",
    "                Xs = strip_redundant_powers(Xs, x, m)\n",
    "                if not series_must_be_0((gs,Xs),x,m):\n",
    "                    if add_series_var((gs,Xs)) and ret_new_pairs:\n",
    "                        newpairs.add((gs,Xs))\n",
    "                    eqn += t*var_space[(gs,Xs)]\n",
    "        else:\n",
    "            eqn = 1*t^0\n",
    "            for s in Sy:\n",
    "                set_sinv = Set([s^-1]) # already reduced\n",
    "                if add_series_var((s^-1,set_sinv)) and ret_new_pairs:\n",
    "                    newpairs.add((s^-1,set_sinv))\n",
    "                eqn += t*var_space[(s^-1,set_sinv)]\n",
    "            for s in Sx-X:\n",
    "                [gs] = s^-1*Set([g]) # use set so auto reduction is implemented\n",
    "                Xs = s^-1*X\n",
    "                Xs = strip_redundant_powers(Xs, x, m)\n",
    "                if not series_must_be_0((gs,Xs),x,m):\n",
    "                    if add_series_var((gs,Xs)) and ret_new_pairs:\n",
    "                        newpairs.add((gs,Xs))\n",
    "                    eqn += t*var_space[(gs,Xs)]\n",
    "    else:\n",
    "        # the y factor case\n",
    "        if g!=one:\n",
    "            eqn = t*ZZ(g in Sy)\n",
    "            for s in Sy-X:\n",
    "                [gs] = s^-1*Set([g]) # use set so auto reduction is implemented\n",
    "                Xs = s^-1*X\n",
    "                Xs = strip_redundant_powers(Xs, y, n)\n",
    "                if not series_must_be_0((gs,Xs),y,n):\n",
    "                    if add_series_var((gs,Xs)) and ret_new_pairs:\n",
    "                        newpairs.add((gs,Xs))\n",
    "                    eqn += t*var_space[(gs,Xs)]\n",
    "        else:\n",
    "            eqn = 1*t^0\n",
    "            for s in Sx:\n",
    "                set_sinv = Set([s^-1]) # already reduced\n",
    "                if add_series_var((s^-1,set_sinv)) and ret_new_pairs:\n",
    "                    newpairs.add((s^-1,set_sinv))\n",
    "                eqn += t*var_space[(s^-1,set_sinv)]\n",
    "            for s in Sy-X:\n",
    "                [gs] = s^-1*Set([g]) # use set so auto reduction is implemented\n",
    "                Xs = s^-1*X\n",
    "                Xs = strip_redundant_powers(Xs, y, n)\n",
    "                if not series_must_be_0((gs,Xs),y,n):\n",
    "                    if add_series_var((gs,Xs)) and ret_new_pairs:\n",
    "                        newpairs.add((gs,Xs))\n",
    "                    eqn += t*var_space[(gs,Xs)]\n",
    "    eqn = var_space[pair]==eqn\n",
    "    return (eqn,newpairs) if ret_new_pairs else eqn\n",
    "    "
   ]
  },
  {
   "cell_type": "code",
   "execution_count": 255,
   "metadata": {},
   "outputs": [],
   "source": [
    "# Let us build the system of equations\n",
    "from time import time\n",
    "\n",
    "system = []\n",
    "queue = [goal_pair]\n",
    "st_time = time()\n",
    "# use BFS\n",
    "while queue:\n",
    "    pair = queue.pop(0)\n",
    "    #pretty_print(pair)\n",
    "    eqn, newp = get_FD_equation(pair)\n",
    "    queue.extend(newp)\n",
    "    system.append(eqn)\n",
    "    end_time =  time()\n",
    "    if end_time-st_time>10:\n",
    "        break\n"
   ]
  },
  {
   "cell_type": "code",
   "execution_count": 260,
   "metadata": {},
   "outputs": [
    {
     "name": "stdout",
     "output_type": "stream",
     "text": [
      "{F_{1,\\emptyset}(t)} = -\\frac{1}{{F_{1,\\left\\{1\\right\\}}(t)} - 2} \\\\\n",
      "{F_{1,\\left\\{1\\right\\}}(t)} = t {F_{y^{-1},\\left\\{y^{-1}\\right\\}}(t)} + t {F_{y,\\left\\{y\\right\\}}(t)} + t {F_{x^{2},\\left\\{x^{2}\\right\\}}(t)} + 1 \\\\\n",
      "{F_{x^{2},\\left\\{x^{2}\\right\\}}(t)} = {F_{1,\\left\\{x^{2}\\right\\}}(t)} {F_{x^{2},\\left\\{1, x^{2}\\right\\}}(t)} \\\\\n",
      "{F_{y,\\left\\{y\\right\\}}(t)} = {F_{1,\\left\\{y\\right\\}}(t)} {F_{y,\\left\\{y, 1\\right\\}}(t)} \\\\\n",
      "{F_{y^{-1},\\left\\{y^{-1}\\right\\}}(t)} = {F_{y^{-1},\\left\\{1, y^{-1}\\right\\}}(t)} {F_{1,\\left\\{y^{-1}\\right\\}}(t)} \\\\\n",
      "{F_{x^{2},\\left\\{1, x^{2}\\right\\}}(t)} = t {F_{x,\\left\\{x^{2}, x\\right\\}}(t)} \\\\\n",
      "{F_{1,\\left\\{x^{2}\\right\\}}(t)} = -\\frac{1}{{F_{1,\\left\\{1, x^{2}\\right\\}}(t)} - 2} \\\\\n",
      "{F_{y,\\left\\{y, 1\\right\\}}(t)} = t \\\\\n",
      "{F_{1,\\left\\{y\\right\\}}(t)} = -\\frac{1}{{F_{1,\\left\\{y, 1\\right\\}}(t)} - 2} \\\\\n",
      "{F_{y^{-1},\\left\\{1, y^{-1}\\right\\}}(t)} = t \\\\\n",
      "{F_{1,\\left\\{y^{-1}\\right\\}}(t)} = -\\frac{1}{{F_{1,\\left\\{1, y^{-1}\\right\\}}(t)} - 2} \\\\\n",
      "{F_{x,\\left\\{x^{2}, x\\right\\}}(t)} = {F_{1,\\left\\{x^{2}, x\\right\\}}(t)} {F_{x,\\left\\{1, x^{2}, x\\right\\}}(t)} \\\\\n",
      "{F_{1,\\left\\{1, x^{2}\\right\\}}(t)} = t {F_{x^{2},\\left\\{x^{2}, x\\right\\}}(t)} + t {F_{y^{-1},\\left\\{y^{-1}\\right\\}}(t)} + t {F_{y,\\left\\{y\\right\\}}(t)} + 1 \\\\\n",
      "{F_{1,\\left\\{y, 1\\right\\}}(t)} = t {F_{y,\\left\\{y\\right\\}}(t)} + t {F_{x^{2},\\left\\{x^{2}\\right\\}}(t)} + 1 \\\\\n",
      "{F_{1,\\left\\{1, y^{-1}\\right\\}}(t)} = t {F_{y^{-1},\\left\\{y^{-1}\\right\\}}(t)} + t {F_{x^{2},\\left\\{x^{2}\\right\\}}(t)} + 1 \\\\\n",
      "{F_{1,\\left\\{x^{2}, x\\right\\}}(t)} = -\\frac{1}{{F_{1,\\left\\{1, x^{2}, x\\right\\}}(t)} - 2} \\\\\n",
      "{F_{x,\\left\\{1, x^{2}, x\\right\\}}(t)} = t \\\\\n",
      "{F_{x^{2},\\left\\{x^{2}, x\\right\\}}(t)} = {F_{1,\\left\\{x^{2}, x\\right\\}}(t)} {F_{x^{2},\\left\\{1, x^{2}, x\\right\\}}(t)} \\\\\n",
      "{F_{1,\\left\\{1, x^{2}, x\\right\\}}(t)} = t {F_{y^{-1},\\left\\{y^{-1}\\right\\}}(t)} + t {F_{y,\\left\\{y\\right\\}}(t)} + 1 \\\\\n",
      "{F_{x^{2},\\left\\{1, x^{2}, x\\right\\}}(t)} = 0 \\\\\n",
      "\n",
      "\n"
     ]
    },
    {
     "data": {
      "text/html": [
       "<html><script type=\"math/tex; mode=display\">\\newcommand{\\Bold}[1]{\\mathbf{#1}}{F_{1,\\emptyset}(t)} = -\\frac{1}{{F_{1,\\left\\{1\\right\\}}(t)} - 2}</script></html>"
      ],
      "text/plain": [
       "v0 == -1/(v1 - 2)"
      ]
     },
     "metadata": {},
     "output_type": "display_data"
    },
    {
     "data": {
      "text/html": [
       "<html><script type=\"math/tex; mode=display\">\\newcommand{\\Bold}[1]{\\mathbf{#1}}{F_{1,\\left\\{1\\right\\}}(t)} = t {F_{y^{-1},\\left\\{y^{-1}\\right\\}}(t)} + t {F_{y,\\left\\{y\\right\\}}(t)} + t {F_{x^{2},\\left\\{x^{2}\\right\\}}(t)} + 1</script></html>"
      ],
      "text/plain": [
       "v1 == t*v2 + t*v3 + t*v4 + 1"
      ]
     },
     "metadata": {},
     "output_type": "display_data"
    },
    {
     "data": {
      "text/html": [
       "<html><script type=\"math/tex; mode=display\">\\newcommand{\\Bold}[1]{\\mathbf{#1}}{F_{x^{2},\\left\\{x^{2}\\right\\}}(t)} = {F_{1,\\left\\{x^{2}\\right\\}}(t)} {F_{x^{2},\\left\\{1, x^{2}\\right\\}}(t)}</script></html>"
      ],
      "text/plain": [
       "v4 == v5*v6"
      ]
     },
     "metadata": {},
     "output_type": "display_data"
    },
    {
     "data": {
      "text/html": [
       "<html><script type=\"math/tex; mode=display\">\\newcommand{\\Bold}[1]{\\mathbf{#1}}{F_{y,\\left\\{y\\right\\}}(t)} = {F_{1,\\left\\{y\\right\\}}(t)} {F_{y,\\left\\{y, 1\\right\\}}(t)}</script></html>"
      ],
      "text/plain": [
       "v3 == v7*v8"
      ]
     },
     "metadata": {},
     "output_type": "display_data"
    },
    {
     "data": {
      "text/html": [
       "<html><script type=\"math/tex; mode=display\">\\newcommand{\\Bold}[1]{\\mathbf{#1}}{F_{y^{-1},\\left\\{y^{-1}\\right\\}}(t)} = {F_{y^{-1},\\left\\{1, y^{-1}\\right\\}}(t)} {F_{1,\\left\\{y^{-1}\\right\\}}(t)}</script></html>"
      ],
      "text/plain": [
       "v2 == v10*v9"
      ]
     },
     "metadata": {},
     "output_type": "display_data"
    },
    {
     "data": {
      "text/html": [
       "<html><script type=\"math/tex; mode=display\">\\newcommand{\\Bold}[1]{\\mathbf{#1}}{F_{x^{2},\\left\\{1, x^{2}\\right\\}}(t)} = t {F_{x,\\left\\{x^{2}, x\\right\\}}(t)}</script></html>"
      ],
      "text/plain": [
       "v6 == t*v11"
      ]
     },
     "metadata": {},
     "output_type": "display_data"
    },
    {
     "data": {
      "text/html": [
       "<html><script type=\"math/tex; mode=display\">\\newcommand{\\Bold}[1]{\\mathbf{#1}}{F_{1,\\left\\{x^{2}\\right\\}}(t)} = -\\frac{1}{{F_{1,\\left\\{1, x^{2}\\right\\}}(t)} - 2}</script></html>"
      ],
      "text/plain": [
       "v5 == -1/(v12 - 2)"
      ]
     },
     "metadata": {},
     "output_type": "display_data"
    },
    {
     "data": {
      "text/html": [
       "<html><script type=\"math/tex; mode=display\">\\newcommand{\\Bold}[1]{\\mathbf{#1}}{F_{y,\\left\\{y, 1\\right\\}}(t)} = t</script></html>"
      ],
      "text/plain": [
       "v8 == t"
      ]
     },
     "metadata": {},
     "output_type": "display_data"
    },
    {
     "data": {
      "text/html": [
       "<html><script type=\"math/tex; mode=display\">\\newcommand{\\Bold}[1]{\\mathbf{#1}}{F_{1,\\left\\{y\\right\\}}(t)} = -\\frac{1}{{F_{1,\\left\\{y, 1\\right\\}}(t)} - 2}</script></html>"
      ],
      "text/plain": [
       "v7 == -1/(v13 - 2)"
      ]
     },
     "metadata": {},
     "output_type": "display_data"
    },
    {
     "data": {
      "text/html": [
       "<html><script type=\"math/tex; mode=display\">\\newcommand{\\Bold}[1]{\\mathbf{#1}}{F_{y^{-1},\\left\\{1, y^{-1}\\right\\}}(t)} = t</script></html>"
      ],
      "text/plain": [
       "v10 == t"
      ]
     },
     "metadata": {},
     "output_type": "display_data"
    },
    {
     "data": {
      "text/html": [
       "<html><script type=\"math/tex; mode=display\">\\newcommand{\\Bold}[1]{\\mathbf{#1}}{F_{1,\\left\\{y^{-1}\\right\\}}(t)} = -\\frac{1}{{F_{1,\\left\\{1, y^{-1}\\right\\}}(t)} - 2}</script></html>"
      ],
      "text/plain": [
       "v9 == -1/(v14 - 2)"
      ]
     },
     "metadata": {},
     "output_type": "display_data"
    },
    {
     "data": {
      "text/html": [
       "<html><script type=\"math/tex; mode=display\">\\newcommand{\\Bold}[1]{\\mathbf{#1}}{F_{x,\\left\\{x^{2}, x\\right\\}}(t)} = {F_{1,\\left\\{x^{2}, x\\right\\}}(t)} {F_{x,\\left\\{1, x^{2}, x\\right\\}}(t)}</script></html>"
      ],
      "text/plain": [
       "v11 == v15*v16"
      ]
     },
     "metadata": {},
     "output_type": "display_data"
    },
    {
     "data": {
      "text/html": [
       "<html><script type=\"math/tex; mode=display\">\\newcommand{\\Bold}[1]{\\mathbf{#1}}{F_{1,\\left\\{1, x^{2}\\right\\}}(t)} = t {F_{x^{2},\\left\\{x^{2}, x\\right\\}}(t)} + t {F_{y^{-1},\\left\\{y^{-1}\\right\\}}(t)} + t {F_{y,\\left\\{y\\right\\}}(t)} + 1</script></html>"
      ],
      "text/plain": [
       "v12 == t*v17 + t*v2 + t*v3 + 1"
      ]
     },
     "metadata": {},
     "output_type": "display_data"
    },
    {
     "data": {
      "text/html": [
       "<html><script type=\"math/tex; mode=display\">\\newcommand{\\Bold}[1]{\\mathbf{#1}}{F_{1,\\left\\{y, 1\\right\\}}(t)} = t {F_{y,\\left\\{y\\right\\}}(t)} + t {F_{x^{2},\\left\\{x^{2}\\right\\}}(t)} + 1</script></html>"
      ],
      "text/plain": [
       "v13 == t*v3 + t*v4 + 1"
      ]
     },
     "metadata": {},
     "output_type": "display_data"
    },
    {
     "data": {
      "text/html": [
       "<html><script type=\"math/tex; mode=display\">\\newcommand{\\Bold}[1]{\\mathbf{#1}}{F_{1,\\left\\{1, y^{-1}\\right\\}}(t)} = t {F_{y^{-1},\\left\\{y^{-1}\\right\\}}(t)} + t {F_{x^{2},\\left\\{x^{2}\\right\\}}(t)} + 1</script></html>"
      ],
      "text/plain": [
       "v14 == t*v2 + t*v4 + 1"
      ]
     },
     "metadata": {},
     "output_type": "display_data"
    },
    {
     "data": {
      "text/html": [
       "<html><script type=\"math/tex; mode=display\">\\newcommand{\\Bold}[1]{\\mathbf{#1}}{F_{1,\\left\\{x^{2}, x\\right\\}}(t)} = -\\frac{1}{{F_{1,\\left\\{1, x^{2}, x\\right\\}}(t)} - 2}</script></html>"
      ],
      "text/plain": [
       "v15 == -1/(v18 - 2)"
      ]
     },
     "metadata": {},
     "output_type": "display_data"
    },
    {
     "data": {
      "text/html": [
       "<html><script type=\"math/tex; mode=display\">\\newcommand{\\Bold}[1]{\\mathbf{#1}}{F_{x,\\left\\{1, x^{2}, x\\right\\}}(t)} = t</script></html>"
      ],
      "text/plain": [
       "v16 == t"
      ]
     },
     "metadata": {},
     "output_type": "display_data"
    },
    {
     "data": {
      "text/html": [
       "<html><script type=\"math/tex; mode=display\">\\newcommand{\\Bold}[1]{\\mathbf{#1}}{F_{x^{2},\\left\\{x^{2}, x\\right\\}}(t)} = {F_{1,\\left\\{x^{2}, x\\right\\}}(t)} {F_{x^{2},\\left\\{1, x^{2}, x\\right\\}}(t)}</script></html>"
      ],
      "text/plain": [
       "v17 == v15*v19"
      ]
     },
     "metadata": {},
     "output_type": "display_data"
    },
    {
     "data": {
      "text/html": [
       "<html><script type=\"math/tex; mode=display\">\\newcommand{\\Bold}[1]{\\mathbf{#1}}{F_{1,\\left\\{1, x^{2}, x\\right\\}}(t)} = t {F_{y^{-1},\\left\\{y^{-1}\\right\\}}(t)} + t {F_{y,\\left\\{y\\right\\}}(t)} + 1</script></html>"
      ],
      "text/plain": [
       "v18 == t*v2 + t*v3 + 1"
      ]
     },
     "metadata": {},
     "output_type": "display_data"
    },
    {
     "data": {
      "text/html": [
       "<html><script type=\"math/tex; mode=display\">\\newcommand{\\Bold}[1]{\\mathbf{#1}}{F_{x^{2},\\left\\{1, x^{2}, x\\right\\}}(t)} = 0</script></html>"
      ],
      "text/plain": [
       "v19 == 0"
      ]
     },
     "metadata": {},
     "output_type": "display_data"
    }
   ],
   "source": [
    "# Here are the equations\n",
    "for eqn in system:\n",
    "    print(latex(eqn),r'\\\\')\n",
    "print()\n",
    "print()\n",
    "for eqn in system:\n",
    "    #print(eqn)\n",
    "    pretty_print(eqn)"
   ]
  },
  {
   "cell_type": "code",
   "execution_count": 262,
   "metadata": {},
   "outputs": [],
   "source": [
    "# Finally solve the system\n",
    "\n",
    "\n",
    "\n",
    "# save so we dont lose it\n",
    "orig_system = list(system)"
   ]
  },
  {
   "cell_type": "code",
   "execution_count": 263,
   "metadata": {},
   "outputs": [],
   "source": [
    "# first, isolate variables on the LHS\n",
    "\n",
    "for i, eqn in enumerate(system):\n",
    "    system[i] = solve(eqn,eqn.lhs())[0]\n",
    "    "
   ]
  },
  {
   "cell_type": "code",
   "execution_count": 264,
   "metadata": {},
   "outputs": [
    {
     "data": {
      "text/html": [
       "<html><script type=\"math/tex; mode=display\">\\newcommand{\\Bold}[1]{\\mathbf{#1}}{F_{1,\\emptyset}(t)} = -\\frac{1}{{F_{1,\\left\\{1\\right\\}}(t)} - 2}</script></html>"
      ],
      "text/plain": [
       "v0 == -1/(v1 - 2)"
      ]
     },
     "metadata": {},
     "output_type": "display_data"
    },
    {
     "data": {
      "text/html": [
       "<html><script type=\"math/tex; mode=display\">\\newcommand{\\Bold}[1]{\\mathbf{#1}}{F_{1,\\left\\{1\\right\\}}(t)} = t {F_{y^{-1},\\left\\{y^{-1}\\right\\}}(t)} + t {F_{y,\\left\\{y\\right\\}}(t)} + t {F_{x^{2},\\left\\{x^{2}\\right\\}}(t)} + 1</script></html>"
      ],
      "text/plain": [
       "v1 == t*v2 + t*v3 + t*v4 + 1"
      ]
     },
     "metadata": {},
     "output_type": "display_data"
    },
    {
     "data": {
      "text/html": [
       "<html><script type=\"math/tex; mode=display\">\\newcommand{\\Bold}[1]{\\mathbf{#1}}{F_{x^{2},\\left\\{x^{2}\\right\\}}(t)} = {F_{1,\\left\\{x^{2}\\right\\}}(t)} {F_{x^{2},\\left\\{1, x^{2}\\right\\}}(t)}</script></html>"
      ],
      "text/plain": [
       "v4 == v5*v6"
      ]
     },
     "metadata": {},
     "output_type": "display_data"
    },
    {
     "data": {
      "text/html": [
       "<html><script type=\"math/tex; mode=display\">\\newcommand{\\Bold}[1]{\\mathbf{#1}}{F_{y,\\left\\{y\\right\\}}(t)} = {F_{1,\\left\\{y\\right\\}}(t)} {F_{y,\\left\\{y, 1\\right\\}}(t)}</script></html>"
      ],
      "text/plain": [
       "v3 == v7*v8"
      ]
     },
     "metadata": {},
     "output_type": "display_data"
    },
    {
     "data": {
      "text/html": [
       "<html><script type=\"math/tex; mode=display\">\\newcommand{\\Bold}[1]{\\mathbf{#1}}{F_{y^{-1},\\left\\{y^{-1}\\right\\}}(t)} = {F_{y^{-1},\\left\\{1, y^{-1}\\right\\}}(t)} {F_{1,\\left\\{y^{-1}\\right\\}}(t)}</script></html>"
      ],
      "text/plain": [
       "v2 == v10*v9"
      ]
     },
     "metadata": {},
     "output_type": "display_data"
    },
    {
     "data": {
      "text/html": [
       "<html><script type=\"math/tex; mode=display\">\\newcommand{\\Bold}[1]{\\mathbf{#1}}{F_{x^{2},\\left\\{1, x^{2}\\right\\}}(t)} = t {F_{x,\\left\\{x^{2}, x\\right\\}}(t)}</script></html>"
      ],
      "text/plain": [
       "v6 == t*v11"
      ]
     },
     "metadata": {},
     "output_type": "display_data"
    },
    {
     "data": {
      "text/html": [
       "<html><script type=\"math/tex; mode=display\">\\newcommand{\\Bold}[1]{\\mathbf{#1}}{F_{1,\\left\\{x^{2}\\right\\}}(t)} = -\\frac{1}{{F_{1,\\left\\{1, x^{2}\\right\\}}(t)} - 2}</script></html>"
      ],
      "text/plain": [
       "v5 == -1/(v12 - 2)"
      ]
     },
     "metadata": {},
     "output_type": "display_data"
    },
    {
     "data": {
      "text/html": [
       "<html><script type=\"math/tex; mode=display\">\\newcommand{\\Bold}[1]{\\mathbf{#1}}{F_{y,\\left\\{y, 1\\right\\}}(t)} = t</script></html>"
      ],
      "text/plain": [
       "v8 == t"
      ]
     },
     "metadata": {},
     "output_type": "display_data"
    },
    {
     "data": {
      "text/html": [
       "<html><script type=\"math/tex; mode=display\">\\newcommand{\\Bold}[1]{\\mathbf{#1}}{F_{1,\\left\\{y\\right\\}}(t)} = -\\frac{1}{{F_{1,\\left\\{y, 1\\right\\}}(t)} - 2}</script></html>"
      ],
      "text/plain": [
       "v7 == -1/(v13 - 2)"
      ]
     },
     "metadata": {},
     "output_type": "display_data"
    },
    {
     "data": {
      "text/html": [
       "<html><script type=\"math/tex; mode=display\">\\newcommand{\\Bold}[1]{\\mathbf{#1}}{F_{y^{-1},\\left\\{1, y^{-1}\\right\\}}(t)} = t</script></html>"
      ],
      "text/plain": [
       "v10 == t"
      ]
     },
     "metadata": {},
     "output_type": "display_data"
    },
    {
     "data": {
      "text/html": [
       "<html><script type=\"math/tex; mode=display\">\\newcommand{\\Bold}[1]{\\mathbf{#1}}{F_{1,\\left\\{y^{-1}\\right\\}}(t)} = -\\frac{1}{{F_{1,\\left\\{1, y^{-1}\\right\\}}(t)} - 2}</script></html>"
      ],
      "text/plain": [
       "v9 == -1/(v14 - 2)"
      ]
     },
     "metadata": {},
     "output_type": "display_data"
    },
    {
     "data": {
      "text/html": [
       "<html><script type=\"math/tex; mode=display\">\\newcommand{\\Bold}[1]{\\mathbf{#1}}{F_{x,\\left\\{x^{2}, x\\right\\}}(t)} = {F_{1,\\left\\{x^{2}, x\\right\\}}(t)} {F_{x,\\left\\{1, x^{2}, x\\right\\}}(t)}</script></html>"
      ],
      "text/plain": [
       "v11 == v15*v16"
      ]
     },
     "metadata": {},
     "output_type": "display_data"
    },
    {
     "data": {
      "text/html": [
       "<html><script type=\"math/tex; mode=display\">\\newcommand{\\Bold}[1]{\\mathbf{#1}}{F_{1,\\left\\{1, x^{2}\\right\\}}(t)} = t {F_{x^{2},\\left\\{x^{2}, x\\right\\}}(t)} + t {F_{y^{-1},\\left\\{y^{-1}\\right\\}}(t)} + t {F_{y,\\left\\{y\\right\\}}(t)} + 1</script></html>"
      ],
      "text/plain": [
       "v12 == t*v17 + t*v2 + t*v3 + 1"
      ]
     },
     "metadata": {},
     "output_type": "display_data"
    },
    {
     "data": {
      "text/html": [
       "<html><script type=\"math/tex; mode=display\">\\newcommand{\\Bold}[1]{\\mathbf{#1}}{F_{1,\\left\\{y, 1\\right\\}}(t)} = t {F_{y,\\left\\{y\\right\\}}(t)} + t {F_{x^{2},\\left\\{x^{2}\\right\\}}(t)} + 1</script></html>"
      ],
      "text/plain": [
       "v13 == t*v3 + t*v4 + 1"
      ]
     },
     "metadata": {},
     "output_type": "display_data"
    },
    {
     "data": {
      "text/html": [
       "<html><script type=\"math/tex; mode=display\">\\newcommand{\\Bold}[1]{\\mathbf{#1}}{F_{1,\\left\\{1, y^{-1}\\right\\}}(t)} = t {F_{y^{-1},\\left\\{y^{-1}\\right\\}}(t)} + t {F_{x^{2},\\left\\{x^{2}\\right\\}}(t)} + 1</script></html>"
      ],
      "text/plain": [
       "v14 == t*v2 + t*v4 + 1"
      ]
     },
     "metadata": {},
     "output_type": "display_data"
    },
    {
     "data": {
      "text/html": [
       "<html><script type=\"math/tex; mode=display\">\\newcommand{\\Bold}[1]{\\mathbf{#1}}{F_{1,\\left\\{x^{2}, x\\right\\}}(t)} = -\\frac{1}{{F_{1,\\left\\{1, x^{2}, x\\right\\}}(t)} - 2}</script></html>"
      ],
      "text/plain": [
       "v15 == -1/(v18 - 2)"
      ]
     },
     "metadata": {},
     "output_type": "display_data"
    },
    {
     "data": {
      "text/html": [
       "<html><script type=\"math/tex; mode=display\">\\newcommand{\\Bold}[1]{\\mathbf{#1}}{F_{x,\\left\\{1, x^{2}, x\\right\\}}(t)} = t</script></html>"
      ],
      "text/plain": [
       "v16 == t"
      ]
     },
     "metadata": {},
     "output_type": "display_data"
    },
    {
     "data": {
      "text/html": [
       "<html><script type=\"math/tex; mode=display\">\\newcommand{\\Bold}[1]{\\mathbf{#1}}{F_{x^{2},\\left\\{x^{2}, x\\right\\}}(t)} = {F_{1,\\left\\{x^{2}, x\\right\\}}(t)} {F_{x^{2},\\left\\{1, x^{2}, x\\right\\}}(t)}</script></html>"
      ],
      "text/plain": [
       "v17 == v15*v19"
      ]
     },
     "metadata": {},
     "output_type": "display_data"
    },
    {
     "data": {
      "text/html": [
       "<html><script type=\"math/tex; mode=display\">\\newcommand{\\Bold}[1]{\\mathbf{#1}}{F_{1,\\left\\{1, x^{2}, x\\right\\}}(t)} = t {F_{y^{-1},\\left\\{y^{-1}\\right\\}}(t)} + t {F_{y,\\left\\{y\\right\\}}(t)} + 1</script></html>"
      ],
      "text/plain": [
       "v18 == t*v2 + t*v3 + 1"
      ]
     },
     "metadata": {},
     "output_type": "display_data"
    },
    {
     "data": {
      "text/html": [
       "<html><script type=\"math/tex; mode=display\">\\newcommand{\\Bold}[1]{\\mathbf{#1}}{F_{x^{2},\\left\\{1, x^{2}, x\\right\\}}(t)} = 0</script></html>"
      ],
      "text/plain": [
       "v19 == 0"
      ]
     },
     "metadata": {},
     "output_type": "display_data"
    },
    {
     "name": "stdout",
     "output_type": "stream",
     "text": [
      "20\n"
     ]
    }
   ],
   "source": [
    "for eqn in system:\n",
    "    pretty_print(eqn)\n",
    "print(len(system))"
   ]
  },
  {
   "cell_type": "code",
   "execution_count": 265,
   "metadata": {},
   "outputs": [
    {
     "name": "stdout",
     "output_type": "stream",
     "text": [
      "Number of iteration taken to substitute 2\n"
     ]
    }
   ],
   "source": [
    "# now make some substitutions\n",
    "\n",
    "change = 1\n",
    "numit = 0\n",
    "\n",
    "while change:\n",
    "    change = 0\n",
    "    # build a dependency graph\n",
    "    eq_by_lhs = {eq.lhs():eq for eq in system}\n",
    "    dep_gr = {eq.lhs():set(eq.rhs().args())-{t} for eq in system}\n",
    "    vars_det = [v for v,args in dep_gr.items() if not args] # the completely solved vars\n",
    "\n",
    "    rev_dep_gr = {v:set() for v in eq_by_lhs} # diagraph by reversing the arcs of dep_gr\n",
    "    for v,ag in dep_gr.items():\n",
    "        for w in ag:\n",
    "            rev_dep_gr[w].add(v)\n",
    "\n",
    "    # apply BFS to make the substitutions possible\n",
    "    vis = set(vars_det)\n",
    "    queue = list(vis)\n",
    "    done = set()\n",
    "    while queue:\n",
    "        nxtvar = queue.pop(0)\n",
    "        # check if all RHS variables are visited before\n",
    "        sub_dict = {}\n",
    "        for dps in dep_gr[nxtvar]:\n",
    "            if dps not in done:\n",
    "                continue # can't substitute, a RHS varible is not yet reduced\n",
    "            sub_dict[dps] = eq_by_lhs[dps].rhs()\n",
    "            change = 1\n",
    "        eq_by_lhs[nxtvar] = eq_by_lhs[nxtvar].subs(sub_dict)\n",
    "        eq_by_lhs[nxtvar].expand()\n",
    "        for pt in rev_dep_gr[nxtvar]:\n",
    "            if pt not in vis:\n",
    "                queue.append(pt)\n",
    "                vis.add(pt)\n",
    "        done.add(nxtvar)\n",
    "    \n",
    "    for i, eq in enumerate(system):\n",
    "        system[i] = eq_by_lhs[eq.lhs()]\n",
    "    numit+=1\n",
    "\n",
    "print('Number of iteration taken to substitute',numit)\n",
    "        \n"
   ]
  },
  {
   "cell_type": "code",
   "execution_count": 266,
   "metadata": {},
   "outputs": [
    {
     "data": {
      "text/html": [
       "<html><script type=\"math/tex; mode=display\">\\newcommand{\\Bold}[1]{\\mathbf{#1}}{F_{1,\\emptyset}(t)} = -\\frac{1}{t^{2} {F_{1,\\left\\{y\\right\\}}(t)} + t^{2} {F_{1,\\left\\{y^{-1}\\right\\}}(t)} + t {F_{x^{2},\\left\\{x^{2}\\right\\}}(t)} - 1}</script></html>"
      ],
      "text/plain": [
       "v0 == -1/(t^2*v7 + t^2*v9 + t*v4 - 1)"
      ]
     },
     "metadata": {},
     "output_type": "display_data"
    },
    {
     "data": {
      "text/html": [
       "<html><script type=\"math/tex; mode=display\">\\newcommand{\\Bold}[1]{\\mathbf{#1}}{F_{1,\\left\\{1\\right\\}}(t)} = t^{2} {F_{1,\\left\\{y\\right\\}}(t)} + t^{2} {F_{1,\\left\\{y^{-1}\\right\\}}(t)} + t {F_{x^{2},\\left\\{x^{2}\\right\\}}(t)} + 1</script></html>"
      ],
      "text/plain": [
       "v1 == t^2*v7 + t^2*v9 + t*v4 + 1"
      ]
     },
     "metadata": {},
     "output_type": "display_data"
    },
    {
     "data": {
      "text/html": [
       "<html><script type=\"math/tex; mode=display\">\\newcommand{\\Bold}[1]{\\mathbf{#1}}{F_{x^{2},\\left\\{x^{2}\\right\\}}(t)} = -\\frac{t^{2} {F_{1,\\left\\{x^{2}, x\\right\\}}(t)}}{t^{2} {F_{1,\\left\\{y\\right\\}}(t)} + t^{2} {F_{1,\\left\\{y^{-1}\\right\\}}(t)} - 1}</script></html>"
      ],
      "text/plain": [
       "v4 == -t^2*v15/(t^2*v7 + t^2*v9 - 1)"
      ]
     },
     "metadata": {},
     "output_type": "display_data"
    },
    {
     "data": {
      "text/html": [
       "<html><script type=\"math/tex; mode=display\">\\newcommand{\\Bold}[1]{\\mathbf{#1}}{F_{y,\\left\\{y\\right\\}}(t)} = t {F_{1,\\left\\{y\\right\\}}(t)}</script></html>"
      ],
      "text/plain": [
       "v3 == t*v7"
      ]
     },
     "metadata": {},
     "output_type": "display_data"
    },
    {
     "data": {
      "text/html": [
       "<html><script type=\"math/tex; mode=display\">\\newcommand{\\Bold}[1]{\\mathbf{#1}}{F_{y^{-1},\\left\\{y^{-1}\\right\\}}(t)} = t {F_{1,\\left\\{y^{-1}\\right\\}}(t)}</script></html>"
      ],
      "text/plain": [
       "v2 == t*v9"
      ]
     },
     "metadata": {},
     "output_type": "display_data"
    },
    {
     "data": {
      "text/html": [
       "<html><script type=\"math/tex; mode=display\">\\newcommand{\\Bold}[1]{\\mathbf{#1}}{F_{x^{2},\\left\\{1, x^{2}\\right\\}}(t)} = t^{2} {F_{1,\\left\\{x^{2}, x\\right\\}}(t)}</script></html>"
      ],
      "text/plain": [
       "v6 == t^2*v15"
      ]
     },
     "metadata": {},
     "output_type": "display_data"
    },
    {
     "data": {
      "text/html": [
       "<html><script type=\"math/tex; mode=display\">\\newcommand{\\Bold}[1]{\\mathbf{#1}}{F_{1,\\left\\{x^{2}\\right\\}}(t)} = -\\frac{1}{t^{2} {F_{1,\\left\\{y\\right\\}}(t)} + t^{2} {F_{1,\\left\\{y^{-1}\\right\\}}(t)} - 1}</script></html>"
      ],
      "text/plain": [
       "v5 == -1/(t^2*v7 + t^2*v9 - 1)"
      ]
     },
     "metadata": {},
     "output_type": "display_data"
    },
    {
     "data": {
      "text/html": [
       "<html><script type=\"math/tex; mode=display\">\\newcommand{\\Bold}[1]{\\mathbf{#1}}{F_{y,\\left\\{y, 1\\right\\}}(t)} = t</script></html>"
      ],
      "text/plain": [
       "v8 == t"
      ]
     },
     "metadata": {},
     "output_type": "display_data"
    },
    {
     "data": {
      "text/html": [
       "<html><script type=\"math/tex; mode=display\">\\newcommand{\\Bold}[1]{\\mathbf{#1}}{F_{1,\\left\\{y\\right\\}}(t)} = -\\frac{1}{t^{2} {F_{1,\\left\\{y\\right\\}}(t)} + t {F_{x^{2},\\left\\{x^{2}\\right\\}}(t)} - 1}</script></html>"
      ],
      "text/plain": [
       "v7 == -1/(t^2*v7 + t*v4 - 1)"
      ]
     },
     "metadata": {},
     "output_type": "display_data"
    },
    {
     "data": {
      "text/html": [
       "<html><script type=\"math/tex; mode=display\">\\newcommand{\\Bold}[1]{\\mathbf{#1}}{F_{y^{-1},\\left\\{1, y^{-1}\\right\\}}(t)} = t</script></html>"
      ],
      "text/plain": [
       "v10 == t"
      ]
     },
     "metadata": {},
     "output_type": "display_data"
    },
    {
     "data": {
      "text/html": [
       "<html><script type=\"math/tex; mode=display\">\\newcommand{\\Bold}[1]{\\mathbf{#1}}{F_{1,\\left\\{y^{-1}\\right\\}}(t)} = -\\frac{1}{t^{2} {F_{1,\\left\\{y^{-1}\\right\\}}(t)} + t {F_{x^{2},\\left\\{x^{2}\\right\\}}(t)} - 1}</script></html>"
      ],
      "text/plain": [
       "v9 == -1/(t^2*v9 + t*v4 - 1)"
      ]
     },
     "metadata": {},
     "output_type": "display_data"
    },
    {
     "data": {
      "text/html": [
       "<html><script type=\"math/tex; mode=display\">\\newcommand{\\Bold}[1]{\\mathbf{#1}}{F_{x,\\left\\{x^{2}, x\\right\\}}(t)} = t {F_{1,\\left\\{x^{2}, x\\right\\}}(t)}</script></html>"
      ],
      "text/plain": [
       "v11 == t*v15"
      ]
     },
     "metadata": {},
     "output_type": "display_data"
    },
    {
     "data": {
      "text/html": [
       "<html><script type=\"math/tex; mode=display\">\\newcommand{\\Bold}[1]{\\mathbf{#1}}{F_{1,\\left\\{1, x^{2}\\right\\}}(t)} = t^{2} {F_{1,\\left\\{y\\right\\}}(t)} + t^{2} {F_{1,\\left\\{y^{-1}\\right\\}}(t)} + 1</script></html>"
      ],
      "text/plain": [
       "v12 == t^2*v7 + t^2*v9 + 1"
      ]
     },
     "metadata": {},
     "output_type": "display_data"
    },
    {
     "data": {
      "text/html": [
       "<html><script type=\"math/tex; mode=display\">\\newcommand{\\Bold}[1]{\\mathbf{#1}}{F_{1,\\left\\{y, 1\\right\\}}(t)} = t^{2} {F_{1,\\left\\{y\\right\\}}(t)} + t {F_{x^{2},\\left\\{x^{2}\\right\\}}(t)} + 1</script></html>"
      ],
      "text/plain": [
       "v13 == t^2*v7 + t*v4 + 1"
      ]
     },
     "metadata": {},
     "output_type": "display_data"
    },
    {
     "data": {
      "text/html": [
       "<html><script type=\"math/tex; mode=display\">\\newcommand{\\Bold}[1]{\\mathbf{#1}}{F_{1,\\left\\{1, y^{-1}\\right\\}}(t)} = t^{2} {F_{1,\\left\\{y^{-1}\\right\\}}(t)} + t {F_{x^{2},\\left\\{x^{2}\\right\\}}(t)} + 1</script></html>"
      ],
      "text/plain": [
       "v14 == t^2*v9 + t*v4 + 1"
      ]
     },
     "metadata": {},
     "output_type": "display_data"
    },
    {
     "data": {
      "text/html": [
       "<html><script type=\"math/tex; mode=display\">\\newcommand{\\Bold}[1]{\\mathbf{#1}}{F_{1,\\left\\{x^{2}, x\\right\\}}(t)} = -\\frac{1}{t^{2} {F_{1,\\left\\{y\\right\\}}(t)} + t^{2} {F_{1,\\left\\{y^{-1}\\right\\}}(t)} - 1}</script></html>"
      ],
      "text/plain": [
       "v15 == -1/(t^2*v7 + t^2*v9 - 1)"
      ]
     },
     "metadata": {},
     "output_type": "display_data"
    },
    {
     "data": {
      "text/html": [
       "<html><script type=\"math/tex; mode=display\">\\newcommand{\\Bold}[1]{\\mathbf{#1}}{F_{x,\\left\\{1, x^{2}, x\\right\\}}(t)} = t</script></html>"
      ],
      "text/plain": [
       "v16 == t"
      ]
     },
     "metadata": {},
     "output_type": "display_data"
    },
    {
     "data": {
      "text/html": [
       "<html><script type=\"math/tex; mode=display\">\\newcommand{\\Bold}[1]{\\mathbf{#1}}{F_{x^{2},\\left\\{x^{2}, x\\right\\}}(t)} = 0</script></html>"
      ],
      "text/plain": [
       "v17 == 0"
      ]
     },
     "metadata": {},
     "output_type": "display_data"
    },
    {
     "data": {
      "text/html": [
       "<html><script type=\"math/tex; mode=display\">\\newcommand{\\Bold}[1]{\\mathbf{#1}}{F_{1,\\left\\{1, x^{2}, x\\right\\}}(t)} = t^{2} {F_{1,\\left\\{y\\right\\}}(t)} + t^{2} {F_{1,\\left\\{y^{-1}\\right\\}}(t)} + 1</script></html>"
      ],
      "text/plain": [
       "v18 == t^2*v7 + t^2*v9 + 1"
      ]
     },
     "metadata": {},
     "output_type": "display_data"
    },
    {
     "data": {
      "text/html": [
       "<html><script type=\"math/tex; mode=display\">\\newcommand{\\Bold}[1]{\\mathbf{#1}}{F_{x^{2},\\left\\{1, x^{2}, x\\right\\}}(t)} = 0</script></html>"
      ],
      "text/plain": [
       "v19 == 0"
      ]
     },
     "metadata": {},
     "output_type": "display_data"
    }
   ],
   "source": [
    "for eq in eq_by_lhs.values():\n",
    "    pretty_print(eq)"
   ]
  },
  {
   "cell_type": "code",
   "execution_count": 267,
   "metadata": {},
   "outputs": [],
   "source": [
    "# get rid of every irrelevant variable\n",
    "start = var_space[goal_pair]\n",
    "eq_by_lhs = {eq.lhs():eq for eq in system}\n",
    "dep_gr = {eq.lhs():set(eq.rhs().args())-{t} for eq in system}\n",
    "\n",
    "comp_set = {start}\n",
    "comp = [start]\n",
    "ind = 0\n",
    "while ind<len(comp):\n",
    "    for v in dep_gr[comp[ind]]:\n",
    "        if v not in comp_set:\n",
    "            comp.append(v)\n",
    "            comp_set.add(v)\n",
    "    ind += 1\n",
    "\n",
    "system = [eq for eq in system if eq.lhs() in comp_set]"
   ]
  },
  {
   "cell_type": "code",
   "execution_count": 268,
   "metadata": {},
   "outputs": [
    {
     "data": {
      "text/html": [
       "<html><script type=\"math/tex; mode=display\">\\newcommand{\\Bold}[1]{\\mathbf{#1}}\\left[{F_{1,\\emptyset}(t)}, {F_{x^{2},\\left\\{x^{2}\\right\\}}(t)}, {F_{1,\\left\\{y^{-1}\\right\\}}(t)}, {F_{1,\\left\\{y\\right\\}}(t)}, {F_{1,\\left\\{x^{2}, x\\right\\}}(t)}\\right]</script></html>"
      ],
      "text/plain": [
       "[v0, v4, v9, v7, v15]"
      ]
     },
     "metadata": {},
     "output_type": "display_data"
    },
    {
     "name": "stdout",
     "output_type": "stream",
     "text": [
      "v0 == -1/(t^2*v7 + t^2*v9 + t*v4 - 1)\n"
     ]
    },
    {
     "data": {
      "text/html": [
       "<html><script type=\"math/tex; mode=display\">\\newcommand{\\Bold}[1]{\\mathbf{#1}}{F_{1,\\emptyset}(t)} = -\\frac{1}{t^{2} {F_{1,\\left\\{y\\right\\}}(t)} + t^{2} {F_{1,\\left\\{y^{-1}\\right\\}}(t)} + t {F_{x^{2},\\left\\{x^{2}\\right\\}}(t)} - 1}</script></html>"
      ],
      "text/plain": [
       "v0 == -1/(t^2*v7 + t^2*v9 + t*v4 - 1)"
      ]
     },
     "metadata": {},
     "output_type": "display_data"
    },
    {
     "name": "stdout",
     "output_type": "stream",
     "text": [
      "v4 == -t^2*v15/(t^2*v7 + t^2*v9 - 1)\n"
     ]
    },
    {
     "data": {
      "text/html": [
       "<html><script type=\"math/tex; mode=display\">\\newcommand{\\Bold}[1]{\\mathbf{#1}}{F_{x^{2},\\left\\{x^{2}\\right\\}}(t)} = -\\frac{t^{2} {F_{1,\\left\\{x^{2}, x\\right\\}}(t)}}{t^{2} {F_{1,\\left\\{y\\right\\}}(t)} + t^{2} {F_{1,\\left\\{y^{-1}\\right\\}}(t)} - 1}</script></html>"
      ],
      "text/plain": [
       "v4 == -t^2*v15/(t^2*v7 + t^2*v9 - 1)"
      ]
     },
     "metadata": {},
     "output_type": "display_data"
    },
    {
     "name": "stdout",
     "output_type": "stream",
     "text": [
      "v7 == -1/(t^2*v7 + t*v4 - 1)\n"
     ]
    },
    {
     "data": {
      "text/html": [
       "<html><script type=\"math/tex; mode=display\">\\newcommand{\\Bold}[1]{\\mathbf{#1}}{F_{1,\\left\\{y\\right\\}}(t)} = -\\frac{1}{t^{2} {F_{1,\\left\\{y\\right\\}}(t)} + t {F_{x^{2},\\left\\{x^{2}\\right\\}}(t)} - 1}</script></html>"
      ],
      "text/plain": [
       "v7 == -1/(t^2*v7 + t*v4 - 1)"
      ]
     },
     "metadata": {},
     "output_type": "display_data"
    },
    {
     "name": "stdout",
     "output_type": "stream",
     "text": [
      "v9 == -1/(t^2*v9 + t*v4 - 1)\n"
     ]
    },
    {
     "data": {
      "text/html": [
       "<html><script type=\"math/tex; mode=display\">\\newcommand{\\Bold}[1]{\\mathbf{#1}}{F_{1,\\left\\{y^{-1}\\right\\}}(t)} = -\\frac{1}{t^{2} {F_{1,\\left\\{y^{-1}\\right\\}}(t)} + t {F_{x^{2},\\left\\{x^{2}\\right\\}}(t)} - 1}</script></html>"
      ],
      "text/plain": [
       "v9 == -1/(t^2*v9 + t*v4 - 1)"
      ]
     },
     "metadata": {},
     "output_type": "display_data"
    },
    {
     "name": "stdout",
     "output_type": "stream",
     "text": [
      "v15 == -1/(t^2*v7 + t^2*v9 - 1)\n"
     ]
    },
    {
     "data": {
      "text/html": [
       "<html><script type=\"math/tex; mode=display\">\\newcommand{\\Bold}[1]{\\mathbf{#1}}{F_{1,\\left\\{x^{2}, x\\right\\}}(t)} = -\\frac{1}{t^{2} {F_{1,\\left\\{y\\right\\}}(t)} + t^{2} {F_{1,\\left\\{y^{-1}\\right\\}}(t)} - 1}</script></html>"
      ],
      "text/plain": [
       "v15 == -1/(t^2*v7 + t^2*v9 - 1)"
      ]
     },
     "metadata": {},
     "output_type": "display_data"
    }
   ],
   "source": [
    "pretty_print(comp)\n",
    "for eq in system:\n",
    "    print(eq)\n",
    "    pretty_print(eq)"
   ]
  },
  {
   "cell_type": "code",
   "execution_count": 269,
   "metadata": {},
   "outputs": [],
   "source": [
    "# make every equation eplicit. delete loops\n",
    "# maybe not a good idea due to the posssible interference of radicals\n",
    "\n",
    "# for i, eqn in enumerate(system):\n",
    "#     system[i] = solve(eqn,eqn.lhs())[0]"
   ]
  },
  {
   "cell_type": "code",
   "execution_count": 270,
   "metadata": {},
   "outputs": [
    {
     "name": "stdout",
     "output_type": "stream",
     "text": [
      "{F_{1,\\emptyset}(t)} = -\\frac{1}{t^{2} {F_{1,\\left\\{y\\right\\}}(t)} + t^{2} {F_{1,\\left\\{y^{-1}\\right\\}}(t)} + t {F_{x^{2},\\left\\{x^{2}\\right\\}}(t)} - 1} \\\\\n",
      "{F_{x^{2},\\left\\{x^{2}\\right\\}}(t)} = -\\frac{t^{2} {F_{1,\\left\\{x^{2}, x\\right\\}}(t)}}{t^{2} {F_{1,\\left\\{y\\right\\}}(t)} + t^{2} {F_{1,\\left\\{y^{-1}\\right\\}}(t)} - 1} \\\\\n",
      "{F_{1,\\left\\{y\\right\\}}(t)} = -\\frac{1}{t^{2} {F_{1,\\left\\{y\\right\\}}(t)} + t {F_{x^{2},\\left\\{x^{2}\\right\\}}(t)} - 1} \\\\\n",
      "{F_{1,\\left\\{y^{-1}\\right\\}}(t)} = -\\frac{1}{t^{2} {F_{1,\\left\\{y^{-1}\\right\\}}(t)} + t {F_{x^{2},\\left\\{x^{2}\\right\\}}(t)} - 1} \\\\\n",
      "{F_{1,\\left\\{x^{2}, x\\right\\}}(t)} = -\\frac{1}{t^{2} {F_{1,\\left\\{y\\right\\}}(t)} + t^{2} {F_{1,\\left\\{y^{-1}\\right\\}}(t)} - 1} \\\\\n"
     ]
    }
   ],
   "source": [
    "for eq in system:\n",
    "    print(latex(eq)+r'\\\\')\n",
    "    #pretty_print(eq)"
   ]
  },
  {
   "cell_type": "code",
   "execution_count": 271,
   "metadata": {},
   "outputs": [
    {
     "data": {
      "text/plain": [
       "[v15, v7, v9, v4]"
      ]
     },
     "execution_count": 271,
     "metadata": {},
     "output_type": "execute_result"
    }
   ],
   "source": [
    "# order the component based on the shortest distance from the start in decreasing order\n",
    "# BFS already put them in increasing order\n",
    "comp.reverse()\n",
    "comp.pop(); # get rid of start; the only variable we don't want to eliminate\n",
    "comp"
   ]
  },
  {
   "cell_type": "code",
   "execution_count": 272,
   "metadata": {},
   "outputs": [],
   "source": [
    "def eliminate(system,xs, show_steps = False, fully_simplify=False, quit_at_zero= False):\n",
    "    if show_steps:\n",
    "        sols = []\n",
    "        for x in xs:\n",
    "            sols.append((x, eliminate(system,[x], fully_simplify=fully_simplify)))\n",
    "            system = sols[-1][1]\n",
    "            if quit_at_zero and system == [0]*len(system):\n",
    "                return sols\n",
    "        return sols\n",
    "    sols = maxima.eliminate(system,xs)\n",
    "    func = lambda ex: ex.simplify_full() if fully_simplify else ex\n",
    "    return [func(expr.sage()) for expr in sols]"
   ]
  },
  {
   "cell_type": "code",
   "execution_count": 273,
   "metadata": {},
   "outputs": [],
   "source": [
    "# Expression involving t and F(t) to set = 0\n",
    "\n",
    "impl_solset = []\n",
    "steps = eliminate(system, comp, True, quit_at_zero=True)\n",
    "while steps and 0 in steps[-1][-1]:\n",
    "    steps.pop()\n",
    "if steps:\n",
    "    impl_solset = steps[-1][-1]\n",
    "\n",
    "'''\n",
    "possible_impl_solns = []\n",
    "for comp_perm in Permutations(comp):\n",
    "    comp_perm = list(comp_perm)\n",
    "    print(comp_perm,type(comp_perm))\n",
    "    possible_impl_solns_perm = eliminate(system, comp_perm)\n",
    "    possible_impl_solns.extend(possible_impl_solns_perm)\n",
    "    for impl_soln in possible_impl_solns_perm:\n",
    "        pretty_print(impl_soln)\n",
    "        if impl_soln!=0:\n",
    "            break # found an actual solution\n",
    "    else:\n",
    "        continue\n",
    "    break\n",
    "''';"
   ]
  },
  {
   "cell_type": "code",
   "execution_count": 274,
   "metadata": {},
   "outputs": [
    {
     "name": "stdout",
     "output_type": "stream",
     "text": [
      "1\n"
     ]
    },
    {
     "data": {
      "text/html": [
       "<html><script type=\"math/tex; mode=display\">\\newcommand{\\Bold}[1]{\\mathbf{#1}}{\\left(366912 \\, t^{18} {F_{1,\\emptyset}(t)}^{14} - 7168 \\, {\\left(21 \\, {F_{1,\\emptyset}(t)}^{14} - 13 \\, {F_{1,\\emptyset}(t)}^{13}\\right)} t^{17} - 2048 \\, {\\left(285 \\, {F_{1,\\emptyset}(t)}^{14} + 344 \\, {F_{1,\\emptyset}(t)}^{13} - 77 \\, {F_{1,\\emptyset}(t)}^{12}\\right)} t^{16} + 16 \\, {\\left(16496 \\, {F_{1,\\emptyset}(t)}^{14} + 16720 \\, {F_{1,\\emptyset}(t)}^{13} - 4256 \\, {F_{1,\\emptyset}(t)}^{12} + 9221 \\, {F_{1,\\emptyset}(t)}^{11}\\right)} t^{15} + 256 \\, {\\left(1158 \\, {F_{1,\\emptyset}(t)}^{14} + 2944 \\, {F_{1,\\emptyset}(t)}^{13} + 900 \\, {F_{1,\\emptyset}(t)}^{12} - 1323 \\, {F_{1,\\emptyset}(t)}^{11} + 171 \\, {F_{1,\\emptyset}(t)}^{10}\\right)} t^{14} - 512 \\, {\\left(240 \\, {F_{1,\\emptyset}(t)}^{14} + 560 \\, {F_{1,\\emptyset}(t)}^{13} + 200 \\, {F_{1,\\emptyset}(t)}^{12} + 229 \\, {F_{1,\\emptyset}(t)}^{11} + 424 \\, {F_{1,\\emptyset}(t)}^{10} - 93 \\, {F_{1,\\emptyset}(t)}^{9}\\right)} t^{13} - {\\left(80256 \\, {F_{1,\\emptyset}(t)}^{14} + 324608 \\, {F_{1,\\emptyset}(t)}^{13} + 296832 \\, {F_{1,\\emptyset}(t)}^{12} - 223168 \\, {F_{1,\\emptyset}(t)}^{11} - 260928 \\, {F_{1,\\emptyset}(t)}^{10} + 47744 \\, {F_{1,\\emptyset}(t)}^{9} - 20709 \\, {F_{1,\\emptyset}(t)}^{8}\\right)} t^{12} + 16 \\, {\\left(1536 \\, {F_{1,\\emptyset}(t)}^{14} + 5632 \\, {F_{1,\\emptyset}(t)}^{13} + 5184 \\, {F_{1,\\emptyset}(t)}^{12} + 4184 \\, {F_{1,\\emptyset}(t)}^{11} + 10752 \\, {F_{1,\\emptyset}(t)}^{10} + 3600 \\, {F_{1,\\emptyset}(t)}^{9} - 5363 \\, {F_{1,\\emptyset}(t)}^{8} + 411 \\, {F_{1,\\emptyset}(t)}^{7}\\right)} t^{11} + 32 \\, {\\left(480 \\, {F_{1,\\emptyset}(t)}^{14} + 2560 \\, {F_{1,\\emptyset}(t)}^{13} + 3968 \\, {F_{1,\\emptyset}(t)}^{12} - 960 \\, {F_{1,\\emptyset}(t)}^{11} - 6144 \\, {F_{1,\\emptyset}(t)}^{10} - 2080 \\, {F_{1,\\emptyset}(t)}^{9} + 707 \\, {F_{1,\\emptyset}(t)}^{8} - 664 \\, {F_{1,\\emptyset}(t)}^{7} + 141 \\, {F_{1,\\emptyset}(t)}^{6}\\right)} t^{10} - 4 \\, {\\left(448 \\, {F_{1,\\emptyset}(t)}^{14} + 2240 \\, {F_{1,\\emptyset}(t)}^{13} + 3264 \\, {F_{1,\\emptyset}(t)}^{12} + 5208 \\, {F_{1,\\emptyset}(t)}^{11} + 17600 \\, {F_{1,\\emptyset}(t)}^{10} + 16632 \\, {F_{1,\\emptyset}(t)}^{9} - 11879 \\, {F_{1,\\emptyset}(t)}^{8} - 13685 \\, {F_{1,\\emptyset}(t)}^{7} + 2186 \\, {F_{1,\\emptyset}(t)}^{6} - 282 \\, {F_{1,\\emptyset}(t)}^{5}\\right)} t^{9} - 8 \\, {\\left(192 \\, {F_{1,\\emptyset}(t)}^{14} + 1280 \\, {F_{1,\\emptyset}(t)}^{13} + 2752 \\, {F_{1,\\emptyset}(t)}^{12} + 256 \\, {F_{1,\\emptyset}(t)}^{11} - 6272 \\, {F_{1,\\emptyset}(t)}^{10} - 5920 \\, {F_{1,\\emptyset}(t)}^{9} + 157 \\, {F_{1,\\emptyset}(t)}^{8} + 64 \\, {F_{1,\\emptyset}(t)}^{7} - 450 \\, {F_{1,\\emptyset}(t)}^{6} + 844 \\, {F_{1,\\emptyset}(t)}^{5} - 40 \\, {F_{1,\\emptyset}(t)}^{4}\\right)} t^{8} + 64 \\, {\\left(60 \\, {F_{1,\\emptyset}(t)}^{11} + 320 \\, {F_{1,\\emptyset}(t)}^{10} + 496 \\, {F_{1,\\emptyset}(t)}^{9} - 30 \\, {F_{1,\\emptyset}(t)}^{8} - 558 \\, {F_{1,\\emptyset}(t)}^{7} - 185 \\, {F_{1,\\emptyset}(t)}^{6} + 103 \\, {F_{1,\\emptyset}(t)}^{5} - 10 \\, {F_{1,\\emptyset}(t)}^{4} + 2 \\, {F_{1,\\emptyset}(t)}^{3}\\right)} t^{7} + {F_{1,\\emptyset}(t)}^{8} + 2 \\, {\\left(32 \\, {F_{1,\\emptyset}(t)}^{14} + 256 \\, {F_{1,\\emptyset}(t)}^{13} + 704 \\, {F_{1,\\emptyset}(t)}^{12} + 288 \\, {F_{1,\\emptyset}(t)}^{11} - 2112 \\, {F_{1,\\emptyset}(t)}^{10} - 3424 \\, {F_{1,\\emptyset}(t)}^{9} - 979 \\, {F_{1,\\emptyset}(t)}^{8} - 168 \\, {F_{1,\\emptyset}(t)}^{7} - 847 \\, {F_{1,\\emptyset}(t)}^{6} + 1740 \\, {F_{1,\\emptyset}(t)}^{5} + 1772 \\, {F_{1,\\emptyset}(t)}^{4} - 240 \\, {F_{1,\\emptyset}(t)}^{3} + 8 \\, {F_{1,\\emptyset}(t)}^{2}\\right)} t^{6} + 8 \\, {F_{1,\\emptyset}(t)}^{7} - 16 \\, {\\left(24 \\, {F_{1,\\emptyset}(t)}^{11} + 160 \\, {F_{1,\\emptyset}(t)}^{10} + 344 \\, {F_{1,\\emptyset}(t)}^{9} + 104 \\, {F_{1,\\emptyset}(t)}^{8} - 520 \\, {F_{1,\\emptyset}(t)}^{7} - 497 \\, {F_{1,\\emptyset}(t)}^{6} + 71 \\, {F_{1,\\emptyset}(t)}^{5} + 144 \\, {F_{1,\\emptyset}(t)}^{4} + 8 \\, {F_{1,\\emptyset}(t)}^{2}\\right)} t^{5} + 22 \\, {F_{1,\\emptyset}(t)}^{6} + 16 \\, {\\left(15 \\, {F_{1,\\emptyset}(t)}^{8} + 80 \\, {F_{1,\\emptyset}(t)}^{7} + 124 \\, {F_{1,\\emptyset}(t)}^{6} - 122 \\, {F_{1,\\emptyset}(t)}^{4} - 40 \\, {F_{1,\\emptyset}(t)}^{3} + 24 \\, {F_{1,\\emptyset}(t)}^{2}\\right)} t^{4} + 16 \\, {F_{1,\\emptyset}(t)}^{5} + 4 \\, {\\left(4 \\, {F_{1,\\emptyset}(t)}^{11} + 32 \\, {F_{1,\\emptyset}(t)}^{10} + 88 \\, {F_{1,\\emptyset}(t)}^{9} + 57 \\, {F_{1,\\emptyset}(t)}^{8} - 159 \\, {F_{1,\\emptyset}(t)}^{7} - 275 \\, {F_{1,\\emptyset}(t)}^{6} - 35 \\, {F_{1,\\emptyset}(t)}^{5} + 170 \\, {F_{1,\\emptyset}(t)}^{4} + 94 \\, {F_{1,\\emptyset}(t)}^{3} + 16 \\, {F_{1,\\emptyset}(t)}^{2} + 8 \\, {F_{1,\\emptyset}(t)}\\right)} t^{3} - 31 \\, {F_{1,\\emptyset}(t)}^{4} - 8 \\, {\\left(3 \\, {F_{1,\\emptyset}(t)}^{8} + 20 \\, {F_{1,\\emptyset}(t)}^{7} + 43 \\, {F_{1,\\emptyset}(t)}^{6} + 16 \\, {F_{1,\\emptyset}(t)}^{5} - 54 \\, {F_{1,\\emptyset}(t)}^{4} - 52 \\, {F_{1,\\emptyset}(t)}^{3} + 8 \\, {F_{1,\\emptyset}(t)}^{2} + 16 \\, {F_{1,\\emptyset}(t)}\\right)} t^{2} - 56 \\, {F_{1,\\emptyset}(t)}^{3} - 8 \\, {F_{1,\\emptyset}(t)}^{2} + 32 \\, {F_{1,\\emptyset}(t)} + 16\\right)}^{8} t^{864} = 0</script></html>"
      ],
      "text/plain": [
       "(366912*t^18*v0^14 - 7168*(21*v0^14 - 13*v0^13)*t^17 - 2048*(285*v0^14 + 344*v0^13 - 77*v0^12)*t^16 + 16*(16496*v0^14 + 16720*v0^13 - 4256*v0^12 + 9221*v0^11)*t^15 + 256*(1158*v0^14 + 2944*v0^13 + 900*v0^12 - 1323*v0^11 + 171*v0^10)*t^14 - 512*(240*v0^14 + 560*v0^13 + 200*v0^12 + 229*v0^11 + 424*v0^10 - 93*v0^9)*t^13 - (80256*v0^14 + 324608*v0^13 + 296832*v0^12 - 223168*v0^11 - 260928*v0^10 + 47744*v0^9 - 20709*v0^8)*t^12 + 16*(1536*v0^14 + 5632*v0^13 + 5184*v0^12 + 4184*v0^11 + 10752*v0^10 + 3600*v0^9 - 5363*v0^8 + 411*v0^7)*t^11 + 32*(480*v0^14 + 2560*v0^13 + 3968*v0^12 - 960*v0^11 - 6144*v0^10 - 2080*v0^9 + 707*v0^8 - 664*v0^7 + 141*v0^6)*t^10 - 4*(448*v0^14 + 2240*v0^13 + 3264*v0^12 + 5208*v0^11 + 17600*v0^10 + 16632*v0^9 - 11879*v0^8 - 13685*v0^7 + 2186*v0^6 - 282*v0^5)*t^9 - 8*(192*v0^14 + 1280*v0^13 + 2752*v0^12 + 256*v0^11 - 6272*v0^10 - 5920*v0^9 + 157*v0^8 + 64*v0^7 - 450*v0^6 + 844*v0^5 - 40*v0^4)*t^8 + 64*(60*v0^11 + 320*v0^10 + 496*v0^9 - 30*v0^8 - 558*v0^7 - 185*v0^6 + 103*v0^5 - 10*v0^4 + 2*v0^3)*t^7 + v0^8 + 2*(32*v0^14 + 256*v0^13 + 704*v0^12 + 288*v0^11 - 2112*v0^10 - 3424*v0^9 - 979*v0^8 - 168*v0^7 - 847*v0^6 + 1740*v0^5 + 1772*v0^4 - 240*v0^3 + 8*v0^2)*t^6 + 8*v0^7 - 16*(24*v0^11 + 160*v0^10 + 344*v0^9 + 104*v0^8 - 520*v0^7 - 497*v0^6 + 71*v0^5 + 144*v0^4 + 8*v0^2)*t^5 + 22*v0^6 + 16*(15*v0^8 + 80*v0^7 + 124*v0^6 - 122*v0^4 - 40*v0^3 + 24*v0^2)*t^4 + 16*v0^5 + 4*(4*v0^11 + 32*v0^10 + 88*v0^9 + 57*v0^8 - 159*v0^7 - 275*v0^6 - 35*v0^5 + 170*v0^4 + 94*v0^3 + 16*v0^2 + 8*v0)*t^3 - 31*v0^4 - 8*(3*v0^8 + 20*v0^7 + 43*v0^6 + 16*v0^5 - 54*v0^4 - 52*v0^3 + 8*v0^2 + 16*v0)*t^2 - 56*v0^3 - 8*v0^2 + 32*v0 + 16)^8*t^864 == 0"
      ]
     },
     "metadata": {},
     "output_type": "display_data"
    },
    {
     "name": "stdout",
     "output_type": "stream",
     "text": [
      "(t, v0)\n",
      "{\\left(366912 \\, t^{18} {F_{1,\\emptyset}(t)}^{14} - 7168 \\, {\\left(21 \\, {F_{1,\\emptyset}(t)}^{14} - 13 \\, {F_{1,\\emptyset}(t)}^{13}\\right)} t^{17} - 2048 \\, {\\left(285 \\, {F_{1,\\emptyset}(t)}^{14} + 344 \\, {F_{1,\\emptyset}(t)}^{13} - 77 \\, {F_{1,\\emptyset}(t)}^{12}\\right)} t^{16} + 16 \\, {\\left(16496 \\, {F_{1,\\emptyset}(t)}^{14} + 16720 \\, {F_{1,\\emptyset}(t)}^{13} - 4256 \\, {F_{1,\\emptyset}(t)}^{12} + 9221 \\, {F_{1,\\emptyset}(t)}^{11}\\right)} t^{15} + 256 \\, {\\left(1158 \\, {F_{1,\\emptyset}(t)}^{14} + 2944 \\, {F_{1,\\emptyset}(t)}^{13} + 900 \\, {F_{1,\\emptyset}(t)}^{12} - 1323 \\, {F_{1,\\emptyset}(t)}^{11} + 171 \\, {F_{1,\\emptyset}(t)}^{10}\\right)} t^{14} - 512 \\, {\\left(240 \\, {F_{1,\\emptyset}(t)}^{14} + 560 \\, {F_{1,\\emptyset}(t)}^{13} + 200 \\, {F_{1,\\emptyset}(t)}^{12} + 229 \\, {F_{1,\\emptyset}(t)}^{11} + 424 \\, {F_{1,\\emptyset}(t)}^{10} - 93 \\, {F_{1,\\emptyset}(t)}^{9}\\right)} t^{13} - {\\left(80256 \\, {F_{1,\\emptyset}(t)}^{14} + 324608 \\, {F_{1,\\emptyset}(t)}^{13} + 296832 \\, {F_{1,\\emptyset}(t)}^{12} - 223168 \\, {F_{1,\\emptyset}(t)}^{11} - 260928 \\, {F_{1,\\emptyset}(t)}^{10} + 47744 \\, {F_{1,\\emptyset}(t)}^{9} - 20709 \\, {F_{1,\\emptyset}(t)}^{8}\\right)} t^{12} + 16 \\, {\\left(1536 \\, {F_{1,\\emptyset}(t)}^{14} + 5632 \\, {F_{1,\\emptyset}(t)}^{13} + 5184 \\, {F_{1,\\emptyset}(t)}^{12} + 4184 \\, {F_{1,\\emptyset}(t)}^{11} + 10752 \\, {F_{1,\\emptyset}(t)}^{10} + 3600 \\, {F_{1,\\emptyset}(t)}^{9} - 5363 \\, {F_{1,\\emptyset}(t)}^{8} + 411 \\, {F_{1,\\emptyset}(t)}^{7}\\right)} t^{11} + 32 \\, {\\left(480 \\, {F_{1,\\emptyset}(t)}^{14} + 2560 \\, {F_{1,\\emptyset}(t)}^{13} + 3968 \\, {F_{1,\\emptyset}(t)}^{12} - 960 \\, {F_{1,\\emptyset}(t)}^{11} - 6144 \\, {F_{1,\\emptyset}(t)}^{10} - 2080 \\, {F_{1,\\emptyset}(t)}^{9} + 707 \\, {F_{1,\\emptyset}(t)}^{8} - 664 \\, {F_{1,\\emptyset}(t)}^{7} + 141 \\, {F_{1,\\emptyset}(t)}^{6}\\right)} t^{10} - 4 \\, {\\left(448 \\, {F_{1,\\emptyset}(t)}^{14} + 2240 \\, {F_{1,\\emptyset}(t)}^{13} + 3264 \\, {F_{1,\\emptyset}(t)}^{12} + 5208 \\, {F_{1,\\emptyset}(t)}^{11} + 17600 \\, {F_{1,\\emptyset}(t)}^{10} + 16632 \\, {F_{1,\\emptyset}(t)}^{9} - 11879 \\, {F_{1,\\emptyset}(t)}^{8} - 13685 \\, {F_{1,\\emptyset}(t)}^{7} + 2186 \\, {F_{1,\\emptyset}(t)}^{6} - 282 \\, {F_{1,\\emptyset}(t)}^{5}\\right)} t^{9} - 8 \\, {\\left(192 \\, {F_{1,\\emptyset}(t)}^{14} + 1280 \\, {F_{1,\\emptyset}(t)}^{13} + 2752 \\, {F_{1,\\emptyset}(t)}^{12} + 256 \\, {F_{1,\\emptyset}(t)}^{11} - 6272 \\, {F_{1,\\emptyset}(t)}^{10} - 5920 \\, {F_{1,\\emptyset}(t)}^{9} + 157 \\, {F_{1,\\emptyset}(t)}^{8} + 64 \\, {F_{1,\\emptyset}(t)}^{7} - 450 \\, {F_{1,\\emptyset}(t)}^{6} + 844 \\, {F_{1,\\emptyset}(t)}^{5} - 40 \\, {F_{1,\\emptyset}(t)}^{4}\\right)} t^{8} + 64 \\, {\\left(60 \\, {F_{1,\\emptyset}(t)}^{11} + 320 \\, {F_{1,\\emptyset}(t)}^{10} + 496 \\, {F_{1,\\emptyset}(t)}^{9} - 30 \\, {F_{1,\\emptyset}(t)}^{8} - 558 \\, {F_{1,\\emptyset}(t)}^{7} - 185 \\, {F_{1,\\emptyset}(t)}^{6} + 103 \\, {F_{1,\\emptyset}(t)}^{5} - 10 \\, {F_{1,\\emptyset}(t)}^{4} + 2 \\, {F_{1,\\emptyset}(t)}^{3}\\right)} t^{7} + {F_{1,\\emptyset}(t)}^{8} + 2 \\, {\\left(32 \\, {F_{1,\\emptyset}(t)}^{14} + 256 \\, {F_{1,\\emptyset}(t)}^{13} + 704 \\, {F_{1,\\emptyset}(t)}^{12} + 288 \\, {F_{1,\\emptyset}(t)}^{11} - 2112 \\, {F_{1,\\emptyset}(t)}^{10} - 3424 \\, {F_{1,\\emptyset}(t)}^{9} - 979 \\, {F_{1,\\emptyset}(t)}^{8} - 168 \\, {F_{1,\\emptyset}(t)}^{7} - 847 \\, {F_{1,\\emptyset}(t)}^{6} + 1740 \\, {F_{1,\\emptyset}(t)}^{5} + 1772 \\, {F_{1,\\emptyset}(t)}^{4} - 240 \\, {F_{1,\\emptyset}(t)}^{3} + 8 \\, {F_{1,\\emptyset}(t)}^{2}\\right)} t^{6} + 8 \\, {F_{1,\\emptyset}(t)}^{7} - 16 \\, {\\left(24 \\, {F_{1,\\emptyset}(t)}^{11} + 160 \\, {F_{1,\\emptyset}(t)}^{10} + 344 \\, {F_{1,\\emptyset}(t)}^{9} + 104 \\, {F_{1,\\emptyset}(t)}^{8} - 520 \\, {F_{1,\\emptyset}(t)}^{7} - 497 \\, {F_{1,\\emptyset}(t)}^{6} + 71 \\, {F_{1,\\emptyset}(t)}^{5} + 144 \\, {F_{1,\\emptyset}(t)}^{4} + 8 \\, {F_{1,\\emptyset}(t)}^{2}\\right)} t^{5} + 22 \\, {F_{1,\\emptyset}(t)}^{6} + 16 \\, {\\left(15 \\, {F_{1,\\emptyset}(t)}^{8} + 80 \\, {F_{1,\\emptyset}(t)}^{7} + 124 \\, {F_{1,\\emptyset}(t)}^{6} - 122 \\, {F_{1,\\emptyset}(t)}^{4} - 40 \\, {F_{1,\\emptyset}(t)}^{3} + 24 \\, {F_{1,\\emptyset}(t)}^{2}\\right)} t^{4} + 16 \\, {F_{1,\\emptyset}(t)}^{5} + 4 \\, {\\left(4 \\, {F_{1,\\emptyset}(t)}^{11} + 32 \\, {F_{1,\\emptyset}(t)}^{10} + 88 \\, {F_{1,\\emptyset}(t)}^{9} + 57 \\, {F_{1,\\emptyset}(t)}^{8} - 159 \\, {F_{1,\\emptyset}(t)}^{7} - 275 \\, {F_{1,\\emptyset}(t)}^{6} - 35 \\, {F_{1,\\emptyset}(t)}^{5} + 170 \\, {F_{1,\\emptyset}(t)}^{4} + 94 \\, {F_{1,\\emptyset}(t)}^{3} + 16 \\, {F_{1,\\emptyset}(t)}^{2} + 8 \\, {F_{1,\\emptyset}(t)}\\right)} t^{3} - 31 \\, {F_{1,\\emptyset}(t)}^{4} - 8 \\, {\\left(3 \\, {F_{1,\\emptyset}(t)}^{8} + 20 \\, {F_{1,\\emptyset}(t)}^{7} + 43 \\, {F_{1,\\emptyset}(t)}^{6} + 16 \\, {F_{1,\\emptyset}(t)}^{5} - 54 \\, {F_{1,\\emptyset}(t)}^{4} - 52 \\, {F_{1,\\emptyset}(t)}^{3} + 8 \\, {F_{1,\\emptyset}(t)}^{2} + 16 \\, {F_{1,\\emptyset}(t)}\\right)} t^{2} - 56 \\, {F_{1,\\emptyset}(t)}^{3} - 8 \\, {F_{1,\\emptyset}(t)}^{2} + 32 \\, {F_{1,\\emptyset}(t)} + 16\\right)}^{8} t^{864} =0\\\\\n"
     ]
    }
   ],
   "source": [
    "\n",
    "print(len(impl_solset))\n",
    "for sol in impl_solset:\n",
    "    pretty_print(sol==0)\n",
    "    print(sol.args())\n",
    "\n",
    "for sol in impl_solset:\n",
    "    print(latex(sol)+r\"=0\\\\\")\n",
    "    \n",
    "#solve(system, comp, algorithm='sympy')\n",
    "#impl_soln(v0=sqrt(1/(1-4*t^2))).simplify_full()"
   ]
  },
  {
   "cell_type": "code",
   "execution_count": 275,
   "metadata": {},
   "outputs": [
    {
     "name": "stdout",
     "output_type": "stream",
     "text": [
      "[v15, v7, v9, v4, v0]\n",
      "[{F_{1,\\left\\{x^{2}, x\\right\\}}(t)}, {F_{1,\\left\\{y\\right\\}}(t)}, {F_{1,\\left\\{y^{-1}\\right\\}}(t)}, {F_{x^{2},\\left\\{x^{2}\\right\\}}(t)}, {F_{1,\\emptyset}(t)}]\n"
     ]
    }
   ],
   "source": [
    "# the remaning variable, including the one we wish to solve for\n",
    "var_rem = comp[-len(impl_solset)+1:]+[start]\n",
    "print(var_rem)\n",
    "print(list(map(latex,var_rem)))"
   ]
  },
  {
   "cell_type": "code",
   "execution_count": 276,
   "metadata": {},
   "outputs": [
    {
     "name": "stdout",
     "output_type": "stream",
     "text": [
      "[{v15: r93, v7: r94, v9: r95, v4: r96, v0: -1/6*(24*t^5 - 96*t^4 + 6*t^3 + 48*t^2 - (63*t^6 + 24*t^5 - 48*t^4 + 2*t^3 + 12*t^2 - 1)*sqrt(-sqrt(3)*(sqrt(3)*(64*t^8 + 1792*t^7 + 224*t^6 + 896*t^5 - 32*t^4 + 48*t^3 - 48*t^2 + (3969*t^12 + 3024*t^11 - 5472*t^10 - 2052*t^9 + 3912*t^8 + 384*t^7 - 1274*t^6 + 240*t^4 - 4*t^3 - 24*t^2 + 1)*((13096*t^12 - 62976*t^11 - 14976*t^10 - 66496*t^9 - 10368*t^8 - 9984*t^7 - 3592*t^6 + 3456*t^5 - 144*t^4 + 1080*t^3 + 216*t^2 + 36*sqrt(91/3*t^10 - 800/3*t^9 + 464/3*t^8 + 152*t^7 - 244/3*t^6 - 64*t^5 + 31/3*t^4 + 32/3*t^3 - 2/3*t)*(66*t^7 - 32*t^6 + 112*t^5 - 8*t^4 + 60*t^3 + 9*t) - 27)/(250047*t^18 + 285768*t^17 - 462672*t^16 - 397818*t^15 + 513540*t^14 + 241920*t^13 - 332559*t^12 - 68832*t^11 + 129456*t^10 + 9620*t^9 - 32328*t^8 - 288*t^7 + 5361*t^6 - 72*t^5 - 576*t^4 + 6*t^3 + 36*t^2 - 1))^(2/3) + 4*(912*t^10 + 1656*t^9 - 1656*t^8 - 352*t^7 + 1165*t^6 - 8*t^5 - 352*t^4 - 2*t^3 + 52*t^2 - 3)*((13096*t^12 - 62976*t^11 - 14976*t^10 - 66496*t^9 - 10368*t^8 - 9984*t^7 - 3592*t^6 + 3456*t^5 - 144*t^4 + 1080*t^3 + 216*t^2 + 36*sqrt(91/3*t^10 - 800/3*t^9 + 464/3*t^8 + 152*t^7 - 244/3*t^6 - 64*t^5 + 31/3*t^4 + 32/3*t^3 - 2/3*t)*(66*t^7 - 32*t^6 + 112*t^5 - 8*t^4 + 60*t^3 + 9*t) - 27)/(250047*t^18 + 285768*t^17 - 462672*t^16 - 397818*t^15 + 513540*t^14 + 241920*t^13 - 332559*t^12 - 68832*t^11 + 129456*t^10 + 9620*t^9 - 32328*t^8 - 288*t^7 + 5361*t^6 - 72*t^5 - 576*t^4 + 6*t^3 + 36*t^2 - 1))^(1/3) + 9)*sqrt((64*t^8 + 1792*t^7 + 224*t^6 + 896*t^5 - 32*t^4 + 48*t^3 - 48*t^2 + (3969*t^12 + 3024*t^11 - 5472*t^10 - 2052*t^9 + 3912*t^8 + 384*t^7 - 1274*t^6 + 240*t^4 - 4*t^3 - 24*t^2 + 1)*((13096*t^12 - 62976*t^11 - 14976*t^10 - 66496*t^9 - 10368*t^8 - 9984*t^7 - 3592*t^6 + 3456*t^5 - 144*t^4 + 1080*t^3 + 216*t^2 + 36*sqrt(91/3*t^10 - 800/3*t^9 + 464/3*t^8 + 152*t^7 - 244/3*t^6 - 64*t^5 + 31/3*t^4 + 32/3*t^3 - 2/3*t)*(66*t^7 - 32*t^6 + 112*t^5 - 8*t^4 + 60*t^3 + 9*t) - 27)/(250047*t^18 + 285768*t^17 - 462672*t^16 - 397818*t^15 + 513540*t^14 + 241920*t^13 - 332559*t^12 - 68832*t^11 + 129456*t^10 + 9620*t^9 - 32328*t^8 - 288*t^7 + 5361*t^6 - 72*t^5 - 576*t^4 + 6*t^3 + 36*t^2 - 1))^(2/3) - 2*(912*t^10 + 1656*t^9 - 1656*t^8 - 352*t^7 + 1165*t^6 - 8*t^5 - 352*t^4 - 2*t^3 + 52*t^2 - 3)*((13096*t^12 - 62976*t^11 - 14976*t^10 - 66496*t^9 - 10368*t^8 - 9984*t^7 - 3592*t^6 + 3456*t^5 - 144*t^4 + 1080*t^3 + 216*t^2 + 36*sqrt(91/3*t^10 - 800/3*t^9 + 464/3*t^8 + 152*t^7 - 244/3*t^6 - 64*t^5 + 31/3*t^4 + 32/3*t^3 - 2/3*t)*(66*t^7 - 32*t^6 + 112*t^5 - 8*t^4 + 60*t^3 + 9*t) - 27)/(250047*t^18 + 285768*t^17 - 462672*t^16 - 397818*t^15 + 513540*t^14 + 241920*t^13 - 332559*t^12 - 68832*t^11 + 129456*t^10 + 9620*t^9 - 32328*t^8 - 288*t^7 + 5361*t^6 - 72*t^5 - 576*t^4 + 6*t^3 + 36*t^2 - 1))^(1/3) + 9)/((13096*t^12 - 62976*t^11 - 14976*t^10 - 66496*t^9 - 10368*t^8 - 9984*t^7 - 3592*t^6 + 3456*t^5 - 144*t^4 + 1080*t^3 + 216*t^2 + 36*sqrt(91/3*t^10 - 800/3*t^9 + 464/3*t^8 + 152*t^7 - 244/3*t^6 - 64*t^5 + 31/3*t^4 + 32/3*t^3 - 2/3*t)*(66*t^7 - 32*t^6 + 112*t^5 - 8*t^4 + 60*t^3 + 9*t) - 27)/(250047*t^18 + 285768*t^17 - 462672*t^16 - 397818*t^15 + 513540*t^14 + 241920*t^13 - 332559*t^12 - 68832*t^11 + 129456*t^10 + 9620*t^9 - 32328*t^8 - 288*t^7 + 5361*t^6 - 72*t^5 - 576*t^4 + 6*t^3 + 36*t^2 - 1))^(1/3)) + 36*(4162*t^15 - 16200*t^14 - 9168*t^13 + 21762*t^12 + 12988*t^11 - 20768*t^10 - 5907*t^9 + 9104*t^8 + 880*t^7 - 2215*t^6 + 24*t^5 + 336*t^4 - 11*t^3 - 28*t^2 + 1)*((13096*t^12 - 62976*t^11 - 14976*t^10 - 66496*t^9 - 10368*t^8 - 9984*t^7 - 3592*t^6 + 3456*t^5 - 144*t^4 + 1080*t^3 + 216*t^2 + 36*sqrt(91/3*t^10 - 800/3*t^9 + 464/3*t^8 + 152*t^7 - 244/3*t^6 - 64*t^5 + 31/3*t^4 + 32/3*t^3 - 2/3*t)*(66*t^7 - 32*t^6 + 112*t^5 - 8*t^4 + 60*t^3 + 9*t) - 27)/(250047*t^18 + 285768*t^17 - 462672*t^16 - 397818*t^15 + 513540*t^14 + 241920*t^13 - 332559*t^12 - 68832*t^11 + 129456*t^10 + 9620*t^9 - 32328*t^8 - 288*t^7 + 5361*t^6 - 72*t^5 - 576*t^4 + 6*t^3 + 36*t^2 - 1))^(1/3))/((3969*t^12 + 3024*t^11 - 5472*t^10 - 2052*t^9 + 3912*t^8 + 384*t^7 - 1274*t^6 + 240*t^4 - 4*t^3 - 24*t^2 + 1)*sqrt((64*t^8 + 1792*t^7 + 224*t^6 + 896*t^5 - 32*t^4 + 48*t^3 - 48*t^2 + (3969*t^12 + 3024*t^11 - 5472*t^10 - 2052*t^9 + 3912*t^8 + 384*t^7 - 1274*t^6 + 240*t^4 - 4*t^3 - 24*t^2 + 1)*((13096*t^12 - 62976*t^11 - 14976*t^10 - 66496*t^9 - 10368*t^8 - 9984*t^7 - 3592*t^6 + 3456*t^5 - 144*t^4 + 1080*t^3 + 216*t^2 + 36*sqrt(91/3*t^10 - 800/3*t^9 + 464/3*t^8 + 152*t^7 - 244/3*t^6 - 64*t^5 + 31/3*t^4 + 32/3*t^3 - 2/3*t)*(66*t^7 - 32*t^6 + 112*t^5 - 8*t^4 + 60*t^3 + 9*t) - 27)/(250047*t^18 + 285768*t^17 - 462672*t^16 - 397818*t^15 + 513540*t^14 + 241920*t^13 - 332559*t^12 - 68832*t^11 + 129456*t^10 + 9620*t^9 - 32328*t^8 - 288*t^7 + 5361*t^6 - 72*t^5 - 576*t^4 + 6*t^3 + 36*t^2 - 1))^(2/3) - 2*(912*t^10 + 1656*t^9 - 1656*t^8 - 352*t^7 + 1165*t^6 - 8*t^5 - 352*t^4 - 2*t^3 + 52*t^2 - 3)*((13096*t^12 - 62976*t^11 - 14976*t^10 - 66496*t^9 - 10368*t^8 - 9984*t^7 - 3592*t^6 + 3456*t^5 - 144*t^4 + 1080*t^3 + 216*t^2 + 36*sqrt(91/3*t^10 - 800/3*t^9 + 464/3*t^8 + 152*t^7 - 244/3*t^6 - 64*t^5 + 31/3*t^4 + 32/3*t^3 - 2/3*t)*(66*t^7 - 32*t^6 + 112*t^5 - 8*t^4 + 60*t^3 + 9*t) - 27)/(250047*t^18 + 285768*t^17 - 462672*t^16 - 397818*t^15 + 513540*t^14 + 241920*t^13 - 332559*t^12 - 68832*t^11 + 129456*t^10 + 9620*t^9 - 32328*t^8 - 288*t^7 + 5361*t^6 - 72*t^5 - 576*t^4 + 6*t^3 + 36*t^2 - 1))^(1/3) + 9)/((13096*t^12 - 62976*t^11 - 14976*t^10 - 66496*t^9 - 10368*t^8 - 9984*t^7 - 3592*t^6 + 3456*t^5 - 144*t^4 + 1080*t^3 + 216*t^2 + 36*sqrt(91/3*t^10 - 800/3*t^9 + 464/3*t^8 + 152*t^7 - 244/3*t^6 - 64*t^5 + 31/3*t^4 + 32/3*t^3 - 2/3*t)*(66*t^7 - 32*t^6 + 112*t^5 - 8*t^4 + 60*t^3 + 9*t) - 27)/(250047*t^18 + 285768*t^17 - 462672*t^16 - 397818*t^15 + 513540*t^14 + 241920*t^13 - 332559*t^12 - 68832*t^11 + 129456*t^10 + 9620*t^9 - 32328*t^8 - 288*t^7 + 5361*t^6 - 72*t^5 - 576*t^4 + 6*t^3 + 36*t^2 - 1))^(1/3))*((13096*t^12 - 62976*t^11 - 14976*t^10 - 66496*t^9 - 10368*t^8 - 9984*t^7 - 3592*t^6 + 3456*t^5 - 144*t^4 + 1080*t^3 + 216*t^2 + 36*sqrt(91/3*t^10 - 800/3*t^9 + 464/3*t^8 + 152*t^7 - 244/3*t^6 - 64*t^5 + 31/3*t^4 + 32/3*t^3 - 2/3*t)*(66*t^7 - 32*t^6 + 112*t^5 - 8*t^4 + 60*t^3 + 9*t) - 27)/(250047*t^18 + 285768*t^17 - 462672*t^16 - 397818*t^15 + 513540*t^14 + 241920*t^13 - 332559*t^12 - 68832*t^11 + 129456*t^10 + 9620*t^9 - 32328*t^8 - 288*t^7 + 5361*t^6 - 72*t^5 - 576*t^4 + 6*t^3 + 36*t^2 - 1))^(1/3))) - sqrt(3)*sqrt((64*t^8 + 1792*t^7 + 224*t^6 + 896*t^5 - 32*t^4 + 48*t^3 - 48*t^2 + (3969*t^12 + 3024*t^11 - 5472*t^10 - 2052*t^9 + 3912*t^8 + 384*t^7 - 1274*t^6 + 240*t^4 - 4*t^3 - 24*t^2 + 1)*((13096*t^12 - 62976*t^11 - 14976*t^10 - 66496*t^9 - 10368*t^8 - 9984*t^7 - 3592*t^6 + 3456*t^5 - 144*t^4 + 1080*t^3 + 216*t^2 + 36*sqrt(91/3*t^10 - 800/3*t^9 + 464/3*t^8 + 152*t^7 - 244/3*t^6 - 64*t^5 + 31/3*t^4 + 32/3*t^3 - 2/3*t)*(66*t^7 - 32*t^6 + 112*t^5 - 8*t^4 + 60*t^3 + 9*t) - 27)/(250047*t^18 + 285768*t^17 - 462672*t^16 - 397818*t^15 + 513540*t^14 + 241920*t^13 - 332559*t^12 - 68832*t^11 + 129456*t^10 + 9620*t^9 - 32328*t^8 - 288*t^7 + 5361*t^6 - 72*t^5 - 576*t^4 + 6*t^3 + 36*t^2 - 1))^(2/3) - 2*(912*t^10 + 1656*t^9 - 1656*t^8 - 352*t^7 + 1165*t^6 - 8*t^5 - 352*t^4 - 2*t^3 + 52*t^2 - 3)*((13096*t^12 - 62976*t^11 - 14976*t^10 - 66496*t^9 - 10368*t^8 - 9984*t^7 - 3592*t^6 + 3456*t^5 - 144*t^4 + 1080*t^3 + 216*t^2 + 36*sqrt(91/3*t^10 - 800/3*t^9 + 464/3*t^8 + 152*t^7 - 244/3*t^6 - 64*t^5 + 31/3*t^4 + 32/3*t^3 - 2/3*t)*(66*t^7 - 32*t^6 + 112*t^5 - 8*t^4 + 60*t^3 + 9*t) - 27)/(250047*t^18 + 285768*t^17 - 462672*t^16 - 397818*t^15 + 513540*t^14 + 241920*t^13 - 332559*t^12 - 68832*t^11 + 129456*t^10 + 9620*t^9 - 32328*t^8 - 288*t^7 + 5361*t^6 - 72*t^5 - 576*t^4 + 6*t^3 + 36*t^2 - 1))^(1/3) + 9)/((13096*t^12 - 62976*t^11 - 14976*t^10 - 66496*t^9 - 10368*t^8 - 9984*t^7 - 3592*t^6 + 3456*t^5 - 144*t^4 + 1080*t^3 + 216*t^2 + 36*sqrt(91/3*t^10 - 800/3*t^9 + 464/3*t^8 + 152*t^7 - 244/3*t^6 - 64*t^5 + 31/3*t^4 + 32/3*t^3 - 2/3*t)*(66*t^7 - 32*t^6 + 112*t^5 - 8*t^4 + 60*t^3 + 9*t) - 27)/(250047*t^18 + 285768*t^17 - 462672*t^16 - 397818*t^15 + 513540*t^14 + 241920*t^13 - 332559*t^12 - 68832*t^11 + 129456*t^10 + 9620*t^9 - 32328*t^8 - 288*t^7 + 5361*t^6 - 72*t^5 - 576*t^4 + 6*t^3 + 36*t^2 - 1))^(1/3)) - 6)/(63*t^6 + 24*t^5 - 48*t^4 + 2*t^3 + 12*t^2 - 1)}, {v15: r97, v7: r98, v9: r99, v4: r100, v0: -1/6*(24*t^5 - 96*t^4 + 6*t^3 + 48*t^2 + (63*t^6 + 24*t^5 - 48*t^4 + 2*t^3 + 12*t^2 - 1)*sqrt(-sqrt(3)*(sqrt(3)*(64*t^8 + 1792*t^7 + 224*t^6 + 896*t^5 - 32*t^4 + 48*t^3 - 48*t^2 + (3969*t^12 + 3024*t^11 - 5472*t^10 - 2052*t^9 + 3912*t^8 + 384*t^7 - 1274*t^6 + 240*t^4 - 4*t^3 - 24*t^2 + 1)*((13096*t^12 - 62976*t^11 - 14976*t^10 - 66496*t^9 - 10368*t^8 - 9984*t^7 - 3592*t^6 + 3456*t^5 - 144*t^4 + 1080*t^3 + 216*t^2 + 36*sqrt(91/3*t^10 - 800/3*t^9 + 464/3*t^8 + 152*t^7 - 244/3*t^6 - 64*t^5 + 31/3*t^4 + 32/3*t^3 - 2/3*t)*(66*t^7 - 32*t^6 + 112*t^5 - 8*t^4 + 60*t^3 + 9*t) - 27)/(250047*t^18 + 285768*t^17 - 462672*t^16 - 397818*t^15 + 513540*t^14 + 241920*t^13 - 332559*t^12 - 68832*t^11 + 129456*t^10 + 9620*t^9 - 32328*t^8 - 288*t^7 + 5361*t^6 - 72*t^5 - 576*t^4 + 6*t^3 + 36*t^2 - 1))^(2/3) + 4*(912*t^10 + 1656*t^9 - 1656*t^8 - 352*t^7 + 1165*t^6 - 8*t^5 - 352*t^4 - 2*t^3 + 52*t^2 - 3)*((13096*t^12 - 62976*t^11 - 14976*t^10 - 66496*t^9 - 10368*t^8 - 9984*t^7 - 3592*t^6 + 3456*t^5 - 144*t^4 + 1080*t^3 + 216*t^2 + 36*sqrt(91/3*t^10 - 800/3*t^9 + 464/3*t^8 + 152*t^7 - 244/3*t^6 - 64*t^5 + 31/3*t^4 + 32/3*t^3 - 2/3*t)*(66*t^7 - 32*t^6 + 112*t^5 - 8*t^4 + 60*t^3 + 9*t) - 27)/(250047*t^18 + 285768*t^17 - 462672*t^16 - 397818*t^15 + 513540*t^14 + 241920*t^13 - 332559*t^12 - 68832*t^11 + 129456*t^10 + 9620*t^9 - 32328*t^8 - 288*t^7 + 5361*t^6 - 72*t^5 - 576*t^4 + 6*t^3 + 36*t^2 - 1))^(1/3) + 9)*sqrt((64*t^8 + 1792*t^7 + 224*t^6 + 896*t^5 - 32*t^4 + 48*t^3 - 48*t^2 + (3969*t^12 + 3024*t^11 - 5472*t^10 - 2052*t^9 + 3912*t^8 + 384*t^7 - 1274*t^6 + 240*t^4 - 4*t^3 - 24*t^2 + 1)*((13096*t^12 - 62976*t^11 - 14976*t^10 - 66496*t^9 - 10368*t^8 - 9984*t^7 - 3592*t^6 + 3456*t^5 - 144*t^4 + 1080*t^3 + 216*t^2 + 36*sqrt(91/3*t^10 - 800/3*t^9 + 464/3*t^8 + 152*t^7 - 244/3*t^6 - 64*t^5 + 31/3*t^4 + 32/3*t^3 - 2/3*t)*(66*t^7 - 32*t^6 + 112*t^5 - 8*t^4 + 60*t^3 + 9*t) - 27)/(250047*t^18 + 285768*t^17 - 462672*t^16 - 397818*t^15 + 513540*t^14 + 241920*t^13 - 332559*t^12 - 68832*t^11 + 129456*t^10 + 9620*t^9 - 32328*t^8 - 288*t^7 + 5361*t^6 - 72*t^5 - 576*t^4 + 6*t^3 + 36*t^2 - 1))^(2/3) - 2*(912*t^10 + 1656*t^9 - 1656*t^8 - 352*t^7 + 1165*t^6 - 8*t^5 - 352*t^4 - 2*t^3 + 52*t^2 - 3)*((13096*t^12 - 62976*t^11 - 14976*t^10 - 66496*t^9 - 10368*t^8 - 9984*t^7 - 3592*t^6 + 3456*t^5 - 144*t^4 + 1080*t^3 + 216*t^2 + 36*sqrt(91/3*t^10 - 800/3*t^9 + 464/3*t^8 + 152*t^7 - 244/3*t^6 - 64*t^5 + 31/3*t^4 + 32/3*t^3 - 2/3*t)*(66*t^7 - 32*t^6 + 112*t^5 - 8*t^4 + 60*t^3 + 9*t) - 27)/(250047*t^18 + 285768*t^17 - 462672*t^16 - 397818*t^15 + 513540*t^14 + 241920*t^13 - 332559*t^12 - 68832*t^11 + 129456*t^10 + 9620*t^9 - 32328*t^8 - 288*t^7 + 5361*t^6 - 72*t^5 - 576*t^4 + 6*t^3 + 36*t^2 - 1))^(1/3) + 9)/((13096*t^12 - 62976*t^11 - 14976*t^10 - 66496*t^9 - 10368*t^8 - 9984*t^7 - 3592*t^6 + 3456*t^5 - 144*t^4 + 1080*t^3 + 216*t^2 + 36*sqrt(91/3*t^10 - 800/3*t^9 + 464/3*t^8 + 152*t^7 - 244/3*t^6 - 64*t^5 + 31/3*t^4 + 32/3*t^3 - 2/3*t)*(66*t^7 - 32*t^6 + 112*t^5 - 8*t^4 + 60*t^3 + 9*t) - 27)/(250047*t^18 + 285768*t^17 - 462672*t^16 - 397818*t^15 + 513540*t^14 + 241920*t^13 - 332559*t^12 - 68832*t^11 + 129456*t^10 + 9620*t^9 - 32328*t^8 - 288*t^7 + 5361*t^6 - 72*t^5 - 576*t^4 + 6*t^3 + 36*t^2 - 1))^(1/3)) + 36*(4162*t^15 - 16200*t^14 - 9168*t^13 + 21762*t^12 + 12988*t^11 - 20768*t^10 - 5907*t^9 + 9104*t^8 + 880*t^7 - 2215*t^6 + 24*t^5 + 336*t^4 - 11*t^3 - 28*t^2 + 1)*((13096*t^12 - 62976*t^11 - 14976*t^10 - 66496*t^9 - 10368*t^8 - 9984*t^7 - 3592*t^6 + 3456*t^5 - 144*t^4 + 1080*t^3 + 216*t^2 + 36*sqrt(91/3*t^10 - 800/3*t^9 + 464/3*t^8 + 152*t^7 - 244/3*t^6 - 64*t^5 + 31/3*t^4 + 32/3*t^3 - 2/3*t)*(66*t^7 - 32*t^6 + 112*t^5 - 8*t^4 + 60*t^3 + 9*t) - 27)/(250047*t^18 + 285768*t^17 - 462672*t^16 - 397818*t^15 + 513540*t^14 + 241920*t^13 - 332559*t^12 - 68832*t^11 + 129456*t^10 + 9620*t^9 - 32328*t^8 - 288*t^7 + 5361*t^6 - 72*t^5 - 576*t^4 + 6*t^3 + 36*t^2 - 1))^(1/3))/((3969*t^12 + 3024*t^11 - 5472*t^10 - 2052*t^9 + 3912*t^8 + 384*t^7 - 1274*t^6 + 240*t^4 - 4*t^3 - 24*t^2 + 1)*sqrt((64*t^8 + 1792*t^7 + 224*t^6 + 896*t^5 - 32*t^4 + 48*t^3 - 48*t^2 + (3969*t^12 + 3024*t^11 - 5472*t^10 - 2052*t^9 + 3912*t^8 + 384*t^7 - 1274*t^6 + 240*t^4 - 4*t^3 - 24*t^2 + 1)*((13096*t^12 - 62976*t^11 - 14976*t^10 - 66496*t^9 - 10368*t^8 - 9984*t^7 - 3592*t^6 + 3456*t^5 - 144*t^4 + 1080*t^3 + 216*t^2 + 36*sqrt(91/3*t^10 - 800/3*t^9 + 464/3*t^8 + 152*t^7 - 244/3*t^6 - 64*t^5 + 31/3*t^4 + 32/3*t^3 - 2/3*t)*(66*t^7 - 32*t^6 + 112*t^5 - 8*t^4 + 60*t^3 + 9*t) - 27)/(250047*t^18 + 285768*t^17 - 462672*t^16 - 397818*t^15 + 513540*t^14 + 241920*t^13 - 332559*t^12 - 68832*t^11 + 129456*t^10 + 9620*t^9 - 32328*t^8 - 288*t^7 + 5361*t^6 - 72*t^5 - 576*t^4 + 6*t^3 + 36*t^2 - 1))^(2/3) - 2*(912*t^10 + 1656*t^9 - 1656*t^8 - 352*t^7 + 1165*t^6 - 8*t^5 - 352*t^4 - 2*t^3 + 52*t^2 - 3)*((13096*t^12 - 62976*t^11 - 14976*t^10 - 66496*t^9 - 10368*t^8 - 9984*t^7 - 3592*t^6 + 3456*t^5 - 144*t^4 + 1080*t^3 + 216*t^2 + 36*sqrt(91/3*t^10 - 800/3*t^9 + 464/3*t^8 + 152*t^7 - 244/3*t^6 - 64*t^5 + 31/3*t^4 + 32/3*t^3 - 2/3*t)*(66*t^7 - 32*t^6 + 112*t^5 - 8*t^4 + 60*t^3 + 9*t) - 27)/(250047*t^18 + 285768*t^17 - 462672*t^16 - 397818*t^15 + 513540*t^14 + 241920*t^13 - 332559*t^12 - 68832*t^11 + 129456*t^10 + 9620*t^9 - 32328*t^8 - 288*t^7 + 5361*t^6 - 72*t^5 - 576*t^4 + 6*t^3 + 36*t^2 - 1))^(1/3) + 9)/((13096*t^12 - 62976*t^11 - 14976*t^10 - 66496*t^9 - 10368*t^8 - 9984*t^7 - 3592*t^6 + 3456*t^5 - 144*t^4 + 1080*t^3 + 216*t^2 + 36*sqrt(91/3*t^10 - 800/3*t^9 + 464/3*t^8 + 152*t^7 - 244/3*t^6 - 64*t^5 + 31/3*t^4 + 32/3*t^3 - 2/3*t)*(66*t^7 - 32*t^6 + 112*t^5 - 8*t^4 + 60*t^3 + 9*t) - 27)/(250047*t^18 + 285768*t^17 - 462672*t^16 - 397818*t^15 + 513540*t^14 + 241920*t^13 - 332559*t^12 - 68832*t^11 + 129456*t^10 + 9620*t^9 - 32328*t^8 - 288*t^7 + 5361*t^6 - 72*t^5 - 576*t^4 + 6*t^3 + 36*t^2 - 1))^(1/3))*((13096*t^12 - 62976*t^11 - 14976*t^10 - 66496*t^9 - 10368*t^8 - 9984*t^7 - 3592*t^6 + 3456*t^5 - 144*t^4 + 1080*t^3 + 216*t^2 + 36*sqrt(91/3*t^10 - 800/3*t^9 + 464/3*t^8 + 152*t^7 - 244/3*t^6 - 64*t^5 + 31/3*t^4 + 32/3*t^3 - 2/3*t)*(66*t^7 - 32*t^6 + 112*t^5 - 8*t^4 + 60*t^3 + 9*t) - 27)/(250047*t^18 + 285768*t^17 - 462672*t^16 - 397818*t^15 + 513540*t^14 + 241920*t^13 - 332559*t^12 - 68832*t^11 + 129456*t^10 + 9620*t^9 - 32328*t^8 - 288*t^7 + 5361*t^6 - 72*t^5 - 576*t^4 + 6*t^3 + 36*t^2 - 1))^(1/3))) - sqrt(3)*sqrt((64*t^8 + 1792*t^7 + 224*t^6 + 896*t^5 - 32*t^4 + 48*t^3 - 48*t^2 + (3969*t^12 + 3024*t^11 - 5472*t^10 - 2052*t^9 + 3912*t^8 + 384*t^7 - 1274*t^6 + 240*t^4 - 4*t^3 - 24*t^2 + 1)*((13096*t^12 - 62976*t^11 - 14976*t^10 - 66496*t^9 - 10368*t^8 - 9984*t^7 - 3592*t^6 + 3456*t^5 - 144*t^4 + 1080*t^3 + 216*t^2 + 36*sqrt(91/3*t^10 - 800/3*t^9 + 464/3*t^8 + 152*t^7 - 244/3*t^6 - 64*t^5 + 31/3*t^4 + 32/3*t^3 - 2/3*t)*(66*t^7 - 32*t^6 + 112*t^5 - 8*t^4 + 60*t^3 + 9*t) - 27)/(250047*t^18 + 285768*t^17 - 462672*t^16 - 397818*t^15 + 513540*t^14 + 241920*t^13 - 332559*t^12 - 68832*t^11 + 129456*t^10 + 9620*t^9 - 32328*t^8 - 288*t^7 + 5361*t^6 - 72*t^5 - 576*t^4 + 6*t^3 + 36*t^2 - 1))^(2/3) - 2*(912*t^10 + 1656*t^9 - 1656*t^8 - 352*t^7 + 1165*t^6 - 8*t^5 - 352*t^4 - 2*t^3 + 52*t^2 - 3)*((13096*t^12 - 62976*t^11 - 14976*t^10 - 66496*t^9 - 10368*t^8 - 9984*t^7 - 3592*t^6 + 3456*t^5 - 144*t^4 + 1080*t^3 + 216*t^2 + 36*sqrt(91/3*t^10 - 800/3*t^9 + 464/3*t^8 + 152*t^7 - 244/3*t^6 - 64*t^5 + 31/3*t^4 + 32/3*t^3 - 2/3*t)*(66*t^7 - 32*t^6 + 112*t^5 - 8*t^4 + 60*t^3 + 9*t) - 27)/(250047*t^18 + 285768*t^17 - 462672*t^16 - 397818*t^15 + 513540*t^14 + 241920*t^13 - 332559*t^12 - 68832*t^11 + 129456*t^10 + 9620*t^9 - 32328*t^8 - 288*t^7 + 5361*t^6 - 72*t^5 - 576*t^4 + 6*t^3 + 36*t^2 - 1))^(1/3) + 9)/((13096*t^12 - 62976*t^11 - 14976*t^10 - 66496*t^9 - 10368*t^8 - 9984*t^7 - 3592*t^6 + 3456*t^5 - 144*t^4 + 1080*t^3 + 216*t^2 + 36*sqrt(91/3*t^10 - 800/3*t^9 + 464/3*t^8 + 152*t^7 - 244/3*t^6 - 64*t^5 + 31/3*t^4 + 32/3*t^3 - 2/3*t)*(66*t^7 - 32*t^6 + 112*t^5 - 8*t^4 + 60*t^3 + 9*t) - 27)/(250047*t^18 + 285768*t^17 - 462672*t^16 - 397818*t^15 + 513540*t^14 + 241920*t^13 - 332559*t^12 - 68832*t^11 + 129456*t^10 + 9620*t^9 - 32328*t^8 - 288*t^7 + 5361*t^6 - 72*t^5 - 576*t^4 + 6*t^3 + 36*t^2 - 1))^(1/3)) - 6)/(63*t^6 + 24*t^5 - 48*t^4 + 2*t^3 + 12*t^2 - 1)}, {v15: r101, v7: r102, v9: r103, v4: r104, v0: -1/6*(24*t^5 - 96*t^4 + 6*t^3 + 48*t^2 - (63*t^6 + 24*t^5 - 48*t^4 + 2*t^3 + 12*t^2 - 1)*sqrt(-sqrt(3)*(sqrt(3)*(64*t^8 + 1792*t^7 + 224*t^6 + 896*t^5 - 32*t^4 + 48*t^3 - 48*t^2 + (3969*t^12 + 3024*t^11 - 5472*t^10 - 2052*t^9 + 3912*t^8 + 384*t^7 - 1274*t^6 + 240*t^4 - 4*t^3 - 24*t^2 + 1)*((13096*t^12 - 62976*t^11 - 14976*t^10 - 66496*t^9 - 10368*t^8 - 9984*t^7 - 3592*t^6 + 3456*t^5 - 144*t^4 + 1080*t^3 + 216*t^2 + 36*sqrt(91/3*t^10 - 800/3*t^9 + 464/3*t^8 + 152*t^7 - 244/3*t^6 - 64*t^5 + 31/3*t^4 + 32/3*t^3 - 2/3*t)*(66*t^7 - 32*t^6 + 112*t^5 - 8*t^4 + 60*t^3 + 9*t) - 27)/(250047*t^18 + 285768*t^17 - 462672*t^16 - 397818*t^15 + 513540*t^14 + 241920*t^13 - 332559*t^12 - 68832*t^11 + 129456*t^10 + 9620*t^9 - 32328*t^8 - 288*t^7 + 5361*t^6 - 72*t^5 - 576*t^4 + 6*t^3 + 36*t^2 - 1))^(2/3) + 4*(912*t^10 + 1656*t^9 - 1656*t^8 - 352*t^7 + 1165*t^6 - 8*t^5 - 352*t^4 - 2*t^3 + 52*t^2 - 3)*((13096*t^12 - 62976*t^11 - 14976*t^10 - 66496*t^9 - 10368*t^8 - 9984*t^7 - 3592*t^6 + 3456*t^5 - 144*t^4 + 1080*t^3 + 216*t^2 + 36*sqrt(91/3*t^10 - 800/3*t^9 + 464/3*t^8 + 152*t^7 - 244/3*t^6 - 64*t^5 + 31/3*t^4 + 32/3*t^3 - 2/3*t)*(66*t^7 - 32*t^6 + 112*t^5 - 8*t^4 + 60*t^3 + 9*t) - 27)/(250047*t^18 + 285768*t^17 - 462672*t^16 - 397818*t^15 + 513540*t^14 + 241920*t^13 - 332559*t^12 - 68832*t^11 + 129456*t^10 + 9620*t^9 - 32328*t^8 - 288*t^7 + 5361*t^6 - 72*t^5 - 576*t^4 + 6*t^3 + 36*t^2 - 1))^(1/3) + 9)*sqrt((64*t^8 + 1792*t^7 + 224*t^6 + 896*t^5 - 32*t^4 + 48*t^3 - 48*t^2 + (3969*t^12 + 3024*t^11 - 5472*t^10 - 2052*t^9 + 3912*t^8 + 384*t^7 - 1274*t^6 + 240*t^4 - 4*t^3 - 24*t^2 + 1)*((13096*t^12 - 62976*t^11 - 14976*t^10 - 66496*t^9 - 10368*t^8 - 9984*t^7 - 3592*t^6 + 3456*t^5 - 144*t^4 + 1080*t^3 + 216*t^2 + 36*sqrt(91/3*t^10 - 800/3*t^9 + 464/3*t^8 + 152*t^7 - 244/3*t^6 - 64*t^5 + 31/3*t^4 + 32/3*t^3 - 2/3*t)*(66*t^7 - 32*t^6 + 112*t^5 - 8*t^4 + 60*t^3 + 9*t) - 27)/(250047*t^18 + 285768*t^17 - 462672*t^16 - 397818*t^15 + 513540*t^14 + 241920*t^13 - 332559*t^12 - 68832*t^11 + 129456*t^10 + 9620*t^9 - 32328*t^8 - 288*t^7 + 5361*t^6 - 72*t^5 - 576*t^4 + 6*t^3 + 36*t^2 - 1))^(2/3) - 2*(912*t^10 + 1656*t^9 - 1656*t^8 - 352*t^7 + 1165*t^6 - 8*t^5 - 352*t^4 - 2*t^3 + 52*t^2 - 3)*((13096*t^12 - 62976*t^11 - 14976*t^10 - 66496*t^9 - 10368*t^8 - 9984*t^7 - 3592*t^6 + 3456*t^5 - 144*t^4 + 1080*t^3 + 216*t^2 + 36*sqrt(91/3*t^10 - 800/3*t^9 + 464/3*t^8 + 152*t^7 - 244/3*t^6 - 64*t^5 + 31/3*t^4 + 32/3*t^3 - 2/3*t)*(66*t^7 - 32*t^6 + 112*t^5 - 8*t^4 + 60*t^3 + 9*t) - 27)/(250047*t^18 + 285768*t^17 - 462672*t^16 - 397818*t^15 + 513540*t^14 + 241920*t^13 - 332559*t^12 - 68832*t^11 + 129456*t^10 + 9620*t^9 - 32328*t^8 - 288*t^7 + 5361*t^6 - 72*t^5 - 576*t^4 + 6*t^3 + 36*t^2 - 1))^(1/3) + 9)/((13096*t^12 - 62976*t^11 - 14976*t^10 - 66496*t^9 - 10368*t^8 - 9984*t^7 - 3592*t^6 + 3456*t^5 - 144*t^4 + 1080*t^3 + 216*t^2 + 36*sqrt(91/3*t^10 - 800/3*t^9 + 464/3*t^8 + 152*t^7 - 244/3*t^6 - 64*t^5 + 31/3*t^4 + 32/3*t^3 - 2/3*t)*(66*t^7 - 32*t^6 + 112*t^5 - 8*t^4 + 60*t^3 + 9*t) - 27)/(250047*t^18 + 285768*t^17 - 462672*t^16 - 397818*t^15 + 513540*t^14 + 241920*t^13 - 332559*t^12 - 68832*t^11 + 129456*t^10 + 9620*t^9 - 32328*t^8 - 288*t^7 + 5361*t^6 - 72*t^5 - 576*t^4 + 6*t^3 + 36*t^2 - 1))^(1/3)) - 36*(4162*t^15 - 16200*t^14 - 9168*t^13 + 21762*t^12 + 12988*t^11 - 20768*t^10 - 5907*t^9 + 9104*t^8 + 880*t^7 - 2215*t^6 + 24*t^5 + 336*t^4 - 11*t^3 - 28*t^2 + 1)*((13096*t^12 - 62976*t^11 - 14976*t^10 - 66496*t^9 - 10368*t^8 - 9984*t^7 - 3592*t^6 + 3456*t^5 - 144*t^4 + 1080*t^3 + 216*t^2 + 36*sqrt(91/3*t^10 - 800/3*t^9 + 464/3*t^8 + 152*t^7 - 244/3*t^6 - 64*t^5 + 31/3*t^4 + 32/3*t^3 - 2/3*t)*(66*t^7 - 32*t^6 + 112*t^5 - 8*t^4 + 60*t^3 + 9*t) - 27)/(250047*t^18 + 285768*t^17 - 462672*t^16 - 397818*t^15 + 513540*t^14 + 241920*t^13 - 332559*t^12 - 68832*t^11 + 129456*t^10 + 9620*t^9 - 32328*t^8 - 288*t^7 + 5361*t^6 - 72*t^5 - 576*t^4 + 6*t^3 + 36*t^2 - 1))^(1/3))/((3969*t^12 + 3024*t^11 - 5472*t^10 - 2052*t^9 + 3912*t^8 + 384*t^7 - 1274*t^6 + 240*t^4 - 4*t^3 - 24*t^2 + 1)*sqrt((64*t^8 + 1792*t^7 + 224*t^6 + 896*t^5 - 32*t^4 + 48*t^3 - 48*t^2 + (3969*t^12 + 3024*t^11 - 5472*t^10 - 2052*t^9 + 3912*t^8 + 384*t^7 - 1274*t^6 + 240*t^4 - 4*t^3 - 24*t^2 + 1)*((13096*t^12 - 62976*t^11 - 14976*t^10 - 66496*t^9 - 10368*t^8 - 9984*t^7 - 3592*t^6 + 3456*t^5 - 144*t^4 + 1080*t^3 + 216*t^2 + 36*sqrt(91/3*t^10 - 800/3*t^9 + 464/3*t^8 + 152*t^7 - 244/3*t^6 - 64*t^5 + 31/3*t^4 + 32/3*t^3 - 2/3*t)*(66*t^7 - 32*t^6 + 112*t^5 - 8*t^4 + 60*t^3 + 9*t) - 27)/(250047*t^18 + 285768*t^17 - 462672*t^16 - 397818*t^15 + 513540*t^14 + 241920*t^13 - 332559*t^12 - 68832*t^11 + 129456*t^10 + 9620*t^9 - 32328*t^8 - 288*t^7 + 5361*t^6 - 72*t^5 - 576*t^4 + 6*t^3 + 36*t^2 - 1))^(2/3) - 2*(912*t^10 + 1656*t^9 - 1656*t^8 - 352*t^7 + 1165*t^6 - 8*t^5 - 352*t^4 - 2*t^3 + 52*t^2 - 3)*((13096*t^12 - 62976*t^11 - 14976*t^10 - 66496*t^9 - 10368*t^8 - 9984*t^7 - 3592*t^6 + 3456*t^5 - 144*t^4 + 1080*t^3 + 216*t^2 + 36*sqrt(91/3*t^10 - 800/3*t^9 + 464/3*t^8 + 152*t^7 - 244/3*t^6 - 64*t^5 + 31/3*t^4 + 32/3*t^3 - 2/3*t)*(66*t^7 - 32*t^6 + 112*t^5 - 8*t^4 + 60*t^3 + 9*t) - 27)/(250047*t^18 + 285768*t^17 - 462672*t^16 - 397818*t^15 + 513540*t^14 + 241920*t^13 - 332559*t^12 - 68832*t^11 + 129456*t^10 + 9620*t^9 - 32328*t^8 - 288*t^7 + 5361*t^6 - 72*t^5 - 576*t^4 + 6*t^3 + 36*t^2 - 1))^(1/3) + 9)/((13096*t^12 - 62976*t^11 - 14976*t^10 - 66496*t^9 - 10368*t^8 - 9984*t^7 - 3592*t^6 + 3456*t^5 - 144*t^4 + 1080*t^3 + 216*t^2 + 36*sqrt(91/3*t^10 - 800/3*t^9 + 464/3*t^8 + 152*t^7 - 244/3*t^6 - 64*t^5 + 31/3*t^4 + 32/3*t^3 - 2/3*t)*(66*t^7 - 32*t^6 + 112*t^5 - 8*t^4 + 60*t^3 + 9*t) - 27)/(250047*t^18 + 285768*t^17 - 462672*t^16 - 397818*t^15 + 513540*t^14 + 241920*t^13 - 332559*t^12 - 68832*t^11 + 129456*t^10 + 9620*t^9 - 32328*t^8 - 288*t^7 + 5361*t^6 - 72*t^5 - 576*t^4 + 6*t^3 + 36*t^2 - 1))^(1/3))*((13096*t^12 - 62976*t^11 - 14976*t^10 - 66496*t^9 - 10368*t^8 - 9984*t^7 - 3592*t^6 + 3456*t^5 - 144*t^4 + 1080*t^3 + 216*t^2 + 36*sqrt(91/3*t^10 - 800/3*t^9 + 464/3*t^8 + 152*t^7 - 244/3*t^6 - 64*t^5 + 31/3*t^4 + 32/3*t^3 - 2/3*t)*(66*t^7 - 32*t^6 + 112*t^5 - 8*t^4 + 60*t^3 + 9*t) - 27)/(250047*t^18 + 285768*t^17 - 462672*t^16 - 397818*t^15 + 513540*t^14 + 241920*t^13 - 332559*t^12 - 68832*t^11 + 129456*t^10 + 9620*t^9 - 32328*t^8 - 288*t^7 + 5361*t^6 - 72*t^5 - 576*t^4 + 6*t^3 + 36*t^2 - 1))^(1/3))) + sqrt(3)*sqrt((64*t^8 + 1792*t^7 + 224*t^6 + 896*t^5 - 32*t^4 + 48*t^3 - 48*t^2 + (3969*t^12 + 3024*t^11 - 5472*t^10 - 2052*t^9 + 3912*t^8 + 384*t^7 - 1274*t^6 + 240*t^4 - 4*t^3 - 24*t^2 + 1)*((13096*t^12 - 62976*t^11 - 14976*t^10 - 66496*t^9 - 10368*t^8 - 9984*t^7 - 3592*t^6 + 3456*t^5 - 144*t^4 + 1080*t^3 + 216*t^2 + 36*sqrt(91/3*t^10 - 800/3*t^9 + 464/3*t^8 + 152*t^7 - 244/3*t^6 - 64*t^5 + 31/3*t^4 + 32/3*t^3 - 2/3*t)*(66*t^7 - 32*t^6 + 112*t^5 - 8*t^4 + 60*t^3 + 9*t) - 27)/(250047*t^18 + 285768*t^17 - 462672*t^16 - 397818*t^15 + 513540*t^14 + 241920*t^13 - 332559*t^12 - 68832*t^11 + 129456*t^10 + 9620*t^9 - 32328*t^8 - 288*t^7 + 5361*t^6 - 72*t^5 - 576*t^4 + 6*t^3 + 36*t^2 - 1))^(2/3) - 2*(912*t^10 + 1656*t^9 - 1656*t^8 - 352*t^7 + 1165*t^6 - 8*t^5 - 352*t^4 - 2*t^3 + 52*t^2 - 3)*((13096*t^12 - 62976*t^11 - 14976*t^10 - 66496*t^9 - 10368*t^8 - 9984*t^7 - 3592*t^6 + 3456*t^5 - 144*t^4 + 1080*t^3 + 216*t^2 + 36*sqrt(91/3*t^10 - 800/3*t^9 + 464/3*t^8 + 152*t^7 - 244/3*t^6 - 64*t^5 + 31/3*t^4 + 32/3*t^3 - 2/3*t)*(66*t^7 - 32*t^6 + 112*t^5 - 8*t^4 + 60*t^3 + 9*t) - 27)/(250047*t^18 + 285768*t^17 - 462672*t^16 - 397818*t^15 + 513540*t^14 + 241920*t^13 - 332559*t^12 - 68832*t^11 + 129456*t^10 + 9620*t^9 - 32328*t^8 - 288*t^7 + 5361*t^6 - 72*t^5 - 576*t^4 + 6*t^3 + 36*t^2 - 1))^(1/3) + 9)/((13096*t^12 - 62976*t^11 - 14976*t^10 - 66496*t^9 - 10368*t^8 - 9984*t^7 - 3592*t^6 + 3456*t^5 - 144*t^4 + 1080*t^3 + 216*t^2 + 36*sqrt(91/3*t^10 - 800/3*t^9 + 464/3*t^8 + 152*t^7 - 244/3*t^6 - 64*t^5 + 31/3*t^4 + 32/3*t^3 - 2/3*t)*(66*t^7 - 32*t^6 + 112*t^5 - 8*t^4 + 60*t^3 + 9*t) - 27)/(250047*t^18 + 285768*t^17 - 462672*t^16 - 397818*t^15 + 513540*t^14 + 241920*t^13 - 332559*t^12 - 68832*t^11 + 129456*t^10 + 9620*t^9 - 32328*t^8 - 288*t^7 + 5361*t^6 - 72*t^5 - 576*t^4 + 6*t^3 + 36*t^2 - 1))^(1/3)) - 6)/(63*t^6 + 24*t^5 - 48*t^4 + 2*t^3 + 12*t^2 - 1)}, {v15: r105, v7: r106, v9: r107, v4: r108, v0: -1/6*(24*t^5 - 96*t^4 + 6*t^3 + 48*t^2 + (63*t^6 + 24*t^5 - 48*t^4 + 2*t^3 + 12*t^2 - 1)*sqrt(-sqrt(3)*(sqrt(3)*(64*t^8 + 1792*t^7 + 224*t^6 + 896*t^5 - 32*t^4 + 48*t^3 - 48*t^2 + (3969*t^12 + 3024*t^11 - 5472*t^10 - 2052*t^9 + 3912*t^8 + 384*t^7 - 1274*t^6 + 240*t^4 - 4*t^3 - 24*t^2 + 1)*((13096*t^12 - 62976*t^11 - 14976*t^10 - 66496*t^9 - 10368*t^8 - 9984*t^7 - 3592*t^6 + 3456*t^5 - 144*t^4 + 1080*t^3 + 216*t^2 + 36*sqrt(91/3*t^10 - 800/3*t^9 + 464/3*t^8 + 152*t^7 - 244/3*t^6 - 64*t^5 + 31/3*t^4 + 32/3*t^3 - 2/3*t)*(66*t^7 - 32*t^6 + 112*t^5 - 8*t^4 + 60*t^3 + 9*t) - 27)/(250047*t^18 + 285768*t^17 - 462672*t^16 - 397818*t^15 + 513540*t^14 + 241920*t^13 - 332559*t^12 - 68832*t^11 + 129456*t^10 + 9620*t^9 - 32328*t^8 - 288*t^7 + 5361*t^6 - 72*t^5 - 576*t^4 + 6*t^3 + 36*t^2 - 1))^(2/3) + 4*(912*t^10 + 1656*t^9 - 1656*t^8 - 352*t^7 + 1165*t^6 - 8*t^5 - 352*t^4 - 2*t^3 + 52*t^2 - 3)*((13096*t^12 - 62976*t^11 - 14976*t^10 - 66496*t^9 - 10368*t^8 - 9984*t^7 - 3592*t^6 + 3456*t^5 - 144*t^4 + 1080*t^3 + 216*t^2 + 36*sqrt(91/3*t^10 - 800/3*t^9 + 464/3*t^8 + 152*t^7 - 244/3*t^6 - 64*t^5 + 31/3*t^4 + 32/3*t^3 - 2/3*t)*(66*t^7 - 32*t^6 + 112*t^5 - 8*t^4 + 60*t^3 + 9*t) - 27)/(250047*t^18 + 285768*t^17 - 462672*t^16 - 397818*t^15 + 513540*t^14 + 241920*t^13 - 332559*t^12 - 68832*t^11 + 129456*t^10 + 9620*t^9 - 32328*t^8 - 288*t^7 + 5361*t^6 - 72*t^5 - 576*t^4 + 6*t^3 + 36*t^2 - 1))^(1/3) + 9)*sqrt((64*t^8 + 1792*t^7 + 224*t^6 + 896*t^5 - 32*t^4 + 48*t^3 - 48*t^2 + (3969*t^12 + 3024*t^11 - 5472*t^10 - 2052*t^9 + 3912*t^8 + 384*t^7 - 1274*t^6 + 240*t^4 - 4*t^3 - 24*t^2 + 1)*((13096*t^12 - 62976*t^11 - 14976*t^10 - 66496*t^9 - 10368*t^8 - 9984*t^7 - 3592*t^6 + 3456*t^5 - 144*t^4 + 1080*t^3 + 216*t^2 + 36*sqrt(91/3*t^10 - 800/3*t^9 + 464/3*t^8 + 152*t^7 - 244/3*t^6 - 64*t^5 + 31/3*t^4 + 32/3*t^3 - 2/3*t)*(66*t^7 - 32*t^6 + 112*t^5 - 8*t^4 + 60*t^3 + 9*t) - 27)/(250047*t^18 + 285768*t^17 - 462672*t^16 - 397818*t^15 + 513540*t^14 + 241920*t^13 - 332559*t^12 - 68832*t^11 + 129456*t^10 + 9620*t^9 - 32328*t^8 - 288*t^7 + 5361*t^6 - 72*t^5 - 576*t^4 + 6*t^3 + 36*t^2 - 1))^(2/3) - 2*(912*t^10 + 1656*t^9 - 1656*t^8 - 352*t^7 + 1165*t^6 - 8*t^5 - 352*t^4 - 2*t^3 + 52*t^2 - 3)*((13096*t^12 - 62976*t^11 - 14976*t^10 - 66496*t^9 - 10368*t^8 - 9984*t^7 - 3592*t^6 + 3456*t^5 - 144*t^4 + 1080*t^3 + 216*t^2 + 36*sqrt(91/3*t^10 - 800/3*t^9 + 464/3*t^8 + 152*t^7 - 244/3*t^6 - 64*t^5 + 31/3*t^4 + 32/3*t^3 - 2/3*t)*(66*t^7 - 32*t^6 + 112*t^5 - 8*t^4 + 60*t^3 + 9*t) - 27)/(250047*t^18 + 285768*t^17 - 462672*t^16 - 397818*t^15 + 513540*t^14 + 241920*t^13 - 332559*t^12 - 68832*t^11 + 129456*t^10 + 9620*t^9 - 32328*t^8 - 288*t^7 + 5361*t^6 - 72*t^5 - 576*t^4 + 6*t^3 + 36*t^2 - 1))^(1/3) + 9)/((13096*t^12 - 62976*t^11 - 14976*t^10 - 66496*t^9 - 10368*t^8 - 9984*t^7 - 3592*t^6 + 3456*t^5 - 144*t^4 + 1080*t^3 + 216*t^2 + 36*sqrt(91/3*t^10 - 800/3*t^9 + 464/3*t^8 + 152*t^7 - 244/3*t^6 - 64*t^5 + 31/3*t^4 + 32/3*t^3 - 2/3*t)*(66*t^7 - 32*t^6 + 112*t^5 - 8*t^4 + 60*t^3 + 9*t) - 27)/(250047*t^18 + 285768*t^17 - 462672*t^16 - 397818*t^15 + 513540*t^14 + 241920*t^13 - 332559*t^12 - 68832*t^11 + 129456*t^10 + 9620*t^9 - 32328*t^8 - 288*t^7 + 5361*t^6 - 72*t^5 - 576*t^4 + 6*t^3 + 36*t^2 - 1))^(1/3)) - 36*(4162*t^15 - 16200*t^14 - 9168*t^13 + 21762*t^12 + 12988*t^11 - 20768*t^10 - 5907*t^9 + 9104*t^8 + 880*t^7 - 2215*t^6 + 24*t^5 + 336*t^4 - 11*t^3 - 28*t^2 + 1)*((13096*t^12 - 62976*t^11 - 14976*t^10 - 66496*t^9 - 10368*t^8 - 9984*t^7 - 3592*t^6 + 3456*t^5 - 144*t^4 + 1080*t^3 + 216*t^2 + 36*sqrt(91/3*t^10 - 800/3*t^9 + 464/3*t^8 + 152*t^7 - 244/3*t^6 - 64*t^5 + 31/3*t^4 + 32/3*t^3 - 2/3*t)*(66*t^7 - 32*t^6 + 112*t^5 - 8*t^4 + 60*t^3 + 9*t) - 27)/(250047*t^18 + 285768*t^17 - 462672*t^16 - 397818*t^15 + 513540*t^14 + 241920*t^13 - 332559*t^12 - 68832*t^11 + 129456*t^10 + 9620*t^9 - 32328*t^8 - 288*t^7 + 5361*t^6 - 72*t^5 - 576*t^4 + 6*t^3 + 36*t^2 - 1))^(1/3))/((3969*t^12 + 3024*t^11 - 5472*t^10 - 2052*t^9 + 3912*t^8 + 384*t^7 - 1274*t^6 + 240*t^4 - 4*t^3 - 24*t^2 + 1)*sqrt((64*t^8 + 1792*t^7 + 224*t^6 + 896*t^5 - 32*t^4 + 48*t^3 - 48*t^2 + (3969*t^12 + 3024*t^11 - 5472*t^10 - 2052*t^9 + 3912*t^8 + 384*t^7 - 1274*t^6 + 240*t^4 - 4*t^3 - 24*t^2 + 1)*((13096*t^12 - 62976*t^11 - 14976*t^10 - 66496*t^9 - 10368*t^8 - 9984*t^7 - 3592*t^6 + 3456*t^5 - 144*t^4 + 1080*t^3 + 216*t^2 + 36*sqrt(91/3*t^10 - 800/3*t^9 + 464/3*t^8 + 152*t^7 - 244/3*t^6 - 64*t^5 + 31/3*t^4 + 32/3*t^3 - 2/3*t)*(66*t^7 - 32*t^6 + 112*t^5 - 8*t^4 + 60*t^3 + 9*t) - 27)/(250047*t^18 + 285768*t^17 - 462672*t^16 - 397818*t^15 + 513540*t^14 + 241920*t^13 - 332559*t^12 - 68832*t^11 + 129456*t^10 + 9620*t^9 - 32328*t^8 - 288*t^7 + 5361*t^6 - 72*t^5 - 576*t^4 + 6*t^3 + 36*t^2 - 1))^(2/3) - 2*(912*t^10 + 1656*t^9 - 1656*t^8 - 352*t^7 + 1165*t^6 - 8*t^5 - 352*t^4 - 2*t^3 + 52*t^2 - 3)*((13096*t^12 - 62976*t^11 - 14976*t^10 - 66496*t^9 - 10368*t^8 - 9984*t^7 - 3592*t^6 + 3456*t^5 - 144*t^4 + 1080*t^3 + 216*t^2 + 36*sqrt(91/3*t^10 - 800/3*t^9 + 464/3*t^8 + 152*t^7 - 244/3*t^6 - 64*t^5 + 31/3*t^4 + 32/3*t^3 - 2/3*t)*(66*t^7 - 32*t^6 + 112*t^5 - 8*t^4 + 60*t^3 + 9*t) - 27)/(250047*t^18 + 285768*t^17 - 462672*t^16 - 397818*t^15 + 513540*t^14 + 241920*t^13 - 332559*t^12 - 68832*t^11 + 129456*t^10 + 9620*t^9 - 32328*t^8 - 288*t^7 + 5361*t^6 - 72*t^5 - 576*t^4 + 6*t^3 + 36*t^2 - 1))^(1/3) + 9)/((13096*t^12 - 62976*t^11 - 14976*t^10 - 66496*t^9 - 10368*t^8 - 9984*t^7 - 3592*t^6 + 3456*t^5 - 144*t^4 + 1080*t^3 + 216*t^2 + 36*sqrt(91/3*t^10 - 800/3*t^9 + 464/3*t^8 + 152*t^7 - 244/3*t^6 - 64*t^5 + 31/3*t^4 + 32/3*t^3 - 2/3*t)*(66*t^7 - 32*t^6 + 112*t^5 - 8*t^4 + 60*t^3 + 9*t) - 27)/(250047*t^18 + 285768*t^17 - 462672*t^16 - 397818*t^15 + 513540*t^14 + 241920*t^13 - 332559*t^12 - 68832*t^11 + 129456*t^10 + 9620*t^9 - 32328*t^8 - 288*t^7 + 5361*t^6 - 72*t^5 - 576*t^4 + 6*t^3 + 36*t^2 - 1))^(1/3))*((13096*t^12 - 62976*t^11 - 14976*t^10 - 66496*t^9 - 10368*t^8 - 9984*t^7 - 3592*t^6 + 3456*t^5 - 144*t^4 + 1080*t^3 + 216*t^2 + 36*sqrt(91/3*t^10 - 800/3*t^9 + 464/3*t^8 + 152*t^7 - 244/3*t^6 - 64*t^5 + 31/3*t^4 + 32/3*t^3 - 2/3*t)*(66*t^7 - 32*t^6 + 112*t^5 - 8*t^4 + 60*t^3 + 9*t) - 27)/(250047*t^18 + 285768*t^17 - 462672*t^16 - 397818*t^15 + 513540*t^14 + 241920*t^13 - 332559*t^12 - 68832*t^11 + 129456*t^10 + 9620*t^9 - 32328*t^8 - 288*t^7 + 5361*t^6 - 72*t^5 - 576*t^4 + 6*t^3 + 36*t^2 - 1))^(1/3))) + sqrt(3)*sqrt((64*t^8 + 1792*t^7 + 224*t^6 + 896*t^5 - 32*t^4 + 48*t^3 - 48*t^2 + (3969*t^12 + 3024*t^11 - 5472*t^10 - 2052*t^9 + 3912*t^8 + 384*t^7 - 1274*t^6 + 240*t^4 - 4*t^3 - 24*t^2 + 1)*((13096*t^12 - 62976*t^11 - 14976*t^10 - 66496*t^9 - 10368*t^8 - 9984*t^7 - 3592*t^6 + 3456*t^5 - 144*t^4 + 1080*t^3 + 216*t^2 + 36*sqrt(91/3*t^10 - 800/3*t^9 + 464/3*t^8 + 152*t^7 - 244/3*t^6 - 64*t^5 + 31/3*t^4 + 32/3*t^3 - 2/3*t)*(66*t^7 - 32*t^6 + 112*t^5 - 8*t^4 + 60*t^3 + 9*t) - 27)/(250047*t^18 + 285768*t^17 - 462672*t^16 - 397818*t^15 + 513540*t^14 + 241920*t^13 - 332559*t^12 - 68832*t^11 + 129456*t^10 + 9620*t^9 - 32328*t^8 - 288*t^7 + 5361*t^6 - 72*t^5 - 576*t^4 + 6*t^3 + 36*t^2 - 1))^(2/3) - 2*(912*t^10 + 1656*t^9 - 1656*t^8 - 352*t^7 + 1165*t^6 - 8*t^5 - 352*t^4 - 2*t^3 + 52*t^2 - 3)*((13096*t^12 - 62976*t^11 - 14976*t^10 - 66496*t^9 - 10368*t^8 - 9984*t^7 - 3592*t^6 + 3456*t^5 - 144*t^4 + 1080*t^3 + 216*t^2 + 36*sqrt(91/3*t^10 - 800/3*t^9 + 464/3*t^8 + 152*t^7 - 244/3*t^6 - 64*t^5 + 31/3*t^4 + 32/3*t^3 - 2/3*t)*(66*t^7 - 32*t^6 + 112*t^5 - 8*t^4 + 60*t^3 + 9*t) - 27)/(250047*t^18 + 285768*t^17 - 462672*t^16 - 397818*t^15 + 513540*t^14 + 241920*t^13 - 332559*t^12 - 68832*t^11 + 129456*t^10 + 9620*t^9 - 32328*t^8 - 288*t^7 + 5361*t^6 - 72*t^5 - 576*t^4 + 6*t^3 + 36*t^2 - 1))^(1/3) + 9)/((13096*t^12 - 62976*t^11 - 14976*t^10 - 66496*t^9 - 10368*t^8 - 9984*t^7 - 3592*t^6 + 3456*t^5 - 144*t^4 + 1080*t^3 + 216*t^2 + 36*sqrt(91/3*t^10 - 800/3*t^9 + 464/3*t^8 + 152*t^7 - 244/3*t^6 - 64*t^5 + 31/3*t^4 + 32/3*t^3 - 2/3*t)*(66*t^7 - 32*t^6 + 112*t^5 - 8*t^4 + 60*t^3 + 9*t) - 27)/(250047*t^18 + 285768*t^17 - 462672*t^16 - 397818*t^15 + 513540*t^14 + 241920*t^13 - 332559*t^12 - 68832*t^11 + 129456*t^10 + 9620*t^9 - 32328*t^8 - 288*t^7 + 5361*t^6 - 72*t^5 - 576*t^4 + 6*t^3 + 36*t^2 - 1))^(1/3)) - 6)/(63*t^6 + 24*t^5 - 48*t^4 + 2*t^3 + 12*t^2 - 1)}, {v15: r109, v7: r110, v9: r111, v4: r112, v0: 1/6*(96*t^4 - 36*t^3 - 48*t^2 + (91*t^6 - 72*t^5 - 48*t^4 + 26*t^3 + 12*t^2 - 1)*sqrt(-sqrt(3)*(sqrt(3)*(256*t^8 + 768*t^7 + 1264*t^6 - 2688*t^5 - 32*t^4 + 1008*t^3 - 48*t^2 + (8281*t^12 - 13104*t^11 - 3552*t^10 + 11644*t^9 + 744*t^8 - 4224*t^7 - 658*t^6 + 768*t^5 + 240*t^4 - 52*t^3 - 24*t^2 + 1)*((23752*t^12 - 154368*t^11 + 144384*t^10 + 72576*t^9 - 153888*t^8 + 29952*t^7 + 59120*t^6 - 38016*t^5 - 144*t^4 + 7128*t^3 + 216*t^2 + 36*sqrt(91/3*t^10 - 800/3*t^9 + 464/3*t^8 + 152*t^7 - 244/3*t^6 - 64*t^5 + 31/3*t^4 + 32/3*t^3 - 2/3*t)*(118*t^7 - 288*t^6 + 48*t^5 + 216*t^4 - 36*t^3 - 27*t) - 27)/(753571*t^18 - 1788696*t^17 + 222768*t^16 + 2159646*t^15 - 841500*t^14 - 1246464*t^13 + 460377*t^12 + 492192*t^11 - 99216*t^10 - 138316*t^9 + 1368*t^8 + 23904*t^7 + 3429*t^6 - 2088*t^5 - 576*t^4 + 78*t^3 + 36*t^2 - 1))^(2/3) + 4*(1456*t^10 - 1152*t^9 - 1576*t^8 + 992*t^7 + 855*t^6 - 152*t^5 - 352*t^4 - 6*t^3 + 52*t^2 - 3)*((23752*t^12 - 154368*t^11 + 144384*t^10 + 72576*t^9 - 153888*t^8 + 29952*t^7 + 59120*t^6 - 38016*t^5 - 144*t^4 + 7128*t^3 + 216*t^2 + 36*sqrt(91/3*t^10 - 800/3*t^9 + 464/3*t^8 + 152*t^7 - 244/3*t^6 - 64*t^5 + 31/3*t^4 + 32/3*t^3 - 2/3*t)*(118*t^7 - 288*t^6 + 48*t^5 + 216*t^4 - 36*t^3 - 27*t) - 27)/(753571*t^18 - 1788696*t^17 + 222768*t^16 + 2159646*t^15 - 841500*t^14 - 1246464*t^13 + 460377*t^12 + 492192*t^11 - 99216*t^10 - 138316*t^9 + 1368*t^8 + 23904*t^7 + 3429*t^6 - 2088*t^5 - 576*t^4 + 78*t^3 + 36*t^2 - 1))^(1/3) + 9)*sqrt((256*t^8 + 768*t^7 + 1264*t^6 - 2688*t^5 - 32*t^4 + 1008*t^3 - 48*t^2 + (8281*t^12 - 13104*t^11 - 3552*t^10 + 11644*t^9 + 744*t^8 - 4224*t^7 - 658*t^6 + 768*t^5 + 240*t^4 - 52*t^3 - 24*t^2 + 1)*((23752*t^12 - 154368*t^11 + 144384*t^10 + 72576*t^9 - 153888*t^8 + 29952*t^7 + 59120*t^6 - 38016*t^5 - 144*t^4 + 7128*t^3 + 216*t^2 + 36*sqrt(91/3*t^10 - 800/3*t^9 + 464/3*t^8 + 152*t^7 - 244/3*t^6 - 64*t^5 + 31/3*t^4 + 32/3*t^3 - 2/3*t)*(118*t^7 - 288*t^6 + 48*t^5 + 216*t^4 - 36*t^3 - 27*t) - 27)/(753571*t^18 - 1788696*t^17 + 222768*t^16 + 2159646*t^15 - 841500*t^14 - 1246464*t^13 + 460377*t^12 + 492192*t^11 - 99216*t^10 - 138316*t^9 + 1368*t^8 + 23904*t^7 + 3429*t^6 - 2088*t^5 - 576*t^4 + 78*t^3 + 36*t^2 - 1))^(2/3) - 2*(1456*t^10 - 1152*t^9 - 1576*t^8 + 992*t^7 + 855*t^6 - 152*t^5 - 352*t^4 - 6*t^3 + 52*t^2 - 3)*((23752*t^12 - 154368*t^11 + 144384*t^10 + 72576*t^9 - 153888*t^8 + 29952*t^7 + 59120*t^6 - 38016*t^5 - 144*t^4 + 7128*t^3 + 216*t^2 + 36*sqrt(91/3*t^10 - 800/3*t^9 + 464/3*t^8 + 152*t^7 - 244/3*t^6 - 64*t^5 + 31/3*t^4 + 32/3*t^3 - 2/3*t)*(118*t^7 - 288*t^6 + 48*t^5 + 216*t^4 - 36*t^3 - 27*t) - 27)/(753571*t^18 - 1788696*t^17 + 222768*t^16 + 2159646*t^15 - 841500*t^14 - 1246464*t^13 + 460377*t^12 + 492192*t^11 - 99216*t^10 - 138316*t^9 + 1368*t^8 + 23904*t^7 + 3429*t^6 - 2088*t^5 - 576*t^4 + 78*t^3 + 36*t^2 - 1))^(1/3) + 9)/((23752*t^12 - 154368*t^11 + 144384*t^10 + 72576*t^9 - 153888*t^8 + 29952*t^7 + 59120*t^6 - 38016*t^5 - 144*t^4 + 7128*t^3 + 216*t^2 + 36*sqrt(91/3*t^10 - 800/3*t^9 + 464/3*t^8 + 152*t^7 - 244/3*t^6 - 64*t^5 + 31/3*t^4 + 32/3*t^3 - 2/3*t)*(118*t^7 - 288*t^6 + 48*t^5 + 216*t^4 - 36*t^3 - 27*t) - 27)/(753571*t^18 - 1788696*t^17 + 222768*t^16 + 2159646*t^15 - 841500*t^14 - 1246464*t^13 + 460377*t^12 + 492192*t^11 - 99216*t^10 - 138316*t^9 + 1368*t^8 + 23904*t^7 + 3429*t^6 - 2088*t^5 - 576*t^4 + 78*t^3 + 36*t^2 - 1))^(1/3)) + 36*(16562*t^15 - 69160*t^14 + 70560*t^13 + 46506*t^12 - 92544*t^11 - 8544*t^10 + 47898*t^9 + 1104*t^8 - 13344*t^7 - 1145*t^6 + 2064*t^5 + 336*t^4 - 126*t^3 - 28*t^2 + 1)*((23752*t^12 - 154368*t^11 + 144384*t^10 + 72576*t^9 - 153888*t^8 + 29952*t^7 + 59120*t^6 - 38016*t^5 - 144*t^4 + 7128*t^3 + 216*t^2 + 36*sqrt(91/3*t^10 - 800/3*t^9 + 464/3*t^8 + 152*t^7 - 244/3*t^6 - 64*t^5 + 31/3*t^4 + 32/3*t^3 - 2/3*t)*(118*t^7 - 288*t^6 + 48*t^5 + 216*t^4 - 36*t^3 - 27*t) - 27)/(753571*t^18 - 1788696*t^17 + 222768*t^16 + 2159646*t^15 - 841500*t^14 - 1246464*t^13 + 460377*t^12 + 492192*t^11 - 99216*t^10 - 138316*t^9 + 1368*t^8 + 23904*t^7 + 3429*t^6 - 2088*t^5 - 576*t^4 + 78*t^3 + 36*t^2 - 1))^(1/3))/((8281*t^12 - 13104*t^11 - 3552*t^10 + 11644*t^9 + 744*t^8 - 4224*t^7 - 658*t^6 + 768*t^5 + 240*t^4 - 52*t^3 - 24*t^2 + 1)*sqrt((256*t^8 + 768*t^7 + 1264*t^6 - 2688*t^5 - 32*t^4 + 1008*t^3 - 48*t^2 + (8281*t^12 - 13104*t^11 - 3552*t^10 + 11644*t^9 + 744*t^8 - 4224*t^7 - 658*t^6 + 768*t^5 + 240*t^4 - 52*t^3 - 24*t^2 + 1)*((23752*t^12 - 154368*t^11 + 144384*t^10 + 72576*t^9 - 153888*t^8 + 29952*t^7 + 59120*t^6 - 38016*t^5 - 144*t^4 + 7128*t^3 + 216*t^2 + 36*sqrt(91/3*t^10 - 800/3*t^9 + 464/3*t^8 + 152*t^7 - 244/3*t^6 - 64*t^5 + 31/3*t^4 + 32/3*t^3 - 2/3*t)*(118*t^7 - 288*t^6 + 48*t^5 + 216*t^4 - 36*t^3 - 27*t) - 27)/(753571*t^18 - 1788696*t^17 + 222768*t^16 + 2159646*t^15 - 841500*t^14 - 1246464*t^13 + 460377*t^12 + 492192*t^11 - 99216*t^10 - 138316*t^9 + 1368*t^8 + 23904*t^7 + 3429*t^6 - 2088*t^5 - 576*t^4 + 78*t^3 + 36*t^2 - 1))^(2/3) - 2*(1456*t^10 - 1152*t^9 - 1576*t^8 + 992*t^7 + 855*t^6 - 152*t^5 - 352*t^4 - 6*t^3 + 52*t^2 - 3)*((23752*t^12 - 154368*t^11 + 144384*t^10 + 72576*t^9 - 153888*t^8 + 29952*t^7 + 59120*t^6 - 38016*t^5 - 144*t^4 + 7128*t^3 + 216*t^2 + 36*sqrt(91/3*t^10 - 800/3*t^9 + 464/3*t^8 + 152*t^7 - 244/3*t^6 - 64*t^5 + 31/3*t^4 + 32/3*t^3 - 2/3*t)*(118*t^7 - 288*t^6 + 48*t^5 + 216*t^4 - 36*t^3 - 27*t) - 27)/(753571*t^18 - 1788696*t^17 + 222768*t^16 + 2159646*t^15 - 841500*t^14 - 1246464*t^13 + 460377*t^12 + 492192*t^11 - 99216*t^10 - 138316*t^9 + 1368*t^8 + 23904*t^7 + 3429*t^6 - 2088*t^5 - 576*t^4 + 78*t^3 + 36*t^2 - 1))^(1/3) + 9)/((23752*t^12 - 154368*t^11 + 144384*t^10 + 72576*t^9 - 153888*t^8 + 29952*t^7 + 59120*t^6 - 38016*t^5 - 144*t^4 + 7128*t^3 + 216*t^2 + 36*sqrt(91/3*t^10 - 800/3*t^9 + 464/3*t^8 + 152*t^7 - 244/3*t^6 - 64*t^5 + 31/3*t^4 + 32/3*t^3 - 2/3*t)*(118*t^7 - 288*t^6 + 48*t^5 + 216*t^4 - 36*t^3 - 27*t) - 27)/(753571*t^18 - 1788696*t^17 + 222768*t^16 + 2159646*t^15 - 841500*t^14 - 1246464*t^13 + 460377*t^12 + 492192*t^11 - 99216*t^10 - 138316*t^9 + 1368*t^8 + 23904*t^7 + 3429*t^6 - 2088*t^5 - 576*t^4 + 78*t^3 + 36*t^2 - 1))^(1/3))*((23752*t^12 - 154368*t^11 + 144384*t^10 + 72576*t^9 - 153888*t^8 + 29952*t^7 + 59120*t^6 - 38016*t^5 - 144*t^4 + 7128*t^3 + 216*t^2 + 36*sqrt(91/3*t^10 - 800/3*t^9 + 464/3*t^8 + 152*t^7 - 244/3*t^6 - 64*t^5 + 31/3*t^4 + 32/3*t^3 - 2/3*t)*(118*t^7 - 288*t^6 + 48*t^5 + 216*t^4 - 36*t^3 - 27*t) - 27)/(753571*t^18 - 1788696*t^17 + 222768*t^16 + 2159646*t^15 - 841500*t^14 - 1246464*t^13 + 460377*t^12 + 492192*t^11 - 99216*t^10 - 138316*t^9 + 1368*t^8 + 23904*t^7 + 3429*t^6 - 2088*t^5 - 576*t^4 + 78*t^3 + 36*t^2 - 1))^(1/3))) + sqrt(3)*sqrt((256*t^8 + 768*t^7 + 1264*t^6 - 2688*t^5 - 32*t^4 + 1008*t^3 - 48*t^2 + (8281*t^12 - 13104*t^11 - 3552*t^10 + 11644*t^9 + 744*t^8 - 4224*t^7 - 658*t^6 + 768*t^5 + 240*t^4 - 52*t^3 - 24*t^2 + 1)*((23752*t^12 - 154368*t^11 + 144384*t^10 + 72576*t^9 - 153888*t^8 + 29952*t^7 + 59120*t^6 - 38016*t^5 - 144*t^4 + 7128*t^3 + 216*t^2 + 36*sqrt(91/3*t^10 - 800/3*t^9 + 464/3*t^8 + 152*t^7 - 244/3*t^6 - 64*t^5 + 31/3*t^4 + 32/3*t^3 - 2/3*t)*(118*t^7 - 288*t^6 + 48*t^5 + 216*t^4 - 36*t^3 - 27*t) - 27)/(753571*t^18 - 1788696*t^17 + 222768*t^16 + 2159646*t^15 - 841500*t^14 - 1246464*t^13 + 460377*t^12 + 492192*t^11 - 99216*t^10 - 138316*t^9 + 1368*t^8 + 23904*t^7 + 3429*t^6 - 2088*t^5 - 576*t^4 + 78*t^3 + 36*t^2 - 1))^(2/3) - 2*(1456*t^10 - 1152*t^9 - 1576*t^8 + 992*t^7 + 855*t^6 - 152*t^5 - 352*t^4 - 6*t^3 + 52*t^2 - 3)*((23752*t^12 - 154368*t^11 + 144384*t^10 + 72576*t^9 - 153888*t^8 + 29952*t^7 + 59120*t^6 - 38016*t^5 - 144*t^4 + 7128*t^3 + 216*t^2 + 36*sqrt(91/3*t^10 - 800/3*t^9 + 464/3*t^8 + 152*t^7 - 244/3*t^6 - 64*t^5 + 31/3*t^4 + 32/3*t^3 - 2/3*t)*(118*t^7 - 288*t^6 + 48*t^5 + 216*t^4 - 36*t^3 - 27*t) - 27)/(753571*t^18 - 1788696*t^17 + 222768*t^16 + 2159646*t^15 - 841500*t^14 - 1246464*t^13 + 460377*t^12 + 492192*t^11 - 99216*t^10 - 138316*t^9 + 1368*t^8 + 23904*t^7 + 3429*t^6 - 2088*t^5 - 576*t^4 + 78*t^3 + 36*t^2 - 1))^(1/3) + 9)/((23752*t^12 - 154368*t^11 + 144384*t^10 + 72576*t^9 - 153888*t^8 + 29952*t^7 + 59120*t^6 - 38016*t^5 - 144*t^4 + 7128*t^3 + 216*t^2 + 36*sqrt(91/3*t^10 - 800/3*t^9 + 464/3*t^8 + 152*t^7 - 244/3*t^6 - 64*t^5 + 31/3*t^4 + 32/3*t^3 - 2/3*t)*(118*t^7 - 288*t^6 + 48*t^5 + 216*t^4 - 36*t^3 - 27*t) - 27)/(753571*t^18 - 1788696*t^17 + 222768*t^16 + 2159646*t^15 - 841500*t^14 - 1246464*t^13 + 460377*t^12 + 492192*t^11 - 99216*t^10 - 138316*t^9 + 1368*t^8 + 23904*t^7 + 3429*t^6 - 2088*t^5 - 576*t^4 + 78*t^3 + 36*t^2 - 1))^(1/3)) + 6)/(91*t^6 - 72*t^5 - 48*t^4 + 26*t^3 + 12*t^2 - 1)}, {v15: r113, v7: r114, v9: r115, v4: r116, v0: 1/6*(96*t^4 - 36*t^3 - 48*t^2 - (91*t^6 - 72*t^5 - 48*t^4 + 26*t^3 + 12*t^2 - 1)*sqrt(-sqrt(3)*(sqrt(3)*(256*t^8 + 768*t^7 + 1264*t^6 - 2688*t^5 - 32*t^4 + 1008*t^3 - 48*t^2 + (8281*t^12 - 13104*t^11 - 3552*t^10 + 11644*t^9 + 744*t^8 - 4224*t^7 - 658*t^6 + 768*t^5 + 240*t^4 - 52*t^3 - 24*t^2 + 1)*((23752*t^12 - 154368*t^11 + 144384*t^10 + 72576*t^9 - 153888*t^8 + 29952*t^7 + 59120*t^6 - 38016*t^5 - 144*t^4 + 7128*t^3 + 216*t^2 + 36*sqrt(91/3*t^10 - 800/3*t^9 + 464/3*t^8 + 152*t^7 - 244/3*t^6 - 64*t^5 + 31/3*t^4 + 32/3*t^3 - 2/3*t)*(118*t^7 - 288*t^6 + 48*t^5 + 216*t^4 - 36*t^3 - 27*t) - 27)/(753571*t^18 - 1788696*t^17 + 222768*t^16 + 2159646*t^15 - 841500*t^14 - 1246464*t^13 + 460377*t^12 + 492192*t^11 - 99216*t^10 - 138316*t^9 + 1368*t^8 + 23904*t^7 + 3429*t^6 - 2088*t^5 - 576*t^4 + 78*t^3 + 36*t^2 - 1))^(2/3) + 4*(1456*t^10 - 1152*t^9 - 1576*t^8 + 992*t^7 + 855*t^6 - 152*t^5 - 352*t^4 - 6*t^3 + 52*t^2 - 3)*((23752*t^12 - 154368*t^11 + 144384*t^10 + 72576*t^9 - 153888*t^8 + 29952*t^7 + 59120*t^6 - 38016*t^5 - 144*t^4 + 7128*t^3 + 216*t^2 + 36*sqrt(91/3*t^10 - 800/3*t^9 + 464/3*t^8 + 152*t^7 - 244/3*t^6 - 64*t^5 + 31/3*t^4 + 32/3*t^3 - 2/3*t)*(118*t^7 - 288*t^6 + 48*t^5 + 216*t^4 - 36*t^3 - 27*t) - 27)/(753571*t^18 - 1788696*t^17 + 222768*t^16 + 2159646*t^15 - 841500*t^14 - 1246464*t^13 + 460377*t^12 + 492192*t^11 - 99216*t^10 - 138316*t^9 + 1368*t^8 + 23904*t^7 + 3429*t^6 - 2088*t^5 - 576*t^4 + 78*t^3 + 36*t^2 - 1))^(1/3) + 9)*sqrt((256*t^8 + 768*t^7 + 1264*t^6 - 2688*t^5 - 32*t^4 + 1008*t^3 - 48*t^2 + (8281*t^12 - 13104*t^11 - 3552*t^10 + 11644*t^9 + 744*t^8 - 4224*t^7 - 658*t^6 + 768*t^5 + 240*t^4 - 52*t^3 - 24*t^2 + 1)*((23752*t^12 - 154368*t^11 + 144384*t^10 + 72576*t^9 - 153888*t^8 + 29952*t^7 + 59120*t^6 - 38016*t^5 - 144*t^4 + 7128*t^3 + 216*t^2 + 36*sqrt(91/3*t^10 - 800/3*t^9 + 464/3*t^8 + 152*t^7 - 244/3*t^6 - 64*t^5 + 31/3*t^4 + 32/3*t^3 - 2/3*t)*(118*t^7 - 288*t^6 + 48*t^5 + 216*t^4 - 36*t^3 - 27*t) - 27)/(753571*t^18 - 1788696*t^17 + 222768*t^16 + 2159646*t^15 - 841500*t^14 - 1246464*t^13 + 460377*t^12 + 492192*t^11 - 99216*t^10 - 138316*t^9 + 1368*t^8 + 23904*t^7 + 3429*t^6 - 2088*t^5 - 576*t^4 + 78*t^3 + 36*t^2 - 1))^(2/3) - 2*(1456*t^10 - 1152*t^9 - 1576*t^8 + 992*t^7 + 855*t^6 - 152*t^5 - 352*t^4 - 6*t^3 + 52*t^2 - 3)*((23752*t^12 - 154368*t^11 + 144384*t^10 + 72576*t^9 - 153888*t^8 + 29952*t^7 + 59120*t^6 - 38016*t^5 - 144*t^4 + 7128*t^3 + 216*t^2 + 36*sqrt(91/3*t^10 - 800/3*t^9 + 464/3*t^8 + 152*t^7 - 244/3*t^6 - 64*t^5 + 31/3*t^4 + 32/3*t^3 - 2/3*t)*(118*t^7 - 288*t^6 + 48*t^5 + 216*t^4 - 36*t^3 - 27*t) - 27)/(753571*t^18 - 1788696*t^17 + 222768*t^16 + 2159646*t^15 - 841500*t^14 - 1246464*t^13 + 460377*t^12 + 492192*t^11 - 99216*t^10 - 138316*t^9 + 1368*t^8 + 23904*t^7 + 3429*t^6 - 2088*t^5 - 576*t^4 + 78*t^3 + 36*t^2 - 1))^(1/3) + 9)/((23752*t^12 - 154368*t^11 + 144384*t^10 + 72576*t^9 - 153888*t^8 + 29952*t^7 + 59120*t^6 - 38016*t^5 - 144*t^4 + 7128*t^3 + 216*t^2 + 36*sqrt(91/3*t^10 - 800/3*t^9 + 464/3*t^8 + 152*t^7 - 244/3*t^6 - 64*t^5 + 31/3*t^4 + 32/3*t^3 - 2/3*t)*(118*t^7 - 288*t^6 + 48*t^5 + 216*t^4 - 36*t^3 - 27*t) - 27)/(753571*t^18 - 1788696*t^17 + 222768*t^16 + 2159646*t^15 - 841500*t^14 - 1246464*t^13 + 460377*t^12 + 492192*t^11 - 99216*t^10 - 138316*t^9 + 1368*t^8 + 23904*t^7 + 3429*t^6 - 2088*t^5 - 576*t^4 + 78*t^3 + 36*t^2 - 1))^(1/3)) + 36*(16562*t^15 - 69160*t^14 + 70560*t^13 + 46506*t^12 - 92544*t^11 - 8544*t^10 + 47898*t^9 + 1104*t^8 - 13344*t^7 - 1145*t^6 + 2064*t^5 + 336*t^4 - 126*t^3 - 28*t^2 + 1)*((23752*t^12 - 154368*t^11 + 144384*t^10 + 72576*t^9 - 153888*t^8 + 29952*t^7 + 59120*t^6 - 38016*t^5 - 144*t^4 + 7128*t^3 + 216*t^2 + 36*sqrt(91/3*t^10 - 800/3*t^9 + 464/3*t^8 + 152*t^7 - 244/3*t^6 - 64*t^5 + 31/3*t^4 + 32/3*t^3 - 2/3*t)*(118*t^7 - 288*t^6 + 48*t^5 + 216*t^4 - 36*t^3 - 27*t) - 27)/(753571*t^18 - 1788696*t^17 + 222768*t^16 + 2159646*t^15 - 841500*t^14 - 1246464*t^13 + 460377*t^12 + 492192*t^11 - 99216*t^10 - 138316*t^9 + 1368*t^8 + 23904*t^7 + 3429*t^6 - 2088*t^5 - 576*t^4 + 78*t^3 + 36*t^2 - 1))^(1/3))/((8281*t^12 - 13104*t^11 - 3552*t^10 + 11644*t^9 + 744*t^8 - 4224*t^7 - 658*t^6 + 768*t^5 + 240*t^4 - 52*t^3 - 24*t^2 + 1)*sqrt((256*t^8 + 768*t^7 + 1264*t^6 - 2688*t^5 - 32*t^4 + 1008*t^3 - 48*t^2 + (8281*t^12 - 13104*t^11 - 3552*t^10 + 11644*t^9 + 744*t^8 - 4224*t^7 - 658*t^6 + 768*t^5 + 240*t^4 - 52*t^3 - 24*t^2 + 1)*((23752*t^12 - 154368*t^11 + 144384*t^10 + 72576*t^9 - 153888*t^8 + 29952*t^7 + 59120*t^6 - 38016*t^5 - 144*t^4 + 7128*t^3 + 216*t^2 + 36*sqrt(91/3*t^10 - 800/3*t^9 + 464/3*t^8 + 152*t^7 - 244/3*t^6 - 64*t^5 + 31/3*t^4 + 32/3*t^3 - 2/3*t)*(118*t^7 - 288*t^6 + 48*t^5 + 216*t^4 - 36*t^3 - 27*t) - 27)/(753571*t^18 - 1788696*t^17 + 222768*t^16 + 2159646*t^15 - 841500*t^14 - 1246464*t^13 + 460377*t^12 + 492192*t^11 - 99216*t^10 - 138316*t^9 + 1368*t^8 + 23904*t^7 + 3429*t^6 - 2088*t^5 - 576*t^4 + 78*t^3 + 36*t^2 - 1))^(2/3) - 2*(1456*t^10 - 1152*t^9 - 1576*t^8 + 992*t^7 + 855*t^6 - 152*t^5 - 352*t^4 - 6*t^3 + 52*t^2 - 3)*((23752*t^12 - 154368*t^11 + 144384*t^10 + 72576*t^9 - 153888*t^8 + 29952*t^7 + 59120*t^6 - 38016*t^5 - 144*t^4 + 7128*t^3 + 216*t^2 + 36*sqrt(91/3*t^10 - 800/3*t^9 + 464/3*t^8 + 152*t^7 - 244/3*t^6 - 64*t^5 + 31/3*t^4 + 32/3*t^3 - 2/3*t)*(118*t^7 - 288*t^6 + 48*t^5 + 216*t^4 - 36*t^3 - 27*t) - 27)/(753571*t^18 - 1788696*t^17 + 222768*t^16 + 2159646*t^15 - 841500*t^14 - 1246464*t^13 + 460377*t^12 + 492192*t^11 - 99216*t^10 - 138316*t^9 + 1368*t^8 + 23904*t^7 + 3429*t^6 - 2088*t^5 - 576*t^4 + 78*t^3 + 36*t^2 - 1))^(1/3) + 9)/((23752*t^12 - 154368*t^11 + 144384*t^10 + 72576*t^9 - 153888*t^8 + 29952*t^7 + 59120*t^6 - 38016*t^5 - 144*t^4 + 7128*t^3 + 216*t^2 + 36*sqrt(91/3*t^10 - 800/3*t^9 + 464/3*t^8 + 152*t^7 - 244/3*t^6 - 64*t^5 + 31/3*t^4 + 32/3*t^3 - 2/3*t)*(118*t^7 - 288*t^6 + 48*t^5 + 216*t^4 - 36*t^3 - 27*t) - 27)/(753571*t^18 - 1788696*t^17 + 222768*t^16 + 2159646*t^15 - 841500*t^14 - 1246464*t^13 + 460377*t^12 + 492192*t^11 - 99216*t^10 - 138316*t^9 + 1368*t^8 + 23904*t^7 + 3429*t^6 - 2088*t^5 - 576*t^4 + 78*t^3 + 36*t^2 - 1))^(1/3))*((23752*t^12 - 154368*t^11 + 144384*t^10 + 72576*t^9 - 153888*t^8 + 29952*t^7 + 59120*t^6 - 38016*t^5 - 144*t^4 + 7128*t^3 + 216*t^2 + 36*sqrt(91/3*t^10 - 800/3*t^9 + 464/3*t^8 + 152*t^7 - 244/3*t^6 - 64*t^5 + 31/3*t^4 + 32/3*t^3 - 2/3*t)*(118*t^7 - 288*t^6 + 48*t^5 + 216*t^4 - 36*t^3 - 27*t) - 27)/(753571*t^18 - 1788696*t^17 + 222768*t^16 + 2159646*t^15 - 841500*t^14 - 1246464*t^13 + 460377*t^12 + 492192*t^11 - 99216*t^10 - 138316*t^9 + 1368*t^8 + 23904*t^7 + 3429*t^6 - 2088*t^5 - 576*t^4 + 78*t^3 + 36*t^2 - 1))^(1/3))) + sqrt(3)*sqrt((256*t^8 + 768*t^7 + 1264*t^6 - 2688*t^5 - 32*t^4 + 1008*t^3 - 48*t^2 + (8281*t^12 - 13104*t^11 - 3552*t^10 + 11644*t^9 + 744*t^8 - 4224*t^7 - 658*t^6 + 768*t^5 + 240*t^4 - 52*t^3 - 24*t^2 + 1)*((23752*t^12 - 154368*t^11 + 144384*t^10 + 72576*t^9 - 153888*t^8 + 29952*t^7 + 59120*t^6 - 38016*t^5 - 144*t^4 + 7128*t^3 + 216*t^2 + 36*sqrt(91/3*t^10 - 800/3*t^9 + 464/3*t^8 + 152*t^7 - 244/3*t^6 - 64*t^5 + 31/3*t^4 + 32/3*t^3 - 2/3*t)*(118*t^7 - 288*t^6 + 48*t^5 + 216*t^4 - 36*t^3 - 27*t) - 27)/(753571*t^18 - 1788696*t^17 + 222768*t^16 + 2159646*t^15 - 841500*t^14 - 1246464*t^13 + 460377*t^12 + 492192*t^11 - 99216*t^10 - 138316*t^9 + 1368*t^8 + 23904*t^7 + 3429*t^6 - 2088*t^5 - 576*t^4 + 78*t^3 + 36*t^2 - 1))^(2/3) - 2*(1456*t^10 - 1152*t^9 - 1576*t^8 + 992*t^7 + 855*t^6 - 152*t^5 - 352*t^4 - 6*t^3 + 52*t^2 - 3)*((23752*t^12 - 154368*t^11 + 144384*t^10 + 72576*t^9 - 153888*t^8 + 29952*t^7 + 59120*t^6 - 38016*t^5 - 144*t^4 + 7128*t^3 + 216*t^2 + 36*sqrt(91/3*t^10 - 800/3*t^9 + 464/3*t^8 + 152*t^7 - 244/3*t^6 - 64*t^5 + 31/3*t^4 + 32/3*t^3 - 2/3*t)*(118*t^7 - 288*t^6 + 48*t^5 + 216*t^4 - 36*t^3 - 27*t) - 27)/(753571*t^18 - 1788696*t^17 + 222768*t^16 + 2159646*t^15 - 841500*t^14 - 1246464*t^13 + 460377*t^12 + 492192*t^11 - 99216*t^10 - 138316*t^9 + 1368*t^8 + 23904*t^7 + 3429*t^6 - 2088*t^5 - 576*t^4 + 78*t^3 + 36*t^2 - 1))^(1/3) + 9)/((23752*t^12 - 154368*t^11 + 144384*t^10 + 72576*t^9 - 153888*t^8 + 29952*t^7 + 59120*t^6 - 38016*t^5 - 144*t^4 + 7128*t^3 + 216*t^2 + 36*sqrt(91/3*t^10 - 800/3*t^9 + 464/3*t^8 + 152*t^7 - 244/3*t^6 - 64*t^5 + 31/3*t^4 + 32/3*t^3 - 2/3*t)*(118*t^7 - 288*t^6 + 48*t^5 + 216*t^4 - 36*t^3 - 27*t) - 27)/(753571*t^18 - 1788696*t^17 + 222768*t^16 + 2159646*t^15 - 841500*t^14 - 1246464*t^13 + 460377*t^12 + 492192*t^11 - 99216*t^10 - 138316*t^9 + 1368*t^8 + 23904*t^7 + 3429*t^6 - 2088*t^5 - 576*t^4 + 78*t^3 + 36*t^2 - 1))^(1/3)) + 6)/(91*t^6 - 72*t^5 - 48*t^4 + 26*t^3 + 12*t^2 - 1)}, {v15: r117, v7: r118, v9: r119, v4: r120, v0: 1/6*(96*t^4 - 36*t^3 - 48*t^2 + (91*t^6 - 72*t^5 - 48*t^4 + 26*t^3 + 12*t^2 - 1)*sqrt(-sqrt(3)*(sqrt(3)*(256*t^8 + 768*t^7 + 1264*t^6 - 2688*t^5 - 32*t^4 + 1008*t^3 - 48*t^2 + (8281*t^12 - 13104*t^11 - 3552*t^10 + 11644*t^9 + 744*t^8 - 4224*t^7 - 658*t^6 + 768*t^5 + 240*t^4 - 52*t^3 - 24*t^2 + 1)*((23752*t^12 - 154368*t^11 + 144384*t^10 + 72576*t^9 - 153888*t^8 + 29952*t^7 + 59120*t^6 - 38016*t^5 - 144*t^4 + 7128*t^3 + 216*t^2 + 36*sqrt(91/3*t^10 - 800/3*t^9 + 464/3*t^8 + 152*t^7 - 244/3*t^6 - 64*t^5 + 31/3*t^4 + 32/3*t^3 - 2/3*t)*(118*t^7 - 288*t^6 + 48*t^5 + 216*t^4 - 36*t^3 - 27*t) - 27)/(753571*t^18 - 1788696*t^17 + 222768*t^16 + 2159646*t^15 - 841500*t^14 - 1246464*t^13 + 460377*t^12 + 492192*t^11 - 99216*t^10 - 138316*t^9 + 1368*t^8 + 23904*t^7 + 3429*t^6 - 2088*t^5 - 576*t^4 + 78*t^3 + 36*t^2 - 1))^(2/3) + 4*(1456*t^10 - 1152*t^9 - 1576*t^8 + 992*t^7 + 855*t^6 - 152*t^5 - 352*t^4 - 6*t^3 + 52*t^2 - 3)*((23752*t^12 - 154368*t^11 + 144384*t^10 + 72576*t^9 - 153888*t^8 + 29952*t^7 + 59120*t^6 - 38016*t^5 - 144*t^4 + 7128*t^3 + 216*t^2 + 36*sqrt(91/3*t^10 - 800/3*t^9 + 464/3*t^8 + 152*t^7 - 244/3*t^6 - 64*t^5 + 31/3*t^4 + 32/3*t^3 - 2/3*t)*(118*t^7 - 288*t^6 + 48*t^5 + 216*t^4 - 36*t^3 - 27*t) - 27)/(753571*t^18 - 1788696*t^17 + 222768*t^16 + 2159646*t^15 - 841500*t^14 - 1246464*t^13 + 460377*t^12 + 492192*t^11 - 99216*t^10 - 138316*t^9 + 1368*t^8 + 23904*t^7 + 3429*t^6 - 2088*t^5 - 576*t^4 + 78*t^3 + 36*t^2 - 1))^(1/3) + 9)*sqrt((256*t^8 + 768*t^7 + 1264*t^6 - 2688*t^5 - 32*t^4 + 1008*t^3 - 48*t^2 + (8281*t^12 - 13104*t^11 - 3552*t^10 + 11644*t^9 + 744*t^8 - 4224*t^7 - 658*t^6 + 768*t^5 + 240*t^4 - 52*t^3 - 24*t^2 + 1)*((23752*t^12 - 154368*t^11 + 144384*t^10 + 72576*t^9 - 153888*t^8 + 29952*t^7 + 59120*t^6 - 38016*t^5 - 144*t^4 + 7128*t^3 + 216*t^2 + 36*sqrt(91/3*t^10 - 800/3*t^9 + 464/3*t^8 + 152*t^7 - 244/3*t^6 - 64*t^5 + 31/3*t^4 + 32/3*t^3 - 2/3*t)*(118*t^7 - 288*t^6 + 48*t^5 + 216*t^4 - 36*t^3 - 27*t) - 27)/(753571*t^18 - 1788696*t^17 + 222768*t^16 + 2159646*t^15 - 841500*t^14 - 1246464*t^13 + 460377*t^12 + 492192*t^11 - 99216*t^10 - 138316*t^9 + 1368*t^8 + 23904*t^7 + 3429*t^6 - 2088*t^5 - 576*t^4 + 78*t^3 + 36*t^2 - 1))^(2/3) - 2*(1456*t^10 - 1152*t^9 - 1576*t^8 + 992*t^7 + 855*t^6 - 152*t^5 - 352*t^4 - 6*t^3 + 52*t^2 - 3)*((23752*t^12 - 154368*t^11 + 144384*t^10 + 72576*t^9 - 153888*t^8 + 29952*t^7 + 59120*t^6 - 38016*t^5 - 144*t^4 + 7128*t^3 + 216*t^2 + 36*sqrt(91/3*t^10 - 800/3*t^9 + 464/3*t^8 + 152*t^7 - 244/3*t^6 - 64*t^5 + 31/3*t^4 + 32/3*t^3 - 2/3*t)*(118*t^7 - 288*t^6 + 48*t^5 + 216*t^4 - 36*t^3 - 27*t) - 27)/(753571*t^18 - 1788696*t^17 + 222768*t^16 + 2159646*t^15 - 841500*t^14 - 1246464*t^13 + 460377*t^12 + 492192*t^11 - 99216*t^10 - 138316*t^9 + 1368*t^8 + 23904*t^7 + 3429*t^6 - 2088*t^5 - 576*t^4 + 78*t^3 + 36*t^2 - 1))^(1/3) + 9)/((23752*t^12 - 154368*t^11 + 144384*t^10 + 72576*t^9 - 153888*t^8 + 29952*t^7 + 59120*t^6 - 38016*t^5 - 144*t^4 + 7128*t^3 + 216*t^2 + 36*sqrt(91/3*t^10 - 800/3*t^9 + 464/3*t^8 + 152*t^7 - 244/3*t^6 - 64*t^5 + 31/3*t^4 + 32/3*t^3 - 2/3*t)*(118*t^7 - 288*t^6 + 48*t^5 + 216*t^4 - 36*t^3 - 27*t) - 27)/(753571*t^18 - 1788696*t^17 + 222768*t^16 + 2159646*t^15 - 841500*t^14 - 1246464*t^13 + 460377*t^12 + 492192*t^11 - 99216*t^10 - 138316*t^9 + 1368*t^8 + 23904*t^7 + 3429*t^6 - 2088*t^5 - 576*t^4 + 78*t^3 + 36*t^2 - 1))^(1/3)) - 36*(16562*t^15 - 69160*t^14 + 70560*t^13 + 46506*t^12 - 92544*t^11 - 8544*t^10 + 47898*t^9 + 1104*t^8 - 13344*t^7 - 1145*t^6 + 2064*t^5 + 336*t^4 - 126*t^3 - 28*t^2 + 1)*((23752*t^12 - 154368*t^11 + 144384*t^10 + 72576*t^9 - 153888*t^8 + 29952*t^7 + 59120*t^6 - 38016*t^5 - 144*t^4 + 7128*t^3 + 216*t^2 + 36*sqrt(91/3*t^10 - 800/3*t^9 + 464/3*t^8 + 152*t^7 - 244/3*t^6 - 64*t^5 + 31/3*t^4 + 32/3*t^3 - 2/3*t)*(118*t^7 - 288*t^6 + 48*t^5 + 216*t^4 - 36*t^3 - 27*t) - 27)/(753571*t^18 - 1788696*t^17 + 222768*t^16 + 2159646*t^15 - 841500*t^14 - 1246464*t^13 + 460377*t^12 + 492192*t^11 - 99216*t^10 - 138316*t^9 + 1368*t^8 + 23904*t^7 + 3429*t^6 - 2088*t^5 - 576*t^4 + 78*t^3 + 36*t^2 - 1))^(1/3))/((8281*t^12 - 13104*t^11 - 3552*t^10 + 11644*t^9 + 744*t^8 - 4224*t^7 - 658*t^6 + 768*t^5 + 240*t^4 - 52*t^3 - 24*t^2 + 1)*sqrt((256*t^8 + 768*t^7 + 1264*t^6 - 2688*t^5 - 32*t^4 + 1008*t^3 - 48*t^2 + (8281*t^12 - 13104*t^11 - 3552*t^10 + 11644*t^9 + 744*t^8 - 4224*t^7 - 658*t^6 + 768*t^5 + 240*t^4 - 52*t^3 - 24*t^2 + 1)*((23752*t^12 - 154368*t^11 + 144384*t^10 + 72576*t^9 - 153888*t^8 + 29952*t^7 + 59120*t^6 - 38016*t^5 - 144*t^4 + 7128*t^3 + 216*t^2 + 36*sqrt(91/3*t^10 - 800/3*t^9 + 464/3*t^8 + 152*t^7 - 244/3*t^6 - 64*t^5 + 31/3*t^4 + 32/3*t^3 - 2/3*t)*(118*t^7 - 288*t^6 + 48*t^5 + 216*t^4 - 36*t^3 - 27*t) - 27)/(753571*t^18 - 1788696*t^17 + 222768*t^16 + 2159646*t^15 - 841500*t^14 - 1246464*t^13 + 460377*t^12 + 492192*t^11 - 99216*t^10 - 138316*t^9 + 1368*t^8 + 23904*t^7 + 3429*t^6 - 2088*t^5 - 576*t^4 + 78*t^3 + 36*t^2 - 1))^(2/3) - 2*(1456*t^10 - 1152*t^9 - 1576*t^8 + 992*t^7 + 855*t^6 - 152*t^5 - 352*t^4 - 6*t^3 + 52*t^2 - 3)*((23752*t^12 - 154368*t^11 + 144384*t^10 + 72576*t^9 - 153888*t^8 + 29952*t^7 + 59120*t^6 - 38016*t^5 - 144*t^4 + 7128*t^3 + 216*t^2 + 36*sqrt(91/3*t^10 - 800/3*t^9 + 464/3*t^8 + 152*t^7 - 244/3*t^6 - 64*t^5 + 31/3*t^4 + 32/3*t^3 - 2/3*t)*(118*t^7 - 288*t^6 + 48*t^5 + 216*t^4 - 36*t^3 - 27*t) - 27)/(753571*t^18 - 1788696*t^17 + 222768*t^16 + 2159646*t^15 - 841500*t^14 - 1246464*t^13 + 460377*t^12 + 492192*t^11 - 99216*t^10 - 138316*t^9 + 1368*t^8 + 23904*t^7 + 3429*t^6 - 2088*t^5 - 576*t^4 + 78*t^3 + 36*t^2 - 1))^(1/3) + 9)/((23752*t^12 - 154368*t^11 + 144384*t^10 + 72576*t^9 - 153888*t^8 + 29952*t^7 + 59120*t^6 - 38016*t^5 - 144*t^4 + 7128*t^3 + 216*t^2 + 36*sqrt(91/3*t^10 - 800/3*t^9 + 464/3*t^8 + 152*t^7 - 244/3*t^6 - 64*t^5 + 31/3*t^4 + 32/3*t^3 - 2/3*t)*(118*t^7 - 288*t^6 + 48*t^5 + 216*t^4 - 36*t^3 - 27*t) - 27)/(753571*t^18 - 1788696*t^17 + 222768*t^16 + 2159646*t^15 - 841500*t^14 - 1246464*t^13 + 460377*t^12 + 492192*t^11 - 99216*t^10 - 138316*t^9 + 1368*t^8 + 23904*t^7 + 3429*t^6 - 2088*t^5 - 576*t^4 + 78*t^3 + 36*t^2 - 1))^(1/3))*((23752*t^12 - 154368*t^11 + 144384*t^10 + 72576*t^9 - 153888*t^8 + 29952*t^7 + 59120*t^6 - 38016*t^5 - 144*t^4 + 7128*t^3 + 216*t^2 + 36*sqrt(91/3*t^10 - 800/3*t^9 + 464/3*t^8 + 152*t^7 - 244/3*t^6 - 64*t^5 + 31/3*t^4 + 32/3*t^3 - 2/3*t)*(118*t^7 - 288*t^6 + 48*t^5 + 216*t^4 - 36*t^3 - 27*t) - 27)/(753571*t^18 - 1788696*t^17 + 222768*t^16 + 2159646*t^15 - 841500*t^14 - 1246464*t^13 + 460377*t^12 + 492192*t^11 - 99216*t^10 - 138316*t^9 + 1368*t^8 + 23904*t^7 + 3429*t^6 - 2088*t^5 - 576*t^4 + 78*t^3 + 36*t^2 - 1))^(1/3))) - sqrt(3)*sqrt((256*t^8 + 768*t^7 + 1264*t^6 - 2688*t^5 - 32*t^4 + 1008*t^3 - 48*t^2 + (8281*t^12 - 13104*t^11 - 3552*t^10 + 11644*t^9 + 744*t^8 - 4224*t^7 - 658*t^6 + 768*t^5 + 240*t^4 - 52*t^3 - 24*t^2 + 1)*((23752*t^12 - 154368*t^11 + 144384*t^10 + 72576*t^9 - 153888*t^8 + 29952*t^7 + 59120*t^6 - 38016*t^5 - 144*t^4 + 7128*t^3 + 216*t^2 + 36*sqrt(91/3*t^10 - 800/3*t^9 + 464/3*t^8 + 152*t^7 - 244/3*t^6 - 64*t^5 + 31/3*t^4 + 32/3*t^3 - 2/3*t)*(118*t^7 - 288*t^6 + 48*t^5 + 216*t^4 - 36*t^3 - 27*t) - 27)/(753571*t^18 - 1788696*t^17 + 222768*t^16 + 2159646*t^15 - 841500*t^14 - 1246464*t^13 + 460377*t^12 + 492192*t^11 - 99216*t^10 - 138316*t^9 + 1368*t^8 + 23904*t^7 + 3429*t^6 - 2088*t^5 - 576*t^4 + 78*t^3 + 36*t^2 - 1))^(2/3) - 2*(1456*t^10 - 1152*t^9 - 1576*t^8 + 992*t^7 + 855*t^6 - 152*t^5 - 352*t^4 - 6*t^3 + 52*t^2 - 3)*((23752*t^12 - 154368*t^11 + 144384*t^10 + 72576*t^9 - 153888*t^8 + 29952*t^7 + 59120*t^6 - 38016*t^5 - 144*t^4 + 7128*t^3 + 216*t^2 + 36*sqrt(91/3*t^10 - 800/3*t^9 + 464/3*t^8 + 152*t^7 - 244/3*t^6 - 64*t^5 + 31/3*t^4 + 32/3*t^3 - 2/3*t)*(118*t^7 - 288*t^6 + 48*t^5 + 216*t^4 - 36*t^3 - 27*t) - 27)/(753571*t^18 - 1788696*t^17 + 222768*t^16 + 2159646*t^15 - 841500*t^14 - 1246464*t^13 + 460377*t^12 + 492192*t^11 - 99216*t^10 - 138316*t^9 + 1368*t^8 + 23904*t^7 + 3429*t^6 - 2088*t^5 - 576*t^4 + 78*t^3 + 36*t^2 - 1))^(1/3) + 9)/((23752*t^12 - 154368*t^11 + 144384*t^10 + 72576*t^9 - 153888*t^8 + 29952*t^7 + 59120*t^6 - 38016*t^5 - 144*t^4 + 7128*t^3 + 216*t^2 + 36*sqrt(91/3*t^10 - 800/3*t^9 + 464/3*t^8 + 152*t^7 - 244/3*t^6 - 64*t^5 + 31/3*t^4 + 32/3*t^3 - 2/3*t)*(118*t^7 - 288*t^6 + 48*t^5 + 216*t^4 - 36*t^3 - 27*t) - 27)/(753571*t^18 - 1788696*t^17 + 222768*t^16 + 2159646*t^15 - 841500*t^14 - 1246464*t^13 + 460377*t^12 + 492192*t^11 - 99216*t^10 - 138316*t^9 + 1368*t^8 + 23904*t^7 + 3429*t^6 - 2088*t^5 - 576*t^4 + 78*t^3 + 36*t^2 - 1))^(1/3)) + 6)/(91*t^6 - 72*t^5 - 48*t^4 + 26*t^3 + 12*t^2 - 1)}, {v15: r121, v7: r122, v9: r123, v4: r124, v0: 1/6*(96*t^4 - 36*t^3 - 48*t^2 - (91*t^6 - 72*t^5 - 48*t^4 + 26*t^3 + 12*t^2 - 1)*sqrt(-sqrt(3)*(sqrt(3)*(256*t^8 + 768*t^7 + 1264*t^6 - 2688*t^5 - 32*t^4 + 1008*t^3 - 48*t^2 + (8281*t^12 - 13104*t^11 - 3552*t^10 + 11644*t^9 + 744*t^8 - 4224*t^7 - 658*t^6 + 768*t^5 + 240*t^4 - 52*t^3 - 24*t^2 + 1)*((23752*t^12 - 154368*t^11 + 144384*t^10 + 72576*t^9 - 153888*t^8 + 29952*t^7 + 59120*t^6 - 38016*t^5 - 144*t^4 + 7128*t^3 + 216*t^2 + 36*sqrt(91/3*t^10 - 800/3*t^9 + 464/3*t^8 + 152*t^7 - 244/3*t^6 - 64*t^5 + 31/3*t^4 + 32/3*t^3 - 2/3*t)*(118*t^7 - 288*t^6 + 48*t^5 + 216*t^4 - 36*t^3 - 27*t) - 27)/(753571*t^18 - 1788696*t^17 + 222768*t^16 + 2159646*t^15 - 841500*t^14 - 1246464*t^13 + 460377*t^12 + 492192*t^11 - 99216*t^10 - 138316*t^9 + 1368*t^8 + 23904*t^7 + 3429*t^6 - 2088*t^5 - 576*t^4 + 78*t^3 + 36*t^2 - 1))^(2/3) + 4*(1456*t^10 - 1152*t^9 - 1576*t^8 + 992*t^7 + 855*t^6 - 152*t^5 - 352*t^4 - 6*t^3 + 52*t^2 - 3)*((23752*t^12 - 154368*t^11 + 144384*t^10 + 72576*t^9 - 153888*t^8 + 29952*t^7 + 59120*t^6 - 38016*t^5 - 144*t^4 + 7128*t^3 + 216*t^2 + 36*sqrt(91/3*t^10 - 800/3*t^9 + 464/3*t^8 + 152*t^7 - 244/3*t^6 - 64*t^5 + 31/3*t^4 + 32/3*t^3 - 2/3*t)*(118*t^7 - 288*t^6 + 48*t^5 + 216*t^4 - 36*t^3 - 27*t) - 27)/(753571*t^18 - 1788696*t^17 + 222768*t^16 + 2159646*t^15 - 841500*t^14 - 1246464*t^13 + 460377*t^12 + 492192*t^11 - 99216*t^10 - 138316*t^9 + 1368*t^8 + 23904*t^7 + 3429*t^6 - 2088*t^5 - 576*t^4 + 78*t^3 + 36*t^2 - 1))^(1/3) + 9)*sqrt((256*t^8 + 768*t^7 + 1264*t^6 - 2688*t^5 - 32*t^4 + 1008*t^3 - 48*t^2 + (8281*t^12 - 13104*t^11 - 3552*t^10 + 11644*t^9 + 744*t^8 - 4224*t^7 - 658*t^6 + 768*t^5 + 240*t^4 - 52*t^3 - 24*t^2 + 1)*((23752*t^12 - 154368*t^11 + 144384*t^10 + 72576*t^9 - 153888*t^8 + 29952*t^7 + 59120*t^6 - 38016*t^5 - 144*t^4 + 7128*t^3 + 216*t^2 + 36*sqrt(91/3*t^10 - 800/3*t^9 + 464/3*t^8 + 152*t^7 - 244/3*t^6 - 64*t^5 + 31/3*t^4 + 32/3*t^3 - 2/3*t)*(118*t^7 - 288*t^6 + 48*t^5 + 216*t^4 - 36*t^3 - 27*t) - 27)/(753571*t^18 - 1788696*t^17 + 222768*t^16 + 2159646*t^15 - 841500*t^14 - 1246464*t^13 + 460377*t^12 + 492192*t^11 - 99216*t^10 - 138316*t^9 + 1368*t^8 + 23904*t^7 + 3429*t^6 - 2088*t^5 - 576*t^4 + 78*t^3 + 36*t^2 - 1))^(2/3) - 2*(1456*t^10 - 1152*t^9 - 1576*t^8 + 992*t^7 + 855*t^6 - 152*t^5 - 352*t^4 - 6*t^3 + 52*t^2 - 3)*((23752*t^12 - 154368*t^11 + 144384*t^10 + 72576*t^9 - 153888*t^8 + 29952*t^7 + 59120*t^6 - 38016*t^5 - 144*t^4 + 7128*t^3 + 216*t^2 + 36*sqrt(91/3*t^10 - 800/3*t^9 + 464/3*t^8 + 152*t^7 - 244/3*t^6 - 64*t^5 + 31/3*t^4 + 32/3*t^3 - 2/3*t)*(118*t^7 - 288*t^6 + 48*t^5 + 216*t^4 - 36*t^3 - 27*t) - 27)/(753571*t^18 - 1788696*t^17 + 222768*t^16 + 2159646*t^15 - 841500*t^14 - 1246464*t^13 + 460377*t^12 + 492192*t^11 - 99216*t^10 - 138316*t^9 + 1368*t^8 + 23904*t^7 + 3429*t^6 - 2088*t^5 - 576*t^4 + 78*t^3 + 36*t^2 - 1))^(1/3) + 9)/((23752*t^12 - 154368*t^11 + 144384*t^10 + 72576*t^9 - 153888*t^8 + 29952*t^7 + 59120*t^6 - 38016*t^5 - 144*t^4 + 7128*t^3 + 216*t^2 + 36*sqrt(91/3*t^10 - 800/3*t^9 + 464/3*t^8 + 152*t^7 - 244/3*t^6 - 64*t^5 + 31/3*t^4 + 32/3*t^3 - 2/3*t)*(118*t^7 - 288*t^6 + 48*t^5 + 216*t^4 - 36*t^3 - 27*t) - 27)/(753571*t^18 - 1788696*t^17 + 222768*t^16 + 2159646*t^15 - 841500*t^14 - 1246464*t^13 + 460377*t^12 + 492192*t^11 - 99216*t^10 - 138316*t^9 + 1368*t^8 + 23904*t^7 + 3429*t^6 - 2088*t^5 - 576*t^4 + 78*t^3 + 36*t^2 - 1))^(1/3)) - 36*(16562*t^15 - 69160*t^14 + 70560*t^13 + 46506*t^12 - 92544*t^11 - 8544*t^10 + 47898*t^9 + 1104*t^8 - 13344*t^7 - 1145*t^6 + 2064*t^5 + 336*t^4 - 126*t^3 - 28*t^2 + 1)*((23752*t^12 - 154368*t^11 + 144384*t^10 + 72576*t^9 - 153888*t^8 + 29952*t^7 + 59120*t^6 - 38016*t^5 - 144*t^4 + 7128*t^3 + 216*t^2 + 36*sqrt(91/3*t^10 - 800/3*t^9 + 464/3*t^8 + 152*t^7 - 244/3*t^6 - 64*t^5 + 31/3*t^4 + 32/3*t^3 - 2/3*t)*(118*t^7 - 288*t^6 + 48*t^5 + 216*t^4 - 36*t^3 - 27*t) - 27)/(753571*t^18 - 1788696*t^17 + 222768*t^16 + 2159646*t^15 - 841500*t^14 - 1246464*t^13 + 460377*t^12 + 492192*t^11 - 99216*t^10 - 138316*t^9 + 1368*t^8 + 23904*t^7 + 3429*t^6 - 2088*t^5 - 576*t^4 + 78*t^3 + 36*t^2 - 1))^(1/3))/((8281*t^12 - 13104*t^11 - 3552*t^10 + 11644*t^9 + 744*t^8 - 4224*t^7 - 658*t^6 + 768*t^5 + 240*t^4 - 52*t^3 - 24*t^2 + 1)*sqrt((256*t^8 + 768*t^7 + 1264*t^6 - 2688*t^5 - 32*t^4 + 1008*t^3 - 48*t^2 + (8281*t^12 - 13104*t^11 - 3552*t^10 + 11644*t^9 + 744*t^8 - 4224*t^7 - 658*t^6 + 768*t^5 + 240*t^4 - 52*t^3 - 24*t^2 + 1)*((23752*t^12 - 154368*t^11 + 144384*t^10 + 72576*t^9 - 153888*t^8 + 29952*t^7 + 59120*t^6 - 38016*t^5 - 144*t^4 + 7128*t^3 + 216*t^2 + 36*sqrt(91/3*t^10 - 800/3*t^9 + 464/3*t^8 + 152*t^7 - 244/3*t^6 - 64*t^5 + 31/3*t^4 + 32/3*t^3 - 2/3*t)*(118*t^7 - 288*t^6 + 48*t^5 + 216*t^4 - 36*t^3 - 27*t) - 27)/(753571*t^18 - 1788696*t^17 + 222768*t^16 + 2159646*t^15 - 841500*t^14 - 1246464*t^13 + 460377*t^12 + 492192*t^11 - 99216*t^10 - 138316*t^9 + 1368*t^8 + 23904*t^7 + 3429*t^6 - 2088*t^5 - 576*t^4 + 78*t^3 + 36*t^2 - 1))^(2/3) - 2*(1456*t^10 - 1152*t^9 - 1576*t^8 + 992*t^7 + 855*t^6 - 152*t^5 - 352*t^4 - 6*t^3 + 52*t^2 - 3)*((23752*t^12 - 154368*t^11 + 144384*t^10 + 72576*t^9 - 153888*t^8 + 29952*t^7 + 59120*t^6 - 38016*t^5 - 144*t^4 + 7128*t^3 + 216*t^2 + 36*sqrt(91/3*t^10 - 800/3*t^9 + 464/3*t^8 + 152*t^7 - 244/3*t^6 - 64*t^5 + 31/3*t^4 + 32/3*t^3 - 2/3*t)*(118*t^7 - 288*t^6 + 48*t^5 + 216*t^4 - 36*t^3 - 27*t) - 27)/(753571*t^18 - 1788696*t^17 + 222768*t^16 + 2159646*t^15 - 841500*t^14 - 1246464*t^13 + 460377*t^12 + 492192*t^11 - 99216*t^10 - 138316*t^9 + 1368*t^8 + 23904*t^7 + 3429*t^6 - 2088*t^5 - 576*t^4 + 78*t^3 + 36*t^2 - 1))^(1/3) + 9)/((23752*t^12 - 154368*t^11 + 144384*t^10 + 72576*t^9 - 153888*t^8 + 29952*t^7 + 59120*t^6 - 38016*t^5 - 144*t^4 + 7128*t^3 + 216*t^2 + 36*sqrt(91/3*t^10 - 800/3*t^9 + 464/3*t^8 + 152*t^7 - 244/3*t^6 - 64*t^5 + 31/3*t^4 + 32/3*t^3 - 2/3*t)*(118*t^7 - 288*t^6 + 48*t^5 + 216*t^4 - 36*t^3 - 27*t) - 27)/(753571*t^18 - 1788696*t^17 + 222768*t^16 + 2159646*t^15 - 841500*t^14 - 1246464*t^13 + 460377*t^12 + 492192*t^11 - 99216*t^10 - 138316*t^9 + 1368*t^8 + 23904*t^7 + 3429*t^6 - 2088*t^5 - 576*t^4 + 78*t^3 + 36*t^2 - 1))^(1/3))*((23752*t^12 - 154368*t^11 + 144384*t^10 + 72576*t^9 - 153888*t^8 + 29952*t^7 + 59120*t^6 - 38016*t^5 - 144*t^4 + 7128*t^3 + 216*t^2 + 36*sqrt(91/3*t^10 - 800/3*t^9 + 464/3*t^8 + 152*t^7 - 244/3*t^6 - 64*t^5 + 31/3*t^4 + 32/3*t^3 - 2/3*t)*(118*t^7 - 288*t^6 + 48*t^5 + 216*t^4 - 36*t^3 - 27*t) - 27)/(753571*t^18 - 1788696*t^17 + 222768*t^16 + 2159646*t^15 - 841500*t^14 - 1246464*t^13 + 460377*t^12 + 492192*t^11 - 99216*t^10 - 138316*t^9 + 1368*t^8 + 23904*t^7 + 3429*t^6 - 2088*t^5 - 576*t^4 + 78*t^3 + 36*t^2 - 1))^(1/3))) - sqrt(3)*sqrt((256*t^8 + 768*t^7 + 1264*t^6 - 2688*t^5 - 32*t^4 + 1008*t^3 - 48*t^2 + (8281*t^12 - 13104*t^11 - 3552*t^10 + 11644*t^9 + 744*t^8 - 4224*t^7 - 658*t^6 + 768*t^5 + 240*t^4 - 52*t^3 - 24*t^2 + 1)*((23752*t^12 - 154368*t^11 + 144384*t^10 + 72576*t^9 - 153888*t^8 + 29952*t^7 + 59120*t^6 - 38016*t^5 - 144*t^4 + 7128*t^3 + 216*t^2 + 36*sqrt(91/3*t^10 - 800/3*t^9 + 464/3*t^8 + 152*t^7 - 244/3*t^6 - 64*t^5 + 31/3*t^4 + 32/3*t^3 - 2/3*t)*(118*t^7 - 288*t^6 + 48*t^5 + 216*t^4 - 36*t^3 - 27*t) - 27)/(753571*t^18 - 1788696*t^17 + 222768*t^16 + 2159646*t^15 - 841500*t^14 - 1246464*t^13 + 460377*t^12 + 492192*t^11 - 99216*t^10 - 138316*t^9 + 1368*t^8 + 23904*t^7 + 3429*t^6 - 2088*t^5 - 576*t^4 + 78*t^3 + 36*t^2 - 1))^(2/3) - 2*(1456*t^10 - 1152*t^9 - 1576*t^8 + 992*t^7 + 855*t^6 - 152*t^5 - 352*t^4 - 6*t^3 + 52*t^2 - 3)*((23752*t^12 - 154368*t^11 + 144384*t^10 + 72576*t^9 - 153888*t^8 + 29952*t^7 + 59120*t^6 - 38016*t^5 - 144*t^4 + 7128*t^3 + 216*t^2 + 36*sqrt(91/3*t^10 - 800/3*t^9 + 464/3*t^8 + 152*t^7 - 244/3*t^6 - 64*t^5 + 31/3*t^4 + 32/3*t^3 - 2/3*t)*(118*t^7 - 288*t^6 + 48*t^5 + 216*t^4 - 36*t^3 - 27*t) - 27)/(753571*t^18 - 1788696*t^17 + 222768*t^16 + 2159646*t^15 - 841500*t^14 - 1246464*t^13 + 460377*t^12 + 492192*t^11 - 99216*t^10 - 138316*t^9 + 1368*t^8 + 23904*t^7 + 3429*t^6 - 2088*t^5 - 576*t^4 + 78*t^3 + 36*t^2 - 1))^(1/3) + 9)/((23752*t^12 - 154368*t^11 + 144384*t^10 + 72576*t^9 - 153888*t^8 + 29952*t^7 + 59120*t^6 - 38016*t^5 - 144*t^4 + 7128*t^3 + 216*t^2 + 36*sqrt(91/3*t^10 - 800/3*t^9 + 464/3*t^8 + 152*t^7 - 244/3*t^6 - 64*t^5 + 31/3*t^4 + 32/3*t^3 - 2/3*t)*(118*t^7 - 288*t^6 + 48*t^5 + 216*t^4 - 36*t^3 - 27*t) - 27)/(753571*t^18 - 1788696*t^17 + 222768*t^16 + 2159646*t^15 - 841500*t^14 - 1246464*t^13 + 460377*t^12 + 492192*t^11 - 99216*t^10 - 138316*t^9 + 1368*t^8 + 23904*t^7 + 3429*t^6 - 2088*t^5 - 576*t^4 + 78*t^3 + 36*t^2 - 1))^(1/3)) + 6)/(91*t^6 - 72*t^5 - 48*t^4 + 26*t^3 + 12*t^2 - 1)}, {v15: r125, v7: r126, v9: r127, v4: r128, v0: 1/4*(I*sqrt(3) + 1)/t}, {v15: r129, v7: r130, v9: r131, v4: r132, v0: 1/4*(-I*sqrt(3) + 1)/t}, {v15: r133, v7: r134, v9: r135, v4: r136, v0: -1/2/t}]\n"
     ]
    }
   ],
   "source": [
    "have_expl = 1\n",
    "try:\n",
    "    expl_slns = solve(impl_solset, var_rem, solution_dict=True) # can we get explicit solutions?\n",
    "    print(expl_slns)\n",
    "except: \n",
    "    # can't get explicit solutions. try for implicit ones. perhaps reduced a bit?\n",
    "    impl_solset = solve(impl_solset, var_rem)\n",
    "    have_expl = 0\n",
    "    for sol in impl_solset:\n",
    "        pretty_print(sol)\n",
    "    "
   ]
  },
  {
   "cell_type": "code",
   "execution_count": 239,
   "metadata": {},
   "outputs": [
    {
     "data": {
      "text/html": [
       "<html><script type=\"math/tex; mode=display\">\\newcommand{\\Bold}[1]{\\mathbf{#1}}-\\frac{24 \\, t^{5} - 96 \\, t^{4} + 6 \\, t^{3} + 48 \\, t^{2} - {\\left(63 \\, t^{6} + 24 \\, t^{5} - 48 \\, t^{4} + 2 \\, t^{3} + 12 \\, t^{2} - 1\\right)} \\sqrt{-\\frac{\\sqrt{3} {\\left(\\sqrt{3} {\\left(64 \\, t^{8} + 1792 \\, t^{7} + 224 \\, t^{6} + 896 \\, t^{5} - 32 \\, t^{4} + 48 \\, t^{3} - 48 \\, t^{2} + {\\left(3969 \\, t^{12} + 3024 \\, t^{11} - 5472 \\, t^{10} - 2052 \\, t^{9} + 3912 \\, t^{8} + 384 \\, t^{7} - 1274 \\, t^{6} + 240 \\, t^{4} - 4 \\, t^{3} - 24 \\, t^{2} + 1\\right)} \\left(\\frac{13096 \\, t^{12} - 62976 \\, t^{11} - 14976 \\, t^{10} - 66496 \\, t^{9} - 10368 \\, t^{8} - 9984 \\, t^{7} - 3592 \\, t^{6} + 3456 \\, t^{5} - 144 \\, t^{4} + 1080 \\, t^{3} + 216 \\, t^{2} + 36 \\, \\sqrt{\\frac{91}{3} \\, t^{10} - \\frac{800}{3} \\, t^{9} + \\frac{464}{3} \\, t^{8} + 152 \\, t^{7} - \\frac{244}{3} \\, t^{6} - 64 \\, t^{5} + \\frac{31}{3} \\, t^{4} + \\frac{32}{3} \\, t^{3} - \\frac{2}{3} \\, t} {\\left(66 \\, t^{7} - 32 \\, t^{6} + 112 \\, t^{5} - 8 \\, t^{4} + 60 \\, t^{3} + 9 \\, t\\right)} - 27}{250047 \\, t^{18} + 285768 \\, t^{17} - 462672 \\, t^{16} - 397818 \\, t^{15} + 513540 \\, t^{14} + 241920 \\, t^{13} - 332559 \\, t^{12} - 68832 \\, t^{11} + 129456 \\, t^{10} + 9620 \\, t^{9} - 32328 \\, t^{8} - 288 \\, t^{7} + 5361 \\, t^{6} - 72 \\, t^{5} - 576 \\, t^{4} + 6 \\, t^{3} + 36 \\, t^{2} - 1}\\right)^{\\frac{2}{3}} + 4 \\, {\\left(912 \\, t^{10} + 1656 \\, t^{9} - 1656 \\, t^{8} - 352 \\, t^{7} + 1165 \\, t^{6} - 8 \\, t^{5} - 352 \\, t^{4} - 2 \\, t^{3} + 52 \\, t^{2} - 3\\right)} \\left(\\frac{13096 \\, t^{12} - 62976 \\, t^{11} - 14976 \\, t^{10} - 66496 \\, t^{9} - 10368 \\, t^{8} - 9984 \\, t^{7} - 3592 \\, t^{6} + 3456 \\, t^{5} - 144 \\, t^{4} + 1080 \\, t^{3} + 216 \\, t^{2} + 36 \\, \\sqrt{\\frac{91}{3} \\, t^{10} - \\frac{800}{3} \\, t^{9} + \\frac{464}{3} \\, t^{8} + 152 \\, t^{7} - \\frac{244}{3} \\, t^{6} - 64 \\, t^{5} + \\frac{31}{3} \\, t^{4} + \\frac{32}{3} \\, t^{3} - \\frac{2}{3} \\, t} {\\left(66 \\, t^{7} - 32 \\, t^{6} + 112 \\, t^{5} - 8 \\, t^{4} + 60 \\, t^{3} + 9 \\, t\\right)} - 27}{250047 \\, t^{18} + 285768 \\, t^{17} - 462672 \\, t^{16} - 397818 \\, t^{15} + 513540 \\, t^{14} + 241920 \\, t^{13} - 332559 \\, t^{12} - 68832 \\, t^{11} + 129456 \\, t^{10} + 9620 \\, t^{9} - 32328 \\, t^{8} - 288 \\, t^{7} + 5361 \\, t^{6} - 72 \\, t^{5} - 576 \\, t^{4} + 6 \\, t^{3} + 36 \\, t^{2} - 1}\\right)^{\\frac{1}{3}} + 9\\right)} \\sqrt{\\frac{64 \\, t^{8} + 1792 \\, t^{7} + 224 \\, t^{6} + 896 \\, t^{5} - 32 \\, t^{4} + 48 \\, t^{3} - 48 \\, t^{2} + {\\left(3969 \\, t^{12} + 3024 \\, t^{11} - 5472 \\, t^{10} - 2052 \\, t^{9} + 3912 \\, t^{8} + 384 \\, t^{7} - 1274 \\, t^{6} + 240 \\, t^{4} - 4 \\, t^{3} - 24 \\, t^{2} + 1\\right)} \\left(\\frac{13096 \\, t^{12} - 62976 \\, t^{11} - 14976 \\, t^{10} - 66496 \\, t^{9} - 10368 \\, t^{8} - 9984 \\, t^{7} - 3592 \\, t^{6} + 3456 \\, t^{5} - 144 \\, t^{4} + 1080 \\, t^{3} + 216 \\, t^{2} + 36 \\, \\sqrt{\\frac{91}{3} \\, t^{10} - \\frac{800}{3} \\, t^{9} + \\frac{464}{3} \\, t^{8} + 152 \\, t^{7} - \\frac{244}{3} \\, t^{6} - 64 \\, t^{5} + \\frac{31}{3} \\, t^{4} + \\frac{32}{3} \\, t^{3} - \\frac{2}{3} \\, t} {\\left(66 \\, t^{7} - 32 \\, t^{6} + 112 \\, t^{5} - 8 \\, t^{4} + 60 \\, t^{3} + 9 \\, t\\right)} - 27}{250047 \\, t^{18} + 285768 \\, t^{17} - 462672 \\, t^{16} - 397818 \\, t^{15} + 513540 \\, t^{14} + 241920 \\, t^{13} - 332559 \\, t^{12} - 68832 \\, t^{11} + 129456 \\, t^{10} + 9620 \\, t^{9} - 32328 \\, t^{8} - 288 \\, t^{7} + 5361 \\, t^{6} - 72 \\, t^{5} - 576 \\, t^{4} + 6 \\, t^{3} + 36 \\, t^{2} - 1}\\right)^{\\frac{2}{3}} - 2 \\, {\\left(912 \\, t^{10} + 1656 \\, t^{9} - 1656 \\, t^{8} - 352 \\, t^{7} + 1165 \\, t^{6} - 8 \\, t^{5} - 352 \\, t^{4} - 2 \\, t^{3} + 52 \\, t^{2} - 3\\right)} \\left(\\frac{13096 \\, t^{12} - 62976 \\, t^{11} - 14976 \\, t^{10} - 66496 \\, t^{9} - 10368 \\, t^{8} - 9984 \\, t^{7} - 3592 \\, t^{6} + 3456 \\, t^{5} - 144 \\, t^{4} + 1080 \\, t^{3} + 216 \\, t^{2} + 36 \\, \\sqrt{\\frac{91}{3} \\, t^{10} - \\frac{800}{3} \\, t^{9} + \\frac{464}{3} \\, t^{8} + 152 \\, t^{7} - \\frac{244}{3} \\, t^{6} - 64 \\, t^{5} + \\frac{31}{3} \\, t^{4} + \\frac{32}{3} \\, t^{3} - \\frac{2}{3} \\, t} {\\left(66 \\, t^{7} - 32 \\, t^{6} + 112 \\, t^{5} - 8 \\, t^{4} + 60 \\, t^{3} + 9 \\, t\\right)} - 27}{250047 \\, t^{18} + 285768 \\, t^{17} - 462672 \\, t^{16} - 397818 \\, t^{15} + 513540 \\, t^{14} + 241920 \\, t^{13} - 332559 \\, t^{12} - 68832 \\, t^{11} + 129456 \\, t^{10} + 9620 \\, t^{9} - 32328 \\, t^{8} - 288 \\, t^{7} + 5361 \\, t^{6} - 72 \\, t^{5} - 576 \\, t^{4} + 6 \\, t^{3} + 36 \\, t^{2} - 1}\\right)^{\\frac{1}{3}} + 9}{\\left(\\frac{13096 \\, t^{12} - 62976 \\, t^{11} - 14976 \\, t^{10} - 66496 \\, t^{9} - 10368 \\, t^{8} - 9984 \\, t^{7} - 3592 \\, t^{6} + 3456 \\, t^{5} - 144 \\, t^{4} + 1080 \\, t^{3} + 216 \\, t^{2} + 36 \\, \\sqrt{\\frac{91}{3} \\, t^{10} - \\frac{800}{3} \\, t^{9} + \\frac{464}{3} \\, t^{8} + 152 \\, t^{7} - \\frac{244}{3} \\, t^{6} - 64 \\, t^{5} + \\frac{31}{3} \\, t^{4} + \\frac{32}{3} \\, t^{3} - \\frac{2}{3} \\, t} {\\left(66 \\, t^{7} - 32 \\, t^{6} + 112 \\, t^{5} - 8 \\, t^{4} + 60 \\, t^{3} + 9 \\, t\\right)} - 27}{250047 \\, t^{18} + 285768 \\, t^{17} - 462672 \\, t^{16} - 397818 \\, t^{15} + 513540 \\, t^{14} + 241920 \\, t^{13} - 332559 \\, t^{12} - 68832 \\, t^{11} + 129456 \\, t^{10} + 9620 \\, t^{9} - 32328 \\, t^{8} - 288 \\, t^{7} + 5361 \\, t^{6} - 72 \\, t^{5} - 576 \\, t^{4} + 6 \\, t^{3} + 36 \\, t^{2} - 1}\\right)^{\\frac{1}{3}}}} + 36 \\, {\\left(4162 \\, t^{15} - 16200 \\, t^{14} - 9168 \\, t^{13} + 21762 \\, t^{12} + 12988 \\, t^{11} - 20768 \\, t^{10} - 5907 \\, t^{9} + 9104 \\, t^{8} + 880 \\, t^{7} - 2215 \\, t^{6} + 24 \\, t^{5} + 336 \\, t^{4} - 11 \\, t^{3} - 28 \\, t^{2} + 1\\right)} \\left(\\frac{13096 \\, t^{12} - 62976 \\, t^{11} - 14976 \\, t^{10} - 66496 \\, t^{9} - 10368 \\, t^{8} - 9984 \\, t^{7} - 3592 \\, t^{6} + 3456 \\, t^{5} - 144 \\, t^{4} + 1080 \\, t^{3} + 216 \\, t^{2} + 36 \\, \\sqrt{\\frac{91}{3} \\, t^{10} - \\frac{800}{3} \\, t^{9} + \\frac{464}{3} \\, t^{8} + 152 \\, t^{7} - \\frac{244}{3} \\, t^{6} - 64 \\, t^{5} + \\frac{31}{3} \\, t^{4} + \\frac{32}{3} \\, t^{3} - \\frac{2}{3} \\, t} {\\left(66 \\, t^{7} - 32 \\, t^{6} + 112 \\, t^{5} - 8 \\, t^{4} + 60 \\, t^{3} + 9 \\, t\\right)} - 27}{250047 \\, t^{18} + 285768 \\, t^{17} - 462672 \\, t^{16} - 397818 \\, t^{15} + 513540 \\, t^{14} + 241920 \\, t^{13} - 332559 \\, t^{12} - 68832 \\, t^{11} + 129456 \\, t^{10} + 9620 \\, t^{9} - 32328 \\, t^{8} - 288 \\, t^{7} + 5361 \\, t^{6} - 72 \\, t^{5} - 576 \\, t^{4} + 6 \\, t^{3} + 36 \\, t^{2} - 1}\\right)^{\\frac{1}{3}}\\right)}}{{\\left(3969 \\, t^{12} + 3024 \\, t^{11} - 5472 \\, t^{10} - 2052 \\, t^{9} + 3912 \\, t^{8} + 384 \\, t^{7} - 1274 \\, t^{6} + 240 \\, t^{4} - 4 \\, t^{3} - 24 \\, t^{2} + 1\\right)} \\sqrt{\\frac{64 \\, t^{8} + 1792 \\, t^{7} + 224 \\, t^{6} + 896 \\, t^{5} - 32 \\, t^{4} + 48 \\, t^{3} - 48 \\, t^{2} + {\\left(3969 \\, t^{12} + 3024 \\, t^{11} - 5472 \\, t^{10} - 2052 \\, t^{9} + 3912 \\, t^{8} + 384 \\, t^{7} - 1274 \\, t^{6} + 240 \\, t^{4} - 4 \\, t^{3} - 24 \\, t^{2} + 1\\right)} \\left(\\frac{13096 \\, t^{12} - 62976 \\, t^{11} - 14976 \\, t^{10} - 66496 \\, t^{9} - 10368 \\, t^{8} - 9984 \\, t^{7} - 3592 \\, t^{6} + 3456 \\, t^{5} - 144 \\, t^{4} + 1080 \\, t^{3} + 216 \\, t^{2} + 36 \\, \\sqrt{\\frac{91}{3} \\, t^{10} - \\frac{800}{3} \\, t^{9} + \\frac{464}{3} \\, t^{8} + 152 \\, t^{7} - \\frac{244}{3} \\, t^{6} - 64 \\, t^{5} + \\frac{31}{3} \\, t^{4} + \\frac{32}{3} \\, t^{3} - \\frac{2}{3} \\, t} {\\left(66 \\, t^{7} - 32 \\, t^{6} + 112 \\, t^{5} - 8 \\, t^{4} + 60 \\, t^{3} + 9 \\, t\\right)} - 27}{250047 \\, t^{18} + 285768 \\, t^{17} - 462672 \\, t^{16} - 397818 \\, t^{15} + 513540 \\, t^{14} + 241920 \\, t^{13} - 332559 \\, t^{12} - 68832 \\, t^{11} + 129456 \\, t^{10} + 9620 \\, t^{9} - 32328 \\, t^{8} - 288 \\, t^{7} + 5361 \\, t^{6} - 72 \\, t^{5} - 576 \\, t^{4} + 6 \\, t^{3} + 36 \\, t^{2} - 1}\\right)^{\\frac{2}{3}} - 2 \\, {\\left(912 \\, t^{10} + 1656 \\, t^{9} - 1656 \\, t^{8} - 352 \\, t^{7} + 1165 \\, t^{6} - 8 \\, t^{5} - 352 \\, t^{4} - 2 \\, t^{3} + 52 \\, t^{2} - 3\\right)} \\left(\\frac{13096 \\, t^{12} - 62976 \\, t^{11} - 14976 \\, t^{10} - 66496 \\, t^{9} - 10368 \\, t^{8} - 9984 \\, t^{7} - 3592 \\, t^{6} + 3456 \\, t^{5} - 144 \\, t^{4} + 1080 \\, t^{3} + 216 \\, t^{2} + 36 \\, \\sqrt{\\frac{91}{3} \\, t^{10} - \\frac{800}{3} \\, t^{9} + \\frac{464}{3} \\, t^{8} + 152 \\, t^{7} - \\frac{244}{3} \\, t^{6} - 64 \\, t^{5} + \\frac{31}{3} \\, t^{4} + \\frac{32}{3} \\, t^{3} - \\frac{2}{3} \\, t} {\\left(66 \\, t^{7} - 32 \\, t^{6} + 112 \\, t^{5} - 8 \\, t^{4} + 60 \\, t^{3} + 9 \\, t\\right)} - 27}{250047 \\, t^{18} + 285768 \\, t^{17} - 462672 \\, t^{16} - 397818 \\, t^{15} + 513540 \\, t^{14} + 241920 \\, t^{13} - 332559 \\, t^{12} - 68832 \\, t^{11} + 129456 \\, t^{10} + 9620 \\, t^{9} - 32328 \\, t^{8} - 288 \\, t^{7} + 5361 \\, t^{6} - 72 \\, t^{5} - 576 \\, t^{4} + 6 \\, t^{3} + 36 \\, t^{2} - 1}\\right)^{\\frac{1}{3}} + 9}{\\left(\\frac{13096 \\, t^{12} - 62976 \\, t^{11} - 14976 \\, t^{10} - 66496 \\, t^{9} - 10368 \\, t^{8} - 9984 \\, t^{7} - 3592 \\, t^{6} + 3456 \\, t^{5} - 144 \\, t^{4} + 1080 \\, t^{3} + 216 \\, t^{2} + 36 \\, \\sqrt{\\frac{91}{3} \\, t^{10} - \\frac{800}{3} \\, t^{9} + \\frac{464}{3} \\, t^{8} + 152 \\, t^{7} - \\frac{244}{3} \\, t^{6} - 64 \\, t^{5} + \\frac{31}{3} \\, t^{4} + \\frac{32}{3} \\, t^{3} - \\frac{2}{3} \\, t} {\\left(66 \\, t^{7} - 32 \\, t^{6} + 112 \\, t^{5} - 8 \\, t^{4} + 60 \\, t^{3} + 9 \\, t\\right)} - 27}{250047 \\, t^{18} + 285768 \\, t^{17} - 462672 \\, t^{16} - 397818 \\, t^{15} + 513540 \\, t^{14} + 241920 \\, t^{13} - 332559 \\, t^{12} - 68832 \\, t^{11} + 129456 \\, t^{10} + 9620 \\, t^{9} - 32328 \\, t^{8} - 288 \\, t^{7} + 5361 \\, t^{6} - 72 \\, t^{5} - 576 \\, t^{4} + 6 \\, t^{3} + 36 \\, t^{2} - 1}\\right)^{\\frac{1}{3}}}} \\left(\\frac{13096 \\, t^{12} - 62976 \\, t^{11} - 14976 \\, t^{10} - 66496 \\, t^{9} - 10368 \\, t^{8} - 9984 \\, t^{7} - 3592 \\, t^{6} + 3456 \\, t^{5} - 144 \\, t^{4} + 1080 \\, t^{3} + 216 \\, t^{2} + 36 \\, \\sqrt{\\frac{91}{3} \\, t^{10} - \\frac{800}{3} \\, t^{9} + \\frac{464}{3} \\, t^{8} + 152 \\, t^{7} - \\frac{244}{3} \\, t^{6} - 64 \\, t^{5} + \\frac{31}{3} \\, t^{4} + \\frac{32}{3} \\, t^{3} - \\frac{2}{3} \\, t} {\\left(66 \\, t^{7} - 32 \\, t^{6} + 112 \\, t^{5} - 8 \\, t^{4} + 60 \\, t^{3} + 9 \\, t\\right)} - 27}{250047 \\, t^{18} + 285768 \\, t^{17} - 462672 \\, t^{16} - 397818 \\, t^{15} + 513540 \\, t^{14} + 241920 \\, t^{13} - 332559 \\, t^{12} - 68832 \\, t^{11} + 129456 \\, t^{10} + 9620 \\, t^{9} - 32328 \\, t^{8} - 288 \\, t^{7} + 5361 \\, t^{6} - 72 \\, t^{5} - 576 \\, t^{4} + 6 \\, t^{3} + 36 \\, t^{2} - 1}\\right)^{\\frac{1}{3}}}} - \\sqrt{3} \\sqrt{\\frac{64 \\, t^{8} + 1792 \\, t^{7} + 224 \\, t^{6} + 896 \\, t^{5} - 32 \\, t^{4} + 48 \\, t^{3} - 48 \\, t^{2} + {\\left(3969 \\, t^{12} + 3024 \\, t^{11} - 5472 \\, t^{10} - 2052 \\, t^{9} + 3912 \\, t^{8} + 384 \\, t^{7} - 1274 \\, t^{6} + 240 \\, t^{4} - 4 \\, t^{3} - 24 \\, t^{2} + 1\\right)} \\left(\\frac{13096 \\, t^{12} - 62976 \\, t^{11} - 14976 \\, t^{10} - 66496 \\, t^{9} - 10368 \\, t^{8} - 9984 \\, t^{7} - 3592 \\, t^{6} + 3456 \\, t^{5} - 144 \\, t^{4} + 1080 \\, t^{3} + 216 \\, t^{2} + 36 \\, \\sqrt{\\frac{91}{3} \\, t^{10} - \\frac{800}{3} \\, t^{9} + \\frac{464}{3} \\, t^{8} + 152 \\, t^{7} - \\frac{244}{3} \\, t^{6} - 64 \\, t^{5} + \\frac{31}{3} \\, t^{4} + \\frac{32}{3} \\, t^{3} - \\frac{2}{3} \\, t} {\\left(66 \\, t^{7} - 32 \\, t^{6} + 112 \\, t^{5} - 8 \\, t^{4} + 60 \\, t^{3} + 9 \\, t\\right)} - 27}{250047 \\, t^{18} + 285768 \\, t^{17} - 462672 \\, t^{16} - 397818 \\, t^{15} + 513540 \\, t^{14} + 241920 \\, t^{13} - 332559 \\, t^{12} - 68832 \\, t^{11} + 129456 \\, t^{10} + 9620 \\, t^{9} - 32328 \\, t^{8} - 288 \\, t^{7} + 5361 \\, t^{6} - 72 \\, t^{5} - 576 \\, t^{4} + 6 \\, t^{3} + 36 \\, t^{2} - 1}\\right)^{\\frac{2}{3}} - 2 \\, {\\left(912 \\, t^{10} + 1656 \\, t^{9} - 1656 \\, t^{8} - 352 \\, t^{7} + 1165 \\, t^{6} - 8 \\, t^{5} - 352 \\, t^{4} - 2 \\, t^{3} + 52 \\, t^{2} - 3\\right)} \\left(\\frac{13096 \\, t^{12} - 62976 \\, t^{11} - 14976 \\, t^{10} - 66496 \\, t^{9} - 10368 \\, t^{8} - 9984 \\, t^{7} - 3592 \\, t^{6} + 3456 \\, t^{5} - 144 \\, t^{4} + 1080 \\, t^{3} + 216 \\, t^{2} + 36 \\, \\sqrt{\\frac{91}{3} \\, t^{10} - \\frac{800}{3} \\, t^{9} + \\frac{464}{3} \\, t^{8} + 152 \\, t^{7} - \\frac{244}{3} \\, t^{6} - 64 \\, t^{5} + \\frac{31}{3} \\, t^{4} + \\frac{32}{3} \\, t^{3} - \\frac{2}{3} \\, t} {\\left(66 \\, t^{7} - 32 \\, t^{6} + 112 \\, t^{5} - 8 \\, t^{4} + 60 \\, t^{3} + 9 \\, t\\right)} - 27}{250047 \\, t^{18} + 285768 \\, t^{17} - 462672 \\, t^{16} - 397818 \\, t^{15} + 513540 \\, t^{14} + 241920 \\, t^{13} - 332559 \\, t^{12} - 68832 \\, t^{11} + 129456 \\, t^{10} + 9620 \\, t^{9} - 32328 \\, t^{8} - 288 \\, t^{7} + 5361 \\, t^{6} - 72 \\, t^{5} - 576 \\, t^{4} + 6 \\, t^{3} + 36 \\, t^{2} - 1}\\right)^{\\frac{1}{3}} + 9}{\\left(\\frac{13096 \\, t^{12} - 62976 \\, t^{11} - 14976 \\, t^{10} - 66496 \\, t^{9} - 10368 \\, t^{8} - 9984 \\, t^{7} - 3592 \\, t^{6} + 3456 \\, t^{5} - 144 \\, t^{4} + 1080 \\, t^{3} + 216 \\, t^{2} + 36 \\, \\sqrt{\\frac{91}{3} \\, t^{10} - \\frac{800}{3} \\, t^{9} + \\frac{464}{3} \\, t^{8} + 152 \\, t^{7} - \\frac{244}{3} \\, t^{6} - 64 \\, t^{5} + \\frac{31}{3} \\, t^{4} + \\frac{32}{3} \\, t^{3} - \\frac{2}{3} \\, t} {\\left(66 \\, t^{7} - 32 \\, t^{6} + 112 \\, t^{5} - 8 \\, t^{4} + 60 \\, t^{3} + 9 \\, t\\right)} - 27}{250047 \\, t^{18} + 285768 \\, t^{17} - 462672 \\, t^{16} - 397818 \\, t^{15} + 513540 \\, t^{14} + 241920 \\, t^{13} - 332559 \\, t^{12} - 68832 \\, t^{11} + 129456 \\, t^{10} + 9620 \\, t^{9} - 32328 \\, t^{8} - 288 \\, t^{7} + 5361 \\, t^{6} - 72 \\, t^{5} - 576 \\, t^{4} + 6 \\, t^{3} + 36 \\, t^{2} - 1}\\right)^{\\frac{1}{3}}}} - 6}{6 \\, {\\left(63 \\, t^{6} + 24 \\, t^{5} - 48 \\, t^{4} + 2 \\, t^{3} + 12 \\, t^{2} - 1\\right)}}</script></html>"
      ],
      "text/plain": [
       "-1/6*(24*t^5 - 96*t^4 + 6*t^3 + 48*t^2 - (63*t^6 + 24*t^5 - 48*t^4 + 2*t^3 + 12*t^2 - 1)*sqrt(-sqrt(3)*(sqrt(3)*(64*t^8 + 1792*t^7 + 224*t^6 + 896*t^5 - 32*t^4 + 48*t^3 - 48*t^2 + (3969*t^12 + 3024*t^11 - 5472*t^10 - 2052*t^9 + 3912*t^8 + 384*t^7 - 1274*t^6 + 240*t^4 - 4*t^3 - 24*t^2 + 1)*((13096*t^12 - 62976*t^11 - 14976*t^10 - 66496*t^9 - 10368*t^8 - 9984*t^7 - 3592*t^6 + 3456*t^5 - 144*t^4 + 1080*t^3 + 216*t^2 + 36*sqrt(91/3*t^10 - 800/3*t^9 + 464/3*t^8 + 152*t^7 - 244/3*t^6 - 64*t^5 + 31/3*t^4 + 32/3*t^3 - 2/3*t)*(66*t^7 - 32*t^6 + 112*t^5 - 8*t^4 + 60*t^3 + 9*t) - 27)/(250047*t^18 + 285768*t^17 - 462672*t^16 - 397818*t^15 + 513540*t^14 + 241920*t^13 - 332559*t^12 - 68832*t^11 + 129456*t^10 + 9620*t^9 - 32328*t^8 - 288*t^7 + 5361*t^6 - 72*t^5 - 576*t^4 + 6*t^3 + 36*t^2 - 1))^(2/3) + 4*(912*t^10 + 1656*t^9 - 1656*t^8 - 352*t^7 + 1165*t^6 - 8*t^5 - 352*t^4 - 2*t^3 + 52*t^2 - 3)*((13096*t^12 - 62976*t^11 - 14976*t^10 - 66496*t^9 - 10368*t^8 - 9984*t^7 - 3592*t^6 + 3456*t^5 - 144*t^4 + 1080*t^3 + 216*t^2 + 36*sqrt(91/3*t^10 - 800/3*t^9 + 464/3*t^8 + 152*t^7 - 244/3*t^6 - 64*t^5 + 31/3*t^4 + 32/3*t^3 - 2/3*t)*(66*t^7 - 32*t^6 + 112*t^5 - 8*t^4 + 60*t^3 + 9*t) - 27)/(250047*t^18 + 285768*t^17 - 462672*t^16 - 397818*t^15 + 513540*t^14 + 241920*t^13 - 332559*t^12 - 68832*t^11 + 129456*t^10 + 9620*t^9 - 32328*t^8 - 288*t^7 + 5361*t^6 - 72*t^5 - 576*t^4 + 6*t^3 + 36*t^2 - 1))^(1/3) + 9)*sqrt((64*t^8 + 1792*t^7 + 224*t^6 + 896*t^5 - 32*t^4 + 48*t^3 - 48*t^2 + (3969*t^12 + 3024*t^11 - 5472*t^10 - 2052*t^9 + 3912*t^8 + 384*t^7 - 1274*t^6 + 240*t^4 - 4*t^3 - 24*t^2 + 1)*((13096*t^12 - 62976*t^11 - 14976*t^10 - 66496*t^9 - 10368*t^8 - 9984*t^7 - 3592*t^6 + 3456*t^5 - 144*t^4 + 1080*t^3 + 216*t^2 + 36*sqrt(91/3*t^10 - 800/3*t^9 + 464/3*t^8 + 152*t^7 - 244/3*t^6 - 64*t^5 + 31/3*t^4 + 32/3*t^3 - 2/3*t)*(66*t^7 - 32*t^6 + 112*t^5 - 8*t^4 + 60*t^3 + 9*t) - 27)/(250047*t^18 + 285768*t^17 - 462672*t^16 - 397818*t^15 + 513540*t^14 + 241920*t^13 - 332559*t^12 - 68832*t^11 + 129456*t^10 + 9620*t^9 - 32328*t^8 - 288*t^7 + 5361*t^6 - 72*t^5 - 576*t^4 + 6*t^3 + 36*t^2 - 1))^(2/3) - 2*(912*t^10 + 1656*t^9 - 1656*t^8 - 352*t^7 + 1165*t^6 - 8*t^5 - 352*t^4 - 2*t^3 + 52*t^2 - 3)*((13096*t^12 - 62976*t^11 - 14976*t^10 - 66496*t^9 - 10368*t^8 - 9984*t^7 - 3592*t^6 + 3456*t^5 - 144*t^4 + 1080*t^3 + 216*t^2 + 36*sqrt(91/3*t^10 - 800/3*t^9 + 464/3*t^8 + 152*t^7 - 244/3*t^6 - 64*t^5 + 31/3*t^4 + 32/3*t^3 - 2/3*t)*(66*t^7 - 32*t^6 + 112*t^5 - 8*t^4 + 60*t^3 + 9*t) - 27)/(250047*t^18 + 285768*t^17 - 462672*t^16 - 397818*t^15 + 513540*t^14 + 241920*t^13 - 332559*t^12 - 68832*t^11 + 129456*t^10 + 9620*t^9 - 32328*t^8 - 288*t^7 + 5361*t^6 - 72*t^5 - 576*t^4 + 6*t^3 + 36*t^2 - 1))^(1/3) + 9)/((13096*t^12 - 62976*t^11 - 14976*t^10 - 66496*t^9 - 10368*t^8 - 9984*t^7 - 3592*t^6 + 3456*t^5 - 144*t^4 + 1080*t^3 + 216*t^2 + 36*sqrt(91/3*t^10 - 800/3*t^9 + 464/3*t^8 + 152*t^7 - 244/3*t^6 - 64*t^5 + 31/3*t^4 + 32/3*t^3 - 2/3*t)*(66*t^7 - 32*t^6 + 112*t^5 - 8*t^4 + 60*t^3 + 9*t) - 27)/(250047*t^18 + 285768*t^17 - 462672*t^16 - 397818*t^15 + 513540*t^14 + 241920*t^13 - 332559*t^12 - 68832*t^11 + 129456*t^10 + 9620*t^9 - 32328*t^8 - 288*t^7 + 5361*t^6 - 72*t^5 - 576*t^4 + 6*t^3 + 36*t^2 - 1))^(1/3)) + 36*(4162*t^15 - 16200*t^14 - 9168*t^13 + 21762*t^12 + 12988*t^11 - 20768*t^10 - 5907*t^9 + 9104*t^8 + 880*t^7 - 2215*t^6 + 24*t^5 + 336*t^4 - 11*t^3 - 28*t^2 + 1)*((13096*t^12 - 62976*t^11 - 14976*t^10 - 66496*t^9 - 10368*t^8 - 9984*t^7 - 3592*t^6 + 3456*t^5 - 144*t^4 + 1080*t^3 + 216*t^2 + 36*sqrt(91/3*t^10 - 800/3*t^9 + 464/3*t^8 + 152*t^7 - 244/3*t^6 - 64*t^5 + 31/3*t^4 + 32/3*t^3 - 2/3*t)*(66*t^7 - 32*t^6 + 112*t^5 - 8*t^4 + 60*t^3 + 9*t) - 27)/(250047*t^18 + 285768*t^17 - 462672*t^16 - 397818*t^15 + 513540*t^14 + 241920*t^13 - 332559*t^12 - 68832*t^11 + 129456*t^10 + 9620*t^9 - 32328*t^8 - 288*t^7 + 5361*t^6 - 72*t^5 - 576*t^4 + 6*t^3 + 36*t^2 - 1))^(1/3))/((3969*t^12 + 3024*t^11 - 5472*t^10 - 2052*t^9 + 3912*t^8 + 384*t^7 - 1274*t^6 + 240*t^4 - 4*t^3 - 24*t^2 + 1)*sqrt((64*t^8 + 1792*t^7 + 224*t^6 + 896*t^5 - 32*t^4 + 48*t^3 - 48*t^2 + (3969*t^12 + 3024*t^11 - 5472*t^10 - 2052*t^9 + 3912*t^8 + 384*t^7 - 1274*t^6 + 240*t^4 - 4*t^3 - 24*t^2 + 1)*((13096*t^12 - 62976*t^11 - 14976*t^10 - 66496*t^9 - 10368*t^8 - 9984*t^7 - 3592*t^6 + 3456*t^5 - 144*t^4 + 1080*t^3 + 216*t^2 + 36*sqrt(91/3*t^10 - 800/3*t^9 + 464/3*t^8 + 152*t^7 - 244/3*t^6 - 64*t^5 + 31/3*t^4 + 32/3*t^3 - 2/3*t)*(66*t^7 - 32*t^6 + 112*t^5 - 8*t^4 + 60*t^3 + 9*t) - 27)/(250047*t^18 + 285768*t^17 - 462672*t^16 - 397818*t^15 + 513540*t^14 + 241920*t^13 - 332559*t^12 - 68832*t^11 + 129456*t^10 + 9620*t^9 - 32328*t^8 - 288*t^7 + 5361*t^6 - 72*t^5 - 576*t^4 + 6*t^3 + 36*t^2 - 1))^(2/3) - 2*(912*t^10 + 1656*t^9 - 1656*t^8 - 352*t^7 + 1165*t^6 - 8*t^5 - 352*t^4 - 2*t^3 + 52*t^2 - 3)*((13096*t^12 - 62976*t^11 - 14976*t^10 - 66496*t^9 - 10368*t^8 - 9984*t^7 - 3592*t^6 + 3456*t^5 - 144*t^4 + 1080*t^3 + 216*t^2 + 36*sqrt(91/3*t^10 - 800/3*t^9 + 464/3*t^8 + 152*t^7 - 244/3*t^6 - 64*t^5 + 31/3*t^4 + 32/3*t^3 - 2/3*t)*(66*t^7 - 32*t^6 + 112*t^5 - 8*t^4 + 60*t^3 + 9*t) - 27)/(250047*t^18 + 285768*t^17 - 462672*t^16 - 397818*t^15 + 513540*t^14 + 241920*t^13 - 332559*t^12 - 68832*t^11 + 129456*t^10 + 9620*t^9 - 32328*t^8 - 288*t^7 + 5361*t^6 - 72*t^5 - 576*t^4 + 6*t^3 + 36*t^2 - 1))^(1/3) + 9)/((13096*t^12 - 62976*t^11 - 14976*t^10 - 66496*t^9 - 10368*t^8 - 9984*t^7 - 3592*t^6 + 3456*t^5 - 144*t^4 + 1080*t^3 + 216*t^2 + 36*sqrt(91/3*t^10 - 800/3*t^9 + 464/3*t^8 + 152*t^7 - 244/3*t^6 - 64*t^5 + 31/3*t^4 + 32/3*t^3 - 2/3*t)*(66*t^7 - 32*t^6 + 112*t^5 - 8*t^4 + 60*t^3 + 9*t) - 27)/(250047*t^18 + 285768*t^17 - 462672*t^16 - 397818*t^15 + 513540*t^14 + 241920*t^13 - 332559*t^12 - 68832*t^11 + 129456*t^10 + 9620*t^9 - 32328*t^8 - 288*t^7 + 5361*t^6 - 72*t^5 - 576*t^4 + 6*t^3 + 36*t^2 - 1))^(1/3))*((13096*t^12 - 62976*t^11 - 14976*t^10 - 66496*t^9 - 10368*t^8 - 9984*t^7 - 3592*t^6 + 3456*t^5 - 144*t^4 + 1080*t^3 + 216*t^2 + 36*sqrt(91/3*t^10 - 800/3*t^9 + 464/3*t^8 + 152*t^7 - 244/3*t^6 - 64*t^5 + 31/3*t^4 + 32/3*t^3 - 2/3*t)*(66*t^7 - 32*t^6 + 112*t^5 - 8*t^4 + 60*t^3 + 9*t) - 27)/(250047*t^18 + 285768*t^17 - 462672*t^16 - 397818*t^15 + 513540*t^14 + 241920*t^13 - 332559*t^12 - 68832*t^11 + 129456*t^10 + 9620*t^9 - 32328*t^8 - 288*t^7 + 5361*t^6 - 72*t^5 - 576*t^4 + 6*t^3 + 36*t^2 - 1))^(1/3))) - sqrt(3)*sqrt((64*t^8 + 1792*t^7 + 224*t^6 + 896*t^5 - 32*t^4 + 48*t^3 - 48*t^2 + (3969*t^12 + 3024*t^11 - 5472*t^10 - 2052*t^9 + 3912*t^8 + 384*t^7 - 1274*t^6 + 240*t^4 - 4*t^3 - 24*t^2 + 1)*((13096*t^12 - 62976*t^11 - 14976*t^10 - 66496*t^9 - 10368*t^8 - 9984*t^7 - 3592*t^6 + 3456*t^5 - 144*t^4 + 1080*t^3 + 216*t^2 + 36*sqrt(91/3*t^10 - 800/3*t^9 + 464/3*t^8 + 152*t^7 - 244/3*t^6 - 64*t^5 + 31/3*t^4 + 32/3*t^3 - 2/3*t)*(66*t^7 - 32*t^6 + 112*t^5 - 8*t^4 + 60*t^3 + 9*t) - 27)/(250047*t^18 + 285768*t^17 - 462672*t^16 - 397818*t^15 + 513540*t^14 + 241920*t^13 - 332559*t^12 - 68832*t^11 + 129456*t^10 + 9620*t^9 - 32328*t^8 - 288*t^7 + 5361*t^6 - 72*t^5 - 576*t^4 + 6*t^3 + 36*t^2 - 1))^(2/3) - 2*(912*t^10 + 1656*t^9 - 1656*t^8 - 352*t^7 + 1165*t^6 - 8*t^5 - 352*t^4 - 2*t^3 + 52*t^2 - 3)*((13096*t^12 - 62976*t^11 - 14976*t^10 - 66496*t^9 - 10368*t^8 - 9984*t^7 - 3592*t^6 + 3456*t^5 - 144*t^4 + 1080*t^3 + 216*t^2 + 36*sqrt(91/3*t^10 - 800/3*t^9 + 464/3*t^8 + 152*t^7 - 244/3*t^6 - 64*t^5 + 31/3*t^4 + 32/3*t^3 - 2/3*t)*(66*t^7 - 32*t^6 + 112*t^5 - 8*t^4 + 60*t^3 + 9*t) - 27)/(250047*t^18 + 285768*t^17 - 462672*t^16 - 397818*t^15 + 513540*t^14 + 241920*t^13 - 332559*t^12 - 68832*t^11 + 129456*t^10 + 9620*t^9 - 32328*t^8 - 288*t^7 + 5361*t^6 - 72*t^5 - 576*t^4 + 6*t^3 + 36*t^2 - 1))^(1/3) + 9)/((13096*t^12 - 62976*t^11 - 14976*t^10 - 66496*t^9 - 10368*t^8 - 9984*t^7 - 3592*t^6 + 3456*t^5 - 144*t^4 + 1080*t^3 + 216*t^2 + 36*sqrt(91/3*t^10 - 800/3*t^9 + 464/3*t^8 + 152*t^7 - 244/3*t^6 - 64*t^5 + 31/3*t^4 + 32/3*t^3 - 2/3*t)*(66*t^7 - 32*t^6 + 112*t^5 - 8*t^4 + 60*t^3 + 9*t) - 27)/(250047*t^18 + 285768*t^17 - 462672*t^16 - 397818*t^15 + 513540*t^14 + 241920*t^13 - 332559*t^12 - 68832*t^11 + 129456*t^10 + 9620*t^9 - 32328*t^8 - 288*t^7 + 5361*t^6 - 72*t^5 - 576*t^4 + 6*t^3 + 36*t^2 - 1))^(1/3)) - 6)/(63*t^6 + 24*t^5 - 48*t^4 + 2*t^3 + 12*t^2 - 1)"
      ]
     },
     "metadata": {},
     "output_type": "display_data"
    },
    {
     "ename": "RuntimeError",
     "evalue": "ECL says: Console interrupt.",
     "output_type": "error",
     "traceback": [
      "\u001b[0;31m---------------------------------------------------------------------------\u001b[0m",
      "\u001b[0;31mRuntimeError\u001b[0m                              Traceback (most recent call last)",
      "\u001b[0;32m<ipython-input-239-6349aa947bb8>\u001b[0m in \u001b[0;36m<module>\u001b[0;34m()\u001b[0m\n\u001b[1;32m      8\u001b[0m         \u001b[0mF\u001b[0m \u001b[0;34m=\u001b[0m \u001b[0msol\u001b[0m\u001b[0;34m[\u001b[0m\u001b[0mstart\u001b[0m\u001b[0;34m]\u001b[0m\u001b[0;34m\u001b[0m\u001b[0;34m\u001b[0m\u001b[0m\n\u001b[1;32m      9\u001b[0m         \u001b[0mpretty_print\u001b[0m\u001b[0;34m(\u001b[0m\u001b[0mF\u001b[0m\u001b[0;34m)\u001b[0m\u001b[0;34m\u001b[0m\u001b[0;34m\u001b[0m\u001b[0m\n\u001b[0;32m---> 10\u001b[0;31m         \u001b[0mL\u001b[0m \u001b[0;34m=\u001b[0m \u001b[0mlimit\u001b[0m\u001b[0;34m(\u001b[0m\u001b[0mF\u001b[0m\u001b[0;34m,\u001b[0m\u001b[0mt\u001b[0m\u001b[0;34m=\u001b[0m\u001b[0mInteger\u001b[0m\u001b[0;34m(\u001b[0m\u001b[0;36m0\u001b[0m\u001b[0;34m)\u001b[0m\u001b[0;34m)\u001b[0m\u001b[0;34m\u001b[0m\u001b[0;34m\u001b[0m\u001b[0m\n\u001b[0m\u001b[1;32m     11\u001b[0m         \u001b[0mpretty_print\u001b[0m\u001b[0;34m(\u001b[0m\u001b[0mLatexExpr\u001b[0m\u001b[0;34m(\u001b[0m\u001b[0;34mr'\\lim_{t\\to 0}%s=%s'\u001b[0m\u001b[0;34m%\u001b[0m\u001b[0;34m(\u001b[0m\u001b[0mlatex\u001b[0m\u001b[0;34m(\u001b[0m\u001b[0mstart\u001b[0m\u001b[0;34m)\u001b[0m\u001b[0;34m,\u001b[0m\u001b[0mL\u001b[0m\u001b[0;34m)\u001b[0m\u001b[0;34m)\u001b[0m\u001b[0;34m)\u001b[0m\u001b[0;34m\u001b[0m\u001b[0;34m\u001b[0m\u001b[0m\n\u001b[1;32m     12\u001b[0m         \u001b[0;32mif\u001b[0m \u001b[0mL\u001b[0m\u001b[0;34m!=\u001b[0m\u001b[0mInteger\u001b[0m\u001b[0;34m(\u001b[0m\u001b[0;36m1\u001b[0m\u001b[0;34m)\u001b[0m\u001b[0;34m:\u001b[0m\u001b[0;34m\u001b[0m\u001b[0;34m\u001b[0m\u001b[0m\n",
      "\u001b[0;32m/opt/sagemath-9.0/local/lib/python3.7/site-packages/sage/calculus/calculus.py\u001b[0m in \u001b[0;36mlimit\u001b[0;34m(ex, dir, taylor, algorithm, **argv)\u001b[0m\n\u001b[1;32m   1366\u001b[0m     \u001b[0;32mif\u001b[0m \u001b[0malgorithm\u001b[0m \u001b[0;34m==\u001b[0m \u001b[0;34m'maxima'\u001b[0m\u001b[0;34m:\u001b[0m\u001b[0;34m\u001b[0m\u001b[0;34m\u001b[0m\u001b[0m\n\u001b[1;32m   1367\u001b[0m         \u001b[0;32mif\u001b[0m \u001b[0mdir\u001b[0m \u001b[0;32mis\u001b[0m \u001b[0;32mNone\u001b[0m\u001b[0;34m:\u001b[0m\u001b[0;34m\u001b[0m\u001b[0;34m\u001b[0m\u001b[0m\n\u001b[0;32m-> 1368\u001b[0;31m             \u001b[0ml\u001b[0m \u001b[0;34m=\u001b[0m \u001b[0mmaxima\u001b[0m\u001b[0;34m.\u001b[0m\u001b[0msr_limit\u001b[0m\u001b[0;34m(\u001b[0m\u001b[0mex\u001b[0m\u001b[0;34m,\u001b[0m \u001b[0mv\u001b[0m\u001b[0;34m,\u001b[0m \u001b[0ma\u001b[0m\u001b[0;34m)\u001b[0m\u001b[0;34m\u001b[0m\u001b[0;34m\u001b[0m\u001b[0m\n\u001b[0m\u001b[1;32m   1369\u001b[0m         \u001b[0;32melif\u001b[0m \u001b[0mdir\u001b[0m \u001b[0;32min\u001b[0m \u001b[0mdir_plus\u001b[0m\u001b[0;34m:\u001b[0m\u001b[0;34m\u001b[0m\u001b[0;34m\u001b[0m\u001b[0m\n\u001b[1;32m   1370\u001b[0m             \u001b[0ml\u001b[0m \u001b[0;34m=\u001b[0m \u001b[0mmaxima\u001b[0m\u001b[0;34m.\u001b[0m\u001b[0msr_limit\u001b[0m\u001b[0;34m(\u001b[0m\u001b[0mex\u001b[0m\u001b[0;34m,\u001b[0m \u001b[0mv\u001b[0m\u001b[0;34m,\u001b[0m \u001b[0ma\u001b[0m\u001b[0;34m,\u001b[0m \u001b[0;34m'plus'\u001b[0m\u001b[0;34m)\u001b[0m\u001b[0;34m\u001b[0m\u001b[0;34m\u001b[0m\u001b[0m\n",
      "\u001b[0;32m/opt/sagemath-9.0/local/lib/python3.7/site-packages/sage/interfaces/maxima_lib.py\u001b[0m in \u001b[0;36msr_limit\u001b[0;34m(self, expr, v, a, dir)\u001b[0m\n\u001b[1;32m    983\u001b[0m             \u001b[0;32melif\u001b[0m \u001b[0mdir\u001b[0m \u001b[0;34m==\u001b[0m \u001b[0;34m\"minus\"\u001b[0m\u001b[0;34m:\u001b[0m\u001b[0;34m\u001b[0m\u001b[0;34m\u001b[0m\u001b[0m\n\u001b[1;32m    984\u001b[0m                 \u001b[0mL\u001b[0m\u001b[0;34m.\u001b[0m\u001b[0mappend\u001b[0m\u001b[0;34m(\u001b[0m\u001b[0mmax_minus\u001b[0m\u001b[0;34m)\u001b[0m\u001b[0;34m\u001b[0m\u001b[0;34m\u001b[0m\u001b[0m\n\u001b[0;32m--> 985\u001b[0;31m             \u001b[0;32mreturn\u001b[0m \u001b[0mmax_to_sr\u001b[0m\u001b[0;34m(\u001b[0m\u001b[0mmaxima_eval\u001b[0m\u001b[0;34m(\u001b[0m\u001b[0;34m(\u001b[0m\u001b[0;34m[\u001b[0m\u001b[0mmax_limit\u001b[0m\u001b[0;34m]\u001b[0m\u001b[0;34m,\u001b[0m \u001b[0mL\u001b[0m\u001b[0;34m)\u001b[0m\u001b[0;34m)\u001b[0m\u001b[0;34m)\u001b[0m\u001b[0;34m\u001b[0m\u001b[0;34m\u001b[0m\u001b[0m\n\u001b[0m\u001b[1;32m    986\u001b[0m         \u001b[0;32mexcept\u001b[0m \u001b[0mRuntimeError\u001b[0m \u001b[0;32mas\u001b[0m \u001b[0merror\u001b[0m\u001b[0;34m:\u001b[0m\u001b[0;34m\u001b[0m\u001b[0;34m\u001b[0m\u001b[0m\n\u001b[1;32m    987\u001b[0m             \u001b[0ms\u001b[0m \u001b[0;34m=\u001b[0m \u001b[0mstr\u001b[0m\u001b[0;34m(\u001b[0m\u001b[0merror\u001b[0m\u001b[0;34m)\u001b[0m\u001b[0;34m\u001b[0m\u001b[0;34m\u001b[0m\u001b[0m\n",
      "\u001b[0;32m/opt/sagemath-9.0/local/lib/python3.7/site-packages/sage/libs/ecl.pyx\u001b[0m in \u001b[0;36msage.libs.ecl.EclObject.__call__ (build/cythonized/sage/libs/ecl.c:7794)\u001b[0;34m()\u001b[0m\n\u001b[1;32m    803\u001b[0m         \"\"\"\n\u001b[1;32m    804\u001b[0m         \u001b[0mlispargs\u001b[0m \u001b[0;34m=\u001b[0m \u001b[0mEclObject\u001b[0m\u001b[0;34m(\u001b[0m\u001b[0mlist\u001b[0m\u001b[0;34m(\u001b[0m\u001b[0margs\u001b[0m\u001b[0;34m)\u001b[0m\u001b[0;34m)\u001b[0m\u001b[0;34m\u001b[0m\u001b[0;34m\u001b[0m\u001b[0m\n\u001b[0;32m--> 805\u001b[0;31m         \u001b[0;32mreturn\u001b[0m \u001b[0mecl_wrap\u001b[0m\u001b[0;34m(\u001b[0m\u001b[0mecl_safe_apply\u001b[0m\u001b[0;34m(\u001b[0m\u001b[0mself\u001b[0m\u001b[0;34m.\u001b[0m\u001b[0mobj\u001b[0m\u001b[0;34m,\u001b[0m\u001b[0;34m(\u001b[0m\u001b[0;34m<\u001b[0m\u001b[0mEclObject\u001b[0m\u001b[0;34m>\u001b[0m\u001b[0mlispargs\u001b[0m\u001b[0;34m)\u001b[0m\u001b[0;34m.\u001b[0m\u001b[0mobj\u001b[0m\u001b[0;34m)\u001b[0m\u001b[0;34m)\u001b[0m\u001b[0;34m\u001b[0m\u001b[0;34m\u001b[0m\u001b[0m\n\u001b[0m\u001b[1;32m    806\u001b[0m \u001b[0;34m\u001b[0m\u001b[0m\n\u001b[1;32m    807\u001b[0m     \u001b[0;32mdef\u001b[0m \u001b[0m__richcmp__\u001b[0m\u001b[0;34m(\u001b[0m\u001b[0mleft\u001b[0m\u001b[0;34m,\u001b[0m \u001b[0mright\u001b[0m\u001b[0;34m,\u001b[0m \u001b[0mint\u001b[0m \u001b[0mop\u001b[0m\u001b[0;34m)\u001b[0m\u001b[0;34m:\u001b[0m\u001b[0;34m\u001b[0m\u001b[0;34m\u001b[0m\u001b[0m\n",
      "\u001b[0;32m/opt/sagemath-9.0/local/lib/python3.7/site-packages/sage/libs/ecl.pyx\u001b[0m in \u001b[0;36msage.libs.ecl.ecl_safe_apply (build/cythonized/sage/libs/ecl.c:5456)\u001b[0;34m()\u001b[0m\n\u001b[1;32m    375\u001b[0m     \u001b[0;32mif\u001b[0m \u001b[0mecl_nvalues\u001b[0m \u001b[0;34m>\u001b[0m \u001b[0;36m1\u001b[0m\u001b[0;34m:\u001b[0m\u001b[0;34m\u001b[0m\u001b[0;34m\u001b[0m\u001b[0m\n\u001b[1;32m    376\u001b[0m         \u001b[0ms\u001b[0m \u001b[0;34m=\u001b[0m \u001b[0msi_coerce_to_base_string\u001b[0m\u001b[0;34m(\u001b[0m\u001b[0mecl_values\u001b[0m\u001b[0;34m(\u001b[0m\u001b[0;36m1\u001b[0m\u001b[0;34m)\u001b[0m\u001b[0;34m)\u001b[0m\u001b[0;34m\u001b[0m\u001b[0;34m\u001b[0m\u001b[0m\n\u001b[0;32m--> 377\u001b[0;31m         raise RuntimeError(\"ECL says: {}\".format(\n\u001b[0m\u001b[1;32m    378\u001b[0m             char_to_str(ecl_base_string_pointer_safe(s))))\n\u001b[1;32m    379\u001b[0m     \u001b[0;32melse\u001b[0m\u001b[0;34m:\u001b[0m\u001b[0;34m\u001b[0m\u001b[0;34m\u001b[0m\u001b[0m\n",
      "\u001b[0;31mRuntimeError\u001b[0m: ECL says: Console interrupt."
     ]
    }
   ],
   "source": [
    "if have_expl:\n",
    "    # if the solutions are explicit, then test them out too see if we have the desired one\n",
    "    oldt = t\n",
    "    R.<t>= PolynomialRing(ZZ,1,order='negdegrevlex')\n",
    "    tt= t\n",
    "    t = oldt\n",
    "    for sol in expl_slns:\n",
    "        F = sol[start]\n",
    "        pretty_print(F)\n",
    "        L = limit(F,t=0)\n",
    "        pretty_print(LatexExpr(r'\\lim_{t\\to 0}%s=%s'%(latex(start),L)))\n",
    "        if L!=1:\n",
    "            print('limit at t=0 is different from 1, discard!')\n",
    "            #print(F.taylor(t,0,20))\n",
    "        else:\n",
    "            print('possible desired series solutions!')\n",
    "            pretty_print(F)\n",
    "            prec = 16\n",
    "            pretty_print('Series Expansion around %s of degree up to %d: '%(LatexExpr('t=0'),prec))\n",
    "            P = F.taylor(t, 0, prec)\n",
    "            P = R(P(tt))\n",
    "            pretty_print(P)\n",
    "            print(latex(F)+\" = \"+latex(P)+r\"+ O(t^{%d})\"%(prec+1))\n",
    "\n",
    "            "
   ]
  },
  {
   "cell_type": "code",
   "execution_count": 277,
   "metadata": {},
   "outputs": [
    {
     "name": "stdout",
     "output_type": "stream",
     "text": [
      "/home/sage/OneDrive - sfu.ca/Research/Msc_math_sfu/Marni/cogrowth_computations\n"
     ]
    }
   ],
   "source": [
    "# Take the reduced implicit system of equations, with the list of variables to eliminate,\n",
    "#  and dump them to a maple data file\n",
    "import os\n",
    "print(os.getcwd())\n",
    "fdir = 'maple_data_files'\n",
    "if not os.path.isdir(fdir):\n",
    "    os.mkdir(fdir)\n",
    "fname = 'Z%dZ%d-dat.maple'%(m,n)\n",
    "fname = os.path.join(fdir,fname)\n",
    "if not os.path.exists(fname):\n",
    "    fd = open(fname, 'w')\n",
    "    fd.write('syst:='+str(impl_solset).replace('==','=')+';')\n",
    "    fd.write('\\n')\n",
    "    fd.write('varlist:='+str((sorted(var_rem, key = lambda vv: int(str(vv)[1:]))))+';')\n",
    "    fd.write('\\n')\n",
    "    fd.close()"
   ]
  },
  {
   "cell_type": "markdown",
   "metadata": {},
   "source": [
    "# Solving a system iteratively\n",
    "\n",
    "Suppose we are given a system of the form\n",
    "$$\\begin{align*}\n",
    "\\Phi_1 (v_1,...v_q) &= 0\\\\\n",
    "\\Phi_2 (v_1,...v_q) &= 0\\\\\n",
    "\\vdots\\\\\n",
    "\\Phi_r (v_1,...v_q) &= 0\n",
    "\\end{align*}$$ where $q\\ge r$. We want to solve for $v_1,...,v_r$ in terms of the remaining $q-r$ variables.\n",
    "We can do this approximately using a fixed point iterative method, assumming convergence.\n",
    "\n",
    "First, rewrite the $i$-th equation above as $$\\Phi_i (v_1,...,v_q)+v_i = v_i.$$\n",
    "Generate iterates $v_i^{(k)}$ with $v_i^{(0)}$ determined, with the update formula as $$\\Phi_i (v_1^{(k)},...,v_q^{(k)})+v_i^{(k)} = v_i^{(k+1)}.$$ For large $k$, the iterates make an approximate solution.\n",
    "\n",
    "In the case where $r=q-1$ and $v_q=t$, and the system is algebraic, we can expect approximations to the power series solution of $v_i$ to be increasingly accurate. If we take $v_i^{(0)}=0$ for each $i$, then we should get increasing higher oder terms each iteration, with $v_i^{(k)}$ converging to the series as $k\\to \\infty$."
   ]
  },
  {
   "cell_type": "code",
   "execution_count": null,
   "metadata": {},
   "outputs": [],
   "source": [
    "def homogenize(eqn):\n",
    "    '''\n",
    "    eqn: an equation or expression (to set = 0)\n",
    "    returns an expression, to set = 0, that is equivalent to applying eqn\n",
    "    '''\n",
    "    if eqn.is_relational():\n",
    "        return eqn.rhs()-eqn.lhs()\n",
    "    return eqn\n",
    "\n",
    "\n",
    "def iter_solve(system, vrs, vinit=None, maxiter=5, fully_simplify=False, taylor_poly=True):\n",
    "    if len(system)<len(vrs):\n",
    "        raise Exception('number of variables must be at least the number of equations')\n",
    "    if not system:\n",
    "        return [] # no system to solve\n",
    "    if vinit is None:\n",
    "        vinit = {v:0*t for v in vrs}\n",
    "    system = list(map(homogenize, system))\n",
    "    it_sols = [vinit]\n",
    "    k = 1\n",
    "    while k<=maxiter:\n",
    "        vrs_k = {}\n",
    "        for vi,eqi in zip(vrs,system):\n",
    "            vrs_k[vi] = it_sols[-1][vi]+eqi.subs(it_sols[-1])\n",
    "            if fully_simplify:\n",
    "                vrs_k[vi] = vrs_k[vi].simplify_full()\n",
    "            if taylor_poly:\n",
    "                vrs_k[vi] = vrs_k[vi].taylor(t,0,k)\n",
    "        it_sols.append(vrs_k)\n",
    "        k+=1\n",
    "    return it_sols\n",
    "    "
   ]
  },
  {
   "cell_type": "code",
   "execution_count": null,
   "metadata": {},
   "outputs": [],
   "source": [
    "for ans in iter_solve(orig_system,list(var_space.values()),fully_simplify=False,maxiter=20,taylor_poly=True):\n",
    "    pretty_print(ans[start])"
   ]
  },
  {
   "cell_type": "code",
   "execution_count": null,
   "metadata": {},
   "outputs": [],
   "source": [
    "# STOP HERE"
   ]
  },
  {
   "cell_type": "code",
   "execution_count": null,
   "metadata": {
    "scrolled": false
   },
   "outputs": [],
   "source": [
    "print(ss,file=open('ss.txt','w'))"
   ]
  },
  {
   "cell_type": "code",
   "execution_count": null,
   "metadata": {},
   "outputs": [],
   "source": [
    "eg = [-((t^3*v0^2 - v0^2 - 2*v0 - 1)*v13^3 + (3*v0^2 + 4*v0 + 1)*v13^2 + v0^2 - (3*v0^2 + 2*v0)*v13)*t^24*v13^6, (t^6*v13^5 - t^6*v13^4 - 2*t^3*v13^3 + 2*t^3*v13^2 - (t^3 - 1)*v13 - 1)*t^18*v13^4]\n",
    "maxima.eliminate(eg, [v13])"
   ]
  },
  {
   "cell_type": "code",
   "execution_count": null,
   "metadata": {},
   "outputs": [],
   "source": [
    "for v,ss in eliminate(system, [v3,v15,v2,v4,v13], True):\n",
    "    print('+'*100)\n",
    "    pretty_print(v,':')\n",
    "    for s in ss:\n",
    "        print('|'*50)\n",
    "        print(bool(s==0))\n",
    "        pretty_print(s)\n",
    "    print (ss)\n",
    "    if len(ss)==1:\n",
    "        pretty_print(ss[0])"
   ]
  },
  {
   "cell_type": "code",
   "execution_count": null,
   "metadata": {},
   "outputs": [],
   "source": [
    "solve(impl_solset,[v0,v13])"
   ]
  },
  {
   "cell_type": "code",
   "execution_count": null,
   "metadata": {},
   "outputs": [],
   "source": [
    "type(expl_slns[0][v0])"
   ]
  },
  {
   "cell_type": "code",
   "execution_count": null,
   "metadata": {},
   "outputs": [],
   "source": [
    "F = -1/(4*t^2+2*t+1)\n",
    "((8*t^3-1)*F^3-F^2+F+1).simplify_full()"
   ]
  },
  {
   "cell_type": "code",
   "execution_count": null,
   "metadata": {},
   "outputs": [],
   "source": [
    "var('F')\n",
    "ans=(solve(((8*t^3-1)*F^3-F^2+F+1), F))[-1]"
   ]
  },
  {
   "cell_type": "code",
   "execution_count": 238,
   "metadata": {},
   "outputs": [
    {
     "data": {
      "text/plain": [
       "11"
      ]
     },
     "execution_count": 238,
     "metadata": {},
     "output_type": "execute_result"
    }
   ],
   "source": [
    "len(expl_slns)"
   ]
  },
  {
   "cell_type": "code",
   "execution_count": null,
   "metadata": {},
   "outputs": [],
   "source": [
    "\n",
    "    \n",
    "for soldict in solve(orig_system, [v for v in var_space.values()],solution_dict=True):\n",
    "    pretty_print(soldict[v0])\n",
    "    for eqn in orig_system:\n",
    "        print(bool(eqn.subs(soldict)))\n",
    "    print('-'*20)\n",
    "    print(bool(soldict[v0]==ans.rhs()))\n",
    "    \n"
   ]
  },
  {
   "cell_type": "code",
   "execution_count": 278,
   "metadata": {},
   "outputs": [],
   "source": [
    "system = orig_system"
   ]
  },
  {
   "cell_type": "code",
   "execution_count": 282,
   "metadata": {},
   "outputs": [
    {
     "name": "stdout",
     "output_type": "stream",
     "text": [
      "[(366912*t^18*v0^14 - 7168*(21*v0^14 - 13*v0^13)*t^17 - 2048*(285*v0^14 + 344*v0^13 - 77*v0^12)*t^16 + 16*(16496*v0^14 + 16720*v0^13 - 4256*v0^12 + 9221*v0^11)*t^15 + 256*(1158*v0^14 + 2944*v0^13 + 900*v0^12 - 1323*v0^11 + 171*v0^10)*t^14 - 512*(240*v0^14 + 560*v0^13 + 200*v0^12 + 229*v0^11 + 424*v0^10 - 93*v0^9)*t^13 - (80256*v0^14 + 324608*v0^13 + 296832*v0^12 - 223168*v0^11 - 260928*v0^10 + 47744*v0^9 - 20709*v0^8)*t^12 + 16*(1536*v0^14 + 5632*v0^13 + 5184*v0^12 + 4184*v0^11 + 10752*v0^10 + 3600*v0^9 - 5363*v0^8 + 411*v0^7)*t^11 + 32*(480*v0^14 + 2560*v0^13 + 3968*v0^12 - 960*v0^11 - 6144*v0^10 - 2080*v0^9 + 707*v0^8 - 664*v0^7 + 141*v0^6)*t^10 - 4*(448*v0^14 + 2240*v0^13 + 3264*v0^12 + 5208*v0^11 + 17600*v0^10 + 16632*v0^9 - 11879*v0^8 - 13685*v0^7 + 2186*v0^6 - 282*v0^5)*t^9 - 8*(192*v0^14 + 1280*v0^13 + 2752*v0^12 + 256*v0^11 - 6272*v0^10 - 5920*v0^9 + 157*v0^8 + 64*v0^7 - 450*v0^6 + 844*v0^5 - 40*v0^4)*t^8 + 64*(60*v0^11 + 320*v0^10 + 496*v0^9 - 30*v0^8 - 558*v0^7 - 185*v0^6 + 103*v0^5 - 10*v0^4 + 2*v0^3)*t^7 + v0^8 + 2*(32*v0^14 + 256*v0^13 + 704*v0^12 + 288*v0^11 - 2112*v0^10 - 3424*v0^9 - 979*v0^8 - 168*v0^7 - 847*v0^6 + 1740*v0^5 + 1772*v0^4 - 240*v0^3 + 8*v0^2)*t^6 + 8*v0^7 - 16*(24*v0^11 + 160*v0^10 + 344*v0^9 + 104*v0^8 - 520*v0^7 - 497*v0^6 + 71*v0^5 + 144*v0^4 + 8*v0^2)*t^5 + 22*v0^6 + 16*(15*v0^8 + 80*v0^7 + 124*v0^6 - 122*v0^4 - 40*v0^3 + 24*v0^2)*t^4 + 16*v0^5 + 4*(4*v0^11 + 32*v0^10 + 88*v0^9 + 57*v0^8 - 159*v0^7 - 275*v0^6 - 35*v0^5 + 170*v0^4 + 94*v0^3 + 16*v0^2 + 8*v0)*t^3 - 31*v0^4 - 8*(3*v0^8 + 20*v0^7 + 43*v0^6 + 16*v0^5 - 54*v0^4 - 52*v0^3 + 8*v0^2 + 16*v0)*t^2 - 56*v0^3 - 8*v0^2 + 32*v0 + 16)^8*t^864]\n",
      "[v0, v1, v2, v3, v4, v5, v6, v7, v8, v9, v10, v11, v12, v13, v14, v15, v16, v17, v18, v19]\n"
     ]
    }
   ],
   "source": [
    "print(str(impl_solset).replace('==','='))\n",
    "print(sorted(var_space.values(), key = lambda vv: int(str(vv)[1:])))"
   ]
  },
  {
   "cell_type": "code",
   "execution_count": 280,
   "metadata": {},
   "outputs": [
    {
     "data": {
      "text/plain": [
       "'[v0 = -1/(v1 - 2), v1 = t*v2 + t*v3 + t*v4 + 1, v4 = v5*v6, v3 = v7*v8, v2 = v10*v9, v6 = t*v11, v5 = -1/(v12 - 2), v8 = t, v7 = -1/(v13 - 2), v10 = t, v9 = -1/(v14 - 2), v11 = v15*v16, v12 = t*v17 + t*v2 + t*v3 + 1, v13 = t*v3 + t*v4 + 1, v14 = t*v2 + t*v4 + 1, v15 = -1/(v18 - 2), v16 = t, v17 = v15*v19, v18 = t*v2 + t*v3 + 1, v19 = 0]'"
      ]
     },
     "execution_count": 280,
     "metadata": {},
     "output_type": "execute_result"
    }
   ],
   "source": [
    "str(system).replace('==','=')\n"
   ]
  },
  {
   "cell_type": "code",
   "execution_count": null,
   "metadata": {},
   "outputs": [],
   "source": []
  }
 ],
 "metadata": {
  "kernelspec": {
   "display_name": "SageMath 9.0",
   "language": "sage",
   "name": "sagemath"
  },
  "language_info": {
   "codemirror_mode": {
    "name": "ipython",
    "version": 3
   },
   "file_extension": ".py",
   "mimetype": "text/x-python",
   "name": "python",
   "nbconvert_exporter": "python",
   "pygments_lexer": "ipython3",
   "version": "3.7.3"
  }
 },
 "nbformat": 4,
 "nbformat_minor": 2
}
