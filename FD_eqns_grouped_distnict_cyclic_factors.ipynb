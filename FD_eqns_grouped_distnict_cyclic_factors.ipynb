{
 "cells": [
  {
   "cell_type": "markdown",
   "metadata": {},
   "source": [
    "# FD equations for the cogrowth sequence of $G=\\mathbb{Z}_{n_1}^{*m_1}*\\mathbb{Z}_{n_2}^{*m_2}*...*\\mathbb{Z}_{n_k}^{*m_k}$, $n_1\\ge 2$, each $m_i$ parameter or positive integer\n",
    "\n",
    "Write $G=*_{i=1}^k *_{j=1}^{m_i} \\langle x_{i,j} | x_{i,j}^{m_i} \\rangle$.\n",
    "Generating set is $S=\\bigcup\\{\\{x_{i,j},x_{i,j}^{-1}\\}: 1\\le i \\le k,1\\le j \\le m_i\\}$. We denote $x_i$ as any $x_{i,j},j\\le m_i$."
   ]
  },
  {
   "cell_type": "code",
   "execution_count": 1,
   "metadata": {},
   "outputs": [],
   "source": [
    "varstring ='m1 m2 m3 t'\n",
    "var(varstring)\n",
    "nis = [2,3,5]\n",
    "dups = [m1,m2,m3]"
   ]
  },
  {
   "cell_type": "code",
   "execution_count": 2,
   "metadata": {},
   "outputs": [],
   "source": [
    "def group_notation_latex():\n",
    "    latexstr = []\n",
    "    Z = r'\\mathbb{Z}'\n",
    "    for ni,mi in zip(nis,dups):\n",
    "        latexstr.append('%s_{%s}'%(Z,ni)+('^{*%s}'%latex(mi) if mi!=1 else '') )\n",
    "    return '*'.join(latexstr)"
   ]
  },
  {
   "cell_type": "code",
   "execution_count": 3,
   "metadata": {},
   "outputs": [
    {
     "name": "stdout",
     "output_type": "stream",
     "text": [
      "\\mathbb{Z}_{2}^{*m_{1}}*\\mathbb{Z}_{3}^{*m_{2}}*\\mathbb{Z}_{5}^{*m_{3}}\n"
     ]
    },
    {
     "data": {
      "text/html": [
       "<html><script type=\"math/tex; mode=display\">\\newcommand{\\Bold}[1]{\\mathbf{#1}}\\verb|Generate|\\phantom{\\verb!x!}\\verb|Grammar|\\phantom{\\verb!x!}\\verb|for| \\,\\,\\mathbb{Z}_{2}^{*m_{1}}*\\mathbb{Z}_{3}^{*m_{2}}*\\mathbb{Z}_{5}^{*m_{3}}</script></html>"
      ],
      "text/plain": [
       "'Generate Grammar for ' \\,\\,\\mathbb{Z}_{2}^{*m_{1}}*\\mathbb{Z}_{3}^{*m_{2}}*\\mathbb{Z}_{5}^{*m_{3}}"
      ]
     },
     "metadata": {},
     "output_type": "display_data"
    }
   ],
   "source": [
    "_lts = group_notation_latex()\n",
    "print(_lts)\n",
    "pretty_print('Generate Grammar for ',LatexExpr('\\\\,\\\\,'+_lts))"
   ]
  },
  {
   "cell_type": "code",
   "execution_count": 4,
   "metadata": {},
   "outputs": [],
   "source": [
    "## do not change!\n",
    "\n",
    "params = [v for v in dups if type(v) not in [int,ZZ]]\n",
    "\n",
    "k = len(nis)\n",
    "\n",
    "# Compute free group and gen set\n",
    "Fk = FreeGroup(k,['x%d'%i for i in (1..k)])\n",
    "\n",
    "assert(list(map(str,Fk.gens()))==['x%d'%i for i in (1..k)]) # make sure that generators are named xi, i=1,...,k\n",
    "\n",
    "xs = Fk.gens() # the gens xi=xs[i-1]\n",
    "rel = []\n",
    "for v,n in zip(xs,nis):\n",
    "    rel.append(v^n)\n",
    "G = Fk/ tuple(rel)\n",
    "\n",
    "xs = G.gens()"
   ]
  },
  {
   "cell_type": "code",
   "execution_count": 5,
   "metadata": {},
   "outputs": [
    {
     "data": {
      "text/plain": [
       "Rewriting system of Finitely presented group < x1, x2, x3 | x1^2, x2^3, x3^5 >\n",
       "with rules:\n",
       "    x1^-1    --->    x1\n",
       "    x1^2    --->    1\n",
       "    x2^-2    --->    x2\n",
       "    x2^2    --->    x2^-1\n",
       "    x3^-3    --->    x3^2\n",
       "    x3^3    --->    x3^-2"
      ]
     },
     "execution_count": 5,
     "metadata": {},
     "output_type": "execute_result"
    }
   ],
   "source": [
    "Grs = G.rewriting_system() # a rewriting system to simplfy elements\n",
    "Grs.make_confluent() # this guarrantees that equivalent elements map to a UNIQUE expression\n",
    "\n",
    "def recmap(f):\n",
    "    # f: an single argument function\n",
    "    def _recmap_f(obj):\n",
    "        # obj: atomic element or an iterable collection of them\n",
    "        # return the reduced form for the element via a single argument function f,\n",
    "        #    of the same iterable type, with each element recursively reduced\n",
    "        try:\n",
    "            iter(obj)\n",
    "        except:\n",
    "            # not iterable, so must be one atomic element\n",
    "            return f(obj)\n",
    "        container = type(obj)\n",
    "        return container(list(map(_recmap_f, obj)))\n",
    "    return _recmap_f\n",
    "\n",
    "rd = recmap(Grs.reduce) # reduce elements of G, or iterable collections of them\n",
    "Grs"
   ]
  },
  {
   "cell_type": "code",
   "execution_count": 6,
   "metadata": {},
   "outputs": [
    {
     "name": "stdout",
     "output_type": "stream",
     "text": [
      "[{x1}, {x2, x2^-1}, {x3^-1, x3}]\n"
     ]
    }
   ],
   "source": [
    "Sis = [Set(rd([xi,xi^-1])) for xi in xs]\n",
    "print(Sis)"
   ]
  },
  {
   "cell_type": "code",
   "execution_count": 7,
   "metadata": {},
   "outputs": [
    {
     "data": {
      "text/plain": [
       "([{x1}, {x2, x2^-1}, {x3^-1, x3}], {x1, x2, x3^-1, x3, x2^-1})"
      ]
     },
     "execution_count": 7,
     "metadata": {},
     "output_type": "execute_result"
    }
   ],
   "source": [
    "S = set()\n",
    "for A in Sis:\n",
    "    S.update(A)\n",
    "S= Set(S)\n",
    "Sis,S"
   ]
  },
  {
   "cell_type": "code",
   "execution_count": 8,
   "metadata": {},
   "outputs": [],
   "source": [
    "# latex expression for sets\n",
    "def set_to_latex(A):\n",
    "    if A == Set():\n",
    "        return r'\\varnothing'\n",
    "    return latex(A)"
   ]
  },
  {
   "cell_type": "code",
   "execution_count": 9,
   "metadata": {},
   "outputs": [],
   "source": [
    "# define a space of variables indexed by the (g,X) pairs\n",
    "# start with what we wish to solve, (1,\\emptyset).\n",
    "def series_expression(g,X):\n",
    "    return 'F_{%s,%s}(t)'%(latex(g),set_to_latex(X))\n",
    "var_space = {}\n",
    "goal_pair = (G.one(), Set())\n",
    "VAR_COUNTER = 0 # increment every time a new series variable is defined\n",
    "\n",
    "def add_series_var(pair):\n",
    "    if pair in var_space:\n",
    "        return False\n",
    "    global VAR_COUNTER\n",
    "    g,X = pair\n",
    "    var_space[pair] = var('v%d'%VAR_COUNTER, latex_name = series_expression(g,X))\n",
    "    VAR_COUNTER += 1\n",
    "    return True\n",
    "\n",
    "def reset_var_space():\n",
    "    global VAR_COUNTER\n",
    "    var_space.clear()\n",
    "    VAR_COUNTER=0\n",
    "    add_series_var(goal_pair)\n",
    "    \n",
    "reset_var_space()"
   ]
  },
  {
   "cell_type": "code",
   "execution_count": 10,
   "metadata": {},
   "outputs": [
    {
     "data": {
      "text/html": [
       "<html><script type=\"math/tex; mode=display\">\\newcommand{\\Bold}[1]{\\mathbf{#1}}\\left\\{\\left(1, \\left\\{\\right\\}\\right) : {F_{1,\\varnothing}(t)}\\right\\}</script></html>"
      ],
      "text/plain": [
       "{(1, {}): v0}"
      ]
     },
     "metadata": {},
     "output_type": "display_data"
    }
   ],
   "source": [
    "pretty_print(var_space)"
   ]
  },
  {
   "cell_type": "code",
   "execution_count": 11,
   "metadata": {},
   "outputs": [],
   "source": [
    "# need to define set-set, set-element multiplication\n",
    "def set_mult(A,B):\n",
    "    # turn any non-set object into a singleton set containing that object\n",
    "    # assume elements all belong to G, and written in reduced from\n",
    "    A,B = map(lambda S: S if S in Sets else Set([S]),[A,B])\n",
    "    C= Set([a*b for a,b in cartesian_product([A,B])]) # assuming element multiplication is well defined\n",
    "    return rd(C)\n",
    "\n",
    "# Let's overload the '*' operator for Set objects\n",
    "# Set is a function, but returns an instance of some spectifed kind of Set class, which is accessible via .parent()\n",
    "reverse_if = lambda seq, cond: list(seq) if not cond else list(reversed(seq))\n",
    "Set().parent()._mul_ =  lambda self, other, switch_sides=False: set_mult(*(reverse_if([self,other], switch_sides)))"
   ]
  },
  {
   "cell_type": "code",
   "execution_count": 12,
   "metadata": {},
   "outputs": [],
   "source": [
    "# Now get the cyclic factors\n",
    "\n",
    "\n",
    "def in_cyclic_factor(el, v):\n",
    "    '''\n",
    "        returns if the group element is in the given cyclic factor\n",
    "        el: the element in G to check\n",
    "        v: one of the xi's, the generator of the factor \n",
    "    '''\n",
    "    expr = el.syllables()\n",
    "    if not expr:\n",
    "        return True\n",
    "    return len(expr)==1 and expr[0][0] == v\n",
    "    \n",
    "def subset_of_cyclic_factor(A,v):\n",
    "    # assume A is a finite sets\n",
    "    return all((in_cyclic_factor(el,v) for el in A))"
   ]
  },
  {
   "cell_type": "code",
   "execution_count": 13,
   "metadata": {},
   "outputs": [],
   "source": [
    "# construct the functional equation given the desired (g,X) pair\n",
    "# assume {g}\\cup X is completely in one of the cyclic factors\n",
    "# CURRENTLY FINITE CASE ONLY\n",
    "\n",
    "def get_FD_equation(pair, ret_new_pairs = True):\n",
    "    '''\n",
    "        returns a functional depency equation\n",
    "        if ret_new_pairs is set to True, return a (equation, set of (g,X) pairs) pair instead\n",
    "        assume g,X are rewritten in simplest form\n",
    "    '''\n",
    "    if ret_new_pairs:\n",
    "        newpairs = set()\n",
    "    g,X = pair\n",
    "    eqn = None\n",
    "    one = G.one()\n",
    "    oneset = Set([one])\n",
    "    if one not in X:\n",
    "        XU1 = X.union(oneset)\n",
    "        if add_series_var((one,X)) and ret_new_pairs:\n",
    "            newpairs.add((one,X))\n",
    "        if add_series_var((g,XU1)) and ret_new_pairs:\n",
    "            newpairs.add((g,XU1))\n",
    "        if g==one:\n",
    "            eqn = 1+var_space[(one,X)]*(var_space[(one,XU1)]-1)\n",
    "        else:\n",
    "            eqn = var_space[(one,X)]*var_space[(g,XU1)]\n",
    "    else:\n",
    "        for v,gen in zip(xs, Sis):\n",
    "            if subset_of_cyclic_factor(X,v):\n",
    "                if g!=one:\n",
    "                    eqn = t*ZZ(g in gen)\n",
    "                    for s in gen-X:\n",
    "                        [gs] = rd(s^-1)*Set([g]) # use set so auto reduction is implemented\n",
    "                        Xs = rd(s^-1)*X\n",
    "                        if add_series_var((gs,Xs)) and ret_new_pairs:\n",
    "                            newpairs.add((gs,Xs))\n",
    "                        eqn += t*var_space[(gs,Xs)]\n",
    "                else:\n",
    "                    eqn = 1*t^0\n",
    "                    for gen_ext, nrep in zip(Sis,dups):\n",
    "                        for s in gen_ext:\n",
    "                            sinv = rd(s^-1)\n",
    "                            set_sinv = Set([sinv])\n",
    "                            if add_series_var((sinv,set_sinv)) and ret_new_pairs:\n",
    "                                newpairs.add((sinv,set_sinv))\n",
    "                            # need to subtract one when the gen set is within the same class of factors as {v}\\cup X\n",
    "                            eqn += t*var_space[(sinv,set_sinv)]*(nrep-ZZ(gen_ext==gen))\n",
    "                    for s in gen-X:\n",
    "                        [gs] = rd(s^-1)*Set([g]) # use set so auto reduction is implemented\n",
    "                        Xs = rd(s^-1)*X\n",
    "                        if add_series_var((gs,Xs)) and ret_new_pairs:\n",
    "                            newpairs.add((gs,Xs))\n",
    "                        eqn += t*var_space[(gs,Xs)]\n",
    "                \n",
    "                break\n",
    "    eqn = var_space[pair]==eqn\n",
    "    return (eqn,newpairs) if ret_new_pairs else eqn"
   ]
  },
  {
   "cell_type": "code",
   "execution_count": 14,
   "metadata": {},
   "outputs": [],
   "source": [
    "# Let us build the system of equations\n",
    "\n",
    "\n",
    "reset_var_space()\n",
    "\n",
    "system = []\n",
    "queue = [goal_pair]\n",
    "\n",
    "# use BFS\n",
    "while queue:\n",
    "    pair = queue.pop(0)\n",
    "    #pretty_print(pair)\n",
    "    eqn, newp = get_FD_equation(pair)\n",
    "    queue.extend(newp)\n",
    "    system.append(eqn)"
   ]
  },
  {
   "cell_type": "code",
   "execution_count": 15,
   "metadata": {},
   "outputs": [
    {
     "name": "stdout",
     "output_type": "stream",
     "text": [
      "{F_{1,\\varnothing}(t)} = {F_{1,\\varnothing}(t)} {\\left({F_{1,\\left\\{1\\right\\}}(t)} - 1\\right)} + 1 \\\\\n",
      "{F_{1,\\left\\{1\\right\\}}(t)} = {\\left(m_{1} - 1\\right)} t {F_{x_{1},\\left\\{x_{1}\\right\\}}(t)} + m_{2} t {F_{x_{2}^{-1},\\left\\{x_{2}^{-1}\\right\\}}(t)} + m_{2} t {F_{x_{2},\\left\\{x_{2}\\right\\}}(t)} + m_{3} t {F_{x_{3},\\left\\{x_{3}\\right\\}}(t)} + m_{3} t {F_{x_{3}^{-1},\\left\\{x_{3}^{-1}\\right\\}}(t)} + t {F_{x_{1},\\left\\{x_{1}\\right\\}}(t)} + 1 \\\\\n",
      "{F_{x_{2},\\left\\{x_{2}\\right\\}}(t)} = {F_{1,\\left\\{x_{2}\\right\\}}(t)} {F_{x_{2},\\left\\{x_{2}, 1\\right\\}}(t)} \\\\\n",
      "{F_{x_{3},\\left\\{x_{3}\\right\\}}(t)} = {F_{x_{3},\\left\\{1, x_{3}\\right\\}}(t)} {F_{1,\\left\\{x_{3}\\right\\}}(t)} \\\\\n",
      "{F_{x_{3}^{-1},\\left\\{x_{3}^{-1}\\right\\}}(t)} = {F_{1,\\left\\{x_{3}^{-1}\\right\\}}(t)} {F_{x_{3}^{-1},\\left\\{x_{3}^{-1}, 1\\right\\}}(t)} \\\\\n",
      "{F_{x_{1},\\left\\{x_{1}\\right\\}}(t)} = {F_{1,\\left\\{x_{1}\\right\\}}(t)} {F_{x_{1},\\left\\{1, x_{1}\\right\\}}(t)} \\\\\n",
      "{F_{x_{2}^{-1},\\left\\{x_{2}^{-1}\\right\\}}(t)} = {F_{1,\\left\\{x_{2}^{-1}\\right\\}}(t)} {F_{x_{2}^{-1},\\left\\{1, x_{2}^{-1}\\right\\}}(t)} \\\\\n",
      "{F_{x_{2},\\left\\{x_{2}, 1\\right\\}}(t)} = t {F_{x_{2}^{-1},\\left\\{x_{2}, x_{2}^{-1}\\right\\}}(t)} + t \\\\\n",
      "{F_{1,\\left\\{x_{2}\\right\\}}(t)} = {\\left({F_{1,\\left\\{x_{2}, 1\\right\\}}(t)} - 1\\right)} {F_{1,\\left\\{x_{2}\\right\\}}(t)} + 1 \\\\\n",
      "{F_{x_{3},\\left\\{1, x_{3}\\right\\}}(t)} = t {F_{x_{3}^{2},\\left\\{x_{3}, x_{3}^{2}\\right\\}}(t)} + t \\\\\n",
      "{F_{1,\\left\\{x_{3}\\right\\}}(t)} = {\\left({F_{1,\\left\\{1, x_{3}\\right\\}}(t)} - 1\\right)} {F_{1,\\left\\{x_{3}\\right\\}}(t)} + 1 \\\\\n",
      "{F_{x_{3}^{-1},\\left\\{x_{3}^{-1}, 1\\right\\}}(t)} = t {F_{x_{3}^{-2},\\left\\{x_{3}^{-1}, x_{3}^{-2}\\right\\}}(t)} + t \\\\\n",
      "{F_{1,\\left\\{x_{3}^{-1}\\right\\}}(t)} = {F_{1,\\left\\{x_{3}^{-1}\\right\\}}(t)} {\\left({F_{1,\\left\\{x_{3}^{-1}, 1\\right\\}}(t)} - 1\\right)} + 1 \\\\\n",
      "{F_{1,\\left\\{x_{1}\\right\\}}(t)} = {F_{1,\\left\\{x_{1}\\right\\}}(t)} {\\left({F_{1,\\left\\{1, x_{1}\\right\\}}(t)} - 1\\right)} + 1 \\\\\n",
      "{F_{x_{1},\\left\\{1, x_{1}\\right\\}}(t)} = t \\\\\n",
      "{F_{x_{2}^{-1},\\left\\{1, x_{2}^{-1}\\right\\}}(t)} = t {F_{x_{2},\\left\\{x_{2}, x_{2}^{-1}\\right\\}}(t)} + t \\\\\n",
      "{F_{1,\\left\\{x_{2}^{-1}\\right\\}}(t)} = {F_{1,\\left\\{x_{2}^{-1}\\right\\}}(t)} {\\left({F_{1,\\left\\{1, x_{2}^{-1}\\right\\}}(t)} - 1\\right)} + 1 \\\\\n",
      "{F_{x_{2}^{-1},\\left\\{x_{2}, x_{2}^{-1}\\right\\}}(t)} = {F_{1,\\left\\{x_{2}, x_{2}^{-1}\\right\\}}(t)} {F_{x_{2}^{-1},\\left\\{x_{2}, 1, x_{2}^{-1}\\right\\}}(t)} \\\\\n",
      "{F_{1,\\left\\{x_{2}, 1\\right\\}}(t)} = m_{1} t {F_{x_{1},\\left\\{x_{1}\\right\\}}(t)} + {\\left(m_{2} - 1\\right)} t {F_{x_{2}^{-1},\\left\\{x_{2}^{-1}\\right\\}}(t)} + {\\left(m_{2} - 1\\right)} t {F_{x_{2},\\left\\{x_{2}\\right\\}}(t)} + m_{3} t {F_{x_{3},\\left\\{x_{3}\\right\\}}(t)} + m_{3} t {F_{x_{3}^{-1},\\left\\{x_{3}^{-1}\\right\\}}(t)} + t {F_{x_{2},\\left\\{x_{2}, x_{2}^{-1}\\right\\}}(t)} + 1 \\\\\n",
      "{F_{x_{3}^{2},\\left\\{x_{3}, x_{3}^{2}\\right\\}}(t)} = {F_{1,\\left\\{x_{3}, x_{3}^{2}\\right\\}}(t)} {F_{x_{3}^{2},\\left\\{1, x_{3}, x_{3}^{2}\\right\\}}(t)} \\\\\n",
      "{F_{1,\\left\\{1, x_{3}\\right\\}}(t)} = m_{1} t {F_{x_{1},\\left\\{x_{1}\\right\\}}(t)} + m_{2} t {F_{x_{2}^{-1},\\left\\{x_{2}^{-1}\\right\\}}(t)} + m_{2} t {F_{x_{2},\\left\\{x_{2}\\right\\}}(t)} + {\\left(m_{3} - 1\\right)} t {F_{x_{3},\\left\\{x_{3}\\right\\}}(t)} + {\\left(m_{3} - 1\\right)} t {F_{x_{3}^{-1},\\left\\{x_{3}^{-1}\\right\\}}(t)} + t {F_{x_{3},\\left\\{x_{3}, x_{3}^{2}\\right\\}}(t)} + 1 \\\\\n",
      "{F_{x_{3}^{-2},\\left\\{x_{3}^{-1}, x_{3}^{-2}\\right\\}}(t)} = {F_{1,\\left\\{x_{3}^{-1}, x_{3}^{-2}\\right\\}}(t)} {F_{x_{3}^{-2},\\left\\{x_{3}^{-1}, 1, x_{3}^{-2}\\right\\}}(t)} \\\\\n",
      "{F_{1,\\left\\{x_{3}^{-1}, 1\\right\\}}(t)} = m_{1} t {F_{x_{1},\\left\\{x_{1}\\right\\}}(t)} + m_{2} t {F_{x_{2}^{-1},\\left\\{x_{2}^{-1}\\right\\}}(t)} + m_{2} t {F_{x_{2},\\left\\{x_{2}\\right\\}}(t)} + {\\left(m_{3} - 1\\right)} t {F_{x_{3},\\left\\{x_{3}\\right\\}}(t)} + {\\left(m_{3} - 1\\right)} t {F_{x_{3}^{-1},\\left\\{x_{3}^{-1}\\right\\}}(t)} + t {F_{x_{3}^{-1},\\left\\{x_{3}^{-1}, x_{3}^{-2}\\right\\}}(t)} + 1 \\\\\n",
      "{F_{1,\\left\\{1, x_{1}\\right\\}}(t)} = {\\left(m_{1} - 1\\right)} t {F_{x_{1},\\left\\{x_{1}\\right\\}}(t)} + m_{2} t {F_{x_{2}^{-1},\\left\\{x_{2}^{-1}\\right\\}}(t)} + m_{2} t {F_{x_{2},\\left\\{x_{2}\\right\\}}(t)} + m_{3} t {F_{x_{3},\\left\\{x_{3}\\right\\}}(t)} + m_{3} t {F_{x_{3}^{-1},\\left\\{x_{3}^{-1}\\right\\}}(t)} + 1 \\\\\n",
      "{F_{x_{2},\\left\\{x_{2}, x_{2}^{-1}\\right\\}}(t)} = {F_{1,\\left\\{x_{2}, x_{2}^{-1}\\right\\}}(t)} {F_{x_{2},\\left\\{x_{2}, 1, x_{2}^{-1}\\right\\}}(t)} \\\\\n",
      "{F_{1,\\left\\{1, x_{2}^{-1}\\right\\}}(t)} = m_{1} t {F_{x_{1},\\left\\{x_{1}\\right\\}}(t)} + {\\left(m_{2} - 1\\right)} t {F_{x_{2}^{-1},\\left\\{x_{2}^{-1}\\right\\}}(t)} + {\\left(m_{2} - 1\\right)} t {F_{x_{2},\\left\\{x_{2}\\right\\}}(t)} + m_{3} t {F_{x_{3},\\left\\{x_{3}\\right\\}}(t)} + m_{3} t {F_{x_{3}^{-1},\\left\\{x_{3}^{-1}\\right\\}}(t)} + t {F_{x_{2}^{-1},\\left\\{x_{2}, x_{2}^{-1}\\right\\}}(t)} + 1 \\\\\n",
      "{F_{1,\\left\\{x_{2}, x_{2}^{-1}\\right\\}}(t)} = {F_{1,\\left\\{x_{2}, x_{2}^{-1}\\right\\}}(t)} {\\left({F_{1,\\left\\{x_{2}, 1, x_{2}^{-1}\\right\\}}(t)} - 1\\right)} + 1 \\\\\n",
      "{F_{x_{2}^{-1},\\left\\{x_{2}, 1, x_{2}^{-1}\\right\\}}(t)} = t \\\\\n",
      "{F_{1,\\left\\{x_{3}, x_{3}^{2}\\right\\}}(t)} = {F_{1,\\left\\{x_{3}, x_{3}^{2}\\right\\}}(t)} {\\left({F_{1,\\left\\{1, x_{3}, x_{3}^{2}\\right\\}}(t)} - 1\\right)} + 1 \\\\\n",
      "{F_{x_{3}^{2},\\left\\{1, x_{3}, x_{3}^{2}\\right\\}}(t)} = t {F_{x_{3}^{-2},\\left\\{x_{3}, x_{3}^{-2}, x_{3}^{2}\\right\\}}(t)} \\\\\n",
      "{F_{x_{3},\\left\\{x_{3}, x_{3}^{2}\\right\\}}(t)} = {F_{1,\\left\\{x_{3}, x_{3}^{2}\\right\\}}(t)} {F_{x_{3},\\left\\{1, x_{3}, x_{3}^{2}\\right\\}}(t)} \\\\\n",
      "{F_{1,\\left\\{x_{3}^{-1}, x_{3}^{-2}\\right\\}}(t)} = {F_{1,\\left\\{x_{3}^{-1}, x_{3}^{-2}\\right\\}}(t)} {\\left({F_{1,\\left\\{x_{3}^{-1}, 1, x_{3}^{-2}\\right\\}}(t)} - 1\\right)} + 1 \\\\\n",
      "{F_{x_{3}^{-2},\\left\\{x_{3}^{-1}, 1, x_{3}^{-2}\\right\\}}(t)} = t {F_{x_{3}^{2},\\left\\{x_{3}^{-1}, x_{3}^{-2}, x_{3}^{2}\\right\\}}(t)} \\\\\n",
      "{F_{x_{3}^{-1},\\left\\{x_{3}^{-1}, x_{3}^{-2}\\right\\}}(t)} = {F_{1,\\left\\{x_{3}^{-1}, x_{3}^{-2}\\right\\}}(t)} {F_{x_{3}^{-1},\\left\\{x_{3}^{-1}, 1, x_{3}^{-2}\\right\\}}(t)} \\\\\n",
      "{F_{x_{2},\\left\\{x_{2}, 1, x_{2}^{-1}\\right\\}}(t)} = t \\\\\n",
      "{F_{1,\\left\\{x_{2}, 1, x_{2}^{-1}\\right\\}}(t)} = m_{1} t {F_{x_{1},\\left\\{x_{1}\\right\\}}(t)} + {\\left(m_{2} - 1\\right)} t {F_{x_{2}^{-1},\\left\\{x_{2}^{-1}\\right\\}}(t)} + {\\left(m_{2} - 1\\right)} t {F_{x_{2},\\left\\{x_{2}\\right\\}}(t)} + m_{3} t {F_{x_{3},\\left\\{x_{3}\\right\\}}(t)} + m_{3} t {F_{x_{3}^{-1},\\left\\{x_{3}^{-1}\\right\\}}(t)} + 1 \\\\\n",
      "{F_{1,\\left\\{1, x_{3}, x_{3}^{2}\\right\\}}(t)} = m_{1} t {F_{x_{1},\\left\\{x_{1}\\right\\}}(t)} + m_{2} t {F_{x_{2}^{-1},\\left\\{x_{2}^{-1}\\right\\}}(t)} + m_{2} t {F_{x_{2},\\left\\{x_{2}\\right\\}}(t)} + {\\left(m_{3} - 1\\right)} t {F_{x_{3},\\left\\{x_{3}\\right\\}}(t)} + {\\left(m_{3} - 1\\right)} t {F_{x_{3}^{-1},\\left\\{x_{3}^{-1}\\right\\}}(t)} + t {F_{x_{3},\\left\\{x_{3}, x_{3}^{-2}, x_{3}^{2}\\right\\}}(t)} + 1 \\\\\n",
      "{F_{x_{3}^{-2},\\left\\{x_{3}, x_{3}^{-2}, x_{3}^{2}\\right\\}}(t)} = {F_{1,\\left\\{x_{3}, x_{3}^{-2}, x_{3}^{2}\\right\\}}(t)} {F_{x_{3}^{-2},\\left\\{1, x_{3}, x_{3}^{-2}, x_{3}^{2}\\right\\}}(t)} \\\\\n",
      "{F_{x_{3},\\left\\{1, x_{3}, x_{3}^{2}\\right\\}}(t)} = t {F_{x_{3}^{2},\\left\\{x_{3}, x_{3}^{-2}, x_{3}^{2}\\right\\}}(t)} + t \\\\\n",
      "{F_{1,\\left\\{x_{3}^{-1}, 1, x_{3}^{-2}\\right\\}}(t)} = m_{1} t {F_{x_{1},\\left\\{x_{1}\\right\\}}(t)} + m_{2} t {F_{x_{2}^{-1},\\left\\{x_{2}^{-1}\\right\\}}(t)} + m_{2} t {F_{x_{2},\\left\\{x_{2}\\right\\}}(t)} + {\\left(m_{3} - 1\\right)} t {F_{x_{3},\\left\\{x_{3}\\right\\}}(t)} + {\\left(m_{3} - 1\\right)} t {F_{x_{3}^{-1},\\left\\{x_{3}^{-1}\\right\\}}(t)} + t {F_{x_{3}^{-1},\\left\\{x_{3}^{-1}, x_{3}^{-2}, x_{3}^{2}\\right\\}}(t)} + 1 \\\\\n",
      "{F_{x_{3}^{2},\\left\\{x_{3}^{-1}, x_{3}^{-2}, x_{3}^{2}\\right\\}}(t)} = {F_{1,\\left\\{x_{3}^{-1}, x_{3}^{-2}, x_{3}^{2}\\right\\}}(t)} {F_{x_{3}^{2},\\left\\{x_{3}^{-1}, 1, x_{3}^{-2}, x_{3}^{2}\\right\\}}(t)} \\\\\n",
      "{F_{x_{3}^{-1},\\left\\{x_{3}^{-1}, 1, x_{3}^{-2}\\right\\}}(t)} = t {F_{x_{3}^{-2},\\left\\{x_{3}^{-1}, x_{3}^{-2}, x_{3}^{2}\\right\\}}(t)} + t \\\\\n",
      "{F_{x_{3},\\left\\{x_{3}, x_{3}^{-2}, x_{3}^{2}\\right\\}}(t)} = {F_{1,\\left\\{x_{3}, x_{3}^{-2}, x_{3}^{2}\\right\\}}(t)} {F_{x_{3},\\left\\{1, x_{3}, x_{3}^{-2}, x_{3}^{2}\\right\\}}(t)} \\\\\n",
      "{F_{x_{3}^{-2},\\left\\{1, x_{3}, x_{3}^{-2}, x_{3}^{2}\\right\\}}(t)} = t {F_{x_{3}^{-1},\\left\\{x_{3}^{-1}, x_{3}, x_{3}^{-2}, x_{3}^{2}\\right\\}}(t)} \\\\\n",
      "{F_{1,\\left\\{x_{3}, x_{3}^{-2}, x_{3}^{2}\\right\\}}(t)} = {F_{1,\\left\\{x_{3}, x_{3}^{-2}, x_{3}^{2}\\right\\}}(t)} {\\left({F_{1,\\left\\{1, x_{3}, x_{3}^{-2}, x_{3}^{2}\\right\\}}(t)} - 1\\right)} + 1 \\\\\n",
      "{F_{x_{3}^{2},\\left\\{x_{3}, x_{3}^{-2}, x_{3}^{2}\\right\\}}(t)} = {F_{1,\\left\\{x_{3}, x_{3}^{-2}, x_{3}^{2}\\right\\}}(t)} {F_{x_{3}^{2},\\left\\{1, x_{3}, x_{3}^{-2}, x_{3}^{2}\\right\\}}(t)} \\\\\n",
      "{F_{x_{3}^{-1},\\left\\{x_{3}^{-1}, x_{3}^{-2}, x_{3}^{2}\\right\\}}(t)} = {F_{1,\\left\\{x_{3}^{-1}, x_{3}^{-2}, x_{3}^{2}\\right\\}}(t)} {F_{x_{3}^{-1},\\left\\{x_{3}^{-1}, 1, x_{3}^{-2}, x_{3}^{2}\\right\\}}(t)} \\\\\n",
      "{F_{x_{3}^{2},\\left\\{x_{3}^{-1}, 1, x_{3}^{-2}, x_{3}^{2}\\right\\}}(t)} = t {F_{x_{3},\\left\\{x_{3}^{-1}, x_{3}, x_{3}^{-2}, x_{3}^{2}\\right\\}}(t)} \\\\\n",
      "{F_{1,\\left\\{x_{3}^{-1}, x_{3}^{-2}, x_{3}^{2}\\right\\}}(t)} = {F_{1,\\left\\{x_{3}^{-1}, x_{3}^{-2}, x_{3}^{2}\\right\\}}(t)} {\\left({F_{1,\\left\\{x_{3}^{-1}, 1, x_{3}^{-2}, x_{3}^{2}\\right\\}}(t)} - 1\\right)} + 1 \\\\\n",
      "{F_{x_{3}^{-2},\\left\\{x_{3}^{-1}, x_{3}^{-2}, x_{3}^{2}\\right\\}}(t)} = {F_{1,\\left\\{x_{3}^{-1}, x_{3}^{-2}, x_{3}^{2}\\right\\}}(t)} {F_{x_{3}^{-2},\\left\\{x_{3}^{-1}, 1, x_{3}^{-2}, x_{3}^{2}\\right\\}}(t)} \\\\\n",
      "{F_{x_{3},\\left\\{1, x_{3}, x_{3}^{-2}, x_{3}^{2}\\right\\}}(t)} = t {F_{x_{3}^{2},\\left\\{x_{3}^{-1}, x_{3}, x_{3}^{-2}, x_{3}^{2}\\right\\}}(t)} + t \\\\\n",
      "{F_{x_{3}^{-1},\\left\\{x_{3}^{-1}, x_{3}, x_{3}^{-2}, x_{3}^{2}\\right\\}}(t)} = {F_{1,\\left\\{x_{3}^{-1}, x_{3}, x_{3}^{-2}, x_{3}^{2}\\right\\}}(t)} {F_{x_{3}^{-1},\\left\\{1, x_{3}^{-2}, x_{3}^{2}, x_{3}^{-1}, x_{3}\\right\\}}(t)} \\\\\n",
      "{F_{1,\\left\\{1, x_{3}, x_{3}^{-2}, x_{3}^{2}\\right\\}}(t)} = m_{1} t {F_{x_{1},\\left\\{x_{1}\\right\\}}(t)} + m_{2} t {F_{x_{2}^{-1},\\left\\{x_{2}^{-1}\\right\\}}(t)} + m_{2} t {F_{x_{2},\\left\\{x_{2}\\right\\}}(t)} + {\\left(m_{3} - 1\\right)} t {F_{x_{3},\\left\\{x_{3}\\right\\}}(t)} + {\\left(m_{3} - 1\\right)} t {F_{x_{3}^{-1},\\left\\{x_{3}^{-1}\\right\\}}(t)} + t {F_{x_{3},\\left\\{x_{3}^{-1}, x_{3}, x_{3}^{-2}, x_{3}^{2}\\right\\}}(t)} + 1 \\\\\n",
      "{F_{x_{3}^{2},\\left\\{1, x_{3}, x_{3}^{-2}, x_{3}^{2}\\right\\}}(t)} = t {F_{x_{3}^{-2},\\left\\{x_{3}^{-1}, x_{3}, x_{3}^{-2}, x_{3}^{2}\\right\\}}(t)} \\\\\n",
      "{F_{x_{3}^{-1},\\left\\{x_{3}^{-1}, 1, x_{3}^{-2}, x_{3}^{2}\\right\\}}(t)} = t {F_{x_{3}^{-2},\\left\\{x_{3}^{-1}, x_{3}, x_{3}^{-2}, x_{3}^{2}\\right\\}}(t)} + t \\\\\n",
      "{F_{x_{3},\\left\\{x_{3}^{-1}, x_{3}, x_{3}^{-2}, x_{3}^{2}\\right\\}}(t)} = {F_{1,\\left\\{x_{3}^{-1}, x_{3}, x_{3}^{-2}, x_{3}^{2}\\right\\}}(t)} {F_{x_{3},\\left\\{1, x_{3}^{-2}, x_{3}^{2}, x_{3}^{-1}, x_{3}\\right\\}}(t)} \\\\\n",
      "{F_{1,\\left\\{x_{3}^{-1}, 1, x_{3}^{-2}, x_{3}^{2}\\right\\}}(t)} = m_{1} t {F_{x_{1},\\left\\{x_{1}\\right\\}}(t)} + m_{2} t {F_{x_{2}^{-1},\\left\\{x_{2}^{-1}\\right\\}}(t)} + m_{2} t {F_{x_{2},\\left\\{x_{2}\\right\\}}(t)} + {\\left(m_{3} - 1\\right)} t {F_{x_{3},\\left\\{x_{3}\\right\\}}(t)} + {\\left(m_{3} - 1\\right)} t {F_{x_{3}^{-1},\\left\\{x_{3}^{-1}\\right\\}}(t)} + t {F_{x_{3}^{-1},\\left\\{x_{3}^{-1}, x_{3}, x_{3}^{-2}, x_{3}^{2}\\right\\}}(t)} + 1 \\\\\n",
      "{F_{x_{3}^{-2},\\left\\{x_{3}^{-1}, 1, x_{3}^{-2}, x_{3}^{2}\\right\\}}(t)} = t {F_{x_{3}^{2},\\left\\{x_{3}^{-1}, x_{3}, x_{3}^{-2}, x_{3}^{2}\\right\\}}(t)} \\\\\n",
      "{F_{x_{3}^{2},\\left\\{x_{3}^{-1}, x_{3}, x_{3}^{-2}, x_{3}^{2}\\right\\}}(t)} = {F_{1,\\left\\{x_{3}^{-1}, x_{3}, x_{3}^{-2}, x_{3}^{2}\\right\\}}(t)} {F_{x_{3}^{2},\\left\\{1, x_{3}^{-2}, x_{3}^{2}, x_{3}^{-1}, x_{3}\\right\\}}(t)} \\\\\n",
      "{F_{1,\\left\\{x_{3}^{-1}, x_{3}, x_{3}^{-2}, x_{3}^{2}\\right\\}}(t)} = {F_{1,\\left\\{x_{3}^{-1}, x_{3}, x_{3}^{-2}, x_{3}^{2}\\right\\}}(t)} {\\left({F_{1,\\left\\{1, x_{3}^{-2}, x_{3}^{2}, x_{3}^{-1}, x_{3}\\right\\}}(t)} - 1\\right)} + 1 \\\\\n",
      "{F_{x_{3}^{-1},\\left\\{1, x_{3}^{-2}, x_{3}^{2}, x_{3}^{-1}, x_{3}\\right\\}}(t)} = t \\\\\n",
      "{F_{x_{3}^{-2},\\left\\{x_{3}^{-1}, x_{3}, x_{3}^{-2}, x_{3}^{2}\\right\\}}(t)} = {F_{1,\\left\\{x_{3}^{-1}, x_{3}, x_{3}^{-2}, x_{3}^{2}\\right\\}}(t)} {F_{x_{3}^{-2},\\left\\{1, x_{3}^{-2}, x_{3}^{2}, x_{3}^{-1}, x_{3}\\right\\}}(t)} \\\\\n",
      "{F_{x_{3},\\left\\{1, x_{3}^{-2}, x_{3}^{2}, x_{3}^{-1}, x_{3}\\right\\}}(t)} = t \\\\\n",
      "{F_{x_{3}^{2},\\left\\{1, x_{3}^{-2}, x_{3}^{2}, x_{3}^{-1}, x_{3}\\right\\}}(t)} = 0 \\\\\n",
      "{F_{1,\\left\\{1, x_{3}^{-2}, x_{3}^{2}, x_{3}^{-1}, x_{3}\\right\\}}(t)} = m_{1} t {F_{x_{1},\\left\\{x_{1}\\right\\}}(t)} + m_{2} t {F_{x_{2}^{-1},\\left\\{x_{2}^{-1}\\right\\}}(t)} + m_{2} t {F_{x_{2},\\left\\{x_{2}\\right\\}}(t)} + {\\left(m_{3} - 1\\right)} t {F_{x_{3},\\left\\{x_{3}\\right\\}}(t)} + {\\left(m_{3} - 1\\right)} t {F_{x_{3}^{-1},\\left\\{x_{3}^{-1}\\right\\}}(t)} + 1 \\\\\n",
      "{F_{x_{3}^{-2},\\left\\{1, x_{3}^{-2}, x_{3}^{2}, x_{3}^{-1}, x_{3}\\right\\}}(t)} = 0 \\\\\n",
      "\n",
      "\n"
     ]
    },
    {
     "data": {
      "text/html": [
       "<html><script type=\"math/tex; mode=display\">\\newcommand{\\Bold}[1]{\\mathbf{#1}}{F_{1,\\varnothing}(t)} = {F_{1,\\varnothing}(t)} {\\left({F_{1,\\left\\{1\\right\\}}(t)} - 1\\right)} + 1</script></html>"
      ],
      "text/plain": [
       "v0 == v0*(v1 - 1) + 1"
      ]
     },
     "metadata": {},
     "output_type": "display_data"
    },
    {
     "data": {
      "text/html": [
       "<html><script type=\"math/tex; mode=display\">\\newcommand{\\Bold}[1]{\\mathbf{#1}}{F_{1,\\left\\{1\\right\\}}(t)} = {\\left(m_{1} - 1\\right)} t {F_{x_{1},\\left\\{x_{1}\\right\\}}(t)} + m_{2} t {F_{x_{2}^{-1},\\left\\{x_{2}^{-1}\\right\\}}(t)} + m_{2} t {F_{x_{2},\\left\\{x_{2}\\right\\}}(t)} + m_{3} t {F_{x_{3},\\left\\{x_{3}\\right\\}}(t)} + m_{3} t {F_{x_{3}^{-1},\\left\\{x_{3}^{-1}\\right\\}}(t)} + t {F_{x_{1},\\left\\{x_{1}\\right\\}}(t)} + 1</script></html>"
      ],
      "text/plain": [
       "v1 == (m1 - 1)*t*v2 + m2*t*v3 + m2*t*v4 + m3*t*v5 + m3*t*v6 + t*v2 + 1"
      ]
     },
     "metadata": {},
     "output_type": "display_data"
    },
    {
     "data": {
      "text/html": [
       "<html><script type=\"math/tex; mode=display\">\\newcommand{\\Bold}[1]{\\mathbf{#1}}{F_{x_{2},\\left\\{x_{2}\\right\\}}(t)} = {F_{1,\\left\\{x_{2}\\right\\}}(t)} {F_{x_{2},\\left\\{x_{2}, 1\\right\\}}(t)}</script></html>"
      ],
      "text/plain": [
       "v4 == v7*v8"
      ]
     },
     "metadata": {},
     "output_type": "display_data"
    },
    {
     "data": {
      "text/html": [
       "<html><script type=\"math/tex; mode=display\">\\newcommand{\\Bold}[1]{\\mathbf{#1}}{F_{x_{3},\\left\\{x_{3}\\right\\}}(t)} = {F_{x_{3},\\left\\{1, x_{3}\\right\\}}(t)} {F_{1,\\left\\{x_{3}\\right\\}}(t)}</script></html>"
      ],
      "text/plain": [
       "v5 == v10*v9"
      ]
     },
     "metadata": {},
     "output_type": "display_data"
    },
    {
     "data": {
      "text/html": [
       "<html><script type=\"math/tex; mode=display\">\\newcommand{\\Bold}[1]{\\mathbf{#1}}{F_{x_{3}^{-1},\\left\\{x_{3}^{-1}\\right\\}}(t)} = {F_{1,\\left\\{x_{3}^{-1}\\right\\}}(t)} {F_{x_{3}^{-1},\\left\\{x_{3}^{-1}, 1\\right\\}}(t)}</script></html>"
      ],
      "text/plain": [
       "v6 == v11*v12"
      ]
     },
     "metadata": {},
     "output_type": "display_data"
    },
    {
     "data": {
      "text/html": [
       "<html><script type=\"math/tex; mode=display\">\\newcommand{\\Bold}[1]{\\mathbf{#1}}{F_{x_{1},\\left\\{x_{1}\\right\\}}(t)} = {F_{1,\\left\\{x_{1}\\right\\}}(t)} {F_{x_{1},\\left\\{1, x_{1}\\right\\}}(t)}</script></html>"
      ],
      "text/plain": [
       "v2 == v13*v14"
      ]
     },
     "metadata": {},
     "output_type": "display_data"
    },
    {
     "data": {
      "text/html": [
       "<html><script type=\"math/tex; mode=display\">\\newcommand{\\Bold}[1]{\\mathbf{#1}}{F_{x_{2}^{-1},\\left\\{x_{2}^{-1}\\right\\}}(t)} = {F_{1,\\left\\{x_{2}^{-1}\\right\\}}(t)} {F_{x_{2}^{-1},\\left\\{1, x_{2}^{-1}\\right\\}}(t)}</script></html>"
      ],
      "text/plain": [
       "v3 == v15*v16"
      ]
     },
     "metadata": {},
     "output_type": "display_data"
    },
    {
     "data": {
      "text/html": [
       "<html><script type=\"math/tex; mode=display\">\\newcommand{\\Bold}[1]{\\mathbf{#1}}{F_{x_{2},\\left\\{x_{2}, 1\\right\\}}(t)} = t {F_{x_{2}^{-1},\\left\\{x_{2}, x_{2}^{-1}\\right\\}}(t)} + t</script></html>"
      ],
      "text/plain": [
       "v8 == t*v17 + t"
      ]
     },
     "metadata": {},
     "output_type": "display_data"
    },
    {
     "data": {
      "text/html": [
       "<html><script type=\"math/tex; mode=display\">\\newcommand{\\Bold}[1]{\\mathbf{#1}}{F_{1,\\left\\{x_{2}\\right\\}}(t)} = {\\left({F_{1,\\left\\{x_{2}, 1\\right\\}}(t)} - 1\\right)} {F_{1,\\left\\{x_{2}\\right\\}}(t)} + 1</script></html>"
      ],
      "text/plain": [
       "v7 == (v18 - 1)*v7 + 1"
      ]
     },
     "metadata": {},
     "output_type": "display_data"
    },
    {
     "data": {
      "text/html": [
       "<html><script type=\"math/tex; mode=display\">\\newcommand{\\Bold}[1]{\\mathbf{#1}}{F_{x_{3},\\left\\{1, x_{3}\\right\\}}(t)} = t {F_{x_{3}^{2},\\left\\{x_{3}, x_{3}^{2}\\right\\}}(t)} + t</script></html>"
      ],
      "text/plain": [
       "v10 == t*v19 + t"
      ]
     },
     "metadata": {},
     "output_type": "display_data"
    },
    {
     "data": {
      "text/html": [
       "<html><script type=\"math/tex; mode=display\">\\newcommand{\\Bold}[1]{\\mathbf{#1}}{F_{1,\\left\\{x_{3}\\right\\}}(t)} = {\\left({F_{1,\\left\\{1, x_{3}\\right\\}}(t)} - 1\\right)} {F_{1,\\left\\{x_{3}\\right\\}}(t)} + 1</script></html>"
      ],
      "text/plain": [
       "v9 == (v20 - 1)*v9 + 1"
      ]
     },
     "metadata": {},
     "output_type": "display_data"
    },
    {
     "data": {
      "text/html": [
       "<html><script type=\"math/tex; mode=display\">\\newcommand{\\Bold}[1]{\\mathbf{#1}}{F_{x_{3}^{-1},\\left\\{x_{3}^{-1}, 1\\right\\}}(t)} = t {F_{x_{3}^{-2},\\left\\{x_{3}^{-1}, x_{3}^{-2}\\right\\}}(t)} + t</script></html>"
      ],
      "text/plain": [
       "v12 == t*v21 + t"
      ]
     },
     "metadata": {},
     "output_type": "display_data"
    },
    {
     "data": {
      "text/html": [
       "<html><script type=\"math/tex; mode=display\">\\newcommand{\\Bold}[1]{\\mathbf{#1}}{F_{1,\\left\\{x_{3}^{-1}\\right\\}}(t)} = {F_{1,\\left\\{x_{3}^{-1}\\right\\}}(t)} {\\left({F_{1,\\left\\{x_{3}^{-1}, 1\\right\\}}(t)} - 1\\right)} + 1</script></html>"
      ],
      "text/plain": [
       "v11 == v11*(v22 - 1) + 1"
      ]
     },
     "metadata": {},
     "output_type": "display_data"
    },
    {
     "data": {
      "text/html": [
       "<html><script type=\"math/tex; mode=display\">\\newcommand{\\Bold}[1]{\\mathbf{#1}}{F_{1,\\left\\{x_{1}\\right\\}}(t)} = {F_{1,\\left\\{x_{1}\\right\\}}(t)} {\\left({F_{1,\\left\\{1, x_{1}\\right\\}}(t)} - 1\\right)} + 1</script></html>"
      ],
      "text/plain": [
       "v13 == v13*(v23 - 1) + 1"
      ]
     },
     "metadata": {},
     "output_type": "display_data"
    },
    {
     "data": {
      "text/html": [
       "<html><script type=\"math/tex; mode=display\">\\newcommand{\\Bold}[1]{\\mathbf{#1}}{F_{x_{1},\\left\\{1, x_{1}\\right\\}}(t)} = t</script></html>"
      ],
      "text/plain": [
       "v14 == t"
      ]
     },
     "metadata": {},
     "output_type": "display_data"
    },
    {
     "data": {
      "text/html": [
       "<html><script type=\"math/tex; mode=display\">\\newcommand{\\Bold}[1]{\\mathbf{#1}}{F_{x_{2}^{-1},\\left\\{1, x_{2}^{-1}\\right\\}}(t)} = t {F_{x_{2},\\left\\{x_{2}, x_{2}^{-1}\\right\\}}(t)} + t</script></html>"
      ],
      "text/plain": [
       "v16 == t*v24 + t"
      ]
     },
     "metadata": {},
     "output_type": "display_data"
    },
    {
     "data": {
      "text/html": [
       "<html><script type=\"math/tex; mode=display\">\\newcommand{\\Bold}[1]{\\mathbf{#1}}{F_{1,\\left\\{x_{2}^{-1}\\right\\}}(t)} = {F_{1,\\left\\{x_{2}^{-1}\\right\\}}(t)} {\\left({F_{1,\\left\\{1, x_{2}^{-1}\\right\\}}(t)} - 1\\right)} + 1</script></html>"
      ],
      "text/plain": [
       "v15 == v15*(v25 - 1) + 1"
      ]
     },
     "metadata": {},
     "output_type": "display_data"
    },
    {
     "data": {
      "text/html": [
       "<html><script type=\"math/tex; mode=display\">\\newcommand{\\Bold}[1]{\\mathbf{#1}}{F_{x_{2}^{-1},\\left\\{x_{2}, x_{2}^{-1}\\right\\}}(t)} = {F_{1,\\left\\{x_{2}, x_{2}^{-1}\\right\\}}(t)} {F_{x_{2}^{-1},\\left\\{x_{2}, 1, x_{2}^{-1}\\right\\}}(t)}</script></html>"
      ],
      "text/plain": [
       "v17 == v26*v27"
      ]
     },
     "metadata": {},
     "output_type": "display_data"
    },
    {
     "data": {
      "text/html": [
       "<html><script type=\"math/tex; mode=display\">\\newcommand{\\Bold}[1]{\\mathbf{#1}}{F_{1,\\left\\{x_{2}, 1\\right\\}}(t)} = m_{1} t {F_{x_{1},\\left\\{x_{1}\\right\\}}(t)} + {\\left(m_{2} - 1\\right)} t {F_{x_{2}^{-1},\\left\\{x_{2}^{-1}\\right\\}}(t)} + {\\left(m_{2} - 1\\right)} t {F_{x_{2},\\left\\{x_{2}\\right\\}}(t)} + m_{3} t {F_{x_{3},\\left\\{x_{3}\\right\\}}(t)} + m_{3} t {F_{x_{3}^{-1},\\left\\{x_{3}^{-1}\\right\\}}(t)} + t {F_{x_{2},\\left\\{x_{2}, x_{2}^{-1}\\right\\}}(t)} + 1</script></html>"
      ],
      "text/plain": [
       "v18 == m1*t*v2 + (m2 - 1)*t*v3 + (m2 - 1)*t*v4 + m3*t*v5 + m3*t*v6 + t*v24 + 1"
      ]
     },
     "metadata": {},
     "output_type": "display_data"
    },
    {
     "data": {
      "text/html": [
       "<html><script type=\"math/tex; mode=display\">\\newcommand{\\Bold}[1]{\\mathbf{#1}}{F_{x_{3}^{2},\\left\\{x_{3}, x_{3}^{2}\\right\\}}(t)} = {F_{1,\\left\\{x_{3}, x_{3}^{2}\\right\\}}(t)} {F_{x_{3}^{2},\\left\\{1, x_{3}, x_{3}^{2}\\right\\}}(t)}</script></html>"
      ],
      "text/plain": [
       "v19 == v28*v29"
      ]
     },
     "metadata": {},
     "output_type": "display_data"
    },
    {
     "data": {
      "text/html": [
       "<html><script type=\"math/tex; mode=display\">\\newcommand{\\Bold}[1]{\\mathbf{#1}}{F_{1,\\left\\{1, x_{3}\\right\\}}(t)} = m_{1} t {F_{x_{1},\\left\\{x_{1}\\right\\}}(t)} + m_{2} t {F_{x_{2}^{-1},\\left\\{x_{2}^{-1}\\right\\}}(t)} + m_{2} t {F_{x_{2},\\left\\{x_{2}\\right\\}}(t)} + {\\left(m_{3} - 1\\right)} t {F_{x_{3},\\left\\{x_{3}\\right\\}}(t)} + {\\left(m_{3} - 1\\right)} t {F_{x_{3}^{-1},\\left\\{x_{3}^{-1}\\right\\}}(t)} + t {F_{x_{3},\\left\\{x_{3}, x_{3}^{2}\\right\\}}(t)} + 1</script></html>"
      ],
      "text/plain": [
       "v20 == m1*t*v2 + m2*t*v3 + m2*t*v4 + (m3 - 1)*t*v5 + (m3 - 1)*t*v6 + t*v30 + 1"
      ]
     },
     "metadata": {},
     "output_type": "display_data"
    },
    {
     "data": {
      "text/html": [
       "<html><script type=\"math/tex; mode=display\">\\newcommand{\\Bold}[1]{\\mathbf{#1}}{F_{x_{3}^{-2},\\left\\{x_{3}^{-1}, x_{3}^{-2}\\right\\}}(t)} = {F_{1,\\left\\{x_{3}^{-1}, x_{3}^{-2}\\right\\}}(t)} {F_{x_{3}^{-2},\\left\\{x_{3}^{-1}, 1, x_{3}^{-2}\\right\\}}(t)}</script></html>"
      ],
      "text/plain": [
       "v21 == v31*v32"
      ]
     },
     "metadata": {},
     "output_type": "display_data"
    },
    {
     "data": {
      "text/html": [
       "<html><script type=\"math/tex; mode=display\">\\newcommand{\\Bold}[1]{\\mathbf{#1}}{F_{1,\\left\\{x_{3}^{-1}, 1\\right\\}}(t)} = m_{1} t {F_{x_{1},\\left\\{x_{1}\\right\\}}(t)} + m_{2} t {F_{x_{2}^{-1},\\left\\{x_{2}^{-1}\\right\\}}(t)} + m_{2} t {F_{x_{2},\\left\\{x_{2}\\right\\}}(t)} + {\\left(m_{3} - 1\\right)} t {F_{x_{3},\\left\\{x_{3}\\right\\}}(t)} + {\\left(m_{3} - 1\\right)} t {F_{x_{3}^{-1},\\left\\{x_{3}^{-1}\\right\\}}(t)} + t {F_{x_{3}^{-1},\\left\\{x_{3}^{-1}, x_{3}^{-2}\\right\\}}(t)} + 1</script></html>"
      ],
      "text/plain": [
       "v22 == m1*t*v2 + m2*t*v3 + m2*t*v4 + (m3 - 1)*t*v5 + (m3 - 1)*t*v6 + t*v33 + 1"
      ]
     },
     "metadata": {},
     "output_type": "display_data"
    },
    {
     "data": {
      "text/html": [
       "<html><script type=\"math/tex; mode=display\">\\newcommand{\\Bold}[1]{\\mathbf{#1}}{F_{1,\\left\\{1, x_{1}\\right\\}}(t)} = {\\left(m_{1} - 1\\right)} t {F_{x_{1},\\left\\{x_{1}\\right\\}}(t)} + m_{2} t {F_{x_{2}^{-1},\\left\\{x_{2}^{-1}\\right\\}}(t)} + m_{2} t {F_{x_{2},\\left\\{x_{2}\\right\\}}(t)} + m_{3} t {F_{x_{3},\\left\\{x_{3}\\right\\}}(t)} + m_{3} t {F_{x_{3}^{-1},\\left\\{x_{3}^{-1}\\right\\}}(t)} + 1</script></html>"
      ],
      "text/plain": [
       "v23 == (m1 - 1)*t*v2 + m2*t*v3 + m2*t*v4 + m3*t*v5 + m3*t*v6 + 1"
      ]
     },
     "metadata": {},
     "output_type": "display_data"
    },
    {
     "data": {
      "text/html": [
       "<html><script type=\"math/tex; mode=display\">\\newcommand{\\Bold}[1]{\\mathbf{#1}}{F_{x_{2},\\left\\{x_{2}, x_{2}^{-1}\\right\\}}(t)} = {F_{1,\\left\\{x_{2}, x_{2}^{-1}\\right\\}}(t)} {F_{x_{2},\\left\\{x_{2}, 1, x_{2}^{-1}\\right\\}}(t)}</script></html>"
      ],
      "text/plain": [
       "v24 == v26*v34"
      ]
     },
     "metadata": {},
     "output_type": "display_data"
    },
    {
     "data": {
      "text/html": [
       "<html><script type=\"math/tex; mode=display\">\\newcommand{\\Bold}[1]{\\mathbf{#1}}{F_{1,\\left\\{1, x_{2}^{-1}\\right\\}}(t)} = m_{1} t {F_{x_{1},\\left\\{x_{1}\\right\\}}(t)} + {\\left(m_{2} - 1\\right)} t {F_{x_{2}^{-1},\\left\\{x_{2}^{-1}\\right\\}}(t)} + {\\left(m_{2} - 1\\right)} t {F_{x_{2},\\left\\{x_{2}\\right\\}}(t)} + m_{3} t {F_{x_{3},\\left\\{x_{3}\\right\\}}(t)} + m_{3} t {F_{x_{3}^{-1},\\left\\{x_{3}^{-1}\\right\\}}(t)} + t {F_{x_{2}^{-1},\\left\\{x_{2}, x_{2}^{-1}\\right\\}}(t)} + 1</script></html>"
      ],
      "text/plain": [
       "v25 == m1*t*v2 + (m2 - 1)*t*v3 + (m2 - 1)*t*v4 + m3*t*v5 + m3*t*v6 + t*v17 + 1"
      ]
     },
     "metadata": {},
     "output_type": "display_data"
    },
    {
     "data": {
      "text/html": [
       "<html><script type=\"math/tex; mode=display\">\\newcommand{\\Bold}[1]{\\mathbf{#1}}{F_{1,\\left\\{x_{2}, x_{2}^{-1}\\right\\}}(t)} = {F_{1,\\left\\{x_{2}, x_{2}^{-1}\\right\\}}(t)} {\\left({F_{1,\\left\\{x_{2}, 1, x_{2}^{-1}\\right\\}}(t)} - 1\\right)} + 1</script></html>"
      ],
      "text/plain": [
       "v26 == v26*(v35 - 1) + 1"
      ]
     },
     "metadata": {},
     "output_type": "display_data"
    },
    {
     "data": {
      "text/html": [
       "<html><script type=\"math/tex; mode=display\">\\newcommand{\\Bold}[1]{\\mathbf{#1}}{F_{x_{2}^{-1},\\left\\{x_{2}, 1, x_{2}^{-1}\\right\\}}(t)} = t</script></html>"
      ],
      "text/plain": [
       "v27 == t"
      ]
     },
     "metadata": {},
     "output_type": "display_data"
    },
    {
     "data": {
      "text/html": [
       "<html><script type=\"math/tex; mode=display\">\\newcommand{\\Bold}[1]{\\mathbf{#1}}{F_{1,\\left\\{x_{3}, x_{3}^{2}\\right\\}}(t)} = {F_{1,\\left\\{x_{3}, x_{3}^{2}\\right\\}}(t)} {\\left({F_{1,\\left\\{1, x_{3}, x_{3}^{2}\\right\\}}(t)} - 1\\right)} + 1</script></html>"
      ],
      "text/plain": [
       "v28 == v28*(v36 - 1) + 1"
      ]
     },
     "metadata": {},
     "output_type": "display_data"
    },
    {
     "data": {
      "text/html": [
       "<html><script type=\"math/tex; mode=display\">\\newcommand{\\Bold}[1]{\\mathbf{#1}}{F_{x_{3}^{2},\\left\\{1, x_{3}, x_{3}^{2}\\right\\}}(t)} = t {F_{x_{3}^{-2},\\left\\{x_{3}, x_{3}^{-2}, x_{3}^{2}\\right\\}}(t)}</script></html>"
      ],
      "text/plain": [
       "v29 == t*v37"
      ]
     },
     "metadata": {},
     "output_type": "display_data"
    },
    {
     "data": {
      "text/html": [
       "<html><script type=\"math/tex; mode=display\">\\newcommand{\\Bold}[1]{\\mathbf{#1}}{F_{x_{3},\\left\\{x_{3}, x_{3}^{2}\\right\\}}(t)} = {F_{1,\\left\\{x_{3}, x_{3}^{2}\\right\\}}(t)} {F_{x_{3},\\left\\{1, x_{3}, x_{3}^{2}\\right\\}}(t)}</script></html>"
      ],
      "text/plain": [
       "v30 == v28*v38"
      ]
     },
     "metadata": {},
     "output_type": "display_data"
    },
    {
     "data": {
      "text/html": [
       "<html><script type=\"math/tex; mode=display\">\\newcommand{\\Bold}[1]{\\mathbf{#1}}{F_{1,\\left\\{x_{3}^{-1}, x_{3}^{-2}\\right\\}}(t)} = {F_{1,\\left\\{x_{3}^{-1}, x_{3}^{-2}\\right\\}}(t)} {\\left({F_{1,\\left\\{x_{3}^{-1}, 1, x_{3}^{-2}\\right\\}}(t)} - 1\\right)} + 1</script></html>"
      ],
      "text/plain": [
       "v31 == v31*(v39 - 1) + 1"
      ]
     },
     "metadata": {},
     "output_type": "display_data"
    },
    {
     "data": {
      "text/html": [
       "<html><script type=\"math/tex; mode=display\">\\newcommand{\\Bold}[1]{\\mathbf{#1}}{F_{x_{3}^{-2},\\left\\{x_{3}^{-1}, 1, x_{3}^{-2}\\right\\}}(t)} = t {F_{x_{3}^{2},\\left\\{x_{3}^{-1}, x_{3}^{-2}, x_{3}^{2}\\right\\}}(t)}</script></html>"
      ],
      "text/plain": [
       "v32 == t*v40"
      ]
     },
     "metadata": {},
     "output_type": "display_data"
    },
    {
     "data": {
      "text/html": [
       "<html><script type=\"math/tex; mode=display\">\\newcommand{\\Bold}[1]{\\mathbf{#1}}{F_{x_{3}^{-1},\\left\\{x_{3}^{-1}, x_{3}^{-2}\\right\\}}(t)} = {F_{1,\\left\\{x_{3}^{-1}, x_{3}^{-2}\\right\\}}(t)} {F_{x_{3}^{-1},\\left\\{x_{3}^{-1}, 1, x_{3}^{-2}\\right\\}}(t)}</script></html>"
      ],
      "text/plain": [
       "v33 == v31*v41"
      ]
     },
     "metadata": {},
     "output_type": "display_data"
    },
    {
     "data": {
      "text/html": [
       "<html><script type=\"math/tex; mode=display\">\\newcommand{\\Bold}[1]{\\mathbf{#1}}{F_{x_{2},\\left\\{x_{2}, 1, x_{2}^{-1}\\right\\}}(t)} = t</script></html>"
      ],
      "text/plain": [
       "v34 == t"
      ]
     },
     "metadata": {},
     "output_type": "display_data"
    },
    {
     "data": {
      "text/html": [
       "<html><script type=\"math/tex; mode=display\">\\newcommand{\\Bold}[1]{\\mathbf{#1}}{F_{1,\\left\\{x_{2}, 1, x_{2}^{-1}\\right\\}}(t)} = m_{1} t {F_{x_{1},\\left\\{x_{1}\\right\\}}(t)} + {\\left(m_{2} - 1\\right)} t {F_{x_{2}^{-1},\\left\\{x_{2}^{-1}\\right\\}}(t)} + {\\left(m_{2} - 1\\right)} t {F_{x_{2},\\left\\{x_{2}\\right\\}}(t)} + m_{3} t {F_{x_{3},\\left\\{x_{3}\\right\\}}(t)} + m_{3} t {F_{x_{3}^{-1},\\left\\{x_{3}^{-1}\\right\\}}(t)} + 1</script></html>"
      ],
      "text/plain": [
       "v35 == m1*t*v2 + (m2 - 1)*t*v3 + (m2 - 1)*t*v4 + m3*t*v5 + m3*t*v6 + 1"
      ]
     },
     "metadata": {},
     "output_type": "display_data"
    },
    {
     "data": {
      "text/html": [
       "<html><script type=\"math/tex; mode=display\">\\newcommand{\\Bold}[1]{\\mathbf{#1}}{F_{1,\\left\\{1, x_{3}, x_{3}^{2}\\right\\}}(t)} = m_{1} t {F_{x_{1},\\left\\{x_{1}\\right\\}}(t)} + m_{2} t {F_{x_{2}^{-1},\\left\\{x_{2}^{-1}\\right\\}}(t)} + m_{2} t {F_{x_{2},\\left\\{x_{2}\\right\\}}(t)} + {\\left(m_{3} - 1\\right)} t {F_{x_{3},\\left\\{x_{3}\\right\\}}(t)} + {\\left(m_{3} - 1\\right)} t {F_{x_{3}^{-1},\\left\\{x_{3}^{-1}\\right\\}}(t)} + t {F_{x_{3},\\left\\{x_{3}, x_{3}^{-2}, x_{3}^{2}\\right\\}}(t)} + 1</script></html>"
      ],
      "text/plain": [
       "v36 == m1*t*v2 + m2*t*v3 + m2*t*v4 + (m3 - 1)*t*v5 + (m3 - 1)*t*v6 + t*v42 + 1"
      ]
     },
     "metadata": {},
     "output_type": "display_data"
    },
    {
     "data": {
      "text/html": [
       "<html><script type=\"math/tex; mode=display\">\\newcommand{\\Bold}[1]{\\mathbf{#1}}{F_{x_{3}^{-2},\\left\\{x_{3}, x_{3}^{-2}, x_{3}^{2}\\right\\}}(t)} = {F_{1,\\left\\{x_{3}, x_{3}^{-2}, x_{3}^{2}\\right\\}}(t)} {F_{x_{3}^{-2},\\left\\{1, x_{3}, x_{3}^{-2}, x_{3}^{2}\\right\\}}(t)}</script></html>"
      ],
      "text/plain": [
       "v37 == v43*v44"
      ]
     },
     "metadata": {},
     "output_type": "display_data"
    },
    {
     "data": {
      "text/html": [
       "<html><script type=\"math/tex; mode=display\">\\newcommand{\\Bold}[1]{\\mathbf{#1}}{F_{x_{3},\\left\\{1, x_{3}, x_{3}^{2}\\right\\}}(t)} = t {F_{x_{3}^{2},\\left\\{x_{3}, x_{3}^{-2}, x_{3}^{2}\\right\\}}(t)} + t</script></html>"
      ],
      "text/plain": [
       "v38 == t*v45 + t"
      ]
     },
     "metadata": {},
     "output_type": "display_data"
    },
    {
     "data": {
      "text/html": [
       "<html><script type=\"math/tex; mode=display\">\\newcommand{\\Bold}[1]{\\mathbf{#1}}{F_{1,\\left\\{x_{3}^{-1}, 1, x_{3}^{-2}\\right\\}}(t)} = m_{1} t {F_{x_{1},\\left\\{x_{1}\\right\\}}(t)} + m_{2} t {F_{x_{2}^{-1},\\left\\{x_{2}^{-1}\\right\\}}(t)} + m_{2} t {F_{x_{2},\\left\\{x_{2}\\right\\}}(t)} + {\\left(m_{3} - 1\\right)} t {F_{x_{3},\\left\\{x_{3}\\right\\}}(t)} + {\\left(m_{3} - 1\\right)} t {F_{x_{3}^{-1},\\left\\{x_{3}^{-1}\\right\\}}(t)} + t {F_{x_{3}^{-1},\\left\\{x_{3}^{-1}, x_{3}^{-2}, x_{3}^{2}\\right\\}}(t)} + 1</script></html>"
      ],
      "text/plain": [
       "v39 == m1*t*v2 + m2*t*v3 + m2*t*v4 + (m3 - 1)*t*v5 + (m3 - 1)*t*v6 + t*v46 + 1"
      ]
     },
     "metadata": {},
     "output_type": "display_data"
    },
    {
     "data": {
      "text/html": [
       "<html><script type=\"math/tex; mode=display\">\\newcommand{\\Bold}[1]{\\mathbf{#1}}{F_{x_{3}^{2},\\left\\{x_{3}^{-1}, x_{3}^{-2}, x_{3}^{2}\\right\\}}(t)} = {F_{1,\\left\\{x_{3}^{-1}, x_{3}^{-2}, x_{3}^{2}\\right\\}}(t)} {F_{x_{3}^{2},\\left\\{x_{3}^{-1}, 1, x_{3}^{-2}, x_{3}^{2}\\right\\}}(t)}</script></html>"
      ],
      "text/plain": [
       "v40 == v47*v48"
      ]
     },
     "metadata": {},
     "output_type": "display_data"
    },
    {
     "data": {
      "text/html": [
       "<html><script type=\"math/tex; mode=display\">\\newcommand{\\Bold}[1]{\\mathbf{#1}}{F_{x_{3}^{-1},\\left\\{x_{3}^{-1}, 1, x_{3}^{-2}\\right\\}}(t)} = t {F_{x_{3}^{-2},\\left\\{x_{3}^{-1}, x_{3}^{-2}, x_{3}^{2}\\right\\}}(t)} + t</script></html>"
      ],
      "text/plain": [
       "v41 == t*v49 + t"
      ]
     },
     "metadata": {},
     "output_type": "display_data"
    },
    {
     "data": {
      "text/html": [
       "<html><script type=\"math/tex; mode=display\">\\newcommand{\\Bold}[1]{\\mathbf{#1}}{F_{x_{3},\\left\\{x_{3}, x_{3}^{-2}, x_{3}^{2}\\right\\}}(t)} = {F_{1,\\left\\{x_{3}, x_{3}^{-2}, x_{3}^{2}\\right\\}}(t)} {F_{x_{3},\\left\\{1, x_{3}, x_{3}^{-2}, x_{3}^{2}\\right\\}}(t)}</script></html>"
      ],
      "text/plain": [
       "v42 == v43*v50"
      ]
     },
     "metadata": {},
     "output_type": "display_data"
    },
    {
     "data": {
      "text/html": [
       "<html><script type=\"math/tex; mode=display\">\\newcommand{\\Bold}[1]{\\mathbf{#1}}{F_{x_{3}^{-2},\\left\\{1, x_{3}, x_{3}^{-2}, x_{3}^{2}\\right\\}}(t)} = t {F_{x_{3}^{-1},\\left\\{x_{3}^{-1}, x_{3}, x_{3}^{-2}, x_{3}^{2}\\right\\}}(t)}</script></html>"
      ],
      "text/plain": [
       "v44 == t*v51"
      ]
     },
     "metadata": {},
     "output_type": "display_data"
    },
    {
     "data": {
      "text/html": [
       "<html><script type=\"math/tex; mode=display\">\\newcommand{\\Bold}[1]{\\mathbf{#1}}{F_{1,\\left\\{x_{3}, x_{3}^{-2}, x_{3}^{2}\\right\\}}(t)} = {F_{1,\\left\\{x_{3}, x_{3}^{-2}, x_{3}^{2}\\right\\}}(t)} {\\left({F_{1,\\left\\{1, x_{3}, x_{3}^{-2}, x_{3}^{2}\\right\\}}(t)} - 1\\right)} + 1</script></html>"
      ],
      "text/plain": [
       "v43 == v43*(v52 - 1) + 1"
      ]
     },
     "metadata": {},
     "output_type": "display_data"
    },
    {
     "data": {
      "text/html": [
       "<html><script type=\"math/tex; mode=display\">\\newcommand{\\Bold}[1]{\\mathbf{#1}}{F_{x_{3}^{2},\\left\\{x_{3}, x_{3}^{-2}, x_{3}^{2}\\right\\}}(t)} = {F_{1,\\left\\{x_{3}, x_{3}^{-2}, x_{3}^{2}\\right\\}}(t)} {F_{x_{3}^{2},\\left\\{1, x_{3}, x_{3}^{-2}, x_{3}^{2}\\right\\}}(t)}</script></html>"
      ],
      "text/plain": [
       "v45 == v43*v53"
      ]
     },
     "metadata": {},
     "output_type": "display_data"
    },
    {
     "data": {
      "text/html": [
       "<html><script type=\"math/tex; mode=display\">\\newcommand{\\Bold}[1]{\\mathbf{#1}}{F_{x_{3}^{-1},\\left\\{x_{3}^{-1}, x_{3}^{-2}, x_{3}^{2}\\right\\}}(t)} = {F_{1,\\left\\{x_{3}^{-1}, x_{3}^{-2}, x_{3}^{2}\\right\\}}(t)} {F_{x_{3}^{-1},\\left\\{x_{3}^{-1}, 1, x_{3}^{-2}, x_{3}^{2}\\right\\}}(t)}</script></html>"
      ],
      "text/plain": [
       "v46 == v47*v54"
      ]
     },
     "metadata": {},
     "output_type": "display_data"
    },
    {
     "data": {
      "text/html": [
       "<html><script type=\"math/tex; mode=display\">\\newcommand{\\Bold}[1]{\\mathbf{#1}}{F_{x_{3}^{2},\\left\\{x_{3}^{-1}, 1, x_{3}^{-2}, x_{3}^{2}\\right\\}}(t)} = t {F_{x_{3},\\left\\{x_{3}^{-1}, x_{3}, x_{3}^{-2}, x_{3}^{2}\\right\\}}(t)}</script></html>"
      ],
      "text/plain": [
       "v48 == t*v55"
      ]
     },
     "metadata": {},
     "output_type": "display_data"
    },
    {
     "data": {
      "text/html": [
       "<html><script type=\"math/tex; mode=display\">\\newcommand{\\Bold}[1]{\\mathbf{#1}}{F_{1,\\left\\{x_{3}^{-1}, x_{3}^{-2}, x_{3}^{2}\\right\\}}(t)} = {F_{1,\\left\\{x_{3}^{-1}, x_{3}^{-2}, x_{3}^{2}\\right\\}}(t)} {\\left({F_{1,\\left\\{x_{3}^{-1}, 1, x_{3}^{-2}, x_{3}^{2}\\right\\}}(t)} - 1\\right)} + 1</script></html>"
      ],
      "text/plain": [
       "v47 == v47*(v56 - 1) + 1"
      ]
     },
     "metadata": {},
     "output_type": "display_data"
    },
    {
     "data": {
      "text/html": [
       "<html><script type=\"math/tex; mode=display\">\\newcommand{\\Bold}[1]{\\mathbf{#1}}{F_{x_{3}^{-2},\\left\\{x_{3}^{-1}, x_{3}^{-2}, x_{3}^{2}\\right\\}}(t)} = {F_{1,\\left\\{x_{3}^{-1}, x_{3}^{-2}, x_{3}^{2}\\right\\}}(t)} {F_{x_{3}^{-2},\\left\\{x_{3}^{-1}, 1, x_{3}^{-2}, x_{3}^{2}\\right\\}}(t)}</script></html>"
      ],
      "text/plain": [
       "v49 == v47*v57"
      ]
     },
     "metadata": {},
     "output_type": "display_data"
    },
    {
     "data": {
      "text/html": [
       "<html><script type=\"math/tex; mode=display\">\\newcommand{\\Bold}[1]{\\mathbf{#1}}{F_{x_{3},\\left\\{1, x_{3}, x_{3}^{-2}, x_{3}^{2}\\right\\}}(t)} = t {F_{x_{3}^{2},\\left\\{x_{3}^{-1}, x_{3}, x_{3}^{-2}, x_{3}^{2}\\right\\}}(t)} + t</script></html>"
      ],
      "text/plain": [
       "v50 == t*v58 + t"
      ]
     },
     "metadata": {},
     "output_type": "display_data"
    },
    {
     "data": {
      "text/html": [
       "<html><script type=\"math/tex; mode=display\">\\newcommand{\\Bold}[1]{\\mathbf{#1}}{F_{x_{3}^{-1},\\left\\{x_{3}^{-1}, x_{3}, x_{3}^{-2}, x_{3}^{2}\\right\\}}(t)} = {F_{1,\\left\\{x_{3}^{-1}, x_{3}, x_{3}^{-2}, x_{3}^{2}\\right\\}}(t)} {F_{x_{3}^{-1},\\left\\{1, x_{3}^{-2}, x_{3}^{2}, x_{3}^{-1}, x_{3}\\right\\}}(t)}</script></html>"
      ],
      "text/plain": [
       "v51 == v59*v60"
      ]
     },
     "metadata": {},
     "output_type": "display_data"
    },
    {
     "data": {
      "text/html": [
       "<html><script type=\"math/tex; mode=display\">\\newcommand{\\Bold}[1]{\\mathbf{#1}}{F_{1,\\left\\{1, x_{3}, x_{3}^{-2}, x_{3}^{2}\\right\\}}(t)} = m_{1} t {F_{x_{1},\\left\\{x_{1}\\right\\}}(t)} + m_{2} t {F_{x_{2}^{-1},\\left\\{x_{2}^{-1}\\right\\}}(t)} + m_{2} t {F_{x_{2},\\left\\{x_{2}\\right\\}}(t)} + {\\left(m_{3} - 1\\right)} t {F_{x_{3},\\left\\{x_{3}\\right\\}}(t)} + {\\left(m_{3} - 1\\right)} t {F_{x_{3}^{-1},\\left\\{x_{3}^{-1}\\right\\}}(t)} + t {F_{x_{3},\\left\\{x_{3}^{-1}, x_{3}, x_{3}^{-2}, x_{3}^{2}\\right\\}}(t)} + 1</script></html>"
      ],
      "text/plain": [
       "v52 == m1*t*v2 + m2*t*v3 + m2*t*v4 + (m3 - 1)*t*v5 + (m3 - 1)*t*v6 + t*v55 + 1"
      ]
     },
     "metadata": {},
     "output_type": "display_data"
    },
    {
     "data": {
      "text/html": [
       "<html><script type=\"math/tex; mode=display\">\\newcommand{\\Bold}[1]{\\mathbf{#1}}{F_{x_{3}^{2},\\left\\{1, x_{3}, x_{3}^{-2}, x_{3}^{2}\\right\\}}(t)} = t {F_{x_{3}^{-2},\\left\\{x_{3}^{-1}, x_{3}, x_{3}^{-2}, x_{3}^{2}\\right\\}}(t)}</script></html>"
      ],
      "text/plain": [
       "v53 == t*v61"
      ]
     },
     "metadata": {},
     "output_type": "display_data"
    },
    {
     "data": {
      "text/html": [
       "<html><script type=\"math/tex; mode=display\">\\newcommand{\\Bold}[1]{\\mathbf{#1}}{F_{x_{3}^{-1},\\left\\{x_{3}^{-1}, 1, x_{3}^{-2}, x_{3}^{2}\\right\\}}(t)} = t {F_{x_{3}^{-2},\\left\\{x_{3}^{-1}, x_{3}, x_{3}^{-2}, x_{3}^{2}\\right\\}}(t)} + t</script></html>"
      ],
      "text/plain": [
       "v54 == t*v61 + t"
      ]
     },
     "metadata": {},
     "output_type": "display_data"
    },
    {
     "data": {
      "text/html": [
       "<html><script type=\"math/tex; mode=display\">\\newcommand{\\Bold}[1]{\\mathbf{#1}}{F_{x_{3},\\left\\{x_{3}^{-1}, x_{3}, x_{3}^{-2}, x_{3}^{2}\\right\\}}(t)} = {F_{1,\\left\\{x_{3}^{-1}, x_{3}, x_{3}^{-2}, x_{3}^{2}\\right\\}}(t)} {F_{x_{3},\\left\\{1, x_{3}^{-2}, x_{3}^{2}, x_{3}^{-1}, x_{3}\\right\\}}(t)}</script></html>"
      ],
      "text/plain": [
       "v55 == v59*v62"
      ]
     },
     "metadata": {},
     "output_type": "display_data"
    },
    {
     "data": {
      "text/html": [
       "<html><script type=\"math/tex; mode=display\">\\newcommand{\\Bold}[1]{\\mathbf{#1}}{F_{1,\\left\\{x_{3}^{-1}, 1, x_{3}^{-2}, x_{3}^{2}\\right\\}}(t)} = m_{1} t {F_{x_{1},\\left\\{x_{1}\\right\\}}(t)} + m_{2} t {F_{x_{2}^{-1},\\left\\{x_{2}^{-1}\\right\\}}(t)} + m_{2} t {F_{x_{2},\\left\\{x_{2}\\right\\}}(t)} + {\\left(m_{3} - 1\\right)} t {F_{x_{3},\\left\\{x_{3}\\right\\}}(t)} + {\\left(m_{3} - 1\\right)} t {F_{x_{3}^{-1},\\left\\{x_{3}^{-1}\\right\\}}(t)} + t {F_{x_{3}^{-1},\\left\\{x_{3}^{-1}, x_{3}, x_{3}^{-2}, x_{3}^{2}\\right\\}}(t)} + 1</script></html>"
      ],
      "text/plain": [
       "v56 == m1*t*v2 + m2*t*v3 + m2*t*v4 + (m3 - 1)*t*v5 + (m3 - 1)*t*v6 + t*v51 + 1"
      ]
     },
     "metadata": {},
     "output_type": "display_data"
    },
    {
     "data": {
      "text/html": [
       "<html><script type=\"math/tex; mode=display\">\\newcommand{\\Bold}[1]{\\mathbf{#1}}{F_{x_{3}^{-2},\\left\\{x_{3}^{-1}, 1, x_{3}^{-2}, x_{3}^{2}\\right\\}}(t)} = t {F_{x_{3}^{2},\\left\\{x_{3}^{-1}, x_{3}, x_{3}^{-2}, x_{3}^{2}\\right\\}}(t)}</script></html>"
      ],
      "text/plain": [
       "v57 == t*v58"
      ]
     },
     "metadata": {},
     "output_type": "display_data"
    },
    {
     "data": {
      "text/html": [
       "<html><script type=\"math/tex; mode=display\">\\newcommand{\\Bold}[1]{\\mathbf{#1}}{F_{x_{3}^{2},\\left\\{x_{3}^{-1}, x_{3}, x_{3}^{-2}, x_{3}^{2}\\right\\}}(t)} = {F_{1,\\left\\{x_{3}^{-1}, x_{3}, x_{3}^{-2}, x_{3}^{2}\\right\\}}(t)} {F_{x_{3}^{2},\\left\\{1, x_{3}^{-2}, x_{3}^{2}, x_{3}^{-1}, x_{3}\\right\\}}(t)}</script></html>"
      ],
      "text/plain": [
       "v58 == v59*v63"
      ]
     },
     "metadata": {},
     "output_type": "display_data"
    },
    {
     "data": {
      "text/html": [
       "<html><script type=\"math/tex; mode=display\">\\newcommand{\\Bold}[1]{\\mathbf{#1}}{F_{1,\\left\\{x_{3}^{-1}, x_{3}, x_{3}^{-2}, x_{3}^{2}\\right\\}}(t)} = {F_{1,\\left\\{x_{3}^{-1}, x_{3}, x_{3}^{-2}, x_{3}^{2}\\right\\}}(t)} {\\left({F_{1,\\left\\{1, x_{3}^{-2}, x_{3}^{2}, x_{3}^{-1}, x_{3}\\right\\}}(t)} - 1\\right)} + 1</script></html>"
      ],
      "text/plain": [
       "v59 == v59*(v64 - 1) + 1"
      ]
     },
     "metadata": {},
     "output_type": "display_data"
    },
    {
     "data": {
      "text/html": [
       "<html><script type=\"math/tex; mode=display\">\\newcommand{\\Bold}[1]{\\mathbf{#1}}{F_{x_{3}^{-1},\\left\\{1, x_{3}^{-2}, x_{3}^{2}, x_{3}^{-1}, x_{3}\\right\\}}(t)} = t</script></html>"
      ],
      "text/plain": [
       "v60 == t"
      ]
     },
     "metadata": {},
     "output_type": "display_data"
    },
    {
     "data": {
      "text/html": [
       "<html><script type=\"math/tex; mode=display\">\\newcommand{\\Bold}[1]{\\mathbf{#1}}{F_{x_{3}^{-2},\\left\\{x_{3}^{-1}, x_{3}, x_{3}^{-2}, x_{3}^{2}\\right\\}}(t)} = {F_{1,\\left\\{x_{3}^{-1}, x_{3}, x_{3}^{-2}, x_{3}^{2}\\right\\}}(t)} {F_{x_{3}^{-2},\\left\\{1, x_{3}^{-2}, x_{3}^{2}, x_{3}^{-1}, x_{3}\\right\\}}(t)}</script></html>"
      ],
      "text/plain": [
       "v61 == v59*v65"
      ]
     },
     "metadata": {},
     "output_type": "display_data"
    },
    {
     "data": {
      "text/html": [
       "<html><script type=\"math/tex; mode=display\">\\newcommand{\\Bold}[1]{\\mathbf{#1}}{F_{x_{3},\\left\\{1, x_{3}^{-2}, x_{3}^{2}, x_{3}^{-1}, x_{3}\\right\\}}(t)} = t</script></html>"
      ],
      "text/plain": [
       "v62 == t"
      ]
     },
     "metadata": {},
     "output_type": "display_data"
    },
    {
     "data": {
      "text/html": [
       "<html><script type=\"math/tex; mode=display\">\\newcommand{\\Bold}[1]{\\mathbf{#1}}{F_{x_{3}^{2},\\left\\{1, x_{3}^{-2}, x_{3}^{2}, x_{3}^{-1}, x_{3}\\right\\}}(t)} = 0</script></html>"
      ],
      "text/plain": [
       "v63 == 0"
      ]
     },
     "metadata": {},
     "output_type": "display_data"
    },
    {
     "data": {
      "text/html": [
       "<html><script type=\"math/tex; mode=display\">\\newcommand{\\Bold}[1]{\\mathbf{#1}}{F_{1,\\left\\{1, x_{3}^{-2}, x_{3}^{2}, x_{3}^{-1}, x_{3}\\right\\}}(t)} = m_{1} t {F_{x_{1},\\left\\{x_{1}\\right\\}}(t)} + m_{2} t {F_{x_{2}^{-1},\\left\\{x_{2}^{-1}\\right\\}}(t)} + m_{2} t {F_{x_{2},\\left\\{x_{2}\\right\\}}(t)} + {\\left(m_{3} - 1\\right)} t {F_{x_{3},\\left\\{x_{3}\\right\\}}(t)} + {\\left(m_{3} - 1\\right)} t {F_{x_{3}^{-1},\\left\\{x_{3}^{-1}\\right\\}}(t)} + 1</script></html>"
      ],
      "text/plain": [
       "v64 == m1*t*v2 + m2*t*v3 + m2*t*v4 + (m3 - 1)*t*v5 + (m3 - 1)*t*v6 + 1"
      ]
     },
     "metadata": {},
     "output_type": "display_data"
    },
    {
     "data": {
      "text/html": [
       "<html><script type=\"math/tex; mode=display\">\\newcommand{\\Bold}[1]{\\mathbf{#1}}{F_{x_{3}^{-2},\\left\\{1, x_{3}^{-2}, x_{3}^{2}, x_{3}^{-1}, x_{3}\\right\\}}(t)} = 0</script></html>"
      ],
      "text/plain": [
       "v65 == 0"
      ]
     },
     "metadata": {},
     "output_type": "display_data"
    }
   ],
   "source": [
    "#Here are the equations\n",
    "for eqn in system:\n",
    "    print(latex(eqn),r'\\\\')\n",
    "print()\n",
    "print()\n",
    "for eqn in system:\n",
    "    #print(eqn)\n",
    "    pretty_print(eqn)"
   ]
  },
  {
   "cell_type": "code",
   "execution_count": 16,
   "metadata": {},
   "outputs": [],
   "source": [
    "# There are symmetries amongst the variables such that some variables will repersent the same series.\n",
    "# Amongst each such equivalence class, we only need to keep one representation.\n",
    "# To strip symmetry, we need union find.\n",
    "\n",
    "from collections import defaultdict as DD\n",
    "\n",
    "class UF(object):\n",
    "    \n",
    "    def __init__(self):\n",
    "        self.V = {}\n",
    "        self.parent = {}\n",
    "    \n",
    "    def add(self, node):\n",
    "        if node not in self.V:\n",
    "            self.V[node] = 1\n",
    "            self.parent[node]=node\n",
    "    \n",
    "    def find(self,u):\n",
    "        P = self.parent\n",
    "        while P[u]!=u:\n",
    "            P[u] = P[P[u]]\n",
    "            u = P[u]\n",
    "        return u\n",
    "    \n",
    "    def union(self,u,v):\n",
    "        u,v = map(self.find, [u,v])\n",
    "        u,v = sorted([u,v],key = lambda s: self.V[s])\n",
    "        self.parent[u]=v\n",
    "        self.V[v]+=self.V[u]\n",
    "    \n",
    "    def verts(self):\n",
    "        return iter(self.V)\n",
    "    \n",
    "    def comps(self):\n",
    "        ans = DD(set)\n",
    "        for v in self.V:\n",
    "            ans[self.find(v)].add(v)\n",
    "        return ans\n",
    "    \n"
   ]
  },
  {
   "cell_type": "code",
   "execution_count": 17,
   "metadata": {},
   "outputs": [],
   "source": [
    "# initialize the structure to track symmetry\n",
    "eqcl = UF()\n",
    "for pair in var_space:\n",
    "    eqcl.add(pair)\n",
    "\n",
    "#eqcl.comps()"
   ]
  },
  {
   "cell_type": "code",
   "execution_count": 18,
   "metadata": {},
   "outputs": [],
   "source": [
    "# since S is inverse closed, then (g,X) is essentially the same as (g^-1,X^-1)\n",
    "\n",
    "vis = set()\n",
    "for g,X in var_space:\n",
    "    if (g,X) in vis:\n",
    "        continue\n",
    "    ginv = rd(g^-1)\n",
    "    Xinv = Set([v^-1 for v in X])\n",
    "    Xinv = rd(Xinv)\n",
    "    pairinv = (ginv,Xinv)\n",
    "    if pairinv in var_space:\n",
    "        vis.add(pairinv)\n",
    "        eqcl.union((g,X),pairinv)\n",
    "#eqcl.comps()"
   ]
  },
  {
   "cell_type": "code",
   "execution_count": 19,
   "metadata": {},
   "outputs": [
    {
     "name": "stdout",
     "output_type": "stream",
     "text": [
      "defaultdict(<class 'set'>,\n",
      "            {(1, {1, x3^-2, x3^2, x3^-1, x3}): {(1,\n",
      "                                                 {1, x3^-2, x3^2, x3^-1, x3})},\n",
      "             (1, {x3^-1, x3, x3^-2, x3^2}): {(1, {x3^-1, x3, x3^-2, x3^2})},\n",
      "             (1, {x3^-1, 1, x3^-2, x3^2}): {(1, {x3^-1, 1, x3^-2, x3^2}),\n",
      "                                            (1, {1, x3, x3^-2, x3^2})},\n",
      "             (1, {x3^-1, x3^-2, x3^2}): {(1, {x3, x3^-2, x3^2}),\n",
      "                                         (1, {x3^-1, x3^-2, x3^2})},\n",
      "             (1, {x3^-1, 1, x3^-2}): {(1, {1, x3, x3^2}),\n",
      "                                      (1, {x3^-1, 1, x3^-2})},\n",
      "             (1, {x2, 1, x2^-1}): {(1, {x2, 1, x2^-1})},\n",
      "             (1, {x3^-1, x3^-2}): {(1, {x3, x3^2}), (1, {x3^-1, x3^-2})},\n",
      "             (1, {x2, x2^-1}): {(1, {x2, x2^-1})},\n",
      "             (1, {1, x1}): {(1, {1, x1})},\n",
      "             (1, {x3^-1, 1}): {(1, {x3^-1, 1}), (1, {1, x3})},\n",
      "             (1, {1, x2^-1}): {(1, {x2, 1}), (1, {1, x2^-1})},\n",
      "             (1, {x1}): {(1, {x1})},\n",
      "             (1, {x3^-1}): {(1, {x3}), (1, {x3^-1})},\n",
      "             (1, {x2^-1}): {(1, {x2}), (1, {x2^-1})},\n",
      "             (1, {1}): {(1, {1})},\n",
      "             (1, {}): {(1, {})},\n",
      "             (x1, {1, x1}): {(x1, {1, x1})},\n",
      "             (x1, {x1}): {(x1, {x1})},\n",
      "             (x2, {x2, 1, x2^-1}): {(x2, {x2, 1, x2^-1}),\n",
      "                                    (x2^-1, {x2, 1, x2^-1})},\n",
      "             (x2, {x2, x2^-1}): {(x2^-1, {x2, x2^-1}), (x2, {x2, x2^-1})},\n",
      "             (x2, {x2}): {(x2, {x2}), (x2^-1, {x2^-1})},\n",
      "             (x3, {1, x3^-2, x3^2, x3^-1, x3}): {(x3,\n",
      "                                                  {1, x3^-2, x3^2, x3^-1, x3}),\n",
      "                                                 (x3^-1,\n",
      "                                                  {1, x3^-2, x3^2, x3^-1, x3})},\n",
      "             (x3, {x3^-1, x3, x3^-2, x3^2}): {(x3, {x3^-1, x3, x3^-2, x3^2}),\n",
      "                                              (x3^-1,\n",
      "                                               {x3^-1, x3, x3^-2, x3^2})},\n",
      "             (x2^-1, {1, x2^-1}): {(x2^-1, {1, x2^-1}), (x2, {x2, 1})},\n",
      "             (x3^2, {x3^-1, 1, x3^-2, x3^2}): {(x3^2, {x3^-1, 1, x3^-2, x3^2}),\n",
      "                                               (x3^-2, {1, x3, x3^-2, x3^2})},\n",
      "             (x3^2, {x3^-1, x3^-2, x3^2}): {(x3^2, {x3^-1, x3^-2, x3^2}),\n",
      "                                            (x3^-2, {x3, x3^-2, x3^2})},\n",
      "             (x3^-2, {1, x3^-2, x3^2, x3^-1, x3}): {(x3^2,\n",
      "                                                     {1, x3^-2, x3^2, x3^-1, x3}),\n",
      "                                                    (x3^-2,\n",
      "                                                     {1, x3^-2, x3^2, x3^-1, x3})},\n",
      "             (x3^-2, {x3^-1, x3, x3^-2, x3^2}): {(x3^2,\n",
      "                                                  {x3^-1, x3, x3^-2, x3^2}),\n",
      "                                                 (x3^-2,\n",
      "                                                  {x3^-1, x3, x3^-2, x3^2})},\n",
      "             (x3^-2, {x3^-1, 1, x3^-2, x3^2}): {(x3^2, {1, x3, x3^-2, x3^2}),\n",
      "                                                (x3^-2,\n",
      "                                                 {x3^-1, 1, x3^-2, x3^2})},\n",
      "             (x3^-2, {x3^-1, x3^-2, x3^2}): {(x3^2, {x3, x3^-2, x3^2}),\n",
      "                                             (x3^-2, {x3^-1, x3^-2, x3^2})},\n",
      "             (x3^-2, {x3^-1, 1, x3^-2}): {(x3^2, {1, x3, x3^2}),\n",
      "                                          (x3^-2, {x3^-1, 1, x3^-2})},\n",
      "             (x3^-2, {x3^-1, x3^-2}): {(x3^2, {x3, x3^2}),\n",
      "                                       (x3^-2, {x3^-1, x3^-2})},\n",
      "             (x3^-1, {x3^-1, 1, x3^-2, x3^2}): {(x3, {1, x3, x3^-2, x3^2}),\n",
      "                                                (x3^-1,\n",
      "                                                 {x3^-1, 1, x3^-2, x3^2})},\n",
      "             (x3^-1, {x3^-1, x3^-2, x3^2}): {(x3, {x3, x3^-2, x3^2}),\n",
      "                                             (x3^-1, {x3^-1, x3^-2, x3^2})},\n",
      "             (x3^-1, {x3^-1, 1, x3^-2}): {(x3, {1, x3, x3^2}),\n",
      "                                          (x3^-1, {x3^-1, 1, x3^-2})},\n",
      "             (x3^-1, {x3^-1, x3^-2}): {(x3, {x3, x3^2}),\n",
      "                                       (x3^-1, {x3^-1, x3^-2})},\n",
      "             (x3^-1, {x3^-1, 1}): {(x3^-1, {x3^-1, 1}), (x3, {1, x3})},\n",
      "             (x3^-1, {x3^-1}): {(x3^-1, {x3^-1}), (x3, {x3})}})\n"
     ]
    }
   ],
   "source": [
    "from pprint import pprint\n",
    "pprint(eqcl.comps())"
   ]
  },
  {
   "cell_type": "code",
   "execution_count": 20,
   "metadata": {},
   "outputs": [],
   "source": [
    "# now make subtitutions to the system based on the symetries\n",
    "reduced_system = []\n",
    "rev_var_space = {j:i for i,j in var_space.items()}\n",
    "for eq in system:\n",
    "    v = eq.lhs()\n",
    "    pv = rev_var_space[v]\n",
    "    if pv!=eqcl.find(pv):\n",
    "        continue\n",
    "    ag = eq.rhs().args()\n",
    "    ag = set(ag)-{t}-set(params)\n",
    "    ag = list(ag)\n",
    "    agrepl = [rev_var_space[u] for u in ag]\n",
    "    agrepl = [eqcl.find(u) for u in agrepl]\n",
    "    agrepl = [var_space[u] for u in agrepl]\n",
    "    reduced_system.append(v==(eq.rhs().subs(dict(zip(ag,agrepl)) )).expand().simplify())"
   ]
  },
  {
   "cell_type": "code",
   "execution_count": 21,
   "metadata": {},
   "outputs": [
    {
     "data": {
      "text/html": [
       "<html><script type=\"math/tex; mode=display\">\\newcommand{\\Bold}[1]{\\mathbf{#1}}{F_{1,\\varnothing}(t)} = {F_{1,\\varnothing}(t)} {F_{1,\\left\\{1\\right\\}}(t)} - {F_{1,\\varnothing}(t)} + 1</script></html>"
      ],
      "text/plain": [
       "v0 == v0*v1 - v0 + 1"
      ]
     },
     "metadata": {},
     "output_type": "display_data"
    },
    {
     "data": {
      "text/html": [
       "<html><script type=\"math/tex; mode=display\">\\newcommand{\\Bold}[1]{\\mathbf{#1}}{F_{1,\\left\\{1\\right\\}}(t)} = m_{1} t {F_{x_{1},\\left\\{x_{1}\\right\\}}(t)} + 2 \\, m_{2} t {F_{x_{2},\\left\\{x_{2}\\right\\}}(t)} + 2 \\, m_{3} t {F_{x_{3}^{-1},\\left\\{x_{3}^{-1}\\right\\}}(t)} + 1</script></html>"
      ],
      "text/plain": [
       "v1 == m1*t*v2 + 2*m2*t*v4 + 2*m3*t*v6 + 1"
      ]
     },
     "metadata": {},
     "output_type": "display_data"
    },
    {
     "data": {
      "text/html": [
       "<html><script type=\"math/tex; mode=display\">\\newcommand{\\Bold}[1]{\\mathbf{#1}}{F_{x_{2},\\left\\{x_{2}\\right\\}}(t)} = {F_{1,\\left\\{x_{2}^{-1}\\right\\}}(t)} {F_{x_{2}^{-1},\\left\\{1, x_{2}^{-1}\\right\\}}(t)}</script></html>"
      ],
      "text/plain": [
       "v4 == v15*v16"
      ]
     },
     "metadata": {},
     "output_type": "display_data"
    },
    {
     "data": {
      "text/html": [
       "<html><script type=\"math/tex; mode=display\">\\newcommand{\\Bold}[1]{\\mathbf{#1}}{F_{x_{3}^{-1},\\left\\{x_{3}^{-1}\\right\\}}(t)} = {F_{1,\\left\\{x_{3}^{-1}\\right\\}}(t)} {F_{x_{3}^{-1},\\left\\{x_{3}^{-1}, 1\\right\\}}(t)}</script></html>"
      ],
      "text/plain": [
       "v6 == v11*v12"
      ]
     },
     "metadata": {},
     "output_type": "display_data"
    },
    {
     "data": {
      "text/html": [
       "<html><script type=\"math/tex; mode=display\">\\newcommand{\\Bold}[1]{\\mathbf{#1}}{F_{x_{1},\\left\\{x_{1}\\right\\}}(t)} = {F_{1,\\left\\{x_{1}\\right\\}}(t)} {F_{x_{1},\\left\\{1, x_{1}\\right\\}}(t)}</script></html>"
      ],
      "text/plain": [
       "v2 == v13*v14"
      ]
     },
     "metadata": {},
     "output_type": "display_data"
    },
    {
     "data": {
      "text/html": [
       "<html><script type=\"math/tex; mode=display\">\\newcommand{\\Bold}[1]{\\mathbf{#1}}{F_{x_{3}^{-1},\\left\\{x_{3}^{-1}, 1\\right\\}}(t)} = t {F_{x_{3}^{-2},\\left\\{x_{3}^{-1}, x_{3}^{-2}\\right\\}}(t)} + t</script></html>"
      ],
      "text/plain": [
       "v12 == t*v21 + t"
      ]
     },
     "metadata": {},
     "output_type": "display_data"
    },
    {
     "data": {
      "text/html": [
       "<html><script type=\"math/tex; mode=display\">\\newcommand{\\Bold}[1]{\\mathbf{#1}}{F_{1,\\left\\{x_{3}^{-1}\\right\\}}(t)} = {F_{1,\\left\\{x_{3}^{-1}\\right\\}}(t)} {F_{1,\\left\\{x_{3}^{-1}, 1\\right\\}}(t)} - {F_{1,\\left\\{x_{3}^{-1}\\right\\}}(t)} + 1</script></html>"
      ],
      "text/plain": [
       "v11 == v11*v22 - v11 + 1"
      ]
     },
     "metadata": {},
     "output_type": "display_data"
    },
    {
     "data": {
      "text/html": [
       "<html><script type=\"math/tex; mode=display\">\\newcommand{\\Bold}[1]{\\mathbf{#1}}{F_{1,\\left\\{x_{1}\\right\\}}(t)} = {F_{1,\\left\\{x_{1}\\right\\}}(t)} {F_{1,\\left\\{1, x_{1}\\right\\}}(t)} - {F_{1,\\left\\{x_{1}\\right\\}}(t)} + 1</script></html>"
      ],
      "text/plain": [
       "v13 == v13*v23 - v13 + 1"
      ]
     },
     "metadata": {},
     "output_type": "display_data"
    },
    {
     "data": {
      "text/html": [
       "<html><script type=\"math/tex; mode=display\">\\newcommand{\\Bold}[1]{\\mathbf{#1}}{F_{x_{1},\\left\\{1, x_{1}\\right\\}}(t)} = t</script></html>"
      ],
      "text/plain": [
       "v14 == t"
      ]
     },
     "metadata": {},
     "output_type": "display_data"
    },
    {
     "data": {
      "text/html": [
       "<html><script type=\"math/tex; mode=display\">\\newcommand{\\Bold}[1]{\\mathbf{#1}}{F_{x_{2}^{-1},\\left\\{1, x_{2}^{-1}\\right\\}}(t)} = t {F_{x_{2},\\left\\{x_{2}, x_{2}^{-1}\\right\\}}(t)} + t</script></html>"
      ],
      "text/plain": [
       "v16 == t*v24 + t"
      ]
     },
     "metadata": {},
     "output_type": "display_data"
    },
    {
     "data": {
      "text/html": [
       "<html><script type=\"math/tex; mode=display\">\\newcommand{\\Bold}[1]{\\mathbf{#1}}{F_{1,\\left\\{x_{2}^{-1}\\right\\}}(t)} = {F_{1,\\left\\{x_{2}^{-1}\\right\\}}(t)} {F_{1,\\left\\{1, x_{2}^{-1}\\right\\}}(t)} - {F_{1,\\left\\{x_{2}^{-1}\\right\\}}(t)} + 1</script></html>"
      ],
      "text/plain": [
       "v15 == v15*v25 - v15 + 1"
      ]
     },
     "metadata": {},
     "output_type": "display_data"
    },
    {
     "data": {
      "text/html": [
       "<html><script type=\"math/tex; mode=display\">\\newcommand{\\Bold}[1]{\\mathbf{#1}}{F_{x_{3}^{-2},\\left\\{x_{3}^{-1}, x_{3}^{-2}\\right\\}}(t)} = {F_{1,\\left\\{x_{3}^{-1}, x_{3}^{-2}\\right\\}}(t)} {F_{x_{3}^{-2},\\left\\{x_{3}^{-1}, 1, x_{3}^{-2}\\right\\}}(t)}</script></html>"
      ],
      "text/plain": [
       "v21 == v31*v32"
      ]
     },
     "metadata": {},
     "output_type": "display_data"
    },
    {
     "data": {
      "text/html": [
       "<html><script type=\"math/tex; mode=display\">\\newcommand{\\Bold}[1]{\\mathbf{#1}}{F_{1,\\left\\{x_{3}^{-1}, 1\\right\\}}(t)} = m_{1} t {F_{x_{1},\\left\\{x_{1}\\right\\}}(t)} + 2 \\, m_{2} t {F_{x_{2},\\left\\{x_{2}\\right\\}}(t)} + 2 \\, m_{3} t {F_{x_{3}^{-1},\\left\\{x_{3}^{-1}\\right\\}}(t)} + t {F_{x_{3}^{-1},\\left\\{x_{3}^{-1}, x_{3}^{-2}\\right\\}}(t)} - 2 \\, t {F_{x_{3}^{-1},\\left\\{x_{3}^{-1}\\right\\}}(t)} + 1</script></html>"
      ],
      "text/plain": [
       "v22 == m1*t*v2 + 2*m2*t*v4 + 2*m3*t*v6 + t*v33 - 2*t*v6 + 1"
      ]
     },
     "metadata": {},
     "output_type": "display_data"
    },
    {
     "data": {
      "text/html": [
       "<html><script type=\"math/tex; mode=display\">\\newcommand{\\Bold}[1]{\\mathbf{#1}}{F_{1,\\left\\{1, x_{1}\\right\\}}(t)} = m_{1} t {F_{x_{1},\\left\\{x_{1}\\right\\}}(t)} + 2 \\, m_{2} t {F_{x_{2},\\left\\{x_{2}\\right\\}}(t)} + 2 \\, m_{3} t {F_{x_{3}^{-1},\\left\\{x_{3}^{-1}\\right\\}}(t)} - t {F_{x_{1},\\left\\{x_{1}\\right\\}}(t)} + 1</script></html>"
      ],
      "text/plain": [
       "v23 == m1*t*v2 + 2*m2*t*v4 + 2*m3*t*v6 - t*v2 + 1"
      ]
     },
     "metadata": {},
     "output_type": "display_data"
    },
    {
     "data": {
      "text/html": [
       "<html><script type=\"math/tex; mode=display\">\\newcommand{\\Bold}[1]{\\mathbf{#1}}{F_{x_{2},\\left\\{x_{2}, x_{2}^{-1}\\right\\}}(t)} = {F_{1,\\left\\{x_{2}, x_{2}^{-1}\\right\\}}(t)} {F_{x_{2},\\left\\{x_{2}, 1, x_{2}^{-1}\\right\\}}(t)}</script></html>"
      ],
      "text/plain": [
       "v24 == v26*v34"
      ]
     },
     "metadata": {},
     "output_type": "display_data"
    },
    {
     "data": {
      "text/html": [
       "<html><script type=\"math/tex; mode=display\">\\newcommand{\\Bold}[1]{\\mathbf{#1}}{F_{1,\\left\\{1, x_{2}^{-1}\\right\\}}(t)} = m_{1} t {F_{x_{1},\\left\\{x_{1}\\right\\}}(t)} + 2 \\, m_{2} t {F_{x_{2},\\left\\{x_{2}\\right\\}}(t)} + 2 \\, m_{3} t {F_{x_{3}^{-1},\\left\\{x_{3}^{-1}\\right\\}}(t)} + t {F_{x_{2},\\left\\{x_{2}, x_{2}^{-1}\\right\\}}(t)} - 2 \\, t {F_{x_{2},\\left\\{x_{2}\\right\\}}(t)} + 1</script></html>"
      ],
      "text/plain": [
       "v25 == m1*t*v2 + 2*m2*t*v4 + 2*m3*t*v6 + t*v24 - 2*t*v4 + 1"
      ]
     },
     "metadata": {},
     "output_type": "display_data"
    },
    {
     "data": {
      "text/html": [
       "<html><script type=\"math/tex; mode=display\">\\newcommand{\\Bold}[1]{\\mathbf{#1}}{F_{1,\\left\\{x_{2}, x_{2}^{-1}\\right\\}}(t)} = {F_{1,\\left\\{x_{2}, x_{2}^{-1}\\right\\}}(t)} {F_{1,\\left\\{x_{2}, 1, x_{2}^{-1}\\right\\}}(t)} - {F_{1,\\left\\{x_{2}, x_{2}^{-1}\\right\\}}(t)} + 1</script></html>"
      ],
      "text/plain": [
       "v26 == v26*v35 - v26 + 1"
      ]
     },
     "metadata": {},
     "output_type": "display_data"
    },
    {
     "data": {
      "text/html": [
       "<html><script type=\"math/tex; mode=display\">\\newcommand{\\Bold}[1]{\\mathbf{#1}}{F_{1,\\left\\{x_{3}^{-1}, x_{3}^{-2}\\right\\}}(t)} = {F_{1,\\left\\{x_{3}^{-1}, x_{3}^{-2}\\right\\}}(t)} {F_{1,\\left\\{x_{3}^{-1}, 1, x_{3}^{-2}\\right\\}}(t)} - {F_{1,\\left\\{x_{3}^{-1}, x_{3}^{-2}\\right\\}}(t)} + 1</script></html>"
      ],
      "text/plain": [
       "v31 == v31*v39 - v31 + 1"
      ]
     },
     "metadata": {},
     "output_type": "display_data"
    },
    {
     "data": {
      "text/html": [
       "<html><script type=\"math/tex; mode=display\">\\newcommand{\\Bold}[1]{\\mathbf{#1}}{F_{x_{3}^{-2},\\left\\{x_{3}^{-1}, 1, x_{3}^{-2}\\right\\}}(t)} = t {F_{x_{3}^{2},\\left\\{x_{3}^{-1}, x_{3}^{-2}, x_{3}^{2}\\right\\}}(t)}</script></html>"
      ],
      "text/plain": [
       "v32 == t*v40"
      ]
     },
     "metadata": {},
     "output_type": "display_data"
    },
    {
     "data": {
      "text/html": [
       "<html><script type=\"math/tex; mode=display\">\\newcommand{\\Bold}[1]{\\mathbf{#1}}{F_{x_{3}^{-1},\\left\\{x_{3}^{-1}, x_{3}^{-2}\\right\\}}(t)} = {F_{1,\\left\\{x_{3}^{-1}, x_{3}^{-2}\\right\\}}(t)} {F_{x_{3}^{-1},\\left\\{x_{3}^{-1}, 1, x_{3}^{-2}\\right\\}}(t)}</script></html>"
      ],
      "text/plain": [
       "v33 == v31*v41"
      ]
     },
     "metadata": {},
     "output_type": "display_data"
    },
    {
     "data": {
      "text/html": [
       "<html><script type=\"math/tex; mode=display\">\\newcommand{\\Bold}[1]{\\mathbf{#1}}{F_{x_{2},\\left\\{x_{2}, 1, x_{2}^{-1}\\right\\}}(t)} = t</script></html>"
      ],
      "text/plain": [
       "v34 == t"
      ]
     },
     "metadata": {},
     "output_type": "display_data"
    },
    {
     "data": {
      "text/html": [
       "<html><script type=\"math/tex; mode=display\">\\newcommand{\\Bold}[1]{\\mathbf{#1}}{F_{1,\\left\\{x_{2}, 1, x_{2}^{-1}\\right\\}}(t)} = m_{1} t {F_{x_{1},\\left\\{x_{1}\\right\\}}(t)} + 2 \\, m_{2} t {F_{x_{2},\\left\\{x_{2}\\right\\}}(t)} + 2 \\, m_{3} t {F_{x_{3}^{-1},\\left\\{x_{3}^{-1}\\right\\}}(t)} - 2 \\, t {F_{x_{2},\\left\\{x_{2}\\right\\}}(t)} + 1</script></html>"
      ],
      "text/plain": [
       "v35 == m1*t*v2 + 2*m2*t*v4 + 2*m3*t*v6 - 2*t*v4 + 1"
      ]
     },
     "metadata": {},
     "output_type": "display_data"
    },
    {
     "data": {
      "text/html": [
       "<html><script type=\"math/tex; mode=display\">\\newcommand{\\Bold}[1]{\\mathbf{#1}}{F_{1,\\left\\{x_{3}^{-1}, 1, x_{3}^{-2}\\right\\}}(t)} = m_{1} t {F_{x_{1},\\left\\{x_{1}\\right\\}}(t)} + 2 \\, m_{2} t {F_{x_{2},\\left\\{x_{2}\\right\\}}(t)} + 2 \\, m_{3} t {F_{x_{3}^{-1},\\left\\{x_{3}^{-1}\\right\\}}(t)} + t {F_{x_{3}^{-1},\\left\\{x_{3}^{-1}, x_{3}^{-2}, x_{3}^{2}\\right\\}}(t)} - 2 \\, t {F_{x_{3}^{-1},\\left\\{x_{3}^{-1}\\right\\}}(t)} + 1</script></html>"
      ],
      "text/plain": [
       "v39 == m1*t*v2 + 2*m2*t*v4 + 2*m3*t*v6 + t*v46 - 2*t*v6 + 1"
      ]
     },
     "metadata": {},
     "output_type": "display_data"
    },
    {
     "data": {
      "text/html": [
       "<html><script type=\"math/tex; mode=display\">\\newcommand{\\Bold}[1]{\\mathbf{#1}}{F_{x_{3}^{2},\\left\\{x_{3}^{-1}, x_{3}^{-2}, x_{3}^{2}\\right\\}}(t)} = {F_{1,\\left\\{x_{3}^{-1}, x_{3}^{-2}, x_{3}^{2}\\right\\}}(t)} {F_{x_{3}^{2},\\left\\{x_{3}^{-1}, 1, x_{3}^{-2}, x_{3}^{2}\\right\\}}(t)}</script></html>"
      ],
      "text/plain": [
       "v40 == v47*v48"
      ]
     },
     "metadata": {},
     "output_type": "display_data"
    },
    {
     "data": {
      "text/html": [
       "<html><script type=\"math/tex; mode=display\">\\newcommand{\\Bold}[1]{\\mathbf{#1}}{F_{x_{3}^{-1},\\left\\{x_{3}^{-1}, 1, x_{3}^{-2}\\right\\}}(t)} = t {F_{x_{3}^{-2},\\left\\{x_{3}^{-1}, x_{3}^{-2}, x_{3}^{2}\\right\\}}(t)} + t</script></html>"
      ],
      "text/plain": [
       "v41 == t*v49 + t"
      ]
     },
     "metadata": {},
     "output_type": "display_data"
    },
    {
     "data": {
      "text/html": [
       "<html><script type=\"math/tex; mode=display\">\\newcommand{\\Bold}[1]{\\mathbf{#1}}{F_{x_{3}^{-1},\\left\\{x_{3}^{-1}, x_{3}^{-2}, x_{3}^{2}\\right\\}}(t)} = {F_{1,\\left\\{x_{3}^{-1}, x_{3}^{-2}, x_{3}^{2}\\right\\}}(t)} {F_{x_{3}^{-1},\\left\\{x_{3}^{-1}, 1, x_{3}^{-2}, x_{3}^{2}\\right\\}}(t)}</script></html>"
      ],
      "text/plain": [
       "v46 == v47*v54"
      ]
     },
     "metadata": {},
     "output_type": "display_data"
    },
    {
     "data": {
      "text/html": [
       "<html><script type=\"math/tex; mode=display\">\\newcommand{\\Bold}[1]{\\mathbf{#1}}{F_{x_{3}^{2},\\left\\{x_{3}^{-1}, 1, x_{3}^{-2}, x_{3}^{2}\\right\\}}(t)} = t {F_{x_{3},\\left\\{x_{3}^{-1}, x_{3}, x_{3}^{-2}, x_{3}^{2}\\right\\}}(t)}</script></html>"
      ],
      "text/plain": [
       "v48 == t*v55"
      ]
     },
     "metadata": {},
     "output_type": "display_data"
    },
    {
     "data": {
      "text/html": [
       "<html><script type=\"math/tex; mode=display\">\\newcommand{\\Bold}[1]{\\mathbf{#1}}{F_{1,\\left\\{x_{3}^{-1}, x_{3}^{-2}, x_{3}^{2}\\right\\}}(t)} = {F_{1,\\left\\{x_{3}^{-1}, x_{3}^{-2}, x_{3}^{2}\\right\\}}(t)} {F_{1,\\left\\{x_{3}^{-1}, 1, x_{3}^{-2}, x_{3}^{2}\\right\\}}(t)} - {F_{1,\\left\\{x_{3}^{-1}, x_{3}^{-2}, x_{3}^{2}\\right\\}}(t)} + 1</script></html>"
      ],
      "text/plain": [
       "v47 == v47*v56 - v47 + 1"
      ]
     },
     "metadata": {},
     "output_type": "display_data"
    },
    {
     "data": {
      "text/html": [
       "<html><script type=\"math/tex; mode=display\">\\newcommand{\\Bold}[1]{\\mathbf{#1}}{F_{x_{3}^{-2},\\left\\{x_{3}^{-1}, x_{3}^{-2}, x_{3}^{2}\\right\\}}(t)} = {F_{1,\\left\\{x_{3}^{-1}, x_{3}^{-2}, x_{3}^{2}\\right\\}}(t)} {F_{x_{3}^{-2},\\left\\{x_{3}^{-1}, 1, x_{3}^{-2}, x_{3}^{2}\\right\\}}(t)}</script></html>"
      ],
      "text/plain": [
       "v49 == v47*v57"
      ]
     },
     "metadata": {},
     "output_type": "display_data"
    },
    {
     "data": {
      "text/html": [
       "<html><script type=\"math/tex; mode=display\">\\newcommand{\\Bold}[1]{\\mathbf{#1}}{F_{x_{3}^{-1},\\left\\{x_{3}^{-1}, 1, x_{3}^{-2}, x_{3}^{2}\\right\\}}(t)} = t {F_{x_{3}^{-2},\\left\\{x_{3}^{-1}, x_{3}, x_{3}^{-2}, x_{3}^{2}\\right\\}}(t)} + t</script></html>"
      ],
      "text/plain": [
       "v54 == t*v61 + t"
      ]
     },
     "metadata": {},
     "output_type": "display_data"
    },
    {
     "data": {
      "text/html": [
       "<html><script type=\"math/tex; mode=display\">\\newcommand{\\Bold}[1]{\\mathbf{#1}}{F_{x_{3},\\left\\{x_{3}^{-1}, x_{3}, x_{3}^{-2}, x_{3}^{2}\\right\\}}(t)} = {F_{1,\\left\\{x_{3}^{-1}, x_{3}, x_{3}^{-2}, x_{3}^{2}\\right\\}}(t)} {F_{x_{3},\\left\\{1, x_{3}^{-2}, x_{3}^{2}, x_{3}^{-1}, x_{3}\\right\\}}(t)}</script></html>"
      ],
      "text/plain": [
       "v55 == v59*v62"
      ]
     },
     "metadata": {},
     "output_type": "display_data"
    },
    {
     "data": {
      "text/html": [
       "<html><script type=\"math/tex; mode=display\">\\newcommand{\\Bold}[1]{\\mathbf{#1}}{F_{1,\\left\\{x_{3}^{-1}, 1, x_{3}^{-2}, x_{3}^{2}\\right\\}}(t)} = m_{1} t {F_{x_{1},\\left\\{x_{1}\\right\\}}(t)} + 2 \\, m_{2} t {F_{x_{2},\\left\\{x_{2}\\right\\}}(t)} + 2 \\, m_{3} t {F_{x_{3}^{-1},\\left\\{x_{3}^{-1}\\right\\}}(t)} + t {F_{x_{3},\\left\\{x_{3}^{-1}, x_{3}, x_{3}^{-2}, x_{3}^{2}\\right\\}}(t)} - 2 \\, t {F_{x_{3}^{-1},\\left\\{x_{3}^{-1}\\right\\}}(t)} + 1</script></html>"
      ],
      "text/plain": [
       "v56 == m1*t*v2 + 2*m2*t*v4 + 2*m3*t*v6 + t*v55 - 2*t*v6 + 1"
      ]
     },
     "metadata": {},
     "output_type": "display_data"
    },
    {
     "data": {
      "text/html": [
       "<html><script type=\"math/tex; mode=display\">\\newcommand{\\Bold}[1]{\\mathbf{#1}}{F_{x_{3}^{-2},\\left\\{x_{3}^{-1}, 1, x_{3}^{-2}, x_{3}^{2}\\right\\}}(t)} = t {F_{x_{3}^{-2},\\left\\{x_{3}^{-1}, x_{3}, x_{3}^{-2}, x_{3}^{2}\\right\\}}(t)}</script></html>"
      ],
      "text/plain": [
       "v57 == t*v61"
      ]
     },
     "metadata": {},
     "output_type": "display_data"
    },
    {
     "data": {
      "text/html": [
       "<html><script type=\"math/tex; mode=display\">\\newcommand{\\Bold}[1]{\\mathbf{#1}}{F_{1,\\left\\{x_{3}^{-1}, x_{3}, x_{3}^{-2}, x_{3}^{2}\\right\\}}(t)} = {F_{1,\\left\\{x_{3}^{-1}, x_{3}, x_{3}^{-2}, x_{3}^{2}\\right\\}}(t)} {F_{1,\\left\\{1, x_{3}^{-2}, x_{3}^{2}, x_{3}^{-1}, x_{3}\\right\\}}(t)} - {F_{1,\\left\\{x_{3}^{-1}, x_{3}, x_{3}^{-2}, x_{3}^{2}\\right\\}}(t)} + 1</script></html>"
      ],
      "text/plain": [
       "v59 == v59*v64 - v59 + 1"
      ]
     },
     "metadata": {},
     "output_type": "display_data"
    },
    {
     "data": {
      "text/html": [
       "<html><script type=\"math/tex; mode=display\">\\newcommand{\\Bold}[1]{\\mathbf{#1}}{F_{x_{3}^{-2},\\left\\{x_{3}^{-1}, x_{3}, x_{3}^{-2}, x_{3}^{2}\\right\\}}(t)} = {F_{1,\\left\\{x_{3}^{-1}, x_{3}, x_{3}^{-2}, x_{3}^{2}\\right\\}}(t)} {F_{x_{3}^{-2},\\left\\{1, x_{3}^{-2}, x_{3}^{2}, x_{3}^{-1}, x_{3}\\right\\}}(t)}</script></html>"
      ],
      "text/plain": [
       "v61 == v59*v65"
      ]
     },
     "metadata": {},
     "output_type": "display_data"
    },
    {
     "data": {
      "text/html": [
       "<html><script type=\"math/tex; mode=display\">\\newcommand{\\Bold}[1]{\\mathbf{#1}}{F_{x_{3},\\left\\{1, x_{3}^{-2}, x_{3}^{2}, x_{3}^{-1}, x_{3}\\right\\}}(t)} = t</script></html>"
      ],
      "text/plain": [
       "v62 == t"
      ]
     },
     "metadata": {},
     "output_type": "display_data"
    },
    {
     "data": {
      "text/html": [
       "<html><script type=\"math/tex; mode=display\">\\newcommand{\\Bold}[1]{\\mathbf{#1}}{F_{1,\\left\\{1, x_{3}^{-2}, x_{3}^{2}, x_{3}^{-1}, x_{3}\\right\\}}(t)} = m_{1} t {F_{x_{1},\\left\\{x_{1}\\right\\}}(t)} + 2 \\, m_{2} t {F_{x_{2},\\left\\{x_{2}\\right\\}}(t)} + 2 \\, m_{3} t {F_{x_{3}^{-1},\\left\\{x_{3}^{-1}\\right\\}}(t)} - 2 \\, t {F_{x_{3}^{-1},\\left\\{x_{3}^{-1}\\right\\}}(t)} + 1</script></html>"
      ],
      "text/plain": [
       "v64 == m1*t*v2 + 2*m2*t*v4 + 2*m3*t*v6 - 2*t*v6 + 1"
      ]
     },
     "metadata": {},
     "output_type": "display_data"
    },
    {
     "data": {
      "text/html": [
       "<html><script type=\"math/tex; mode=display\">\\newcommand{\\Bold}[1]{\\mathbf{#1}}{F_{x_{3}^{-2},\\left\\{1, x_{3}^{-2}, x_{3}^{2}, x_{3}^{-1}, x_{3}\\right\\}}(t)} = 0</script></html>"
      ],
      "text/plain": [
       "v65 == 0"
      ]
     },
     "metadata": {},
     "output_type": "display_data"
    }
   ],
   "source": [
    "for eq in reduced_system:\n",
    "    pretty_print(eq)"
   ]
  },
  {
   "cell_type": "code",
   "execution_count": 22,
   "metadata": {},
   "outputs": [],
   "source": [
    "# get rid of all F-varibles that only depend on t\n",
    "while 1:\n",
    "    terminals = {}\n",
    "    for eq in reduced_system:\n",
    "        if Set(eq.rhs().args()).issubset(Set([t])):\n",
    "            terminals[eq.lhs()] = eq.rhs()\n",
    "    if not terminals:\n",
    "        break\n",
    "    reduced_system = [eq.subs(terminals) for eq in reduced_system if eq.lhs() not in terminals]"
   ]
  },
  {
   "cell_type": "code",
   "execution_count": 23,
   "metadata": {},
   "outputs": [
    {
     "data": {
      "text/html": [
       "<html><script type=\"math/tex; mode=display\">\\newcommand{\\Bold}[1]{\\mathbf{#1}}{F_{1,\\varnothing}(t)} = {F_{1,\\varnothing}(t)} {F_{1,\\left\\{1\\right\\}}(t)} - {F_{1,\\varnothing}(t)} + 1</script></html>"
      ],
      "text/plain": [
       "v0 == v0*v1 - v0 + 1"
      ]
     },
     "metadata": {},
     "output_type": "display_data"
    },
    {
     "data": {
      "text/html": [
       "<html><script type=\"math/tex; mode=display\">\\newcommand{\\Bold}[1]{\\mathbf{#1}}{F_{1,\\left\\{1\\right\\}}(t)} = m_{1} t {F_{x_{1},\\left\\{x_{1}\\right\\}}(t)} + 2 \\, m_{2} t {F_{x_{2},\\left\\{x_{2}\\right\\}}(t)} + 2 \\, m_{3} t {F_{x_{3}^{-1},\\left\\{x_{3}^{-1}\\right\\}}(t)} + 1</script></html>"
      ],
      "text/plain": [
       "v1 == m1*t*v2 + 2*m2*t*v4 + 2*m3*t*v6 + 1"
      ]
     },
     "metadata": {},
     "output_type": "display_data"
    },
    {
     "data": {
      "text/html": [
       "<html><script type=\"math/tex; mode=display\">\\newcommand{\\Bold}[1]{\\mathbf{#1}}{F_{x_{2},\\left\\{x_{2}\\right\\}}(t)} = {F_{1,\\left\\{x_{2}^{-1}\\right\\}}(t)} {F_{x_{2}^{-1},\\left\\{1, x_{2}^{-1}\\right\\}}(t)}</script></html>"
      ],
      "text/plain": [
       "v4 == v15*v16"
      ]
     },
     "metadata": {},
     "output_type": "display_data"
    },
    {
     "data": {
      "text/html": [
       "<html><script type=\"math/tex; mode=display\">\\newcommand{\\Bold}[1]{\\mathbf{#1}}{F_{x_{3}^{-1},\\left\\{x_{3}^{-1}\\right\\}}(t)} = {F_{1,\\left\\{x_{3}^{-1}\\right\\}}(t)} {F_{x_{3}^{-1},\\left\\{x_{3}^{-1}, 1\\right\\}}(t)}</script></html>"
      ],
      "text/plain": [
       "v6 == v11*v12"
      ]
     },
     "metadata": {},
     "output_type": "display_data"
    },
    {
     "data": {
      "text/html": [
       "<html><script type=\"math/tex; mode=display\">\\newcommand{\\Bold}[1]{\\mathbf{#1}}{F_{x_{1},\\left\\{x_{1}\\right\\}}(t)} = t {F_{1,\\left\\{x_{1}\\right\\}}(t)}</script></html>"
      ],
      "text/plain": [
       "v2 == t*v13"
      ]
     },
     "metadata": {},
     "output_type": "display_data"
    },
    {
     "data": {
      "text/html": [
       "<html><script type=\"math/tex; mode=display\">\\newcommand{\\Bold}[1]{\\mathbf{#1}}{F_{x_{3}^{-1},\\left\\{x_{3}^{-1}, 1\\right\\}}(t)} = t {F_{x_{3}^{-2},\\left\\{x_{3}^{-1}, x_{3}^{-2}\\right\\}}(t)} + t</script></html>"
      ],
      "text/plain": [
       "v12 == t*v21 + t"
      ]
     },
     "metadata": {},
     "output_type": "display_data"
    },
    {
     "data": {
      "text/html": [
       "<html><script type=\"math/tex; mode=display\">\\newcommand{\\Bold}[1]{\\mathbf{#1}}{F_{1,\\left\\{x_{3}^{-1}\\right\\}}(t)} = {F_{1,\\left\\{x_{3}^{-1}\\right\\}}(t)} {F_{1,\\left\\{x_{3}^{-1}, 1\\right\\}}(t)} - {F_{1,\\left\\{x_{3}^{-1}\\right\\}}(t)} + 1</script></html>"
      ],
      "text/plain": [
       "v11 == v11*v22 - v11 + 1"
      ]
     },
     "metadata": {},
     "output_type": "display_data"
    },
    {
     "data": {
      "text/html": [
       "<html><script type=\"math/tex; mode=display\">\\newcommand{\\Bold}[1]{\\mathbf{#1}}{F_{1,\\left\\{x_{1}\\right\\}}(t)} = {F_{1,\\left\\{x_{1}\\right\\}}(t)} {F_{1,\\left\\{1, x_{1}\\right\\}}(t)} - {F_{1,\\left\\{x_{1}\\right\\}}(t)} + 1</script></html>"
      ],
      "text/plain": [
       "v13 == v13*v23 - v13 + 1"
      ]
     },
     "metadata": {},
     "output_type": "display_data"
    },
    {
     "data": {
      "text/html": [
       "<html><script type=\"math/tex; mode=display\">\\newcommand{\\Bold}[1]{\\mathbf{#1}}{F_{x_{2}^{-1},\\left\\{1, x_{2}^{-1}\\right\\}}(t)} = t {F_{x_{2},\\left\\{x_{2}, x_{2}^{-1}\\right\\}}(t)} + t</script></html>"
      ],
      "text/plain": [
       "v16 == t*v24 + t"
      ]
     },
     "metadata": {},
     "output_type": "display_data"
    },
    {
     "data": {
      "text/html": [
       "<html><script type=\"math/tex; mode=display\">\\newcommand{\\Bold}[1]{\\mathbf{#1}}{F_{1,\\left\\{x_{2}^{-1}\\right\\}}(t)} = {F_{1,\\left\\{x_{2}^{-1}\\right\\}}(t)} {F_{1,\\left\\{1, x_{2}^{-1}\\right\\}}(t)} - {F_{1,\\left\\{x_{2}^{-1}\\right\\}}(t)} + 1</script></html>"
      ],
      "text/plain": [
       "v15 == v15*v25 - v15 + 1"
      ]
     },
     "metadata": {},
     "output_type": "display_data"
    },
    {
     "data": {
      "text/html": [
       "<html><script type=\"math/tex; mode=display\">\\newcommand{\\Bold}[1]{\\mathbf{#1}}{F_{x_{3}^{-2},\\left\\{x_{3}^{-1}, x_{3}^{-2}\\right\\}}(t)} = {F_{1,\\left\\{x_{3}^{-1}, x_{3}^{-2}\\right\\}}(t)} {F_{x_{3}^{-2},\\left\\{x_{3}^{-1}, 1, x_{3}^{-2}\\right\\}}(t)}</script></html>"
      ],
      "text/plain": [
       "v21 == v31*v32"
      ]
     },
     "metadata": {},
     "output_type": "display_data"
    },
    {
     "data": {
      "text/html": [
       "<html><script type=\"math/tex; mode=display\">\\newcommand{\\Bold}[1]{\\mathbf{#1}}{F_{1,\\left\\{x_{3}^{-1}, 1\\right\\}}(t)} = m_{1} t {F_{x_{1},\\left\\{x_{1}\\right\\}}(t)} + 2 \\, m_{2} t {F_{x_{2},\\left\\{x_{2}\\right\\}}(t)} + 2 \\, m_{3} t {F_{x_{3}^{-1},\\left\\{x_{3}^{-1}\\right\\}}(t)} + t {F_{x_{3}^{-1},\\left\\{x_{3}^{-1}, x_{3}^{-2}\\right\\}}(t)} - 2 \\, t {F_{x_{3}^{-1},\\left\\{x_{3}^{-1}\\right\\}}(t)} + 1</script></html>"
      ],
      "text/plain": [
       "v22 == m1*t*v2 + 2*m2*t*v4 + 2*m3*t*v6 + t*v33 - 2*t*v6 + 1"
      ]
     },
     "metadata": {},
     "output_type": "display_data"
    },
    {
     "data": {
      "text/html": [
       "<html><script type=\"math/tex; mode=display\">\\newcommand{\\Bold}[1]{\\mathbf{#1}}{F_{1,\\left\\{1, x_{1}\\right\\}}(t)} = m_{1} t {F_{x_{1},\\left\\{x_{1}\\right\\}}(t)} + 2 \\, m_{2} t {F_{x_{2},\\left\\{x_{2}\\right\\}}(t)} + 2 \\, m_{3} t {F_{x_{3}^{-1},\\left\\{x_{3}^{-1}\\right\\}}(t)} - t {F_{x_{1},\\left\\{x_{1}\\right\\}}(t)} + 1</script></html>"
      ],
      "text/plain": [
       "v23 == m1*t*v2 + 2*m2*t*v4 + 2*m3*t*v6 - t*v2 + 1"
      ]
     },
     "metadata": {},
     "output_type": "display_data"
    },
    {
     "data": {
      "text/html": [
       "<html><script type=\"math/tex; mode=display\">\\newcommand{\\Bold}[1]{\\mathbf{#1}}{F_{x_{2},\\left\\{x_{2}, x_{2}^{-1}\\right\\}}(t)} = t {F_{1,\\left\\{x_{2}, x_{2}^{-1}\\right\\}}(t)}</script></html>"
      ],
      "text/plain": [
       "v24 == t*v26"
      ]
     },
     "metadata": {},
     "output_type": "display_data"
    },
    {
     "data": {
      "text/html": [
       "<html><script type=\"math/tex; mode=display\">\\newcommand{\\Bold}[1]{\\mathbf{#1}}{F_{1,\\left\\{1, x_{2}^{-1}\\right\\}}(t)} = m_{1} t {F_{x_{1},\\left\\{x_{1}\\right\\}}(t)} + 2 \\, m_{2} t {F_{x_{2},\\left\\{x_{2}\\right\\}}(t)} + 2 \\, m_{3} t {F_{x_{3}^{-1},\\left\\{x_{3}^{-1}\\right\\}}(t)} + t {F_{x_{2},\\left\\{x_{2}, x_{2}^{-1}\\right\\}}(t)} - 2 \\, t {F_{x_{2},\\left\\{x_{2}\\right\\}}(t)} + 1</script></html>"
      ],
      "text/plain": [
       "v25 == m1*t*v2 + 2*m2*t*v4 + 2*m3*t*v6 + t*v24 - 2*t*v4 + 1"
      ]
     },
     "metadata": {},
     "output_type": "display_data"
    },
    {
     "data": {
      "text/html": [
       "<html><script type=\"math/tex; mode=display\">\\newcommand{\\Bold}[1]{\\mathbf{#1}}{F_{1,\\left\\{x_{2}, x_{2}^{-1}\\right\\}}(t)} = {F_{1,\\left\\{x_{2}, x_{2}^{-1}\\right\\}}(t)} {F_{1,\\left\\{x_{2}, 1, x_{2}^{-1}\\right\\}}(t)} - {F_{1,\\left\\{x_{2}, x_{2}^{-1}\\right\\}}(t)} + 1</script></html>"
      ],
      "text/plain": [
       "v26 == v26*v35 - v26 + 1"
      ]
     },
     "metadata": {},
     "output_type": "display_data"
    },
    {
     "data": {
      "text/html": [
       "<html><script type=\"math/tex; mode=display\">\\newcommand{\\Bold}[1]{\\mathbf{#1}}{F_{1,\\left\\{x_{3}^{-1}, x_{3}^{-2}\\right\\}}(t)} = {F_{1,\\left\\{x_{3}^{-1}, x_{3}^{-2}\\right\\}}(t)} {F_{1,\\left\\{x_{3}^{-1}, 1, x_{3}^{-2}\\right\\}}(t)} - {F_{1,\\left\\{x_{3}^{-1}, x_{3}^{-2}\\right\\}}(t)} + 1</script></html>"
      ],
      "text/plain": [
       "v31 == v31*v39 - v31 + 1"
      ]
     },
     "metadata": {},
     "output_type": "display_data"
    },
    {
     "data": {
      "text/html": [
       "<html><script type=\"math/tex; mode=display\">\\newcommand{\\Bold}[1]{\\mathbf{#1}}{F_{x_{3}^{-2},\\left\\{x_{3}^{-1}, 1, x_{3}^{-2}\\right\\}}(t)} = t {F_{x_{3}^{2},\\left\\{x_{3}^{-1}, x_{3}^{-2}, x_{3}^{2}\\right\\}}(t)}</script></html>"
      ],
      "text/plain": [
       "v32 == t*v40"
      ]
     },
     "metadata": {},
     "output_type": "display_data"
    },
    {
     "data": {
      "text/html": [
       "<html><script type=\"math/tex; mode=display\">\\newcommand{\\Bold}[1]{\\mathbf{#1}}{F_{x_{3}^{-1},\\left\\{x_{3}^{-1}, x_{3}^{-2}\\right\\}}(t)} = t {F_{1,\\left\\{x_{3}^{-1}, x_{3}^{-2}\\right\\}}(t)}</script></html>"
      ],
      "text/plain": [
       "v33 == t*v31"
      ]
     },
     "metadata": {},
     "output_type": "display_data"
    },
    {
     "data": {
      "text/html": [
       "<html><script type=\"math/tex; mode=display\">\\newcommand{\\Bold}[1]{\\mathbf{#1}}{F_{1,\\left\\{x_{2}, 1, x_{2}^{-1}\\right\\}}(t)} = m_{1} t {F_{x_{1},\\left\\{x_{1}\\right\\}}(t)} + 2 \\, m_{2} t {F_{x_{2},\\left\\{x_{2}\\right\\}}(t)} + 2 \\, m_{3} t {F_{x_{3}^{-1},\\left\\{x_{3}^{-1}\\right\\}}(t)} - 2 \\, t {F_{x_{2},\\left\\{x_{2}\\right\\}}(t)} + 1</script></html>"
      ],
      "text/plain": [
       "v35 == m1*t*v2 + 2*m2*t*v4 + 2*m3*t*v6 - 2*t*v4 + 1"
      ]
     },
     "metadata": {},
     "output_type": "display_data"
    },
    {
     "data": {
      "text/html": [
       "<html><script type=\"math/tex; mode=display\">\\newcommand{\\Bold}[1]{\\mathbf{#1}}{F_{1,\\left\\{x_{3}^{-1}, 1, x_{3}^{-2}\\right\\}}(t)} = m_{1} t {F_{x_{1},\\left\\{x_{1}\\right\\}}(t)} + 2 \\, m_{2} t {F_{x_{2},\\left\\{x_{2}\\right\\}}(t)} + 2 \\, m_{3} t {F_{x_{3}^{-1},\\left\\{x_{3}^{-1}\\right\\}}(t)} + t {F_{x_{3}^{-1},\\left\\{x_{3}^{-1}, x_{3}^{-2}, x_{3}^{2}\\right\\}}(t)} - 2 \\, t {F_{x_{3}^{-1},\\left\\{x_{3}^{-1}\\right\\}}(t)} + 1</script></html>"
      ],
      "text/plain": [
       "v39 == m1*t*v2 + 2*m2*t*v4 + 2*m3*t*v6 + t*v46 - 2*t*v6 + 1"
      ]
     },
     "metadata": {},
     "output_type": "display_data"
    },
    {
     "data": {
      "text/html": [
       "<html><script type=\"math/tex; mode=display\">\\newcommand{\\Bold}[1]{\\mathbf{#1}}{F_{x_{3}^{2},\\left\\{x_{3}^{-1}, x_{3}^{-2}, x_{3}^{2}\\right\\}}(t)} = {F_{1,\\left\\{x_{3}^{-1}, x_{3}^{-2}, x_{3}^{2}\\right\\}}(t)} {F_{x_{3}^{2},\\left\\{x_{3}^{-1}, 1, x_{3}^{-2}, x_{3}^{2}\\right\\}}(t)}</script></html>"
      ],
      "text/plain": [
       "v40 == v47*v48"
      ]
     },
     "metadata": {},
     "output_type": "display_data"
    },
    {
     "data": {
      "text/html": [
       "<html><script type=\"math/tex; mode=display\">\\newcommand{\\Bold}[1]{\\mathbf{#1}}{F_{x_{3}^{-1},\\left\\{x_{3}^{-1}, x_{3}^{-2}, x_{3}^{2}\\right\\}}(t)} = t {F_{1,\\left\\{x_{3}^{-1}, x_{3}^{-2}, x_{3}^{2}\\right\\}}(t)}</script></html>"
      ],
      "text/plain": [
       "v46 == t*v47"
      ]
     },
     "metadata": {},
     "output_type": "display_data"
    },
    {
     "data": {
      "text/html": [
       "<html><script type=\"math/tex; mode=display\">\\newcommand{\\Bold}[1]{\\mathbf{#1}}{F_{x_{3}^{2},\\left\\{x_{3}^{-1}, 1, x_{3}^{-2}, x_{3}^{2}\\right\\}}(t)} = t {F_{x_{3},\\left\\{x_{3}^{-1}, x_{3}, x_{3}^{-2}, x_{3}^{2}\\right\\}}(t)}</script></html>"
      ],
      "text/plain": [
       "v48 == t*v55"
      ]
     },
     "metadata": {},
     "output_type": "display_data"
    },
    {
     "data": {
      "text/html": [
       "<html><script type=\"math/tex; mode=display\">\\newcommand{\\Bold}[1]{\\mathbf{#1}}{F_{1,\\left\\{x_{3}^{-1}, x_{3}^{-2}, x_{3}^{2}\\right\\}}(t)} = {F_{1,\\left\\{x_{3}^{-1}, x_{3}^{-2}, x_{3}^{2}\\right\\}}(t)} {F_{1,\\left\\{x_{3}^{-1}, 1, x_{3}^{-2}, x_{3}^{2}\\right\\}}(t)} - {F_{1,\\left\\{x_{3}^{-1}, x_{3}^{-2}, x_{3}^{2}\\right\\}}(t)} + 1</script></html>"
      ],
      "text/plain": [
       "v47 == v47*v56 - v47 + 1"
      ]
     },
     "metadata": {},
     "output_type": "display_data"
    },
    {
     "data": {
      "text/html": [
       "<html><script type=\"math/tex; mode=display\">\\newcommand{\\Bold}[1]{\\mathbf{#1}}{F_{x_{3},\\left\\{x_{3}^{-1}, x_{3}, x_{3}^{-2}, x_{3}^{2}\\right\\}}(t)} = t {F_{1,\\left\\{x_{3}^{-1}, x_{3}, x_{3}^{-2}, x_{3}^{2}\\right\\}}(t)}</script></html>"
      ],
      "text/plain": [
       "v55 == t*v59"
      ]
     },
     "metadata": {},
     "output_type": "display_data"
    },
    {
     "data": {
      "text/html": [
       "<html><script type=\"math/tex; mode=display\">\\newcommand{\\Bold}[1]{\\mathbf{#1}}{F_{1,\\left\\{x_{3}^{-1}, 1, x_{3}^{-2}, x_{3}^{2}\\right\\}}(t)} = m_{1} t {F_{x_{1},\\left\\{x_{1}\\right\\}}(t)} + 2 \\, m_{2} t {F_{x_{2},\\left\\{x_{2}\\right\\}}(t)} + 2 \\, m_{3} t {F_{x_{3}^{-1},\\left\\{x_{3}^{-1}\\right\\}}(t)} + t {F_{x_{3},\\left\\{x_{3}^{-1}, x_{3}, x_{3}^{-2}, x_{3}^{2}\\right\\}}(t)} - 2 \\, t {F_{x_{3}^{-1},\\left\\{x_{3}^{-1}\\right\\}}(t)} + 1</script></html>"
      ],
      "text/plain": [
       "v56 == m1*t*v2 + 2*m2*t*v4 + 2*m3*t*v6 + t*v55 - 2*t*v6 + 1"
      ]
     },
     "metadata": {},
     "output_type": "display_data"
    },
    {
     "data": {
      "text/html": [
       "<html><script type=\"math/tex; mode=display\">\\newcommand{\\Bold}[1]{\\mathbf{#1}}{F_{1,\\left\\{x_{3}^{-1}, x_{3}, x_{3}^{-2}, x_{3}^{2}\\right\\}}(t)} = {F_{1,\\left\\{x_{3}^{-1}, x_{3}, x_{3}^{-2}, x_{3}^{2}\\right\\}}(t)} {F_{1,\\left\\{1, x_{3}^{-2}, x_{3}^{2}, x_{3}^{-1}, x_{3}\\right\\}}(t)} - {F_{1,\\left\\{x_{3}^{-1}, x_{3}, x_{3}^{-2}, x_{3}^{2}\\right\\}}(t)} + 1</script></html>"
      ],
      "text/plain": [
       "v59 == v59*v64 - v59 + 1"
      ]
     },
     "metadata": {},
     "output_type": "display_data"
    },
    {
     "data": {
      "text/html": [
       "<html><script type=\"math/tex; mode=display\">\\newcommand{\\Bold}[1]{\\mathbf{#1}}{F_{1,\\left\\{1, x_{3}^{-2}, x_{3}^{2}, x_{3}^{-1}, x_{3}\\right\\}}(t)} = m_{1} t {F_{x_{1},\\left\\{x_{1}\\right\\}}(t)} + 2 \\, m_{2} t {F_{x_{2},\\left\\{x_{2}\\right\\}}(t)} + 2 \\, m_{3} t {F_{x_{3}^{-1},\\left\\{x_{3}^{-1}\\right\\}}(t)} - 2 \\, t {F_{x_{3}^{-1},\\left\\{x_{3}^{-1}\\right\\}}(t)} + 1</script></html>"
      ],
      "text/plain": [
       "v64 == m1*t*v2 + 2*m2*t*v4 + 2*m3*t*v6 - 2*t*v6 + 1"
      ]
     },
     "metadata": {},
     "output_type": "display_data"
    }
   ],
   "source": [
    "for eq in reduced_system:\n",
    "    pretty_print(eq)"
   ]
  },
  {
   "cell_type": "code",
   "execution_count": 24,
   "metadata": {},
   "outputs": [
    {
     "name": "stdout",
     "output_type": "stream",
     "text": [
      "/home/sage/OneDrive - sfu.ca/Research/Msc_math_sfu/Marni/cogrowth_computations\n"
     ]
    }
   ],
   "source": [
    "# Take the reduced implicit system of equations, with the list of variables to eliminate,\n",
    "#  and dump them to a maple data file\n",
    "import os\n",
    "\n",
    "var_rem = {eq.lhs() for eq in reduced_system}\n",
    "print(os.getcwd())\n",
    "fdir = 'maple_data_files'\n",
    "if not os.path.isdir(fdir):\n",
    "    os.mkdir(fdir)\n",
    "fsuffix = '-dat.maple'\n",
    "fname = ''\n",
    "for n,rep in zip(nis,dups):\n",
    "    fname+='Z%d_%s__'%(n,rep)\n",
    "fname+='ic'\n",
    "fname+=fsuffix\n",
    "fname = os.path.join(fdir,fname)\n",
    "if not os.path.exists(fname):\n",
    "    fd = open(fname, 'w')\n",
    "    fd.write('syst:='+str(reduced_system).replace('==','=')+';')\n",
    "    fd.write('\\n')\n",
    "    fd.write('varlist:='+str((sorted(var_rem, key = lambda vv: int(str(vv)[1:]))))+';')\n",
    "    fd.write('\\n')\n",
    "    fd.close()"
   ]
  },
  {
   "cell_type": "code",
   "execution_count": 25,
   "metadata": {},
   "outputs": [
    {
     "name": "stdout",
     "output_type": "stream",
     "text": [
      "maple_data_files/Z2_m1__Z3_m2__Z5_m3__ic-dat.maple True\n"
     ]
    }
   ],
   "source": [
    "# check if new file exists\n",
    "print(fname,os.path.exists(fname))"
   ]
  },
  {
   "cell_type": "code",
   "execution_count": 28,
   "metadata": {},
   "outputs": [],
   "source": [
    "# Take the latex code of the system, and dump it to a file\n",
    "fdir = 'grammar_latex'\n",
    "if not os.path.isdir(fdir):\n",
    "    os.mkdir(fdir)\n",
    "fsuffix = 'grammar.txt'\n",
    "fname = ''\n",
    "for n,rep in zip(nis,dups):\n",
    "    fname+='Z%d_%s__'%(n,rep)\n",
    "fname += fsuffix\n",
    "fname = os.path.join(fdir,fname)\n",
    "if not os.path.exists(fname):\n",
    "    fd = open(fname, 'w')\n",
    "    for eqn in reduced_system:\n",
    "        fd.write(latex(eqn)+\"\\\\\\\\\\n\")\n",
    "    fd.close()\n",
    "\n"
   ]
  },
  {
   "cell_type": "code",
   "execution_count": null,
   "metadata": {},
   "outputs": [],
   "source": []
  }
 ],
 "metadata": {
  "kernelspec": {
   "display_name": "SageMath 9.0",
   "language": "sage",
   "name": "sagemath"
  },
  "language_info": {
   "codemirror_mode": {
    "name": "ipython",
    "version": 3
   },
   "file_extension": ".py",
   "mimetype": "text/x-python",
   "name": "python",
   "nbconvert_exporter": "python",
   "pygments_lexer": "ipython3",
   "version": "3.7.3"
  }
 },
 "nbformat": 4,
 "nbformat_minor": 2
}
