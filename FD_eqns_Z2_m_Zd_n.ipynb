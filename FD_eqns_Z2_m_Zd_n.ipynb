{
 "cells": [
  {
   "cell_type": "markdown",
   "metadata": {},
   "source": [
    "# FD equations for the cogrowth sequence of $\\mathbb{Z}_2^m*\\mathbb{Z}_d^n$, $d>2$, $m,n$ parameters\n",
    "\n",
    "Genearting set is $S=\\{x_1,...,x_m,x_{m+1},y_1,y_1^{-1}, ..., y_n,y_n^{-1}\\}$. We denote $x$ as any $x_i,i\\le m$, and $y$ as any $y_j$."
   ]
  },
  {
   "cell_type": "code",
   "execution_count": 1,
   "metadata": {},
   "outputs": [],
   "source": [
    "var('m n t')\n",
    "d=9\n",
    "dups = [m,n]"
   ]
  },
  {
   "cell_type": "code",
   "execution_count": 2,
   "metadata": {},
   "outputs": [],
   "source": [
    "## do not change!\n",
    "\n",
    "\n",
    "# Compute free group and gen set\n",
    "F2.<x,y> = FreeGroup(2)\n",
    "\n",
    "\n",
    "\n",
    "xs = [x,y]\n",
    "\n",
    "G = F2/ tuple([v^ex for v,ex in zip(xs,[2,d])])\n",
    "\n",
    "xs = G.gens()\n",
    "x,y = xs"
   ]
  },
  {
   "cell_type": "code",
   "execution_count": 3,
   "metadata": {},
   "outputs": [
    {
     "data": {
      "text/plain": [
       "Rewriting system of Finitely presented group < x, y | x^2, y^9 >\n",
       "with rules:\n",
       "    x^-1    --->    x\n",
       "    x^2    --->    1\n",
       "    y^-5    --->    y^4\n",
       "    y^5    --->    y^-4"
      ]
     },
     "execution_count": 3,
     "metadata": {},
     "output_type": "execute_result"
    }
   ],
   "source": [
    "Grs = G.rewriting_system() # a rewriting system to simplfy elements\n",
    "Grs.make_confluent() # this guarrantees that equivalent elements map to a UNIQUE expression\n",
    "\n",
    "def recmap(f):\n",
    "    # f: an single argument function\n",
    "    def _recmap_f(obj):\n",
    "        # obj: atomic element or an iterable collection of them\n",
    "        # return the reduced form for the element via a single argument function f,\n",
    "        #    of the same iterable type, with each element recursively reduced\n",
    "        try:\n",
    "            iter(obj)\n",
    "        except:\n",
    "            # not iterable, so must be one atomic element\n",
    "            return f(obj)\n",
    "        container = type(obj)\n",
    "        return container(list(map(_recmap_f, obj)))\n",
    "    return _recmap_f\n",
    "\n",
    "rd = recmap(Grs.reduce) # reduce elements of G, or iterable collections of them\n",
    "Grs"
   ]
  },
  {
   "cell_type": "code",
   "execution_count": 4,
   "metadata": {},
   "outputs": [
    {
     "data": {
      "text/plain": [
       "([{x}, {y, y^-1}], {y, y^-1, x})"
      ]
     },
     "execution_count": 4,
     "metadata": {},
     "output_type": "execute_result"
    }
   ],
   "source": [
    "Sis = [Set([x]),Set([rd(y),rd(y^-1)])]\n",
    "S = set()\n",
    "for A in Sis:\n",
    "    S.update(A)\n",
    "S= Set(S)\n",
    "Sis,S"
   ]
  },
  {
   "cell_type": "code",
   "execution_count": 5,
   "metadata": {},
   "outputs": [],
   "source": [
    "# latex expression for sets\n",
    "def set_to_latex(A):\n",
    "    if A == Set():\n",
    "        return r'\\varnothing'\n",
    "    return latex(A)"
   ]
  },
  {
   "cell_type": "code",
   "execution_count": 6,
   "metadata": {},
   "outputs": [],
   "source": [
    "# define a space of variables indexed by the (g,X) pairs\n",
    "# start with what we wish to solve, (1,\\emptyset).\n",
    "def series_expression(g,X):\n",
    "    return 'F_{%s,%s}(t)'%(latex(g),set_to_latex(X))\n",
    "var_space = {}\n",
    "goal_pair = (G.one(), Set())\n",
    "VAR_COUNTER = 0 # increment every time a new series variable is defined\n",
    "\n",
    "def add_series_var(pair):\n",
    "    if pair in var_space:\n",
    "        return False\n",
    "    global VAR_COUNTER\n",
    "    g,X = pair\n",
    "    var_space[pair] = var('v%d'%VAR_COUNTER, latex_name = series_expression(g,X))\n",
    "    VAR_COUNTER += 1\n",
    "    return True\n",
    "\n",
    "def reset_var_space():\n",
    "    global VAR_COUNTER\n",
    "    var_space.clear()\n",
    "    VAR_COUNTER=0\n",
    "    add_series_var(goal_pair)\n",
    "    \n",
    "reset_var_space()"
   ]
  },
  {
   "cell_type": "code",
   "execution_count": 7,
   "metadata": {},
   "outputs": [
    {
     "data": {
      "text/html": [
       "<html><script type=\"math/tex; mode=display\">\\newcommand{\\Bold}[1]{\\mathbf{#1}}\\left\\{\\left(1, \\left\\{\\right\\}\\right) : {F_{1,\\varnothing}(t)}\\right\\}</script></html>"
      ],
      "text/plain": [
       "{(1, {}): v0}"
      ]
     },
     "metadata": {},
     "output_type": "display_data"
    }
   ],
   "source": [
    "pretty_print(var_space)"
   ]
  },
  {
   "cell_type": "code",
   "execution_count": 8,
   "metadata": {},
   "outputs": [],
   "source": [
    "# need to define set-set, set-element multiplication\n",
    "def set_mult(A,B):\n",
    "    # turn any non-set object into a singleton set containing that object\n",
    "    # assume elements all belong to G, and written in reduced from\n",
    "    A,B = map(lambda S: S if S in Sets else Set([S]),[A,B])\n",
    "    C= Set([a*b for a,b in cartesian_product([A,B])]) # assuming element multiplication is well defined\n",
    "    return rd(C)\n",
    "\n",
    "# Let's overload the '*' operator for Set objects\n",
    "# Set is a function, but returns an instance of some spectifed kind of Set class, which is accessible via .parent()\n",
    "reverse_if = lambda seq, cond: list(seq) if not cond else list(reversed(seq))\n",
    "Set().parent()._mul_ =  lambda self, other, switch_sides=False: set_mult(*(reverse_if([self,other], switch_sides)))"
   ]
  },
  {
   "cell_type": "code",
   "execution_count": 9,
   "metadata": {},
   "outputs": [],
   "source": [
    "# Now get the cyclic factors\n",
    "\n",
    "\n",
    "def in_cyclic_factor(el, v):\n",
    "    '''\n",
    "        returns if the group element is in the given cyclic factor\n",
    "        el: the element in G to check\n",
    "        v: one of the xi's, the generator of the factor \n",
    "    '''\n",
    "    expr = el.syllables()\n",
    "    if not expr:\n",
    "        return True\n",
    "    return len(expr)==1 and expr[0][0] == v\n",
    "    \n",
    "def subset_of_cyclic_factor(A,v):\n",
    "    # assume A is a finite sets\n",
    "    return all((in_cyclic_factor(el,v) for el in A))"
   ]
  },
  {
   "cell_type": "code",
   "execution_count": 10,
   "metadata": {},
   "outputs": [],
   "source": [
    "# construct the functional equation given the desired (g,X) pair\n",
    "# assume {g}\\cup X is completely in one of the cyclic factors\n",
    "# CURRENTLY FINITE CASE ONLY\n",
    "\n",
    "def get_FD_equation(pair, ret_new_pairs = True):\n",
    "    '''\n",
    "        returns a functional depency equation\n",
    "        if ret_new_pairs is set to True, return a (equation, set of (g,X) pairs) pair instead\n",
    "        assume g,X are rewritten in simplest form\n",
    "    '''\n",
    "    if ret_new_pairs:\n",
    "        newpairs = set()\n",
    "    g,X = pair\n",
    "    eqn = None\n",
    "    one = G.one()\n",
    "    oneset = Set([one])\n",
    "    if one not in X:\n",
    "        XU1 = X.union(oneset)\n",
    "        if add_series_var((one,X)) and ret_new_pairs:\n",
    "            newpairs.add((one,X))\n",
    "        if add_series_var((g,XU1)) and ret_new_pairs:\n",
    "            newpairs.add((g,XU1))\n",
    "        if g==one:\n",
    "            eqn = 1+var_space[(one,X)]*(var_space[(one,XU1)]-1)\n",
    "        else:\n",
    "            eqn = var_space[(one,X)]*var_space[(g,XU1)]\n",
    "    else:\n",
    "        for v,gen in zip(xs, Sis):\n",
    "            if subset_of_cyclic_factor(X,v):\n",
    "                if g!=one:\n",
    "                    eqn = t*ZZ(g in gen)\n",
    "                    for s in gen-X:\n",
    "                        [gs] = rd(s^-1)*Set([g]) # use set so auto reduction is implemented\n",
    "                        Xs = rd(s^-1)*X\n",
    "                        if add_series_var((gs,Xs)) and ret_new_pairs:\n",
    "                            newpairs.add((gs,Xs))\n",
    "                        eqn += t*var_space[(gs,Xs)]\n",
    "                else:\n",
    "                    eqn = 1*t^0\n",
    "                    for gen_ext, nrep in zip(Sis,dups):\n",
    "                        for s in gen_ext:\n",
    "                            sinv = rd(s^-1)\n",
    "                            set_sinv = Set([sinv])\n",
    "                            if add_series_var((sinv,set_sinv)) and ret_new_pairs:\n",
    "                                newpairs.add((sinv,set_sinv))\n",
    "                            # need to subtract one when the gen set is within the same class of factors as {v}\\cup X\n",
    "                            eqn += t*var_space[(sinv,set_sinv)]*(nrep-ZZ(gen_ext==gen))\n",
    "                    for s in gen-X:\n",
    "                        [gs] = rd(s^-1)*Set([g]) # use set so auto reduction is implemented\n",
    "                        Xs = rd(s^-1)*X\n",
    "                        if add_series_var((gs,Xs)) and ret_new_pairs:\n",
    "                            newpairs.add((gs,Xs))\n",
    "                        eqn += t*var_space[(gs,Xs)]\n",
    "                \n",
    "                break\n",
    "    eqn = var_space[pair]==eqn\n",
    "    return (eqn,newpairs) if ret_new_pairs else eqn"
   ]
  },
  {
   "cell_type": "code",
   "execution_count": 11,
   "metadata": {},
   "outputs": [],
   "source": [
    "# Let us build the system of equations\n",
    "\n",
    "\n",
    "reset_var_space()\n",
    "\n",
    "system = []\n",
    "queue = [goal_pair]\n",
    "\n",
    "# use BFS\n",
    "while queue:\n",
    "    pair = queue.pop(0)\n",
    "    #pretty_print(pair)\n",
    "    eqn, newp = get_FD_equation(pair)\n",
    "    queue.extend(newp)\n",
    "    system.append(eqn)"
   ]
  },
  {
   "cell_type": "code",
   "execution_count": 12,
   "metadata": {},
   "outputs": [
    {
     "name": "stdout",
     "output_type": "stream",
     "text": [
      "{F_{1,\\varnothing}(t)} = {F_{1,\\varnothing}(t)} {\\left({F_{1,\\left\\{1\\right\\}}(t)} - 1\\right)} + 1 \\\\\n",
      "{F_{1,\\left\\{1\\right\\}}(t)} = {\\left(m - 1\\right)} t {F_{x,\\left\\{x\\right\\}}(t)} + n t {F_{y^{-1},\\left\\{y^{-1}\\right\\}}(t)} + n t {F_{y,\\left\\{y\\right\\}}(t)} + t {F_{x,\\left\\{x\\right\\}}(t)} + 1 \\\\\n",
      "{F_{x,\\left\\{x\\right\\}}(t)} = {F_{1,\\left\\{x\\right\\}}(t)} {F_{x,\\left\\{1, x\\right\\}}(t)} \\\\\n",
      "{F_{y,\\left\\{y\\right\\}}(t)} = {F_{1,\\left\\{y\\right\\}}(t)} {F_{y,\\left\\{y, 1\\right\\}}(t)} \\\\\n",
      "{F_{y^{-1},\\left\\{y^{-1}\\right\\}}(t)} = {F_{y^{-1},\\left\\{1, y^{-1}\\right\\}}(t)} {F_{1,\\left\\{y^{-1}\\right\\}}(t)} \\\\\n",
      "{F_{1,\\left\\{x\\right\\}}(t)} = {\\left({F_{1,\\left\\{1, x\\right\\}}(t)} - 1\\right)} {F_{1,\\left\\{x\\right\\}}(t)} + 1 \\\\\n",
      "{F_{x,\\left\\{1, x\\right\\}}(t)} = t \\\\\n",
      "{F_{y,\\left\\{y, 1\\right\\}}(t)} = t {F_{y^{2},\\left\\{y, y^{2}\\right\\}}(t)} + t \\\\\n",
      "{F_{1,\\left\\{y\\right\\}}(t)} = {\\left({F_{1,\\left\\{y, 1\\right\\}}(t)} - 1\\right)} {F_{1,\\left\\{y\\right\\}}(t)} + 1 \\\\\n",
      "{F_{y^{-1},\\left\\{1, y^{-1}\\right\\}}(t)} = t {F_{y^{-2},\\left\\{y^{-1}, y^{-2}\\right\\}}(t)} + t \\\\\n",
      "{F_{1,\\left\\{y^{-1}\\right\\}}(t)} = {\\left({F_{1,\\left\\{1, y^{-1}\\right\\}}(t)} - 1\\right)} {F_{1,\\left\\{y^{-1}\\right\\}}(t)} + 1 \\\\\n",
      "{F_{1,\\left\\{1, x\\right\\}}(t)} = {\\left(m - 1\\right)} t {F_{x,\\left\\{x\\right\\}}(t)} + n t {F_{y^{-1},\\left\\{y^{-1}\\right\\}}(t)} + n t {F_{y,\\left\\{y\\right\\}}(t)} + 1 \\\\\n",
      "{F_{y^{2},\\left\\{y, y^{2}\\right\\}}(t)} = {F_{1,\\left\\{y, y^{2}\\right\\}}(t)} {F_{y^{2},\\left\\{y, 1, y^{2}\\right\\}}(t)} \\\\\n",
      "{F_{1,\\left\\{y, 1\\right\\}}(t)} = m t {F_{x,\\left\\{x\\right\\}}(t)} + {\\left(n - 1\\right)} t {F_{y^{-1},\\left\\{y^{-1}\\right\\}}(t)} + {\\left(n - 1\\right)} t {F_{y,\\left\\{y\\right\\}}(t)} + t {F_{y,\\left\\{y, y^{2}\\right\\}}(t)} + 1 \\\\\n",
      "{F_{y^{-2},\\left\\{y^{-1}, y^{-2}\\right\\}}(t)} = {F_{1,\\left\\{y^{-1}, y^{-2}\\right\\}}(t)} {F_{y^{-2},\\left\\{1, y^{-1}, y^{-2}\\right\\}}(t)} \\\\\n",
      "{F_{1,\\left\\{1, y^{-1}\\right\\}}(t)} = m t {F_{x,\\left\\{x\\right\\}}(t)} + {\\left(n - 1\\right)} t {F_{y^{-1},\\left\\{y^{-1}\\right\\}}(t)} + {\\left(n - 1\\right)} t {F_{y,\\left\\{y\\right\\}}(t)} + t {F_{y^{-1},\\left\\{y^{-1}, y^{-2}\\right\\}}(t)} + 1 \\\\\n",
      "{F_{y^{2},\\left\\{y, 1, y^{2}\\right\\}}(t)} = t {F_{y^{3},\\left\\{y, y^{3}, y^{2}\\right\\}}(t)} \\\\\n",
      "{F_{1,\\left\\{y, y^{2}\\right\\}}(t)} = {F_{1,\\left\\{y, y^{2}\\right\\}}(t)} {\\left({F_{1,\\left\\{y, 1, y^{2}\\right\\}}(t)} - 1\\right)} + 1 \\\\\n",
      "{F_{y,\\left\\{y, y^{2}\\right\\}}(t)} = {F_{1,\\left\\{y, y^{2}\\right\\}}(t)} {F_{y,\\left\\{y, 1, y^{2}\\right\\}}(t)} \\\\\n",
      "{F_{1,\\left\\{y^{-1}, y^{-2}\\right\\}}(t)} = {F_{1,\\left\\{y^{-1}, y^{-2}\\right\\}}(t)} {\\left({F_{1,\\left\\{1, y^{-1}, y^{-2}\\right\\}}(t)} - 1\\right)} + 1 \\\\\n",
      "{F_{y^{-2},\\left\\{1, y^{-1}, y^{-2}\\right\\}}(t)} = t {F_{y^{-3},\\left\\{y^{-1}, y^{-3}, y^{-2}\\right\\}}(t)} \\\\\n",
      "{F_{y^{-1},\\left\\{y^{-1}, y^{-2}\\right\\}}(t)} = {F_{1,\\left\\{y^{-1}, y^{-2}\\right\\}}(t)} {F_{y^{-1},\\left\\{1, y^{-1}, y^{-2}\\right\\}}(t)} \\\\\n",
      "{F_{y^{3},\\left\\{y, y^{3}, y^{2}\\right\\}}(t)} = {F_{1,\\left\\{y, y^{3}, y^{2}\\right\\}}(t)} {F_{y^{3},\\left\\{y, 1, y^{3}, y^{2}\\right\\}}(t)} \\\\\n",
      "{F_{1,\\left\\{y, 1, y^{2}\\right\\}}(t)} = m t {F_{x,\\left\\{x\\right\\}}(t)} + {\\left(n - 1\\right)} t {F_{y^{-1},\\left\\{y^{-1}\\right\\}}(t)} + {\\left(n - 1\\right)} t {F_{y,\\left\\{y\\right\\}}(t)} + t {F_{y,\\left\\{y, y^{3}, y^{2}\\right\\}}(t)} + 1 \\\\\n",
      "{F_{y,\\left\\{y, 1, y^{2}\\right\\}}(t)} = t {F_{y^{2},\\left\\{y, y^{3}, y^{2}\\right\\}}(t)} + t \\\\\n",
      "{F_{1,\\left\\{1, y^{-1}, y^{-2}\\right\\}}(t)} = m t {F_{x,\\left\\{x\\right\\}}(t)} + {\\left(n - 1\\right)} t {F_{y^{-1},\\left\\{y^{-1}\\right\\}}(t)} + {\\left(n - 1\\right)} t {F_{y,\\left\\{y\\right\\}}(t)} + t {F_{y^{-1},\\left\\{y^{-1}, y^{-3}, y^{-2}\\right\\}}(t)} + 1 \\\\\n",
      "{F_{y^{-3},\\left\\{y^{-1}, y^{-3}, y^{-2}\\right\\}}(t)} = {F_{1,\\left\\{y^{-1}, y^{-3}, y^{-2}\\right\\}}(t)} {F_{y^{-3},\\left\\{y^{-1}, 1, y^{-3}, y^{-2}\\right\\}}(t)} \\\\\n",
      "{F_{y^{-1},\\left\\{1, y^{-1}, y^{-2}\\right\\}}(t)} = t {F_{y^{-2},\\left\\{y^{-1}, y^{-3}, y^{-2}\\right\\}}(t)} + t \\\\\n",
      "{F_{1,\\left\\{y, y^{3}, y^{2}\\right\\}}(t)} = {F_{1,\\left\\{y, y^{3}, y^{2}\\right\\}}(t)} {\\left({F_{1,\\left\\{y, 1, y^{3}, y^{2}\\right\\}}(t)} - 1\\right)} + 1 \\\\\n",
      "{F_{y^{3},\\left\\{y, 1, y^{3}, y^{2}\\right\\}}(t)} = t {F_{y^{4},\\left\\{y, y^{2}, y^{3}, y^{4}\\right\\}}(t)} \\\\\n",
      "{F_{y,\\left\\{y, y^{3}, y^{2}\\right\\}}(t)} = {F_{1,\\left\\{y, y^{3}, y^{2}\\right\\}}(t)} {F_{y,\\left\\{y, 1, y^{3}, y^{2}\\right\\}}(t)} \\\\\n",
      "{F_{y^{2},\\left\\{y, y^{3}, y^{2}\\right\\}}(t)} = {F_{1,\\left\\{y, y^{3}, y^{2}\\right\\}}(t)} {F_{y^{2},\\left\\{y, 1, y^{3}, y^{2}\\right\\}}(t)} \\\\\n",
      "{F_{y^{-1},\\left\\{y^{-1}, y^{-3}, y^{-2}\\right\\}}(t)} = {F_{1,\\left\\{y^{-1}, y^{-3}, y^{-2}\\right\\}}(t)} {F_{y^{-1},\\left\\{y^{-1}, 1, y^{-3}, y^{-2}\\right\\}}(t)} \\\\\n",
      "{F_{1,\\left\\{y^{-1}, y^{-3}, y^{-2}\\right\\}}(t)} = {F_{1,\\left\\{y^{-1}, y^{-3}, y^{-2}\\right\\}}(t)} {\\left({F_{1,\\left\\{y^{-1}, 1, y^{-3}, y^{-2}\\right\\}}(t)} - 1\\right)} + 1 \\\\\n",
      "{F_{y^{-3},\\left\\{y^{-1}, 1, y^{-3}, y^{-2}\\right\\}}(t)} = t {F_{y^{-4},\\left\\{y^{-2}, y^{-1}, y^{-3}, y^{-4}\\right\\}}(t)} \\\\\n",
      "{F_{y^{-2},\\left\\{y^{-1}, y^{-3}, y^{-2}\\right\\}}(t)} = {F_{1,\\left\\{y^{-1}, y^{-3}, y^{-2}\\right\\}}(t)} {F_{y^{-2},\\left\\{y^{-1}, 1, y^{-3}, y^{-2}\\right\\}}(t)} \\\\\n",
      "{F_{1,\\left\\{y, 1, y^{3}, y^{2}\\right\\}}(t)} = m t {F_{x,\\left\\{x\\right\\}}(t)} + {\\left(n - 1\\right)} t {F_{y^{-1},\\left\\{y^{-1}\\right\\}}(t)} + {\\left(n - 1\\right)} t {F_{y,\\left\\{y\\right\\}}(t)} + t {F_{y,\\left\\{y, y^{2}, y^{3}, y^{4}\\right\\}}(t)} + 1 \\\\\n",
      "{F_{y^{4},\\left\\{y, y^{2}, y^{3}, y^{4}\\right\\}}(t)} = {F_{1,\\left\\{y, y^{2}, y^{3}, y^{4}\\right\\}}(t)} {F_{y^{4},\\left\\{y^{3}, 1, y^{2}, y, y^{4}\\right\\}}(t)} \\\\\n",
      "{F_{y,\\left\\{y, 1, y^{3}, y^{2}\\right\\}}(t)} = t {F_{y^{2},\\left\\{y, y^{2}, y^{3}, y^{4}\\right\\}}(t)} + t \\\\\n",
      "{F_{y^{2},\\left\\{y, 1, y^{3}, y^{2}\\right\\}}(t)} = t {F_{y^{3},\\left\\{y, y^{2}, y^{3}, y^{4}\\right\\}}(t)} \\\\\n",
      "{F_{y^{-1},\\left\\{y^{-1}, 1, y^{-3}, y^{-2}\\right\\}}(t)} = t {F_{y^{-2},\\left\\{y^{-2}, y^{-1}, y^{-3}, y^{-4}\\right\\}}(t)} + t \\\\\n",
      "{F_{1,\\left\\{y^{-1}, 1, y^{-3}, y^{-2}\\right\\}}(t)} = m t {F_{x,\\left\\{x\\right\\}}(t)} + {\\left(n - 1\\right)} t {F_{y^{-1},\\left\\{y^{-1}\\right\\}}(t)} + {\\left(n - 1\\right)} t {F_{y,\\left\\{y\\right\\}}(t)} + t {F_{y^{-1},\\left\\{y^{-2}, y^{-1}, y^{-3}, y^{-4}\\right\\}}(t)} + 1 \\\\\n",
      "{F_{y^{-4},\\left\\{y^{-2}, y^{-1}, y^{-3}, y^{-4}\\right\\}}(t)} = {F_{1,\\left\\{y^{-2}, y^{-1}, y^{-3}, y^{-4}\\right\\}}(t)} {F_{y^{-4},\\left\\{1, y^{-3}, y^{-2}, y^{-1}, y^{-4}\\right\\}}(t)} \\\\\n",
      "{F_{y^{-2},\\left\\{y^{-1}, 1, y^{-3}, y^{-2}\\right\\}}(t)} = t {F_{y^{-3},\\left\\{y^{-2}, y^{-1}, y^{-3}, y^{-4}\\right\\}}(t)} \\\\\n",
      "{F_{y,\\left\\{y, y^{2}, y^{3}, y^{4}\\right\\}}(t)} = {F_{1,\\left\\{y, y^{2}, y^{3}, y^{4}\\right\\}}(t)} {F_{y,\\left\\{y^{3}, 1, y^{2}, y, y^{4}\\right\\}}(t)} \\\\\n",
      "{F_{1,\\left\\{y, y^{2}, y^{3}, y^{4}\\right\\}}(t)} = {F_{1,\\left\\{y, y^{2}, y^{3}, y^{4}\\right\\}}(t)} {\\left({F_{1,\\left\\{y^{3}, 1, y^{2}, y, y^{4}\\right\\}}(t)} - 1\\right)} + 1 \\\\\n",
      "{F_{y^{4},\\left\\{y^{3}, 1, y^{2}, y, y^{4}\\right\\}}(t)} = t {F_{y^{-4},\\left\\{y^{3}, y^{4}, y^{-4}, y, y^{2}\\right\\}}(t)} \\\\\n",
      "{F_{y^{2},\\left\\{y, y^{2}, y^{3}, y^{4}\\right\\}}(t)} = {F_{1,\\left\\{y, y^{2}, y^{3}, y^{4}\\right\\}}(t)} {F_{y^{2},\\left\\{y^{3}, 1, y^{2}, y, y^{4}\\right\\}}(t)} \\\\\n",
      "{F_{y^{3},\\left\\{y, y^{2}, y^{3}, y^{4}\\right\\}}(t)} = {F_{1,\\left\\{y, y^{2}, y^{3}, y^{4}\\right\\}}(t)} {F_{y^{3},\\left\\{y^{3}, 1, y^{2}, y, y^{4}\\right\\}}(t)} \\\\\n",
      "{F_{y^{-2},\\left\\{y^{-2}, y^{-1}, y^{-3}, y^{-4}\\right\\}}(t)} = {F_{1,\\left\\{y^{-2}, y^{-1}, y^{-3}, y^{-4}\\right\\}}(t)} {F_{y^{-2},\\left\\{1, y^{-3}, y^{-2}, y^{-1}, y^{-4}\\right\\}}(t)} \\\\\n",
      "{F_{y^{-1},\\left\\{y^{-2}, y^{-1}, y^{-3}, y^{-4}\\right\\}}(t)} = {F_{1,\\left\\{y^{-2}, y^{-1}, y^{-3}, y^{-4}\\right\\}}(t)} {F_{y^{-1},\\left\\{1, y^{-3}, y^{-2}, y^{-1}, y^{-4}\\right\\}}(t)} \\\\\n",
      "{F_{1,\\left\\{y^{-2}, y^{-1}, y^{-3}, y^{-4}\\right\\}}(t)} = {F_{1,\\left\\{y^{-2}, y^{-1}, y^{-3}, y^{-4}\\right\\}}(t)} {\\left({F_{1,\\left\\{1, y^{-3}, y^{-2}, y^{-1}, y^{-4}\\right\\}}(t)} - 1\\right)} + 1 \\\\\n",
      "{F_{y^{-4},\\left\\{1, y^{-3}, y^{-2}, y^{-1}, y^{-4}\\right\\}}(t)} = t {F_{y^{4},\\left\\{y^{-4}, y^{4}, y^{-1}, y^{-3}, y^{-2}\\right\\}}(t)} \\\\\n",
      "{F_{y^{-3},\\left\\{y^{-2}, y^{-1}, y^{-3}, y^{-4}\\right\\}}(t)} = {F_{1,\\left\\{y^{-2}, y^{-1}, y^{-3}, y^{-4}\\right\\}}(t)} {F_{y^{-3},\\left\\{1, y^{-3}, y^{-2}, y^{-1}, y^{-4}\\right\\}}(t)} \\\\\n",
      "{F_{y,\\left\\{y^{3}, 1, y^{2}, y, y^{4}\\right\\}}(t)} = t {F_{y^{2},\\left\\{y^{3}, y^{4}, y^{-4}, y, y^{2}\\right\\}}(t)} + t \\\\\n",
      "{F_{1,\\left\\{y^{3}, 1, y^{2}, y, y^{4}\\right\\}}(t)} = m t {F_{x,\\left\\{x\\right\\}}(t)} + {\\left(n - 1\\right)} t {F_{y^{-1},\\left\\{y^{-1}\\right\\}}(t)} + {\\left(n - 1\\right)} t {F_{y,\\left\\{y\\right\\}}(t)} + t {F_{y,\\left\\{y^{3}, y^{4}, y^{-4}, y, y^{2}\\right\\}}(t)} + 1 \\\\\n",
      "{F_{y^{-4},\\left\\{y^{3}, y^{4}, y^{-4}, y, y^{2}\\right\\}}(t)} = {F_{1,\\left\\{y^{3}, y^{4}, y^{-4}, y, y^{2}\\right\\}}(t)} {F_{y^{-4},\\left\\{y^{3}, 1, y^{2}, y^{4}, y, y^{-4}\\right\\}}(t)} \\\\\n",
      "{F_{y^{2},\\left\\{y^{3}, 1, y^{2}, y, y^{4}\\right\\}}(t)} = t {F_{y^{3},\\left\\{y^{3}, y^{4}, y^{-4}, y, y^{2}\\right\\}}(t)} \\\\\n",
      "{F_{y^{3},\\left\\{y^{3}, 1, y^{2}, y, y^{4}\\right\\}}(t)} = t {F_{y^{4},\\left\\{y^{3}, y^{4}, y^{-4}, y, y^{2}\\right\\}}(t)} \\\\\n",
      "{F_{y^{-2},\\left\\{1, y^{-3}, y^{-2}, y^{-1}, y^{-4}\\right\\}}(t)} = t {F_{y^{-3},\\left\\{y^{-4}, y^{4}, y^{-1}, y^{-3}, y^{-2}\\right\\}}(t)} \\\\\n",
      "{F_{y^{-1},\\left\\{1, y^{-3}, y^{-2}, y^{-1}, y^{-4}\\right\\}}(t)} = t {F_{y^{-2},\\left\\{y^{-4}, y^{4}, y^{-1}, y^{-3}, y^{-2}\\right\\}}(t)} + t \\\\\n",
      "{F_{1,\\left\\{1, y^{-3}, y^{-2}, y^{-1}, y^{-4}\\right\\}}(t)} = m t {F_{x,\\left\\{x\\right\\}}(t)} + {\\left(n - 1\\right)} t {F_{y^{-1},\\left\\{y^{-1}\\right\\}}(t)} + {\\left(n - 1\\right)} t {F_{y,\\left\\{y\\right\\}}(t)} + t {F_{y^{-1},\\left\\{y^{-4}, y^{4}, y^{-1}, y^{-3}, y^{-2}\\right\\}}(t)} + 1 \\\\\n",
      "{F_{y^{4},\\left\\{y^{-4}, y^{4}, y^{-1}, y^{-3}, y^{-2}\\right\\}}(t)} = {F_{1,\\left\\{y^{-4}, y^{4}, y^{-1}, y^{-3}, y^{-2}\\right\\}}(t)} {F_{y^{4},\\left\\{1, y^{-3}, y^{-4}, y^{-2}, y^{-1}, y^{4}\\right\\}}(t)} \\\\\n",
      "{F_{y^{-3},\\left\\{1, y^{-3}, y^{-2}, y^{-1}, y^{-4}\\right\\}}(t)} = t {F_{y^{-4},\\left\\{y^{-4}, y^{4}, y^{-1}, y^{-3}, y^{-2}\\right\\}}(t)} \\\\\n",
      "{F_{y^{2},\\left\\{y^{3}, y^{4}, y^{-4}, y, y^{2}\\right\\}}(t)} = {F_{1,\\left\\{y^{3}, y^{4}, y^{-4}, y, y^{2}\\right\\}}(t)} {F_{y^{2},\\left\\{y^{3}, 1, y^{2}, y^{4}, y, y^{-4}\\right\\}}(t)} \\\\\n",
      "{F_{y,\\left\\{y^{3}, y^{4}, y^{-4}, y, y^{2}\\right\\}}(t)} = {F_{1,\\left\\{y^{3}, y^{4}, y^{-4}, y, y^{2}\\right\\}}(t)} {F_{y,\\left\\{y^{3}, 1, y^{2}, y^{4}, y, y^{-4}\\right\\}}(t)} \\\\\n",
      "{F_{y^{-4},\\left\\{y^{3}, 1, y^{2}, y^{4}, y, y^{-4}\\right\\}}(t)} = t {F_{y^{-3},\\left\\{y^{3}, y^{4}, y^{-4}, y, y^{-3}, y^{2}\\right\\}}(t)} \\\\\n",
      "{F_{1,\\left\\{y^{3}, y^{4}, y^{-4}, y, y^{2}\\right\\}}(t)} = {F_{1,\\left\\{y^{3}, y^{4}, y^{-4}, y, y^{2}\\right\\}}(t)} {\\left({F_{1,\\left\\{y^{3}, 1, y^{2}, y^{4}, y, y^{-4}\\right\\}}(t)} - 1\\right)} + 1 \\\\\n",
      "{F_{y^{3},\\left\\{y^{3}, y^{4}, y^{-4}, y, y^{2}\\right\\}}(t)} = {F_{1,\\left\\{y^{3}, y^{4}, y^{-4}, y, y^{2}\\right\\}}(t)} {F_{y^{3},\\left\\{y^{3}, 1, y^{2}, y^{4}, y, y^{-4}\\right\\}}(t)} \\\\\n",
      "{F_{y^{4},\\left\\{y^{3}, y^{4}, y^{-4}, y, y^{2}\\right\\}}(t)} = {F_{1,\\left\\{y^{3}, y^{4}, y^{-4}, y, y^{2}\\right\\}}(t)} {F_{y^{4},\\left\\{y^{3}, 1, y^{2}, y^{4}, y, y^{-4}\\right\\}}(t)} \\\\\n",
      "{F_{y^{-3},\\left\\{y^{-4}, y^{4}, y^{-1}, y^{-3}, y^{-2}\\right\\}}(t)} = {F_{1,\\left\\{y^{-4}, y^{4}, y^{-1}, y^{-3}, y^{-2}\\right\\}}(t)} {F_{y^{-3},\\left\\{1, y^{-3}, y^{-4}, y^{-2}, y^{-1}, y^{4}\\right\\}}(t)} \\\\\n",
      "{F_{y^{-2},\\left\\{y^{-4}, y^{4}, y^{-1}, y^{-3}, y^{-2}\\right\\}}(t)} = {F_{1,\\left\\{y^{-4}, y^{4}, y^{-1}, y^{-3}, y^{-2}\\right\\}}(t)} {F_{y^{-2},\\left\\{1, y^{-3}, y^{-4}, y^{-2}, y^{-1}, y^{4}\\right\\}}(t)} \\\\\n",
      "{F_{y^{-1},\\left\\{y^{-4}, y^{4}, y^{-1}, y^{-3}, y^{-2}\\right\\}}(t)} = {F_{1,\\left\\{y^{-4}, y^{4}, y^{-1}, y^{-3}, y^{-2}\\right\\}}(t)} {F_{y^{-1},\\left\\{1, y^{-3}, y^{-4}, y^{-2}, y^{-1}, y^{4}\\right\\}}(t)} \\\\\n",
      "{F_{y^{4},\\left\\{1, y^{-3}, y^{-4}, y^{-2}, y^{-1}, y^{4}\\right\\}}(t)} = t {F_{y^{3},\\left\\{y^{3}, y^{-4}, y^{4}, y^{-1}, y^{-3}, y^{-2}\\right\\}}(t)} \\\\\n",
      "{F_{1,\\left\\{y^{-4}, y^{4}, y^{-1}, y^{-3}, y^{-2}\\right\\}}(t)} = {F_{1,\\left\\{y^{-4}, y^{4}, y^{-1}, y^{-3}, y^{-2}\\right\\}}(t)} {\\left({F_{1,\\left\\{1, y^{-3}, y^{-4}, y^{-2}, y^{-1}, y^{4}\\right\\}}(t)} - 1\\right)} + 1 \\\\\n",
      "{F_{y^{-4},\\left\\{y^{-4}, y^{4}, y^{-1}, y^{-3}, y^{-2}\\right\\}}(t)} = {F_{1,\\left\\{y^{-4}, y^{4}, y^{-1}, y^{-3}, y^{-2}\\right\\}}(t)} {F_{y^{-4},\\left\\{1, y^{-3}, y^{-4}, y^{-2}, y^{-1}, y^{4}\\right\\}}(t)} \\\\\n",
      "{F_{y^{2},\\left\\{y^{3}, 1, y^{2}, y^{4}, y, y^{-4}\\right\\}}(t)} = t {F_{y^{3},\\left\\{y^{3}, y^{4}, y^{-4}, y, y^{-3}, y^{2}\\right\\}}(t)} \\\\\n",
      "{F_{y,\\left\\{y^{3}, 1, y^{2}, y^{4}, y, y^{-4}\\right\\}}(t)} = t {F_{y^{2},\\left\\{y^{3}, y^{4}, y^{-4}, y, y^{-3}, y^{2}\\right\\}}(t)} + t \\\\\n",
      "{F_{y^{-3},\\left\\{y^{3}, y^{4}, y^{-4}, y, y^{-3}, y^{2}\\right\\}}(t)} = {F_{1,\\left\\{y^{3}, y^{4}, y^{-4}, y, y^{-3}, y^{2}\\right\\}}(t)} {F_{y^{-3},\\left\\{y^{3}, 1, y^{-3}, y^{2}, y^{4}, y, y^{-4}\\right\\}}(t)} \\\\\n",
      "{F_{1,\\left\\{y^{3}, 1, y^{2}, y^{4}, y, y^{-4}\\right\\}}(t)} = m t {F_{x,\\left\\{x\\right\\}}(t)} + {\\left(n - 1\\right)} t {F_{y^{-1},\\left\\{y^{-1}\\right\\}}(t)} + {\\left(n - 1\\right)} t {F_{y,\\left\\{y\\right\\}}(t)} + t {F_{y,\\left\\{y^{3}, y^{4}, y^{-4}, y, y^{-3}, y^{2}\\right\\}}(t)} + 1 \\\\\n",
      "{F_{y^{3},\\left\\{y^{3}, 1, y^{2}, y^{4}, y, y^{-4}\\right\\}}(t)} = t {F_{y^{4},\\left\\{y^{3}, y^{4}, y^{-4}, y, y^{-3}, y^{2}\\right\\}}(t)} \\\\\n",
      "{F_{y^{4},\\left\\{y^{3}, 1, y^{2}, y^{4}, y, y^{-4}\\right\\}}(t)} = t {F_{y^{-4},\\left\\{y^{3}, y^{4}, y^{-4}, y, y^{-3}, y^{2}\\right\\}}(t)} \\\\\n",
      "{F_{y^{-3},\\left\\{1, y^{-3}, y^{-4}, y^{-2}, y^{-1}, y^{4}\\right\\}}(t)} = t {F_{y^{-4},\\left\\{y^{3}, y^{-4}, y^{4}, y^{-1}, y^{-3}, y^{-2}\\right\\}}(t)} \\\\\n",
      "{F_{y^{-2},\\left\\{1, y^{-3}, y^{-4}, y^{-2}, y^{-1}, y^{4}\\right\\}}(t)} = t {F_{y^{-3},\\left\\{y^{3}, y^{-4}, y^{4}, y^{-1}, y^{-3}, y^{-2}\\right\\}}(t)} \\\\\n",
      "{F_{y^{-1},\\left\\{1, y^{-3}, y^{-4}, y^{-2}, y^{-1}, y^{4}\\right\\}}(t)} = t {F_{y^{-2},\\left\\{y^{3}, y^{-4}, y^{4}, y^{-1}, y^{-3}, y^{-2}\\right\\}}(t)} + t \\\\\n",
      "{F_{y^{3},\\left\\{y^{3}, y^{-4}, y^{4}, y^{-1}, y^{-3}, y^{-2}\\right\\}}(t)} = {F_{1,\\left\\{y^{3}, y^{-4}, y^{4}, y^{-1}, y^{-3}, y^{-2}\\right\\}}(t)} {F_{y^{3},\\left\\{y^{3}, 1, y^{-3}, y^{-4}, y^{-2}, y^{-1}, y^{4}\\right\\}}(t)} \\\\\n",
      "{F_{1,\\left\\{1, y^{-3}, y^{-4}, y^{-2}, y^{-1}, y^{4}\\right\\}}(t)} = m t {F_{x,\\left\\{x\\right\\}}(t)} + {\\left(n - 1\\right)} t {F_{y^{-1},\\left\\{y^{-1}\\right\\}}(t)} + {\\left(n - 1\\right)} t {F_{y,\\left\\{y\\right\\}}(t)} + t {F_{y^{-1},\\left\\{y^{3}, y^{-4}, y^{4}, y^{-1}, y^{-3}, y^{-2}\\right\\}}(t)} + 1 \\\\\n",
      "{F_{y^{-4},\\left\\{1, y^{-3}, y^{-4}, y^{-2}, y^{-1}, y^{4}\\right\\}}(t)} = t {F_{y^{4},\\left\\{y^{3}, y^{-4}, y^{4}, y^{-1}, y^{-3}, y^{-2}\\right\\}}(t)} \\\\\n",
      "{F_{y^{3},\\left\\{y^{3}, y^{4}, y^{-4}, y, y^{-3}, y^{2}\\right\\}}(t)} = {F_{y^{3},\\left\\{y^{3}, 1, y^{-3}, y^{2}, y^{4}, y, y^{-4}\\right\\}}(t)} {F_{1,\\left\\{y^{3}, y^{4}, y^{-4}, y, y^{-3}, y^{2}\\right\\}}(t)} \\\\\n",
      "{F_{y^{2},\\left\\{y^{3}, y^{4}, y^{-4}, y, y^{-3}, y^{2}\\right\\}}(t)} = {F_{y^{2},\\left\\{y^{3}, 1, y^{-3}, y^{2}, y^{4}, y, y^{-4}\\right\\}}(t)} {F_{1,\\left\\{y^{3}, y^{4}, y^{-4}, y, y^{-3}, y^{2}\\right\\}}(t)} \\\\\n",
      "{F_{1,\\left\\{y^{3}, y^{4}, y^{-4}, y, y^{-3}, y^{2}\\right\\}}(t)} = {\\left({F_{1,\\left\\{y^{3}, 1, y^{-3}, y^{2}, y^{4}, y, y^{-4}\\right\\}}(t)} - 1\\right)} {F_{1,\\left\\{y^{3}, y^{4}, y^{-4}, y, y^{-3}, y^{2}\\right\\}}(t)} + 1 \\\\\n",
      "{F_{y^{-3},\\left\\{y^{3}, 1, y^{-3}, y^{2}, y^{4}, y, y^{-4}\\right\\}}(t)} = t {F_{y^{-2},\\left\\{y^{3}, y^{-4}, y^{4}, y, y^{-2}, y^{-3}, y^{2}\\right\\}}(t)} \\\\\n",
      "{F_{y,\\left\\{y^{3}, y^{4}, y^{-4}, y, y^{-3}, y^{2}\\right\\}}(t)} = {F_{y,\\left\\{y^{3}, 1, y^{-3}, y^{2}, y^{4}, y, y^{-4}\\right\\}}(t)} {F_{1,\\left\\{y^{3}, y^{4}, y^{-4}, y, y^{-3}, y^{2}\\right\\}}(t)} \\\\\n",
      "{F_{y^{4},\\left\\{y^{3}, y^{4}, y^{-4}, y, y^{-3}, y^{2}\\right\\}}(t)} = {F_{y^{4},\\left\\{y^{3}, 1, y^{-3}, y^{2}, y^{4}, y, y^{-4}\\right\\}}(t)} {F_{1,\\left\\{y^{3}, y^{4}, y^{-4}, y, y^{-3}, y^{2}\\right\\}}(t)} \\\\\n",
      "{F_{y^{-4},\\left\\{y^{3}, y^{4}, y^{-4}, y, y^{-3}, y^{2}\\right\\}}(t)} = {F_{y^{-4},\\left\\{y^{3}, 1, y^{-3}, y^{2}, y^{4}, y, y^{-4}\\right\\}}(t)} {F_{1,\\left\\{y^{3}, y^{4}, y^{-4}, y, y^{-3}, y^{2}\\right\\}}(t)} \\\\\n",
      "{F_{y^{-4},\\left\\{y^{3}, y^{-4}, y^{4}, y^{-1}, y^{-3}, y^{-2}\\right\\}}(t)} = {F_{y^{-4},\\left\\{y^{3}, 1, y^{-3}, y^{-4}, y^{-2}, y^{-1}, y^{4}\\right\\}}(t)} {F_{1,\\left\\{y^{3}, y^{-4}, y^{4}, y^{-1}, y^{-3}, y^{-2}\\right\\}}(t)} \\\\\n",
      "{F_{y^{-3},\\left\\{y^{3}, y^{-4}, y^{4}, y^{-1}, y^{-3}, y^{-2}\\right\\}}(t)} = {F_{y^{-3},\\left\\{y^{3}, 1, y^{-3}, y^{-4}, y^{-2}, y^{-1}, y^{4}\\right\\}}(t)} {F_{1,\\left\\{y^{3}, y^{-4}, y^{4}, y^{-1}, y^{-3}, y^{-2}\\right\\}}(t)} \\\\\n",
      "{F_{y^{-2},\\left\\{y^{3}, y^{-4}, y^{4}, y^{-1}, y^{-3}, y^{-2}\\right\\}}(t)} = {F_{y^{-2},\\left\\{y^{3}, 1, y^{-3}, y^{-4}, y^{-2}, y^{-1}, y^{4}\\right\\}}(t)} {F_{1,\\left\\{y^{3}, y^{-4}, y^{4}, y^{-1}, y^{-3}, y^{-2}\\right\\}}(t)} \\\\\n",
      "{F_{y^{3},\\left\\{y^{3}, 1, y^{-3}, y^{-4}, y^{-2}, y^{-1}, y^{4}\\right\\}}(t)} = t {F_{y^{2},\\left\\{y^{3}, y^{-4}, y^{4}, y^{-2}, y^{-1}, y^{-3}, y^{2}\\right\\}}(t)} \\\\\n",
      "{F_{1,\\left\\{y^{3}, y^{-4}, y^{4}, y^{-1}, y^{-3}, y^{-2}\\right\\}}(t)} = {\\left({F_{1,\\left\\{y^{3}, 1, y^{-3}, y^{-4}, y^{-2}, y^{-1}, y^{4}\\right\\}}(t)} - 1\\right)} {F_{1,\\left\\{y^{3}, y^{-4}, y^{4}, y^{-1}, y^{-3}, y^{-2}\\right\\}}(t)} + 1 \\\\\n",
      "{F_{y^{-1},\\left\\{y^{3}, y^{-4}, y^{4}, y^{-1}, y^{-3}, y^{-2}\\right\\}}(t)} = {F_{y^{-1},\\left\\{y^{3}, 1, y^{-3}, y^{-4}, y^{-2}, y^{-1}, y^{4}\\right\\}}(t)} {F_{1,\\left\\{y^{3}, y^{-4}, y^{4}, y^{-1}, y^{-3}, y^{-2}\\right\\}}(t)} \\\\\n",
      "{F_{y^{4},\\left\\{y^{3}, y^{-4}, y^{4}, y^{-1}, y^{-3}, y^{-2}\\right\\}}(t)} = {F_{y^{4},\\left\\{y^{3}, 1, y^{-3}, y^{-4}, y^{-2}, y^{-1}, y^{4}\\right\\}}(t)} {F_{1,\\left\\{y^{3}, y^{-4}, y^{4}, y^{-1}, y^{-3}, y^{-2}\\right\\}}(t)} \\\\\n",
      "{F_{y^{3},\\left\\{y^{3}, 1, y^{-3}, y^{2}, y^{4}, y, y^{-4}\\right\\}}(t)} = t {F_{y^{4},\\left\\{y^{3}, y^{-4}, y^{4}, y, y^{-2}, y^{-3}, y^{2}\\right\\}}(t)} \\\\\n",
      "{F_{y^{2},\\left\\{y^{3}, 1, y^{-3}, y^{2}, y^{4}, y, y^{-4}\\right\\}}(t)} = t {F_{y^{3},\\left\\{y^{3}, y^{-4}, y^{4}, y, y^{-2}, y^{-3}, y^{2}\\right\\}}(t)} \\\\\n",
      "{F_{1,\\left\\{y^{3}, 1, y^{-3}, y^{2}, y^{4}, y, y^{-4}\\right\\}}(t)} = m t {F_{x,\\left\\{x\\right\\}}(t)} + {\\left(n - 1\\right)} t {F_{y^{-1},\\left\\{y^{-1}\\right\\}}(t)} + {\\left(n - 1\\right)} t {F_{y,\\left\\{y\\right\\}}(t)} + t {F_{y,\\left\\{y^{3}, y^{-4}, y^{4}, y, y^{-2}, y^{-3}, y^{2}\\right\\}}(t)} + 1 \\\\\n",
      "{F_{y^{-2},\\left\\{y^{3}, y^{-4}, y^{4}, y, y^{-2}, y^{-3}, y^{2}\\right\\}}(t)} = {F_{1,\\left\\{y^{3}, y^{-4}, y^{4}, y, y^{-2}, y^{-3}, y^{2}\\right\\}}(t)} {F_{y^{-2},\\left\\{y^{3}, y^{-4}, y^{4}, y^{2}, y, 1, y^{-3}, y^{-2}\\right\\}}(t)} \\\\\n",
      "{F_{y,\\left\\{y^{3}, 1, y^{-3}, y^{2}, y^{4}, y, y^{-4}\\right\\}}(t)} = t {F_{y^{2},\\left\\{y^{3}, y^{-4}, y^{4}, y, y^{-2}, y^{-3}, y^{2}\\right\\}}(t)} + t \\\\\n",
      "{F_{y^{4},\\left\\{y^{3}, 1, y^{-3}, y^{2}, y^{4}, y, y^{-4}\\right\\}}(t)} = t {F_{y^{-4},\\left\\{y^{3}, y^{-4}, y^{4}, y, y^{-2}, y^{-3}, y^{2}\\right\\}}(t)} \\\\\n",
      "{F_{y^{-4},\\left\\{y^{3}, 1, y^{-3}, y^{2}, y^{4}, y, y^{-4}\\right\\}}(t)} = t {F_{y^{-3},\\left\\{y^{3}, y^{-4}, y^{4}, y, y^{-2}, y^{-3}, y^{2}\\right\\}}(t)} \\\\\n",
      "{F_{y^{-4},\\left\\{y^{3}, 1, y^{-3}, y^{-4}, y^{-2}, y^{-1}, y^{4}\\right\\}}(t)} = t {F_{y^{4},\\left\\{y^{3}, y^{-4}, y^{4}, y^{-2}, y^{-1}, y^{-3}, y^{2}\\right\\}}(t)} \\\\\n",
      "{F_{y^{-3},\\left\\{y^{3}, 1, y^{-3}, y^{-4}, y^{-2}, y^{-1}, y^{4}\\right\\}}(t)} = t {F_{y^{-4},\\left\\{y^{3}, y^{-4}, y^{4}, y^{-2}, y^{-1}, y^{-3}, y^{2}\\right\\}}(t)} \\\\\n",
      "{F_{y^{-2},\\left\\{y^{3}, 1, y^{-3}, y^{-4}, y^{-2}, y^{-1}, y^{4}\\right\\}}(t)} = t {F_{y^{-3},\\left\\{y^{3}, y^{-4}, y^{4}, y^{-2}, y^{-1}, y^{-3}, y^{2}\\right\\}}(t)} \\\\\n",
      "{F_{y^{2},\\left\\{y^{3}, y^{-4}, y^{4}, y^{-2}, y^{-1}, y^{-3}, y^{2}\\right\\}}(t)} = {F_{1,\\left\\{y^{3}, y^{-4}, y^{4}, y^{-2}, y^{-1}, y^{-3}, y^{2}\\right\\}}(t)} {F_{y^{2},\\left\\{y^{3}, y^{-4}, y^{4}, y^{-2}, y^{-1}, 1, y^{-3}, y^{2}\\right\\}}(t)} \\\\\n",
      "{F_{1,\\left\\{y^{3}, 1, y^{-3}, y^{-4}, y^{-2}, y^{-1}, y^{4}\\right\\}}(t)} = m t {F_{x,\\left\\{x\\right\\}}(t)} + {\\left(n - 1\\right)} t {F_{y^{-1},\\left\\{y^{-1}\\right\\}}(t)} + {\\left(n - 1\\right)} t {F_{y,\\left\\{y\\right\\}}(t)} + t {F_{y^{-1},\\left\\{y^{3}, y^{-4}, y^{4}, y^{-2}, y^{-1}, y^{-3}, y^{2}\\right\\}}(t)} + 1 \\\\\n",
      "{F_{y^{-1},\\left\\{y^{3}, 1, y^{-3}, y^{-4}, y^{-2}, y^{-1}, y^{4}\\right\\}}(t)} = t {F_{y^{-2},\\left\\{y^{3}, y^{-4}, y^{4}, y^{-2}, y^{-1}, y^{-3}, y^{2}\\right\\}}(t)} + t \\\\\n",
      "{F_{y^{4},\\left\\{y^{3}, 1, y^{-3}, y^{-4}, y^{-2}, y^{-1}, y^{4}\\right\\}}(t)} = t {F_{y^{3},\\left\\{y^{3}, y^{-4}, y^{4}, y^{-2}, y^{-1}, y^{-3}, y^{2}\\right\\}}(t)} \\\\\n",
      "{F_{y^{4},\\left\\{y^{3}, y^{-4}, y^{4}, y, y^{-2}, y^{-3}, y^{2}\\right\\}}(t)} = {F_{1,\\left\\{y^{3}, y^{-4}, y^{4}, y, y^{-2}, y^{-3}, y^{2}\\right\\}}(t)} {F_{y^{4},\\left\\{y^{3}, y^{-4}, y^{4}, y^{2}, y, 1, y^{-3}, y^{-2}\\right\\}}(t)} \\\\\n",
      "{F_{y^{3},\\left\\{y^{3}, y^{-4}, y^{4}, y, y^{-2}, y^{-3}, y^{2}\\right\\}}(t)} = {F_{1,\\left\\{y^{3}, y^{-4}, y^{4}, y, y^{-2}, y^{-3}, y^{2}\\right\\}}(t)} {F_{y^{3},\\left\\{y^{3}, y^{-4}, y^{4}, y^{2}, y, 1, y^{-3}, y^{-2}\\right\\}}(t)} \\\\\n",
      "{F_{y,\\left\\{y^{3}, y^{-4}, y^{4}, y, y^{-2}, y^{-3}, y^{2}\\right\\}}(t)} = {F_{1,\\left\\{y^{3}, y^{-4}, y^{4}, y, y^{-2}, y^{-3}, y^{2}\\right\\}}(t)} {F_{y,\\left\\{y^{3}, y^{-4}, y^{4}, y^{2}, y, 1, y^{-3}, y^{-2}\\right\\}}(t)} \\\\\n",
      "{F_{y^{-2},\\left\\{y^{3}, y^{-4}, y^{4}, y^{2}, y, 1, y^{-3}, y^{-2}\\right\\}}(t)} = t {F_{y^{-1},\\left\\{y^{3}, y^{4}, y^{-4}, y, y^{2}, y^{-1}, y^{-3}, y^{-2}\\right\\}}(t)} \\\\\n",
      "{F_{1,\\left\\{y^{3}, y^{-4}, y^{4}, y, y^{-2}, y^{-3}, y^{2}\\right\\}}(t)} = {F_{1,\\left\\{y^{3}, y^{-4}, y^{4}, y, y^{-2}, y^{-3}, y^{2}\\right\\}}(t)} {\\left({F_{1,\\left\\{y^{3}, y^{-4}, y^{4}, y^{2}, y, 1, y^{-3}, y^{-2}\\right\\}}(t)} - 1\\right)} + 1 \\\\\n",
      "{F_{y^{2},\\left\\{y^{3}, y^{-4}, y^{4}, y, y^{-2}, y^{-3}, y^{2}\\right\\}}(t)} = {F_{1,\\left\\{y^{3}, y^{-4}, y^{4}, y, y^{-2}, y^{-3}, y^{2}\\right\\}}(t)} {F_{y^{2},\\left\\{y^{3}, y^{-4}, y^{4}, y^{2}, y, 1, y^{-3}, y^{-2}\\right\\}}(t)} \\\\\n",
      "{F_{y^{-4},\\left\\{y^{3}, y^{-4}, y^{4}, y, y^{-2}, y^{-3}, y^{2}\\right\\}}(t)} = {F_{1,\\left\\{y^{3}, y^{-4}, y^{4}, y, y^{-2}, y^{-3}, y^{2}\\right\\}}(t)} {F_{y^{-4},\\left\\{y^{3}, y^{-4}, y^{4}, y^{2}, y, 1, y^{-3}, y^{-2}\\right\\}}(t)} \\\\\n",
      "{F_{y^{-3},\\left\\{y^{3}, y^{-4}, y^{4}, y, y^{-2}, y^{-3}, y^{2}\\right\\}}(t)} = {F_{1,\\left\\{y^{3}, y^{-4}, y^{4}, y, y^{-2}, y^{-3}, y^{2}\\right\\}}(t)} {F_{y^{-3},\\left\\{y^{3}, y^{-4}, y^{4}, y^{2}, y, 1, y^{-3}, y^{-2}\\right\\}}(t)} \\\\\n",
      "{F_{y^{4},\\left\\{y^{3}, y^{-4}, y^{4}, y^{-2}, y^{-1}, y^{-3}, y^{2}\\right\\}}(t)} = {F_{1,\\left\\{y^{3}, y^{-4}, y^{4}, y^{-2}, y^{-1}, y^{-3}, y^{2}\\right\\}}(t)} {F_{y^{4},\\left\\{y^{3}, y^{-4}, y^{4}, y^{-2}, y^{-1}, 1, y^{-3}, y^{2}\\right\\}}(t)} \\\\\n",
      "{F_{y^{-4},\\left\\{y^{3}, y^{-4}, y^{4}, y^{-2}, y^{-1}, y^{-3}, y^{2}\\right\\}}(t)} = {F_{1,\\left\\{y^{3}, y^{-4}, y^{4}, y^{-2}, y^{-1}, y^{-3}, y^{2}\\right\\}}(t)} {F_{y^{-4},\\left\\{y^{3}, y^{-4}, y^{4}, y^{-2}, y^{-1}, 1, y^{-3}, y^{2}\\right\\}}(t)} \\\\\n",
      "{F_{y^{-3},\\left\\{y^{3}, y^{-4}, y^{4}, y^{-2}, y^{-1}, y^{-3}, y^{2}\\right\\}}(t)} = {F_{1,\\left\\{y^{3}, y^{-4}, y^{4}, y^{-2}, y^{-1}, y^{-3}, y^{2}\\right\\}}(t)} {F_{y^{-3},\\left\\{y^{3}, y^{-4}, y^{4}, y^{-2}, y^{-1}, 1, y^{-3}, y^{2}\\right\\}}(t)} \\\\\n",
      "{F_{1,\\left\\{y^{3}, y^{-4}, y^{4}, y^{-2}, y^{-1}, y^{-3}, y^{2}\\right\\}}(t)} = {F_{1,\\left\\{y^{3}, y^{-4}, y^{4}, y^{-2}, y^{-1}, y^{-3}, y^{2}\\right\\}}(t)} {\\left({F_{1,\\left\\{y^{3}, y^{-4}, y^{4}, y^{-2}, y^{-1}, 1, y^{-3}, y^{2}\\right\\}}(t)} - 1\\right)} + 1 \\\\\n",
      "{F_{y^{2},\\left\\{y^{3}, y^{-4}, y^{4}, y^{-2}, y^{-1}, 1, y^{-3}, y^{2}\\right\\}}(t)} = t {F_{y,\\left\\{y^{3}, y^{-4}, y^{4}, y, y^{-2}, y^{-1}, y^{-3}, y^{2}\\right\\}}(t)} \\\\\n",
      "{F_{y^{-1},\\left\\{y^{3}, y^{-4}, y^{4}, y^{-2}, y^{-1}, y^{-3}, y^{2}\\right\\}}(t)} = {F_{1,\\left\\{y^{3}, y^{-4}, y^{4}, y^{-2}, y^{-1}, y^{-3}, y^{2}\\right\\}}(t)} {F_{y^{-1},\\left\\{y^{3}, y^{-4}, y^{4}, y^{-2}, y^{-1}, 1, y^{-3}, y^{2}\\right\\}}(t)} \\\\\n",
      "{F_{y^{-2},\\left\\{y^{3}, y^{-4}, y^{4}, y^{-2}, y^{-1}, y^{-3}, y^{2}\\right\\}}(t)} = {F_{1,\\left\\{y^{3}, y^{-4}, y^{4}, y^{-2}, y^{-1}, y^{-3}, y^{2}\\right\\}}(t)} {F_{y^{-2},\\left\\{y^{3}, y^{-4}, y^{4}, y^{-2}, y^{-1}, 1, y^{-3}, y^{2}\\right\\}}(t)} \\\\\n",
      "{F_{y^{3},\\left\\{y^{3}, y^{-4}, y^{4}, y^{-2}, y^{-1}, y^{-3}, y^{2}\\right\\}}(t)} = {F_{1,\\left\\{y^{3}, y^{-4}, y^{4}, y^{-2}, y^{-1}, y^{-3}, y^{2}\\right\\}}(t)} {F_{y^{3},\\left\\{y^{3}, y^{-4}, y^{4}, y^{-2}, y^{-1}, 1, y^{-3}, y^{2}\\right\\}}(t)} \\\\\n",
      "{F_{y^{4},\\left\\{y^{3}, y^{-4}, y^{4}, y^{2}, y, 1, y^{-3}, y^{-2}\\right\\}}(t)} = t {F_{y^{-4},\\left\\{y^{3}, y^{4}, y^{-4}, y, y^{2}, y^{-1}, y^{-3}, y^{-2}\\right\\}}(t)} \\\\\n",
      "{F_{y^{3},\\left\\{y^{3}, y^{-4}, y^{4}, y^{2}, y, 1, y^{-3}, y^{-2}\\right\\}}(t)} = t {F_{y^{4},\\left\\{y^{3}, y^{4}, y^{-4}, y, y^{2}, y^{-1}, y^{-3}, y^{-2}\\right\\}}(t)} \\\\\n",
      "{F_{y,\\left\\{y^{3}, y^{-4}, y^{4}, y^{2}, y, 1, y^{-3}, y^{-2}\\right\\}}(t)} = t {F_{y^{2},\\left\\{y^{3}, y^{4}, y^{-4}, y, y^{2}, y^{-1}, y^{-3}, y^{-2}\\right\\}}(t)} + t \\\\\n",
      "{F_{y^{-1},\\left\\{y^{3}, y^{4}, y^{-4}, y, y^{2}, y^{-1}, y^{-3}, y^{-2}\\right\\}}(t)} = {F_{1,\\left\\{y^{3}, y^{4}, y^{-4}, y, y^{2}, y^{-1}, y^{-3}, y^{-2}\\right\\}}(t)} {F_{y^{-1},\\left\\{y^{3}, y^{4}, y^{-4}, y, y^{2}, y^{-1}, 1, y^{-3}, y^{-2}\\right\\}}(t)} \\\\\n",
      "{F_{1,\\left\\{y^{3}, y^{-4}, y^{4}, y^{2}, y, 1, y^{-3}, y^{-2}\\right\\}}(t)} = m t {F_{x,\\left\\{x\\right\\}}(t)} + {\\left(n - 1\\right)} t {F_{y^{-1},\\left\\{y^{-1}\\right\\}}(t)} + {\\left(n - 1\\right)} t {F_{y,\\left\\{y\\right\\}}(t)} + t {F_{y,\\left\\{y^{3}, y^{-4}, y^{4}, y, y^{-2}, y^{-1}, y^{-3}, y^{2}\\right\\}}(t)} + 1 \\\\\n",
      "{F_{y^{2},\\left\\{y^{3}, y^{-4}, y^{4}, y^{2}, y, 1, y^{-3}, y^{-2}\\right\\}}(t)} = t {F_{y^{3},\\left\\{y^{3}, y^{4}, y^{-4}, y, y^{2}, y^{-1}, y^{-3}, y^{-2}\\right\\}}(t)} \\\\\n",
      "{F_{y^{-4},\\left\\{y^{3}, y^{-4}, y^{4}, y^{2}, y, 1, y^{-3}, y^{-2}\\right\\}}(t)} = t {F_{y^{-3},\\left\\{y^{3}, y^{4}, y^{-4}, y, y^{2}, y^{-1}, y^{-3}, y^{-2}\\right\\}}(t)} \\\\\n",
      "{F_{y^{-3},\\left\\{y^{3}, y^{-4}, y^{4}, y^{2}, y, 1, y^{-3}, y^{-2}\\right\\}}(t)} = t {F_{y^{-2},\\left\\{y^{3}, y^{4}, y^{-4}, y, y^{2}, y^{-1}, y^{-3}, y^{-2}\\right\\}}(t)} \\\\\n",
      "{F_{y^{4},\\left\\{y^{3}, y^{-4}, y^{4}, y^{-2}, y^{-1}, 1, y^{-3}, y^{2}\\right\\}}(t)} = t {F_{y^{3},\\left\\{y^{3}, y^{4}, y^{-4}, y, y^{2}, y^{-1}, y^{-3}, y^{-2}\\right\\}}(t)} \\\\\n",
      "{F_{y^{-4},\\left\\{y^{3}, y^{-4}, y^{4}, y^{-2}, y^{-1}, 1, y^{-3}, y^{2}\\right\\}}(t)} = t {F_{y^{4},\\left\\{y^{3}, y^{4}, y^{-4}, y, y^{2}, y^{-1}, y^{-3}, y^{-2}\\right\\}}(t)} \\\\\n",
      "{F_{y^{-3},\\left\\{y^{3}, y^{-4}, y^{4}, y^{-2}, y^{-1}, 1, y^{-3}, y^{2}\\right\\}}(t)} = t {F_{y^{-4},\\left\\{y^{3}, y^{4}, y^{-4}, y, y^{2}, y^{-1}, y^{-3}, y^{-2}\\right\\}}(t)} \\\\\n",
      "{F_{1,\\left\\{y^{3}, y^{-4}, y^{4}, y^{-2}, y^{-1}, 1, y^{-3}, y^{2}\\right\\}}(t)} = m t {F_{x,\\left\\{x\\right\\}}(t)} + {\\left(n - 1\\right)} t {F_{y^{-1},\\left\\{y^{-1}\\right\\}}(t)} + {\\left(n - 1\\right)} t {F_{y,\\left\\{y\\right\\}}(t)} + t {F_{y^{-1},\\left\\{y^{3}, y^{4}, y^{-4}, y, y^{2}, y^{-1}, y^{-3}, y^{-2}\\right\\}}(t)} + 1 \\\\\n",
      "{F_{y,\\left\\{y^{3}, y^{-4}, y^{4}, y, y^{-2}, y^{-1}, y^{-3}, y^{2}\\right\\}}(t)} = {F_{1,\\left\\{y^{3}, y^{4}, y^{-4}, y, y^{2}, y^{-1}, y^{-3}, y^{-2}\\right\\}}(t)} {F_{y,\\left\\{y^{3}, y^{-4}, y^{4}, y, y^{-2}, y^{-1}, 1, y^{-3}, y^{2}\\right\\}}(t)} \\\\\n",
      "{F_{y^{-1},\\left\\{y^{3}, y^{-4}, y^{4}, y^{-2}, y^{-1}, 1, y^{-3}, y^{2}\\right\\}}(t)} = t {F_{y^{-2},\\left\\{y^{3}, y^{4}, y^{-4}, y, y^{2}, y^{-1}, y^{-3}, y^{-2}\\right\\}}(t)} + t \\\\\n",
      "{F_{y^{-2},\\left\\{y^{3}, y^{-4}, y^{4}, y^{-2}, y^{-1}, 1, y^{-3}, y^{2}\\right\\}}(t)} = t {F_{y^{-3},\\left\\{y^{3}, y^{4}, y^{-4}, y, y^{2}, y^{-1}, y^{-3}, y^{-2}\\right\\}}(t)} \\\\\n",
      "{F_{y^{3},\\left\\{y^{3}, y^{-4}, y^{4}, y^{-2}, y^{-1}, 1, y^{-3}, y^{2}\\right\\}}(t)} = t {F_{y^{2},\\left\\{y^{3}, y^{4}, y^{-4}, y, y^{2}, y^{-1}, y^{-3}, y^{-2}\\right\\}}(t)} \\\\\n",
      "{F_{y^{-4},\\left\\{y^{3}, y^{4}, y^{-4}, y, y^{2}, y^{-1}, y^{-3}, y^{-2}\\right\\}}(t)} = {F_{1,\\left\\{y^{3}, y^{4}, y^{-4}, y, y^{2}, y^{-1}, y^{-3}, y^{-2}\\right\\}}(t)} {F_{y^{-4},\\left\\{y^{3}, y^{4}, y^{-4}, y, y^{2}, y^{-1}, 1, y^{-3}, y^{-2}\\right\\}}(t)} \\\\\n",
      "{F_{y^{4},\\left\\{y^{3}, y^{4}, y^{-4}, y, y^{2}, y^{-1}, y^{-3}, y^{-2}\\right\\}}(t)} = {F_{1,\\left\\{y^{3}, y^{4}, y^{-4}, y, y^{2}, y^{-1}, y^{-3}, y^{-2}\\right\\}}(t)} {F_{y^{4},\\left\\{y^{3}, y^{4}, y^{-4}, y, y^{2}, y^{-1}, 1, y^{-3}, y^{-2}\\right\\}}(t)} \\\\\n",
      "{F_{y^{2},\\left\\{y^{3}, y^{4}, y^{-4}, y, y^{2}, y^{-1}, y^{-3}, y^{-2}\\right\\}}(t)} = {F_{1,\\left\\{y^{3}, y^{4}, y^{-4}, y, y^{2}, y^{-1}, y^{-3}, y^{-2}\\right\\}}(t)} {F_{y^{2},\\left\\{y^{3}, y^{4}, y^{-4}, y, y^{2}, y^{-1}, 1, y^{-3}, y^{-2}\\right\\}}(t)} \\\\\n",
      "{F_{y^{-1},\\left\\{y^{3}, y^{4}, y^{-4}, y, y^{2}, y^{-1}, 1, y^{-3}, y^{-2}\\right\\}}(t)} = t \\\\\n",
      "{F_{1,\\left\\{y^{3}, y^{4}, y^{-4}, y, y^{2}, y^{-1}, y^{-3}, y^{-2}\\right\\}}(t)} = {F_{1,\\left\\{y^{3}, y^{4}, y^{-4}, y, y^{2}, y^{-1}, y^{-3}, y^{-2}\\right\\}}(t)} {\\left({F_{1,\\left\\{y^{3}, y^{4}, y^{-4}, y, y^{2}, y^{-1}, 1, y^{-3}, y^{-2}\\right\\}}(t)} - 1\\right)} + 1 \\\\\n",
      "{F_{y^{3},\\left\\{y^{3}, y^{4}, y^{-4}, y, y^{2}, y^{-1}, y^{-3}, y^{-2}\\right\\}}(t)} = {F_{1,\\left\\{y^{3}, y^{4}, y^{-4}, y, y^{2}, y^{-1}, y^{-3}, y^{-2}\\right\\}}(t)} {F_{y^{3},\\left\\{y^{3}, y^{4}, y^{-4}, y, y^{2}, y^{-1}, 1, y^{-3}, y^{-2}\\right\\}}(t)} \\\\\n",
      "{F_{y^{-3},\\left\\{y^{3}, y^{4}, y^{-4}, y, y^{2}, y^{-1}, y^{-3}, y^{-2}\\right\\}}(t)} = {F_{1,\\left\\{y^{3}, y^{4}, y^{-4}, y, y^{2}, y^{-1}, y^{-3}, y^{-2}\\right\\}}(t)} {F_{y^{-3},\\left\\{y^{3}, y^{4}, y^{-4}, y, y^{2}, y^{-1}, 1, y^{-3}, y^{-2}\\right\\}}(t)} \\\\\n",
      "{F_{y^{-2},\\left\\{y^{3}, y^{4}, y^{-4}, y, y^{2}, y^{-1}, y^{-3}, y^{-2}\\right\\}}(t)} = {F_{1,\\left\\{y^{3}, y^{4}, y^{-4}, y, y^{2}, y^{-1}, y^{-3}, y^{-2}\\right\\}}(t)} {F_{y^{-2},\\left\\{y^{3}, y^{4}, y^{-4}, y, y^{2}, y^{-1}, 1, y^{-3}, y^{-2}\\right\\}}(t)} \\\\\n",
      "{F_{y,\\left\\{y^{3}, y^{-4}, y^{4}, y, y^{-2}, y^{-1}, 1, y^{-3}, y^{2}\\right\\}}(t)} = t \\\\\n",
      "{F_{y^{-4},\\left\\{y^{3}, y^{4}, y^{-4}, y, y^{2}, y^{-1}, 1, y^{-3}, y^{-2}\\right\\}}(t)} = 0 \\\\\n",
      "{F_{y^{4},\\left\\{y^{3}, y^{4}, y^{-4}, y, y^{2}, y^{-1}, 1, y^{-3}, y^{-2}\\right\\}}(t)} = 0 \\\\\n",
      "{F_{y^{2},\\left\\{y^{3}, y^{4}, y^{-4}, y, y^{2}, y^{-1}, 1, y^{-3}, y^{-2}\\right\\}}(t)} = 0 \\\\\n",
      "{F_{1,\\left\\{y^{3}, y^{4}, y^{-4}, y, y^{2}, y^{-1}, 1, y^{-3}, y^{-2}\\right\\}}(t)} = m t {F_{x,\\left\\{x\\right\\}}(t)} + {\\left(n - 1\\right)} t {F_{y^{-1},\\left\\{y^{-1}\\right\\}}(t)} + {\\left(n - 1\\right)} t {F_{y,\\left\\{y\\right\\}}(t)} + 1 \\\\\n",
      "{F_{y^{3},\\left\\{y^{3}, y^{4}, y^{-4}, y, y^{2}, y^{-1}, 1, y^{-3}, y^{-2}\\right\\}}(t)} = 0 \\\\\n",
      "{F_{y^{-3},\\left\\{y^{3}, y^{4}, y^{-4}, y, y^{2}, y^{-1}, 1, y^{-3}, y^{-2}\\right\\}}(t)} = 0 \\\\\n",
      "{F_{y^{-2},\\left\\{y^{3}, y^{4}, y^{-4}, y, y^{2}, y^{-1}, 1, y^{-3}, y^{-2}\\right\\}}(t)} = 0 \\\\\n",
      "\n",
      "\n"
     ]
    },
    {
     "data": {
      "text/html": [
       "<html><script type=\"math/tex; mode=display\">\\newcommand{\\Bold}[1]{\\mathbf{#1}}{F_{1,\\varnothing}(t)} = {F_{1,\\varnothing}(t)} {\\left({F_{1,\\left\\{1\\right\\}}(t)} - 1\\right)} + 1</script></html>"
      ],
      "text/plain": [
       "v0 == v0*(v1 - 1) + 1"
      ]
     },
     "metadata": {},
     "output_type": "display_data"
    },
    {
     "data": {
      "text/html": [
       "<html><script type=\"math/tex; mode=display\">\\newcommand{\\Bold}[1]{\\mathbf{#1}}{F_{1,\\left\\{1\\right\\}}(t)} = {\\left(m - 1\\right)} t {F_{x,\\left\\{x\\right\\}}(t)} + n t {F_{y^{-1},\\left\\{y^{-1}\\right\\}}(t)} + n t {F_{y,\\left\\{y\\right\\}}(t)} + t {F_{x,\\left\\{x\\right\\}}(t)} + 1</script></html>"
      ],
      "text/plain": [
       "v1 == (m - 1)*t*v2 + n*t*v3 + n*t*v4 + t*v2 + 1"
      ]
     },
     "metadata": {},
     "output_type": "display_data"
    },
    {
     "data": {
      "text/html": [
       "<html><script type=\"math/tex; mode=display\">\\newcommand{\\Bold}[1]{\\mathbf{#1}}{F_{x,\\left\\{x\\right\\}}(t)} = {F_{1,\\left\\{x\\right\\}}(t)} {F_{x,\\left\\{1, x\\right\\}}(t)}</script></html>"
      ],
      "text/plain": [
       "v2 == v5*v6"
      ]
     },
     "metadata": {},
     "output_type": "display_data"
    },
    {
     "data": {
      "text/html": [
       "<html><script type=\"math/tex; mode=display\">\\newcommand{\\Bold}[1]{\\mathbf{#1}}{F_{y,\\left\\{y\\right\\}}(t)} = {F_{1,\\left\\{y\\right\\}}(t)} {F_{y,\\left\\{y, 1\\right\\}}(t)}</script></html>"
      ],
      "text/plain": [
       "v4 == v7*v8"
      ]
     },
     "metadata": {},
     "output_type": "display_data"
    },
    {
     "data": {
      "text/html": [
       "<html><script type=\"math/tex; mode=display\">\\newcommand{\\Bold}[1]{\\mathbf{#1}}{F_{y^{-1},\\left\\{y^{-1}\\right\\}}(t)} = {F_{y^{-1},\\left\\{1, y^{-1}\\right\\}}(t)} {F_{1,\\left\\{y^{-1}\\right\\}}(t)}</script></html>"
      ],
      "text/plain": [
       "v3 == v10*v9"
      ]
     },
     "metadata": {},
     "output_type": "display_data"
    },
    {
     "data": {
      "text/html": [
       "<html><script type=\"math/tex; mode=display\">\\newcommand{\\Bold}[1]{\\mathbf{#1}}{F_{1,\\left\\{x\\right\\}}(t)} = {\\left({F_{1,\\left\\{1, x\\right\\}}(t)} - 1\\right)} {F_{1,\\left\\{x\\right\\}}(t)} + 1</script></html>"
      ],
      "text/plain": [
       "v5 == (v11 - 1)*v5 + 1"
      ]
     },
     "metadata": {},
     "output_type": "display_data"
    },
    {
     "data": {
      "text/html": [
       "<html><script type=\"math/tex; mode=display\">\\newcommand{\\Bold}[1]{\\mathbf{#1}}{F_{x,\\left\\{1, x\\right\\}}(t)} = t</script></html>"
      ],
      "text/plain": [
       "v6 == t"
      ]
     },
     "metadata": {},
     "output_type": "display_data"
    },
    {
     "data": {
      "text/html": [
       "<html><script type=\"math/tex; mode=display\">\\newcommand{\\Bold}[1]{\\mathbf{#1}}{F_{y,\\left\\{y, 1\\right\\}}(t)} = t {F_{y^{2},\\left\\{y, y^{2}\\right\\}}(t)} + t</script></html>"
      ],
      "text/plain": [
       "v8 == t*v12 + t"
      ]
     },
     "metadata": {},
     "output_type": "display_data"
    },
    {
     "data": {
      "text/html": [
       "<html><script type=\"math/tex; mode=display\">\\newcommand{\\Bold}[1]{\\mathbf{#1}}{F_{1,\\left\\{y\\right\\}}(t)} = {\\left({F_{1,\\left\\{y, 1\\right\\}}(t)} - 1\\right)} {F_{1,\\left\\{y\\right\\}}(t)} + 1</script></html>"
      ],
      "text/plain": [
       "v7 == (v13 - 1)*v7 + 1"
      ]
     },
     "metadata": {},
     "output_type": "display_data"
    },
    {
     "data": {
      "text/html": [
       "<html><script type=\"math/tex; mode=display\">\\newcommand{\\Bold}[1]{\\mathbf{#1}}{F_{y^{-1},\\left\\{1, y^{-1}\\right\\}}(t)} = t {F_{y^{-2},\\left\\{y^{-1}, y^{-2}\\right\\}}(t)} + t</script></html>"
      ],
      "text/plain": [
       "v10 == t*v14 + t"
      ]
     },
     "metadata": {},
     "output_type": "display_data"
    },
    {
     "data": {
      "text/html": [
       "<html><script type=\"math/tex; mode=display\">\\newcommand{\\Bold}[1]{\\mathbf{#1}}{F_{1,\\left\\{y^{-1}\\right\\}}(t)} = {\\left({F_{1,\\left\\{1, y^{-1}\\right\\}}(t)} - 1\\right)} {F_{1,\\left\\{y^{-1}\\right\\}}(t)} + 1</script></html>"
      ],
      "text/plain": [
       "v9 == (v15 - 1)*v9 + 1"
      ]
     },
     "metadata": {},
     "output_type": "display_data"
    },
    {
     "data": {
      "text/html": [
       "<html><script type=\"math/tex; mode=display\">\\newcommand{\\Bold}[1]{\\mathbf{#1}}{F_{1,\\left\\{1, x\\right\\}}(t)} = {\\left(m - 1\\right)} t {F_{x,\\left\\{x\\right\\}}(t)} + n t {F_{y^{-1},\\left\\{y^{-1}\\right\\}}(t)} + n t {F_{y,\\left\\{y\\right\\}}(t)} + 1</script></html>"
      ],
      "text/plain": [
       "v11 == (m - 1)*t*v2 + n*t*v3 + n*t*v4 + 1"
      ]
     },
     "metadata": {},
     "output_type": "display_data"
    },
    {
     "data": {
      "text/html": [
       "<html><script type=\"math/tex; mode=display\">\\newcommand{\\Bold}[1]{\\mathbf{#1}}{F_{y^{2},\\left\\{y, y^{2}\\right\\}}(t)} = {F_{1,\\left\\{y, y^{2}\\right\\}}(t)} {F_{y^{2},\\left\\{y, 1, y^{2}\\right\\}}(t)}</script></html>"
      ],
      "text/plain": [
       "v12 == v16*v17"
      ]
     },
     "metadata": {},
     "output_type": "display_data"
    },
    {
     "data": {
      "text/html": [
       "<html><script type=\"math/tex; mode=display\">\\newcommand{\\Bold}[1]{\\mathbf{#1}}{F_{1,\\left\\{y, 1\\right\\}}(t)} = m t {F_{x,\\left\\{x\\right\\}}(t)} + {\\left(n - 1\\right)} t {F_{y^{-1},\\left\\{y^{-1}\\right\\}}(t)} + {\\left(n - 1\\right)} t {F_{y,\\left\\{y\\right\\}}(t)} + t {F_{y,\\left\\{y, y^{2}\\right\\}}(t)} + 1</script></html>"
      ],
      "text/plain": [
       "v13 == m*t*v2 + (n - 1)*t*v3 + (n - 1)*t*v4 + t*v18 + 1"
      ]
     },
     "metadata": {},
     "output_type": "display_data"
    },
    {
     "data": {
      "text/html": [
       "<html><script type=\"math/tex; mode=display\">\\newcommand{\\Bold}[1]{\\mathbf{#1}}{F_{y^{-2},\\left\\{y^{-1}, y^{-2}\\right\\}}(t)} = {F_{1,\\left\\{y^{-1}, y^{-2}\\right\\}}(t)} {F_{y^{-2},\\left\\{1, y^{-1}, y^{-2}\\right\\}}(t)}</script></html>"
      ],
      "text/plain": [
       "v14 == v19*v20"
      ]
     },
     "metadata": {},
     "output_type": "display_data"
    },
    {
     "data": {
      "text/html": [
       "<html><script type=\"math/tex; mode=display\">\\newcommand{\\Bold}[1]{\\mathbf{#1}}{F_{1,\\left\\{1, y^{-1}\\right\\}}(t)} = m t {F_{x,\\left\\{x\\right\\}}(t)} + {\\left(n - 1\\right)} t {F_{y^{-1},\\left\\{y^{-1}\\right\\}}(t)} + {\\left(n - 1\\right)} t {F_{y,\\left\\{y\\right\\}}(t)} + t {F_{y^{-1},\\left\\{y^{-1}, y^{-2}\\right\\}}(t)} + 1</script></html>"
      ],
      "text/plain": [
       "v15 == m*t*v2 + (n - 1)*t*v3 + (n - 1)*t*v4 + t*v21 + 1"
      ]
     },
     "metadata": {},
     "output_type": "display_data"
    },
    {
     "data": {
      "text/html": [
       "<html><script type=\"math/tex; mode=display\">\\newcommand{\\Bold}[1]{\\mathbf{#1}}{F_{y^{2},\\left\\{y, 1, y^{2}\\right\\}}(t)} = t {F_{y^{3},\\left\\{y, y^{3}, y^{2}\\right\\}}(t)}</script></html>"
      ],
      "text/plain": [
       "v17 == t*v22"
      ]
     },
     "metadata": {},
     "output_type": "display_data"
    },
    {
     "data": {
      "text/html": [
       "<html><script type=\"math/tex; mode=display\">\\newcommand{\\Bold}[1]{\\mathbf{#1}}{F_{1,\\left\\{y, y^{2}\\right\\}}(t)} = {F_{1,\\left\\{y, y^{2}\\right\\}}(t)} {\\left({F_{1,\\left\\{y, 1, y^{2}\\right\\}}(t)} - 1\\right)} + 1</script></html>"
      ],
      "text/plain": [
       "v16 == v16*(v23 - 1) + 1"
      ]
     },
     "metadata": {},
     "output_type": "display_data"
    },
    {
     "data": {
      "text/html": [
       "<html><script type=\"math/tex; mode=display\">\\newcommand{\\Bold}[1]{\\mathbf{#1}}{F_{y,\\left\\{y, y^{2}\\right\\}}(t)} = {F_{1,\\left\\{y, y^{2}\\right\\}}(t)} {F_{y,\\left\\{y, 1, y^{2}\\right\\}}(t)}</script></html>"
      ],
      "text/plain": [
       "v18 == v16*v24"
      ]
     },
     "metadata": {},
     "output_type": "display_data"
    },
    {
     "data": {
      "text/html": [
       "<html><script type=\"math/tex; mode=display\">\\newcommand{\\Bold}[1]{\\mathbf{#1}}{F_{1,\\left\\{y^{-1}, y^{-2}\\right\\}}(t)} = {F_{1,\\left\\{y^{-1}, y^{-2}\\right\\}}(t)} {\\left({F_{1,\\left\\{1, y^{-1}, y^{-2}\\right\\}}(t)} - 1\\right)} + 1</script></html>"
      ],
      "text/plain": [
       "v19 == v19*(v25 - 1) + 1"
      ]
     },
     "metadata": {},
     "output_type": "display_data"
    },
    {
     "data": {
      "text/html": [
       "<html><script type=\"math/tex; mode=display\">\\newcommand{\\Bold}[1]{\\mathbf{#1}}{F_{y^{-2},\\left\\{1, y^{-1}, y^{-2}\\right\\}}(t)} = t {F_{y^{-3},\\left\\{y^{-1}, y^{-3}, y^{-2}\\right\\}}(t)}</script></html>"
      ],
      "text/plain": [
       "v20 == t*v26"
      ]
     },
     "metadata": {},
     "output_type": "display_data"
    },
    {
     "data": {
      "text/html": [
       "<html><script type=\"math/tex; mode=display\">\\newcommand{\\Bold}[1]{\\mathbf{#1}}{F_{y^{-1},\\left\\{y^{-1}, y^{-2}\\right\\}}(t)} = {F_{1,\\left\\{y^{-1}, y^{-2}\\right\\}}(t)} {F_{y^{-1},\\left\\{1, y^{-1}, y^{-2}\\right\\}}(t)}</script></html>"
      ],
      "text/plain": [
       "v21 == v19*v27"
      ]
     },
     "metadata": {},
     "output_type": "display_data"
    },
    {
     "data": {
      "text/html": [
       "<html><script type=\"math/tex; mode=display\">\\newcommand{\\Bold}[1]{\\mathbf{#1}}{F_{y^{3},\\left\\{y, y^{3}, y^{2}\\right\\}}(t)} = {F_{1,\\left\\{y, y^{3}, y^{2}\\right\\}}(t)} {F_{y^{3},\\left\\{y, 1, y^{3}, y^{2}\\right\\}}(t)}</script></html>"
      ],
      "text/plain": [
       "v22 == v28*v29"
      ]
     },
     "metadata": {},
     "output_type": "display_data"
    },
    {
     "data": {
      "text/html": [
       "<html><script type=\"math/tex; mode=display\">\\newcommand{\\Bold}[1]{\\mathbf{#1}}{F_{1,\\left\\{y, 1, y^{2}\\right\\}}(t)} = m t {F_{x,\\left\\{x\\right\\}}(t)} + {\\left(n - 1\\right)} t {F_{y^{-1},\\left\\{y^{-1}\\right\\}}(t)} + {\\left(n - 1\\right)} t {F_{y,\\left\\{y\\right\\}}(t)} + t {F_{y,\\left\\{y, y^{3}, y^{2}\\right\\}}(t)} + 1</script></html>"
      ],
      "text/plain": [
       "v23 == m*t*v2 + (n - 1)*t*v3 + (n - 1)*t*v4 + t*v30 + 1"
      ]
     },
     "metadata": {},
     "output_type": "display_data"
    },
    {
     "data": {
      "text/html": [
       "<html><script type=\"math/tex; mode=display\">\\newcommand{\\Bold}[1]{\\mathbf{#1}}{F_{y,\\left\\{y, 1, y^{2}\\right\\}}(t)} = t {F_{y^{2},\\left\\{y, y^{3}, y^{2}\\right\\}}(t)} + t</script></html>"
      ],
      "text/plain": [
       "v24 == t*v31 + t"
      ]
     },
     "metadata": {},
     "output_type": "display_data"
    },
    {
     "data": {
      "text/html": [
       "<html><script type=\"math/tex; mode=display\">\\newcommand{\\Bold}[1]{\\mathbf{#1}}{F_{1,\\left\\{1, y^{-1}, y^{-2}\\right\\}}(t)} = m t {F_{x,\\left\\{x\\right\\}}(t)} + {\\left(n - 1\\right)} t {F_{y^{-1},\\left\\{y^{-1}\\right\\}}(t)} + {\\left(n - 1\\right)} t {F_{y,\\left\\{y\\right\\}}(t)} + t {F_{y^{-1},\\left\\{y^{-1}, y^{-3}, y^{-2}\\right\\}}(t)} + 1</script></html>"
      ],
      "text/plain": [
       "v25 == m*t*v2 + (n - 1)*t*v3 + (n - 1)*t*v4 + t*v32 + 1"
      ]
     },
     "metadata": {},
     "output_type": "display_data"
    },
    {
     "data": {
      "text/html": [
       "<html><script type=\"math/tex; mode=display\">\\newcommand{\\Bold}[1]{\\mathbf{#1}}{F_{y^{-3},\\left\\{y^{-1}, y^{-3}, y^{-2}\\right\\}}(t)} = {F_{1,\\left\\{y^{-1}, y^{-3}, y^{-2}\\right\\}}(t)} {F_{y^{-3},\\left\\{y^{-1}, 1, y^{-3}, y^{-2}\\right\\}}(t)}</script></html>"
      ],
      "text/plain": [
       "v26 == v33*v34"
      ]
     },
     "metadata": {},
     "output_type": "display_data"
    },
    {
     "data": {
      "text/html": [
       "<html><script type=\"math/tex; mode=display\">\\newcommand{\\Bold}[1]{\\mathbf{#1}}{F_{y^{-1},\\left\\{1, y^{-1}, y^{-2}\\right\\}}(t)} = t {F_{y^{-2},\\left\\{y^{-1}, y^{-3}, y^{-2}\\right\\}}(t)} + t</script></html>"
      ],
      "text/plain": [
       "v27 == t*v35 + t"
      ]
     },
     "metadata": {},
     "output_type": "display_data"
    },
    {
     "data": {
      "text/html": [
       "<html><script type=\"math/tex; mode=display\">\\newcommand{\\Bold}[1]{\\mathbf{#1}}{F_{1,\\left\\{y, y^{3}, y^{2}\\right\\}}(t)} = {F_{1,\\left\\{y, y^{3}, y^{2}\\right\\}}(t)} {\\left({F_{1,\\left\\{y, 1, y^{3}, y^{2}\\right\\}}(t)} - 1\\right)} + 1</script></html>"
      ],
      "text/plain": [
       "v28 == v28*(v36 - 1) + 1"
      ]
     },
     "metadata": {},
     "output_type": "display_data"
    },
    {
     "data": {
      "text/html": [
       "<html><script type=\"math/tex; mode=display\">\\newcommand{\\Bold}[1]{\\mathbf{#1}}{F_{y^{3},\\left\\{y, 1, y^{3}, y^{2}\\right\\}}(t)} = t {F_{y^{4},\\left\\{y, y^{2}, y^{3}, y^{4}\\right\\}}(t)}</script></html>"
      ],
      "text/plain": [
       "v29 == t*v37"
      ]
     },
     "metadata": {},
     "output_type": "display_data"
    },
    {
     "data": {
      "text/html": [
       "<html><script type=\"math/tex; mode=display\">\\newcommand{\\Bold}[1]{\\mathbf{#1}}{F_{y,\\left\\{y, y^{3}, y^{2}\\right\\}}(t)} = {F_{1,\\left\\{y, y^{3}, y^{2}\\right\\}}(t)} {F_{y,\\left\\{y, 1, y^{3}, y^{2}\\right\\}}(t)}</script></html>"
      ],
      "text/plain": [
       "v30 == v28*v38"
      ]
     },
     "metadata": {},
     "output_type": "display_data"
    },
    {
     "data": {
      "text/html": [
       "<html><script type=\"math/tex; mode=display\">\\newcommand{\\Bold}[1]{\\mathbf{#1}}{F_{y^{2},\\left\\{y, y^{3}, y^{2}\\right\\}}(t)} = {F_{1,\\left\\{y, y^{3}, y^{2}\\right\\}}(t)} {F_{y^{2},\\left\\{y, 1, y^{3}, y^{2}\\right\\}}(t)}</script></html>"
      ],
      "text/plain": [
       "v31 == v28*v39"
      ]
     },
     "metadata": {},
     "output_type": "display_data"
    },
    {
     "data": {
      "text/html": [
       "<html><script type=\"math/tex; mode=display\">\\newcommand{\\Bold}[1]{\\mathbf{#1}}{F_{y^{-1},\\left\\{y^{-1}, y^{-3}, y^{-2}\\right\\}}(t)} = {F_{1,\\left\\{y^{-1}, y^{-3}, y^{-2}\\right\\}}(t)} {F_{y^{-1},\\left\\{y^{-1}, 1, y^{-3}, y^{-2}\\right\\}}(t)}</script></html>"
      ],
      "text/plain": [
       "v32 == v33*v40"
      ]
     },
     "metadata": {},
     "output_type": "display_data"
    },
    {
     "data": {
      "text/html": [
       "<html><script type=\"math/tex; mode=display\">\\newcommand{\\Bold}[1]{\\mathbf{#1}}{F_{1,\\left\\{y^{-1}, y^{-3}, y^{-2}\\right\\}}(t)} = {F_{1,\\left\\{y^{-1}, y^{-3}, y^{-2}\\right\\}}(t)} {\\left({F_{1,\\left\\{y^{-1}, 1, y^{-3}, y^{-2}\\right\\}}(t)} - 1\\right)} + 1</script></html>"
      ],
      "text/plain": [
       "v33 == v33*(v41 - 1) + 1"
      ]
     },
     "metadata": {},
     "output_type": "display_data"
    },
    {
     "data": {
      "text/html": [
       "<html><script type=\"math/tex; mode=display\">\\newcommand{\\Bold}[1]{\\mathbf{#1}}{F_{y^{-3},\\left\\{y^{-1}, 1, y^{-3}, y^{-2}\\right\\}}(t)} = t {F_{y^{-4},\\left\\{y^{-2}, y^{-1}, y^{-3}, y^{-4}\\right\\}}(t)}</script></html>"
      ],
      "text/plain": [
       "v34 == t*v42"
      ]
     },
     "metadata": {},
     "output_type": "display_data"
    },
    {
     "data": {
      "text/html": [
       "<html><script type=\"math/tex; mode=display\">\\newcommand{\\Bold}[1]{\\mathbf{#1}}{F_{y^{-2},\\left\\{y^{-1}, y^{-3}, y^{-2}\\right\\}}(t)} = {F_{1,\\left\\{y^{-1}, y^{-3}, y^{-2}\\right\\}}(t)} {F_{y^{-2},\\left\\{y^{-1}, 1, y^{-3}, y^{-2}\\right\\}}(t)}</script></html>"
      ],
      "text/plain": [
       "v35 == v33*v43"
      ]
     },
     "metadata": {},
     "output_type": "display_data"
    },
    {
     "data": {
      "text/html": [
       "<html><script type=\"math/tex; mode=display\">\\newcommand{\\Bold}[1]{\\mathbf{#1}}{F_{1,\\left\\{y, 1, y^{3}, y^{2}\\right\\}}(t)} = m t {F_{x,\\left\\{x\\right\\}}(t)} + {\\left(n - 1\\right)} t {F_{y^{-1},\\left\\{y^{-1}\\right\\}}(t)} + {\\left(n - 1\\right)} t {F_{y,\\left\\{y\\right\\}}(t)} + t {F_{y,\\left\\{y, y^{2}, y^{3}, y^{4}\\right\\}}(t)} + 1</script></html>"
      ],
      "text/plain": [
       "v36 == m*t*v2 + (n - 1)*t*v3 + (n - 1)*t*v4 + t*v44 + 1"
      ]
     },
     "metadata": {},
     "output_type": "display_data"
    },
    {
     "data": {
      "text/html": [
       "<html><script type=\"math/tex; mode=display\">\\newcommand{\\Bold}[1]{\\mathbf{#1}}{F_{y^{4},\\left\\{y, y^{2}, y^{3}, y^{4}\\right\\}}(t)} = {F_{1,\\left\\{y, y^{2}, y^{3}, y^{4}\\right\\}}(t)} {F_{y^{4},\\left\\{y^{3}, 1, y^{2}, y, y^{4}\\right\\}}(t)}</script></html>"
      ],
      "text/plain": [
       "v37 == v45*v46"
      ]
     },
     "metadata": {},
     "output_type": "display_data"
    },
    {
     "data": {
      "text/html": [
       "<html><script type=\"math/tex; mode=display\">\\newcommand{\\Bold}[1]{\\mathbf{#1}}{F_{y,\\left\\{y, 1, y^{3}, y^{2}\\right\\}}(t)} = t {F_{y^{2},\\left\\{y, y^{2}, y^{3}, y^{4}\\right\\}}(t)} + t</script></html>"
      ],
      "text/plain": [
       "v38 == t*v47 + t"
      ]
     },
     "metadata": {},
     "output_type": "display_data"
    },
    {
     "data": {
      "text/html": [
       "<html><script type=\"math/tex; mode=display\">\\newcommand{\\Bold}[1]{\\mathbf{#1}}{F_{y^{2},\\left\\{y, 1, y^{3}, y^{2}\\right\\}}(t)} = t {F_{y^{3},\\left\\{y, y^{2}, y^{3}, y^{4}\\right\\}}(t)}</script></html>"
      ],
      "text/plain": [
       "v39 == t*v48"
      ]
     },
     "metadata": {},
     "output_type": "display_data"
    },
    {
     "data": {
      "text/html": [
       "<html><script type=\"math/tex; mode=display\">\\newcommand{\\Bold}[1]{\\mathbf{#1}}{F_{y^{-1},\\left\\{y^{-1}, 1, y^{-3}, y^{-2}\\right\\}}(t)} = t {F_{y^{-2},\\left\\{y^{-2}, y^{-1}, y^{-3}, y^{-4}\\right\\}}(t)} + t</script></html>"
      ],
      "text/plain": [
       "v40 == t*v49 + t"
      ]
     },
     "metadata": {},
     "output_type": "display_data"
    },
    {
     "data": {
      "text/html": [
       "<html><script type=\"math/tex; mode=display\">\\newcommand{\\Bold}[1]{\\mathbf{#1}}{F_{1,\\left\\{y^{-1}, 1, y^{-3}, y^{-2}\\right\\}}(t)} = m t {F_{x,\\left\\{x\\right\\}}(t)} + {\\left(n - 1\\right)} t {F_{y^{-1},\\left\\{y^{-1}\\right\\}}(t)} + {\\left(n - 1\\right)} t {F_{y,\\left\\{y\\right\\}}(t)} + t {F_{y^{-1},\\left\\{y^{-2}, y^{-1}, y^{-3}, y^{-4}\\right\\}}(t)} + 1</script></html>"
      ],
      "text/plain": [
       "v41 == m*t*v2 + (n - 1)*t*v3 + (n - 1)*t*v4 + t*v50 + 1"
      ]
     },
     "metadata": {},
     "output_type": "display_data"
    },
    {
     "data": {
      "text/html": [
       "<html><script type=\"math/tex; mode=display\">\\newcommand{\\Bold}[1]{\\mathbf{#1}}{F_{y^{-4},\\left\\{y^{-2}, y^{-1}, y^{-3}, y^{-4}\\right\\}}(t)} = {F_{1,\\left\\{y^{-2}, y^{-1}, y^{-3}, y^{-4}\\right\\}}(t)} {F_{y^{-4},\\left\\{1, y^{-3}, y^{-2}, y^{-1}, y^{-4}\\right\\}}(t)}</script></html>"
      ],
      "text/plain": [
       "v42 == v51*v52"
      ]
     },
     "metadata": {},
     "output_type": "display_data"
    },
    {
     "data": {
      "text/html": [
       "<html><script type=\"math/tex; mode=display\">\\newcommand{\\Bold}[1]{\\mathbf{#1}}{F_{y^{-2},\\left\\{y^{-1}, 1, y^{-3}, y^{-2}\\right\\}}(t)} = t {F_{y^{-3},\\left\\{y^{-2}, y^{-1}, y^{-3}, y^{-4}\\right\\}}(t)}</script></html>"
      ],
      "text/plain": [
       "v43 == t*v53"
      ]
     },
     "metadata": {},
     "output_type": "display_data"
    },
    {
     "data": {
      "text/html": [
       "<html><script type=\"math/tex; mode=display\">\\newcommand{\\Bold}[1]{\\mathbf{#1}}{F_{y,\\left\\{y, y^{2}, y^{3}, y^{4}\\right\\}}(t)} = {F_{1,\\left\\{y, y^{2}, y^{3}, y^{4}\\right\\}}(t)} {F_{y,\\left\\{y^{3}, 1, y^{2}, y, y^{4}\\right\\}}(t)}</script></html>"
      ],
      "text/plain": [
       "v44 == v45*v54"
      ]
     },
     "metadata": {},
     "output_type": "display_data"
    },
    {
     "data": {
      "text/html": [
       "<html><script type=\"math/tex; mode=display\">\\newcommand{\\Bold}[1]{\\mathbf{#1}}{F_{1,\\left\\{y, y^{2}, y^{3}, y^{4}\\right\\}}(t)} = {F_{1,\\left\\{y, y^{2}, y^{3}, y^{4}\\right\\}}(t)} {\\left({F_{1,\\left\\{y^{3}, 1, y^{2}, y, y^{4}\\right\\}}(t)} - 1\\right)} + 1</script></html>"
      ],
      "text/plain": [
       "v45 == v45*(v55 - 1) + 1"
      ]
     },
     "metadata": {},
     "output_type": "display_data"
    },
    {
     "data": {
      "text/html": [
       "<html><script type=\"math/tex; mode=display\">\\newcommand{\\Bold}[1]{\\mathbf{#1}}{F_{y^{4},\\left\\{y^{3}, 1, y^{2}, y, y^{4}\\right\\}}(t)} = t {F_{y^{-4},\\left\\{y^{3}, y^{4}, y^{-4}, y, y^{2}\\right\\}}(t)}</script></html>"
      ],
      "text/plain": [
       "v46 == t*v56"
      ]
     },
     "metadata": {},
     "output_type": "display_data"
    },
    {
     "data": {
      "text/html": [
       "<html><script type=\"math/tex; mode=display\">\\newcommand{\\Bold}[1]{\\mathbf{#1}}{F_{y^{2},\\left\\{y, y^{2}, y^{3}, y^{4}\\right\\}}(t)} = {F_{1,\\left\\{y, y^{2}, y^{3}, y^{4}\\right\\}}(t)} {F_{y^{2},\\left\\{y^{3}, 1, y^{2}, y, y^{4}\\right\\}}(t)}</script></html>"
      ],
      "text/plain": [
       "v47 == v45*v57"
      ]
     },
     "metadata": {},
     "output_type": "display_data"
    },
    {
     "data": {
      "text/html": [
       "<html><script type=\"math/tex; mode=display\">\\newcommand{\\Bold}[1]{\\mathbf{#1}}{F_{y^{3},\\left\\{y, y^{2}, y^{3}, y^{4}\\right\\}}(t)} = {F_{1,\\left\\{y, y^{2}, y^{3}, y^{4}\\right\\}}(t)} {F_{y^{3},\\left\\{y^{3}, 1, y^{2}, y, y^{4}\\right\\}}(t)}</script></html>"
      ],
      "text/plain": [
       "v48 == v45*v58"
      ]
     },
     "metadata": {},
     "output_type": "display_data"
    },
    {
     "data": {
      "text/html": [
       "<html><script type=\"math/tex; mode=display\">\\newcommand{\\Bold}[1]{\\mathbf{#1}}{F_{y^{-2},\\left\\{y^{-2}, y^{-1}, y^{-3}, y^{-4}\\right\\}}(t)} = {F_{1,\\left\\{y^{-2}, y^{-1}, y^{-3}, y^{-4}\\right\\}}(t)} {F_{y^{-2},\\left\\{1, y^{-3}, y^{-2}, y^{-1}, y^{-4}\\right\\}}(t)}</script></html>"
      ],
      "text/plain": [
       "v49 == v51*v59"
      ]
     },
     "metadata": {},
     "output_type": "display_data"
    },
    {
     "data": {
      "text/html": [
       "<html><script type=\"math/tex; mode=display\">\\newcommand{\\Bold}[1]{\\mathbf{#1}}{F_{y^{-1},\\left\\{y^{-2}, y^{-1}, y^{-3}, y^{-4}\\right\\}}(t)} = {F_{1,\\left\\{y^{-2}, y^{-1}, y^{-3}, y^{-4}\\right\\}}(t)} {F_{y^{-1},\\left\\{1, y^{-3}, y^{-2}, y^{-1}, y^{-4}\\right\\}}(t)}</script></html>"
      ],
      "text/plain": [
       "v50 == v51*v60"
      ]
     },
     "metadata": {},
     "output_type": "display_data"
    },
    {
     "data": {
      "text/html": [
       "<html><script type=\"math/tex; mode=display\">\\newcommand{\\Bold}[1]{\\mathbf{#1}}{F_{1,\\left\\{y^{-2}, y^{-1}, y^{-3}, y^{-4}\\right\\}}(t)} = {F_{1,\\left\\{y^{-2}, y^{-1}, y^{-3}, y^{-4}\\right\\}}(t)} {\\left({F_{1,\\left\\{1, y^{-3}, y^{-2}, y^{-1}, y^{-4}\\right\\}}(t)} - 1\\right)} + 1</script></html>"
      ],
      "text/plain": [
       "v51 == v51*(v61 - 1) + 1"
      ]
     },
     "metadata": {},
     "output_type": "display_data"
    },
    {
     "data": {
      "text/html": [
       "<html><script type=\"math/tex; mode=display\">\\newcommand{\\Bold}[1]{\\mathbf{#1}}{F_{y^{-4},\\left\\{1, y^{-3}, y^{-2}, y^{-1}, y^{-4}\\right\\}}(t)} = t {F_{y^{4},\\left\\{y^{-4}, y^{4}, y^{-1}, y^{-3}, y^{-2}\\right\\}}(t)}</script></html>"
      ],
      "text/plain": [
       "v52 == t*v62"
      ]
     },
     "metadata": {},
     "output_type": "display_data"
    },
    {
     "data": {
      "text/html": [
       "<html><script type=\"math/tex; mode=display\">\\newcommand{\\Bold}[1]{\\mathbf{#1}}{F_{y^{-3},\\left\\{y^{-2}, y^{-1}, y^{-3}, y^{-4}\\right\\}}(t)} = {F_{1,\\left\\{y^{-2}, y^{-1}, y^{-3}, y^{-4}\\right\\}}(t)} {F_{y^{-3},\\left\\{1, y^{-3}, y^{-2}, y^{-1}, y^{-4}\\right\\}}(t)}</script></html>"
      ],
      "text/plain": [
       "v53 == v51*v63"
      ]
     },
     "metadata": {},
     "output_type": "display_data"
    },
    {
     "data": {
      "text/html": [
       "<html><script type=\"math/tex; mode=display\">\\newcommand{\\Bold}[1]{\\mathbf{#1}}{F_{y,\\left\\{y^{3}, 1, y^{2}, y, y^{4}\\right\\}}(t)} = t {F_{y^{2},\\left\\{y^{3}, y^{4}, y^{-4}, y, y^{2}\\right\\}}(t)} + t</script></html>"
      ],
      "text/plain": [
       "v54 == t*v64 + t"
      ]
     },
     "metadata": {},
     "output_type": "display_data"
    },
    {
     "data": {
      "text/html": [
       "<html><script type=\"math/tex; mode=display\">\\newcommand{\\Bold}[1]{\\mathbf{#1}}{F_{1,\\left\\{y^{3}, 1, y^{2}, y, y^{4}\\right\\}}(t)} = m t {F_{x,\\left\\{x\\right\\}}(t)} + {\\left(n - 1\\right)} t {F_{y^{-1},\\left\\{y^{-1}\\right\\}}(t)} + {\\left(n - 1\\right)} t {F_{y,\\left\\{y\\right\\}}(t)} + t {F_{y,\\left\\{y^{3}, y^{4}, y^{-4}, y, y^{2}\\right\\}}(t)} + 1</script></html>"
      ],
      "text/plain": [
       "v55 == m*t*v2 + (n - 1)*t*v3 + (n - 1)*t*v4 + t*v65 + 1"
      ]
     },
     "metadata": {},
     "output_type": "display_data"
    },
    {
     "data": {
      "text/html": [
       "<html><script type=\"math/tex; mode=display\">\\newcommand{\\Bold}[1]{\\mathbf{#1}}{F_{y^{-4},\\left\\{y^{3}, y^{4}, y^{-4}, y, y^{2}\\right\\}}(t)} = {F_{1,\\left\\{y^{3}, y^{4}, y^{-4}, y, y^{2}\\right\\}}(t)} {F_{y^{-4},\\left\\{y^{3}, 1, y^{2}, y^{4}, y, y^{-4}\\right\\}}(t)}</script></html>"
      ],
      "text/plain": [
       "v56 == v66*v67"
      ]
     },
     "metadata": {},
     "output_type": "display_data"
    },
    {
     "data": {
      "text/html": [
       "<html><script type=\"math/tex; mode=display\">\\newcommand{\\Bold}[1]{\\mathbf{#1}}{F_{y^{2},\\left\\{y^{3}, 1, y^{2}, y, y^{4}\\right\\}}(t)} = t {F_{y^{3},\\left\\{y^{3}, y^{4}, y^{-4}, y, y^{2}\\right\\}}(t)}</script></html>"
      ],
      "text/plain": [
       "v57 == t*v68"
      ]
     },
     "metadata": {},
     "output_type": "display_data"
    },
    {
     "data": {
      "text/html": [
       "<html><script type=\"math/tex; mode=display\">\\newcommand{\\Bold}[1]{\\mathbf{#1}}{F_{y^{3},\\left\\{y^{3}, 1, y^{2}, y, y^{4}\\right\\}}(t)} = t {F_{y^{4},\\left\\{y^{3}, y^{4}, y^{-4}, y, y^{2}\\right\\}}(t)}</script></html>"
      ],
      "text/plain": [
       "v58 == t*v69"
      ]
     },
     "metadata": {},
     "output_type": "display_data"
    },
    {
     "data": {
      "text/html": [
       "<html><script type=\"math/tex; mode=display\">\\newcommand{\\Bold}[1]{\\mathbf{#1}}{F_{y^{-2},\\left\\{1, y^{-3}, y^{-2}, y^{-1}, y^{-4}\\right\\}}(t)} = t {F_{y^{-3},\\left\\{y^{-4}, y^{4}, y^{-1}, y^{-3}, y^{-2}\\right\\}}(t)}</script></html>"
      ],
      "text/plain": [
       "v59 == t*v70"
      ]
     },
     "metadata": {},
     "output_type": "display_data"
    },
    {
     "data": {
      "text/html": [
       "<html><script type=\"math/tex; mode=display\">\\newcommand{\\Bold}[1]{\\mathbf{#1}}{F_{y^{-1},\\left\\{1, y^{-3}, y^{-2}, y^{-1}, y^{-4}\\right\\}}(t)} = t {F_{y^{-2},\\left\\{y^{-4}, y^{4}, y^{-1}, y^{-3}, y^{-2}\\right\\}}(t)} + t</script></html>"
      ],
      "text/plain": [
       "v60 == t*v71 + t"
      ]
     },
     "metadata": {},
     "output_type": "display_data"
    },
    {
     "data": {
      "text/html": [
       "<html><script type=\"math/tex; mode=display\">\\newcommand{\\Bold}[1]{\\mathbf{#1}}{F_{1,\\left\\{1, y^{-3}, y^{-2}, y^{-1}, y^{-4}\\right\\}}(t)} = m t {F_{x,\\left\\{x\\right\\}}(t)} + {\\left(n - 1\\right)} t {F_{y^{-1},\\left\\{y^{-1}\\right\\}}(t)} + {\\left(n - 1\\right)} t {F_{y,\\left\\{y\\right\\}}(t)} + t {F_{y^{-1},\\left\\{y^{-4}, y^{4}, y^{-1}, y^{-3}, y^{-2}\\right\\}}(t)} + 1</script></html>"
      ],
      "text/plain": [
       "v61 == m*t*v2 + (n - 1)*t*v3 + (n - 1)*t*v4 + t*v72 + 1"
      ]
     },
     "metadata": {},
     "output_type": "display_data"
    },
    {
     "data": {
      "text/html": [
       "<html><script type=\"math/tex; mode=display\">\\newcommand{\\Bold}[1]{\\mathbf{#1}}{F_{y^{4},\\left\\{y^{-4}, y^{4}, y^{-1}, y^{-3}, y^{-2}\\right\\}}(t)} = {F_{1,\\left\\{y^{-4}, y^{4}, y^{-1}, y^{-3}, y^{-2}\\right\\}}(t)} {F_{y^{4},\\left\\{1, y^{-3}, y^{-4}, y^{-2}, y^{-1}, y^{4}\\right\\}}(t)}</script></html>"
      ],
      "text/plain": [
       "v62 == v73*v74"
      ]
     },
     "metadata": {},
     "output_type": "display_data"
    },
    {
     "data": {
      "text/html": [
       "<html><script type=\"math/tex; mode=display\">\\newcommand{\\Bold}[1]{\\mathbf{#1}}{F_{y^{-3},\\left\\{1, y^{-3}, y^{-2}, y^{-1}, y^{-4}\\right\\}}(t)} = t {F_{y^{-4},\\left\\{y^{-4}, y^{4}, y^{-1}, y^{-3}, y^{-2}\\right\\}}(t)}</script></html>"
      ],
      "text/plain": [
       "v63 == t*v75"
      ]
     },
     "metadata": {},
     "output_type": "display_data"
    },
    {
     "data": {
      "text/html": [
       "<html><script type=\"math/tex; mode=display\">\\newcommand{\\Bold}[1]{\\mathbf{#1}}{F_{y^{2},\\left\\{y^{3}, y^{4}, y^{-4}, y, y^{2}\\right\\}}(t)} = {F_{1,\\left\\{y^{3}, y^{4}, y^{-4}, y, y^{2}\\right\\}}(t)} {F_{y^{2},\\left\\{y^{3}, 1, y^{2}, y^{4}, y, y^{-4}\\right\\}}(t)}</script></html>"
      ],
      "text/plain": [
       "v64 == v66*v76"
      ]
     },
     "metadata": {},
     "output_type": "display_data"
    },
    {
     "data": {
      "text/html": [
       "<html><script type=\"math/tex; mode=display\">\\newcommand{\\Bold}[1]{\\mathbf{#1}}{F_{y,\\left\\{y^{3}, y^{4}, y^{-4}, y, y^{2}\\right\\}}(t)} = {F_{1,\\left\\{y^{3}, y^{4}, y^{-4}, y, y^{2}\\right\\}}(t)} {F_{y,\\left\\{y^{3}, 1, y^{2}, y^{4}, y, y^{-4}\\right\\}}(t)}</script></html>"
      ],
      "text/plain": [
       "v65 == v66*v77"
      ]
     },
     "metadata": {},
     "output_type": "display_data"
    },
    {
     "data": {
      "text/html": [
       "<html><script type=\"math/tex; mode=display\">\\newcommand{\\Bold}[1]{\\mathbf{#1}}{F_{y^{-4},\\left\\{y^{3}, 1, y^{2}, y^{4}, y, y^{-4}\\right\\}}(t)} = t {F_{y^{-3},\\left\\{y^{3}, y^{4}, y^{-4}, y, y^{-3}, y^{2}\\right\\}}(t)}</script></html>"
      ],
      "text/plain": [
       "v67 == t*v78"
      ]
     },
     "metadata": {},
     "output_type": "display_data"
    },
    {
     "data": {
      "text/html": [
       "<html><script type=\"math/tex; mode=display\">\\newcommand{\\Bold}[1]{\\mathbf{#1}}{F_{1,\\left\\{y^{3}, y^{4}, y^{-4}, y, y^{2}\\right\\}}(t)} = {F_{1,\\left\\{y^{3}, y^{4}, y^{-4}, y, y^{2}\\right\\}}(t)} {\\left({F_{1,\\left\\{y^{3}, 1, y^{2}, y^{4}, y, y^{-4}\\right\\}}(t)} - 1\\right)} + 1</script></html>"
      ],
      "text/plain": [
       "v66 == v66*(v79 - 1) + 1"
      ]
     },
     "metadata": {},
     "output_type": "display_data"
    },
    {
     "data": {
      "text/html": [
       "<html><script type=\"math/tex; mode=display\">\\newcommand{\\Bold}[1]{\\mathbf{#1}}{F_{y^{3},\\left\\{y^{3}, y^{4}, y^{-4}, y, y^{2}\\right\\}}(t)} = {F_{1,\\left\\{y^{3}, y^{4}, y^{-4}, y, y^{2}\\right\\}}(t)} {F_{y^{3},\\left\\{y^{3}, 1, y^{2}, y^{4}, y, y^{-4}\\right\\}}(t)}</script></html>"
      ],
      "text/plain": [
       "v68 == v66*v80"
      ]
     },
     "metadata": {},
     "output_type": "display_data"
    },
    {
     "data": {
      "text/html": [
       "<html><script type=\"math/tex; mode=display\">\\newcommand{\\Bold}[1]{\\mathbf{#1}}{F_{y^{4},\\left\\{y^{3}, y^{4}, y^{-4}, y, y^{2}\\right\\}}(t)} = {F_{1,\\left\\{y^{3}, y^{4}, y^{-4}, y, y^{2}\\right\\}}(t)} {F_{y^{4},\\left\\{y^{3}, 1, y^{2}, y^{4}, y, y^{-4}\\right\\}}(t)}</script></html>"
      ],
      "text/plain": [
       "v69 == v66*v81"
      ]
     },
     "metadata": {},
     "output_type": "display_data"
    },
    {
     "data": {
      "text/html": [
       "<html><script type=\"math/tex; mode=display\">\\newcommand{\\Bold}[1]{\\mathbf{#1}}{F_{y^{-3},\\left\\{y^{-4}, y^{4}, y^{-1}, y^{-3}, y^{-2}\\right\\}}(t)} = {F_{1,\\left\\{y^{-4}, y^{4}, y^{-1}, y^{-3}, y^{-2}\\right\\}}(t)} {F_{y^{-3},\\left\\{1, y^{-3}, y^{-4}, y^{-2}, y^{-1}, y^{4}\\right\\}}(t)}</script></html>"
      ],
      "text/plain": [
       "v70 == v73*v82"
      ]
     },
     "metadata": {},
     "output_type": "display_data"
    },
    {
     "data": {
      "text/html": [
       "<html><script type=\"math/tex; mode=display\">\\newcommand{\\Bold}[1]{\\mathbf{#1}}{F_{y^{-2},\\left\\{y^{-4}, y^{4}, y^{-1}, y^{-3}, y^{-2}\\right\\}}(t)} = {F_{1,\\left\\{y^{-4}, y^{4}, y^{-1}, y^{-3}, y^{-2}\\right\\}}(t)} {F_{y^{-2},\\left\\{1, y^{-3}, y^{-4}, y^{-2}, y^{-1}, y^{4}\\right\\}}(t)}</script></html>"
      ],
      "text/plain": [
       "v71 == v73*v83"
      ]
     },
     "metadata": {},
     "output_type": "display_data"
    },
    {
     "data": {
      "text/html": [
       "<html><script type=\"math/tex; mode=display\">\\newcommand{\\Bold}[1]{\\mathbf{#1}}{F_{y^{-1},\\left\\{y^{-4}, y^{4}, y^{-1}, y^{-3}, y^{-2}\\right\\}}(t)} = {F_{1,\\left\\{y^{-4}, y^{4}, y^{-1}, y^{-3}, y^{-2}\\right\\}}(t)} {F_{y^{-1},\\left\\{1, y^{-3}, y^{-4}, y^{-2}, y^{-1}, y^{4}\\right\\}}(t)}</script></html>"
      ],
      "text/plain": [
       "v72 == v73*v84"
      ]
     },
     "metadata": {},
     "output_type": "display_data"
    },
    {
     "data": {
      "text/html": [
       "<html><script type=\"math/tex; mode=display\">\\newcommand{\\Bold}[1]{\\mathbf{#1}}{F_{y^{4},\\left\\{1, y^{-3}, y^{-4}, y^{-2}, y^{-1}, y^{4}\\right\\}}(t)} = t {F_{y^{3},\\left\\{y^{3}, y^{-4}, y^{4}, y^{-1}, y^{-3}, y^{-2}\\right\\}}(t)}</script></html>"
      ],
      "text/plain": [
       "v74 == t*v85"
      ]
     },
     "metadata": {},
     "output_type": "display_data"
    },
    {
     "data": {
      "text/html": [
       "<html><script type=\"math/tex; mode=display\">\\newcommand{\\Bold}[1]{\\mathbf{#1}}{F_{1,\\left\\{y^{-4}, y^{4}, y^{-1}, y^{-3}, y^{-2}\\right\\}}(t)} = {F_{1,\\left\\{y^{-4}, y^{4}, y^{-1}, y^{-3}, y^{-2}\\right\\}}(t)} {\\left({F_{1,\\left\\{1, y^{-3}, y^{-4}, y^{-2}, y^{-1}, y^{4}\\right\\}}(t)} - 1\\right)} + 1</script></html>"
      ],
      "text/plain": [
       "v73 == v73*(v86 - 1) + 1"
      ]
     },
     "metadata": {},
     "output_type": "display_data"
    },
    {
     "data": {
      "text/html": [
       "<html><script type=\"math/tex; mode=display\">\\newcommand{\\Bold}[1]{\\mathbf{#1}}{F_{y^{-4},\\left\\{y^{-4}, y^{4}, y^{-1}, y^{-3}, y^{-2}\\right\\}}(t)} = {F_{1,\\left\\{y^{-4}, y^{4}, y^{-1}, y^{-3}, y^{-2}\\right\\}}(t)} {F_{y^{-4},\\left\\{1, y^{-3}, y^{-4}, y^{-2}, y^{-1}, y^{4}\\right\\}}(t)}</script></html>"
      ],
      "text/plain": [
       "v75 == v73*v87"
      ]
     },
     "metadata": {},
     "output_type": "display_data"
    },
    {
     "data": {
      "text/html": [
       "<html><script type=\"math/tex; mode=display\">\\newcommand{\\Bold}[1]{\\mathbf{#1}}{F_{y^{2},\\left\\{y^{3}, 1, y^{2}, y^{4}, y, y^{-4}\\right\\}}(t)} = t {F_{y^{3},\\left\\{y^{3}, y^{4}, y^{-4}, y, y^{-3}, y^{2}\\right\\}}(t)}</script></html>"
      ],
      "text/plain": [
       "v76 == t*v88"
      ]
     },
     "metadata": {},
     "output_type": "display_data"
    },
    {
     "data": {
      "text/html": [
       "<html><script type=\"math/tex; mode=display\">\\newcommand{\\Bold}[1]{\\mathbf{#1}}{F_{y,\\left\\{y^{3}, 1, y^{2}, y^{4}, y, y^{-4}\\right\\}}(t)} = t {F_{y^{2},\\left\\{y^{3}, y^{4}, y^{-4}, y, y^{-3}, y^{2}\\right\\}}(t)} + t</script></html>"
      ],
      "text/plain": [
       "v77 == t*v89 + t"
      ]
     },
     "metadata": {},
     "output_type": "display_data"
    },
    {
     "data": {
      "text/html": [
       "<html><script type=\"math/tex; mode=display\">\\newcommand{\\Bold}[1]{\\mathbf{#1}}{F_{y^{-3},\\left\\{y^{3}, y^{4}, y^{-4}, y, y^{-3}, y^{2}\\right\\}}(t)} = {F_{1,\\left\\{y^{3}, y^{4}, y^{-4}, y, y^{-3}, y^{2}\\right\\}}(t)} {F_{y^{-3},\\left\\{y^{3}, 1, y^{-3}, y^{2}, y^{4}, y, y^{-4}\\right\\}}(t)}</script></html>"
      ],
      "text/plain": [
       "v78 == v90*v91"
      ]
     },
     "metadata": {},
     "output_type": "display_data"
    },
    {
     "data": {
      "text/html": [
       "<html><script type=\"math/tex; mode=display\">\\newcommand{\\Bold}[1]{\\mathbf{#1}}{F_{1,\\left\\{y^{3}, 1, y^{2}, y^{4}, y, y^{-4}\\right\\}}(t)} = m t {F_{x,\\left\\{x\\right\\}}(t)} + {\\left(n - 1\\right)} t {F_{y^{-1},\\left\\{y^{-1}\\right\\}}(t)} + {\\left(n - 1\\right)} t {F_{y,\\left\\{y\\right\\}}(t)} + t {F_{y,\\left\\{y^{3}, y^{4}, y^{-4}, y, y^{-3}, y^{2}\\right\\}}(t)} + 1</script></html>"
      ],
      "text/plain": [
       "v79 == m*t*v2 + (n - 1)*t*v3 + (n - 1)*t*v4 + t*v92 + 1"
      ]
     },
     "metadata": {},
     "output_type": "display_data"
    },
    {
     "data": {
      "text/html": [
       "<html><script type=\"math/tex; mode=display\">\\newcommand{\\Bold}[1]{\\mathbf{#1}}{F_{y^{3},\\left\\{y^{3}, 1, y^{2}, y^{4}, y, y^{-4}\\right\\}}(t)} = t {F_{y^{4},\\left\\{y^{3}, y^{4}, y^{-4}, y, y^{-3}, y^{2}\\right\\}}(t)}</script></html>"
      ],
      "text/plain": [
       "v80 == t*v93"
      ]
     },
     "metadata": {},
     "output_type": "display_data"
    },
    {
     "data": {
      "text/html": [
       "<html><script type=\"math/tex; mode=display\">\\newcommand{\\Bold}[1]{\\mathbf{#1}}{F_{y^{4},\\left\\{y^{3}, 1, y^{2}, y^{4}, y, y^{-4}\\right\\}}(t)} = t {F_{y^{-4},\\left\\{y^{3}, y^{4}, y^{-4}, y, y^{-3}, y^{2}\\right\\}}(t)}</script></html>"
      ],
      "text/plain": [
       "v81 == t*v94"
      ]
     },
     "metadata": {},
     "output_type": "display_data"
    },
    {
     "data": {
      "text/html": [
       "<html><script type=\"math/tex; mode=display\">\\newcommand{\\Bold}[1]{\\mathbf{#1}}{F_{y^{-3},\\left\\{1, y^{-3}, y^{-4}, y^{-2}, y^{-1}, y^{4}\\right\\}}(t)} = t {F_{y^{-4},\\left\\{y^{3}, y^{-4}, y^{4}, y^{-1}, y^{-3}, y^{-2}\\right\\}}(t)}</script></html>"
      ],
      "text/plain": [
       "v82 == t*v95"
      ]
     },
     "metadata": {},
     "output_type": "display_data"
    },
    {
     "data": {
      "text/html": [
       "<html><script type=\"math/tex; mode=display\">\\newcommand{\\Bold}[1]{\\mathbf{#1}}{F_{y^{-2},\\left\\{1, y^{-3}, y^{-4}, y^{-2}, y^{-1}, y^{4}\\right\\}}(t)} = t {F_{y^{-3},\\left\\{y^{3}, y^{-4}, y^{4}, y^{-1}, y^{-3}, y^{-2}\\right\\}}(t)}</script></html>"
      ],
      "text/plain": [
       "v83 == t*v96"
      ]
     },
     "metadata": {},
     "output_type": "display_data"
    },
    {
     "data": {
      "text/html": [
       "<html><script type=\"math/tex; mode=display\">\\newcommand{\\Bold}[1]{\\mathbf{#1}}{F_{y^{-1},\\left\\{1, y^{-3}, y^{-4}, y^{-2}, y^{-1}, y^{4}\\right\\}}(t)} = t {F_{y^{-2},\\left\\{y^{3}, y^{-4}, y^{4}, y^{-1}, y^{-3}, y^{-2}\\right\\}}(t)} + t</script></html>"
      ],
      "text/plain": [
       "v84 == t*v97 + t"
      ]
     },
     "metadata": {},
     "output_type": "display_data"
    },
    {
     "data": {
      "text/html": [
       "<html><script type=\"math/tex; mode=display\">\\newcommand{\\Bold}[1]{\\mathbf{#1}}{F_{y^{3},\\left\\{y^{3}, y^{-4}, y^{4}, y^{-1}, y^{-3}, y^{-2}\\right\\}}(t)} = {F_{1,\\left\\{y^{3}, y^{-4}, y^{4}, y^{-1}, y^{-3}, y^{-2}\\right\\}}(t)} {F_{y^{3},\\left\\{y^{3}, 1, y^{-3}, y^{-4}, y^{-2}, y^{-1}, y^{4}\\right\\}}(t)}</script></html>"
      ],
      "text/plain": [
       "v85 == v98*v99"
      ]
     },
     "metadata": {},
     "output_type": "display_data"
    },
    {
     "data": {
      "text/html": [
       "<html><script type=\"math/tex; mode=display\">\\newcommand{\\Bold}[1]{\\mathbf{#1}}{F_{1,\\left\\{1, y^{-3}, y^{-4}, y^{-2}, y^{-1}, y^{4}\\right\\}}(t)} = m t {F_{x,\\left\\{x\\right\\}}(t)} + {\\left(n - 1\\right)} t {F_{y^{-1},\\left\\{y^{-1}\\right\\}}(t)} + {\\left(n - 1\\right)} t {F_{y,\\left\\{y\\right\\}}(t)} + t {F_{y^{-1},\\left\\{y^{3}, y^{-4}, y^{4}, y^{-1}, y^{-3}, y^{-2}\\right\\}}(t)} + 1</script></html>"
      ],
      "text/plain": [
       "v86 == m*t*v2 + (n - 1)*t*v3 + (n - 1)*t*v4 + t*v100 + 1"
      ]
     },
     "metadata": {},
     "output_type": "display_data"
    },
    {
     "data": {
      "text/html": [
       "<html><script type=\"math/tex; mode=display\">\\newcommand{\\Bold}[1]{\\mathbf{#1}}{F_{y^{-4},\\left\\{1, y^{-3}, y^{-4}, y^{-2}, y^{-1}, y^{4}\\right\\}}(t)} = t {F_{y^{4},\\left\\{y^{3}, y^{-4}, y^{4}, y^{-1}, y^{-3}, y^{-2}\\right\\}}(t)}</script></html>"
      ],
      "text/plain": [
       "v87 == t*v101"
      ]
     },
     "metadata": {},
     "output_type": "display_data"
    },
    {
     "data": {
      "text/html": [
       "<html><script type=\"math/tex; mode=display\">\\newcommand{\\Bold}[1]{\\mathbf{#1}}{F_{y^{3},\\left\\{y^{3}, y^{4}, y^{-4}, y, y^{-3}, y^{2}\\right\\}}(t)} = {F_{y^{3},\\left\\{y^{3}, 1, y^{-3}, y^{2}, y^{4}, y, y^{-4}\\right\\}}(t)} {F_{1,\\left\\{y^{3}, y^{4}, y^{-4}, y, y^{-3}, y^{2}\\right\\}}(t)}</script></html>"
      ],
      "text/plain": [
       "v88 == v102*v90"
      ]
     },
     "metadata": {},
     "output_type": "display_data"
    },
    {
     "data": {
      "text/html": [
       "<html><script type=\"math/tex; mode=display\">\\newcommand{\\Bold}[1]{\\mathbf{#1}}{F_{y^{2},\\left\\{y^{3}, y^{4}, y^{-4}, y, y^{-3}, y^{2}\\right\\}}(t)} = {F_{y^{2},\\left\\{y^{3}, 1, y^{-3}, y^{2}, y^{4}, y, y^{-4}\\right\\}}(t)} {F_{1,\\left\\{y^{3}, y^{4}, y^{-4}, y, y^{-3}, y^{2}\\right\\}}(t)}</script></html>"
      ],
      "text/plain": [
       "v89 == v103*v90"
      ]
     },
     "metadata": {},
     "output_type": "display_data"
    },
    {
     "data": {
      "text/html": [
       "<html><script type=\"math/tex; mode=display\">\\newcommand{\\Bold}[1]{\\mathbf{#1}}{F_{1,\\left\\{y^{3}, y^{4}, y^{-4}, y, y^{-3}, y^{2}\\right\\}}(t)} = {\\left({F_{1,\\left\\{y^{3}, 1, y^{-3}, y^{2}, y^{4}, y, y^{-4}\\right\\}}(t)} - 1\\right)} {F_{1,\\left\\{y^{3}, y^{4}, y^{-4}, y, y^{-3}, y^{2}\\right\\}}(t)} + 1</script></html>"
      ],
      "text/plain": [
       "v90 == (v104 - 1)*v90 + 1"
      ]
     },
     "metadata": {},
     "output_type": "display_data"
    },
    {
     "data": {
      "text/html": [
       "<html><script type=\"math/tex; mode=display\">\\newcommand{\\Bold}[1]{\\mathbf{#1}}{F_{y^{-3},\\left\\{y^{3}, 1, y^{-3}, y^{2}, y^{4}, y, y^{-4}\\right\\}}(t)} = t {F_{y^{-2},\\left\\{y^{3}, y^{-4}, y^{4}, y, y^{-2}, y^{-3}, y^{2}\\right\\}}(t)}</script></html>"
      ],
      "text/plain": [
       "v91 == t*v105"
      ]
     },
     "metadata": {},
     "output_type": "display_data"
    },
    {
     "data": {
      "text/html": [
       "<html><script type=\"math/tex; mode=display\">\\newcommand{\\Bold}[1]{\\mathbf{#1}}{F_{y,\\left\\{y^{3}, y^{4}, y^{-4}, y, y^{-3}, y^{2}\\right\\}}(t)} = {F_{y,\\left\\{y^{3}, 1, y^{-3}, y^{2}, y^{4}, y, y^{-4}\\right\\}}(t)} {F_{1,\\left\\{y^{3}, y^{4}, y^{-4}, y, y^{-3}, y^{2}\\right\\}}(t)}</script></html>"
      ],
      "text/plain": [
       "v92 == v106*v90"
      ]
     },
     "metadata": {},
     "output_type": "display_data"
    },
    {
     "data": {
      "text/html": [
       "<html><script type=\"math/tex; mode=display\">\\newcommand{\\Bold}[1]{\\mathbf{#1}}{F_{y^{4},\\left\\{y^{3}, y^{4}, y^{-4}, y, y^{-3}, y^{2}\\right\\}}(t)} = {F_{y^{4},\\left\\{y^{3}, 1, y^{-3}, y^{2}, y^{4}, y, y^{-4}\\right\\}}(t)} {F_{1,\\left\\{y^{3}, y^{4}, y^{-4}, y, y^{-3}, y^{2}\\right\\}}(t)}</script></html>"
      ],
      "text/plain": [
       "v93 == v107*v90"
      ]
     },
     "metadata": {},
     "output_type": "display_data"
    },
    {
     "data": {
      "text/html": [
       "<html><script type=\"math/tex; mode=display\">\\newcommand{\\Bold}[1]{\\mathbf{#1}}{F_{y^{-4},\\left\\{y^{3}, y^{4}, y^{-4}, y, y^{-3}, y^{2}\\right\\}}(t)} = {F_{y^{-4},\\left\\{y^{3}, 1, y^{-3}, y^{2}, y^{4}, y, y^{-4}\\right\\}}(t)} {F_{1,\\left\\{y^{3}, y^{4}, y^{-4}, y, y^{-3}, y^{2}\\right\\}}(t)}</script></html>"
      ],
      "text/plain": [
       "v94 == v108*v90"
      ]
     },
     "metadata": {},
     "output_type": "display_data"
    },
    {
     "data": {
      "text/html": [
       "<html><script type=\"math/tex; mode=display\">\\newcommand{\\Bold}[1]{\\mathbf{#1}}{F_{y^{-4},\\left\\{y^{3}, y^{-4}, y^{4}, y^{-1}, y^{-3}, y^{-2}\\right\\}}(t)} = {F_{y^{-4},\\left\\{y^{3}, 1, y^{-3}, y^{-4}, y^{-2}, y^{-1}, y^{4}\\right\\}}(t)} {F_{1,\\left\\{y^{3}, y^{-4}, y^{4}, y^{-1}, y^{-3}, y^{-2}\\right\\}}(t)}</script></html>"
      ],
      "text/plain": [
       "v95 == v109*v98"
      ]
     },
     "metadata": {},
     "output_type": "display_data"
    },
    {
     "data": {
      "text/html": [
       "<html><script type=\"math/tex; mode=display\">\\newcommand{\\Bold}[1]{\\mathbf{#1}}{F_{y^{-3},\\left\\{y^{3}, y^{-4}, y^{4}, y^{-1}, y^{-3}, y^{-2}\\right\\}}(t)} = {F_{y^{-3},\\left\\{y^{3}, 1, y^{-3}, y^{-4}, y^{-2}, y^{-1}, y^{4}\\right\\}}(t)} {F_{1,\\left\\{y^{3}, y^{-4}, y^{4}, y^{-1}, y^{-3}, y^{-2}\\right\\}}(t)}</script></html>"
      ],
      "text/plain": [
       "v96 == v110*v98"
      ]
     },
     "metadata": {},
     "output_type": "display_data"
    },
    {
     "data": {
      "text/html": [
       "<html><script type=\"math/tex; mode=display\">\\newcommand{\\Bold}[1]{\\mathbf{#1}}{F_{y^{-2},\\left\\{y^{3}, y^{-4}, y^{4}, y^{-1}, y^{-3}, y^{-2}\\right\\}}(t)} = {F_{y^{-2},\\left\\{y^{3}, 1, y^{-3}, y^{-4}, y^{-2}, y^{-1}, y^{4}\\right\\}}(t)} {F_{1,\\left\\{y^{3}, y^{-4}, y^{4}, y^{-1}, y^{-3}, y^{-2}\\right\\}}(t)}</script></html>"
      ],
      "text/plain": [
       "v97 == v111*v98"
      ]
     },
     "metadata": {},
     "output_type": "display_data"
    },
    {
     "data": {
      "text/html": [
       "<html><script type=\"math/tex; mode=display\">\\newcommand{\\Bold}[1]{\\mathbf{#1}}{F_{y^{3},\\left\\{y^{3}, 1, y^{-3}, y^{-4}, y^{-2}, y^{-1}, y^{4}\\right\\}}(t)} = t {F_{y^{2},\\left\\{y^{3}, y^{-4}, y^{4}, y^{-2}, y^{-1}, y^{-3}, y^{2}\\right\\}}(t)}</script></html>"
      ],
      "text/plain": [
       "v99 == t*v112"
      ]
     },
     "metadata": {},
     "output_type": "display_data"
    },
    {
     "data": {
      "text/html": [
       "<html><script type=\"math/tex; mode=display\">\\newcommand{\\Bold}[1]{\\mathbf{#1}}{F_{1,\\left\\{y^{3}, y^{-4}, y^{4}, y^{-1}, y^{-3}, y^{-2}\\right\\}}(t)} = {\\left({F_{1,\\left\\{y^{3}, 1, y^{-3}, y^{-4}, y^{-2}, y^{-1}, y^{4}\\right\\}}(t)} - 1\\right)} {F_{1,\\left\\{y^{3}, y^{-4}, y^{4}, y^{-1}, y^{-3}, y^{-2}\\right\\}}(t)} + 1</script></html>"
      ],
      "text/plain": [
       "v98 == (v113 - 1)*v98 + 1"
      ]
     },
     "metadata": {},
     "output_type": "display_data"
    },
    {
     "data": {
      "text/html": [
       "<html><script type=\"math/tex; mode=display\">\\newcommand{\\Bold}[1]{\\mathbf{#1}}{F_{y^{-1},\\left\\{y^{3}, y^{-4}, y^{4}, y^{-1}, y^{-3}, y^{-2}\\right\\}}(t)} = {F_{y^{-1},\\left\\{y^{3}, 1, y^{-3}, y^{-4}, y^{-2}, y^{-1}, y^{4}\\right\\}}(t)} {F_{1,\\left\\{y^{3}, y^{-4}, y^{4}, y^{-1}, y^{-3}, y^{-2}\\right\\}}(t)}</script></html>"
      ],
      "text/plain": [
       "v100 == v114*v98"
      ]
     },
     "metadata": {},
     "output_type": "display_data"
    },
    {
     "data": {
      "text/html": [
       "<html><script type=\"math/tex; mode=display\">\\newcommand{\\Bold}[1]{\\mathbf{#1}}{F_{y^{4},\\left\\{y^{3}, y^{-4}, y^{4}, y^{-1}, y^{-3}, y^{-2}\\right\\}}(t)} = {F_{y^{4},\\left\\{y^{3}, 1, y^{-3}, y^{-4}, y^{-2}, y^{-1}, y^{4}\\right\\}}(t)} {F_{1,\\left\\{y^{3}, y^{-4}, y^{4}, y^{-1}, y^{-3}, y^{-2}\\right\\}}(t)}</script></html>"
      ],
      "text/plain": [
       "v101 == v115*v98"
      ]
     },
     "metadata": {},
     "output_type": "display_data"
    },
    {
     "data": {
      "text/html": [
       "<html><script type=\"math/tex; mode=display\">\\newcommand{\\Bold}[1]{\\mathbf{#1}}{F_{y^{3},\\left\\{y^{3}, 1, y^{-3}, y^{2}, y^{4}, y, y^{-4}\\right\\}}(t)} = t {F_{y^{4},\\left\\{y^{3}, y^{-4}, y^{4}, y, y^{-2}, y^{-3}, y^{2}\\right\\}}(t)}</script></html>"
      ],
      "text/plain": [
       "v102 == t*v116"
      ]
     },
     "metadata": {},
     "output_type": "display_data"
    },
    {
     "data": {
      "text/html": [
       "<html><script type=\"math/tex; mode=display\">\\newcommand{\\Bold}[1]{\\mathbf{#1}}{F_{y^{2},\\left\\{y^{3}, 1, y^{-3}, y^{2}, y^{4}, y, y^{-4}\\right\\}}(t)} = t {F_{y^{3},\\left\\{y^{3}, y^{-4}, y^{4}, y, y^{-2}, y^{-3}, y^{2}\\right\\}}(t)}</script></html>"
      ],
      "text/plain": [
       "v103 == t*v117"
      ]
     },
     "metadata": {},
     "output_type": "display_data"
    },
    {
     "data": {
      "text/html": [
       "<html><script type=\"math/tex; mode=display\">\\newcommand{\\Bold}[1]{\\mathbf{#1}}{F_{1,\\left\\{y^{3}, 1, y^{-3}, y^{2}, y^{4}, y, y^{-4}\\right\\}}(t)} = m t {F_{x,\\left\\{x\\right\\}}(t)} + {\\left(n - 1\\right)} t {F_{y^{-1},\\left\\{y^{-1}\\right\\}}(t)} + {\\left(n - 1\\right)} t {F_{y,\\left\\{y\\right\\}}(t)} + t {F_{y,\\left\\{y^{3}, y^{-4}, y^{4}, y, y^{-2}, y^{-3}, y^{2}\\right\\}}(t)} + 1</script></html>"
      ],
      "text/plain": [
       "v104 == m*t*v2 + (n - 1)*t*v3 + (n - 1)*t*v4 + t*v118 + 1"
      ]
     },
     "metadata": {},
     "output_type": "display_data"
    },
    {
     "data": {
      "text/html": [
       "<html><script type=\"math/tex; mode=display\">\\newcommand{\\Bold}[1]{\\mathbf{#1}}{F_{y^{-2},\\left\\{y^{3}, y^{-4}, y^{4}, y, y^{-2}, y^{-3}, y^{2}\\right\\}}(t)} = {F_{1,\\left\\{y^{3}, y^{-4}, y^{4}, y, y^{-2}, y^{-3}, y^{2}\\right\\}}(t)} {F_{y^{-2},\\left\\{y^{3}, y^{-4}, y^{4}, y^{2}, y, 1, y^{-3}, y^{-2}\\right\\}}(t)}</script></html>"
      ],
      "text/plain": [
       "v105 == v119*v120"
      ]
     },
     "metadata": {},
     "output_type": "display_data"
    },
    {
     "data": {
      "text/html": [
       "<html><script type=\"math/tex; mode=display\">\\newcommand{\\Bold}[1]{\\mathbf{#1}}{F_{y,\\left\\{y^{3}, 1, y^{-3}, y^{2}, y^{4}, y, y^{-4}\\right\\}}(t)} = t {F_{y^{2},\\left\\{y^{3}, y^{-4}, y^{4}, y, y^{-2}, y^{-3}, y^{2}\\right\\}}(t)} + t</script></html>"
      ],
      "text/plain": [
       "v106 == t*v121 + t"
      ]
     },
     "metadata": {},
     "output_type": "display_data"
    },
    {
     "data": {
      "text/html": [
       "<html><script type=\"math/tex; mode=display\">\\newcommand{\\Bold}[1]{\\mathbf{#1}}{F_{y^{4},\\left\\{y^{3}, 1, y^{-3}, y^{2}, y^{4}, y, y^{-4}\\right\\}}(t)} = t {F_{y^{-4},\\left\\{y^{3}, y^{-4}, y^{4}, y, y^{-2}, y^{-3}, y^{2}\\right\\}}(t)}</script></html>"
      ],
      "text/plain": [
       "v107 == t*v122"
      ]
     },
     "metadata": {},
     "output_type": "display_data"
    },
    {
     "data": {
      "text/html": [
       "<html><script type=\"math/tex; mode=display\">\\newcommand{\\Bold}[1]{\\mathbf{#1}}{F_{y^{-4},\\left\\{y^{3}, 1, y^{-3}, y^{2}, y^{4}, y, y^{-4}\\right\\}}(t)} = t {F_{y^{-3},\\left\\{y^{3}, y^{-4}, y^{4}, y, y^{-2}, y^{-3}, y^{2}\\right\\}}(t)}</script></html>"
      ],
      "text/plain": [
       "v108 == t*v123"
      ]
     },
     "metadata": {},
     "output_type": "display_data"
    },
    {
     "data": {
      "text/html": [
       "<html><script type=\"math/tex; mode=display\">\\newcommand{\\Bold}[1]{\\mathbf{#1}}{F_{y^{-4},\\left\\{y^{3}, 1, y^{-3}, y^{-4}, y^{-2}, y^{-1}, y^{4}\\right\\}}(t)} = t {F_{y^{4},\\left\\{y^{3}, y^{-4}, y^{4}, y^{-2}, y^{-1}, y^{-3}, y^{2}\\right\\}}(t)}</script></html>"
      ],
      "text/plain": [
       "v109 == t*v124"
      ]
     },
     "metadata": {},
     "output_type": "display_data"
    },
    {
     "data": {
      "text/html": [
       "<html><script type=\"math/tex; mode=display\">\\newcommand{\\Bold}[1]{\\mathbf{#1}}{F_{y^{-3},\\left\\{y^{3}, 1, y^{-3}, y^{-4}, y^{-2}, y^{-1}, y^{4}\\right\\}}(t)} = t {F_{y^{-4},\\left\\{y^{3}, y^{-4}, y^{4}, y^{-2}, y^{-1}, y^{-3}, y^{2}\\right\\}}(t)}</script></html>"
      ],
      "text/plain": [
       "v110 == t*v125"
      ]
     },
     "metadata": {},
     "output_type": "display_data"
    },
    {
     "data": {
      "text/html": [
       "<html><script type=\"math/tex; mode=display\">\\newcommand{\\Bold}[1]{\\mathbf{#1}}{F_{y^{-2},\\left\\{y^{3}, 1, y^{-3}, y^{-4}, y^{-2}, y^{-1}, y^{4}\\right\\}}(t)} = t {F_{y^{-3},\\left\\{y^{3}, y^{-4}, y^{4}, y^{-2}, y^{-1}, y^{-3}, y^{2}\\right\\}}(t)}</script></html>"
      ],
      "text/plain": [
       "v111 == t*v126"
      ]
     },
     "metadata": {},
     "output_type": "display_data"
    },
    {
     "data": {
      "text/html": [
       "<html><script type=\"math/tex; mode=display\">\\newcommand{\\Bold}[1]{\\mathbf{#1}}{F_{y^{2},\\left\\{y^{3}, y^{-4}, y^{4}, y^{-2}, y^{-1}, y^{-3}, y^{2}\\right\\}}(t)} = {F_{1,\\left\\{y^{3}, y^{-4}, y^{4}, y^{-2}, y^{-1}, y^{-3}, y^{2}\\right\\}}(t)} {F_{y^{2},\\left\\{y^{3}, y^{-4}, y^{4}, y^{-2}, y^{-1}, 1, y^{-3}, y^{2}\\right\\}}(t)}</script></html>"
      ],
      "text/plain": [
       "v112 == v127*v128"
      ]
     },
     "metadata": {},
     "output_type": "display_data"
    },
    {
     "data": {
      "text/html": [
       "<html><script type=\"math/tex; mode=display\">\\newcommand{\\Bold}[1]{\\mathbf{#1}}{F_{1,\\left\\{y^{3}, 1, y^{-3}, y^{-4}, y^{-2}, y^{-1}, y^{4}\\right\\}}(t)} = m t {F_{x,\\left\\{x\\right\\}}(t)} + {\\left(n - 1\\right)} t {F_{y^{-1},\\left\\{y^{-1}\\right\\}}(t)} + {\\left(n - 1\\right)} t {F_{y,\\left\\{y\\right\\}}(t)} + t {F_{y^{-1},\\left\\{y^{3}, y^{-4}, y^{4}, y^{-2}, y^{-1}, y^{-3}, y^{2}\\right\\}}(t)} + 1</script></html>"
      ],
      "text/plain": [
       "v113 == m*t*v2 + (n - 1)*t*v3 + (n - 1)*t*v4 + t*v129 + 1"
      ]
     },
     "metadata": {},
     "output_type": "display_data"
    },
    {
     "data": {
      "text/html": [
       "<html><script type=\"math/tex; mode=display\">\\newcommand{\\Bold}[1]{\\mathbf{#1}}{F_{y^{-1},\\left\\{y^{3}, 1, y^{-3}, y^{-4}, y^{-2}, y^{-1}, y^{4}\\right\\}}(t)} = t {F_{y^{-2},\\left\\{y^{3}, y^{-4}, y^{4}, y^{-2}, y^{-1}, y^{-3}, y^{2}\\right\\}}(t)} + t</script></html>"
      ],
      "text/plain": [
       "v114 == t*v130 + t"
      ]
     },
     "metadata": {},
     "output_type": "display_data"
    },
    {
     "data": {
      "text/html": [
       "<html><script type=\"math/tex; mode=display\">\\newcommand{\\Bold}[1]{\\mathbf{#1}}{F_{y^{4},\\left\\{y^{3}, 1, y^{-3}, y^{-4}, y^{-2}, y^{-1}, y^{4}\\right\\}}(t)} = t {F_{y^{3},\\left\\{y^{3}, y^{-4}, y^{4}, y^{-2}, y^{-1}, y^{-3}, y^{2}\\right\\}}(t)}</script></html>"
      ],
      "text/plain": [
       "v115 == t*v131"
      ]
     },
     "metadata": {},
     "output_type": "display_data"
    },
    {
     "data": {
      "text/html": [
       "<html><script type=\"math/tex; mode=display\">\\newcommand{\\Bold}[1]{\\mathbf{#1}}{F_{y^{4},\\left\\{y^{3}, y^{-4}, y^{4}, y, y^{-2}, y^{-3}, y^{2}\\right\\}}(t)} = {F_{1,\\left\\{y^{3}, y^{-4}, y^{4}, y, y^{-2}, y^{-3}, y^{2}\\right\\}}(t)} {F_{y^{4},\\left\\{y^{3}, y^{-4}, y^{4}, y^{2}, y, 1, y^{-3}, y^{-2}\\right\\}}(t)}</script></html>"
      ],
      "text/plain": [
       "v116 == v119*v132"
      ]
     },
     "metadata": {},
     "output_type": "display_data"
    },
    {
     "data": {
      "text/html": [
       "<html><script type=\"math/tex; mode=display\">\\newcommand{\\Bold}[1]{\\mathbf{#1}}{F_{y^{3},\\left\\{y^{3}, y^{-4}, y^{4}, y, y^{-2}, y^{-3}, y^{2}\\right\\}}(t)} = {F_{1,\\left\\{y^{3}, y^{-4}, y^{4}, y, y^{-2}, y^{-3}, y^{2}\\right\\}}(t)} {F_{y^{3},\\left\\{y^{3}, y^{-4}, y^{4}, y^{2}, y, 1, y^{-3}, y^{-2}\\right\\}}(t)}</script></html>"
      ],
      "text/plain": [
       "v117 == v119*v133"
      ]
     },
     "metadata": {},
     "output_type": "display_data"
    },
    {
     "data": {
      "text/html": [
       "<html><script type=\"math/tex; mode=display\">\\newcommand{\\Bold}[1]{\\mathbf{#1}}{F_{y,\\left\\{y^{3}, y^{-4}, y^{4}, y, y^{-2}, y^{-3}, y^{2}\\right\\}}(t)} = {F_{1,\\left\\{y^{3}, y^{-4}, y^{4}, y, y^{-2}, y^{-3}, y^{2}\\right\\}}(t)} {F_{y,\\left\\{y^{3}, y^{-4}, y^{4}, y^{2}, y, 1, y^{-3}, y^{-2}\\right\\}}(t)}</script></html>"
      ],
      "text/plain": [
       "v118 == v119*v134"
      ]
     },
     "metadata": {},
     "output_type": "display_data"
    },
    {
     "data": {
      "text/html": [
       "<html><script type=\"math/tex; mode=display\">\\newcommand{\\Bold}[1]{\\mathbf{#1}}{F_{y^{-2},\\left\\{y^{3}, y^{-4}, y^{4}, y^{2}, y, 1, y^{-3}, y^{-2}\\right\\}}(t)} = t {F_{y^{-1},\\left\\{y^{3}, y^{4}, y^{-4}, y, y^{2}, y^{-1}, y^{-3}, y^{-2}\\right\\}}(t)}</script></html>"
      ],
      "text/plain": [
       "v120 == t*v135"
      ]
     },
     "metadata": {},
     "output_type": "display_data"
    },
    {
     "data": {
      "text/html": [
       "<html><script type=\"math/tex; mode=display\">\\newcommand{\\Bold}[1]{\\mathbf{#1}}{F_{1,\\left\\{y^{3}, y^{-4}, y^{4}, y, y^{-2}, y^{-3}, y^{2}\\right\\}}(t)} = {F_{1,\\left\\{y^{3}, y^{-4}, y^{4}, y, y^{-2}, y^{-3}, y^{2}\\right\\}}(t)} {\\left({F_{1,\\left\\{y^{3}, y^{-4}, y^{4}, y^{2}, y, 1, y^{-3}, y^{-2}\\right\\}}(t)} - 1\\right)} + 1</script></html>"
      ],
      "text/plain": [
       "v119 == v119*(v136 - 1) + 1"
      ]
     },
     "metadata": {},
     "output_type": "display_data"
    },
    {
     "data": {
      "text/html": [
       "<html><script type=\"math/tex; mode=display\">\\newcommand{\\Bold}[1]{\\mathbf{#1}}{F_{y^{2},\\left\\{y^{3}, y^{-4}, y^{4}, y, y^{-2}, y^{-3}, y^{2}\\right\\}}(t)} = {F_{1,\\left\\{y^{3}, y^{-4}, y^{4}, y, y^{-2}, y^{-3}, y^{2}\\right\\}}(t)} {F_{y^{2},\\left\\{y^{3}, y^{-4}, y^{4}, y^{2}, y, 1, y^{-3}, y^{-2}\\right\\}}(t)}</script></html>"
      ],
      "text/plain": [
       "v121 == v119*v137"
      ]
     },
     "metadata": {},
     "output_type": "display_data"
    },
    {
     "data": {
      "text/html": [
       "<html><script type=\"math/tex; mode=display\">\\newcommand{\\Bold}[1]{\\mathbf{#1}}{F_{y^{-4},\\left\\{y^{3}, y^{-4}, y^{4}, y, y^{-2}, y^{-3}, y^{2}\\right\\}}(t)} = {F_{1,\\left\\{y^{3}, y^{-4}, y^{4}, y, y^{-2}, y^{-3}, y^{2}\\right\\}}(t)} {F_{y^{-4},\\left\\{y^{3}, y^{-4}, y^{4}, y^{2}, y, 1, y^{-3}, y^{-2}\\right\\}}(t)}</script></html>"
      ],
      "text/plain": [
       "v122 == v119*v138"
      ]
     },
     "metadata": {},
     "output_type": "display_data"
    },
    {
     "data": {
      "text/html": [
       "<html><script type=\"math/tex; mode=display\">\\newcommand{\\Bold}[1]{\\mathbf{#1}}{F_{y^{-3},\\left\\{y^{3}, y^{-4}, y^{4}, y, y^{-2}, y^{-3}, y^{2}\\right\\}}(t)} = {F_{1,\\left\\{y^{3}, y^{-4}, y^{4}, y, y^{-2}, y^{-3}, y^{2}\\right\\}}(t)} {F_{y^{-3},\\left\\{y^{3}, y^{-4}, y^{4}, y^{2}, y, 1, y^{-3}, y^{-2}\\right\\}}(t)}</script></html>"
      ],
      "text/plain": [
       "v123 == v119*v139"
      ]
     },
     "metadata": {},
     "output_type": "display_data"
    },
    {
     "data": {
      "text/html": [
       "<html><script type=\"math/tex; mode=display\">\\newcommand{\\Bold}[1]{\\mathbf{#1}}{F_{y^{4},\\left\\{y^{3}, y^{-4}, y^{4}, y^{-2}, y^{-1}, y^{-3}, y^{2}\\right\\}}(t)} = {F_{1,\\left\\{y^{3}, y^{-4}, y^{4}, y^{-2}, y^{-1}, y^{-3}, y^{2}\\right\\}}(t)} {F_{y^{4},\\left\\{y^{3}, y^{-4}, y^{4}, y^{-2}, y^{-1}, 1, y^{-3}, y^{2}\\right\\}}(t)}</script></html>"
      ],
      "text/plain": [
       "v124 == v127*v140"
      ]
     },
     "metadata": {},
     "output_type": "display_data"
    },
    {
     "data": {
      "text/html": [
       "<html><script type=\"math/tex; mode=display\">\\newcommand{\\Bold}[1]{\\mathbf{#1}}{F_{y^{-4},\\left\\{y^{3}, y^{-4}, y^{4}, y^{-2}, y^{-1}, y^{-3}, y^{2}\\right\\}}(t)} = {F_{1,\\left\\{y^{3}, y^{-4}, y^{4}, y^{-2}, y^{-1}, y^{-3}, y^{2}\\right\\}}(t)} {F_{y^{-4},\\left\\{y^{3}, y^{-4}, y^{4}, y^{-2}, y^{-1}, 1, y^{-3}, y^{2}\\right\\}}(t)}</script></html>"
      ],
      "text/plain": [
       "v125 == v127*v141"
      ]
     },
     "metadata": {},
     "output_type": "display_data"
    },
    {
     "data": {
      "text/html": [
       "<html><script type=\"math/tex; mode=display\">\\newcommand{\\Bold}[1]{\\mathbf{#1}}{F_{y^{-3},\\left\\{y^{3}, y^{-4}, y^{4}, y^{-2}, y^{-1}, y^{-3}, y^{2}\\right\\}}(t)} = {F_{1,\\left\\{y^{3}, y^{-4}, y^{4}, y^{-2}, y^{-1}, y^{-3}, y^{2}\\right\\}}(t)} {F_{y^{-3},\\left\\{y^{3}, y^{-4}, y^{4}, y^{-2}, y^{-1}, 1, y^{-3}, y^{2}\\right\\}}(t)}</script></html>"
      ],
      "text/plain": [
       "v126 == v127*v142"
      ]
     },
     "metadata": {},
     "output_type": "display_data"
    },
    {
     "data": {
      "text/html": [
       "<html><script type=\"math/tex; mode=display\">\\newcommand{\\Bold}[1]{\\mathbf{#1}}{F_{1,\\left\\{y^{3}, y^{-4}, y^{4}, y^{-2}, y^{-1}, y^{-3}, y^{2}\\right\\}}(t)} = {F_{1,\\left\\{y^{3}, y^{-4}, y^{4}, y^{-2}, y^{-1}, y^{-3}, y^{2}\\right\\}}(t)} {\\left({F_{1,\\left\\{y^{3}, y^{-4}, y^{4}, y^{-2}, y^{-1}, 1, y^{-3}, y^{2}\\right\\}}(t)} - 1\\right)} + 1</script></html>"
      ],
      "text/plain": [
       "v127 == v127*(v143 - 1) + 1"
      ]
     },
     "metadata": {},
     "output_type": "display_data"
    },
    {
     "data": {
      "text/html": [
       "<html><script type=\"math/tex; mode=display\">\\newcommand{\\Bold}[1]{\\mathbf{#1}}{F_{y^{2},\\left\\{y^{3}, y^{-4}, y^{4}, y^{-2}, y^{-1}, 1, y^{-3}, y^{2}\\right\\}}(t)} = t {F_{y,\\left\\{y^{3}, y^{-4}, y^{4}, y, y^{-2}, y^{-1}, y^{-3}, y^{2}\\right\\}}(t)}</script></html>"
      ],
      "text/plain": [
       "v128 == t*v144"
      ]
     },
     "metadata": {},
     "output_type": "display_data"
    },
    {
     "data": {
      "text/html": [
       "<html><script type=\"math/tex; mode=display\">\\newcommand{\\Bold}[1]{\\mathbf{#1}}{F_{y^{-1},\\left\\{y^{3}, y^{-4}, y^{4}, y^{-2}, y^{-1}, y^{-3}, y^{2}\\right\\}}(t)} = {F_{1,\\left\\{y^{3}, y^{-4}, y^{4}, y^{-2}, y^{-1}, y^{-3}, y^{2}\\right\\}}(t)} {F_{y^{-1},\\left\\{y^{3}, y^{-4}, y^{4}, y^{-2}, y^{-1}, 1, y^{-3}, y^{2}\\right\\}}(t)}</script></html>"
      ],
      "text/plain": [
       "v129 == v127*v145"
      ]
     },
     "metadata": {},
     "output_type": "display_data"
    },
    {
     "data": {
      "text/html": [
       "<html><script type=\"math/tex; mode=display\">\\newcommand{\\Bold}[1]{\\mathbf{#1}}{F_{y^{-2},\\left\\{y^{3}, y^{-4}, y^{4}, y^{-2}, y^{-1}, y^{-3}, y^{2}\\right\\}}(t)} = {F_{1,\\left\\{y^{3}, y^{-4}, y^{4}, y^{-2}, y^{-1}, y^{-3}, y^{2}\\right\\}}(t)} {F_{y^{-2},\\left\\{y^{3}, y^{-4}, y^{4}, y^{-2}, y^{-1}, 1, y^{-3}, y^{2}\\right\\}}(t)}</script></html>"
      ],
      "text/plain": [
       "v130 == v127*v146"
      ]
     },
     "metadata": {},
     "output_type": "display_data"
    },
    {
     "data": {
      "text/html": [
       "<html><script type=\"math/tex; mode=display\">\\newcommand{\\Bold}[1]{\\mathbf{#1}}{F_{y^{3},\\left\\{y^{3}, y^{-4}, y^{4}, y^{-2}, y^{-1}, y^{-3}, y^{2}\\right\\}}(t)} = {F_{1,\\left\\{y^{3}, y^{-4}, y^{4}, y^{-2}, y^{-1}, y^{-3}, y^{2}\\right\\}}(t)} {F_{y^{3},\\left\\{y^{3}, y^{-4}, y^{4}, y^{-2}, y^{-1}, 1, y^{-3}, y^{2}\\right\\}}(t)}</script></html>"
      ],
      "text/plain": [
       "v131 == v127*v147"
      ]
     },
     "metadata": {},
     "output_type": "display_data"
    },
    {
     "data": {
      "text/html": [
       "<html><script type=\"math/tex; mode=display\">\\newcommand{\\Bold}[1]{\\mathbf{#1}}{F_{y^{4},\\left\\{y^{3}, y^{-4}, y^{4}, y^{2}, y, 1, y^{-3}, y^{-2}\\right\\}}(t)} = t {F_{y^{-4},\\left\\{y^{3}, y^{4}, y^{-4}, y, y^{2}, y^{-1}, y^{-3}, y^{-2}\\right\\}}(t)}</script></html>"
      ],
      "text/plain": [
       "v132 == t*v148"
      ]
     },
     "metadata": {},
     "output_type": "display_data"
    },
    {
     "data": {
      "text/html": [
       "<html><script type=\"math/tex; mode=display\">\\newcommand{\\Bold}[1]{\\mathbf{#1}}{F_{y^{3},\\left\\{y^{3}, y^{-4}, y^{4}, y^{2}, y, 1, y^{-3}, y^{-2}\\right\\}}(t)} = t {F_{y^{4},\\left\\{y^{3}, y^{4}, y^{-4}, y, y^{2}, y^{-1}, y^{-3}, y^{-2}\\right\\}}(t)}</script></html>"
      ],
      "text/plain": [
       "v133 == t*v149"
      ]
     },
     "metadata": {},
     "output_type": "display_data"
    },
    {
     "data": {
      "text/html": [
       "<html><script type=\"math/tex; mode=display\">\\newcommand{\\Bold}[1]{\\mathbf{#1}}{F_{y,\\left\\{y^{3}, y^{-4}, y^{4}, y^{2}, y, 1, y^{-3}, y^{-2}\\right\\}}(t)} = t {F_{y^{2},\\left\\{y^{3}, y^{4}, y^{-4}, y, y^{2}, y^{-1}, y^{-3}, y^{-2}\\right\\}}(t)} + t</script></html>"
      ],
      "text/plain": [
       "v134 == t*v150 + t"
      ]
     },
     "metadata": {},
     "output_type": "display_data"
    },
    {
     "data": {
      "text/html": [
       "<html><script type=\"math/tex; mode=display\">\\newcommand{\\Bold}[1]{\\mathbf{#1}}{F_{y^{-1},\\left\\{y^{3}, y^{4}, y^{-4}, y, y^{2}, y^{-1}, y^{-3}, y^{-2}\\right\\}}(t)} = {F_{1,\\left\\{y^{3}, y^{4}, y^{-4}, y, y^{2}, y^{-1}, y^{-3}, y^{-2}\\right\\}}(t)} {F_{y^{-1},\\left\\{y^{3}, y^{4}, y^{-4}, y, y^{2}, y^{-1}, 1, y^{-3}, y^{-2}\\right\\}}(t)}</script></html>"
      ],
      "text/plain": [
       "v135 == v151*v152"
      ]
     },
     "metadata": {},
     "output_type": "display_data"
    },
    {
     "data": {
      "text/html": [
       "<html><script type=\"math/tex; mode=display\">\\newcommand{\\Bold}[1]{\\mathbf{#1}}{F_{1,\\left\\{y^{3}, y^{-4}, y^{4}, y^{2}, y, 1, y^{-3}, y^{-2}\\right\\}}(t)} = m t {F_{x,\\left\\{x\\right\\}}(t)} + {\\left(n - 1\\right)} t {F_{y^{-1},\\left\\{y^{-1}\\right\\}}(t)} + {\\left(n - 1\\right)} t {F_{y,\\left\\{y\\right\\}}(t)} + t {F_{y,\\left\\{y^{3}, y^{-4}, y^{4}, y, y^{-2}, y^{-1}, y^{-3}, y^{2}\\right\\}}(t)} + 1</script></html>"
      ],
      "text/plain": [
       "v136 == m*t*v2 + (n - 1)*t*v3 + (n - 1)*t*v4 + t*v144 + 1"
      ]
     },
     "metadata": {},
     "output_type": "display_data"
    },
    {
     "data": {
      "text/html": [
       "<html><script type=\"math/tex; mode=display\">\\newcommand{\\Bold}[1]{\\mathbf{#1}}{F_{y^{2},\\left\\{y^{3}, y^{-4}, y^{4}, y^{2}, y, 1, y^{-3}, y^{-2}\\right\\}}(t)} = t {F_{y^{3},\\left\\{y^{3}, y^{4}, y^{-4}, y, y^{2}, y^{-1}, y^{-3}, y^{-2}\\right\\}}(t)}</script></html>"
      ],
      "text/plain": [
       "v137 == t*v153"
      ]
     },
     "metadata": {},
     "output_type": "display_data"
    },
    {
     "data": {
      "text/html": [
       "<html><script type=\"math/tex; mode=display\">\\newcommand{\\Bold}[1]{\\mathbf{#1}}{F_{y^{-4},\\left\\{y^{3}, y^{-4}, y^{4}, y^{2}, y, 1, y^{-3}, y^{-2}\\right\\}}(t)} = t {F_{y^{-3},\\left\\{y^{3}, y^{4}, y^{-4}, y, y^{2}, y^{-1}, y^{-3}, y^{-2}\\right\\}}(t)}</script></html>"
      ],
      "text/plain": [
       "v138 == t*v154"
      ]
     },
     "metadata": {},
     "output_type": "display_data"
    },
    {
     "data": {
      "text/html": [
       "<html><script type=\"math/tex; mode=display\">\\newcommand{\\Bold}[1]{\\mathbf{#1}}{F_{y^{-3},\\left\\{y^{3}, y^{-4}, y^{4}, y^{2}, y, 1, y^{-3}, y^{-2}\\right\\}}(t)} = t {F_{y^{-2},\\left\\{y^{3}, y^{4}, y^{-4}, y, y^{2}, y^{-1}, y^{-3}, y^{-2}\\right\\}}(t)}</script></html>"
      ],
      "text/plain": [
       "v139 == t*v155"
      ]
     },
     "metadata": {},
     "output_type": "display_data"
    },
    {
     "data": {
      "text/html": [
       "<html><script type=\"math/tex; mode=display\">\\newcommand{\\Bold}[1]{\\mathbf{#1}}{F_{y^{4},\\left\\{y^{3}, y^{-4}, y^{4}, y^{-2}, y^{-1}, 1, y^{-3}, y^{2}\\right\\}}(t)} = t {F_{y^{3},\\left\\{y^{3}, y^{4}, y^{-4}, y, y^{2}, y^{-1}, y^{-3}, y^{-2}\\right\\}}(t)}</script></html>"
      ],
      "text/plain": [
       "v140 == t*v153"
      ]
     },
     "metadata": {},
     "output_type": "display_data"
    },
    {
     "data": {
      "text/html": [
       "<html><script type=\"math/tex; mode=display\">\\newcommand{\\Bold}[1]{\\mathbf{#1}}{F_{y^{-4},\\left\\{y^{3}, y^{-4}, y^{4}, y^{-2}, y^{-1}, 1, y^{-3}, y^{2}\\right\\}}(t)} = t {F_{y^{4},\\left\\{y^{3}, y^{4}, y^{-4}, y, y^{2}, y^{-1}, y^{-3}, y^{-2}\\right\\}}(t)}</script></html>"
      ],
      "text/plain": [
       "v141 == t*v149"
      ]
     },
     "metadata": {},
     "output_type": "display_data"
    },
    {
     "data": {
      "text/html": [
       "<html><script type=\"math/tex; mode=display\">\\newcommand{\\Bold}[1]{\\mathbf{#1}}{F_{y^{-3},\\left\\{y^{3}, y^{-4}, y^{4}, y^{-2}, y^{-1}, 1, y^{-3}, y^{2}\\right\\}}(t)} = t {F_{y^{-4},\\left\\{y^{3}, y^{4}, y^{-4}, y, y^{2}, y^{-1}, y^{-3}, y^{-2}\\right\\}}(t)}</script></html>"
      ],
      "text/plain": [
       "v142 == t*v148"
      ]
     },
     "metadata": {},
     "output_type": "display_data"
    },
    {
     "data": {
      "text/html": [
       "<html><script type=\"math/tex; mode=display\">\\newcommand{\\Bold}[1]{\\mathbf{#1}}{F_{1,\\left\\{y^{3}, y^{-4}, y^{4}, y^{-2}, y^{-1}, 1, y^{-3}, y^{2}\\right\\}}(t)} = m t {F_{x,\\left\\{x\\right\\}}(t)} + {\\left(n - 1\\right)} t {F_{y^{-1},\\left\\{y^{-1}\\right\\}}(t)} + {\\left(n - 1\\right)} t {F_{y,\\left\\{y\\right\\}}(t)} + t {F_{y^{-1},\\left\\{y^{3}, y^{4}, y^{-4}, y, y^{2}, y^{-1}, y^{-3}, y^{-2}\\right\\}}(t)} + 1</script></html>"
      ],
      "text/plain": [
       "v143 == m*t*v2 + (n - 1)*t*v3 + (n - 1)*t*v4 + t*v135 + 1"
      ]
     },
     "metadata": {},
     "output_type": "display_data"
    },
    {
     "data": {
      "text/html": [
       "<html><script type=\"math/tex; mode=display\">\\newcommand{\\Bold}[1]{\\mathbf{#1}}{F_{y,\\left\\{y^{3}, y^{-4}, y^{4}, y, y^{-2}, y^{-1}, y^{-3}, y^{2}\\right\\}}(t)} = {F_{1,\\left\\{y^{3}, y^{4}, y^{-4}, y, y^{2}, y^{-1}, y^{-3}, y^{-2}\\right\\}}(t)} {F_{y,\\left\\{y^{3}, y^{-4}, y^{4}, y, y^{-2}, y^{-1}, 1, y^{-3}, y^{2}\\right\\}}(t)}</script></html>"
      ],
      "text/plain": [
       "v144 == v151*v156"
      ]
     },
     "metadata": {},
     "output_type": "display_data"
    },
    {
     "data": {
      "text/html": [
       "<html><script type=\"math/tex; mode=display\">\\newcommand{\\Bold}[1]{\\mathbf{#1}}{F_{y^{-1},\\left\\{y^{3}, y^{-4}, y^{4}, y^{-2}, y^{-1}, 1, y^{-3}, y^{2}\\right\\}}(t)} = t {F_{y^{-2},\\left\\{y^{3}, y^{4}, y^{-4}, y, y^{2}, y^{-1}, y^{-3}, y^{-2}\\right\\}}(t)} + t</script></html>"
      ],
      "text/plain": [
       "v145 == t*v155 + t"
      ]
     },
     "metadata": {},
     "output_type": "display_data"
    },
    {
     "data": {
      "text/html": [
       "<html><script type=\"math/tex; mode=display\">\\newcommand{\\Bold}[1]{\\mathbf{#1}}{F_{y^{-2},\\left\\{y^{3}, y^{-4}, y^{4}, y^{-2}, y^{-1}, 1, y^{-3}, y^{2}\\right\\}}(t)} = t {F_{y^{-3},\\left\\{y^{3}, y^{4}, y^{-4}, y, y^{2}, y^{-1}, y^{-3}, y^{-2}\\right\\}}(t)}</script></html>"
      ],
      "text/plain": [
       "v146 == t*v154"
      ]
     },
     "metadata": {},
     "output_type": "display_data"
    },
    {
     "data": {
      "text/html": [
       "<html><script type=\"math/tex; mode=display\">\\newcommand{\\Bold}[1]{\\mathbf{#1}}{F_{y^{3},\\left\\{y^{3}, y^{-4}, y^{4}, y^{-2}, y^{-1}, 1, y^{-3}, y^{2}\\right\\}}(t)} = t {F_{y^{2},\\left\\{y^{3}, y^{4}, y^{-4}, y, y^{2}, y^{-1}, y^{-3}, y^{-2}\\right\\}}(t)}</script></html>"
      ],
      "text/plain": [
       "v147 == t*v150"
      ]
     },
     "metadata": {},
     "output_type": "display_data"
    },
    {
     "data": {
      "text/html": [
       "<html><script type=\"math/tex; mode=display\">\\newcommand{\\Bold}[1]{\\mathbf{#1}}{F_{y^{-4},\\left\\{y^{3}, y^{4}, y^{-4}, y, y^{2}, y^{-1}, y^{-3}, y^{-2}\\right\\}}(t)} = {F_{1,\\left\\{y^{3}, y^{4}, y^{-4}, y, y^{2}, y^{-1}, y^{-3}, y^{-2}\\right\\}}(t)} {F_{y^{-4},\\left\\{y^{3}, y^{4}, y^{-4}, y, y^{2}, y^{-1}, 1, y^{-3}, y^{-2}\\right\\}}(t)}</script></html>"
      ],
      "text/plain": [
       "v148 == v151*v157"
      ]
     },
     "metadata": {},
     "output_type": "display_data"
    },
    {
     "data": {
      "text/html": [
       "<html><script type=\"math/tex; mode=display\">\\newcommand{\\Bold}[1]{\\mathbf{#1}}{F_{y^{4},\\left\\{y^{3}, y^{4}, y^{-4}, y, y^{2}, y^{-1}, y^{-3}, y^{-2}\\right\\}}(t)} = {F_{1,\\left\\{y^{3}, y^{4}, y^{-4}, y, y^{2}, y^{-1}, y^{-3}, y^{-2}\\right\\}}(t)} {F_{y^{4},\\left\\{y^{3}, y^{4}, y^{-4}, y, y^{2}, y^{-1}, 1, y^{-3}, y^{-2}\\right\\}}(t)}</script></html>"
      ],
      "text/plain": [
       "v149 == v151*v158"
      ]
     },
     "metadata": {},
     "output_type": "display_data"
    },
    {
     "data": {
      "text/html": [
       "<html><script type=\"math/tex; mode=display\">\\newcommand{\\Bold}[1]{\\mathbf{#1}}{F_{y^{2},\\left\\{y^{3}, y^{4}, y^{-4}, y, y^{2}, y^{-1}, y^{-3}, y^{-2}\\right\\}}(t)} = {F_{1,\\left\\{y^{3}, y^{4}, y^{-4}, y, y^{2}, y^{-1}, y^{-3}, y^{-2}\\right\\}}(t)} {F_{y^{2},\\left\\{y^{3}, y^{4}, y^{-4}, y, y^{2}, y^{-1}, 1, y^{-3}, y^{-2}\\right\\}}(t)}</script></html>"
      ],
      "text/plain": [
       "v150 == v151*v159"
      ]
     },
     "metadata": {},
     "output_type": "display_data"
    },
    {
     "data": {
      "text/html": [
       "<html><script type=\"math/tex; mode=display\">\\newcommand{\\Bold}[1]{\\mathbf{#1}}{F_{y^{-1},\\left\\{y^{3}, y^{4}, y^{-4}, y, y^{2}, y^{-1}, 1, y^{-3}, y^{-2}\\right\\}}(t)} = t</script></html>"
      ],
      "text/plain": [
       "v152 == t"
      ]
     },
     "metadata": {},
     "output_type": "display_data"
    },
    {
     "data": {
      "text/html": [
       "<html><script type=\"math/tex; mode=display\">\\newcommand{\\Bold}[1]{\\mathbf{#1}}{F_{1,\\left\\{y^{3}, y^{4}, y^{-4}, y, y^{2}, y^{-1}, y^{-3}, y^{-2}\\right\\}}(t)} = {F_{1,\\left\\{y^{3}, y^{4}, y^{-4}, y, y^{2}, y^{-1}, y^{-3}, y^{-2}\\right\\}}(t)} {\\left({F_{1,\\left\\{y^{3}, y^{4}, y^{-4}, y, y^{2}, y^{-1}, 1, y^{-3}, y^{-2}\\right\\}}(t)} - 1\\right)} + 1</script></html>"
      ],
      "text/plain": [
       "v151 == v151*(v160 - 1) + 1"
      ]
     },
     "metadata": {},
     "output_type": "display_data"
    },
    {
     "data": {
      "text/html": [
       "<html><script type=\"math/tex; mode=display\">\\newcommand{\\Bold}[1]{\\mathbf{#1}}{F_{y^{3},\\left\\{y^{3}, y^{4}, y^{-4}, y, y^{2}, y^{-1}, y^{-3}, y^{-2}\\right\\}}(t)} = {F_{1,\\left\\{y^{3}, y^{4}, y^{-4}, y, y^{2}, y^{-1}, y^{-3}, y^{-2}\\right\\}}(t)} {F_{y^{3},\\left\\{y^{3}, y^{4}, y^{-4}, y, y^{2}, y^{-1}, 1, y^{-3}, y^{-2}\\right\\}}(t)}</script></html>"
      ],
      "text/plain": [
       "v153 == v151*v161"
      ]
     },
     "metadata": {},
     "output_type": "display_data"
    },
    {
     "data": {
      "text/html": [
       "<html><script type=\"math/tex; mode=display\">\\newcommand{\\Bold}[1]{\\mathbf{#1}}{F_{y^{-3},\\left\\{y^{3}, y^{4}, y^{-4}, y, y^{2}, y^{-1}, y^{-3}, y^{-2}\\right\\}}(t)} = {F_{1,\\left\\{y^{3}, y^{4}, y^{-4}, y, y^{2}, y^{-1}, y^{-3}, y^{-2}\\right\\}}(t)} {F_{y^{-3},\\left\\{y^{3}, y^{4}, y^{-4}, y, y^{2}, y^{-1}, 1, y^{-3}, y^{-2}\\right\\}}(t)}</script></html>"
      ],
      "text/plain": [
       "v154 == v151*v162"
      ]
     },
     "metadata": {},
     "output_type": "display_data"
    },
    {
     "data": {
      "text/html": [
       "<html><script type=\"math/tex; mode=display\">\\newcommand{\\Bold}[1]{\\mathbf{#1}}{F_{y^{-2},\\left\\{y^{3}, y^{4}, y^{-4}, y, y^{2}, y^{-1}, y^{-3}, y^{-2}\\right\\}}(t)} = {F_{1,\\left\\{y^{3}, y^{4}, y^{-4}, y, y^{2}, y^{-1}, y^{-3}, y^{-2}\\right\\}}(t)} {F_{y^{-2},\\left\\{y^{3}, y^{4}, y^{-4}, y, y^{2}, y^{-1}, 1, y^{-3}, y^{-2}\\right\\}}(t)}</script></html>"
      ],
      "text/plain": [
       "v155 == v151*v163"
      ]
     },
     "metadata": {},
     "output_type": "display_data"
    },
    {
     "data": {
      "text/html": [
       "<html><script type=\"math/tex; mode=display\">\\newcommand{\\Bold}[1]{\\mathbf{#1}}{F_{y,\\left\\{y^{3}, y^{-4}, y^{4}, y, y^{-2}, y^{-1}, 1, y^{-3}, y^{2}\\right\\}}(t)} = t</script></html>"
      ],
      "text/plain": [
       "v156 == t"
      ]
     },
     "metadata": {},
     "output_type": "display_data"
    },
    {
     "data": {
      "text/html": [
       "<html><script type=\"math/tex; mode=display\">\\newcommand{\\Bold}[1]{\\mathbf{#1}}{F_{y^{-4},\\left\\{y^{3}, y^{4}, y^{-4}, y, y^{2}, y^{-1}, 1, y^{-3}, y^{-2}\\right\\}}(t)} = 0</script></html>"
      ],
      "text/plain": [
       "v157 == 0"
      ]
     },
     "metadata": {},
     "output_type": "display_data"
    },
    {
     "data": {
      "text/html": [
       "<html><script type=\"math/tex; mode=display\">\\newcommand{\\Bold}[1]{\\mathbf{#1}}{F_{y^{4},\\left\\{y^{3}, y^{4}, y^{-4}, y, y^{2}, y^{-1}, 1, y^{-3}, y^{-2}\\right\\}}(t)} = 0</script></html>"
      ],
      "text/plain": [
       "v158 == 0"
      ]
     },
     "metadata": {},
     "output_type": "display_data"
    },
    {
     "data": {
      "text/html": [
       "<html><script type=\"math/tex; mode=display\">\\newcommand{\\Bold}[1]{\\mathbf{#1}}{F_{y^{2},\\left\\{y^{3}, y^{4}, y^{-4}, y, y^{2}, y^{-1}, 1, y^{-3}, y^{-2}\\right\\}}(t)} = 0</script></html>"
      ],
      "text/plain": [
       "v159 == 0"
      ]
     },
     "metadata": {},
     "output_type": "display_data"
    },
    {
     "data": {
      "text/html": [
       "<html><script type=\"math/tex; mode=display\">\\newcommand{\\Bold}[1]{\\mathbf{#1}}{F_{1,\\left\\{y^{3}, y^{4}, y^{-4}, y, y^{2}, y^{-1}, 1, y^{-3}, y^{-2}\\right\\}}(t)} = m t {F_{x,\\left\\{x\\right\\}}(t)} + {\\left(n - 1\\right)} t {F_{y^{-1},\\left\\{y^{-1}\\right\\}}(t)} + {\\left(n - 1\\right)} t {F_{y,\\left\\{y\\right\\}}(t)} + 1</script></html>"
      ],
      "text/plain": [
       "v160 == m*t*v2 + (n - 1)*t*v3 + (n - 1)*t*v4 + 1"
      ]
     },
     "metadata": {},
     "output_type": "display_data"
    },
    {
     "data": {
      "text/html": [
       "<html><script type=\"math/tex; mode=display\">\\newcommand{\\Bold}[1]{\\mathbf{#1}}{F_{y^{3},\\left\\{y^{3}, y^{4}, y^{-4}, y, y^{2}, y^{-1}, 1, y^{-3}, y^{-2}\\right\\}}(t)} = 0</script></html>"
      ],
      "text/plain": [
       "v161 == 0"
      ]
     },
     "metadata": {},
     "output_type": "display_data"
    },
    {
     "data": {
      "text/html": [
       "<html><script type=\"math/tex; mode=display\">\\newcommand{\\Bold}[1]{\\mathbf{#1}}{F_{y^{-3},\\left\\{y^{3}, y^{4}, y^{-4}, y, y^{2}, y^{-1}, 1, y^{-3}, y^{-2}\\right\\}}(t)} = 0</script></html>"
      ],
      "text/plain": [
       "v162 == 0"
      ]
     },
     "metadata": {},
     "output_type": "display_data"
    },
    {
     "data": {
      "text/html": [
       "<html><script type=\"math/tex; mode=display\">\\newcommand{\\Bold}[1]{\\mathbf{#1}}{F_{y^{-2},\\left\\{y^{3}, y^{4}, y^{-4}, y, y^{2}, y^{-1}, 1, y^{-3}, y^{-2}\\right\\}}(t)} = 0</script></html>"
      ],
      "text/plain": [
       "v163 == 0"
      ]
     },
     "metadata": {},
     "output_type": "display_data"
    }
   ],
   "source": [
    "#Here are the equations\n",
    "for eqn in system:\n",
    "    print(latex(eqn),r'\\\\')\n",
    "print()\n",
    "print()\n",
    "for eqn in system:\n",
    "    #print(eqn)\n",
    "    pretty_print(eqn)"
   ]
  },
  {
   "cell_type": "code",
   "execution_count": 13,
   "metadata": {},
   "outputs": [],
   "source": [
    "# There are symmetries amongst the variables such that some variables will repersent the same series.\n",
    "# Amongst each such equivalence class, we only need to keep one representation.\n",
    "# To strip symmetry, we need union find.\n",
    "\n",
    "from collections import defaultdict as DD\n",
    "\n",
    "class UF(object):\n",
    "    \n",
    "    def __init__(self):\n",
    "        self.V = {}\n",
    "        self.parent = {}\n",
    "    \n",
    "    def add(self, node):\n",
    "        if node not in self.V:\n",
    "            self.V[node] = 1\n",
    "            self.parent[node]=node\n",
    "    \n",
    "    def find(self,u):\n",
    "        P = self.parent\n",
    "        while P[u]!=u:\n",
    "            P[u] = P[P[u]]\n",
    "            u = P[u]\n",
    "        return u\n",
    "    \n",
    "    def union(self,u,v):\n",
    "        u,v = map(self.find, [u,v])\n",
    "        u,v = sorted([u,v],key = lambda s: self.V[s])\n",
    "        self.parent[u]=v\n",
    "        self.V[v]+=self.V[u]\n",
    "    \n",
    "    def verts(self):\n",
    "        return iter(self.V)\n",
    "    \n",
    "    def comps(self):\n",
    "        ans = DD(set)\n",
    "        for v in self.V:\n",
    "            ans[self.find(v)].add(v)\n",
    "        return ans\n",
    "    \n"
   ]
  },
  {
   "cell_type": "code",
   "execution_count": 14,
   "metadata": {},
   "outputs": [],
   "source": [
    "# initialize the structure to track symmetry\n",
    "eqcl = UF()\n",
    "for pair in var_space:\n",
    "    eqcl.add(pair)\n",
    "\n",
    "#eqcl.comps()"
   ]
  },
  {
   "cell_type": "code",
   "execution_count": 15,
   "metadata": {},
   "outputs": [],
   "source": [
    "# since S is inverse closed, then (g,X) is essentially the same as (g^-1,X^-1)\n",
    "\n",
    "vis = set()\n",
    "for g,X in var_space:\n",
    "    if (g,X) in vis:\n",
    "        continue\n",
    "    ginv = rd(g^-1)\n",
    "    Xinv = Set([v^-1 for v in X])\n",
    "    Xinv = rd(Xinv)\n",
    "    pairinv = (ginv,Xinv)\n",
    "    if pairinv in var_space:\n",
    "        vis.add(pairinv)\n",
    "        eqcl.union((g,X),pairinv)\n",
    "#eqcl.comps()"
   ]
  },
  {
   "cell_type": "code",
   "execution_count": 16,
   "metadata": {},
   "outputs": [
    {
     "name": "stdout",
     "output_type": "stream",
     "text": [
      "defaultdict(<class 'set'>,\n",
      "            {(1, {y^3, y^4, y^-4, y, y^2, y^-1, 1, y^-3, y^-2}): {(1,\n",
      "                                                                   {y^3, y^4, y^-4, y, y^2, y^-1, 1, y^-3, y^-2})},\n",
      "             (1, {y^3, y^4, y^-4, y, y^2, y^-1, y^-3, y^-2}): {(1,\n",
      "                                                                {y^3, y^4, y^-4, y, y^2, y^-1, y^-3, y^-2})},\n",
      "             (1, {y^3, y^-4, y^4, y^-2, y^-1, 1, y^-3, y^2}): {(1,\n",
      "                                                                {y^3, y^-4, y^4, y^2, y, 1, y^-3, y^-2}),\n",
      "                                                               (1,\n",
      "                                                                {y^3, y^-4, y^4, y^-2, y^-1, 1, y^-3, y^2})},\n",
      "             (1, {y^3, y^-4, y^4, y^-2, y^-1, y^-3, y^2}): {(1,\n",
      "                                                             {y^3, y^-4, y^4, y, y^-2, y^-3, y^2}),\n",
      "                                                            (1,\n",
      "                                                             {y^3, y^-4, y^4, y^-2, y^-1, y^-3, y^2})},\n",
      "             (1, {y^3, 1, y^-3, y^-4, y^-2, y^-1, y^4}): {(1,\n",
      "                                                           {y^3, 1, y^-3, y^-4, y^-2, y^-1, y^4}),\n",
      "                                                          (1,\n",
      "                                                           {y^3, 1, y^-3, y^2, y^4, y, y^-4})},\n",
      "             (1, {y^3, y^-4, y^4, y^-1, y^-3, y^-2}): {(1,\n",
      "                                                        {y^3, y^-4, y^4, y^-1, y^-3, y^-2}),\n",
      "                                                       (1,\n",
      "                                                        {y^3, y^4, y^-4, y, y^-3, y^2})},\n",
      "             (1, {1, y^-3, y^-4, y^-2, y^-1, y^4}): {(1,\n",
      "                                                      {y^3, 1, y^2, y^4, y, y^-4}),\n",
      "                                                     (1,\n",
      "                                                      {1, y^-3, y^-4, y^-2, y^-1, y^4})},\n",
      "             (1, {y^-4, y^4, y^-1, y^-3, y^-2}): {(1,\n",
      "                                                   {y^-4, y^4, y^-1, y^-3, y^-2}),\n",
      "                                                  (1,\n",
      "                                                   {y^3, y^4, y^-4, y, y^2})},\n",
      "             (1, {1, y^-3, y^-2, y^-1, y^-4}): {(1, {y^3, 1, y^2, y, y^4}),\n",
      "                                                (1,\n",
      "                                                 {1, y^-3, y^-2, y^-1, y^-4})},\n",
      "             (1, {y^-2, y^-1, y^-3, y^-4}): {(1, {y, y^2, y^3, y^4}),\n",
      "                                             (1, {y^-2, y^-1, y^-3, y^-4})},\n",
      "             (1, {y^-1, 1, y^-3, y^-2}): {(1, {y^-1, 1, y^-3, y^-2}),\n",
      "                                          (1, {y, 1, y^3, y^2})},\n",
      "             (1, {y^-1, y^-3, y^-2}): {(1, {y, y^3, y^2}),\n",
      "                                       (1, {y^-1, y^-3, y^-2})},\n",
      "             (1, {1, y^-1, y^-2}): {(1, {1, y^-1, y^-2}), (1, {y, 1, y^2})},\n",
      "             (1, {y^-1, y^-2}): {(1, {y^-1, y^-2}), (1, {y, y^2})},\n",
      "             (1, {1, y^-1}): {(1, {y, 1}), (1, {1, y^-1})},\n",
      "             (1, {1, x}): {(1, {1, x})},\n",
      "             (1, {y^-1}): {(1, {y}), (1, {y^-1})},\n",
      "             (1, {x}): {(1, {x})},\n",
      "             (1, {1}): {(1, {1})},\n",
      "             (1, {}): {(1, {})},\n",
      "             (x, {1, x}): {(x, {1, x})},\n",
      "             (x, {x}): {(x, {x})},\n",
      "             (y, {y^3, y^-4, y^4, y, y^-2, y^-1, 1, y^-3, y^2}): {(y,\n",
      "                                                                   {y^3, y^-4, y^4, y, y^-2, y^-1, 1, y^-3, y^2}),\n",
      "                                                                  (y^-1,\n",
      "                                                                   {y^3, y^4, y^-4, y, y^2, y^-1, 1, y^-3, y^-2})},\n",
      "             (y, {y^3, y^-4, y^4, y, y^-2, y^-1, y^-3, y^2}): {(y,\n",
      "                                                                {y^3, y^-4, y^4, y, y^-2, y^-1, y^-3, y^2}),\n",
      "                                                               (y^-1,\n",
      "                                                                {y^3, y^4, y^-4, y, y^2, y^-1, y^-3, y^-2})},\n",
      "             (y, {y}): {(y, {y}), (y^-1, {y^-1})},\n",
      "             (y^2, {y^3, y^-4, y^4, y^-2, y^-1, 1, y^-3, y^2}): {(y^2,\n",
      "                                                                  {y^3, y^-4, y^4, y^-2, y^-1, 1, y^-3, y^2}),\n",
      "                                                                 (y^-2,\n",
      "                                                                  {y^3, y^-4, y^4, y^2, y, 1, y^-3, y^-2})},\n",
      "             (y^2, {y^3, y^-4, y^4, y^-2, y^-1, y^-3, y^2}): {(y^2,\n",
      "                                                               {y^3, y^-4, y^4, y^-2, y^-1, y^-3, y^2}),\n",
      "                                                              (y^-2,\n",
      "                                                               {y^3, y^-4, y^4, y, y^-2, y^-3, y^2})},\n",
      "             (y^3, {y^3, y^-4, y^4, y^-2, y^-1, 1, y^-3, y^2}): {(y^3,\n",
      "                                                                  {y^3, y^-4, y^4, y^-2, y^-1, 1, y^-3, y^2}),\n",
      "                                                                 (y^-3,\n",
      "                                                                  {y^3, y^-4, y^4, y^2, y, 1, y^-3, y^-2})},\n",
      "             (y^3, {y^3, y^-4, y^4, y^-2, y^-1, y^-3, y^2}): {(y^3,\n",
      "                                                               {y^3, y^-4, y^4, y^-2, y^-1, y^-3, y^2}),\n",
      "                                                              (y^-3,\n",
      "                                                               {y^3, y^-4, y^4, y, y^-2, y^-3, y^2})},\n",
      "             (y^3, {y^3, 1, y^-3, y^-4, y^-2, y^-1, y^4}): {(y^3,\n",
      "                                                             {y^3, 1, y^-3, y^-4, y^-2, y^-1, y^4}),\n",
      "                                                            (y^-3,\n",
      "                                                             {y^3, 1, y^-3, y^2, y^4, y, y^-4})},\n",
      "             (y^3, {y^3, y^-4, y^4, y^-1, y^-3, y^-2}): {(y^3,\n",
      "                                                          {y^3, y^-4, y^4, y^-1, y^-3, y^-2}),\n",
      "                                                         (y^-3,\n",
      "                                                          {y^3, y^4, y^-4, y, y^-3, y^2})},\n",
      "             (y^4, {y^3, y^4, y^-4, y, y^2, y^-1, 1, y^-3, y^-2}): {(y^4,\n",
      "                                                                     {y^3, y^4, y^-4, y, y^2, y^-1, 1, y^-3, y^-2}),\n",
      "                                                                    (y^-4,\n",
      "                                                                     {y^3, y^4, y^-4, y, y^2, y^-1, 1, y^-3, y^-2})},\n",
      "             (y^4, {y^3, y^4, y^-4, y, y^2, y^-1, y^-3, y^-2}): {(y^4,\n",
      "                                                                  {y^3, y^4, y^-4, y, y^2, y^-1, y^-3, y^-2}),\n",
      "                                                                 (y^-4,\n",
      "                                                                  {y^3, y^4, y^-4, y, y^2, y^-1, y^-3, y^-2})},\n",
      "             (y^4, {y^3, y^-4, y^4, y^-2, y^-1, 1, y^-3, y^2}): {(y^4,\n",
      "                                                                  {y^3, y^-4, y^4, y^-2, y^-1, 1, y^-3, y^2}),\n",
      "                                                                 (y^-4,\n",
      "                                                                  {y^3, y^-4, y^4, y^2, y, 1, y^-3, y^-2})},\n",
      "             (y^4, {y^3, y^-4, y^4, y^-2, y^-1, y^-3, y^2}): {(y^4,\n",
      "                                                               {y^3, y^-4, y^4, y^-2, y^-1, y^-3, y^2}),\n",
      "                                                              (y^-4,\n",
      "                                                               {y^3, y^-4, y^4, y, y^-2, y^-3, y^2})},\n",
      "             (y^4, {y^3, 1, y^-3, y^-4, y^-2, y^-1, y^4}): {(y^4,\n",
      "                                                             {y^3, 1, y^-3, y^-4, y^-2, y^-1, y^4}),\n",
      "                                                            (y^-4,\n",
      "                                                             {y^3, 1, y^-3, y^2, y^4, y, y^-4})},\n",
      "             (y^4, {y^3, y^-4, y^4, y^-1, y^-3, y^-2}): {(y^4,\n",
      "                                                          {y^3, y^-4, y^4, y^-1, y^-3, y^-2}),\n",
      "                                                         (y^-4,\n",
      "                                                          {y^3, y^4, y^-4, y, y^-3, y^2})},\n",
      "             (y^4, {1, y^-3, y^-4, y^-2, y^-1, y^4}): {(y^4,\n",
      "                                                        {1, y^-3, y^-4, y^-2, y^-1, y^4}),\n",
      "                                                       (y^-4,\n",
      "                                                        {y^3, 1, y^2, y^4, y, y^-4})},\n",
      "             (y^4, {y^-4, y^4, y^-1, y^-3, y^-2}): {(y^4,\n",
      "                                                     {y^-4, y^4, y^-1, y^-3, y^-2}),\n",
      "                                                    (y^-4,\n",
      "                                                     {y^3, y^4, y^-4, y, y^2})},\n",
      "             (y^-4, {y^3, y^-4, y^4, y^-2, y^-1, 1, y^-3, y^2}): {(y^4,\n",
      "                                                                   {y^3, y^-4, y^4, y^2, y, 1, y^-3, y^-2}),\n",
      "                                                                  (y^-4,\n",
      "                                                                   {y^3, y^-4, y^4, y^-2, y^-1, 1, y^-3, y^2})},\n",
      "             (y^-4, {y^3, y^-4, y^4, y^-2, y^-1, y^-3, y^2}): {(y^4,\n",
      "                                                                {y^3, y^-4, y^4, y, y^-2, y^-3, y^2}),\n",
      "                                                               (y^-4,\n",
      "                                                                {y^3, y^-4, y^4, y^-2, y^-1, y^-3, y^2})},\n",
      "             (y^-4, {y^3, 1, y^-3, y^-4, y^-2, y^-1, y^4}): {(y^4,\n",
      "                                                              {y^3, 1, y^-3, y^2, y^4, y, y^-4}),\n",
      "                                                             (y^-4,\n",
      "                                                              {y^3, 1, y^-3, y^-4, y^-2, y^-1, y^4})},\n",
      "             (y^-4, {y^3, y^-4, y^4, y^-1, y^-3, y^-2}): {(y^4,\n",
      "                                                           {y^3, y^4, y^-4, y, y^-3, y^2}),\n",
      "                                                          (y^-4,\n",
      "                                                           {y^3, y^-4, y^4, y^-1, y^-3, y^-2})},\n",
      "             (y^-4, {1, y^-3, y^-4, y^-2, y^-1, y^4}): {(y^4,\n",
      "                                                         {y^3, 1, y^2, y^4, y, y^-4}),\n",
      "                                                        (y^-4,\n",
      "                                                         {1, y^-3, y^-4, y^-2, y^-1, y^4})},\n",
      "             (y^-4, {y^-4, y^4, y^-1, y^-3, y^-2}): {(y^4,\n",
      "                                                      {y^3, y^4, y^-4, y, y^2}),\n",
      "                                                     (y^-4,\n",
      "                                                      {y^-4, y^4, y^-1, y^-3, y^-2})},\n",
      "             (y^-4, {1, y^-3, y^-2, y^-1, y^-4}): {(y^4, {y^3, 1, y^2, y, y^4}),\n",
      "                                                   (y^-4,\n",
      "                                                    {1, y^-3, y^-2, y^-1, y^-4})},\n",
      "             (y^-4, {y^-2, y^-1, y^-3, y^-4}): {(y^4, {y, y^2, y^3, y^4}),\n",
      "                                                (y^-4,\n",
      "                                                 {y^-2, y^-1, y^-3, y^-4})},\n",
      "             (y^-3, {y^3, y^4, y^-4, y, y^2, y^-1, 1, y^-3, y^-2}): {(y^3,\n",
      "                                                                      {y^3, y^4, y^-4, y, y^2, y^-1, 1, y^-3, y^-2}),\n",
      "                                                                     (y^-3,\n",
      "                                                                      {y^3, y^4, y^-4, y, y^2, y^-1, 1, y^-3, y^-2})},\n",
      "             (y^-3, {y^3, y^4, y^-4, y, y^2, y^-1, y^-3, y^-2}): {(y^3,\n",
      "                                                                   {y^3, y^4, y^-4, y, y^2, y^-1, y^-3, y^-2}),\n",
      "                                                                  (y^-3,\n",
      "                                                                   {y^3, y^4, y^-4, y, y^2, y^-1, y^-3, y^-2})},\n",
      "             (y^-3, {y^3, y^-4, y^4, y^-2, y^-1, 1, y^-3, y^2}): {(y^3,\n",
      "                                                                   {y^3, y^-4, y^4, y^2, y, 1, y^-3, y^-2}),\n",
      "                                                                  (y^-3,\n",
      "                                                                   {y^3, y^-4, y^4, y^-2, y^-1, 1, y^-3, y^2})},\n",
      "             (y^-3, {y^3, y^-4, y^4, y^-2, y^-1, y^-3, y^2}): {(y^3,\n",
      "                                                                {y^3, y^-4, y^4, y, y^-2, y^-3, y^2}),\n",
      "                                                               (y^-3,\n",
      "                                                                {y^3, y^-4, y^4, y^-2, y^-1, y^-3, y^2})},\n",
      "             (y^-3, {y^3, 1, y^-3, y^-4, y^-2, y^-1, y^4}): {(y^3,\n",
      "                                                              {y^3, 1, y^-3, y^2, y^4, y, y^-4}),\n",
      "                                                             (y^-3,\n",
      "                                                              {y^3, 1, y^-3, y^-4, y^-2, y^-1, y^4})},\n",
      "             (y^-3, {y^3, y^-4, y^4, y^-1, y^-3, y^-2}): {(y^3,\n",
      "                                                           {y^3, y^4, y^-4, y, y^-3, y^2}),\n",
      "                                                          (y^-3,\n",
      "                                                           {y^3, y^-4, y^4, y^-1, y^-3, y^-2})},\n",
      "             (y^-3, {1, y^-3, y^-4, y^-2, y^-1, y^4}): {(y^3,\n",
      "                                                         {y^3, 1, y^2, y^4, y, y^-4}),\n",
      "                                                        (y^-3,\n",
      "                                                         {1, y^-3, y^-4, y^-2, y^-1, y^4})},\n",
      "             (y^-3, {y^-4, y^4, y^-1, y^-3, y^-2}): {(y^3,\n",
      "                                                      {y^3, y^4, y^-4, y, y^2}),\n",
      "                                                     (y^-3,\n",
      "                                                      {y^-4, y^4, y^-1, y^-3, y^-2})},\n",
      "             (y^-3, {1, y^-3, y^-2, y^-1, y^-4}): {(y^3, {y^3, 1, y^2, y, y^4}),\n",
      "                                                   (y^-3,\n",
      "                                                    {1, y^-3, y^-2, y^-1, y^-4})},\n",
      "             (y^-3, {y^-2, y^-1, y^-3, y^-4}): {(y^3, {y, y^2, y^3, y^4}),\n",
      "                                                (y^-3,\n",
      "                                                 {y^-2, y^-1, y^-3, y^-4})},\n",
      "             (y^-3, {y^-1, 1, y^-3, y^-2}): {(y^3, {y, 1, y^3, y^2}),\n",
      "                                             (y^-3, {y^-1, 1, y^-3, y^-2})},\n",
      "             (y^-3, {y^-1, y^-3, y^-2}): {(y^3, {y, y^3, y^2}),\n",
      "                                          (y^-3, {y^-1, y^-3, y^-2})},\n",
      "             (y^-2, {y^3, y^4, y^-4, y, y^2, y^-1, 1, y^-3, y^-2}): {(y^2,\n",
      "                                                                      {y^3, y^4, y^-4, y, y^2, y^-1, 1, y^-3, y^-2}),\n",
      "                                                                     (y^-2,\n",
      "                                                                      {y^3, y^4, y^-4, y, y^2, y^-1, 1, y^-3, y^-2})},\n",
      "             (y^-2, {y^3, y^4, y^-4, y, y^2, y^-1, y^-3, y^-2}): {(y^2,\n",
      "                                                                   {y^3, y^4, y^-4, y, y^2, y^-1, y^-3, y^-2}),\n",
      "                                                                  (y^-2,\n",
      "                                                                   {y^3, y^4, y^-4, y, y^2, y^-1, y^-3, y^-2})},\n",
      "             (y^-2, {y^3, y^-4, y^4, y^-2, y^-1, 1, y^-3, y^2}): {(y^2,\n",
      "                                                                   {y^3, y^-4, y^4, y^2, y, 1, y^-3, y^-2}),\n",
      "                                                                  (y^-2,\n",
      "                                                                   {y^3, y^-4, y^4, y^-2, y^-1, 1, y^-3, y^2})},\n",
      "             (y^-2, {y^3, y^-4, y^4, y^-2, y^-1, y^-3, y^2}): {(y^2,\n",
      "                                                                {y^3, y^-4, y^4, y, y^-2, y^-3, y^2}),\n",
      "                                                               (y^-2,\n",
      "                                                                {y^3, y^-4, y^4, y^-2, y^-1, y^-3, y^2})},\n",
      "             (y^-2, {y^3, 1, y^-3, y^-4, y^-2, y^-1, y^4}): {(y^2,\n",
      "                                                              {y^3, 1, y^-3, y^2, y^4, y, y^-4}),\n",
      "                                                             (y^-2,\n",
      "                                                              {y^3, 1, y^-3, y^-4, y^-2, y^-1, y^4})},\n",
      "             (y^-2, {y^3, y^-4, y^4, y^-1, y^-3, y^-2}): {(y^2,\n",
      "                                                           {y^3, y^4, y^-4, y, y^-3, y^2}),\n",
      "                                                          (y^-2,\n",
      "                                                           {y^3, y^-4, y^4, y^-1, y^-3, y^-2})},\n",
      "             (y^-2, {1, y^-3, y^-4, y^-2, y^-1, y^4}): {(y^2,\n",
      "                                                         {y^3, 1, y^2, y^4, y, y^-4}),\n",
      "                                                        (y^-2,\n",
      "                                                         {1, y^-3, y^-4, y^-2, y^-1, y^4})},\n",
      "             (y^-2, {y^-4, y^4, y^-1, y^-3, y^-2}): {(y^2,\n",
      "                                                      {y^3, y^4, y^-4, y, y^2}),\n",
      "                                                     (y^-2,\n",
      "                                                      {y^-4, y^4, y^-1, y^-3, y^-2})},\n",
      "             (y^-2, {1, y^-3, y^-2, y^-1, y^-4}): {(y^2, {y^3, 1, y^2, y, y^4}),\n",
      "                                                   (y^-2,\n",
      "                                                    {1, y^-3, y^-2, y^-1, y^-4})},\n",
      "             (y^-2, {y^-2, y^-1, y^-3, y^-4}): {(y^2, {y, y^2, y^3, y^4}),\n",
      "                                                (y^-2,\n",
      "                                                 {y^-2, y^-1, y^-3, y^-4})},\n",
      "             (y^-2, {y^-1, 1, y^-3, y^-2}): {(y^2, {y, 1, y^3, y^2}),\n",
      "                                             (y^-2, {y^-1, 1, y^-3, y^-2})},\n",
      "             (y^-2, {y^-1, y^-3, y^-2}): {(y^2, {y, y^3, y^2}),\n",
      "                                          (y^-2, {y^-1, y^-3, y^-2})},\n",
      "             (y^-2, {1, y^-1, y^-2}): {(y^2, {y, 1, y^2}),\n",
      "                                       (y^-2, {1, y^-1, y^-2})},\n",
      "             (y^-2, {y^-1, y^-2}): {(y^2, {y, y^2}), (y^-2, {y^-1, y^-2})},\n",
      "             (y^-1, {y^3, y^-4, y^4, y^-2, y^-1, 1, y^-3, y^2}): {(y,\n",
      "                                                                   {y^3, y^-4, y^4, y^2, y, 1, y^-3, y^-2}),\n",
      "                                                                  (y^-1,\n",
      "                                                                   {y^3, y^-4, y^4, y^-2, y^-1, 1, y^-3, y^2})},\n",
      "             (y^-1, {y^3, y^-4, y^4, y^-2, y^-1, y^-3, y^2}): {(y,\n",
      "                                                                {y^3, y^-4, y^4, y, y^-2, y^-3, y^2}),\n",
      "                                                               (y^-1,\n",
      "                                                                {y^3, y^-4, y^4, y^-2, y^-1, y^-3, y^2})},\n",
      "             (y^-1, {y^3, 1, y^-3, y^-4, y^-2, y^-1, y^4}): {(y,\n",
      "                                                              {y^3, 1, y^-3, y^2, y^4, y, y^-4}),\n",
      "                                                             (y^-1,\n",
      "                                                              {y^3, 1, y^-3, y^-4, y^-2, y^-1, y^4})},\n",
      "             (y^-1, {y^3, y^-4, y^4, y^-1, y^-3, y^-2}): {(y,\n",
      "                                                           {y^3, y^4, y^-4, y, y^-3, y^2}),\n",
      "                                                          (y^-1,\n",
      "                                                           {y^3, y^-4, y^4, y^-1, y^-3, y^-2})},\n",
      "             (y^-1, {1, y^-3, y^-4, y^-2, y^-1, y^4}): {(y,\n",
      "                                                         {y^3, 1, y^2, y^4, y, y^-4}),\n",
      "                                                        (y^-1,\n",
      "                                                         {1, y^-3, y^-4, y^-2, y^-1, y^4})},\n",
      "             (y^-1, {y^-4, y^4, y^-1, y^-3, y^-2}): {(y,\n",
      "                                                      {y^3, y^4, y^-4, y, y^2}),\n",
      "                                                     (y^-1,\n",
      "                                                      {y^-4, y^4, y^-1, y^-3, y^-2})},\n",
      "             (y^-1, {1, y^-3, y^-2, y^-1, y^-4}): {(y, {y^3, 1, y^2, y, y^4}),\n",
      "                                                   (y^-1,\n",
      "                                                    {1, y^-3, y^-2, y^-1, y^-4})},\n",
      "             (y^-1, {y^-2, y^-1, y^-3, y^-4}): {(y, {y, y^2, y^3, y^4}),\n",
      "                                                (y^-1,\n",
      "                                                 {y^-2, y^-1, y^-3, y^-4})},\n",
      "             (y^-1, {y^-1, 1, y^-3, y^-2}): {(y, {y, 1, y^3, y^2}),\n",
      "                                             (y^-1, {y^-1, 1, y^-3, y^-2})},\n",
      "             (y^-1, {y^-1, y^-3, y^-2}): {(y, {y, y^3, y^2}),\n",
      "                                          (y^-1, {y^-1, y^-3, y^-2})},\n",
      "             (y^-1, {1, y^-1, y^-2}): {(y, {y, 1, y^2}),\n",
      "                                       (y^-1, {1, y^-1, y^-2})},\n",
      "             (y^-1, {y^-1, y^-2}): {(y^-1, {y^-1, y^-2}), (y, {y, y^2})},\n",
      "             (y^-1, {1, y^-1}): {(y^-1, {1, y^-1}), (y, {y, 1})}})\n"
     ]
    }
   ],
   "source": [
    "from pprint import pprint\n",
    "pprint(eqcl.comps())"
   ]
  },
  {
   "cell_type": "code",
   "execution_count": 17,
   "metadata": {},
   "outputs": [],
   "source": [
    "# now make subtitutions to the system based on the symetries\n",
    "reduced_system = []\n",
    "rev_var_space = {j:i for i,j in var_space.items()}\n",
    "for eq in system:\n",
    "    v = eq.lhs()\n",
    "    pv = rev_var_space[v]\n",
    "    if pv!=eqcl.find(pv):\n",
    "        continue\n",
    "    ag = eq.rhs().args()\n",
    "    ag = set(ag)-{t,m,n}\n",
    "    ag = list(ag)\n",
    "    agrepl = [rev_var_space[u] for u in ag]\n",
    "    agrepl = [eqcl.find(u) for u in agrepl]\n",
    "    agrepl = [var_space[u] for u in agrepl]\n",
    "    reduced_system.append(v==(eq.rhs().subs(dict(zip(ag,agrepl)) )).expand().simplify())"
   ]
  },
  {
   "cell_type": "code",
   "execution_count": 18,
   "metadata": {},
   "outputs": [
    {
     "data": {
      "text/html": [
       "<html><script type=\"math/tex; mode=display\">\\newcommand{\\Bold}[1]{\\mathbf{#1}}{F_{1,\\varnothing}(t)} = {F_{1,\\varnothing}(t)} {F_{1,\\left\\{1\\right\\}}(t)} - {F_{1,\\varnothing}(t)} + 1</script></html>"
      ],
      "text/plain": [
       "v0 == v0*v1 - v0 + 1"
      ]
     },
     "metadata": {},
     "output_type": "display_data"
    },
    {
     "data": {
      "text/html": [
       "<html><script type=\"math/tex; mode=display\">\\newcommand{\\Bold}[1]{\\mathbf{#1}}{F_{1,\\left\\{1\\right\\}}(t)} = m t {F_{x,\\left\\{x\\right\\}}(t)} + 2 \\, n t {F_{y,\\left\\{y\\right\\}}(t)} + 1</script></html>"
      ],
      "text/plain": [
       "v1 == m*t*v2 + 2*n*t*v4 + 1"
      ]
     },
     "metadata": {},
     "output_type": "display_data"
    },
    {
     "data": {
      "text/html": [
       "<html><script type=\"math/tex; mode=display\">\\newcommand{\\Bold}[1]{\\mathbf{#1}}{F_{x,\\left\\{x\\right\\}}(t)} = {F_{1,\\left\\{x\\right\\}}(t)} {F_{x,\\left\\{1, x\\right\\}}(t)}</script></html>"
      ],
      "text/plain": [
       "v2 == v5*v6"
      ]
     },
     "metadata": {},
     "output_type": "display_data"
    },
    {
     "data": {
      "text/html": [
       "<html><script type=\"math/tex; mode=display\">\\newcommand{\\Bold}[1]{\\mathbf{#1}}{F_{y,\\left\\{y\\right\\}}(t)} = {F_{y^{-1},\\left\\{1, y^{-1}\\right\\}}(t)} {F_{1,\\left\\{y^{-1}\\right\\}}(t)}</script></html>"
      ],
      "text/plain": [
       "v4 == v10*v9"
      ]
     },
     "metadata": {},
     "output_type": "display_data"
    },
    {
     "data": {
      "text/html": [
       "<html><script type=\"math/tex; mode=display\">\\newcommand{\\Bold}[1]{\\mathbf{#1}}{F_{1,\\left\\{x\\right\\}}(t)} = {F_{1,\\left\\{1, x\\right\\}}(t)} {F_{1,\\left\\{x\\right\\}}(t)} - {F_{1,\\left\\{x\\right\\}}(t)} + 1</script></html>"
      ],
      "text/plain": [
       "v5 == v11*v5 - v5 + 1"
      ]
     },
     "metadata": {},
     "output_type": "display_data"
    },
    {
     "data": {
      "text/html": [
       "<html><script type=\"math/tex; mode=display\">\\newcommand{\\Bold}[1]{\\mathbf{#1}}{F_{x,\\left\\{1, x\\right\\}}(t)} = t</script></html>"
      ],
      "text/plain": [
       "v6 == t"
      ]
     },
     "metadata": {},
     "output_type": "display_data"
    },
    {
     "data": {
      "text/html": [
       "<html><script type=\"math/tex; mode=display\">\\newcommand{\\Bold}[1]{\\mathbf{#1}}{F_{y^{-1},\\left\\{1, y^{-1}\\right\\}}(t)} = t {F_{y^{-2},\\left\\{y^{-1}, y^{-2}\\right\\}}(t)} + t</script></html>"
      ],
      "text/plain": [
       "v10 == t*v14 + t"
      ]
     },
     "metadata": {},
     "output_type": "display_data"
    },
    {
     "data": {
      "text/html": [
       "<html><script type=\"math/tex; mode=display\">\\newcommand{\\Bold}[1]{\\mathbf{#1}}{F_{1,\\left\\{y^{-1}\\right\\}}(t)} = {F_{1,\\left\\{1, y^{-1}\\right\\}}(t)} {F_{1,\\left\\{y^{-1}\\right\\}}(t)} - {F_{1,\\left\\{y^{-1}\\right\\}}(t)} + 1</script></html>"
      ],
      "text/plain": [
       "v9 == v15*v9 - v9 + 1"
      ]
     },
     "metadata": {},
     "output_type": "display_data"
    },
    {
     "data": {
      "text/html": [
       "<html><script type=\"math/tex; mode=display\">\\newcommand{\\Bold}[1]{\\mathbf{#1}}{F_{1,\\left\\{1, x\\right\\}}(t)} = m t {F_{x,\\left\\{x\\right\\}}(t)} + 2 \\, n t {F_{y,\\left\\{y\\right\\}}(t)} - t {F_{x,\\left\\{x\\right\\}}(t)} + 1</script></html>"
      ],
      "text/plain": [
       "v11 == m*t*v2 + 2*n*t*v4 - t*v2 + 1"
      ]
     },
     "metadata": {},
     "output_type": "display_data"
    },
    {
     "data": {
      "text/html": [
       "<html><script type=\"math/tex; mode=display\">\\newcommand{\\Bold}[1]{\\mathbf{#1}}{F_{y^{-2},\\left\\{y^{-1}, y^{-2}\\right\\}}(t)} = {F_{1,\\left\\{y^{-1}, y^{-2}\\right\\}}(t)} {F_{y^{-2},\\left\\{1, y^{-1}, y^{-2}\\right\\}}(t)}</script></html>"
      ],
      "text/plain": [
       "v14 == v19*v20"
      ]
     },
     "metadata": {},
     "output_type": "display_data"
    },
    {
     "data": {
      "text/html": [
       "<html><script type=\"math/tex; mode=display\">\\newcommand{\\Bold}[1]{\\mathbf{#1}}{F_{1,\\left\\{1, y^{-1}\\right\\}}(t)} = m t {F_{x,\\left\\{x\\right\\}}(t)} + 2 \\, n t {F_{y,\\left\\{y\\right\\}}(t)} + t {F_{y^{-1},\\left\\{y^{-1}, y^{-2}\\right\\}}(t)} - 2 \\, t {F_{y,\\left\\{y\\right\\}}(t)} + 1</script></html>"
      ],
      "text/plain": [
       "v15 == m*t*v2 + 2*n*t*v4 + t*v21 - 2*t*v4 + 1"
      ]
     },
     "metadata": {},
     "output_type": "display_data"
    },
    {
     "data": {
      "text/html": [
       "<html><script type=\"math/tex; mode=display\">\\newcommand{\\Bold}[1]{\\mathbf{#1}}{F_{1,\\left\\{y^{-1}, y^{-2}\\right\\}}(t)} = {F_{1,\\left\\{y^{-1}, y^{-2}\\right\\}}(t)} {F_{1,\\left\\{1, y^{-1}, y^{-2}\\right\\}}(t)} - {F_{1,\\left\\{y^{-1}, y^{-2}\\right\\}}(t)} + 1</script></html>"
      ],
      "text/plain": [
       "v19 == v19*v25 - v19 + 1"
      ]
     },
     "metadata": {},
     "output_type": "display_data"
    },
    {
     "data": {
      "text/html": [
       "<html><script type=\"math/tex; mode=display\">\\newcommand{\\Bold}[1]{\\mathbf{#1}}{F_{y^{-2},\\left\\{1, y^{-1}, y^{-2}\\right\\}}(t)} = t {F_{y^{-3},\\left\\{y^{-1}, y^{-3}, y^{-2}\\right\\}}(t)}</script></html>"
      ],
      "text/plain": [
       "v20 == t*v26"
      ]
     },
     "metadata": {},
     "output_type": "display_data"
    },
    {
     "data": {
      "text/html": [
       "<html><script type=\"math/tex; mode=display\">\\newcommand{\\Bold}[1]{\\mathbf{#1}}{F_{y^{-1},\\left\\{y^{-1}, y^{-2}\\right\\}}(t)} = {F_{1,\\left\\{y^{-1}, y^{-2}\\right\\}}(t)} {F_{y^{-1},\\left\\{1, y^{-1}, y^{-2}\\right\\}}(t)}</script></html>"
      ],
      "text/plain": [
       "v21 == v19*v27"
      ]
     },
     "metadata": {},
     "output_type": "display_data"
    },
    {
     "data": {
      "text/html": [
       "<html><script type=\"math/tex; mode=display\">\\newcommand{\\Bold}[1]{\\mathbf{#1}}{F_{1,\\left\\{1, y^{-1}, y^{-2}\\right\\}}(t)} = m t {F_{x,\\left\\{x\\right\\}}(t)} + 2 \\, n t {F_{y,\\left\\{y\\right\\}}(t)} + t {F_{y^{-1},\\left\\{y^{-1}, y^{-3}, y^{-2}\\right\\}}(t)} - 2 \\, t {F_{y,\\left\\{y\\right\\}}(t)} + 1</script></html>"
      ],
      "text/plain": [
       "v25 == m*t*v2 + 2*n*t*v4 + t*v32 - 2*t*v4 + 1"
      ]
     },
     "metadata": {},
     "output_type": "display_data"
    },
    {
     "data": {
      "text/html": [
       "<html><script type=\"math/tex; mode=display\">\\newcommand{\\Bold}[1]{\\mathbf{#1}}{F_{y^{-3},\\left\\{y^{-1}, y^{-3}, y^{-2}\\right\\}}(t)} = {F_{1,\\left\\{y^{-1}, y^{-3}, y^{-2}\\right\\}}(t)} {F_{y^{-3},\\left\\{y^{-1}, 1, y^{-3}, y^{-2}\\right\\}}(t)}</script></html>"
      ],
      "text/plain": [
       "v26 == v33*v34"
      ]
     },
     "metadata": {},
     "output_type": "display_data"
    },
    {
     "data": {
      "text/html": [
       "<html><script type=\"math/tex; mode=display\">\\newcommand{\\Bold}[1]{\\mathbf{#1}}{F_{y^{-1},\\left\\{1, y^{-1}, y^{-2}\\right\\}}(t)} = t {F_{y^{-2},\\left\\{y^{-1}, y^{-3}, y^{-2}\\right\\}}(t)} + t</script></html>"
      ],
      "text/plain": [
       "v27 == t*v35 + t"
      ]
     },
     "metadata": {},
     "output_type": "display_data"
    },
    {
     "data": {
      "text/html": [
       "<html><script type=\"math/tex; mode=display\">\\newcommand{\\Bold}[1]{\\mathbf{#1}}{F_{y^{-1},\\left\\{y^{-1}, y^{-3}, y^{-2}\\right\\}}(t)} = {F_{1,\\left\\{y^{-1}, y^{-3}, y^{-2}\\right\\}}(t)} {F_{y^{-1},\\left\\{y^{-1}, 1, y^{-3}, y^{-2}\\right\\}}(t)}</script></html>"
      ],
      "text/plain": [
       "v32 == v33*v40"
      ]
     },
     "metadata": {},
     "output_type": "display_data"
    },
    {
     "data": {
      "text/html": [
       "<html><script type=\"math/tex; mode=display\">\\newcommand{\\Bold}[1]{\\mathbf{#1}}{F_{1,\\left\\{y^{-1}, y^{-3}, y^{-2}\\right\\}}(t)} = {F_{1,\\left\\{y^{-1}, y^{-3}, y^{-2}\\right\\}}(t)} {F_{1,\\left\\{y^{-1}, 1, y^{-3}, y^{-2}\\right\\}}(t)} - {F_{1,\\left\\{y^{-1}, y^{-3}, y^{-2}\\right\\}}(t)} + 1</script></html>"
      ],
      "text/plain": [
       "v33 == v33*v41 - v33 + 1"
      ]
     },
     "metadata": {},
     "output_type": "display_data"
    },
    {
     "data": {
      "text/html": [
       "<html><script type=\"math/tex; mode=display\">\\newcommand{\\Bold}[1]{\\mathbf{#1}}{F_{y^{-3},\\left\\{y^{-1}, 1, y^{-3}, y^{-2}\\right\\}}(t)} = t {F_{y^{-4},\\left\\{y^{-2}, y^{-1}, y^{-3}, y^{-4}\\right\\}}(t)}</script></html>"
      ],
      "text/plain": [
       "v34 == t*v42"
      ]
     },
     "metadata": {},
     "output_type": "display_data"
    },
    {
     "data": {
      "text/html": [
       "<html><script type=\"math/tex; mode=display\">\\newcommand{\\Bold}[1]{\\mathbf{#1}}{F_{y^{-2},\\left\\{y^{-1}, y^{-3}, y^{-2}\\right\\}}(t)} = {F_{1,\\left\\{y^{-1}, y^{-3}, y^{-2}\\right\\}}(t)} {F_{y^{-2},\\left\\{y^{-1}, 1, y^{-3}, y^{-2}\\right\\}}(t)}</script></html>"
      ],
      "text/plain": [
       "v35 == v33*v43"
      ]
     },
     "metadata": {},
     "output_type": "display_data"
    },
    {
     "data": {
      "text/html": [
       "<html><script type=\"math/tex; mode=display\">\\newcommand{\\Bold}[1]{\\mathbf{#1}}{F_{y^{-1},\\left\\{y^{-1}, 1, y^{-3}, y^{-2}\\right\\}}(t)} = t {F_{y^{-2},\\left\\{y^{-2}, y^{-1}, y^{-3}, y^{-4}\\right\\}}(t)} + t</script></html>"
      ],
      "text/plain": [
       "v40 == t*v49 + t"
      ]
     },
     "metadata": {},
     "output_type": "display_data"
    },
    {
     "data": {
      "text/html": [
       "<html><script type=\"math/tex; mode=display\">\\newcommand{\\Bold}[1]{\\mathbf{#1}}{F_{1,\\left\\{y^{-1}, 1, y^{-3}, y^{-2}\\right\\}}(t)} = m t {F_{x,\\left\\{x\\right\\}}(t)} + 2 \\, n t {F_{y,\\left\\{y\\right\\}}(t)} - 2 \\, t {F_{y,\\left\\{y\\right\\}}(t)} + t {F_{y^{-1},\\left\\{y^{-2}, y^{-1}, y^{-3}, y^{-4}\\right\\}}(t)} + 1</script></html>"
      ],
      "text/plain": [
       "v41 == m*t*v2 + 2*n*t*v4 - 2*t*v4 + t*v50 + 1"
      ]
     },
     "metadata": {},
     "output_type": "display_data"
    },
    {
     "data": {
      "text/html": [
       "<html><script type=\"math/tex; mode=display\">\\newcommand{\\Bold}[1]{\\mathbf{#1}}{F_{y^{-4},\\left\\{y^{-2}, y^{-1}, y^{-3}, y^{-4}\\right\\}}(t)} = {F_{1,\\left\\{y^{-2}, y^{-1}, y^{-3}, y^{-4}\\right\\}}(t)} {F_{y^{-4},\\left\\{1, y^{-3}, y^{-2}, y^{-1}, y^{-4}\\right\\}}(t)}</script></html>"
      ],
      "text/plain": [
       "v42 == v51*v52"
      ]
     },
     "metadata": {},
     "output_type": "display_data"
    },
    {
     "data": {
      "text/html": [
       "<html><script type=\"math/tex; mode=display\">\\newcommand{\\Bold}[1]{\\mathbf{#1}}{F_{y^{-2},\\left\\{y^{-1}, 1, y^{-3}, y^{-2}\\right\\}}(t)} = t {F_{y^{-3},\\left\\{y^{-2}, y^{-1}, y^{-3}, y^{-4}\\right\\}}(t)}</script></html>"
      ],
      "text/plain": [
       "v43 == t*v53"
      ]
     },
     "metadata": {},
     "output_type": "display_data"
    },
    {
     "data": {
      "text/html": [
       "<html><script type=\"math/tex; mode=display\">\\newcommand{\\Bold}[1]{\\mathbf{#1}}{F_{y^{-2},\\left\\{y^{-2}, y^{-1}, y^{-3}, y^{-4}\\right\\}}(t)} = {F_{1,\\left\\{y^{-2}, y^{-1}, y^{-3}, y^{-4}\\right\\}}(t)} {F_{y^{-2},\\left\\{1, y^{-3}, y^{-2}, y^{-1}, y^{-4}\\right\\}}(t)}</script></html>"
      ],
      "text/plain": [
       "v49 == v51*v59"
      ]
     },
     "metadata": {},
     "output_type": "display_data"
    },
    {
     "data": {
      "text/html": [
       "<html><script type=\"math/tex; mode=display\">\\newcommand{\\Bold}[1]{\\mathbf{#1}}{F_{y^{-1},\\left\\{y^{-2}, y^{-1}, y^{-3}, y^{-4}\\right\\}}(t)} = {F_{1,\\left\\{y^{-2}, y^{-1}, y^{-3}, y^{-4}\\right\\}}(t)} {F_{y^{-1},\\left\\{1, y^{-3}, y^{-2}, y^{-1}, y^{-4}\\right\\}}(t)}</script></html>"
      ],
      "text/plain": [
       "v50 == v51*v60"
      ]
     },
     "metadata": {},
     "output_type": "display_data"
    },
    {
     "data": {
      "text/html": [
       "<html><script type=\"math/tex; mode=display\">\\newcommand{\\Bold}[1]{\\mathbf{#1}}{F_{1,\\left\\{y^{-2}, y^{-1}, y^{-3}, y^{-4}\\right\\}}(t)} = {F_{1,\\left\\{y^{-2}, y^{-1}, y^{-3}, y^{-4}\\right\\}}(t)} {F_{1,\\left\\{1, y^{-3}, y^{-2}, y^{-1}, y^{-4}\\right\\}}(t)} - {F_{1,\\left\\{y^{-2}, y^{-1}, y^{-3}, y^{-4}\\right\\}}(t)} + 1</script></html>"
      ],
      "text/plain": [
       "v51 == v51*v61 - v51 + 1"
      ]
     },
     "metadata": {},
     "output_type": "display_data"
    },
    {
     "data": {
      "text/html": [
       "<html><script type=\"math/tex; mode=display\">\\newcommand{\\Bold}[1]{\\mathbf{#1}}{F_{y^{-4},\\left\\{1, y^{-3}, y^{-2}, y^{-1}, y^{-4}\\right\\}}(t)} = t {F_{y^{4},\\left\\{y^{-4}, y^{4}, y^{-1}, y^{-3}, y^{-2}\\right\\}}(t)}</script></html>"
      ],
      "text/plain": [
       "v52 == t*v62"
      ]
     },
     "metadata": {},
     "output_type": "display_data"
    },
    {
     "data": {
      "text/html": [
       "<html><script type=\"math/tex; mode=display\">\\newcommand{\\Bold}[1]{\\mathbf{#1}}{F_{y^{-3},\\left\\{y^{-2}, y^{-1}, y^{-3}, y^{-4}\\right\\}}(t)} = {F_{1,\\left\\{y^{-2}, y^{-1}, y^{-3}, y^{-4}\\right\\}}(t)} {F_{y^{-3},\\left\\{1, y^{-3}, y^{-2}, y^{-1}, y^{-4}\\right\\}}(t)}</script></html>"
      ],
      "text/plain": [
       "v53 == v51*v63"
      ]
     },
     "metadata": {},
     "output_type": "display_data"
    },
    {
     "data": {
      "text/html": [
       "<html><script type=\"math/tex; mode=display\">\\newcommand{\\Bold}[1]{\\mathbf{#1}}{F_{y^{-2},\\left\\{1, y^{-3}, y^{-2}, y^{-1}, y^{-4}\\right\\}}(t)} = t {F_{y^{-3},\\left\\{y^{-4}, y^{4}, y^{-1}, y^{-3}, y^{-2}\\right\\}}(t)}</script></html>"
      ],
      "text/plain": [
       "v59 == t*v70"
      ]
     },
     "metadata": {},
     "output_type": "display_data"
    },
    {
     "data": {
      "text/html": [
       "<html><script type=\"math/tex; mode=display\">\\newcommand{\\Bold}[1]{\\mathbf{#1}}{F_{y^{-1},\\left\\{1, y^{-3}, y^{-2}, y^{-1}, y^{-4}\\right\\}}(t)} = t {F_{y^{-2},\\left\\{y^{-4}, y^{4}, y^{-1}, y^{-3}, y^{-2}\\right\\}}(t)} + t</script></html>"
      ],
      "text/plain": [
       "v60 == t*v71 + t"
      ]
     },
     "metadata": {},
     "output_type": "display_data"
    },
    {
     "data": {
      "text/html": [
       "<html><script type=\"math/tex; mode=display\">\\newcommand{\\Bold}[1]{\\mathbf{#1}}{F_{1,\\left\\{1, y^{-3}, y^{-2}, y^{-1}, y^{-4}\\right\\}}(t)} = m t {F_{x,\\left\\{x\\right\\}}(t)} + 2 \\, n t {F_{y,\\left\\{y\\right\\}}(t)} - 2 \\, t {F_{y,\\left\\{y\\right\\}}(t)} + t {F_{y^{-1},\\left\\{y^{-4}, y^{4}, y^{-1}, y^{-3}, y^{-2}\\right\\}}(t)} + 1</script></html>"
      ],
      "text/plain": [
       "v61 == m*t*v2 + 2*n*t*v4 - 2*t*v4 + t*v72 + 1"
      ]
     },
     "metadata": {},
     "output_type": "display_data"
    },
    {
     "data": {
      "text/html": [
       "<html><script type=\"math/tex; mode=display\">\\newcommand{\\Bold}[1]{\\mathbf{#1}}{F_{y^{4},\\left\\{y^{-4}, y^{4}, y^{-1}, y^{-3}, y^{-2}\\right\\}}(t)} = {F_{1,\\left\\{y^{-4}, y^{4}, y^{-1}, y^{-3}, y^{-2}\\right\\}}(t)} {F_{y^{4},\\left\\{1, y^{-3}, y^{-4}, y^{-2}, y^{-1}, y^{4}\\right\\}}(t)}</script></html>"
      ],
      "text/plain": [
       "v62 == v73*v74"
      ]
     },
     "metadata": {},
     "output_type": "display_data"
    },
    {
     "data": {
      "text/html": [
       "<html><script type=\"math/tex; mode=display\">\\newcommand{\\Bold}[1]{\\mathbf{#1}}{F_{y^{-3},\\left\\{1, y^{-3}, y^{-2}, y^{-1}, y^{-4}\\right\\}}(t)} = t {F_{y^{-4},\\left\\{y^{-4}, y^{4}, y^{-1}, y^{-3}, y^{-2}\\right\\}}(t)}</script></html>"
      ],
      "text/plain": [
       "v63 == t*v75"
      ]
     },
     "metadata": {},
     "output_type": "display_data"
    },
    {
     "data": {
      "text/html": [
       "<html><script type=\"math/tex; mode=display\">\\newcommand{\\Bold}[1]{\\mathbf{#1}}{F_{y^{-3},\\left\\{y^{-4}, y^{4}, y^{-1}, y^{-3}, y^{-2}\\right\\}}(t)} = {F_{1,\\left\\{y^{-4}, y^{4}, y^{-1}, y^{-3}, y^{-2}\\right\\}}(t)} {F_{y^{-3},\\left\\{1, y^{-3}, y^{-4}, y^{-2}, y^{-1}, y^{4}\\right\\}}(t)}</script></html>"
      ],
      "text/plain": [
       "v70 == v73*v82"
      ]
     },
     "metadata": {},
     "output_type": "display_data"
    },
    {
     "data": {
      "text/html": [
       "<html><script type=\"math/tex; mode=display\">\\newcommand{\\Bold}[1]{\\mathbf{#1}}{F_{y^{-2},\\left\\{y^{-4}, y^{4}, y^{-1}, y^{-3}, y^{-2}\\right\\}}(t)} = {F_{1,\\left\\{y^{-4}, y^{4}, y^{-1}, y^{-3}, y^{-2}\\right\\}}(t)} {F_{y^{-2},\\left\\{1, y^{-3}, y^{-4}, y^{-2}, y^{-1}, y^{4}\\right\\}}(t)}</script></html>"
      ],
      "text/plain": [
       "v71 == v73*v83"
      ]
     },
     "metadata": {},
     "output_type": "display_data"
    },
    {
     "data": {
      "text/html": [
       "<html><script type=\"math/tex; mode=display\">\\newcommand{\\Bold}[1]{\\mathbf{#1}}{F_{y^{-1},\\left\\{y^{-4}, y^{4}, y^{-1}, y^{-3}, y^{-2}\\right\\}}(t)} = {F_{1,\\left\\{y^{-4}, y^{4}, y^{-1}, y^{-3}, y^{-2}\\right\\}}(t)} {F_{y^{-1},\\left\\{1, y^{-3}, y^{-4}, y^{-2}, y^{-1}, y^{4}\\right\\}}(t)}</script></html>"
      ],
      "text/plain": [
       "v72 == v73*v84"
      ]
     },
     "metadata": {},
     "output_type": "display_data"
    },
    {
     "data": {
      "text/html": [
       "<html><script type=\"math/tex; mode=display\">\\newcommand{\\Bold}[1]{\\mathbf{#1}}{F_{y^{4},\\left\\{1, y^{-3}, y^{-4}, y^{-2}, y^{-1}, y^{4}\\right\\}}(t)} = t {F_{y^{3},\\left\\{y^{3}, y^{-4}, y^{4}, y^{-1}, y^{-3}, y^{-2}\\right\\}}(t)}</script></html>"
      ],
      "text/plain": [
       "v74 == t*v85"
      ]
     },
     "metadata": {},
     "output_type": "display_data"
    },
    {
     "data": {
      "text/html": [
       "<html><script type=\"math/tex; mode=display\">\\newcommand{\\Bold}[1]{\\mathbf{#1}}{F_{1,\\left\\{y^{-4}, y^{4}, y^{-1}, y^{-3}, y^{-2}\\right\\}}(t)} = {F_{1,\\left\\{y^{-4}, y^{4}, y^{-1}, y^{-3}, y^{-2}\\right\\}}(t)} {F_{1,\\left\\{1, y^{-3}, y^{-4}, y^{-2}, y^{-1}, y^{4}\\right\\}}(t)} - {F_{1,\\left\\{y^{-4}, y^{4}, y^{-1}, y^{-3}, y^{-2}\\right\\}}(t)} + 1</script></html>"
      ],
      "text/plain": [
       "v73 == v73*v86 - v73 + 1"
      ]
     },
     "metadata": {},
     "output_type": "display_data"
    },
    {
     "data": {
      "text/html": [
       "<html><script type=\"math/tex; mode=display\">\\newcommand{\\Bold}[1]{\\mathbf{#1}}{F_{y^{-4},\\left\\{y^{-4}, y^{4}, y^{-1}, y^{-3}, y^{-2}\\right\\}}(t)} = {F_{1,\\left\\{y^{-4}, y^{4}, y^{-1}, y^{-3}, y^{-2}\\right\\}}(t)} {F_{y^{-4},\\left\\{1, y^{-3}, y^{-4}, y^{-2}, y^{-1}, y^{4}\\right\\}}(t)}</script></html>"
      ],
      "text/plain": [
       "v75 == v73*v87"
      ]
     },
     "metadata": {},
     "output_type": "display_data"
    },
    {
     "data": {
      "text/html": [
       "<html><script type=\"math/tex; mode=display\">\\newcommand{\\Bold}[1]{\\mathbf{#1}}{F_{y^{-3},\\left\\{1, y^{-3}, y^{-4}, y^{-2}, y^{-1}, y^{4}\\right\\}}(t)} = t {F_{y^{-4},\\left\\{y^{3}, y^{-4}, y^{4}, y^{-1}, y^{-3}, y^{-2}\\right\\}}(t)}</script></html>"
      ],
      "text/plain": [
       "v82 == t*v95"
      ]
     },
     "metadata": {},
     "output_type": "display_data"
    },
    {
     "data": {
      "text/html": [
       "<html><script type=\"math/tex; mode=display\">\\newcommand{\\Bold}[1]{\\mathbf{#1}}{F_{y^{-2},\\left\\{1, y^{-3}, y^{-4}, y^{-2}, y^{-1}, y^{4}\\right\\}}(t)} = t {F_{y^{-3},\\left\\{y^{3}, y^{-4}, y^{4}, y^{-1}, y^{-3}, y^{-2}\\right\\}}(t)}</script></html>"
      ],
      "text/plain": [
       "v83 == t*v96"
      ]
     },
     "metadata": {},
     "output_type": "display_data"
    },
    {
     "data": {
      "text/html": [
       "<html><script type=\"math/tex; mode=display\">\\newcommand{\\Bold}[1]{\\mathbf{#1}}{F_{y^{-1},\\left\\{1, y^{-3}, y^{-4}, y^{-2}, y^{-1}, y^{4}\\right\\}}(t)} = t {F_{y^{-2},\\left\\{y^{3}, y^{-4}, y^{4}, y^{-1}, y^{-3}, y^{-2}\\right\\}}(t)} + t</script></html>"
      ],
      "text/plain": [
       "v84 == t*v97 + t"
      ]
     },
     "metadata": {},
     "output_type": "display_data"
    },
    {
     "data": {
      "text/html": [
       "<html><script type=\"math/tex; mode=display\">\\newcommand{\\Bold}[1]{\\mathbf{#1}}{F_{y^{3},\\left\\{y^{3}, y^{-4}, y^{4}, y^{-1}, y^{-3}, y^{-2}\\right\\}}(t)} = {F_{1,\\left\\{y^{3}, y^{-4}, y^{4}, y^{-1}, y^{-3}, y^{-2}\\right\\}}(t)} {F_{y^{3},\\left\\{y^{3}, 1, y^{-3}, y^{-4}, y^{-2}, y^{-1}, y^{4}\\right\\}}(t)}</script></html>"
      ],
      "text/plain": [
       "v85 == v98*v99"
      ]
     },
     "metadata": {},
     "output_type": "display_data"
    },
    {
     "data": {
      "text/html": [
       "<html><script type=\"math/tex; mode=display\">\\newcommand{\\Bold}[1]{\\mathbf{#1}}{F_{1,\\left\\{1, y^{-3}, y^{-4}, y^{-2}, y^{-1}, y^{4}\\right\\}}(t)} = m t {F_{x,\\left\\{x\\right\\}}(t)} + 2 \\, n t {F_{y,\\left\\{y\\right\\}}(t)} + t {F_{y^{-1},\\left\\{y^{3}, y^{-4}, y^{4}, y^{-1}, y^{-3}, y^{-2}\\right\\}}(t)} - 2 \\, t {F_{y,\\left\\{y\\right\\}}(t)} + 1</script></html>"
      ],
      "text/plain": [
       "v86 == m*t*v2 + 2*n*t*v4 + t*v100 - 2*t*v4 + 1"
      ]
     },
     "metadata": {},
     "output_type": "display_data"
    },
    {
     "data": {
      "text/html": [
       "<html><script type=\"math/tex; mode=display\">\\newcommand{\\Bold}[1]{\\mathbf{#1}}{F_{y^{-4},\\left\\{1, y^{-3}, y^{-4}, y^{-2}, y^{-1}, y^{4}\\right\\}}(t)} = t {F_{y^{4},\\left\\{y^{3}, y^{-4}, y^{4}, y^{-1}, y^{-3}, y^{-2}\\right\\}}(t)}</script></html>"
      ],
      "text/plain": [
       "v87 == t*v101"
      ]
     },
     "metadata": {},
     "output_type": "display_data"
    },
    {
     "data": {
      "text/html": [
       "<html><script type=\"math/tex; mode=display\">\\newcommand{\\Bold}[1]{\\mathbf{#1}}{F_{y^{-4},\\left\\{y^{3}, y^{-4}, y^{4}, y^{-1}, y^{-3}, y^{-2}\\right\\}}(t)} = {F_{y^{-4},\\left\\{y^{3}, 1, y^{-3}, y^{-4}, y^{-2}, y^{-1}, y^{4}\\right\\}}(t)} {F_{1,\\left\\{y^{3}, y^{-4}, y^{4}, y^{-1}, y^{-3}, y^{-2}\\right\\}}(t)}</script></html>"
      ],
      "text/plain": [
       "v95 == v109*v98"
      ]
     },
     "metadata": {},
     "output_type": "display_data"
    },
    {
     "data": {
      "text/html": [
       "<html><script type=\"math/tex; mode=display\">\\newcommand{\\Bold}[1]{\\mathbf{#1}}{F_{y^{-3},\\left\\{y^{3}, y^{-4}, y^{4}, y^{-1}, y^{-3}, y^{-2}\\right\\}}(t)} = {F_{y^{-3},\\left\\{y^{3}, 1, y^{-3}, y^{-4}, y^{-2}, y^{-1}, y^{4}\\right\\}}(t)} {F_{1,\\left\\{y^{3}, y^{-4}, y^{4}, y^{-1}, y^{-3}, y^{-2}\\right\\}}(t)}</script></html>"
      ],
      "text/plain": [
       "v96 == v110*v98"
      ]
     },
     "metadata": {},
     "output_type": "display_data"
    },
    {
     "data": {
      "text/html": [
       "<html><script type=\"math/tex; mode=display\">\\newcommand{\\Bold}[1]{\\mathbf{#1}}{F_{y^{-2},\\left\\{y^{3}, y^{-4}, y^{4}, y^{-1}, y^{-3}, y^{-2}\\right\\}}(t)} = {F_{y^{-2},\\left\\{y^{3}, 1, y^{-3}, y^{-4}, y^{-2}, y^{-1}, y^{4}\\right\\}}(t)} {F_{1,\\left\\{y^{3}, y^{-4}, y^{4}, y^{-1}, y^{-3}, y^{-2}\\right\\}}(t)}</script></html>"
      ],
      "text/plain": [
       "v97 == v111*v98"
      ]
     },
     "metadata": {},
     "output_type": "display_data"
    },
    {
     "data": {
      "text/html": [
       "<html><script type=\"math/tex; mode=display\">\\newcommand{\\Bold}[1]{\\mathbf{#1}}{F_{y^{3},\\left\\{y^{3}, 1, y^{-3}, y^{-4}, y^{-2}, y^{-1}, y^{4}\\right\\}}(t)} = t {F_{y^{2},\\left\\{y^{3}, y^{-4}, y^{4}, y^{-2}, y^{-1}, y^{-3}, y^{2}\\right\\}}(t)}</script></html>"
      ],
      "text/plain": [
       "v99 == t*v112"
      ]
     },
     "metadata": {},
     "output_type": "display_data"
    },
    {
     "data": {
      "text/html": [
       "<html><script type=\"math/tex; mode=display\">\\newcommand{\\Bold}[1]{\\mathbf{#1}}{F_{1,\\left\\{y^{3}, y^{-4}, y^{4}, y^{-1}, y^{-3}, y^{-2}\\right\\}}(t)} = {F_{1,\\left\\{y^{3}, 1, y^{-3}, y^{-4}, y^{-2}, y^{-1}, y^{4}\\right\\}}(t)} {F_{1,\\left\\{y^{3}, y^{-4}, y^{4}, y^{-1}, y^{-3}, y^{-2}\\right\\}}(t)} - {F_{1,\\left\\{y^{3}, y^{-4}, y^{4}, y^{-1}, y^{-3}, y^{-2}\\right\\}}(t)} + 1</script></html>"
      ],
      "text/plain": [
       "v98 == v113*v98 - v98 + 1"
      ]
     },
     "metadata": {},
     "output_type": "display_data"
    },
    {
     "data": {
      "text/html": [
       "<html><script type=\"math/tex; mode=display\">\\newcommand{\\Bold}[1]{\\mathbf{#1}}{F_{y^{-1},\\left\\{y^{3}, y^{-4}, y^{4}, y^{-1}, y^{-3}, y^{-2}\\right\\}}(t)} = {F_{y^{-1},\\left\\{y^{3}, 1, y^{-3}, y^{-4}, y^{-2}, y^{-1}, y^{4}\\right\\}}(t)} {F_{1,\\left\\{y^{3}, y^{-4}, y^{4}, y^{-1}, y^{-3}, y^{-2}\\right\\}}(t)}</script></html>"
      ],
      "text/plain": [
       "v100 == v114*v98"
      ]
     },
     "metadata": {},
     "output_type": "display_data"
    },
    {
     "data": {
      "text/html": [
       "<html><script type=\"math/tex; mode=display\">\\newcommand{\\Bold}[1]{\\mathbf{#1}}{F_{y^{4},\\left\\{y^{3}, y^{-4}, y^{4}, y^{-1}, y^{-3}, y^{-2}\\right\\}}(t)} = {F_{y^{4},\\left\\{y^{3}, 1, y^{-3}, y^{-4}, y^{-2}, y^{-1}, y^{4}\\right\\}}(t)} {F_{1,\\left\\{y^{3}, y^{-4}, y^{4}, y^{-1}, y^{-3}, y^{-2}\\right\\}}(t)}</script></html>"
      ],
      "text/plain": [
       "v101 == v115*v98"
      ]
     },
     "metadata": {},
     "output_type": "display_data"
    },
    {
     "data": {
      "text/html": [
       "<html><script type=\"math/tex; mode=display\">\\newcommand{\\Bold}[1]{\\mathbf{#1}}{F_{y^{-4},\\left\\{y^{3}, 1, y^{-3}, y^{-4}, y^{-2}, y^{-1}, y^{4}\\right\\}}(t)} = t {F_{y^{4},\\left\\{y^{3}, y^{-4}, y^{4}, y^{-2}, y^{-1}, y^{-3}, y^{2}\\right\\}}(t)}</script></html>"
      ],
      "text/plain": [
       "v109 == t*v124"
      ]
     },
     "metadata": {},
     "output_type": "display_data"
    },
    {
     "data": {
      "text/html": [
       "<html><script type=\"math/tex; mode=display\">\\newcommand{\\Bold}[1]{\\mathbf{#1}}{F_{y^{-3},\\left\\{y^{3}, 1, y^{-3}, y^{-4}, y^{-2}, y^{-1}, y^{4}\\right\\}}(t)} = t {F_{y^{-4},\\left\\{y^{3}, y^{-4}, y^{4}, y^{-2}, y^{-1}, y^{-3}, y^{2}\\right\\}}(t)}</script></html>"
      ],
      "text/plain": [
       "v110 == t*v125"
      ]
     },
     "metadata": {},
     "output_type": "display_data"
    },
    {
     "data": {
      "text/html": [
       "<html><script type=\"math/tex; mode=display\">\\newcommand{\\Bold}[1]{\\mathbf{#1}}{F_{y^{-2},\\left\\{y^{3}, 1, y^{-3}, y^{-4}, y^{-2}, y^{-1}, y^{4}\\right\\}}(t)} = t {F_{y^{-3},\\left\\{y^{3}, y^{-4}, y^{4}, y^{-2}, y^{-1}, y^{-3}, y^{2}\\right\\}}(t)}</script></html>"
      ],
      "text/plain": [
       "v111 == t*v126"
      ]
     },
     "metadata": {},
     "output_type": "display_data"
    },
    {
     "data": {
      "text/html": [
       "<html><script type=\"math/tex; mode=display\">\\newcommand{\\Bold}[1]{\\mathbf{#1}}{F_{y^{2},\\left\\{y^{3}, y^{-4}, y^{4}, y^{-2}, y^{-1}, y^{-3}, y^{2}\\right\\}}(t)} = {F_{1,\\left\\{y^{3}, y^{-4}, y^{4}, y^{-2}, y^{-1}, y^{-3}, y^{2}\\right\\}}(t)} {F_{y^{2},\\left\\{y^{3}, y^{-4}, y^{4}, y^{-2}, y^{-1}, 1, y^{-3}, y^{2}\\right\\}}(t)}</script></html>"
      ],
      "text/plain": [
       "v112 == v127*v128"
      ]
     },
     "metadata": {},
     "output_type": "display_data"
    },
    {
     "data": {
      "text/html": [
       "<html><script type=\"math/tex; mode=display\">\\newcommand{\\Bold}[1]{\\mathbf{#1}}{F_{1,\\left\\{y^{3}, 1, y^{-3}, y^{-4}, y^{-2}, y^{-1}, y^{4}\\right\\}}(t)} = m t {F_{x,\\left\\{x\\right\\}}(t)} + 2 \\, n t {F_{y,\\left\\{y\\right\\}}(t)} + t {F_{y^{-1},\\left\\{y^{3}, y^{-4}, y^{4}, y^{-2}, y^{-1}, y^{-3}, y^{2}\\right\\}}(t)} - 2 \\, t {F_{y,\\left\\{y\\right\\}}(t)} + 1</script></html>"
      ],
      "text/plain": [
       "v113 == m*t*v2 + 2*n*t*v4 + t*v129 - 2*t*v4 + 1"
      ]
     },
     "metadata": {},
     "output_type": "display_data"
    },
    {
     "data": {
      "text/html": [
       "<html><script type=\"math/tex; mode=display\">\\newcommand{\\Bold}[1]{\\mathbf{#1}}{F_{y^{-1},\\left\\{y^{3}, 1, y^{-3}, y^{-4}, y^{-2}, y^{-1}, y^{4}\\right\\}}(t)} = t {F_{y^{-2},\\left\\{y^{3}, y^{-4}, y^{4}, y^{-2}, y^{-1}, y^{-3}, y^{2}\\right\\}}(t)} + t</script></html>"
      ],
      "text/plain": [
       "v114 == t*v130 + t"
      ]
     },
     "metadata": {},
     "output_type": "display_data"
    },
    {
     "data": {
      "text/html": [
       "<html><script type=\"math/tex; mode=display\">\\newcommand{\\Bold}[1]{\\mathbf{#1}}{F_{y^{4},\\left\\{y^{3}, 1, y^{-3}, y^{-4}, y^{-2}, y^{-1}, y^{4}\\right\\}}(t)} = t {F_{y^{3},\\left\\{y^{3}, y^{-4}, y^{4}, y^{-2}, y^{-1}, y^{-3}, y^{2}\\right\\}}(t)}</script></html>"
      ],
      "text/plain": [
       "v115 == t*v131"
      ]
     },
     "metadata": {},
     "output_type": "display_data"
    },
    {
     "data": {
      "text/html": [
       "<html><script type=\"math/tex; mode=display\">\\newcommand{\\Bold}[1]{\\mathbf{#1}}{F_{y^{4},\\left\\{y^{3}, y^{-4}, y^{4}, y^{-2}, y^{-1}, y^{-3}, y^{2}\\right\\}}(t)} = {F_{1,\\left\\{y^{3}, y^{-4}, y^{4}, y^{-2}, y^{-1}, y^{-3}, y^{2}\\right\\}}(t)} {F_{y^{4},\\left\\{y^{3}, y^{-4}, y^{4}, y^{-2}, y^{-1}, 1, y^{-3}, y^{2}\\right\\}}(t)}</script></html>"
      ],
      "text/plain": [
       "v124 == v127*v140"
      ]
     },
     "metadata": {},
     "output_type": "display_data"
    },
    {
     "data": {
      "text/html": [
       "<html><script type=\"math/tex; mode=display\">\\newcommand{\\Bold}[1]{\\mathbf{#1}}{F_{y^{-4},\\left\\{y^{3}, y^{-4}, y^{4}, y^{-2}, y^{-1}, y^{-3}, y^{2}\\right\\}}(t)} = {F_{1,\\left\\{y^{3}, y^{-4}, y^{4}, y^{-2}, y^{-1}, y^{-3}, y^{2}\\right\\}}(t)} {F_{y^{-4},\\left\\{y^{3}, y^{-4}, y^{4}, y^{-2}, y^{-1}, 1, y^{-3}, y^{2}\\right\\}}(t)}</script></html>"
      ],
      "text/plain": [
       "v125 == v127*v141"
      ]
     },
     "metadata": {},
     "output_type": "display_data"
    },
    {
     "data": {
      "text/html": [
       "<html><script type=\"math/tex; mode=display\">\\newcommand{\\Bold}[1]{\\mathbf{#1}}{F_{y^{-3},\\left\\{y^{3}, y^{-4}, y^{4}, y^{-2}, y^{-1}, y^{-3}, y^{2}\\right\\}}(t)} = {F_{1,\\left\\{y^{3}, y^{-4}, y^{4}, y^{-2}, y^{-1}, y^{-3}, y^{2}\\right\\}}(t)} {F_{y^{-3},\\left\\{y^{3}, y^{-4}, y^{4}, y^{-2}, y^{-1}, 1, y^{-3}, y^{2}\\right\\}}(t)}</script></html>"
      ],
      "text/plain": [
       "v126 == v127*v142"
      ]
     },
     "metadata": {},
     "output_type": "display_data"
    },
    {
     "data": {
      "text/html": [
       "<html><script type=\"math/tex; mode=display\">\\newcommand{\\Bold}[1]{\\mathbf{#1}}{F_{1,\\left\\{y^{3}, y^{-4}, y^{4}, y^{-2}, y^{-1}, y^{-3}, y^{2}\\right\\}}(t)} = {F_{1,\\left\\{y^{3}, y^{-4}, y^{4}, y^{-2}, y^{-1}, y^{-3}, y^{2}\\right\\}}(t)} {F_{1,\\left\\{y^{3}, y^{-4}, y^{4}, y^{-2}, y^{-1}, 1, y^{-3}, y^{2}\\right\\}}(t)} - {F_{1,\\left\\{y^{3}, y^{-4}, y^{4}, y^{-2}, y^{-1}, y^{-3}, y^{2}\\right\\}}(t)} + 1</script></html>"
      ],
      "text/plain": [
       "v127 == v127*v143 - v127 + 1"
      ]
     },
     "metadata": {},
     "output_type": "display_data"
    },
    {
     "data": {
      "text/html": [
       "<html><script type=\"math/tex; mode=display\">\\newcommand{\\Bold}[1]{\\mathbf{#1}}{F_{y^{2},\\left\\{y^{3}, y^{-4}, y^{4}, y^{-2}, y^{-1}, 1, y^{-3}, y^{2}\\right\\}}(t)} = t {F_{y,\\left\\{y^{3}, y^{-4}, y^{4}, y, y^{-2}, y^{-1}, y^{-3}, y^{2}\\right\\}}(t)}</script></html>"
      ],
      "text/plain": [
       "v128 == t*v144"
      ]
     },
     "metadata": {},
     "output_type": "display_data"
    },
    {
     "data": {
      "text/html": [
       "<html><script type=\"math/tex; mode=display\">\\newcommand{\\Bold}[1]{\\mathbf{#1}}{F_{y^{-1},\\left\\{y^{3}, y^{-4}, y^{4}, y^{-2}, y^{-1}, y^{-3}, y^{2}\\right\\}}(t)} = {F_{1,\\left\\{y^{3}, y^{-4}, y^{4}, y^{-2}, y^{-1}, y^{-3}, y^{2}\\right\\}}(t)} {F_{y^{-1},\\left\\{y^{3}, y^{-4}, y^{4}, y^{-2}, y^{-1}, 1, y^{-3}, y^{2}\\right\\}}(t)}</script></html>"
      ],
      "text/plain": [
       "v129 == v127*v145"
      ]
     },
     "metadata": {},
     "output_type": "display_data"
    },
    {
     "data": {
      "text/html": [
       "<html><script type=\"math/tex; mode=display\">\\newcommand{\\Bold}[1]{\\mathbf{#1}}{F_{y^{-2},\\left\\{y^{3}, y^{-4}, y^{4}, y^{-2}, y^{-1}, y^{-3}, y^{2}\\right\\}}(t)} = {F_{1,\\left\\{y^{3}, y^{-4}, y^{4}, y^{-2}, y^{-1}, y^{-3}, y^{2}\\right\\}}(t)} {F_{y^{-2},\\left\\{y^{3}, y^{-4}, y^{4}, y^{-2}, y^{-1}, 1, y^{-3}, y^{2}\\right\\}}(t)}</script></html>"
      ],
      "text/plain": [
       "v130 == v127*v146"
      ]
     },
     "metadata": {},
     "output_type": "display_data"
    },
    {
     "data": {
      "text/html": [
       "<html><script type=\"math/tex; mode=display\">\\newcommand{\\Bold}[1]{\\mathbf{#1}}{F_{y^{3},\\left\\{y^{3}, y^{-4}, y^{4}, y^{-2}, y^{-1}, y^{-3}, y^{2}\\right\\}}(t)} = {F_{1,\\left\\{y^{3}, y^{-4}, y^{4}, y^{-2}, y^{-1}, y^{-3}, y^{2}\\right\\}}(t)} {F_{y^{3},\\left\\{y^{3}, y^{-4}, y^{4}, y^{-2}, y^{-1}, 1, y^{-3}, y^{2}\\right\\}}(t)}</script></html>"
      ],
      "text/plain": [
       "v131 == v127*v147"
      ]
     },
     "metadata": {},
     "output_type": "display_data"
    },
    {
     "data": {
      "text/html": [
       "<html><script type=\"math/tex; mode=display\">\\newcommand{\\Bold}[1]{\\mathbf{#1}}{F_{y^{4},\\left\\{y^{3}, y^{-4}, y^{4}, y^{-2}, y^{-1}, 1, y^{-3}, y^{2}\\right\\}}(t)} = t {F_{y^{-3},\\left\\{y^{3}, y^{4}, y^{-4}, y, y^{2}, y^{-1}, y^{-3}, y^{-2}\\right\\}}(t)}</script></html>"
      ],
      "text/plain": [
       "v140 == t*v154"
      ]
     },
     "metadata": {},
     "output_type": "display_data"
    },
    {
     "data": {
      "text/html": [
       "<html><script type=\"math/tex; mode=display\">\\newcommand{\\Bold}[1]{\\mathbf{#1}}{F_{y^{-4},\\left\\{y^{3}, y^{-4}, y^{4}, y^{-2}, y^{-1}, 1, y^{-3}, y^{2}\\right\\}}(t)} = t {F_{y^{4},\\left\\{y^{3}, y^{4}, y^{-4}, y, y^{2}, y^{-1}, y^{-3}, y^{-2}\\right\\}}(t)}</script></html>"
      ],
      "text/plain": [
       "v141 == t*v149"
      ]
     },
     "metadata": {},
     "output_type": "display_data"
    },
    {
     "data": {
      "text/html": [
       "<html><script type=\"math/tex; mode=display\">\\newcommand{\\Bold}[1]{\\mathbf{#1}}{F_{y^{-3},\\left\\{y^{3}, y^{-4}, y^{4}, y^{-2}, y^{-1}, 1, y^{-3}, y^{2}\\right\\}}(t)} = t {F_{y^{4},\\left\\{y^{3}, y^{4}, y^{-4}, y, y^{2}, y^{-1}, y^{-3}, y^{-2}\\right\\}}(t)}</script></html>"
      ],
      "text/plain": [
       "v142 == t*v149"
      ]
     },
     "metadata": {},
     "output_type": "display_data"
    },
    {
     "data": {
      "text/html": [
       "<html><script type=\"math/tex; mode=display\">\\newcommand{\\Bold}[1]{\\mathbf{#1}}{F_{1,\\left\\{y^{3}, y^{-4}, y^{4}, y^{-2}, y^{-1}, 1, y^{-3}, y^{2}\\right\\}}(t)} = m t {F_{x,\\left\\{x\\right\\}}(t)} + 2 \\, n t {F_{y,\\left\\{y\\right\\}}(t)} + t {F_{y,\\left\\{y^{3}, y^{-4}, y^{4}, y, y^{-2}, y^{-1}, y^{-3}, y^{2}\\right\\}}(t)} - 2 \\, t {F_{y,\\left\\{y\\right\\}}(t)} + 1</script></html>"
      ],
      "text/plain": [
       "v143 == m*t*v2 + 2*n*t*v4 + t*v144 - 2*t*v4 + 1"
      ]
     },
     "metadata": {},
     "output_type": "display_data"
    },
    {
     "data": {
      "text/html": [
       "<html><script type=\"math/tex; mode=display\">\\newcommand{\\Bold}[1]{\\mathbf{#1}}{F_{y,\\left\\{y^{3}, y^{-4}, y^{4}, y, y^{-2}, y^{-1}, y^{-3}, y^{2}\\right\\}}(t)} = {F_{1,\\left\\{y^{3}, y^{4}, y^{-4}, y, y^{2}, y^{-1}, y^{-3}, y^{-2}\\right\\}}(t)} {F_{y,\\left\\{y^{3}, y^{-4}, y^{4}, y, y^{-2}, y^{-1}, 1, y^{-3}, y^{2}\\right\\}}(t)}</script></html>"
      ],
      "text/plain": [
       "v144 == v151*v156"
      ]
     },
     "metadata": {},
     "output_type": "display_data"
    },
    {
     "data": {
      "text/html": [
       "<html><script type=\"math/tex; mode=display\">\\newcommand{\\Bold}[1]{\\mathbf{#1}}{F_{y^{-1},\\left\\{y^{3}, y^{-4}, y^{4}, y^{-2}, y^{-1}, 1, y^{-3}, y^{2}\\right\\}}(t)} = t {F_{y^{-2},\\left\\{y^{3}, y^{4}, y^{-4}, y, y^{2}, y^{-1}, y^{-3}, y^{-2}\\right\\}}(t)} + t</script></html>"
      ],
      "text/plain": [
       "v145 == t*v155 + t"
      ]
     },
     "metadata": {},
     "output_type": "display_data"
    },
    {
     "data": {
      "text/html": [
       "<html><script type=\"math/tex; mode=display\">\\newcommand{\\Bold}[1]{\\mathbf{#1}}{F_{y^{-2},\\left\\{y^{3}, y^{-4}, y^{4}, y^{-2}, y^{-1}, 1, y^{-3}, y^{2}\\right\\}}(t)} = t {F_{y^{-3},\\left\\{y^{3}, y^{4}, y^{-4}, y, y^{2}, y^{-1}, y^{-3}, y^{-2}\\right\\}}(t)}</script></html>"
      ],
      "text/plain": [
       "v146 == t*v154"
      ]
     },
     "metadata": {},
     "output_type": "display_data"
    },
    {
     "data": {
      "text/html": [
       "<html><script type=\"math/tex; mode=display\">\\newcommand{\\Bold}[1]{\\mathbf{#1}}{F_{y^{3},\\left\\{y^{3}, y^{-4}, y^{4}, y^{-2}, y^{-1}, 1, y^{-3}, y^{2}\\right\\}}(t)} = t {F_{y^{-2},\\left\\{y^{3}, y^{4}, y^{-4}, y, y^{2}, y^{-1}, y^{-3}, y^{-2}\\right\\}}(t)}</script></html>"
      ],
      "text/plain": [
       "v147 == t*v155"
      ]
     },
     "metadata": {},
     "output_type": "display_data"
    },
    {
     "data": {
      "text/html": [
       "<html><script type=\"math/tex; mode=display\">\\newcommand{\\Bold}[1]{\\mathbf{#1}}{F_{y^{4},\\left\\{y^{3}, y^{4}, y^{-4}, y, y^{2}, y^{-1}, y^{-3}, y^{-2}\\right\\}}(t)} = {F_{1,\\left\\{y^{3}, y^{4}, y^{-4}, y, y^{2}, y^{-1}, y^{-3}, y^{-2}\\right\\}}(t)} {F_{y^{4},\\left\\{y^{3}, y^{4}, y^{-4}, y, y^{2}, y^{-1}, 1, y^{-3}, y^{-2}\\right\\}}(t)}</script></html>"
      ],
      "text/plain": [
       "v149 == v151*v158"
      ]
     },
     "metadata": {},
     "output_type": "display_data"
    },
    {
     "data": {
      "text/html": [
       "<html><script type=\"math/tex; mode=display\">\\newcommand{\\Bold}[1]{\\mathbf{#1}}{F_{1,\\left\\{y^{3}, y^{4}, y^{-4}, y, y^{2}, y^{-1}, y^{-3}, y^{-2}\\right\\}}(t)} = {F_{1,\\left\\{y^{3}, y^{4}, y^{-4}, y, y^{2}, y^{-1}, y^{-3}, y^{-2}\\right\\}}(t)} {F_{1,\\left\\{y^{3}, y^{4}, y^{-4}, y, y^{2}, y^{-1}, 1, y^{-3}, y^{-2}\\right\\}}(t)} - {F_{1,\\left\\{y^{3}, y^{4}, y^{-4}, y, y^{2}, y^{-1}, y^{-3}, y^{-2}\\right\\}}(t)} + 1</script></html>"
      ],
      "text/plain": [
       "v151 == v151*v160 - v151 + 1"
      ]
     },
     "metadata": {},
     "output_type": "display_data"
    },
    {
     "data": {
      "text/html": [
       "<html><script type=\"math/tex; mode=display\">\\newcommand{\\Bold}[1]{\\mathbf{#1}}{F_{y^{-3},\\left\\{y^{3}, y^{4}, y^{-4}, y, y^{2}, y^{-1}, y^{-3}, y^{-2}\\right\\}}(t)} = {F_{1,\\left\\{y^{3}, y^{4}, y^{-4}, y, y^{2}, y^{-1}, y^{-3}, y^{-2}\\right\\}}(t)} {F_{y^{-3},\\left\\{y^{3}, y^{4}, y^{-4}, y, y^{2}, y^{-1}, 1, y^{-3}, y^{-2}\\right\\}}(t)}</script></html>"
      ],
      "text/plain": [
       "v154 == v151*v162"
      ]
     },
     "metadata": {},
     "output_type": "display_data"
    },
    {
     "data": {
      "text/html": [
       "<html><script type=\"math/tex; mode=display\">\\newcommand{\\Bold}[1]{\\mathbf{#1}}{F_{y^{-2},\\left\\{y^{3}, y^{4}, y^{-4}, y, y^{2}, y^{-1}, y^{-3}, y^{-2}\\right\\}}(t)} = {F_{1,\\left\\{y^{3}, y^{4}, y^{-4}, y, y^{2}, y^{-1}, y^{-3}, y^{-2}\\right\\}}(t)} {F_{y^{-2},\\left\\{y^{3}, y^{4}, y^{-4}, y, y^{2}, y^{-1}, 1, y^{-3}, y^{-2}\\right\\}}(t)}</script></html>"
      ],
      "text/plain": [
       "v155 == v151*v163"
      ]
     },
     "metadata": {},
     "output_type": "display_data"
    },
    {
     "data": {
      "text/html": [
       "<html><script type=\"math/tex; mode=display\">\\newcommand{\\Bold}[1]{\\mathbf{#1}}{F_{y,\\left\\{y^{3}, y^{-4}, y^{4}, y, y^{-2}, y^{-1}, 1, y^{-3}, y^{2}\\right\\}}(t)} = t</script></html>"
      ],
      "text/plain": [
       "v156 == t"
      ]
     },
     "metadata": {},
     "output_type": "display_data"
    },
    {
     "data": {
      "text/html": [
       "<html><script type=\"math/tex; mode=display\">\\newcommand{\\Bold}[1]{\\mathbf{#1}}{F_{y^{4},\\left\\{y^{3}, y^{4}, y^{-4}, y, y^{2}, y^{-1}, 1, y^{-3}, y^{-2}\\right\\}}(t)} = 0</script></html>"
      ],
      "text/plain": [
       "v158 == 0"
      ]
     },
     "metadata": {},
     "output_type": "display_data"
    },
    {
     "data": {
      "text/html": [
       "<html><script type=\"math/tex; mode=display\">\\newcommand{\\Bold}[1]{\\mathbf{#1}}{F_{1,\\left\\{y^{3}, y^{4}, y^{-4}, y, y^{2}, y^{-1}, 1, y^{-3}, y^{-2}\\right\\}}(t)} = m t {F_{x,\\left\\{x\\right\\}}(t)} + 2 \\, n t {F_{y,\\left\\{y\\right\\}}(t)} - 2 \\, t {F_{y,\\left\\{y\\right\\}}(t)} + 1</script></html>"
      ],
      "text/plain": [
       "v160 == m*t*v2 + 2*n*t*v4 - 2*t*v4 + 1"
      ]
     },
     "metadata": {},
     "output_type": "display_data"
    },
    {
     "data": {
      "text/html": [
       "<html><script type=\"math/tex; mode=display\">\\newcommand{\\Bold}[1]{\\mathbf{#1}}{F_{y^{-3},\\left\\{y^{3}, y^{4}, y^{-4}, y, y^{2}, y^{-1}, 1, y^{-3}, y^{-2}\\right\\}}(t)} = 0</script></html>"
      ],
      "text/plain": [
       "v162 == 0"
      ]
     },
     "metadata": {},
     "output_type": "display_data"
    },
    {
     "data": {
      "text/html": [
       "<html><script type=\"math/tex; mode=display\">\\newcommand{\\Bold}[1]{\\mathbf{#1}}{F_{y^{-2},\\left\\{y^{3}, y^{4}, y^{-4}, y, y^{2}, y^{-1}, 1, y^{-3}, y^{-2}\\right\\}}(t)} = 0</script></html>"
      ],
      "text/plain": [
       "v163 == 0"
      ]
     },
     "metadata": {},
     "output_type": "display_data"
    }
   ],
   "source": [
    "for eq in reduced_system:\n",
    "    pretty_print(eq)"
   ]
  },
  {
   "cell_type": "code",
   "execution_count": 19,
   "metadata": {},
   "outputs": [],
   "source": [
    "# get rid of all F-varibles that only depend on t\n",
    "while 1:\n",
    "    terminals = {}\n",
    "    for eq in reduced_system:\n",
    "        if Set(eq.rhs().args()).issubset(Set([t])):\n",
    "            terminals[eq.lhs()] = eq.rhs()\n",
    "    if not terminals:\n",
    "        break\n",
    "    reduced_system = [eq.subs(terminals) for eq in reduced_system if eq.lhs() not in terminals]"
   ]
  },
  {
   "cell_type": "code",
   "execution_count": 20,
   "metadata": {},
   "outputs": [
    {
     "data": {
      "text/html": [
       "<html><script type=\"math/tex; mode=display\">\\newcommand{\\Bold}[1]{\\mathbf{#1}}{F_{1,\\varnothing}(t)} = {F_{1,\\varnothing}(t)} {F_{1,\\left\\{1\\right\\}}(t)} - {F_{1,\\varnothing}(t)} + 1</script></html>"
      ],
      "text/plain": [
       "v0 == v0*v1 - v0 + 1"
      ]
     },
     "metadata": {},
     "output_type": "display_data"
    },
    {
     "data": {
      "text/html": [
       "<html><script type=\"math/tex; mode=display\">\\newcommand{\\Bold}[1]{\\mathbf{#1}}{F_{1,\\left\\{1\\right\\}}(t)} = m t {F_{x,\\left\\{x\\right\\}}(t)} + 2 \\, n t {F_{y,\\left\\{y\\right\\}}(t)} + 1</script></html>"
      ],
      "text/plain": [
       "v1 == m*t*v2 + 2*n*t*v4 + 1"
      ]
     },
     "metadata": {},
     "output_type": "display_data"
    },
    {
     "data": {
      "text/html": [
       "<html><script type=\"math/tex; mode=display\">\\newcommand{\\Bold}[1]{\\mathbf{#1}}{F_{x,\\left\\{x\\right\\}}(t)} = t {F_{1,\\left\\{x\\right\\}}(t)}</script></html>"
      ],
      "text/plain": [
       "v2 == t*v5"
      ]
     },
     "metadata": {},
     "output_type": "display_data"
    },
    {
     "data": {
      "text/html": [
       "<html><script type=\"math/tex; mode=display\">\\newcommand{\\Bold}[1]{\\mathbf{#1}}{F_{y,\\left\\{y\\right\\}}(t)} = {F_{y^{-1},\\left\\{1, y^{-1}\\right\\}}(t)} {F_{1,\\left\\{y^{-1}\\right\\}}(t)}</script></html>"
      ],
      "text/plain": [
       "v4 == v10*v9"
      ]
     },
     "metadata": {},
     "output_type": "display_data"
    },
    {
     "data": {
      "text/html": [
       "<html><script type=\"math/tex; mode=display\">\\newcommand{\\Bold}[1]{\\mathbf{#1}}{F_{1,\\left\\{x\\right\\}}(t)} = {F_{1,\\left\\{1, x\\right\\}}(t)} {F_{1,\\left\\{x\\right\\}}(t)} - {F_{1,\\left\\{x\\right\\}}(t)} + 1</script></html>"
      ],
      "text/plain": [
       "v5 == v11*v5 - v5 + 1"
      ]
     },
     "metadata": {},
     "output_type": "display_data"
    },
    {
     "data": {
      "text/html": [
       "<html><script type=\"math/tex; mode=display\">\\newcommand{\\Bold}[1]{\\mathbf{#1}}{F_{y^{-1},\\left\\{1, y^{-1}\\right\\}}(t)} = t {F_{y^{-2},\\left\\{y^{-1}, y^{-2}\\right\\}}(t)} + t</script></html>"
      ],
      "text/plain": [
       "v10 == t*v14 + t"
      ]
     },
     "metadata": {},
     "output_type": "display_data"
    },
    {
     "data": {
      "text/html": [
       "<html><script type=\"math/tex; mode=display\">\\newcommand{\\Bold}[1]{\\mathbf{#1}}{F_{1,\\left\\{y^{-1}\\right\\}}(t)} = {F_{1,\\left\\{1, y^{-1}\\right\\}}(t)} {F_{1,\\left\\{y^{-1}\\right\\}}(t)} - {F_{1,\\left\\{y^{-1}\\right\\}}(t)} + 1</script></html>"
      ],
      "text/plain": [
       "v9 == v15*v9 - v9 + 1"
      ]
     },
     "metadata": {},
     "output_type": "display_data"
    },
    {
     "data": {
      "text/html": [
       "<html><script type=\"math/tex; mode=display\">\\newcommand{\\Bold}[1]{\\mathbf{#1}}{F_{1,\\left\\{1, x\\right\\}}(t)} = m t {F_{x,\\left\\{x\\right\\}}(t)} + 2 \\, n t {F_{y,\\left\\{y\\right\\}}(t)} - t {F_{x,\\left\\{x\\right\\}}(t)} + 1</script></html>"
      ],
      "text/plain": [
       "v11 == m*t*v2 + 2*n*t*v4 - t*v2 + 1"
      ]
     },
     "metadata": {},
     "output_type": "display_data"
    },
    {
     "data": {
      "text/html": [
       "<html><script type=\"math/tex; mode=display\">\\newcommand{\\Bold}[1]{\\mathbf{#1}}{F_{y^{-2},\\left\\{y^{-1}, y^{-2}\\right\\}}(t)} = {F_{1,\\left\\{y^{-1}, y^{-2}\\right\\}}(t)} {F_{y^{-2},\\left\\{1, y^{-1}, y^{-2}\\right\\}}(t)}</script></html>"
      ],
      "text/plain": [
       "v14 == v19*v20"
      ]
     },
     "metadata": {},
     "output_type": "display_data"
    },
    {
     "data": {
      "text/html": [
       "<html><script type=\"math/tex; mode=display\">\\newcommand{\\Bold}[1]{\\mathbf{#1}}{F_{1,\\left\\{1, y^{-1}\\right\\}}(t)} = m t {F_{x,\\left\\{x\\right\\}}(t)} + 2 \\, n t {F_{y,\\left\\{y\\right\\}}(t)} + t {F_{y^{-1},\\left\\{y^{-1}, y^{-2}\\right\\}}(t)} - 2 \\, t {F_{y,\\left\\{y\\right\\}}(t)} + 1</script></html>"
      ],
      "text/plain": [
       "v15 == m*t*v2 + 2*n*t*v4 + t*v21 - 2*t*v4 + 1"
      ]
     },
     "metadata": {},
     "output_type": "display_data"
    },
    {
     "data": {
      "text/html": [
       "<html><script type=\"math/tex; mode=display\">\\newcommand{\\Bold}[1]{\\mathbf{#1}}{F_{1,\\left\\{y^{-1}, y^{-2}\\right\\}}(t)} = {F_{1,\\left\\{y^{-1}, y^{-2}\\right\\}}(t)} {F_{1,\\left\\{1, y^{-1}, y^{-2}\\right\\}}(t)} - {F_{1,\\left\\{y^{-1}, y^{-2}\\right\\}}(t)} + 1</script></html>"
      ],
      "text/plain": [
       "v19 == v19*v25 - v19 + 1"
      ]
     },
     "metadata": {},
     "output_type": "display_data"
    },
    {
     "data": {
      "text/html": [
       "<html><script type=\"math/tex; mode=display\">\\newcommand{\\Bold}[1]{\\mathbf{#1}}{F_{y^{-2},\\left\\{1, y^{-1}, y^{-2}\\right\\}}(t)} = t {F_{y^{-3},\\left\\{y^{-1}, y^{-3}, y^{-2}\\right\\}}(t)}</script></html>"
      ],
      "text/plain": [
       "v20 == t*v26"
      ]
     },
     "metadata": {},
     "output_type": "display_data"
    },
    {
     "data": {
      "text/html": [
       "<html><script type=\"math/tex; mode=display\">\\newcommand{\\Bold}[1]{\\mathbf{#1}}{F_{y^{-1},\\left\\{y^{-1}, y^{-2}\\right\\}}(t)} = t {F_{1,\\left\\{y^{-1}, y^{-2}\\right\\}}(t)}</script></html>"
      ],
      "text/plain": [
       "v21 == t*v19"
      ]
     },
     "metadata": {},
     "output_type": "display_data"
    },
    {
     "data": {
      "text/html": [
       "<html><script type=\"math/tex; mode=display\">\\newcommand{\\Bold}[1]{\\mathbf{#1}}{F_{1,\\left\\{1, y^{-1}, y^{-2}\\right\\}}(t)} = m t {F_{x,\\left\\{x\\right\\}}(t)} + 2 \\, n t {F_{y,\\left\\{y\\right\\}}(t)} + t {F_{y^{-1},\\left\\{y^{-1}, y^{-3}, y^{-2}\\right\\}}(t)} - 2 \\, t {F_{y,\\left\\{y\\right\\}}(t)} + 1</script></html>"
      ],
      "text/plain": [
       "v25 == m*t*v2 + 2*n*t*v4 + t*v32 - 2*t*v4 + 1"
      ]
     },
     "metadata": {},
     "output_type": "display_data"
    },
    {
     "data": {
      "text/html": [
       "<html><script type=\"math/tex; mode=display\">\\newcommand{\\Bold}[1]{\\mathbf{#1}}{F_{y^{-3},\\left\\{y^{-1}, y^{-3}, y^{-2}\\right\\}}(t)} = {F_{1,\\left\\{y^{-1}, y^{-3}, y^{-2}\\right\\}}(t)} {F_{y^{-3},\\left\\{y^{-1}, 1, y^{-3}, y^{-2}\\right\\}}(t)}</script></html>"
      ],
      "text/plain": [
       "v26 == v33*v34"
      ]
     },
     "metadata": {},
     "output_type": "display_data"
    },
    {
     "data": {
      "text/html": [
       "<html><script type=\"math/tex; mode=display\">\\newcommand{\\Bold}[1]{\\mathbf{#1}}{F_{y^{-1},\\left\\{y^{-1}, y^{-3}, y^{-2}\\right\\}}(t)} = t {F_{1,\\left\\{y^{-1}, y^{-3}, y^{-2}\\right\\}}(t)}</script></html>"
      ],
      "text/plain": [
       "v32 == t*v33"
      ]
     },
     "metadata": {},
     "output_type": "display_data"
    },
    {
     "data": {
      "text/html": [
       "<html><script type=\"math/tex; mode=display\">\\newcommand{\\Bold}[1]{\\mathbf{#1}}{F_{1,\\left\\{y^{-1}, y^{-3}, y^{-2}\\right\\}}(t)} = {F_{1,\\left\\{y^{-1}, y^{-3}, y^{-2}\\right\\}}(t)} {F_{1,\\left\\{y^{-1}, 1, y^{-3}, y^{-2}\\right\\}}(t)} - {F_{1,\\left\\{y^{-1}, y^{-3}, y^{-2}\\right\\}}(t)} + 1</script></html>"
      ],
      "text/plain": [
       "v33 == v33*v41 - v33 + 1"
      ]
     },
     "metadata": {},
     "output_type": "display_data"
    },
    {
     "data": {
      "text/html": [
       "<html><script type=\"math/tex; mode=display\">\\newcommand{\\Bold}[1]{\\mathbf{#1}}{F_{y^{-3},\\left\\{y^{-1}, 1, y^{-3}, y^{-2}\\right\\}}(t)} = t {F_{y^{-4},\\left\\{y^{-2}, y^{-1}, y^{-3}, y^{-4}\\right\\}}(t)}</script></html>"
      ],
      "text/plain": [
       "v34 == t*v42"
      ]
     },
     "metadata": {},
     "output_type": "display_data"
    },
    {
     "data": {
      "text/html": [
       "<html><script type=\"math/tex; mode=display\">\\newcommand{\\Bold}[1]{\\mathbf{#1}}{F_{1,\\left\\{y^{-1}, 1, y^{-3}, y^{-2}\\right\\}}(t)} = m t {F_{x,\\left\\{x\\right\\}}(t)} + 2 \\, n t {F_{y,\\left\\{y\\right\\}}(t)} - 2 \\, t {F_{y,\\left\\{y\\right\\}}(t)} + t {F_{y^{-1},\\left\\{y^{-2}, y^{-1}, y^{-3}, y^{-4}\\right\\}}(t)} + 1</script></html>"
      ],
      "text/plain": [
       "v41 == m*t*v2 + 2*n*t*v4 - 2*t*v4 + t*v50 + 1"
      ]
     },
     "metadata": {},
     "output_type": "display_data"
    },
    {
     "data": {
      "text/html": [
       "<html><script type=\"math/tex; mode=display\">\\newcommand{\\Bold}[1]{\\mathbf{#1}}{F_{y^{-4},\\left\\{y^{-2}, y^{-1}, y^{-3}, y^{-4}\\right\\}}(t)} = {F_{1,\\left\\{y^{-2}, y^{-1}, y^{-3}, y^{-4}\\right\\}}(t)} {F_{y^{-4},\\left\\{1, y^{-3}, y^{-2}, y^{-1}, y^{-4}\\right\\}}(t)}</script></html>"
      ],
      "text/plain": [
       "v42 == v51*v52"
      ]
     },
     "metadata": {},
     "output_type": "display_data"
    },
    {
     "data": {
      "text/html": [
       "<html><script type=\"math/tex; mode=display\">\\newcommand{\\Bold}[1]{\\mathbf{#1}}{F_{y^{-1},\\left\\{y^{-2}, y^{-1}, y^{-3}, y^{-4}\\right\\}}(t)} = t {F_{1,\\left\\{y^{-2}, y^{-1}, y^{-3}, y^{-4}\\right\\}}(t)}</script></html>"
      ],
      "text/plain": [
       "v50 == t*v51"
      ]
     },
     "metadata": {},
     "output_type": "display_data"
    },
    {
     "data": {
      "text/html": [
       "<html><script type=\"math/tex; mode=display\">\\newcommand{\\Bold}[1]{\\mathbf{#1}}{F_{1,\\left\\{y^{-2}, y^{-1}, y^{-3}, y^{-4}\\right\\}}(t)} = {F_{1,\\left\\{y^{-2}, y^{-1}, y^{-3}, y^{-4}\\right\\}}(t)} {F_{1,\\left\\{1, y^{-3}, y^{-2}, y^{-1}, y^{-4}\\right\\}}(t)} - {F_{1,\\left\\{y^{-2}, y^{-1}, y^{-3}, y^{-4}\\right\\}}(t)} + 1</script></html>"
      ],
      "text/plain": [
       "v51 == v51*v61 - v51 + 1"
      ]
     },
     "metadata": {},
     "output_type": "display_data"
    },
    {
     "data": {
      "text/html": [
       "<html><script type=\"math/tex; mode=display\">\\newcommand{\\Bold}[1]{\\mathbf{#1}}{F_{y^{-4},\\left\\{1, y^{-3}, y^{-2}, y^{-1}, y^{-4}\\right\\}}(t)} = t {F_{y^{4},\\left\\{y^{-4}, y^{4}, y^{-1}, y^{-3}, y^{-2}\\right\\}}(t)}</script></html>"
      ],
      "text/plain": [
       "v52 == t*v62"
      ]
     },
     "metadata": {},
     "output_type": "display_data"
    },
    {
     "data": {
      "text/html": [
       "<html><script type=\"math/tex; mode=display\">\\newcommand{\\Bold}[1]{\\mathbf{#1}}{F_{1,\\left\\{1, y^{-3}, y^{-2}, y^{-1}, y^{-4}\\right\\}}(t)} = m t {F_{x,\\left\\{x\\right\\}}(t)} + 2 \\, n t {F_{y,\\left\\{y\\right\\}}(t)} - 2 \\, t {F_{y,\\left\\{y\\right\\}}(t)} + t {F_{y^{-1},\\left\\{y^{-4}, y^{4}, y^{-1}, y^{-3}, y^{-2}\\right\\}}(t)} + 1</script></html>"
      ],
      "text/plain": [
       "v61 == m*t*v2 + 2*n*t*v4 - 2*t*v4 + t*v72 + 1"
      ]
     },
     "metadata": {},
     "output_type": "display_data"
    },
    {
     "data": {
      "text/html": [
       "<html><script type=\"math/tex; mode=display\">\\newcommand{\\Bold}[1]{\\mathbf{#1}}{F_{y^{4},\\left\\{y^{-4}, y^{4}, y^{-1}, y^{-3}, y^{-2}\\right\\}}(t)} = {F_{1,\\left\\{y^{-4}, y^{4}, y^{-1}, y^{-3}, y^{-2}\\right\\}}(t)} {F_{y^{4},\\left\\{1, y^{-3}, y^{-4}, y^{-2}, y^{-1}, y^{4}\\right\\}}(t)}</script></html>"
      ],
      "text/plain": [
       "v62 == v73*v74"
      ]
     },
     "metadata": {},
     "output_type": "display_data"
    },
    {
     "data": {
      "text/html": [
       "<html><script type=\"math/tex; mode=display\">\\newcommand{\\Bold}[1]{\\mathbf{#1}}{F_{y^{-1},\\left\\{y^{-4}, y^{4}, y^{-1}, y^{-3}, y^{-2}\\right\\}}(t)} = t {F_{1,\\left\\{y^{-4}, y^{4}, y^{-1}, y^{-3}, y^{-2}\\right\\}}(t)}</script></html>"
      ],
      "text/plain": [
       "v72 == t*v73"
      ]
     },
     "metadata": {},
     "output_type": "display_data"
    },
    {
     "data": {
      "text/html": [
       "<html><script type=\"math/tex; mode=display\">\\newcommand{\\Bold}[1]{\\mathbf{#1}}{F_{y^{4},\\left\\{1, y^{-3}, y^{-4}, y^{-2}, y^{-1}, y^{4}\\right\\}}(t)} = t {F_{y^{3},\\left\\{y^{3}, y^{-4}, y^{4}, y^{-1}, y^{-3}, y^{-2}\\right\\}}(t)}</script></html>"
      ],
      "text/plain": [
       "v74 == t*v85"
      ]
     },
     "metadata": {},
     "output_type": "display_data"
    },
    {
     "data": {
      "text/html": [
       "<html><script type=\"math/tex; mode=display\">\\newcommand{\\Bold}[1]{\\mathbf{#1}}{F_{1,\\left\\{y^{-4}, y^{4}, y^{-1}, y^{-3}, y^{-2}\\right\\}}(t)} = {F_{1,\\left\\{y^{-4}, y^{4}, y^{-1}, y^{-3}, y^{-2}\\right\\}}(t)} {F_{1,\\left\\{1, y^{-3}, y^{-4}, y^{-2}, y^{-1}, y^{4}\\right\\}}(t)} - {F_{1,\\left\\{y^{-4}, y^{4}, y^{-1}, y^{-3}, y^{-2}\\right\\}}(t)} + 1</script></html>"
      ],
      "text/plain": [
       "v73 == v73*v86 - v73 + 1"
      ]
     },
     "metadata": {},
     "output_type": "display_data"
    },
    {
     "data": {
      "text/html": [
       "<html><script type=\"math/tex; mode=display\">\\newcommand{\\Bold}[1]{\\mathbf{#1}}{F_{y^{3},\\left\\{y^{3}, y^{-4}, y^{4}, y^{-1}, y^{-3}, y^{-2}\\right\\}}(t)} = {F_{1,\\left\\{y^{3}, y^{-4}, y^{4}, y^{-1}, y^{-3}, y^{-2}\\right\\}}(t)} {F_{y^{3},\\left\\{y^{3}, 1, y^{-3}, y^{-4}, y^{-2}, y^{-1}, y^{4}\\right\\}}(t)}</script></html>"
      ],
      "text/plain": [
       "v85 == v98*v99"
      ]
     },
     "metadata": {},
     "output_type": "display_data"
    },
    {
     "data": {
      "text/html": [
       "<html><script type=\"math/tex; mode=display\">\\newcommand{\\Bold}[1]{\\mathbf{#1}}{F_{1,\\left\\{1, y^{-3}, y^{-4}, y^{-2}, y^{-1}, y^{4}\\right\\}}(t)} = m t {F_{x,\\left\\{x\\right\\}}(t)} + 2 \\, n t {F_{y,\\left\\{y\\right\\}}(t)} + t {F_{y^{-1},\\left\\{y^{3}, y^{-4}, y^{4}, y^{-1}, y^{-3}, y^{-2}\\right\\}}(t)} - 2 \\, t {F_{y,\\left\\{y\\right\\}}(t)} + 1</script></html>"
      ],
      "text/plain": [
       "v86 == m*t*v2 + 2*n*t*v4 + t*v100 - 2*t*v4 + 1"
      ]
     },
     "metadata": {},
     "output_type": "display_data"
    },
    {
     "data": {
      "text/html": [
       "<html><script type=\"math/tex; mode=display\">\\newcommand{\\Bold}[1]{\\mathbf{#1}}{F_{y^{3},\\left\\{y^{3}, 1, y^{-3}, y^{-4}, y^{-2}, y^{-1}, y^{4}\\right\\}}(t)} = t {F_{y^{2},\\left\\{y^{3}, y^{-4}, y^{4}, y^{-2}, y^{-1}, y^{-3}, y^{2}\\right\\}}(t)}</script></html>"
      ],
      "text/plain": [
       "v99 == t*v112"
      ]
     },
     "metadata": {},
     "output_type": "display_data"
    },
    {
     "data": {
      "text/html": [
       "<html><script type=\"math/tex; mode=display\">\\newcommand{\\Bold}[1]{\\mathbf{#1}}{F_{1,\\left\\{y^{3}, y^{-4}, y^{4}, y^{-1}, y^{-3}, y^{-2}\\right\\}}(t)} = {F_{1,\\left\\{y^{3}, 1, y^{-3}, y^{-4}, y^{-2}, y^{-1}, y^{4}\\right\\}}(t)} {F_{1,\\left\\{y^{3}, y^{-4}, y^{4}, y^{-1}, y^{-3}, y^{-2}\\right\\}}(t)} - {F_{1,\\left\\{y^{3}, y^{-4}, y^{4}, y^{-1}, y^{-3}, y^{-2}\\right\\}}(t)} + 1</script></html>"
      ],
      "text/plain": [
       "v98 == v113*v98 - v98 + 1"
      ]
     },
     "metadata": {},
     "output_type": "display_data"
    },
    {
     "data": {
      "text/html": [
       "<html><script type=\"math/tex; mode=display\">\\newcommand{\\Bold}[1]{\\mathbf{#1}}{F_{y^{-1},\\left\\{y^{3}, y^{-4}, y^{4}, y^{-1}, y^{-3}, y^{-2}\\right\\}}(t)} = t {F_{1,\\left\\{y^{3}, y^{-4}, y^{4}, y^{-1}, y^{-3}, y^{-2}\\right\\}}(t)}</script></html>"
      ],
      "text/plain": [
       "v100 == t*v98"
      ]
     },
     "metadata": {},
     "output_type": "display_data"
    },
    {
     "data": {
      "text/html": [
       "<html><script type=\"math/tex; mode=display\">\\newcommand{\\Bold}[1]{\\mathbf{#1}}{F_{y^{2},\\left\\{y^{3}, y^{-4}, y^{4}, y^{-2}, y^{-1}, y^{-3}, y^{2}\\right\\}}(t)} = {F_{1,\\left\\{y^{3}, y^{-4}, y^{4}, y^{-2}, y^{-1}, y^{-3}, y^{2}\\right\\}}(t)} {F_{y^{2},\\left\\{y^{3}, y^{-4}, y^{4}, y^{-2}, y^{-1}, 1, y^{-3}, y^{2}\\right\\}}(t)}</script></html>"
      ],
      "text/plain": [
       "v112 == v127*v128"
      ]
     },
     "metadata": {},
     "output_type": "display_data"
    },
    {
     "data": {
      "text/html": [
       "<html><script type=\"math/tex; mode=display\">\\newcommand{\\Bold}[1]{\\mathbf{#1}}{F_{1,\\left\\{y^{3}, 1, y^{-3}, y^{-4}, y^{-2}, y^{-1}, y^{4}\\right\\}}(t)} = m t {F_{x,\\left\\{x\\right\\}}(t)} + 2 \\, n t {F_{y,\\left\\{y\\right\\}}(t)} + t {F_{y^{-1},\\left\\{y^{3}, y^{-4}, y^{4}, y^{-2}, y^{-1}, y^{-3}, y^{2}\\right\\}}(t)} - 2 \\, t {F_{y,\\left\\{y\\right\\}}(t)} + 1</script></html>"
      ],
      "text/plain": [
       "v113 == m*t*v2 + 2*n*t*v4 + t*v129 - 2*t*v4 + 1"
      ]
     },
     "metadata": {},
     "output_type": "display_data"
    },
    {
     "data": {
      "text/html": [
       "<html><script type=\"math/tex; mode=display\">\\newcommand{\\Bold}[1]{\\mathbf{#1}}{F_{1,\\left\\{y^{3}, y^{-4}, y^{4}, y^{-2}, y^{-1}, y^{-3}, y^{2}\\right\\}}(t)} = {F_{1,\\left\\{y^{3}, y^{-4}, y^{4}, y^{-2}, y^{-1}, y^{-3}, y^{2}\\right\\}}(t)} {F_{1,\\left\\{y^{3}, y^{-4}, y^{4}, y^{-2}, y^{-1}, 1, y^{-3}, y^{2}\\right\\}}(t)} - {F_{1,\\left\\{y^{3}, y^{-4}, y^{4}, y^{-2}, y^{-1}, y^{-3}, y^{2}\\right\\}}(t)} + 1</script></html>"
      ],
      "text/plain": [
       "v127 == v127*v143 - v127 + 1"
      ]
     },
     "metadata": {},
     "output_type": "display_data"
    },
    {
     "data": {
      "text/html": [
       "<html><script type=\"math/tex; mode=display\">\\newcommand{\\Bold}[1]{\\mathbf{#1}}{F_{y^{2},\\left\\{y^{3}, y^{-4}, y^{4}, y^{-2}, y^{-1}, 1, y^{-3}, y^{2}\\right\\}}(t)} = t {F_{y,\\left\\{y^{3}, y^{-4}, y^{4}, y, y^{-2}, y^{-1}, y^{-3}, y^{2}\\right\\}}(t)}</script></html>"
      ],
      "text/plain": [
       "v128 == t*v144"
      ]
     },
     "metadata": {},
     "output_type": "display_data"
    },
    {
     "data": {
      "text/html": [
       "<html><script type=\"math/tex; mode=display\">\\newcommand{\\Bold}[1]{\\mathbf{#1}}{F_{y^{-1},\\left\\{y^{3}, y^{-4}, y^{4}, y^{-2}, y^{-1}, y^{-3}, y^{2}\\right\\}}(t)} = t {F_{1,\\left\\{y^{3}, y^{-4}, y^{4}, y^{-2}, y^{-1}, y^{-3}, y^{2}\\right\\}}(t)}</script></html>"
      ],
      "text/plain": [
       "v129 == t*v127"
      ]
     },
     "metadata": {},
     "output_type": "display_data"
    },
    {
     "data": {
      "text/html": [
       "<html><script type=\"math/tex; mode=display\">\\newcommand{\\Bold}[1]{\\mathbf{#1}}{F_{1,\\left\\{y^{3}, y^{-4}, y^{4}, y^{-2}, y^{-1}, 1, y^{-3}, y^{2}\\right\\}}(t)} = m t {F_{x,\\left\\{x\\right\\}}(t)} + 2 \\, n t {F_{y,\\left\\{y\\right\\}}(t)} + t {F_{y,\\left\\{y^{3}, y^{-4}, y^{4}, y, y^{-2}, y^{-1}, y^{-3}, y^{2}\\right\\}}(t)} - 2 \\, t {F_{y,\\left\\{y\\right\\}}(t)} + 1</script></html>"
      ],
      "text/plain": [
       "v143 == m*t*v2 + 2*n*t*v4 + t*v144 - 2*t*v4 + 1"
      ]
     },
     "metadata": {},
     "output_type": "display_data"
    },
    {
     "data": {
      "text/html": [
       "<html><script type=\"math/tex; mode=display\">\\newcommand{\\Bold}[1]{\\mathbf{#1}}{F_{y,\\left\\{y^{3}, y^{-4}, y^{4}, y, y^{-2}, y^{-1}, y^{-3}, y^{2}\\right\\}}(t)} = t {F_{1,\\left\\{y^{3}, y^{4}, y^{-4}, y, y^{2}, y^{-1}, y^{-3}, y^{-2}\\right\\}}(t)}</script></html>"
      ],
      "text/plain": [
       "v144 == t*v151"
      ]
     },
     "metadata": {},
     "output_type": "display_data"
    },
    {
     "data": {
      "text/html": [
       "<html><script type=\"math/tex; mode=display\">\\newcommand{\\Bold}[1]{\\mathbf{#1}}{F_{1,\\left\\{y^{3}, y^{4}, y^{-4}, y, y^{2}, y^{-1}, y^{-3}, y^{-2}\\right\\}}(t)} = {F_{1,\\left\\{y^{3}, y^{4}, y^{-4}, y, y^{2}, y^{-1}, y^{-3}, y^{-2}\\right\\}}(t)} {F_{1,\\left\\{y^{3}, y^{4}, y^{-4}, y, y^{2}, y^{-1}, 1, y^{-3}, y^{-2}\\right\\}}(t)} - {F_{1,\\left\\{y^{3}, y^{4}, y^{-4}, y, y^{2}, y^{-1}, y^{-3}, y^{-2}\\right\\}}(t)} + 1</script></html>"
      ],
      "text/plain": [
       "v151 == v151*v160 - v151 + 1"
      ]
     },
     "metadata": {},
     "output_type": "display_data"
    },
    {
     "data": {
      "text/html": [
       "<html><script type=\"math/tex; mode=display\">\\newcommand{\\Bold}[1]{\\mathbf{#1}}{F_{1,\\left\\{y^{3}, y^{4}, y^{-4}, y, y^{2}, y^{-1}, 1, y^{-3}, y^{-2}\\right\\}}(t)} = m t {F_{x,\\left\\{x\\right\\}}(t)} + 2 \\, n t {F_{y,\\left\\{y\\right\\}}(t)} - 2 \\, t {F_{y,\\left\\{y\\right\\}}(t)} + 1</script></html>"
      ],
      "text/plain": [
       "v160 == m*t*v2 + 2*n*t*v4 - 2*t*v4 + 1"
      ]
     },
     "metadata": {},
     "output_type": "display_data"
    }
   ],
   "source": [
    "for eq in reduced_system:\n",
    "    pretty_print(eq)"
   ]
  },
  {
   "cell_type": "code",
   "execution_count": 21,
   "metadata": {},
   "outputs": [
    {
     "name": "stdout",
     "output_type": "stream",
     "text": [
      "/home/sage/OneDrive - sfu.ca/Research/Msc_math_sfu/Marni/cogrowth_computations\n"
     ]
    }
   ],
   "source": [
    "# Take the reduced implicit system of equations, with the list of variables to eliminate,\n",
    "#  and dump them to a maple data file\n",
    "import os\n",
    "\n",
    "var_rem = {eq.lhs() for eq in reduced_system}\n",
    "print(os.getcwd())\n",
    "fdir = 'maple_data_files'\n",
    "if not os.path.isdir(fdir):\n",
    "    os.mkdir(fdir)\n",
    "fsuffix = '-dat.maple'\n",
    "fname = ''\n",
    "for n,rep in zip([2,d],dups):\n",
    "    fname+='Z%d_%s__'%(n,rep)\n",
    "fname+='ic'\n",
    "fname+=fsuffix\n",
    "fname = os.path.join(fdir,fname)\n",
    "if not os.path.exists(fname):\n",
    "    fd = open(fname, 'w')\n",
    "    fd.write('syst:='+str(reduced_system).replace('==','=')+';')\n",
    "    fd.write('\\n')\n",
    "    fd.write('varlist:='+str((sorted(var_rem, key = lambda vv: int(str(vv)[1:]))))+';')\n",
    "    fd.write('\\n')\n",
    "    fd.close()"
   ]
  },
  {
   "cell_type": "code",
   "execution_count": null,
   "metadata": {},
   "outputs": [],
   "source": []
  },
  {
   "cell_type": "code",
   "execution_count": null,
   "metadata": {},
   "outputs": [],
   "source": []
  },
  {
   "cell_type": "code",
   "execution_count": null,
   "metadata": {},
   "outputs": [],
   "source": []
  }
 ],
 "metadata": {
  "kernelspec": {
   "display_name": "SageMath 9.0",
   "language": "sage",
   "name": "sagemath"
  },
  "language_info": {
   "codemirror_mode": {
    "name": "ipython",
    "version": 3
   },
   "file_extension": ".py",
   "mimetype": "text/x-python",
   "name": "python",
   "nbconvert_exporter": "python",
   "pygments_lexer": "ipython3",
   "version": "3.7.3"
  }
 },
 "nbformat": 4,
 "nbformat_minor": 2
}
