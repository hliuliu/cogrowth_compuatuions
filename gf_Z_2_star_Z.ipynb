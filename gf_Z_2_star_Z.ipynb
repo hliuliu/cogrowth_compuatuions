{
 "cells": [
  {
   "cell_type": "code",
   "execution_count": 4,
   "metadata": {},
   "outputs": [],
   "source": [
    "# generating series for Z_2*Z, with set {x,y,y^-1}\n"
   ]
  },
  {
   "cell_type": "code",
   "execution_count": 61,
   "metadata": {},
   "outputs": [
    {
     "data": {
      "text/plain": [
       "(y, z, t, u)"
      ]
     },
     "execution_count": 61,
     "metadata": {},
     "output_type": "execute_result"
    }
   ],
   "source": [
    "\n",
    "var('y z t u')"
   ]
  },
  {
   "cell_type": "code",
   "execution_count": 7,
   "metadata": {},
   "outputs": [],
   "source": [
    "system = [2-x^-1==1+2*t^2*y, 2-y^-1== 1+t^2*(x+y)]"
   ]
  },
  {
   "cell_type": "code",
   "execution_count": 11,
   "metadata": {},
   "outputs": [
    {
     "data": {
      "text/html": [
       "<html><script type=\"math/tex; mode=display\">\\newcommand{\\Bold}[1]{\\mathbf{#1}}\\left[\\left\\{x : -\\frac{\\sqrt{-8 \\, t^{2} + 1} - 1}{4 \\, t^{2}}, y : -\\frac{\\sqrt{-8 \\, t^{2} + 1} - 1}{4 \\, t^{2}}\\right\\}, \\left\\{x : \\frac{\\sqrt{-8 \\, t^{2} + 1} + 1}{4 \\, t^{2}}, y : \\frac{\\sqrt{-8 \\, t^{2} + 1} + 1}{4 \\, t^{2}}\\right\\}, \\left\\{x : -1, y : \\frac{1}{t^{2}}\\right\\}\\right]</script></html>"
      ],
      "text/plain": [
       "[{x: -1/4*(sqrt(-8*t^2 + 1) - 1)/t^2, y: -1/4*(sqrt(-8*t^2 + 1) - 1)/t^2},\n",
       " {x: 1/4*(sqrt(-8*t^2 + 1) + 1)/t^2, y: 1/4*(sqrt(-8*t^2 + 1) + 1)/t^2},\n",
       " {x: -1, y: t^(-2)}]"
      ]
     },
     "metadata": {},
     "output_type": "display_data"
    }
   ],
   "source": [
    "solset = solve(system, x,y, solution_dict=True)\n",
    "solset\n",
    "pretty_print(solset)"
   ]
  },
  {
   "cell_type": "code",
   "execution_count": 35,
   "metadata": {},
   "outputs": [
    {
     "data": {
      "text/html": [
       "<html><script type=\"math/tex; mode=display\">\\newcommand{\\Bold}[1]{\\mathbf{#1}}\\frac{1}{x} = -2 \\, t^{2} y + 1</script></html>"
      ],
      "text/plain": [
       "(1/x) == -2*t^2*y + 1"
      ]
     },
     "metadata": {},
     "output_type": "display_data"
    },
    {
     "data": {
      "text/html": [
       "<html><script type=\"math/tex; mode=display\">\\newcommand{\\Bold}[1]{\\mathbf{#1}}\\frac{1}{y} = -t^{2} {\\left(x + y\\right)} + 1</script></html>"
      ],
      "text/plain": [
       "(1/y) == -t^2*(x + y) + 1"
      ]
     },
     "metadata": {},
     "output_type": "display_data"
    },
    {
     "data": {
      "text/html": [
       "<html><script type=\"math/tex; mode=display\">\\newcommand{\\Bold}[1]{\\mathbf{#1}}\\frac{1}{x} - \\frac{2}{y} = 2 \\, t^{2} x - 1</script></html>"
      ],
      "text/plain": [
       "1/x - 2/y == 2*t^2*x - 1"
      ]
     },
     "metadata": {},
     "output_type": "display_data"
    },
    {
     "data": {
      "text/html": [
       "<html><script type=\"math/tex; mode=display\">\\newcommand{\\Bold}[1]{\\mathbf{#1}}\\frac{2 \\, x}{y} = -2 \\, t^{2} x^{2} + x + 1</script></html>"
      ],
      "text/plain": [
       "2*x/y == -2*t^2*x^2 + x + 1"
      ]
     },
     "metadata": {},
     "output_type": "display_data"
    }
   ],
   "source": [
    "# Equations to test on each solution\n",
    "eqnstest = [x^-1==1-2*t^2*y, y^-1==1-t^2*(x+y), x^-1-2*y^-1==2*t^2*x-1, 2*x*y^-1==(1+x-2*t^2*x^2)]\n",
    "\n",
    "for eqn in eqnstest:\n",
    "    pretty_print(eqn)"
   ]
  },
  {
   "cell_type": "code",
   "execution_count": 36,
   "metadata": {},
   "outputs": [
    {
     "data": {
      "text/html": [
       "<html><script type=\"math/tex; mode=display\">\\newcommand{\\Bold}[1]{\\mathbf{#1}}\\frac{1}{x} = -2 \\, t^{2} y + 1  \\left\\{x : -\\frac{\\sqrt{-8 \\, t^{2} + 1} - 1}{4 \\, t^{2}}, y : -\\frac{\\sqrt{-8 \\, t^{2} + 1} - 1}{4 \\, t^{2}}\\right\\} \\verb|Is|\\phantom{\\verb!x!}\\verb|solution:| \\mathrm{True}</script></html>"
      ],
      "text/plain": [
       "(1/x) == -2*t^2*y + 1 ' ' {x: -1/4*(sqrt(-8*t^2 + 1) - 1)/t^2, y: -1/4*(sqrt(-8*t^2 + 1) - 1)/t^2} 'Is solution:' True"
      ]
     },
     "metadata": {},
     "output_type": "display_data"
    },
    {
     "data": {
      "text/html": [
       "<html><script type=\"math/tex; mode=display\">\\newcommand{\\Bold}[1]{\\mathbf{#1}}\\frac{1}{x} = -2 \\, t^{2} y + 1  \\left\\{x : \\frac{\\sqrt{-8 \\, t^{2} + 1} + 1}{4 \\, t^{2}}, y : \\frac{\\sqrt{-8 \\, t^{2} + 1} + 1}{4 \\, t^{2}}\\right\\} \\verb|Is|\\phantom{\\verb!x!}\\verb|solution:| \\mathrm{True}</script></html>"
      ],
      "text/plain": [
       "(1/x) == -2*t^2*y + 1 ' ' {x: 1/4*(sqrt(-8*t^2 + 1) + 1)/t^2, y: 1/4*(sqrt(-8*t^2 + 1) + 1)/t^2} 'Is solution:' True"
      ]
     },
     "metadata": {},
     "output_type": "display_data"
    },
    {
     "data": {
      "text/html": [
       "<html><script type=\"math/tex; mode=display\">\\newcommand{\\Bold}[1]{\\mathbf{#1}}\\frac{1}{x} = -2 \\, t^{2} y + 1  \\left\\{x : -1, y : \\frac{1}{t^{2}}\\right\\} \\verb|Is|\\phantom{\\verb!x!}\\verb|solution:| \\mathrm{True}</script></html>"
      ],
      "text/plain": [
       "(1/x) == -2*t^2*y + 1 ' ' {x: -1, y: t^(-2)} 'Is solution:' True"
      ]
     },
     "metadata": {},
     "output_type": "display_data"
    },
    {
     "data": {
      "text/html": [
       "<html><script type=\"math/tex; mode=display\">\\newcommand{\\Bold}[1]{\\mathbf{#1}}\\frac{1}{y} = -t^{2} {\\left(x + y\\right)} + 1  \\left\\{x : -\\frac{\\sqrt{-8 \\, t^{2} + 1} - 1}{4 \\, t^{2}}, y : -\\frac{\\sqrt{-8 \\, t^{2} + 1} - 1}{4 \\, t^{2}}\\right\\} \\verb|Is|\\phantom{\\verb!x!}\\verb|solution:| \\mathrm{True}</script></html>"
      ],
      "text/plain": [
       "(1/y) == -t^2*(x + y) + 1 ' ' {x: -1/4*(sqrt(-8*t^2 + 1) - 1)/t^2, y: -1/4*(sqrt(-8*t^2 + 1) - 1)/t^2} 'Is solution:' True"
      ]
     },
     "metadata": {},
     "output_type": "display_data"
    },
    {
     "data": {
      "text/html": [
       "<html><script type=\"math/tex; mode=display\">\\newcommand{\\Bold}[1]{\\mathbf{#1}}\\frac{1}{y} = -t^{2} {\\left(x + y\\right)} + 1  \\left\\{x : \\frac{\\sqrt{-8 \\, t^{2} + 1} + 1}{4 \\, t^{2}}, y : \\frac{\\sqrt{-8 \\, t^{2} + 1} + 1}{4 \\, t^{2}}\\right\\} \\verb|Is|\\phantom{\\verb!x!}\\verb|solution:| \\mathrm{True}</script></html>"
      ],
      "text/plain": [
       "(1/y) == -t^2*(x + y) + 1 ' ' {x: 1/4*(sqrt(-8*t^2 + 1) + 1)/t^2, y: 1/4*(sqrt(-8*t^2 + 1) + 1)/t^2} 'Is solution:' True"
      ]
     },
     "metadata": {},
     "output_type": "display_data"
    },
    {
     "data": {
      "text/html": [
       "<html><script type=\"math/tex; mode=display\">\\newcommand{\\Bold}[1]{\\mathbf{#1}}\\frac{1}{y} = -t^{2} {\\left(x + y\\right)} + 1  \\left\\{x : -1, y : \\frac{1}{t^{2}}\\right\\} \\verb|Is|\\phantom{\\verb!x!}\\verb|solution:| \\mathrm{True}</script></html>"
      ],
      "text/plain": [
       "(1/y) == -t^2*(x + y) + 1 ' ' {x: -1, y: t^(-2)} 'Is solution:' True"
      ]
     },
     "metadata": {},
     "output_type": "display_data"
    },
    {
     "data": {
      "text/html": [
       "<html><script type=\"math/tex; mode=display\">\\newcommand{\\Bold}[1]{\\mathbf{#1}}\\frac{1}{x} - \\frac{2}{y} = 2 \\, t^{2} x - 1  \\left\\{x : -\\frac{\\sqrt{-8 \\, t^{2} + 1} - 1}{4 \\, t^{2}}, y : -\\frac{\\sqrt{-8 \\, t^{2} + 1} - 1}{4 \\, t^{2}}\\right\\} \\verb|Is|\\phantom{\\verb!x!}\\verb|solution:| \\mathrm{True}</script></html>"
      ],
      "text/plain": [
       "1/x - 2/y == 2*t^2*x - 1 ' ' {x: -1/4*(sqrt(-8*t^2 + 1) - 1)/t^2, y: -1/4*(sqrt(-8*t^2 + 1) - 1)/t^2} 'Is solution:' True"
      ]
     },
     "metadata": {},
     "output_type": "display_data"
    },
    {
     "data": {
      "text/html": [
       "<html><script type=\"math/tex; mode=display\">\\newcommand{\\Bold}[1]{\\mathbf{#1}}\\frac{1}{x} - \\frac{2}{y} = 2 \\, t^{2} x - 1  \\left\\{x : \\frac{\\sqrt{-8 \\, t^{2} + 1} + 1}{4 \\, t^{2}}, y : \\frac{\\sqrt{-8 \\, t^{2} + 1} + 1}{4 \\, t^{2}}\\right\\} \\verb|Is|\\phantom{\\verb!x!}\\verb|solution:| \\mathrm{True}</script></html>"
      ],
      "text/plain": [
       "1/x - 2/y == 2*t^2*x - 1 ' ' {x: 1/4*(sqrt(-8*t^2 + 1) + 1)/t^2, y: 1/4*(sqrt(-8*t^2 + 1) + 1)/t^2} 'Is solution:' True"
      ]
     },
     "metadata": {},
     "output_type": "display_data"
    },
    {
     "data": {
      "text/html": [
       "<html><script type=\"math/tex; mode=display\">\\newcommand{\\Bold}[1]{\\mathbf{#1}}\\frac{1}{x} - \\frac{2}{y} = 2 \\, t^{2} x - 1  \\left\\{x : -1, y : \\frac{1}{t^{2}}\\right\\} \\verb|Is|\\phantom{\\verb!x!}\\verb|solution:| \\mathrm{True}</script></html>"
      ],
      "text/plain": [
       "1/x - 2/y == 2*t^2*x - 1 ' ' {x: -1, y: t^(-2)} 'Is solution:' True"
      ]
     },
     "metadata": {},
     "output_type": "display_data"
    },
    {
     "data": {
      "text/html": [
       "<html><script type=\"math/tex; mode=display\">\\newcommand{\\Bold}[1]{\\mathbf{#1}}\\frac{2 \\, x}{y} = -2 \\, t^{2} x^{2} + x + 1  \\left\\{x : -\\frac{\\sqrt{-8 \\, t^{2} + 1} - 1}{4 \\, t^{2}}, y : -\\frac{\\sqrt{-8 \\, t^{2} + 1} - 1}{4 \\, t^{2}}\\right\\} \\verb|Is|\\phantom{\\verb!x!}\\verb|solution:| \\mathrm{True}</script></html>"
      ],
      "text/plain": [
       "2*x/y == -2*t^2*x^2 + x + 1 ' ' {x: -1/4*(sqrt(-8*t^2 + 1) - 1)/t^2, y: -1/4*(sqrt(-8*t^2 + 1) - 1)/t^2} 'Is solution:' True"
      ]
     },
     "metadata": {},
     "output_type": "display_data"
    },
    {
     "data": {
      "text/html": [
       "<html><script type=\"math/tex; mode=display\">\\newcommand{\\Bold}[1]{\\mathbf{#1}}\\frac{2 \\, x}{y} = -2 \\, t^{2} x^{2} + x + 1  \\left\\{x : \\frac{\\sqrt{-8 \\, t^{2} + 1} + 1}{4 \\, t^{2}}, y : \\frac{\\sqrt{-8 \\, t^{2} + 1} + 1}{4 \\, t^{2}}\\right\\} \\verb|Is|\\phantom{\\verb!x!}\\verb|solution:| \\mathrm{True}</script></html>"
      ],
      "text/plain": [
       "2*x/y == -2*t^2*x^2 + x + 1 ' ' {x: 1/4*(sqrt(-8*t^2 + 1) + 1)/t^2, y: 1/4*(sqrt(-8*t^2 + 1) + 1)/t^2} 'Is solution:' True"
      ]
     },
     "metadata": {},
     "output_type": "display_data"
    },
    {
     "data": {
      "text/html": [
       "<html><script type=\"math/tex; mode=display\">\\newcommand{\\Bold}[1]{\\mathbf{#1}}\\frac{2 \\, x}{y} = -2 \\, t^{2} x^{2} + x + 1  \\left\\{x : -1, y : \\frac{1}{t^{2}}\\right\\} \\verb|Is|\\phantom{\\verb!x!}\\verb|solution:| \\mathrm{True}</script></html>"
      ],
      "text/plain": [
       "2*x/y == -2*t^2*x^2 + x + 1 ' ' {x: -1, y: t^(-2)} 'Is solution:' True"
      ]
     },
     "metadata": {},
     "output_type": "display_data"
    }
   ],
   "source": [
    "for eqn in eqnstest:\n",
    "    for sol in solset:\n",
    "        pretty_print(eqn,' ',sol,'Is solution:', bool(eqn(x=sol[x],y=sol[y])))\n",
    "    "
   ]
  },
  {
   "cell_type": "code",
   "execution_count": 52,
   "metadata": {},
   "outputs": [
    {
     "data": {
      "text/html": [
       "<html><script type=\"math/tex; mode=display\">\\newcommand{\\Bold}[1]{\\mathbf{#1}}\\eta_y(t,z)= 2 \\, t^{4} z^{3} - 3 \\, t^{2} z^{2} + {\\left(t^{2} + 1\\right)} z - 1</script></html>"
      ],
      "text/plain": [
       "\\eta_y(t,z)= 2*t^4*z^3 - 3*t^2*z^2 + (t^2 + 1)*z - 1"
      ]
     },
     "metadata": {},
     "output_type": "display_data"
    },
    {
     "data": {
      "text/html": [
       "<html><script type=\"math/tex; mode=display\">\\newcommand{\\Bold}[1]{\\mathbf{#1}}y= -\\frac{\\sqrt{-8 \\, t^{2} + 1} - 1}{4 \\, t^{2}} \\phantom{\\verb!x!}\\verb|root|\\phantom{\\verb!x!}\\verb|of|\\phantom{\\verb!x!}\\verb|etay:| \\mathrm{True}</script></html>"
      ],
      "text/plain": [
       "y= -1/4*(sqrt(-8*t^2 + 1) - 1)/t^2 ' root of etay: ' True"
      ]
     },
     "metadata": {},
     "output_type": "display_data"
    },
    {
     "data": {
      "text/html": [
       "<html><script type=\"math/tex; mode=display\">\\newcommand{\\Bold}[1]{\\mathbf{#1}}y= \\frac{\\sqrt{-8 \\, t^{2} + 1} + 1}{4 \\, t^{2}} \\phantom{\\verb!x!}\\verb|root|\\phantom{\\verb!x!}\\verb|of|\\phantom{\\verb!x!}\\verb|etay:| \\mathrm{True}</script></html>"
      ],
      "text/plain": [
       "y= 1/4*(sqrt(-8*t^2 + 1) + 1)/t^2 ' root of etay: ' True"
      ]
     },
     "metadata": {},
     "output_type": "display_data"
    },
    {
     "data": {
      "text/html": [
       "<html><script type=\"math/tex; mode=display\">\\newcommand{\\Bold}[1]{\\mathbf{#1}}y= \\frac{1}{t^{2}} \\phantom{\\verb!x!}\\verb|root|\\phantom{\\verb!x!}\\verb|of|\\phantom{\\verb!x!}\\verb|etay:| \\mathrm{True}</script></html>"
      ],
      "text/plain": [
       "y= t^(-2) ' root of etay: ' True"
      ]
     },
     "metadata": {},
     "output_type": "display_data"
    }
   ],
   "source": [
    "# test if y is a root of eta_y for each y is the solution set\n",
    "\n",
    "eta_y = 2*t^4*z^3-3*t^2*z^2+(1+t^2)*z-1\n",
    "pretty_print(LatexExpr('\\\\eta_y(t,z)='),eta_y)\n",
    "\n",
    "for sol in solset:\n",
    "    pretty_print(LatexExpr('y='),sol[y],' root of etay: ', bool(eta_y(z=sol[y])==0))\n",
    "\n"
   ]
  },
  {
   "cell_type": "code",
   "execution_count": 60,
   "metadata": {},
   "outputs": [
    {
     "data": {
      "text/html": [
       "<html><script type=\"math/tex; mode=display\">\\newcommand{\\Bold}[1]{\\mathbf{#1}}x = -\\frac{\\sqrt{-8 \\, t^{2} + 1} - 1}{4 \\, t^{2}} \\verb|\t| \\:\\,\\, y = -\\frac{\\sqrt{-8 \\, t^{2} + 1} - 1}{4 \\, t^{2}}</script></html>"
      ],
      "text/plain": [
       "x == -1/4*(sqrt(-8*t^2 + 1) - 1)/t^2 '\\t' \\:\\,\\, y == -1/4*(sqrt(-8*t^2 + 1) - 1)/t^2"
      ]
     },
     "metadata": {},
     "output_type": "display_data"
    }
   ],
   "source": [
    "# take first solution ONLY. Need the expression converging as t tends to 0\n",
    "\n",
    "s = solset[0]\n",
    "sx,sy = s[x],s[y]\n",
    "\n",
    "pretty_print(x==sx,'\\t',LatexExpr(r'\\:\\,\\,'),y==sy)\n"
   ]
  },
  {
   "cell_type": "code",
   "execution_count": 65,
   "metadata": {},
   "outputs": [
    {
     "data": {
      "text/html": [
       "<html><script type=\"math/tex; mode=display\">\\newcommand{\\Bold}[1]{\\mathbf{#1}}u = t^{2} {\\left(x + 2 \\, y\\right)} + 1</script></html>"
      ],
      "text/plain": [
       "u == t^2*(x + 2*y) + 1"
      ]
     },
     "metadata": {},
     "output_type": "display_data"
    },
    {
     "data": {
      "text/html": [
       "<html><script type=\"math/tex; mode=display\">\\newcommand{\\Bold}[1]{\\mathbf{#1}}u = -\\frac{3}{4} \\, \\sqrt{-8 \\, t^{2} + 1} + \\frac{7}{4}</script></html>"
      ],
      "text/plain": [
       "u == -3/4*sqrt(-8*t^2 + 1) + 7/4"
      ]
     },
     "metadata": {},
     "output_type": "display_data"
    }
   ],
   "source": [
    "## solve for u (F_{1,\\{1\\}}(t))\n",
    "\n",
    "su = 1+t^2*(x+2*y)\n",
    "pretty_print(u==su)\n",
    "\n",
    "su = su(x=sx,y=sy)\n",
    "pretty_print(u==su)\n"
   ]
  },
  {
   "cell_type": "code",
   "execution_count": 73,
   "metadata": {},
   "outputs": [
    {
     "data": {
      "text/html": [
       "<html><script type=\"math/tex; mode=display\">\\newcommand{\\Bold}[1]{\\mathbf{#1}}4 \\, t^{4} y^{2} - 2 \\, t^{2} u y - t^{2} + u - 1</script></html>"
      ],
      "text/plain": [
       "4*t^4*y^2 - 2*t^2*u*y - t^2 + u - 1"
      ]
     },
     "metadata": {},
     "output_type": "display_data"
    },
    {
     "data": {
      "text/plain": [
       "True"
      ]
     },
     "execution_count": 73,
     "metadata": {},
     "output_type": "execute_result"
    }
   ],
   "source": [
    "\n",
    "p= 4*t^4*y^2+(-2*t^2*u)*y+(-1-t^2+u)\n",
    "pretty_print(p)\n",
    "bool(p(u=su,y=sy)==0) # solution should be a root of p"
   ]
  },
  {
   "cell_type": "code",
   "execution_count": 110,
   "metadata": {},
   "outputs": [
    {
     "data": {
      "text/html": [
       "<html><script type=\"math/tex; mode=display\">\\newcommand{\\Bold}[1]{\\mathbf{#1}}4 \\, t^{2} + {\\left(z - 2\\right)}^{2}</script></html>"
      ],
      "text/plain": [
       "4*t^2 + (z - 2)^2"
      ]
     },
     "metadata": {},
     "output_type": "display_data"
    },
    {
     "data": {
      "text/html": [
       "<html><script type=\"math/tex; mode=display\">\\newcommand{\\Bold}[1]{\\mathbf{#1}}\\frac{z - \\sqrt{4 \\, t^{2} + {\\left(z - 2\\right)}^{2}}}{4 \\, t^{2}}</script></html>"
      ],
      "text/plain": [
       "1/4*(z - sqrt(4*t^2 + (z - 2)^2))/t^2"
      ]
     },
     "metadata": {},
     "output_type": "display_data"
    },
    {
     "name": "stdout",
     "output_type": "stream",
     "text": [
      "True\n"
     ]
    }
   ],
   "source": [
    "dis = (z-2)^2+4*t^2\n",
    "pretty_print(dis)\n",
    "\n",
    "tau_of_z = 1/4/t^2*(z-sqrt(dis))\n",
    "\n",
    "pretty_print(tau_of_z)\n",
    "\n",
    "print(bool(p(u=z,y=tau_of_z)==0))\n"
   ]
  },
  {
   "cell_type": "code",
   "execution_count": 123,
   "metadata": {},
   "outputs": [
    {
     "data": {
      "text/html": [
       "<html><script type=\"math/tex; mode=display\">\\newcommand{\\Bold}[1]{\\mathbf{#1}}\\frac{5}{8} \\, z + \\frac{z^{3}}{8 \\, t^{2}} - \\frac{1}{4} \\, \\sqrt{4 \\, t^{2} + z^{2} - 4 \\, z + 4} - \\frac{3 \\, \\sqrt{4 \\, t^{2} + z^{2} - 4 \\, z + 4} z^{2}}{32 \\, t^{2}} - \\frac{3 \\, z^{2}}{4 \\, t^{2}} - \\frac{{\\left(4 \\, t^{2} + z^{2} - 4 \\, z + 4\\right)}^{\\frac{3}{2}}}{32 \\, t^{2}} + \\frac{3 \\, \\sqrt{4 \\, t^{2} + z^{2} - 4 \\, z + 4} z}{8 \\, t^{2}} + \\frac{11 \\, z}{8 \\, t^{2}} - \\frac{\\sqrt{4 \\, t^{2} + z^{2} - 4 \\, z + 4}}{4 \\, t^{2}} - \\frac{3}{4 \\, t^{2}} - \\frac{7}{4}</script></html>"
      ],
      "text/plain": [
       "5/8*z + 1/8*z^3/t^2 - 1/4*sqrt(4*t^2 + z^2 - 4*z + 4) - 3/32*sqrt(4*t^2 + z^2 - 4*z + 4)*z^2/t^2 - 3/4*z^2/t^2 - 1/32*(4*t^2 + z^2 - 4*z + 4)^(3/2)/t^2 + 3/8*sqrt(4*t^2 + z^2 - 4*z + 4)*z/t^2 + 11/8*z/t^2 - 1/4*sqrt(4*t^2 + z^2 - 4*z + 4)/t^2 - 3/4/t^2 - 7/4"
      ]
     },
     "metadata": {},
     "output_type": "display_data"
    },
    {
     "data": {
      "text/html": [
       "<html><script type=\"math/tex; mode=display\">\\newcommand{\\Bold}[1]{\\mathbf{#1}}-\\frac{3 \\, {\\left(20 \\, t^{2} - {\\left(4 \\, t^{2} - \\sqrt{-8 \\, t^{2} + 1} + 1\\right)} \\sqrt{-8 \\, t^{2} + 6 \\, \\sqrt{-8 \\, t^{2} + 1} + 10} + 2 \\, {\\left(2 \\, t^{2} - 1\\right)} \\sqrt{-8 \\, t^{2} + 1} + 2\\right)}}{256 \\, t^{2}}</script></html>"
      ],
      "text/plain": [
       "-3/256*(20*t^2 - (4*t^2 - sqrt(-8*t^2 + 1) + 1)*sqrt(-8*t^2 + 6*sqrt(-8*t^2 + 1) + 10) + 2*(2*t^2 - 1)*sqrt(-8*t^2 + 1) + 2)/t^2"
      ]
     },
     "metadata": {},
     "output_type": "display_data"
    },
    {
     "name": "stdout",
     "output_type": "stream",
     "text": [
      "False\n"
     ]
    }
   ],
   "source": [
    "rootu = eta_y(z=tau_of_z) # function with the value of u (su) as a root \n",
    "rootu = expand(rootu)\n",
    "pretty_print(rootu)\n",
    "\n",
    "pretty_print(rootu(z=su).simplify_full())\n",
    "\n",
    "print(bool(rootu(z=su)==0)) # issue with sqrt and +-\n",
    "# the sqrt(... +6sqrt(...)+...) factor can be simplified with some >=0 assumption\n",
    "# but sage can't see it.\n",
    "# in fact, let x = sqrt(-8*t^2+1), the given expression simplifies to 0.\n"
   ]
  },
  {
   "cell_type": "code",
   "execution_count": 115,
   "metadata": {},
   "outputs": [],
   "source": [
    "# observe LCD of 32*t^2. Let's multiply by it\n",
    "rootu = rootu*32*t^2"
   ]
  },
  {
   "cell_type": "code",
   "execution_count": 116,
   "metadata": {},
   "outputs": [
    {
     "name": "stdout",
     "output_type": "stream",
     "text": [
      "4*z^3 - 56*t^2 + 4*(5*t^2 + 11)*z - 24*z^2 - 4*sqrt(4*t^2 + z^2 - 4*z + 4)*(3*t^2 + z^2 - 4*z + 3) - 24\n"
     ]
    },
    {
     "data": {
      "text/html": [
       "<html><script type=\"math/tex; mode=display\">\\newcommand{\\Bold}[1]{\\mathbf{#1}}4 \\, z^{3} - 56 \\, t^{2} + 4 \\, {\\left(5 \\, t^{2} + 11\\right)} z - 24 \\, z^{2} - 4 \\, \\sqrt{4 \\, t^{2} + z^{2} - 4 \\, z + 4} {\\left(3 \\, t^{2} + z^{2} - 4 \\, z + 3\\right)} - 24</script></html>"
      ],
      "text/plain": [
       "4*z^3 - 56*t^2 + 4*(5*t^2 + 11)*z - 24*z^2 - 4*sqrt(4*t^2 + z^2 - 4*z + 4)*(3*t^2 + z^2 - 4*z + 3) - 24"
      ]
     },
     "metadata": {},
     "output_type": "display_data"
    }
   ],
   "source": [
    "rootu = expand(rootu).simplify_full()\n",
    "print(rootu)\n",
    "pretty_print(rootu)"
   ]
  },
  {
   "cell_type": "code",
   "execution_count": 126,
   "metadata": {},
   "outputs": [
    {
     "data": {
      "text/html": [
       "<html><script type=\"math/tex; mode=display\">\\newcommand{\\Bold}[1]{\\mathbf{#1}}4 \\, z^{3} - 56 \\, t^{2} + 4 \\, {\\left(5 \\, t^{2} + 11\\right)} z - 24 \\, z^{2} - 24</script></html>"
      ],
      "text/plain": [
       "4*z^3 - 56*t^2 + 4*(5*t^2 + 11)*z - 24*z^2 - 24"
      ]
     },
     "metadata": {},
     "output_type": "display_data"
    },
    {
     "data": {
      "text/html": [
       "<html><script type=\"math/tex; mode=display\">\\newcommand{\\Bold}[1]{\\mathbf{#1}}-12 \\, t^{2} - 4 \\, z^{2} + 16 \\, z - 12</script></html>"
      ],
      "text/plain": [
       "-12*t^2 - 4*z^2 + 16*z - 12"
      ]
     },
     "metadata": {},
     "output_type": "display_data"
    },
    {
     "name": "stdout",
     "output_type": "stream",
     "text": [
      "False\n"
     ]
    }
   ],
   "source": [
    "# find a,b so that rootu = a+b*sqrt(dis) \n",
    "\n",
    "a= 4*z^3 - 56*t^2 + 4*(5*t^2 + 11)*z - 24*z^2 - 24\n",
    "b = -4*(3*t^2 + z^2 - 4*z + 3)\n",
    "\n",
    "pretty_print(a)\n",
    "pretty_print(b)\n",
    "\n",
    "# sanity check\n",
    "print(bool(rootu == a+b*sqrt(dis)))\n"
   ]
  },
  {
   "cell_type": "code",
   "execution_count": 127,
   "metadata": {},
   "outputs": [
    {
     "data": {
      "text/html": [
       "<html><script type=\"math/tex; mode=display\">\\newcommand{\\Bold}[1]{\\mathbf{#1}}\\eta_u= \\frac{1}{8} \\, {\\left(z^{3} - 14 \\, t^{2} + {\\left(5 \\, t^{2} + 11\\right)} z - 6 \\, z^{2} + \\sqrt{4 \\, t^{2} + {\\left(z - 2\\right)}^{2}} {\\left(3 \\, t^{2} + z^{2} - 4 \\, z + 3\\right)} - 6\\right)} {\\left(20 \\, z + \\frac{4 \\, z^{3}}{t^{2}} - 8 \\, \\sqrt{4 \\, t^{2} + z^{2} - 4 \\, z + 4} - \\frac{3 \\, \\sqrt{4 \\, t^{2} + z^{2} - 4 \\, z + 4} z^{2}}{t^{2}} - \\frac{24 \\, z^{2}}{t^{2}} - \\frac{{\\left(4 \\, t^{2} + z^{2} - 4 \\, z + 4\\right)}^{\\frac{3}{2}}}{t^{2}} + \\frac{12 \\, \\sqrt{4 \\, t^{2} + z^{2} - 4 \\, z + 4} z}{t^{2}} + \\frac{44 \\, z}{t^{2}} - \\frac{8 \\, \\sqrt{4 \\, t^{2} + z^{2} - 4 \\, z + 4}}{t^{2}} - \\frac{24}{t^{2}} - 56\\right)}</script></html>"
      ],
      "text/plain": [
       "\\eta_u= 1/8*(z^3 - 14*t^2 + (5*t^2 + 11)*z - 6*z^2 + sqrt(4*t^2 + (z - 2)^2)*(3*t^2 + z^2 - 4*z + 3) - 6)*(20*z + 4*z^3/t^2 - 8*sqrt(4*t^2 + z^2 - 4*z + 4) - 3*sqrt(4*t^2 + z^2 - 4*z + 4)*z^2/t^2 - 24*z^2/t^2 - (4*t^2 + z^2 - 4*z + 4)^(3/2)/t^2 + 12*sqrt(4*t^2 + z^2 - 4*z + 4)*z/t^2 + 44*z/t^2 - 8*sqrt(4*t^2 + z^2 - 4*z + 4)/t^2 - 24/t^2 - 56)"
      ]
     },
     "metadata": {},
     "output_type": "display_data"
    },
    {
     "data": {
      "text/html": [
       "<html><script type=\"math/tex; mode=display\">\\newcommand{\\Bold}[1]{\\mathbf{#1}}\\eta_u= -18 \\, t^{4} - 2 \\, {\\left(2 \\, t^{2} - 13\\right)} z^{2} - 4 \\, z^{3} + 44 \\, t^{2} - 4 \\, {\\left(t^{2} + 13\\right)} z + 30</script></html>"
      ],
      "text/plain": [
       "\\eta_u= -18*t^4 - 2*(2*t^2 - 13)*z^2 - 4*z^3 + 44*t^2 - 4*(t^2 + 13)*z + 30"
      ]
     },
     "metadata": {},
     "output_type": "display_data"
    },
    {
     "name": "stdout",
     "output_type": "stream",
     "text": [
      "True\n"
     ]
    }
   ],
   "source": [
    "# polynnomial with u as a root (multiply by conjugate)\n",
    "\n",
    "eta_u = rootu*(a-b*sqrt(dis))\n",
    "pretty_print(LatexExpr('\\\\eta_u='),eta_u)\n",
    "\n",
    "eta_u=eta_u.simplify_full()\n",
    "pretty_print(LatexExpr('\\\\eta_u='),eta_u)\n",
    "\n",
    "print(bool(eta_u(z=su)==0))\n"
   ]
  },
  {
   "cell_type": "code",
   "execution_count": 128,
   "metadata": {},
   "outputs": [
    {
     "data": {
      "text/plain": [
       "True"
      ]
     },
     "execution_count": 128,
     "metadata": {},
     "output_type": "execute_result"
    }
   ],
   "source": [
    "eta_u==-4*z^3-2*(2*t^2-13)*z^2-4*(t^2+13)*z-2*(9*t^2+5)*(t^2-3)\n",
    "bool(_)"
   ]
  },
  {
   "cell_type": "code",
   "execution_count": 130,
   "metadata": {},
   "outputs": [
    {
     "data": {
      "text/html": [
       "<html><script type=\"math/tex; mode=display\">\\newcommand{\\Bold}[1]{\\mathbf{#1}}-18 \\, t^{4} - 2 \\, {\\left(2 \\, t^{2} - 1\\right)} z^{2} + 4 \\, z^{3} + 20 \\, t^{2} + 4 \\, {\\left(5 \\, t^{2} - 1\\right)} z - 2</script></html>"
      ],
      "text/plain": [
       "-18*t^4 - 2*(2*t^2 - 1)*z^2 + 4*z^3 + 20*t^2 + 4*(5*t^2 - 1)*z - 2"
      ]
     },
     "metadata": {},
     "output_type": "display_data"
    }
   ],
   "source": [
    "# polynomial for inverse excursion function.\n",
    "\n",
    "pf_inv = eta_u(z=2-z)\n",
    "pf_inv=pf_inv.simplify_full()\n",
    "\n",
    "pretty_print(pf_inv)\n"
   ]
  },
  {
   "cell_type": "code",
   "execution_count": 132,
   "metadata": {},
   "outputs": [
    {
     "data": {
      "text/html": [
       "<html><script type=\"math/tex; mode=display\">\\newcommand{\\Bold}[1]{\\mathbf{#1}}-2 \\, {\\left(9 \\, t^{4} - 10 \\, t^{2} + 1\\right)} z^{3} + 4 \\, {\\left(5 \\, t^{2} - 1\\right)} z^{2} - 2 \\, {\\left(2 \\, t^{2} - 1\\right)} z + 4</script></html>"
      ],
      "text/plain": [
       "-2*(9*t^4 - 10*t^2 + 1)*z^3 + 4*(5*t^2 - 1)*z^2 - 2*(2*t^2 - 1)*z + 4"
      ]
     },
     "metadata": {},
     "output_type": "display_data"
    }
   ],
   "source": [
    "# reverse coefs to get excursion function satisfying polynomial\n",
    "d = pf_inv.degree(z)\n",
    "pf = pf_inv(z=z^-1)*z^d\n",
    "pf=  pf.simplify_full()\n",
    "pretty_print(pf)"
   ]
  },
  {
   "cell_type": "code",
   "execution_count": 138,
   "metadata": {},
   "outputs": [
    {
     "data": {
      "text/html": [
       "<html><script type=\"math/tex; mode=display\">\\newcommand{\\Bold}[1]{\\mathbf{#1}}\\left[z = -\\frac{3 \\, \\sqrt{-8 \\, t^{2} + 1} - 1}{2 \\, {\\left(9 \\, t^{2} - 1\\right)}}, z = \\frac{3 \\, \\sqrt{-8 \\, t^{2} + 1} + 1}{2 \\, {\\left(9 \\, t^{2} - 1\\right)}}, z = \\frac{1}{t^{2} - 1}\\right]</script></html>"
      ],
      "text/plain": [
       "[z == -1/2*(3*sqrt(-8*t^2 + 1) - 1)/(9*t^2 - 1), z == 1/2*(3*sqrt(-8*t^2 + 1) + 1)/(9*t^2 - 1), z == (1/(t^2 - 1))]"
      ]
     },
     "metadata": {},
     "output_type": "display_data"
    },
    {
     "data": {
      "text/html": [
       "<html><script type=\"math/tex; mode=display\">\\newcommand{\\Bold}[1]{\\mathbf{#1}}\\lim_{t\\to0} -\\frac{3 \\, \\sqrt{-8 \\, t^{2} + 1} - 1}{2 \\, {\\left(9 \\, t^{2} - 1\\right)}} = 1</script></html>"
      ],
      "text/plain": [
       "\\lim_{t\\to0} -\\frac{3 \\, \\sqrt{-8 \\, t^{2} + 1} - 1}{2 \\, {\\left(9 \\, t^{2} - 1\\right)}} = 1"
      ]
     },
     "metadata": {},
     "output_type": "display_data"
    },
    {
     "data": {
      "text/html": [
       "<html><script type=\"math/tex; mode=display\">\\newcommand{\\Bold}[1]{\\mathbf{#1}}\\lim_{t\\to0} \\frac{3 \\, \\sqrt{-8 \\, t^{2} + 1} + 1}{2 \\, {\\left(9 \\, t^{2} - 1\\right)}} = -2</script></html>"
      ],
      "text/plain": [
       "\\lim_{t\\to0} \\frac{3 \\, \\sqrt{-8 \\, t^{2} + 1} + 1}{2 \\, {\\left(9 \\, t^{2} - 1\\right)}} = -2"
      ]
     },
     "metadata": {},
     "output_type": "display_data"
    },
    {
     "data": {
      "text/html": [
       "<html><script type=\"math/tex; mode=display\">\\newcommand{\\Bold}[1]{\\mathbf{#1}}\\lim_{t\\to0} \\frac{1}{t^{2} - 1} = -1</script></html>"
      ],
      "text/plain": [
       "\\lim_{t\\to0} \\frac{1}{t^{2} - 1} = -1"
      ]
     },
     "metadata": {},
     "output_type": "display_data"
    }
   ],
   "source": [
    "Fsols=solve(pf,z)\n",
    "pretty_print(Fsols)\n",
    "# Know that F(0)=1\n",
    "for eq in Fsols:\n",
    "    F = eq.rhs()\n",
    "    pretty_print(LatexExpr(r'\\lim_{t\\to0}'+latex(F)+'='+F.limit(t=0)))"
   ]
  },
  {
   "cell_type": "code",
   "execution_count": 139,
   "metadata": {},
   "outputs": [
    {
     "name": "stdout",
     "output_type": "stream",
     "text": [
      "final answer\n"
     ]
    },
    {
     "data": {
      "text/html": [
       "<html><script type=\"math/tex; mode=display\">\\newcommand{\\Bold}[1]{\\mathbf{#1}}-\\frac{3 \\, \\sqrt{-8 \\, t^{2} + 1} - 1}{2 \\, {\\left(9 \\, t^{2} - 1\\right)}}</script></html>"
      ],
      "text/plain": [
       "-1/2*(3*sqrt(-8*t^2 + 1) - 1)/(9*t^2 - 1)"
      ]
     },
     "metadata": {},
     "output_type": "display_data"
    }
   ],
   "source": [
    "# take first expression\n",
    "print('final answer')\n",
    "F = Fsols[0].rhs()\n",
    "pretty_print(F)"
   ]
  },
  {
   "cell_type": "code",
   "execution_count": null,
   "metadata": {},
   "outputs": [],
   "source": []
  }
 ],
 "metadata": {
  "kernelspec": {
   "display_name": "SageMath 9.0",
   "language": "sage",
   "name": "sagemath"
  },
  "language_info": {
   "codemirror_mode": {
    "name": "ipython",
    "version": 3
   },
   "file_extension": ".py",
   "mimetype": "text/x-python",
   "name": "python",
   "nbconvert_exporter": "python",
   "pygments_lexer": "ipython3",
   "version": "3.7.3"
  }
 },
 "nbformat": 4,
 "nbformat_minor": 2
}
