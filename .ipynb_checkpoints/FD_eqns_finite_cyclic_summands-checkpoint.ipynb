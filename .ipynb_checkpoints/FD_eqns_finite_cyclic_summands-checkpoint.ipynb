{
 "cells": [
  {
   "cell_type": "markdown",
   "metadata": {},
   "source": [
    "# Function Dependency Equations for Free Product of Finite Cyclic Groups.\n",
    "\n",
    "Consider $G=*_{i=1}^k G_i$, $G_i=\\langle x_i| x_i^{n_i}=1 \\rangle \\cong \\mathbb{Z}_{n_i}$, where $n_i \\in \\mathbb{Z}_{\\ge2}$. \n",
    "Take the generating set $S=\\bigcup_{i=1}^k S_i$ for $G$, where \n",
    "$S_i=\\{x_i,x_i^{-1}\\}$ if the `inv_closed` option is set to a `true` value, and $S_i=\\{x_i\\}$ otherwise.\n",
    "\n",
    "\n",
    "For $g\\in G$ and $X\\subseteq G$, let $F_{g,X}(t)$ be series for the class of all words in $S^*$ equivalent to $g\\in G$, with proper nonempty prefixes avoiding $X$, characterized by the word length. We set up functional equations involving $F_{g,X}$, for which $\\{g\\}\\cup X\\subseteq G_i$ for some $i$. \n",
    "\n",
    "Finally, we use Maple solve for $F(t):=F_{1,\\emptyset}(t)$ and find it's minimal polynomial ."
   ]
  },
  {
   "cell_type": "code",
   "execution_count": 200,
   "metadata": {},
   "outputs": [],
   "source": [
    "## Values for user to modify\n",
    "\n",
    "nis = [3,3] # the n_i values. n_i= nis[i-1].\n",
    "\n",
    "inv_closed = 1 # do we want the generating set to be inversely closed? Makes no difference if all factors have order 2\n",
    "\n"
   ]
  },
  {
   "cell_type": "code",
   "execution_count": 201,
   "metadata": {},
   "outputs": [],
   "source": [
    "## do not change!\n",
    "\n",
    "k = len(nis)\n",
    "\n",
    "# Compute free group and gen set\n",
    "Fk = FreeGroup(k,['x%d'%i for i in (1..k)])\n",
    "\n",
    "assert(list(map(str,Fk.gens()))==['x%d'%i for i in (1..k)]) # make sure that generators are named xi, i=1,...,k\n",
    "\n",
    "xs = Fk.gens() # the gens xi=xs[i-1]\n",
    "rel = []\n",
    "for v,n in zip(xs,nis):\n",
    "    rel.append(v^n)\n",
    "G = Fk/ tuple(rel)\n",
    "\n",
    "xs = G.gens()\n"
   ]
  },
  {
   "cell_type": "code",
   "execution_count": 202,
   "metadata": {},
   "outputs": [],
   "source": [
    "# let's adopt the xi notation, just in case.\n",
    "for v in xs:\n",
    "    exec('%s=v'%v)\n",
    "# now we can type out 'x1' instead of 'xs[0]' for the first generator, etc.\n",
    "assert(x1==xs[0])"
   ]
  },
  {
   "cell_type": "code",
   "execution_count": 211,
   "metadata": {},
   "outputs": [
    {
     "data": {
      "text/plain": [
       "Rewriting system of Finitely presented group < x1, x2 | x1^3, x2^3 >\n",
       "with rules:\n",
       "    x1^-2    --->    x1\n",
       "    x1^2    --->    x1^-1\n",
       "    x2^-2    --->    x2\n",
       "    x2^2    --->    x2^-1"
      ]
     },
     "execution_count": 211,
     "metadata": {},
     "output_type": "execute_result"
    }
   ],
   "source": [
    "Grs = G.rewriting_system() # a rewriting system to simplfy elements\n",
    "Grs.make_confluent() # this guarrantees that equivalent elements map to a UNIQUE expression\n",
    "\n",
    "def recmap(f):\n",
    "    # f: an single argument function\n",
    "    def _recmap_f(obj):\n",
    "        # obj: atomic element or an iterable collection of them\n",
    "        # return the reduced form for the element via a single argument function f,\n",
    "        #    of the same iterable type, with each element recursively reduced\n",
    "        try:\n",
    "            iter(obj)\n",
    "        except:\n",
    "            # not iterable, so must be one atomic element\n",
    "            return f(obj)\n",
    "        container = type(obj)\n",
    "        return container(list(map(_recmap_f, obj)))\n",
    "    return _recmap_f\n",
    "\n",
    "rd = recmap(Grs.reduce) # reduce elements of G, or iterable collections of them\n",
    "Grs"
   ]
  },
  {
   "cell_type": "code",
   "execution_count": 212,
   "metadata": {},
   "outputs": [],
   "source": [
    "Sis = []\n",
    "S = set()\n",
    "\n",
    "for i, v in enumerate(xs,1):\n",
    "    Si = Set([rd(v)])\n",
    "    if inv_closed:\n",
    "        Si = Si.union(Set([rd(v^-1)]))\n",
    "    Si = rd(Si)\n",
    "    Sis.append(Si)\n",
    "    S.update(list(Si))\n",
    "    exec('S%d=Si'%i)\n",
    "S = Set(S)"
   ]
  },
  {
   "cell_type": "code",
   "execution_count": 213,
   "metadata": {},
   "outputs": [
    {
     "data": {
      "text/plain": [
       "([{x1^-1, x1}, {x2, x2^-1}], {x2, x2^-1, x1^-1, x1})"
      ]
     },
     "execution_count": 213,
     "metadata": {},
     "output_type": "execute_result"
    }
   ],
   "source": [
    "Sis,S"
   ]
  },
  {
   "cell_type": "code",
   "execution_count": 214,
   "metadata": {},
   "outputs": [],
   "source": [
    "# latex expression for sets\n",
    "def set_to_latex(A):\n",
    "    if A == Set():\n",
    "        return r'\\varnothing'\n",
    "    return latex(A)"
   ]
  },
  {
   "cell_type": "code",
   "execution_count": 215,
   "metadata": {},
   "outputs": [],
   "source": [
    "# define a space of variables indexed by the (g,X) pairs\n",
    "# start with what we wish to solve, (1,\\emptyset).\n",
    "def series_expression(g,X):\n",
    "    return 'F_{%s,%s}(t)'%(latex(g),set_to_latex(X))\n",
    "var_space = {}\n",
    "goal_pair = (G.one(), Set())\n",
    "VAR_COUNTER = 0 # increment every time a new series variable is defined\n",
    "\n",
    "def add_series_var(pair):\n",
    "    if pair in var_space:\n",
    "        return False\n",
    "    global VAR_COUNTER\n",
    "    g,X = pair\n",
    "    var_space[pair] = var('v%d'%VAR_COUNTER, latex_name = series_expression(g,X))\n",
    "    VAR_COUNTER += 1\n",
    "    return True\n",
    "\n",
    "def reset_var_space():\n",
    "    var_space.clear()\n",
    "    add_series_var(goal_pair)\n",
    "\n",
    "reset_var_space()"
   ]
  },
  {
   "cell_type": "code",
   "execution_count": 216,
   "metadata": {},
   "outputs": [
    {
     "data": {
      "text/html": [
       "<html><script type=\"math/tex; mode=display\">\\newcommand{\\Bold}[1]{\\mathbf{#1}}\\left\\{\\left(1, \\left\\{\\right\\}\\right) : {F_{1,\\varnothing}(t)}\\right\\}</script></html>"
      ],
      "text/plain": [
       "{(1, {}): v0}"
      ]
     },
     "metadata": {},
     "output_type": "display_data"
    }
   ],
   "source": [
    "pretty_print(var_space)"
   ]
  },
  {
   "cell_type": "code",
   "execution_count": 217,
   "metadata": {},
   "outputs": [],
   "source": [
    "# need to define set-set, set-element multiplication\n",
    "def set_mult(A,B):\n",
    "    # turn any non-set object into a singleton set containing that object\n",
    "    # assume elements all belong to G, and written in reduced from\n",
    "    A,B = map(lambda S: S if S in Sets else Set([S]),[A,B])\n",
    "    C= Set([a*b for a,b in cartesian_product([A,B])]) # assuming element multiplication is well defined\n",
    "    return rd(C)\n",
    "\n",
    "# Let's overload the '*' operator for Set objects\n",
    "# Set is a function, but returns an instance of some spectifed kind of Set class, which is accessible via .parent()\n",
    "reverse_if = lambda seq, cond: list(seq) if not cond else list(reversed(seq))\n",
    "Set().parent()._mul_ =  lambda self, other, switch_sides=False: set_mult(*(reverse_if([self,other], switch_sides)))"
   ]
  },
  {
   "cell_type": "code",
   "execution_count": 218,
   "metadata": {},
   "outputs": [],
   "source": [
    "# Now get the cyclic factors\n",
    "\n",
    "\n",
    "def in_cyclic_factor(el, v):\n",
    "    '''\n",
    "        returns if the group element is in the given cyclic factor\n",
    "        el: the element in G to check\n",
    "        v: one of the xi's, the generator of the factor \n",
    "    '''\n",
    "    expr = el.syllables()\n",
    "    if not expr:\n",
    "        return True\n",
    "    return len(expr)==1 and expr[0][0] == v\n",
    "    \n",
    "def subset_of_cyclic_factor(A,v):\n",
    "    # assume A is a finite sets\n",
    "    return all((in_cyclic_factor(el,v) for el in A))"
   ]
  },
  {
   "cell_type": "code",
   "execution_count": 219,
   "metadata": {},
   "outputs": [
    {
     "data": {
      "text/plain": [
       "t"
      ]
     },
     "execution_count": 219,
     "metadata": {},
     "output_type": "execute_result"
    }
   ],
   "source": [
    "var('t')"
   ]
  },
  {
   "cell_type": "code",
   "execution_count": 220,
   "metadata": {},
   "outputs": [],
   "source": [
    "# construct the functional equation given the desired (g,X) pair\n",
    "# assume {g}\\cup X is completely in one of the cyclic factors\n",
    "# CURRENTLY FINITE CASE ONLY\n",
    "\n",
    "def get_FD_equation(pair, ret_new_pairs = True):\n",
    "    '''\n",
    "        returns a functional depency equation\n",
    "        if ret_new_pairs is set to True, return a (equation, set of (g,X) pairs) pair instead\n",
    "        assume g,X are rewritten in simplest form\n",
    "    '''\n",
    "    if ret_new_pairs:\n",
    "        newpairs = set()\n",
    "    g,X = pair\n",
    "    eqn = None\n",
    "    one = G.one()\n",
    "    oneset = Set([one])\n",
    "    if one not in X:\n",
    "        XU1 = X.union(oneset)\n",
    "        if add_series_var((one,X)) and ret_new_pairs:\n",
    "            newpairs.add((one,X))\n",
    "        if add_series_var((g,XU1)) and ret_new_pairs:\n",
    "            newpairs.add((g,XU1))\n",
    "        if g==one:\n",
    "            eqn = 1+var_space[(one,X)]*(var_space[(one,XU1)]-1)\n",
    "        else:\n",
    "            eqn = var_space[(one,X)]*var_space[(g,XU1)]\n",
    "    else:\n",
    "        for v,gen in zip(xs, Sis):\n",
    "            if subset_of_cyclic_factor(X,v):\n",
    "                if g!=one:\n",
    "                    eqn = t*ZZ(g in gen)\n",
    "                    for s in gen-X:\n",
    "                        [gs] = rd(s^-1)*Set([g]) # use set so auto reduction is implemented\n",
    "                        Xs = rd(s^-1)*X\n",
    "                        if add_series_var((gs,Xs)) and ret_new_pairs:\n",
    "                            newpairs.add((gs,Xs))\n",
    "                        eqn += t*var_space[(gs,Xs)]\n",
    "                else:\n",
    "                    eqn = 1*t^0\n",
    "                    for gen_ext in Sis:\n",
    "                        if gen_ext==gen:\n",
    "                            continue\n",
    "                        for s in gen_ext:\n",
    "                            sinv = rd(s^-1)\n",
    "                            set_sinv = Set([sinv])\n",
    "                            if add_series_var((sinv,set_sinv)) and ret_new_pairs:\n",
    "                                newpairs.add((sinv,set_sinv))\n",
    "                            eqn += t*var_space[(sinv,set_sinv)]\n",
    "                    for s in gen-X:\n",
    "                        [gs] = rd(s^-1)*Set([g]) # use set so auto reduction is implemented\n",
    "                        Xs = rd(s^-1)*X\n",
    "                        if add_series_var((gs,Xs)) and ret_new_pairs:\n",
    "                            newpairs.add((gs,Xs))\n",
    "                        eqn += t*var_space[(gs,Xs)]\n",
    "                \n",
    "                break\n",
    "    eqn = var_space[pair]==eqn\n",
    "    return (eqn,newpairs) if ret_new_pairs else eqn\n"
   ]
  },
  {
   "cell_type": "code",
   "execution_count": 221,
   "metadata": {},
   "outputs": [],
   "source": [
    "# Let us build the system of equations\n",
    "from time import time\n",
    "\n",
    "reset_var_space()\n",
    "\n",
    "system = []\n",
    "queue = [goal_pair]\n",
    "st_time = time()\n",
    "# use BFS\n",
    "while queue:\n",
    "    pair = queue.pop(0)\n",
    "    #pretty_print(pair)\n",
    "    eqn, newp = get_FD_equation(pair)\n",
    "    queue.extend(newp)\n",
    "    system.append(eqn)\n",
    "    end_time =  time()\n",
    "    if end_time-st_time>100:\n",
    "        break\n"
   ]
  },
  {
   "cell_type": "code",
   "execution_count": 222,
   "metadata": {},
   "outputs": [
    {
     "name": "stdout",
     "output_type": "stream",
     "text": [
      "{F_{1,\\varnothing}(t)} = {F_{1,\\varnothing}(t)} {\\left({F_{1,\\left\\{1\\right\\}}(t)} - 1\\right)} + 1 \\\\\n",
      "{F_{1,\\left\\{1\\right\\}}(t)} = t {F_{x_{2}^{-1},\\left\\{x_{2}^{-1}\\right\\}}(t)} + t {F_{x_{2},\\left\\{x_{2}\\right\\}}(t)} + t {F_{x_{1},\\left\\{x_{1}\\right\\}}(t)} + t {F_{x_{1}^{-1},\\left\\{x_{1}^{-1}\\right\\}}(t)} + 1 \\\\\n",
      "{F_{x_{1}^{-1},\\left\\{x_{1}^{-1}\\right\\}}(t)} = {F_{1,\\left\\{x_{1}^{-1}\\right\\}}(t)} {F_{x_{1}^{-1},\\left\\{1, x_{1}^{-1}\\right\\}}(t)} \\\\\n",
      "{F_{x_{1},\\left\\{x_{1}\\right\\}}(t)} = {F_{x_{1},\\left\\{1, x_{1}\\right\\}}(t)} {F_{1,\\left\\{x_{1}\\right\\}}(t)} \\\\\n",
      "{F_{x_{2},\\left\\{x_{2}\\right\\}}(t)} = {F_{1,\\left\\{x_{2}\\right\\}}(t)} {F_{x_{2},\\left\\{x_{2}, 1\\right\\}}(t)} \\\\\n",
      "{F_{x_{2}^{-1},\\left\\{x_{2}^{-1}\\right\\}}(t)} = {F_{1,\\left\\{x_{2}^{-1}\\right\\}}(t)} {F_{x_{2}^{-1},\\left\\{1, x_{2}^{-1}\\right\\}}(t)} \\\\\n",
      "{F_{x_{1}^{-1},\\left\\{1, x_{1}^{-1}\\right\\}}(t)} = t {F_{x_{1},\\left\\{x_{1}^{-1}, x_{1}\\right\\}}(t)} + t \\\\\n",
      "{F_{1,\\left\\{x_{1}^{-1}\\right\\}}(t)} = {\\left({F_{1,\\left\\{1, x_{1}^{-1}\\right\\}}(t)} - 1\\right)} {F_{1,\\left\\{x_{1}^{-1}\\right\\}}(t)} + 1 \\\\\n",
      "{F_{1,\\left\\{x_{1}\\right\\}}(t)} = {\\left({F_{1,\\left\\{1, x_{1}\\right\\}}(t)} - 1\\right)} {F_{1,\\left\\{x_{1}\\right\\}}(t)} + 1 \\\\\n",
      "{F_{x_{1},\\left\\{1, x_{1}\\right\\}}(t)} = t {F_{x_{1}^{-1},\\left\\{x_{1}^{-1}, x_{1}\\right\\}}(t)} + t \\\\\n",
      "{F_{x_{2},\\left\\{x_{2}, 1\\right\\}}(t)} = t {F_{x_{2}^{-1},\\left\\{x_{2}, x_{2}^{-1}\\right\\}}(t)} + t \\\\\n",
      "{F_{1,\\left\\{x_{2}\\right\\}}(t)} = {F_{1,\\left\\{x_{2}\\right\\}}(t)} {\\left({F_{1,\\left\\{x_{2}, 1\\right\\}}(t)} - 1\\right)} + 1 \\\\\n",
      "{F_{x_{2}^{-1},\\left\\{1, x_{2}^{-1}\\right\\}}(t)} = t {F_{x_{2},\\left\\{x_{2}, x_{2}^{-1}\\right\\}}(t)} + t \\\\\n",
      "{F_{1,\\left\\{x_{2}^{-1}\\right\\}}(t)} = {F_{1,\\left\\{x_{2}^{-1}\\right\\}}(t)} {\\left({F_{1,\\left\\{1, x_{2}^{-1}\\right\\}}(t)} - 1\\right)} + 1 \\\\\n",
      "{F_{x_{1},\\left\\{x_{1}^{-1}, x_{1}\\right\\}}(t)} = {F_{1,\\left\\{x_{1}^{-1}, x_{1}\\right\\}}(t)} {F_{x_{1},\\left\\{1, x_{1}^{-1}, x_{1}\\right\\}}(t)} \\\\\n",
      "{F_{1,\\left\\{1, x_{1}^{-1}\\right\\}}(t)} = t {F_{x_{1}^{-1},\\left\\{x_{1}^{-1}, x_{1}\\right\\}}(t)} + t {F_{x_{2}^{-1},\\left\\{x_{2}^{-1}\\right\\}}(t)} + t {F_{x_{2},\\left\\{x_{2}\\right\\}}(t)} + 1 \\\\\n",
      "{F_{1,\\left\\{1, x_{1}\\right\\}}(t)} = t {F_{x_{1},\\left\\{x_{1}^{-1}, x_{1}\\right\\}}(t)} + t {F_{x_{2}^{-1},\\left\\{x_{2}^{-1}\\right\\}}(t)} + t {F_{x_{2},\\left\\{x_{2}\\right\\}}(t)} + 1 \\\\\n",
      "{F_{x_{1}^{-1},\\left\\{x_{1}^{-1}, x_{1}\\right\\}}(t)} = {F_{1,\\left\\{x_{1}^{-1}, x_{1}\\right\\}}(t)} {F_{x_{1}^{-1},\\left\\{1, x_{1}^{-1}, x_{1}\\right\\}}(t)} \\\\\n",
      "{F_{x_{2}^{-1},\\left\\{x_{2}, x_{2}^{-1}\\right\\}}(t)} = {F_{1,\\left\\{x_{2}, x_{2}^{-1}\\right\\}}(t)} {F_{x_{2}^{-1},\\left\\{x_{2}, 1, x_{2}^{-1}\\right\\}}(t)} \\\\\n",
      "{F_{1,\\left\\{x_{2}, 1\\right\\}}(t)} = t {F_{x_{2},\\left\\{x_{2}, x_{2}^{-1}\\right\\}}(t)} + t {F_{x_{1},\\left\\{x_{1}\\right\\}}(t)} + t {F_{x_{1}^{-1},\\left\\{x_{1}^{-1}\\right\\}}(t)} + 1 \\\\\n",
      "{F_{x_{2},\\left\\{x_{2}, x_{2}^{-1}\\right\\}}(t)} = {F_{1,\\left\\{x_{2}, x_{2}^{-1}\\right\\}}(t)} {F_{x_{2},\\left\\{x_{2}, 1, x_{2}^{-1}\\right\\}}(t)} \\\\\n",
      "{F_{1,\\left\\{1, x_{2}^{-1}\\right\\}}(t)} = t {F_{x_{2}^{-1},\\left\\{x_{2}, x_{2}^{-1}\\right\\}}(t)} + t {F_{x_{1},\\left\\{x_{1}\\right\\}}(t)} + t {F_{x_{1}^{-1},\\left\\{x_{1}^{-1}\\right\\}}(t)} + 1 \\\\\n",
      "{F_{1,\\left\\{x_{1}^{-1}, x_{1}\\right\\}}(t)} = {F_{1,\\left\\{x_{1}^{-1}, x_{1}\\right\\}}(t)} {\\left({F_{1,\\left\\{1, x_{1}^{-1}, x_{1}\\right\\}}(t)} - 1\\right)} + 1 \\\\\n",
      "{F_{x_{1},\\left\\{1, x_{1}^{-1}, x_{1}\\right\\}}(t)} = t \\\\\n",
      "{F_{x_{1}^{-1},\\left\\{1, x_{1}^{-1}, x_{1}\\right\\}}(t)} = t \\\\\n",
      "{F_{1,\\left\\{x_{2}, x_{2}^{-1}\\right\\}}(t)} = {F_{1,\\left\\{x_{2}, x_{2}^{-1}\\right\\}}(t)} {\\left({F_{1,\\left\\{x_{2}, 1, x_{2}^{-1}\\right\\}}(t)} - 1\\right)} + 1 \\\\\n",
      "{F_{x_{2}^{-1},\\left\\{x_{2}, 1, x_{2}^{-1}\\right\\}}(t)} = t \\\\\n",
      "{F_{x_{2},\\left\\{x_{2}, 1, x_{2}^{-1}\\right\\}}(t)} = t \\\\\n",
      "{F_{1,\\left\\{1, x_{1}^{-1}, x_{1}\\right\\}}(t)} = t {F_{x_{2}^{-1},\\left\\{x_{2}^{-1}\\right\\}}(t)} + t {F_{x_{2},\\left\\{x_{2}\\right\\}}(t)} + 1 \\\\\n",
      "{F_{1,\\left\\{x_{2}, 1, x_{2}^{-1}\\right\\}}(t)} = t {F_{x_{1},\\left\\{x_{1}\\right\\}}(t)} + t {F_{x_{1}^{-1},\\left\\{x_{1}^{-1}\\right\\}}(t)} + 1 \\\\\n",
      "\n",
      "\n"
     ]
    },
    {
     "data": {
      "text/html": [
       "<html><script type=\"math/tex; mode=display\">\\newcommand{\\Bold}[1]{\\mathbf{#1}}{F_{1,\\varnothing}(t)} = {F_{1,\\varnothing}(t)} {\\left({F_{1,\\left\\{1\\right\\}}(t)} - 1\\right)} + 1</script></html>"
      ],
      "text/plain": [
       "v1 == v1*(v2 - 1) + 1"
      ]
     },
     "metadata": {},
     "output_type": "display_data"
    },
    {
     "data": {
      "text/html": [
       "<html><script type=\"math/tex; mode=display\">\\newcommand{\\Bold}[1]{\\mathbf{#1}}{F_{1,\\left\\{1\\right\\}}(t)} = t {F_{x_{2}^{-1},\\left\\{x_{2}^{-1}\\right\\}}(t)} + t {F_{x_{2},\\left\\{x_{2}\\right\\}}(t)} + t {F_{x_{1},\\left\\{x_{1}\\right\\}}(t)} + t {F_{x_{1}^{-1},\\left\\{x_{1}^{-1}\\right\\}}(t)} + 1</script></html>"
      ],
      "text/plain": [
       "v2 == t*v3 + t*v4 + t*v5 + t*v6 + 1"
      ]
     },
     "metadata": {},
     "output_type": "display_data"
    },
    {
     "data": {
      "text/html": [
       "<html><script type=\"math/tex; mode=display\">\\newcommand{\\Bold}[1]{\\mathbf{#1}}{F_{x_{1}^{-1},\\left\\{x_{1}^{-1}\\right\\}}(t)} = {F_{1,\\left\\{x_{1}^{-1}\\right\\}}(t)} {F_{x_{1}^{-1},\\left\\{1, x_{1}^{-1}\\right\\}}(t)}</script></html>"
      ],
      "text/plain": [
       "v6 == v7*v8"
      ]
     },
     "metadata": {},
     "output_type": "display_data"
    },
    {
     "data": {
      "text/html": [
       "<html><script type=\"math/tex; mode=display\">\\newcommand{\\Bold}[1]{\\mathbf{#1}}{F_{x_{1},\\left\\{x_{1}\\right\\}}(t)} = {F_{x_{1},\\left\\{1, x_{1}\\right\\}}(t)} {F_{1,\\left\\{x_{1}\\right\\}}(t)}</script></html>"
      ],
      "text/plain": [
       "v5 == v10*v9"
      ]
     },
     "metadata": {},
     "output_type": "display_data"
    },
    {
     "data": {
      "text/html": [
       "<html><script type=\"math/tex; mode=display\">\\newcommand{\\Bold}[1]{\\mathbf{#1}}{F_{x_{2},\\left\\{x_{2}\\right\\}}(t)} = {F_{1,\\left\\{x_{2}\\right\\}}(t)} {F_{x_{2},\\left\\{x_{2}, 1\\right\\}}(t)}</script></html>"
      ],
      "text/plain": [
       "v4 == v11*v12"
      ]
     },
     "metadata": {},
     "output_type": "display_data"
    },
    {
     "data": {
      "text/html": [
       "<html><script type=\"math/tex; mode=display\">\\newcommand{\\Bold}[1]{\\mathbf{#1}}{F_{x_{2}^{-1},\\left\\{x_{2}^{-1}\\right\\}}(t)} = {F_{1,\\left\\{x_{2}^{-1}\\right\\}}(t)} {F_{x_{2}^{-1},\\left\\{1, x_{2}^{-1}\\right\\}}(t)}</script></html>"
      ],
      "text/plain": [
       "v3 == v13*v14"
      ]
     },
     "metadata": {},
     "output_type": "display_data"
    },
    {
     "data": {
      "text/html": [
       "<html><script type=\"math/tex; mode=display\">\\newcommand{\\Bold}[1]{\\mathbf{#1}}{F_{x_{1}^{-1},\\left\\{1, x_{1}^{-1}\\right\\}}(t)} = t {F_{x_{1},\\left\\{x_{1}^{-1}, x_{1}\\right\\}}(t)} + t</script></html>"
      ],
      "text/plain": [
       "v8 == t*v15 + t"
      ]
     },
     "metadata": {},
     "output_type": "display_data"
    },
    {
     "data": {
      "text/html": [
       "<html><script type=\"math/tex; mode=display\">\\newcommand{\\Bold}[1]{\\mathbf{#1}}{F_{1,\\left\\{x_{1}^{-1}\\right\\}}(t)} = {\\left({F_{1,\\left\\{1, x_{1}^{-1}\\right\\}}(t)} - 1\\right)} {F_{1,\\left\\{x_{1}^{-1}\\right\\}}(t)} + 1</script></html>"
      ],
      "text/plain": [
       "v7 == (v16 - 1)*v7 + 1"
      ]
     },
     "metadata": {},
     "output_type": "display_data"
    },
    {
     "data": {
      "text/html": [
       "<html><script type=\"math/tex; mode=display\">\\newcommand{\\Bold}[1]{\\mathbf{#1}}{F_{1,\\left\\{x_{1}\\right\\}}(t)} = {\\left({F_{1,\\left\\{1, x_{1}\\right\\}}(t)} - 1\\right)} {F_{1,\\left\\{x_{1}\\right\\}}(t)} + 1</script></html>"
      ],
      "text/plain": [
       "v9 == (v17 - 1)*v9 + 1"
      ]
     },
     "metadata": {},
     "output_type": "display_data"
    },
    {
     "data": {
      "text/html": [
       "<html><script type=\"math/tex; mode=display\">\\newcommand{\\Bold}[1]{\\mathbf{#1}}{F_{x_{1},\\left\\{1, x_{1}\\right\\}}(t)} = t {F_{x_{1}^{-1},\\left\\{x_{1}^{-1}, x_{1}\\right\\}}(t)} + t</script></html>"
      ],
      "text/plain": [
       "v10 == t*v18 + t"
      ]
     },
     "metadata": {},
     "output_type": "display_data"
    },
    {
     "data": {
      "text/html": [
       "<html><script type=\"math/tex; mode=display\">\\newcommand{\\Bold}[1]{\\mathbf{#1}}{F_{x_{2},\\left\\{x_{2}, 1\\right\\}}(t)} = t {F_{x_{2}^{-1},\\left\\{x_{2}, x_{2}^{-1}\\right\\}}(t)} + t</script></html>"
      ],
      "text/plain": [
       "v12 == t*v19 + t"
      ]
     },
     "metadata": {},
     "output_type": "display_data"
    },
    {
     "data": {
      "text/html": [
       "<html><script type=\"math/tex; mode=display\">\\newcommand{\\Bold}[1]{\\mathbf{#1}}{F_{1,\\left\\{x_{2}\\right\\}}(t)} = {F_{1,\\left\\{x_{2}\\right\\}}(t)} {\\left({F_{1,\\left\\{x_{2}, 1\\right\\}}(t)} - 1\\right)} + 1</script></html>"
      ],
      "text/plain": [
       "v11 == v11*(v20 - 1) + 1"
      ]
     },
     "metadata": {},
     "output_type": "display_data"
    },
    {
     "data": {
      "text/html": [
       "<html><script type=\"math/tex; mode=display\">\\newcommand{\\Bold}[1]{\\mathbf{#1}}{F_{x_{2}^{-1},\\left\\{1, x_{2}^{-1}\\right\\}}(t)} = t {F_{x_{2},\\left\\{x_{2}, x_{2}^{-1}\\right\\}}(t)} + t</script></html>"
      ],
      "text/plain": [
       "v14 == t*v21 + t"
      ]
     },
     "metadata": {},
     "output_type": "display_data"
    },
    {
     "data": {
      "text/html": [
       "<html><script type=\"math/tex; mode=display\">\\newcommand{\\Bold}[1]{\\mathbf{#1}}{F_{1,\\left\\{x_{2}^{-1}\\right\\}}(t)} = {F_{1,\\left\\{x_{2}^{-1}\\right\\}}(t)} {\\left({F_{1,\\left\\{1, x_{2}^{-1}\\right\\}}(t)} - 1\\right)} + 1</script></html>"
      ],
      "text/plain": [
       "v13 == v13*(v22 - 1) + 1"
      ]
     },
     "metadata": {},
     "output_type": "display_data"
    },
    {
     "data": {
      "text/html": [
       "<html><script type=\"math/tex; mode=display\">\\newcommand{\\Bold}[1]{\\mathbf{#1}}{F_{x_{1},\\left\\{x_{1}^{-1}, x_{1}\\right\\}}(t)} = {F_{1,\\left\\{x_{1}^{-1}, x_{1}\\right\\}}(t)} {F_{x_{1},\\left\\{1, x_{1}^{-1}, x_{1}\\right\\}}(t)}</script></html>"
      ],
      "text/plain": [
       "v15 == v23*v24"
      ]
     },
     "metadata": {},
     "output_type": "display_data"
    },
    {
     "data": {
      "text/html": [
       "<html><script type=\"math/tex; mode=display\">\\newcommand{\\Bold}[1]{\\mathbf{#1}}{F_{1,\\left\\{1, x_{1}^{-1}\\right\\}}(t)} = t {F_{x_{1}^{-1},\\left\\{x_{1}^{-1}, x_{1}\\right\\}}(t)} + t {F_{x_{2}^{-1},\\left\\{x_{2}^{-1}\\right\\}}(t)} + t {F_{x_{2},\\left\\{x_{2}\\right\\}}(t)} + 1</script></html>"
      ],
      "text/plain": [
       "v16 == t*v18 + t*v3 + t*v4 + 1"
      ]
     },
     "metadata": {},
     "output_type": "display_data"
    },
    {
     "data": {
      "text/html": [
       "<html><script type=\"math/tex; mode=display\">\\newcommand{\\Bold}[1]{\\mathbf{#1}}{F_{1,\\left\\{1, x_{1}\\right\\}}(t)} = t {F_{x_{1},\\left\\{x_{1}^{-1}, x_{1}\\right\\}}(t)} + t {F_{x_{2}^{-1},\\left\\{x_{2}^{-1}\\right\\}}(t)} + t {F_{x_{2},\\left\\{x_{2}\\right\\}}(t)} + 1</script></html>"
      ],
      "text/plain": [
       "v17 == t*v15 + t*v3 + t*v4 + 1"
      ]
     },
     "metadata": {},
     "output_type": "display_data"
    },
    {
     "data": {
      "text/html": [
       "<html><script type=\"math/tex; mode=display\">\\newcommand{\\Bold}[1]{\\mathbf{#1}}{F_{x_{1}^{-1},\\left\\{x_{1}^{-1}, x_{1}\\right\\}}(t)} = {F_{1,\\left\\{x_{1}^{-1}, x_{1}\\right\\}}(t)} {F_{x_{1}^{-1},\\left\\{1, x_{1}^{-1}, x_{1}\\right\\}}(t)}</script></html>"
      ],
      "text/plain": [
       "v18 == v23*v25"
      ]
     },
     "metadata": {},
     "output_type": "display_data"
    },
    {
     "data": {
      "text/html": [
       "<html><script type=\"math/tex; mode=display\">\\newcommand{\\Bold}[1]{\\mathbf{#1}}{F_{x_{2}^{-1},\\left\\{x_{2}, x_{2}^{-1}\\right\\}}(t)} = {F_{1,\\left\\{x_{2}, x_{2}^{-1}\\right\\}}(t)} {F_{x_{2}^{-1},\\left\\{x_{2}, 1, x_{2}^{-1}\\right\\}}(t)}</script></html>"
      ],
      "text/plain": [
       "v19 == v26*v27"
      ]
     },
     "metadata": {},
     "output_type": "display_data"
    },
    {
     "data": {
      "text/html": [
       "<html><script type=\"math/tex; mode=display\">\\newcommand{\\Bold}[1]{\\mathbf{#1}}{F_{1,\\left\\{x_{2}, 1\\right\\}}(t)} = t {F_{x_{2},\\left\\{x_{2}, x_{2}^{-1}\\right\\}}(t)} + t {F_{x_{1},\\left\\{x_{1}\\right\\}}(t)} + t {F_{x_{1}^{-1},\\left\\{x_{1}^{-1}\\right\\}}(t)} + 1</script></html>"
      ],
      "text/plain": [
       "v20 == t*v21 + t*v5 + t*v6 + 1"
      ]
     },
     "metadata": {},
     "output_type": "display_data"
    },
    {
     "data": {
      "text/html": [
       "<html><script type=\"math/tex; mode=display\">\\newcommand{\\Bold}[1]{\\mathbf{#1}}{F_{x_{2},\\left\\{x_{2}, x_{2}^{-1}\\right\\}}(t)} = {F_{1,\\left\\{x_{2}, x_{2}^{-1}\\right\\}}(t)} {F_{x_{2},\\left\\{x_{2}, 1, x_{2}^{-1}\\right\\}}(t)}</script></html>"
      ],
      "text/plain": [
       "v21 == v26*v28"
      ]
     },
     "metadata": {},
     "output_type": "display_data"
    },
    {
     "data": {
      "text/html": [
       "<html><script type=\"math/tex; mode=display\">\\newcommand{\\Bold}[1]{\\mathbf{#1}}{F_{1,\\left\\{1, x_{2}^{-1}\\right\\}}(t)} = t {F_{x_{2}^{-1},\\left\\{x_{2}, x_{2}^{-1}\\right\\}}(t)} + t {F_{x_{1},\\left\\{x_{1}\\right\\}}(t)} + t {F_{x_{1}^{-1},\\left\\{x_{1}^{-1}\\right\\}}(t)} + 1</script></html>"
      ],
      "text/plain": [
       "v22 == t*v19 + t*v5 + t*v6 + 1"
      ]
     },
     "metadata": {},
     "output_type": "display_data"
    },
    {
     "data": {
      "text/html": [
       "<html><script type=\"math/tex; mode=display\">\\newcommand{\\Bold}[1]{\\mathbf{#1}}{F_{1,\\left\\{x_{1}^{-1}, x_{1}\\right\\}}(t)} = {F_{1,\\left\\{x_{1}^{-1}, x_{1}\\right\\}}(t)} {\\left({F_{1,\\left\\{1, x_{1}^{-1}, x_{1}\\right\\}}(t)} - 1\\right)} + 1</script></html>"
      ],
      "text/plain": [
       "v23 == v23*(v29 - 1) + 1"
      ]
     },
     "metadata": {},
     "output_type": "display_data"
    },
    {
     "data": {
      "text/html": [
       "<html><script type=\"math/tex; mode=display\">\\newcommand{\\Bold}[1]{\\mathbf{#1}}{F_{x_{1},\\left\\{1, x_{1}^{-1}, x_{1}\\right\\}}(t)} = t</script></html>"
      ],
      "text/plain": [
       "v24 == t"
      ]
     },
     "metadata": {},
     "output_type": "display_data"
    },
    {
     "data": {
      "text/html": [
       "<html><script type=\"math/tex; mode=display\">\\newcommand{\\Bold}[1]{\\mathbf{#1}}{F_{x_{1}^{-1},\\left\\{1, x_{1}^{-1}, x_{1}\\right\\}}(t)} = t</script></html>"
      ],
      "text/plain": [
       "v25 == t"
      ]
     },
     "metadata": {},
     "output_type": "display_data"
    },
    {
     "data": {
      "text/html": [
       "<html><script type=\"math/tex; mode=display\">\\newcommand{\\Bold}[1]{\\mathbf{#1}}{F_{1,\\left\\{x_{2}, x_{2}^{-1}\\right\\}}(t)} = {F_{1,\\left\\{x_{2}, x_{2}^{-1}\\right\\}}(t)} {\\left({F_{1,\\left\\{x_{2}, 1, x_{2}^{-1}\\right\\}}(t)} - 1\\right)} + 1</script></html>"
      ],
      "text/plain": [
       "v26 == v26*(v30 - 1) + 1"
      ]
     },
     "metadata": {},
     "output_type": "display_data"
    },
    {
     "data": {
      "text/html": [
       "<html><script type=\"math/tex; mode=display\">\\newcommand{\\Bold}[1]{\\mathbf{#1}}{F_{x_{2}^{-1},\\left\\{x_{2}, 1, x_{2}^{-1}\\right\\}}(t)} = t</script></html>"
      ],
      "text/plain": [
       "v27 == t"
      ]
     },
     "metadata": {},
     "output_type": "display_data"
    },
    {
     "data": {
      "text/html": [
       "<html><script type=\"math/tex; mode=display\">\\newcommand{\\Bold}[1]{\\mathbf{#1}}{F_{x_{2},\\left\\{x_{2}, 1, x_{2}^{-1}\\right\\}}(t)} = t</script></html>"
      ],
      "text/plain": [
       "v28 == t"
      ]
     },
     "metadata": {},
     "output_type": "display_data"
    },
    {
     "data": {
      "text/html": [
       "<html><script type=\"math/tex; mode=display\">\\newcommand{\\Bold}[1]{\\mathbf{#1}}{F_{1,\\left\\{1, x_{1}^{-1}, x_{1}\\right\\}}(t)} = t {F_{x_{2}^{-1},\\left\\{x_{2}^{-1}\\right\\}}(t)} + t {F_{x_{2},\\left\\{x_{2}\\right\\}}(t)} + 1</script></html>"
      ],
      "text/plain": [
       "v29 == t*v3 + t*v4 + 1"
      ]
     },
     "metadata": {},
     "output_type": "display_data"
    },
    {
     "data": {
      "text/html": [
       "<html><script type=\"math/tex; mode=display\">\\newcommand{\\Bold}[1]{\\mathbf{#1}}{F_{1,\\left\\{x_{2}, 1, x_{2}^{-1}\\right\\}}(t)} = t {F_{x_{1},\\left\\{x_{1}\\right\\}}(t)} + t {F_{x_{1}^{-1},\\left\\{x_{1}^{-1}\\right\\}}(t)} + 1</script></html>"
      ],
      "text/plain": [
       "v30 == t*v5 + t*v6 + 1"
      ]
     },
     "metadata": {},
     "output_type": "display_data"
    }
   ],
   "source": [
    "# Here are the equations\n",
    "for eqn in system:\n",
    "    print(latex(eqn),r'\\\\')\n",
    "print()\n",
    "print()\n",
    "for eqn in system:\n",
    "    #print(eqn)\n",
    "    pretty_print(eqn)"
   ]
  },
  {
   "cell_type": "code",
   "execution_count": 197,
   "metadata": {},
   "outputs": [],
   "source": [
    "# There are symmetries amongst the variables such that some variables will repersent the same series.\n",
    "# Amongst each such equivalence class, we only need to keep one representation.\n",
    "# To strip symmetry, we need union find.\n",
    "\n",
    "from collections import defaultdict as DD\n",
    "\n",
    "class UF(object):\n",
    "    \n",
    "    def __init__(self):\n",
    "        self.V = {}\n",
    "        self.parent = {}\n",
    "    \n",
    "    def add(self, node):\n",
    "        if node not in self.V:\n",
    "            self.V[node] = len(self.V)\n",
    "            self.parent[node]=node\n",
    "    \n",
    "    def find(self,u):\n",
    "        P = self.parent\n",
    "        while P[u]!=u:\n",
    "            P[u] = P[P[u]]\n",
    "            u = P[u]\n",
    "        return u\n",
    "    \n",
    "    def union(self,u,v):\n",
    "        u,v = map(self.find, [u,v])\n",
    "        u,v = sorted([u,v],key = lambda s: self.V[s])\n",
    "        self.parent[v]=u\n",
    "    \n",
    "    def verts(self):\n",
    "        return iter(self.V)\n",
    "    \n",
    "    def comps(self):\n",
    "        ans = DD(set)\n",
    "        for v in self.V:\n",
    "            ans[self.find(v)].add(v)\n",
    "        return ans\n",
    "    \n"
   ]
  },
  {
   "cell_type": "code",
   "execution_count": 198,
   "metadata": {},
   "outputs": [],
   "source": [
    "# initialize the structure to track symmetry\n",
    "eqcl = UF()\n",
    "for pair in var_space:\n",
    "    eqcl.add(pair)"
   ]
  },
  {
   "cell_type": "code",
   "execution_count": 199,
   "metadata": {},
   "outputs": [],
   "source": [
    "# if S is inverse closed, then (g,X) is essentially the same as (g^-1,X^-1)\n",
    "if inv_closed:\n",
    "    vis = set()\n",
    "    for g,X in var_space:\n",
    "        if (g,X) in vis:\n",
    "            continue\n",
    "        ginv = rd(g^-1)\n",
    "        Xinv = Set([v^-1 for v in X])\n",
    "        Xinv = rd(Xinv)\n",
    "        pairinv = (ginv,Xinv)\n",
    "        if pairinv in var_space:\n",
    "            vis.add(pairinv)\n",
    "            eqcl.union((g,X),pairinv)\n",
    "        "
   ]
  },
  {
   "cell_type": "code",
   "execution_count": null,
   "metadata": {},
   "outputs": [],
   "source": []
  },
  {
   "cell_type": "code",
   "execution_count": null,
   "metadata": {},
   "outputs": [],
   "source": []
  },
  {
   "cell_type": "code",
   "execution_count": null,
   "metadata": {},
   "outputs": [],
   "source": []
  },
  {
   "cell_type": "code",
   "execution_count": 196,
   "metadata": {},
   "outputs": [
    {
     "data": {
      "text/plain": [
       "True"
      ]
     },
     "execution_count": 196,
     "metadata": {},
     "output_type": "execute_result"
    }
   ],
   "source": [
    "Set([2])<Set([])"
   ]
  },
  {
   "cell_type": "code",
   "execution_count": null,
   "metadata": {},
   "outputs": [],
   "source": []
  },
  {
   "cell_type": "code",
   "execution_count": null,
   "metadata": {},
   "outputs": [],
   "source": []
  }
 ],
 "metadata": {
  "kernelspec": {
   "display_name": "SageMath 9.0",
   "language": "sage",
   "name": "sagemath"
  },
  "language_info": {
   "codemirror_mode": {
    "name": "ipython",
    "version": 3
   },
   "file_extension": ".py",
   "mimetype": "text/x-python",
   "name": "python",
   "nbconvert_exporter": "python",
   "pygments_lexer": "ipython3",
   "version": "3.7.3"
  }
 },
 "nbformat": 4,
 "nbformat_minor": 2
}
