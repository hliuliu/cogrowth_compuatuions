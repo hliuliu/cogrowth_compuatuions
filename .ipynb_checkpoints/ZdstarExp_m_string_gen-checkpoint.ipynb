{
 "cells": [
  {
   "cell_type": "markdown",
   "metadata": {},
   "source": [
    "# Word Generation In $G=\\mathbb{Z}_2^{*m}$\n",
    "\n",
    "### Define, for all $i\\in\\mathbb{Z}_{>0}$, $x_i$, with the relation $x_i^2=1$. Write $G=*_{i=1}^m\\langle x_i|x_i^2=1\\rangle$, with generating set $S=\\bigcup_{i=1}^m S_i$, with $S_i=\\{x_i,x_i^{-1}\\}$.\n",
    "\n",
    "Our interest is to generate all the **excursions** on the Cayley Graph of $G$ wrt $S$. These are words that end up back at one (Eg. $x_1x_2x_3x_3x_2x_1$ ). To avoid redundancy, we can generate **simple excursions**, those that don't go back to 1 \"too early\".\n",
    "\n",
    "Let $Z_{g,X}$ be the set of words ($\\in S^*$) that evaluates to $g\\in G$ and contains no proper prefix in $X\\subseteq G$.\n",
    "Let $Z_{g,X}^{(n)}$ be such words of length $n$. In most cases, we only need $X\\subseteq S\\cup\\{1\\}$.\n",
    "\n",
    "Our Goal is to find $Z_{1,\\emptyset}^{(n)}$ for some small $n$. Contenations of such words of varied $n$ gives another such word. To avoid redundency, We could compute $Z_{1,\\{1\\}}^{(n)}$, and notice that \n",
    "\n",
    "$$Z_{1,\\emptyset}^{(n)}=\\left(\\cup_{\\lambda}[\\times_{i}Z_{1,\\{1\\}}^{(\\lambda_i)}]\\right)\\cup Z_{1,\\{1\\}}^{(n)}$$\n",
    "\n",
    "where $\\lambda=(\\lambda_i)$ ranges over the $2^{n-1}-1$ nontrivial compositions of $n$. Furthermore, the $2^{n-1}$ sets involved in the union expression are pairwise disjoint. \n",
    "\n",
    "In fact, there is an even simpler way. For each $1\\le r \\le n$, Compute, ___assuming___ $m=r$, the elements $w$ of $Z_{1,\\{1\\}}^{(n)}$ such that, for each $i=1,2,...,r$, we can write $w=ux_iv$, where $u\\in \\{x_1,..., x_{i-1}\\}^*$. Equivalently, for $1\\le i<j \\le r$, the first occurence of $x_i$ is to the left of the first occurence of $x_j$. Call these **canonical simple excursions**. Let $\\bar{P}_{n,r}$ denote the number of such elements. Let $\\bar{P}_{n}(m)=|Z_{1,\\{1\\}}^{(n)}|$, and $P_{n}(m)=|Z_{1,\\emptyset}^{(n)}|$ for any given $m$. We are interested in obtaining $P_n(m)$.\n",
    "\n",
    "We have the amazing identity  $$\\bar{P}_n(m)=\\sum_{r=1}^n \\bar{P}_{n,r}\\cdot (m)_r,$$ where $(t)_r=t(t-1)(t-2)...(t-r+1)\\in \\mathbb{Z}[t]$ is the falling factorial polynomial of degree $r$. [Jonah: Prove this identity]\n",
    "\n",
    "\n",
    "Notice that $\\bar{P}_{n,r}>0$ if $n$ is even and $1\\le r\\le \\frac{n}{2}$,<br>\n",
    "(Why is this? **Hint:** What do simple excursions that start and end with $x_1$ look like in general?) \n",
    "and $\\bar{P}_{n,r}=0$ otherwise.\n",
    "\n",
    "Thus, $\\bar{P}_{n}(m)$ is 0 for odd $n$, and a degree $\\frac{n}{2}$ polynomial in $m$ for even $n$. Same can be said for $P_n(m)$ (Explain why).\n"
   ]
  },
  {
   "cell_type": "markdown",
   "metadata": {},
   "source": [
    "Here, we use the integer $i$, to denote $x_i$. Words will be represented as tuples of integers."
   ]
  },
  {
   "cell_type": "code",
   "execution_count": 1,
   "metadata": {},
   "outputs": [
    {
     "data": {
      "text/plain": [
       "m"
      ]
     },
     "execution_count": 1,
     "metadata": {},
     "output_type": "execute_result"
    }
   ],
   "source": [
    "var('m')"
   ]
  },
  {
   "cell_type": "code",
   "execution_count": 83,
   "metadata": {},
   "outputs": [],
   "source": [
    "def char_inv(c):\n",
    "    '''\n",
    "    Returns the inverse element of c\n",
    "    Since every group element is of order 2, c is its own inverse\n",
    "    '''\n",
    "    return c\n",
    "    \n",
    "\n",
    "\n",
    "class Word_Z2m(object):\n",
    "    def __init__(self,w=[]):\n",
    "        self.w = []\n",
    "        self.wred = [] # reduced word of w\n",
    "        for c in w:\n",
    "            self.add_char(c)\n",
    "    \n",
    "    def add_char(self,c):\n",
    "        w = self.w\n",
    "        wred = self.wred\n",
    "        w.append(c)\n",
    "        if self.wred[-1:]==[char_inv(c)]:\n",
    "            wred.pop()\n",
    "        else:\n",
    "            wred.append(c)\n",
    "    \n",
    "    def del_last(self):\n",
    "        # assume w is nonempty\n",
    "        w = self.w\n",
    "        c = w[-1]\n",
    "        self.add_char(char_inv(c))\n",
    "        w.pop()\n",
    "        w.pop()\n",
    "        return c\n",
    "        \n",
    "    def last(self):\n",
    "        return self.w[-1]\n",
    "        \n",
    "    def word(self):\n",
    "        return tuple(self.w)\n",
    "    \n",
    "    def reduced_word(self):\n",
    "        return tuple(self.wred)\n",
    "    \n",
    "    def __len__(self):\n",
    "        return len(self.w)\n",
    "    \n",
    "    def reduced_length(self):\n",
    "        return len(self.wred)\n",
    "        \n",
    "    def __str__(self):\n",
    "        return str(self.word())\n",
    "    \n",
    "    def __iter__(self):\n",
    "        return iter(self.w)\n",
    "    \n",
    "    def clone(self):\n",
    "        # bit more efficient than calling Word_Z2Z(self)\n",
    "        other = Word_Z2Z()\n",
    "        other.w = list(self.w)\n",
    "        other.wred = list(self.wred)\n",
    "        return other\n",
    "    \n",
    "    def clear(self):\n",
    "        self.w = []\n",
    "        self.wred = []"
   ]
  },
  {
   "cell_type": "code",
   "execution_count": 84,
   "metadata": {},
   "outputs": [],
   "source": [
    "wgen = Word_Z2m()"
   ]
  },
  {
   "cell_type": "code",
   "execution_count": 85,
   "metadata": {},
   "outputs": [],
   "source": [
    "from collections import defaultdict\n",
    "import time\n",
    "from datetime import timedelta"
   ]
  },
  {
   "cell_type": "code",
   "execution_count": 112,
   "metadata": {},
   "outputs": [],
   "source": [
    "KEY = 16\n",
    "def hash_word(w):\n",
    "    h = 0\n",
    "    for c in w:\n",
    "        h *= KEY\n",
    "        h += c\n",
    "    return h\n",
    "\n",
    "def unhash_word(h):\n",
    "    w = []\n",
    "    while h:\n",
    "        w.insert(0,h%KEY)\n",
    "        h//=KEY\n",
    "    return tuple(w)\n",
    "\n"
   ]
  },
  {
   "cell_type": "code",
   "execution_count": 120,
   "metadata": {},
   "outputs": [],
   "source": [
    "def gen_canonical_simple_excursions_up_to_length(n, wgen, wlist, maxindex=1, cont_mi=False):\n",
    "    '''\n",
    "        Populates wlist, assumed to be defaultdict(list) object with (k,r) missing key for each 0<=k<=n, 0<=r<=n/2.\n",
    "        Upon termination, wlist[(k,r)] is a sorted list canonical simple excursions of G when m=r.\n",
    "        Parameters:\n",
    "            n: maximum length of all words to be considered\n",
    "            wgen: A Word_Z2m instance, assumed empty\n",
    "            maxindex: maximum possible i, so that x_i can be appended to the current word\n",
    "            wlist: defaultdict(list) object\n",
    "            cont_mi: bool type, True iff currect word contains the maximum index allowed\n",
    "        Return:\n",
    "            None\n",
    "    '''\n",
    "    if not wgen.reduced_length():\n",
    "        wlist[(ZZ(len(wgen)), ZZ(maxindex-int(not cont_mi)))].append((wgen.word()))\n",
    "        if len(wgen):\n",
    "            return\n",
    "    if len(wgen)<n and wgen.reduced_length()+len(wgen)<=n:\n",
    "        for i in range(1,maxindex+1):\n",
    "            # standard backtracking approach\n",
    "            wgen.add_char(i)\n",
    "            # assume i=maxindex, so that nxt_mi=i+1 is not yet visited\n",
    "            flag = False\n",
    "            nxt_mi = i+1\n",
    "            if nxt_mi<=maxindex:\n",
    "                # assumption wrong. i is still too small. \n",
    "                # If maxindex has not appeared up to now, it will not appear with the additional character.\n",
    "                nxt_mi=maxindex\n",
    "                flag = cont_mi\n",
    "            if nxt_mi>n//2:\n",
    "                # Gone too far, cannot come back in time\n",
    "                # Can cut the next index by the pigeonhole principle.\n",
    "                nxt_mi = maxindex\n",
    "                flag = True\n",
    "            gen_canonical_simple_excursions_up_to_length(n,wgen,wlist,nxt_mi, flag)\n",
    "            wgen.del_last()\n",
    "        \n",
    "        "
   ]
  },
  {
   "cell_type": "code",
   "execution_count": 140,
   "metadata": {},
   "outputs": [],
   "source": [
    "maxlen =18\n",
    "cse_by_len = defaultdict(list)\n",
    "gen_canonical_simple_excursions_up_to_length(maxlen,wgen,cse_by_len)"
   ]
  },
  {
   "cell_type": "code",
   "execution_count": 148,
   "metadata": {},
   "outputs": [
    {
     "name": "stdout",
     "output_type": "stream",
     "text": [
      "0 0 1\n",
      "2 1 1\n",
      "4 2 1\n",
      "6 2 2\n",
      "6 3 2\n",
      "8 2 5\n",
      "8 3 15\n",
      "8 4 5\n",
      "10 2 14\n",
      "10 3 98\n",
      "10 4 84\n",
      "10 5 14\n",
      "12 2 42\n",
      "12 3 630\n",
      "12 4 1050\n",
      "12 5 420\n",
      "12 6 42\n",
      "14 2 132\n",
      "14 3 4092\n",
      "14 4 11880\n",
      "14 5 8580\n",
      "14 6 1980\n",
      "14 7 132\n",
      "16 2 429\n",
      "16 3 27027\n",
      "16 4 129129\n",
      "16 5 150150\n",
      "16 6 60060\n",
      "16 7 9009\n",
      "16 8 429\n",
      "18 2 1430\n",
      "18 3 181610\n",
      "18 4 1381380\n",
      "18 5 2432430\n",
      "18 6 1501500\n",
      "18 7 380380\n",
      "18 8 40040\n",
      "18 9 1430\n",
      "[(1, 2, 1, 1, 1, 1, 2, 3, 3, 1), (1, 2, 1, 1, 1, 1, 3, 3, 2, 1), (1, 2, 1, 1, 1, 3, 3, 1, 2, 1), (1, 2, 1, 1, 2, 2, 2, 3, 3, 1), (1, 2, 1, 1, 2, 2, 3, 3, 2, 1), (1, 2, 1, 1, 2, 3, 1, 1, 3, 1), (1, 2, 1, 1, 2, 3, 2, 2, 3, 1), (1, 2, 1, 1, 2, 3, 3, 2, 2, 1), (1, 2, 1, 1, 2, 3, 3, 3, 3, 1), (1, 2, 1, 1, 3, 1, 1, 3, 2, 1), (1, 2, 1, 1, 3, 2, 2, 3, 2, 1), (1, 2, 1, 1, 3, 3, 1, 1, 2, 1), (1, 2, 1, 1, 3, 3, 2, 2, 2, 1), (1, 2, 1, 1, 3, 3, 2, 3, 3, 1), (1, 2, 1, 1, 3, 3, 3, 3, 2, 1), (1, 2, 1, 2, 2, 1, 2, 3, 3, 1), (1, 2, 1, 2, 2, 1, 3, 3, 2, 1), (1, 2, 1, 2, 2, 3, 3, 1, 2, 1), (1, 2, 1, 2, 3, 3, 2, 1, 2, 1), (1, 2, 1, 3, 1, 1, 3, 1, 2, 1), (1, 2, 1, 3, 2, 2, 3, 1, 2, 1), (1, 2, 1, 3, 3, 1, 1, 1, 2, 1), (1, 2, 1, 3, 3, 1, 2, 2, 2, 1), (1, 2, 1, 3, 3, 1, 2, 3, 3, 1), (1, 2, 1, 3, 3, 1, 3, 3, 2, 1), (1, 2, 1, 3, 3, 2, 2, 1, 2, 1), (1, 2, 1, 3, 3, 3, 3, 1, 2, 1), (1, 2, 2, 2, 1, 1, 2, 3, 3, 1), (1, 2, 2, 2, 1, 1, 3, 3, 2, 1), (1, 2, 2, 2, 1, 3, 3, 1, 2, 1), (1, 2, 2, 2, 2, 2, 2, 3, 3, 1), (1, 2, 2, 2, 2, 2, 3, 3, 2, 1), (1, 2, 2, 2, 2, 3, 1, 1, 3, 1), (1, 2, 2, 2, 2, 3, 2, 2, 3, 1), (1, 2, 2, 2, 2, 3, 3, 2, 2, 1), (1, 2, 2, 2, 2, 3, 3, 3, 3, 1), (1, 2, 2, 2, 3, 1, 1, 3, 2, 1), (1, 2, 2, 2, 3, 2, 2, 3, 2, 1), (1, 2, 2, 2, 3, 3, 1, 1, 2, 1), (1, 2, 2, 2, 3, 3, 2, 2, 2, 1), (1, 2, 2, 2, 3, 3, 2, 3, 3, 1), (1, 2, 2, 2, 3, 3, 3, 3, 2, 1), (1, 2, 2, 3, 1, 1, 1, 1, 3, 1), (1, 2, 2, 3, 1, 1, 2, 2, 3, 1), (1, 2, 2, 3, 1, 1, 3, 2, 2, 1), (1, 2, 2, 3, 1, 1, 3, 3, 3, 1), (1, 2, 2, 3, 1, 2, 2, 1, 3, 1), (1, 2, 2, 3, 1, 3, 3, 1, 3, 1), (1, 2, 2, 3, 2, 1, 1, 2, 3, 1), (1, 2, 2, 3, 2, 2, 1, 1, 3, 1), (1, 2, 2, 3, 2, 2, 2, 2, 3, 1), (1, 2, 2, 3, 2, 2, 3, 2, 2, 1), (1, 2, 2, 3, 2, 2, 3, 3, 3, 1), (1, 2, 2, 3, 2, 3, 3, 2, 3, 1), (1, 2, 2, 3, 3, 2, 1, 1, 2, 1), (1, 2, 2, 3, 3, 2, 2, 2, 2, 1), (1, 2, 2, 3, 3, 2, 2, 3, 3, 1), (1, 2, 2, 3, 3, 2, 3, 3, 2, 1), (1, 2, 2, 3, 3, 3, 1, 1, 3, 1), (1, 2, 2, 3, 3, 3, 2, 2, 3, 1), (1, 2, 2, 3, 3, 3, 3, 2, 2, 1), (1, 2, 2, 3, 3, 3, 3, 3, 3, 1), (1, 2, 3, 1, 1, 1, 1, 3, 2, 1), (1, 2, 3, 1, 1, 2, 2, 3, 2, 1), (1, 2, 3, 1, 1, 3, 1, 1, 2, 1), (1, 2, 3, 1, 1, 3, 2, 2, 2, 1), (1, 2, 3, 1, 1, 3, 2, 3, 3, 1), (1, 2, 3, 1, 1, 3, 3, 3, 2, 1), (1, 2, 3, 1, 2, 2, 1, 3, 2, 1), (1, 2, 3, 1, 3, 3, 1, 3, 2, 1), (1, 2, 3, 2, 1, 1, 2, 3, 2, 1), (1, 2, 3, 2, 2, 1, 1, 3, 2, 1), (1, 2, 3, 2, 2, 2, 2, 3, 2, 1), (1, 2, 3, 2, 2, 3, 1, 1, 2, 1), (1, 2, 3, 2, 2, 3, 2, 2, 2, 1), (1, 2, 3, 2, 2, 3, 2, 3, 3, 1), (1, 2, 3, 2, 2, 3, 3, 3, 2, 1), (1, 2, 3, 2, 3, 3, 2, 3, 2, 1), (1, 2, 3, 3, 1, 1, 1, 1, 2, 1), (1, 2, 3, 3, 1, 1, 2, 2, 2, 1), (1, 2, 3, 3, 1, 1, 2, 3, 3, 1), (1, 2, 3, 3, 1, 1, 3, 3, 2, 1), (1, 2, 3, 3, 1, 2, 2, 1, 2, 1), (1, 2, 3, 3, 1, 3, 3, 1, 2, 1), (1, 2, 3, 3, 2, 2, 1, 1, 2, 1), (1, 2, 3, 3, 2, 2, 2, 2, 2, 1), (1, 2, 3, 3, 2, 2, 2, 3, 3, 1), (1, 2, 3, 3, 2, 2, 3, 3, 2, 1), (1, 2, 3, 3, 2, 3, 1, 1, 3, 1), (1, 2, 3, 3, 2, 3, 2, 2, 3, 1), (1, 2, 3, 3, 2, 3, 3, 2, 2, 1), (1, 2, 3, 3, 2, 3, 3, 3, 3, 1), (1, 2, 3, 3, 3, 1, 1, 3, 2, 1), (1, 2, 3, 3, 3, 2, 2, 3, 2, 1), (1, 2, 3, 3, 3, 3, 1, 1, 2, 1), (1, 2, 3, 3, 3, 3, 2, 2, 2, 1), (1, 2, 3, 3, 3, 3, 2, 3, 3, 1), (1, 2, 3, 3, 3, 3, 3, 3, 2, 1)]\n",
      "6325655\n"
     ]
    }
   ],
   "source": [
    "for (n,r) in sorted(cse_by_len):\n",
    "    print(n,r,len(cse_by_len[(n,r)]))\n",
    "print(cse_by_len[(10,3)])\n",
    "print(sum(map(len, cse_by_len.values())))"
   ]
  },
  {
   "cell_type": "code",
   "execution_count": 123,
   "metadata": {},
   "outputs": [],
   "source": [
    "\n",
    "\n",
    "def time_test(func, params):\n",
    "    runtimes = []\n",
    "    for p in params:\n",
    "        start = time.time()\n",
    "        func(p)\n",
    "        end = time.time()\n",
    "        runtimes.append((p, end-start))\n",
    "    return runtimes\n",
    "    "
   ]
  },
  {
   "cell_type": "code",
   "execution_count": 138,
   "metadata": {},
   "outputs": [
    {
     "data": {
      "text/plain": [
       "[(2, 0.00011610984802246094),\n",
       " (4, 0.0001232624053955078),\n",
       " (6, 0.0005402565002441406),\n",
       " (8, 0.004754066467285156),\n",
       " (10, 0.020947694778442383),\n",
       " (12, 0.21684861183166504),\n",
       " (14, 2.308743476867676),\n",
       " (16, 33.60888195037842),\n",
       " (18, 566.8404877185822)]"
      ]
     },
     "execution_count": 138,
     "metadata": {},
     "output_type": "execute_result"
    }
   ],
   "source": [
    "wgen.clear()\n",
    "runtimes = time_test(lambda n: gen_canonical_simple_excursions_up_to_length(n,wgen,defaultdict(list)), range(2,20,2))\n",
    "runtimes"
   ]
  },
  {
   "cell_type": "code",
   "execution_count": 139,
   "metadata": {},
   "outputs": [
    {
     "name": "stdout",
     "output_type": "stream",
     "text": [
      " 2\t0:00:00.000116\n",
      " 4\t0:00:00.000123\n",
      " 6\t0:00:00.000540\n",
      " 8\t0:00:00.004754\n",
      "10\t0:00:00.020948\n",
      "12\t0:00:00.216849\n",
      "14\t0:00:02.308743\n",
      "16\t0:00:33.608882\n",
      "18\t0:09:26.840488\n"
     ]
    }
   ],
   "source": [
    "for n, dur in runtimes:\n",
    "    print('%2d\\t%7s'%(n, timedelta(seconds=dur)))"
   ]
  },
  {
   "cell_type": "code",
   "execution_count": null,
   "metadata": {},
   "outputs": [],
   "source": []
  },
  {
   "cell_type": "code",
   "execution_count": 145,
   "metadata": {},
   "outputs": [],
   "source": [
    "# save and load routines\n",
    "\n",
    "def _preconvert(save_mode, hashfn):\n",
    "    def _preconvert_word(w):\n",
    "        w = hashfn(w)\n",
    "        if save_mode:\n",
    "            return 'e' if not str(w) else str(w)\n",
    "        return '' if w=='e' else w\n",
    "    return _preconvert_word\n",
    "\n",
    "def save_gen(fname, wlist, hashfn=lambda x: x, maxlen=None):\n",
    "    if maxlen is None:\n",
    "        maxlen = max([n for n,r in wlist if wlist[(n,r)]])\n",
    "    with open(fname,'w') as handle:\n",
    "        for n in range(maxlen+1):\n",
    "            for r in range(n//2+1):\n",
    "                if (n,r) in wlist:\n",
    "                    handle.write('%d %d %s\\n'%(n,r,' '.join(map(_preconvert(1,hashfn),wlist[(n,r)]))) )\n",
    "\n",
    "def load_gen(fname, unhashfn = lambda x: x, skip_empty = 0,maxlen = None):\n",
    "    wlist = {}\n",
    "    with open(fname) as handle:\n",
    "        for line in handle:\n",
    "            line = line.strip()\n",
    "            if line:\n",
    "                wn = line.split()\n",
    "                n = ZZ(wn.pop(0))\n",
    "                r = ZZ(wn.pop(0))\n",
    "                if skip_empty and not wn:\n",
    "                    continue\n",
    "                if maxlen is not None and n>maxlen:\n",
    "                    continue\n",
    "                wlist[(n,r)] = list(map(_preconvert(0,unhashfn), map(ZZ,wn)))\n",
    "    return defaultdict(list, wlist)\n"
   ]
  },
  {
   "cell_type": "code",
   "execution_count": null,
   "metadata": {},
   "outputs": [],
   "source": []
  },
  {
   "cell_type": "code",
   "execution_count": 146,
   "metadata": {},
   "outputs": [],
   "source": [
    "save_gen('cseZ2star_m.txt', cse_by_len, hash_word)"
   ]
  },
  {
   "cell_type": "code",
   "execution_count": 147,
   "metadata": {},
   "outputs": [],
   "source": [
    "# loaded_cse_by_len = load_gen('cseZ2star_m.txt', unhash_word, 1)\n",
    "# for (n,r) in sorted(cse_by_len):\n",
    "#     print(n,r,len(loaded_cse_by_len[(n,r)]))\n",
    "#     if  loaded_cse_by_len[(n,r)] != cse_by_len[(n,r)]:\n",
    "#         print('\\t', loaded_cse_by_len[(n,r)][:5], cse_by_len[(n,r)][:5])\n",
    "# print(set(cse_by_len)==set(loaded_cse_by_len))\n",
    "# print({(type(n),type(r)) for n,r in cse_by_len})\n",
    "\n",
    "cse_by_len = load_gen('cseZ2star_m.txt', unhash_word, 1)\n"
   ]
  },
  {
   "cell_type": "markdown",
   "metadata": {},
   "source": [
    "Now we compute $P_n(m)$ for $n=0,1,...,maxlen$. Obesrve that \n",
    "$$P_n(m)=\\sum_{\\sum{\\lambda_i}=n,\\ \\lambda_i>0}\\prod_{i}\\bar{P}_{\\lambda_i}^*(m)=\\sum_{\\sum{\\mu_i}=\\frac{n}{2},\\ \\mu_i>0}\\prod_{i}\\bar{P}_{2\\mu_i}^*(m)$$ for $n$ even. Of course, we first need to compute $\\bar{P}_n(m)$."
   ]
  },
  {
   "cell_type": "code",
   "execution_count": 172,
   "metadata": {},
   "outputs": [],
   "source": [
    "def print_counts(ctlist,title=''):\n",
    "    if title:\n",
    "        pretty_print(LatexExpr('\\\\textbf{%s}'%title))\n",
    "    for n, ct in enumerate(ctlist):\n",
    "        pretty_print(LatexExpr('n=%d:'%n),ct)\n"
   ]
  },
  {
   "cell_type": "code",
   "execution_count": 161,
   "metadata": {},
   "outputs": [],
   "source": [
    "se_counts_by_length = [1,0]\n",
    "\n",
    "while len(se_counts_by_length)<=maxlen:\n",
    "    ct = 0\n",
    "    n = len(se_counts_by_length)\n",
    "    n = ZZ(n)\n",
    "    if n%2:\n",
    "        se_counts_by_length.append(ct)\n",
    "        continue\n",
    "    for r in (0..n/2):\n",
    "        if (n,r) in cse_by_len:\n",
    "            ct += ZZ(len(cse_by_len[(n,r)]))*falling_factorial(m,r)\n",
    "    ct = ct.expand().simplify_full()\n",
    "    se_counts_by_length.append(ct)"
   ]
  },
  {
   "cell_type": "code",
   "execution_count": 174,
   "metadata": {},
   "outputs": [
    {
     "data": {
      "text/html": [
       "<html><script type=\"math/tex; mode=display\">\\newcommand{\\Bold}[1]{\\mathbf{#1}}\\textbf{Simple Excursion Count}</script></html>"
      ],
      "text/plain": [
       "\\textbf{Simple Excursion Count}"
      ]
     },
     "metadata": {},
     "output_type": "display_data"
    },
    {
     "data": {
      "text/html": [
       "<html><script type=\"math/tex; mode=display\">\\newcommand{\\Bold}[1]{\\mathbf{#1}}n=0: 1</script></html>"
      ],
      "text/plain": [
       "n=0: 1"
      ]
     },
     "metadata": {},
     "output_type": "display_data"
    },
    {
     "data": {
      "text/html": [
       "<html><script type=\"math/tex; mode=display\">\\newcommand{\\Bold}[1]{\\mathbf{#1}}n=1: 0</script></html>"
      ],
      "text/plain": [
       "n=1: 0"
      ]
     },
     "metadata": {},
     "output_type": "display_data"
    },
    {
     "data": {
      "text/html": [
       "<html><script type=\"math/tex; mode=display\">\\newcommand{\\Bold}[1]{\\mathbf{#1}}n=2: m</script></html>"
      ],
      "text/plain": [
       "n=2: m"
      ]
     },
     "metadata": {},
     "output_type": "display_data"
    },
    {
     "data": {
      "text/html": [
       "<html><script type=\"math/tex; mode=display\">\\newcommand{\\Bold}[1]{\\mathbf{#1}}n=3: 0</script></html>"
      ],
      "text/plain": [
       "n=3: 0"
      ]
     },
     "metadata": {},
     "output_type": "display_data"
    },
    {
     "data": {
      "text/html": [
       "<html><script type=\"math/tex; mode=display\">\\newcommand{\\Bold}[1]{\\mathbf{#1}}n=4: m^{2} - m</script></html>"
      ],
      "text/plain": [
       "n=4: m^2 - m"
      ]
     },
     "metadata": {},
     "output_type": "display_data"
    },
    {
     "data": {
      "text/html": [
       "<html><script type=\"math/tex; mode=display\">\\newcommand{\\Bold}[1]{\\mathbf{#1}}n=5: 0</script></html>"
      ],
      "text/plain": [
       "n=5: 0"
      ]
     },
     "metadata": {},
     "output_type": "display_data"
    },
    {
     "data": {
      "text/html": [
       "<html><script type=\"math/tex; mode=display\">\\newcommand{\\Bold}[1]{\\mathbf{#1}}n=6: 2 \\, m^{3} - 4 \\, m^{2} + 2 \\, m</script></html>"
      ],
      "text/plain": [
       "n=6: 2*m^3 - 4*m^2 + 2*m"
      ]
     },
     "metadata": {},
     "output_type": "display_data"
    },
    {
     "data": {
      "text/html": [
       "<html><script type=\"math/tex; mode=display\">\\newcommand{\\Bold}[1]{\\mathbf{#1}}n=7: 0</script></html>"
      ],
      "text/plain": [
       "n=7: 0"
      ]
     },
     "metadata": {},
     "output_type": "display_data"
    },
    {
     "data": {
      "text/html": [
       "<html><script type=\"math/tex; mode=display\">\\newcommand{\\Bold}[1]{\\mathbf{#1}}n=8: 5 \\, m^{4} - 15 \\, m^{3} + 15 \\, m^{2} - 5 \\, m</script></html>"
      ],
      "text/plain": [
       "n=8: 5*m^4 - 15*m^3 + 15*m^2 - 5*m"
      ]
     },
     "metadata": {},
     "output_type": "display_data"
    },
    {
     "data": {
      "text/html": [
       "<html><script type=\"math/tex; mode=display\">\\newcommand{\\Bold}[1]{\\mathbf{#1}}n=9: 0</script></html>"
      ],
      "text/plain": [
       "n=9: 0"
      ]
     },
     "metadata": {},
     "output_type": "display_data"
    },
    {
     "data": {
      "text/html": [
       "<html><script type=\"math/tex; mode=display\">\\newcommand{\\Bold}[1]{\\mathbf{#1}}n=10: 14 \\, m^{5} - 56 \\, m^{4} + 84 \\, m^{3} - 56 \\, m^{2} + 14 \\, m</script></html>"
      ],
      "text/plain": [
       "n=10: 14*m^5 - 56*m^4 + 84*m^3 - 56*m^2 + 14*m"
      ]
     },
     "metadata": {},
     "output_type": "display_data"
    },
    {
     "data": {
      "text/html": [
       "<html><script type=\"math/tex; mode=display\">\\newcommand{\\Bold}[1]{\\mathbf{#1}}n=11: 0</script></html>"
      ],
      "text/plain": [
       "n=11: 0"
      ]
     },
     "metadata": {},
     "output_type": "display_data"
    },
    {
     "data": {
      "text/html": [
       "<html><script type=\"math/tex; mode=display\">\\newcommand{\\Bold}[1]{\\mathbf{#1}}n=12: 42 \\, m^{6} - 210 \\, m^{5} + 420 \\, m^{4} - 420 \\, m^{3} + 210 \\, m^{2} - 42 \\, m</script></html>"
      ],
      "text/plain": [
       "n=12: 42*m^6 - 210*m^5 + 420*m^4 - 420*m^3 + 210*m^2 - 42*m"
      ]
     },
     "metadata": {},
     "output_type": "display_data"
    },
    {
     "data": {
      "text/html": [
       "<html><script type=\"math/tex; mode=display\">\\newcommand{\\Bold}[1]{\\mathbf{#1}}n=13: 0</script></html>"
      ],
      "text/plain": [
       "n=13: 0"
      ]
     },
     "metadata": {},
     "output_type": "display_data"
    },
    {
     "data": {
      "text/html": [
       "<html><script type=\"math/tex; mode=display\">\\newcommand{\\Bold}[1]{\\mathbf{#1}}n=14: 132 \\, m^{7} - 792 \\, m^{6} + 1980 \\, m^{5} - 2640 \\, m^{4} + 1980 \\, m^{3} - 792 \\, m^{2} + 132 \\, m</script></html>"
      ],
      "text/plain": [
       "n=14: 132*m^7 - 792*m^6 + 1980*m^5 - 2640*m^4 + 1980*m^3 - 792*m^2 + 132*m"
      ]
     },
     "metadata": {},
     "output_type": "display_data"
    },
    {
     "data": {
      "text/html": [
       "<html><script type=\"math/tex; mode=display\">\\newcommand{\\Bold}[1]{\\mathbf{#1}}n=15: 0</script></html>"
      ],
      "text/plain": [
       "n=15: 0"
      ]
     },
     "metadata": {},
     "output_type": "display_data"
    },
    {
     "data": {
      "text/html": [
       "<html><script type=\"math/tex; mode=display\">\\newcommand{\\Bold}[1]{\\mathbf{#1}}n=16: 429 \\, m^{8} - 3003 \\, m^{7} + 9009 \\, m^{6} - 15015 \\, m^{5} + 15015 \\, m^{4} - 9009 \\, m^{3} + 3003 \\, m^{2} - 429 \\, m</script></html>"
      ],
      "text/plain": [
       "n=16: 429*m^8 - 3003*m^7 + 9009*m^6 - 15015*m^5 + 15015*m^4 - 9009*m^3 + 3003*m^2 - 429*m"
      ]
     },
     "metadata": {},
     "output_type": "display_data"
    },
    {
     "data": {
      "text/html": [
       "<html><script type=\"math/tex; mode=display\">\\newcommand{\\Bold}[1]{\\mathbf{#1}}n=17: 0</script></html>"
      ],
      "text/plain": [
       "n=17: 0"
      ]
     },
     "metadata": {},
     "output_type": "display_data"
    },
    {
     "data": {
      "text/html": [
       "<html><script type=\"math/tex; mode=display\">\\newcommand{\\Bold}[1]{\\mathbf{#1}}n=18: 1430 \\, m^{9} - 11440 \\, m^{8} + 40040 \\, m^{7} - 80080 \\, m^{6} + 100100 \\, m^{5} - 80080 \\, m^{4} + 40040 \\, m^{3} - 11440 \\, m^{2} + 1430 \\, m</script></html>"
      ],
      "text/plain": [
       "n=18: 1430*m^9 - 11440*m^8 + 40040*m^7 - 80080*m^6 + 100100*m^5 - 80080*m^4 + 40040*m^3 - 11440*m^2 + 1430*m"
      ]
     },
     "metadata": {},
     "output_type": "display_data"
    }
   ],
   "source": [
    "print_counts(se_counts_by_length, 'Simple Excursion Count')"
   ]
  },
  {
   "cell_type": "code",
   "execution_count": null,
   "metadata": {},
   "outputs": [],
   "source": [
    "exc_counts_by_length = [1,0]\n",
    "while len(exc_counts_by_length)<=maxlen:\n",
    "    ct = 0\n",
    "    n = len(exc_counts_by_length)\n",
    "    n = ZZ(n)\n",
    "    if n%2:\n",
    "        exc_counts_by_length.append(ct)\n",
    "        continue\n",
    "    \n",
    "    for miu in Compositions(ZZ(n/2)):\n",
    "        term = 1\n",
    "        for el in miu:\n",
    "            term *= se_counts_by_length[el*2]\n",
    "        ct+= term\n",
    "    ct= ct.expand()\n",
    "    exc_counts_by_length.append(ct)"
   ]
  },
  {
   "cell_type": "code",
   "execution_count": 175,
   "metadata": {},
   "outputs": [
    {
     "data": {
      "text/html": [
       "<html><script type=\"math/tex; mode=display\">\\newcommand{\\Bold}[1]{\\mathbf{#1}}\\textbf{Excursion Count}</script></html>"
      ],
      "text/plain": [
       "\\textbf{Excursion Count}"
      ]
     },
     "metadata": {},
     "output_type": "display_data"
    },
    {
     "data": {
      "text/html": [
       "<html><script type=\"math/tex; mode=display\">\\newcommand{\\Bold}[1]{\\mathbf{#1}}n=0: 1</script></html>"
      ],
      "text/plain": [
       "n=0: 1"
      ]
     },
     "metadata": {},
     "output_type": "display_data"
    },
    {
     "data": {
      "text/html": [
       "<html><script type=\"math/tex; mode=display\">\\newcommand{\\Bold}[1]{\\mathbf{#1}}n=1: 0</script></html>"
      ],
      "text/plain": [
       "n=1: 0"
      ]
     },
     "metadata": {},
     "output_type": "display_data"
    },
    {
     "data": {
      "text/html": [
       "<html><script type=\"math/tex; mode=display\">\\newcommand{\\Bold}[1]{\\mathbf{#1}}n=2: m</script></html>"
      ],
      "text/plain": [
       "n=2: m"
      ]
     },
     "metadata": {},
     "output_type": "display_data"
    },
    {
     "data": {
      "text/html": [
       "<html><script type=\"math/tex; mode=display\">\\newcommand{\\Bold}[1]{\\mathbf{#1}}n=3: 0</script></html>"
      ],
      "text/plain": [
       "n=3: 0"
      ]
     },
     "metadata": {},
     "output_type": "display_data"
    },
    {
     "data": {
      "text/html": [
       "<html><script type=\"math/tex; mode=display\">\\newcommand{\\Bold}[1]{\\mathbf{#1}}n=4: 2 \\, m^{2} - m</script></html>"
      ],
      "text/plain": [
       "n=4: 2*m^2 - m"
      ]
     },
     "metadata": {},
     "output_type": "display_data"
    },
    {
     "data": {
      "text/html": [
       "<html><script type=\"math/tex; mode=display\">\\newcommand{\\Bold}[1]{\\mathbf{#1}}n=5: 0</script></html>"
      ],
      "text/plain": [
       "n=5: 0"
      ]
     },
     "metadata": {},
     "output_type": "display_data"
    },
    {
     "data": {
      "text/html": [
       "<html><script type=\"math/tex; mode=display\">\\newcommand{\\Bold}[1]{\\mathbf{#1}}n=6: 5 \\, m^{3} - 6 \\, m^{2} + 2 \\, m</script></html>"
      ],
      "text/plain": [
       "n=6: 5*m^3 - 6*m^2 + 2*m"
      ]
     },
     "metadata": {},
     "output_type": "display_data"
    },
    {
     "data": {
      "text/html": [
       "<html><script type=\"math/tex; mode=display\">\\newcommand{\\Bold}[1]{\\mathbf{#1}}n=7: 0</script></html>"
      ],
      "text/plain": [
       "n=7: 0"
      ]
     },
     "metadata": {},
     "output_type": "display_data"
    },
    {
     "data": {
      "text/html": [
       "<html><script type=\"math/tex; mode=display\">\\newcommand{\\Bold}[1]{\\mathbf{#1}}n=8: 14 \\, m^{4} - 28 \\, m^{3} + 20 \\, m^{2} - 5 \\, m</script></html>"
      ],
      "text/plain": [
       "n=8: 14*m^4 - 28*m^3 + 20*m^2 - 5*m"
      ]
     },
     "metadata": {},
     "output_type": "display_data"
    },
    {
     "data": {
      "text/html": [
       "<html><script type=\"math/tex; mode=display\">\\newcommand{\\Bold}[1]{\\mathbf{#1}}n=9: 0</script></html>"
      ],
      "text/plain": [
       "n=9: 0"
      ]
     },
     "metadata": {},
     "output_type": "display_data"
    },
    {
     "data": {
      "text/html": [
       "<html><script type=\"math/tex; mode=display\">\\newcommand{\\Bold}[1]{\\mathbf{#1}}n=10: 42 \\, m^{5} - 120 \\, m^{4} + 135 \\, m^{3} - 70 \\, m^{2} + 14 \\, m</script></html>"
      ],
      "text/plain": [
       "n=10: 42*m^5 - 120*m^4 + 135*m^3 - 70*m^2 + 14*m"
      ]
     },
     "metadata": {},
     "output_type": "display_data"
    },
    {
     "data": {
      "text/html": [
       "<html><script type=\"math/tex; mode=display\">\\newcommand{\\Bold}[1]{\\mathbf{#1}}n=11: 0</script></html>"
      ],
      "text/plain": [
       "n=11: 0"
      ]
     },
     "metadata": {},
     "output_type": "display_data"
    },
    {
     "data": {
      "text/html": [
       "<html><script type=\"math/tex; mode=display\">\\newcommand{\\Bold}[1]{\\mathbf{#1}}n=12: 132 \\, m^{6} - 495 \\, m^{5} + 770 \\, m^{4} - 616 \\, m^{3} + 252 \\, m^{2} - 42 \\, m</script></html>"
      ],
      "text/plain": [
       "n=12: 132*m^6 - 495*m^5 + 770*m^4 - 616*m^3 + 252*m^2 - 42*m"
      ]
     },
     "metadata": {},
     "output_type": "display_data"
    },
    {
     "data": {
      "text/html": [
       "<html><script type=\"math/tex; mode=display\">\\newcommand{\\Bold}[1]{\\mathbf{#1}}n=13: 0</script></html>"
      ],
      "text/plain": [
       "n=13: 0"
      ]
     },
     "metadata": {},
     "output_type": "display_data"
    },
    {
     "data": {
      "text/html": [
       "<html><script type=\"math/tex; mode=display\">\\newcommand{\\Bold}[1]{\\mathbf{#1}}n=14: 429 \\, m^{7} - 2002 \\, m^{6} + 4004 \\, m^{5} - 4368 \\, m^{4} + 2730 \\, m^{3} - 924 \\, m^{2} + 132 \\, m</script></html>"
      ],
      "text/plain": [
       "n=14: 429*m^7 - 2002*m^6 + 4004*m^5 - 4368*m^4 + 2730*m^3 - 924*m^2 + 132*m"
      ]
     },
     "metadata": {},
     "output_type": "display_data"
    },
    {
     "data": {
      "text/html": [
       "<html><script type=\"math/tex; mode=display\">\\newcommand{\\Bold}[1]{\\mathbf{#1}}n=15: 0</script></html>"
      ],
      "text/plain": [
       "n=15: 0"
      ]
     },
     "metadata": {},
     "output_type": "display_data"
    },
    {
     "data": {
      "text/html": [
       "<html><script type=\"math/tex; mode=display\">\\newcommand{\\Bold}[1]{\\mathbf{#1}}n=16: 1430 \\, m^{8} - 8008 \\, m^{7} + 19656 \\, m^{6} - 27300 \\, m^{5} + 23100 \\, m^{4} - 11880 \\, m^{3} + 3432 \\, m^{2} - 429 \\, m</script></html>"
      ],
      "text/plain": [
       "n=16: 1430*m^8 - 8008*m^7 + 19656*m^6 - 27300*m^5 + 23100*m^4 - 11880*m^3 + 3432*m^2 - 429*m"
      ]
     },
     "metadata": {},
     "output_type": "display_data"
    },
    {
     "data": {
      "text/html": [
       "<html><script type=\"math/tex; mode=display\">\\newcommand{\\Bold}[1]{\\mathbf{#1}}n=17: 0</script></html>"
      ],
      "text/plain": [
       "n=17: 0"
      ]
     },
     "metadata": {},
     "output_type": "display_data"
    },
    {
     "data": {
      "text/html": [
       "<html><script type=\"math/tex; mode=display\">\\newcommand{\\Bold}[1]{\\mathbf{#1}}n=18: 4862 \\, m^{9} - 31824 \\, m^{8} + 92820 \\, m^{7} - 157080 \\, m^{6} + 168300 \\, m^{5} - 116688 \\, m^{4} + 51051 \\, m^{3} - 12870 \\, m^{2} + 1430 \\, m</script></html>"
      ],
      "text/plain": [
       "n=18: 4862*m^9 - 31824*m^8 + 92820*m^7 - 157080*m^6 + 168300*m^5 - 116688*m^4 + 51051*m^3 - 12870*m^2 + 1430*m"
      ]
     },
     "metadata": {},
     "output_type": "display_data"
    }
   ],
   "source": [
    "print_counts(exc_counts_by_length, 'Excursion Count')"
   ]
  },
  {
   "cell_type": "code",
   "execution_count": null,
   "metadata": {},
   "outputs": [],
   "source": []
  }
 ],
 "metadata": {
  "kernelspec": {
   "display_name": "SageMath 9.0",
   "language": "sage",
   "name": "sagemath"
  },
  "language_info": {
   "codemirror_mode": {
    "name": "ipython",
    "version": 3
   },
   "file_extension": ".py",
   "mimetype": "text/x-python",
   "name": "python",
   "nbconvert_exporter": "python",
   "pygments_lexer": "ipython3",
   "version": "3.7.3"
  }
 },
 "nbformat": 4,
 "nbformat_minor": 2
}
